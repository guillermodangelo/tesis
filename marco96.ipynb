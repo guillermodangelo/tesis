{
 "cells": [
  {
   "cell_type": "code",
   "execution_count": 1,
   "id": "33303b2d",
   "metadata": {},
   "outputs": [],
   "source": [
    "import pandas as pd\n",
    "import numpy as np\n",
    "from functions.cargar_data import *"
   ]
  },
  {
   "cell_type": "code",
   "execution_count": null,
   "id": "98b84e4e",
   "metadata": {},
   "outputs": [],
   "source": [
    "file = 'marcos_censales/MARCO96.xls'\n",
    "marco96 = pd.read_excel(file)\n",
    "marco96.head(2)"
   ]
  },
  {
   "cell_type": "code",
   "execution_count": null,
   "id": "7c542f17",
   "metadata": {},
   "outputs": [],
   "source": [
    "h = marco96.HOMBRESPAR.sum() + marco96.HOMBRESCOL.sum()\n",
    "m = marco96.MUJERESPAR.sum() + marco96.MUJERESCOL.sum()"
   ]
  },
  {
   "cell_type": "code",
   "execution_count": null,
   "id": "302098f5",
   "metadata": {},
   "outputs": [],
   "source": [
    "h+m"
   ]
  },
  {
   "cell_type": "code",
   "execution_count": null,
   "id": "6a179ec2",
   "metadata": {},
   "outputs": [],
   "source": [
    "def get_codseg(df):\n",
    "    codseg = df.DPTO.astype(str) + pad(df, 'SECC', 2) + pad(df, 'SEGM', 3)\n",
    "    return codseg"
   ]
  },
  {
   "cell_type": "code",
   "execution_count": null,
   "id": "5d9bcff7",
   "metadata": {},
   "outputs": [],
   "source": [
    "marco96['codseg'] = get_codseg(marco96)"
   ]
  },
  {
   "cell_type": "code",
   "execution_count": null,
   "id": "c27dacbc",
   "metadata": {},
   "outputs": [],
   "source": []
  }
 ],
 "metadata": {
  "kernelspec": {
   "display_name": "Python 3",
   "language": "python",
   "name": "python3"
  },
  "language_info": {
   "codemirror_mode": {
    "name": "ipython",
    "version": 3
   },
   "file_extension": ".py",
   "mimetype": "text/x-python",
   "name": "python",
   "nbconvert_exporter": "python",
   "pygments_lexer": "ipython3",
   "version": "3.9.2"
  }
 },
 "nbformat": 4,
 "nbformat_minor": 5
}
