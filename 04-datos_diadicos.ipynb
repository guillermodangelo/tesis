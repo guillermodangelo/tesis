{
 "metadata": {
  "language_info": {
   "codemirror_mode": {
    "name": "ipython",
    "version": 3
   },
   "file_extension": ".py",
   "mimetype": "text/x-python",
   "name": "python",
   "nbconvert_exporter": "python",
   "pygments_lexer": "ipython3",
   "version": "3.9.2-final"
  },
  "orig_nbformat": 2,
  "kernelspec": {
   "name": "python392jvsc74a57bd05ce838cc175eb9c7ee2cce823ae805de6106cb4564d9fc7b3476b35fac8c9293",
   "display_name": "Python 3.9.2 64-bit ('tesis': conda)"
  },
  "metadata": {
   "interpreter": {
    "hash": "5ce838cc175eb9c7ee2cce823ae805de6106cb4564d9fc7b3476b35fac8c9293"
   }
  }
 },
 "nbformat": 4,
 "nbformat_minor": 2,
 "cells": [
  {
   "cell_type": "code",
   "execution_count": 28,
   "metadata": {},
   "outputs": [],
   "source": [
    "import pandas as pd\n",
    "import geopandas as gpd\n",
    "import numpy as np\n",
    "\n",
    "from shapely import wkt\n",
    "from shapely.geometry import shape, LineString, Point\n",
    "from IPython.display import Markdown, display\n",
    "    \n",
    "from functions.agrupar_dfs_censo import *\n",
    "from functions.cargar_data import *"
   ]
  },
  {
   "cell_type": "code",
   "execution_count": 31,
   "metadata": {},
   "outputs": [
    {
     "output_type": "execute_result",
     "data": {
      "text/plain": [
       "   DPTO  miles_de_pesos porcentaje_pbi\n",
       "0     2        14214980            1,5\n",
       "1     3        86306492            9,3\n",
       "2     4        17048887            1,8\n",
       "3     5        43788749            4,7\n",
       "4     6        13023942            1,4"
      ],
      "text/html": "<div>\n<style scoped>\n    .dataframe tbody tr th:only-of-type {\n        vertical-align: middle;\n    }\n\n    .dataframe tbody tr th {\n        vertical-align: top;\n    }\n\n    .dataframe thead th {\n        text-align: right;\n    }\n</style>\n<table border=\"1\" class=\"dataframe\">\n  <thead>\n    <tr style=\"text-align: right;\">\n      <th></th>\n      <th>DPTO</th>\n      <th>miles_de_pesos</th>\n      <th>porcentaje_pbi</th>\n    </tr>\n  </thead>\n  <tbody>\n    <tr>\n      <th>0</th>\n      <td>2</td>\n      <td>14214980</td>\n      <td>1,5</td>\n    </tr>\n    <tr>\n      <th>1</th>\n      <td>3</td>\n      <td>86306492</td>\n      <td>9,3</td>\n    </tr>\n    <tr>\n      <th>2</th>\n      <td>4</td>\n      <td>17048887</td>\n      <td>1,8</td>\n    </tr>\n    <tr>\n      <th>3</th>\n      <td>5</td>\n      <td>43788749</td>\n      <td>4,7</td>\n    </tr>\n    <tr>\n      <th>4</th>\n      <td>6</td>\n      <td>13023942</td>\n      <td>1,4</td>\n    </tr>\n  </tbody>\n</table>\n</div>"
     },
     "metadata": {},
     "execution_count": 31
    }
   ],
   "source": [
    "pbi = cargar_pbi()\n",
    "pbi.head()"
   ]
  },
  {
   "cell_type": "code",
   "execution_count": 32,
   "metadata": {},
   "outputs": [
    {
     "output_type": "execute_result",
     "data": {
      "text/plain": [
       "   cod_ori  cod_des  cod  distancia\n",
       "0        1        2  102     610726\n",
       "1        1        3  103      22544\n",
       "2        1        4  104     393703\n",
       "3        1        5  105     172773\n",
       "4        1        6  106     198970"
      ],
      "text/html": "<div>\n<style scoped>\n    .dataframe tbody tr th:only-of-type {\n        vertical-align: middle;\n    }\n\n    .dataframe tbody tr th {\n        vertical-align: top;\n    }\n\n    .dataframe thead th {\n        text-align: right;\n    }\n</style>\n<table border=\"1\" class=\"dataframe\">\n  <thead>\n    <tr style=\"text-align: right;\">\n      <th></th>\n      <th>cod_ori</th>\n      <th>cod_des</th>\n      <th>cod</th>\n      <th>distancia</th>\n    </tr>\n  </thead>\n  <tbody>\n    <tr>\n      <th>0</th>\n      <td>1</td>\n      <td>2</td>\n      <td>102</td>\n      <td>610726</td>\n    </tr>\n    <tr>\n      <th>1</th>\n      <td>1</td>\n      <td>3</td>\n      <td>103</td>\n      <td>22544</td>\n    </tr>\n    <tr>\n      <th>2</th>\n      <td>1</td>\n      <td>4</td>\n      <td>104</td>\n      <td>393703</td>\n    </tr>\n    <tr>\n      <th>3</th>\n      <td>1</td>\n      <td>5</td>\n      <td>105</td>\n      <td>172773</td>\n    </tr>\n    <tr>\n      <th>4</th>\n      <td>1</td>\n      <td>6</td>\n      <td>106</td>\n      <td>198970</td>\n    </tr>\n  </tbody>\n</table>\n</div>"
     },
     "metadata": {},
     "execution_count": 32
    }
   ],
   "source": [
    "md = cargar_matriz_distancias()\n",
    "md.head()"
   ]
  },
  {
   "cell_type": "code",
   "execution_count": 34,
   "metadata": {},
   "outputs": [
    {
     "output_type": "execute_result",
     "data": {
      "text/plain": [
       "   cod  largo_limite\n",
       "0  103         60107\n",
       "1  116          5400\n",
       "2  215        197272\n",
       "3  413         64044\n",
       "4  516         67607"
      ],
      "text/html": "<div>\n<style scoped>\n    .dataframe tbody tr th:only-of-type {\n        vertical-align: middle;\n    }\n\n    .dataframe tbody tr th {\n        vertical-align: top;\n    }\n\n    .dataframe thead th {\n        text-align: right;\n    }\n</style>\n<table border=\"1\" class=\"dataframe\">\n  <thead>\n    <tr style=\"text-align: right;\">\n      <th></th>\n      <th>cod</th>\n      <th>largo_limite</th>\n    </tr>\n  </thead>\n  <tbody>\n    <tr>\n      <th>0</th>\n      <td>103</td>\n      <td>60107</td>\n    </tr>\n    <tr>\n      <th>1</th>\n      <td>116</td>\n      <td>5400</td>\n    </tr>\n    <tr>\n      <th>2</th>\n      <td>215</td>\n      <td>197272</td>\n    </tr>\n    <tr>\n      <th>3</th>\n      <td>413</td>\n      <td>64044</td>\n    </tr>\n    <tr>\n      <th>4</th>\n      <td>516</td>\n      <td>67607</td>\n    </tr>\n  </tbody>\n</table>\n</div>"
     },
     "metadata": {},
     "execution_count": 34
    }
   ],
   "source": [
    "vecindad = cargar_vecindad()\n",
    "vecindad.head()"
   ]
  },
  {
   "cell_type": "code",
   "execution_count": 35,
   "metadata": {},
   "outputs": [
    {
     "output_type": "stream",
     "name": "stderr",
     "text": [
      "/home/guillermo/anaconda3/envs/tesis/lib/python3.9/site-packages/geopandas/geodataframe.py:577: RuntimeWarning: Sequential read of iterator was interrupted. Resetting iterator. This can negatively impact the performance.\n  for feature in features_lst:\n"
     ]
    }
   ],
   "source": [
    "deptos, deptos_sim, localidad, centro_pobl, capital = cargar_datos_geo()"
   ]
  }
 ]
}