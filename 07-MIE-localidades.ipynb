{
 "metadata": {
  "language_info": {
   "codemirror_mode": {
    "name": "ipython",
    "version": 3
   },
   "file_extension": ".py",
   "mimetype": "text/x-python",
   "name": "python",
   "nbconvert_exporter": "python",
   "pygments_lexer": "ipython3",
   "version": "3.9.2"
  },
  "orig_nbformat": 2,
  "kernelspec": {
   "name": "python392jvsc74a57bd05ce838cc175eb9c7ee2cce823ae805de6106cb4564d9fc7b3476b35fac8c9293",
   "display_name": "Python 3.9.2 64-bit ('tesis': conda)"
  },
  "metadata": {
   "interpreter": {
    "hash": "5ce838cc175eb9c7ee2cce823ae805de6106cb4564d9fc7b3476b35fac8c9293"
   }
  }
 },
 "nbformat": 4,
 "nbformat_minor": 2,
 "cells": [
  {
   "cell_type": "code",
   "execution_count": 2,
   "metadata": {},
   "outputs": [],
   "source": [
    "import pandas as pd\n",
    "import geopandas as gpd\n",
    "import os\n",
    "import matplotlib.pyplot as plt\n",
    "import pylab as pl\n",
    "import numpy as np\n",
    "import statsmodels.api as sm\n",
    "import statsmodels.formula.api as smf\n",
    "import tabulate\n",
    "from operator import add\n",
    "\n",
    "from shapely import wkt\n",
    "from shapely.geometry import shape, LineString, Point\n",
    "    \n",
    "# funciones desarrolladas\n",
    "from functions.agrupar_dfs_censo import *\n",
    "from functions.cargar_data import *\n",
    "from functions.impresion import *"
   ]
  },
  {
   "cell_type": "code",
   "execution_count": 46,
   "metadata": {},
   "outputs": [
    {
     "output_type": "stream",
     "name": "stdout",
     "text": [
      "8791\n"
     ]
    },
    {
     "output_type": "execute_result",
     "data": {
      "text/plain": [
       "   loc_origen  loc_destino  personas_mig  pobl_origen  pobl_destino       cod  \\\n",
       "0        1020         2220           635      1304729         40657  10202220   \n",
       "1        3221         2220             5        71258         40657  32212220   \n",
       "2        3320         2220            10        19865         40657  33202220   \n",
       "3        3321         2220             1        20524         40657  33212220   \n",
       "4        3322         2220             1        25947         40657  33222220   \n",
       "\n",
       "   distancia_m  \n",
       "0       583715  \n",
       "1       570608  \n",
       "2       547145  \n",
       "3       573837  \n",
       "4       583158  "
      ],
      "text/html": "<div>\n<style scoped>\n    .dataframe tbody tr th:only-of-type {\n        vertical-align: middle;\n    }\n\n    .dataframe tbody tr th {\n        vertical-align: top;\n    }\n\n    .dataframe thead th {\n        text-align: right;\n    }\n</style>\n<table border=\"1\" class=\"dataframe\">\n  <thead>\n    <tr style=\"text-align: right;\">\n      <th></th>\n      <th>loc_origen</th>\n      <th>loc_destino</th>\n      <th>personas_mig</th>\n      <th>pobl_origen</th>\n      <th>pobl_destino</th>\n      <th>cod</th>\n      <th>distancia_m</th>\n    </tr>\n  </thead>\n  <tbody>\n    <tr>\n      <th>0</th>\n      <td>1020</td>\n      <td>2220</td>\n      <td>635</td>\n      <td>1304729</td>\n      <td>40657</td>\n      <td>10202220</td>\n      <td>583715</td>\n    </tr>\n    <tr>\n      <th>1</th>\n      <td>3221</td>\n      <td>2220</td>\n      <td>5</td>\n      <td>71258</td>\n      <td>40657</td>\n      <td>32212220</td>\n      <td>570608</td>\n    </tr>\n    <tr>\n      <th>2</th>\n      <td>3320</td>\n      <td>2220</td>\n      <td>10</td>\n      <td>19865</td>\n      <td>40657</td>\n      <td>33202220</td>\n      <td>547145</td>\n    </tr>\n    <tr>\n      <th>3</th>\n      <td>3321</td>\n      <td>2220</td>\n      <td>1</td>\n      <td>20524</td>\n      <td>40657</td>\n      <td>33212220</td>\n      <td>573837</td>\n    </tr>\n    <tr>\n      <th>4</th>\n      <td>3322</td>\n      <td>2220</td>\n      <td>1</td>\n      <td>25947</td>\n      <td>40657</td>\n      <td>33222220</td>\n      <td>583158</td>\n    </tr>\n  </tbody>\n</table>\n</div>"
     },
     "metadata": {},
     "execution_count": 46
    }
   ],
   "source": [
    "dd = pd.read_csv('tablas/dd_localidades.csv')\n",
    "print(dd.shape[0])\n",
    "dd.head()"
   ]
  },
  {
   "cell_type": "code",
   "execution_count": 42,
   "metadata": {},
   "outputs": [
    {
     "output_type": "stream",
     "name": "stderr",
     "text": [
      "/home/guillermo/anaconda3/envs/tesis/lib/python3.9/site-packages/geopandas/geodataframe.py:577: RuntimeWarning: Sequential read of iterator was interrupted. Resetting iterator. This can negatively impact the performance.\n  for feature in features_lst:\n"
     ]
    },
    {
     "output_type": "execute_result",
     "data": {
      "text/plain": [
       "   CODLOC                        geometry\n",
       "0    2220  POINT (549273.219 6633915.063)\n",
       "1    2521  POINT (442454.671 6652273.541)\n",
       "2    2522  POINT (457921.001 6633361.660)\n",
       "3    2621  POINT (468458.270 6601361.867)\n",
       "4    2721  POINT (502880.928 6648162.053)"
      ],
      "text/html": "<div>\n<style scoped>\n    .dataframe tbody tr th:only-of-type {\n        vertical-align: middle;\n    }\n\n    .dataframe tbody tr th {\n        vertical-align: top;\n    }\n\n    .dataframe thead th {\n        text-align: right;\n    }\n</style>\n<table border=\"1\" class=\"dataframe\">\n  <thead>\n    <tr style=\"text-align: right;\">\n      <th></th>\n      <th>CODLOC</th>\n      <th>geometry</th>\n    </tr>\n  </thead>\n  <tbody>\n    <tr>\n      <th>0</th>\n      <td>2220</td>\n      <td>POINT (549273.219 6633915.063)</td>\n    </tr>\n    <tr>\n      <th>1</th>\n      <td>2521</td>\n      <td>POINT (442454.671 6652273.541)</td>\n    </tr>\n    <tr>\n      <th>2</th>\n      <td>2522</td>\n      <td>POINT (457921.001 6633361.660)</td>\n    </tr>\n    <tr>\n      <th>3</th>\n      <td>2621</td>\n      <td>POINT (468458.270 6601361.867)</td>\n    </tr>\n    <tr>\n      <th>4</th>\n      <td>2721</td>\n      <td>POINT (502880.928 6648162.053)</td>\n    </tr>\n  </tbody>\n</table>\n</div>"
     },
     "metadata": {},
     "execution_count": 42
    }
   ],
   "source": [
    "locs = cargar_datos_geo()[2][['CODLOC', 'geometry']]\n",
    "locs.head()"
   ]
  },
  {
   "cell_type": "code",
   "execution_count": 43,
   "metadata": {},
   "outputs": [
    {
     "output_type": "execute_result",
     "data": {
      "text/plain": [
       "   loc_origen  loc_destino  personas_mig  pobl_origen  pobl_destino       cod  \\\n",
       "0        1020         2220           635      1304729         40657  10202220   \n",
       "1        3221         2220             5        71258         40657  32212220   \n",
       "2        3320         2220            10        19865         40657  33202220   \n",
       "3        3321         2220             1        20524         40657  33212220   \n",
       "4        3322         2220             1        25947         40657  33222220   \n",
       "\n",
       "   distancia_m                        geom_ori                        geom_des  \n",
       "0       583715  POINT (573082.248 6145008.434)  POINT (549273.219 6633915.063)  \n",
       "1       570608  POINT (571815.138 6157813.988)  POINT (549273.219 6633915.063)  \n",
       "2       547145  POINT (565955.641 6179409.202)  POINT (549273.219 6633915.063)  \n",
       "3       573837  POINT (570666.047 6153926.678)  POINT (549273.219 6633915.063)  \n",
       "4       583158  POINT (594619.163 6157118.215)  POINT (549273.219 6633915.063)  "
      ],
      "text/html": "<div>\n<style scoped>\n    .dataframe tbody tr th:only-of-type {\n        vertical-align: middle;\n    }\n\n    .dataframe tbody tr th {\n        vertical-align: top;\n    }\n\n    .dataframe thead th {\n        text-align: right;\n    }\n</style>\n<table border=\"1\" class=\"dataframe\">\n  <thead>\n    <tr style=\"text-align: right;\">\n      <th></th>\n      <th>loc_origen</th>\n      <th>loc_destino</th>\n      <th>personas_mig</th>\n      <th>pobl_origen</th>\n      <th>pobl_destino</th>\n      <th>cod</th>\n      <th>distancia_m</th>\n      <th>geom_ori</th>\n      <th>geom_des</th>\n    </tr>\n  </thead>\n  <tbody>\n    <tr>\n      <th>0</th>\n      <td>1020</td>\n      <td>2220</td>\n      <td>635</td>\n      <td>1304729</td>\n      <td>40657</td>\n      <td>10202220</td>\n      <td>583715</td>\n      <td>POINT (573082.248 6145008.434)</td>\n      <td>POINT (549273.219 6633915.063)</td>\n    </tr>\n    <tr>\n      <th>1</th>\n      <td>3221</td>\n      <td>2220</td>\n      <td>5</td>\n      <td>71258</td>\n      <td>40657</td>\n      <td>32212220</td>\n      <td>570608</td>\n      <td>POINT (571815.138 6157813.988)</td>\n      <td>POINT (549273.219 6633915.063)</td>\n    </tr>\n    <tr>\n      <th>2</th>\n      <td>3320</td>\n      <td>2220</td>\n      <td>10</td>\n      <td>19865</td>\n      <td>40657</td>\n      <td>33202220</td>\n      <td>547145</td>\n      <td>POINT (565955.641 6179409.202)</td>\n      <td>POINT (549273.219 6633915.063)</td>\n    </tr>\n    <tr>\n      <th>3</th>\n      <td>3321</td>\n      <td>2220</td>\n      <td>1</td>\n      <td>20524</td>\n      <td>40657</td>\n      <td>33212220</td>\n      <td>573837</td>\n      <td>POINT (570666.047 6153926.678)</td>\n      <td>POINT (549273.219 6633915.063)</td>\n    </tr>\n    <tr>\n      <th>4</th>\n      <td>3322</td>\n      <td>2220</td>\n      <td>1</td>\n      <td>25947</td>\n      <td>40657</td>\n      <td>33222220</td>\n      <td>583158</td>\n      <td>POINT (594619.163 6157118.215)</td>\n      <td>POINT (549273.219 6633915.063)</td>\n    </tr>\n  </tbody>\n</table>\n</div>"
     },
     "metadata": {},
     "execution_count": 43
    }
   ],
   "source": [
    "dd = dd.merge(locs, left_on='loc_origen', right_on='CODLOC')\n",
    "dd = dd.merge(locs, left_on='loc_destino', right_on='CODLOC')\n",
    "dd.drop(['CODLOC_x', 'CODLOC_y'], axis=1, inplace=True)\n",
    "dd.rename({'geometry_x':'geom_ori', 'geometry_y':'geom_des'}, axis=1, inplace=True)\n",
    "dd.head()"
   ]
  },
  {
   "cell_type": "code",
   "execution_count": 44,
   "metadata": {},
   "outputs": [],
   "source": [
    "dd.to_csv('capas/loc_lines.csv', index=False)"
   ]
  }
 ]
}