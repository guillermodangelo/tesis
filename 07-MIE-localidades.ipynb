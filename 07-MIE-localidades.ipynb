{
 "metadata": {
  "language_info": {
   "codemirror_mode": {
    "name": "ipython",
    "version": 3
   },
   "file_extension": ".py",
   "mimetype": "text/x-python",
   "name": "python",
   "nbconvert_exporter": "python",
   "pygments_lexer": "ipython3",
   "version": "3.9.2"
  },
  "orig_nbformat": 2,
  "kernelspec": {
   "name": "python392jvsc74a57bd05ce838cc175eb9c7ee2cce823ae805de6106cb4564d9fc7b3476b35fac8c9293",
   "display_name": "Python 3.9.2 64-bit ('tesis': conda)"
  },
  "metadata": {
   "interpreter": {
    "hash": "5ce838cc175eb9c7ee2cce823ae805de6106cb4564d9fc7b3476b35fac8c9293"
   }
  }
 },
 "nbformat": 4,
 "nbformat_minor": 2,
 "cells": [
  {
   "cell_type": "code",
   "execution_count": 5,
   "metadata": {},
   "outputs": [],
   "source": [
    "import pandas as pd\n",
    "import numpy as np\n",
    "import statsmodels.api as sm\n",
    "import statsmodels.formula.api as smf\n",
    "\n",
    "    \n",
    "# funciones desarrolladas\n",
    "from functions.agrupar_dfs_censo import *\n",
    "from functions.cargar_data import *\n",
    "from functions.impresion import *"
   ]
  },
  {
   "cell_type": "code",
   "execution_count": 6,
   "metadata": {},
   "outputs": [
    {
     "output_type": "stream",
     "name": "stdout",
     "text": [
      "377610\n"
     ]
    },
    {
     "output_type": "execute_result",
     "data": {
      "text/plain": [
       "        cod  cod_ori  cod_des  poblacion_ori  poblacion_des  personas_mig  \\\n",
       "0  10202220     1020     2220        1304729          40657         635.0   \n",
       "1  10202521     1020     2521        1304729          12200          90.0   \n",
       "2  10202522     1020     2522        1304729           2659          17.0   \n",
       "\n",
       "   distancia_m  \n",
       "0       583715  \n",
       "1       612802  \n",
       "2       617076  "
      ],
      "text/html": "<div>\n<style scoped>\n    .dataframe tbody tr th:only-of-type {\n        vertical-align: middle;\n    }\n\n    .dataframe tbody tr th {\n        vertical-align: top;\n    }\n\n    .dataframe thead th {\n        text-align: right;\n    }\n</style>\n<table border=\"1\" class=\"dataframe\">\n  <thead>\n    <tr style=\"text-align: right;\">\n      <th></th>\n      <th>cod</th>\n      <th>cod_ori</th>\n      <th>cod_des</th>\n      <th>poblacion_ori</th>\n      <th>poblacion_des</th>\n      <th>personas_mig</th>\n      <th>distancia_m</th>\n    </tr>\n  </thead>\n  <tbody>\n    <tr>\n      <th>0</th>\n      <td>10202220</td>\n      <td>1020</td>\n      <td>2220</td>\n      <td>1304729</td>\n      <td>40657</td>\n      <td>635.0</td>\n      <td>583715</td>\n    </tr>\n    <tr>\n      <th>1</th>\n      <td>10202521</td>\n      <td>1020</td>\n      <td>2521</td>\n      <td>1304729</td>\n      <td>12200</td>\n      <td>90.0</td>\n      <td>612802</td>\n    </tr>\n    <tr>\n      <th>2</th>\n      <td>10202522</td>\n      <td>1020</td>\n      <td>2522</td>\n      <td>1304729</td>\n      <td>2659</td>\n      <td>17.0</td>\n      <td>617076</td>\n    </tr>\n  </tbody>\n</table>\n</div>"
     },
     "metadata": {},
     "execution_count": 6
    }
   ],
   "source": [
    "flujos_loc = pd.read_csv('tablas/dd_localidades.csv')\n",
    "print(flujos_loc.shape[0])\n",
    "flujos_loc.head(3)"
   ]
  },
  {
   "cell_type": "code",
   "execution_count": 7,
   "metadata": {},
   "outputs": [
    {
     "output_type": "stream",
     "name": "stderr",
     "text": [
      "/home/guillermo/anaconda3/envs/tesis/lib/python3.9/site-packages/geopandas/geodataframe.py:577: RuntimeWarning: Sequential read of iterator was interrupted. Resetting iterator. This can negatively impact the performance.\n  for feature in features_lst:\n"
     ]
    },
    {
     "output_type": "execute_result",
     "data": {
      "text/plain": [
       "   CODLOC                        geometry\n",
       "0    2220  POINT (549273.219 6633915.063)\n",
       "1    2521  POINT (442454.671 6652273.541)\n",
       "2    2522  POINT (457921.001 6633361.660)"
      ],
      "text/html": "<div>\n<style scoped>\n    .dataframe tbody tr th:only-of-type {\n        vertical-align: middle;\n    }\n\n    .dataframe tbody tr th {\n        vertical-align: top;\n    }\n\n    .dataframe thead th {\n        text-align: right;\n    }\n</style>\n<table border=\"1\" class=\"dataframe\">\n  <thead>\n    <tr style=\"text-align: right;\">\n      <th></th>\n      <th>CODLOC</th>\n      <th>geometry</th>\n    </tr>\n  </thead>\n  <tbody>\n    <tr>\n      <th>0</th>\n      <td>2220</td>\n      <td>POINT (549273.219 6633915.063)</td>\n    </tr>\n    <tr>\n      <th>1</th>\n      <td>2521</td>\n      <td>POINT (442454.671 6652273.541)</td>\n    </tr>\n    <tr>\n      <th>2</th>\n      <td>2522</td>\n      <td>POINT (457921.001 6633361.660)</td>\n    </tr>\n  </tbody>\n</table>\n</div>"
     },
     "metadata": {},
     "execution_count": 7
    }
   ],
   "source": [
    "locs = cargar_datos_geo()[2][['CODLOC', 'geometry']]\n",
    "locs.head(3)"
   ]
  },
  {
   "cell_type": "code",
   "execution_count": 8,
   "metadata": {},
   "outputs": [
    {
     "output_type": "execute_result",
     "data": {
      "text/plain": [
       "377610"
      ]
     },
     "metadata": {},
     "execution_count": 8
    }
   ],
   "source": [
    "locs_cod = list(locs.CODLOC)\n",
    "len(locs_cod) ** 2 - len(locs_cod)"
   ]
  },
  {
   "cell_type": "code",
   "execution_count": 9,
   "metadata": {},
   "outputs": [
    {
     "output_type": "execute_result",
     "data": {
      "text/plain": [
       "        cod  cod_ori  cod_des  poblacion_ori  poblacion_des  personas_mig  \\\n",
       "0  10202220     1020     2220        1304729          40657         635.0   \n",
       "1  25212220     2521     2220          12200          40657           NaN   \n",
       "2  25222220     2522     2220           2659          40657           NaN   \n",
       "3  26212220     2621     2220           2531          40657           NaN   \n",
       "4  27212220     2721     2220            380          40657           NaN   \n",
       "\n",
       "   distancia_m                        geom_ori                        geom_des  \n",
       "0       583715  POINT (573082.248 6145008.434)  POINT (549273.219 6633915.063)  \n",
       "1       137927  POINT (442454.671 6652273.541)  POINT (549273.219 6633915.063)  \n",
       "2       111408  POINT (457921.001 6633361.660)  POINT (549273.219 6633915.063)  \n",
       "3       106867  POINT (468458.270 6601361.867)  POINT (549273.219 6633915.063)  \n",
       "4        58392  POINT (502880.928 6648162.053)  POINT (549273.219 6633915.063)  "
      ],
      "text/html": "<div>\n<style scoped>\n    .dataframe tbody tr th:only-of-type {\n        vertical-align: middle;\n    }\n\n    .dataframe tbody tr th {\n        vertical-align: top;\n    }\n\n    .dataframe thead th {\n        text-align: right;\n    }\n</style>\n<table border=\"1\" class=\"dataframe\">\n  <thead>\n    <tr style=\"text-align: right;\">\n      <th></th>\n      <th>cod</th>\n      <th>cod_ori</th>\n      <th>cod_des</th>\n      <th>poblacion_ori</th>\n      <th>poblacion_des</th>\n      <th>personas_mig</th>\n      <th>distancia_m</th>\n      <th>geom_ori</th>\n      <th>geom_des</th>\n    </tr>\n  </thead>\n  <tbody>\n    <tr>\n      <th>0</th>\n      <td>10202220</td>\n      <td>1020</td>\n      <td>2220</td>\n      <td>1304729</td>\n      <td>40657</td>\n      <td>635.0</td>\n      <td>583715</td>\n      <td>POINT (573082.248 6145008.434)</td>\n      <td>POINT (549273.219 6633915.063)</td>\n    </tr>\n    <tr>\n      <th>1</th>\n      <td>25212220</td>\n      <td>2521</td>\n      <td>2220</td>\n      <td>12200</td>\n      <td>40657</td>\n      <td>NaN</td>\n      <td>137927</td>\n      <td>POINT (442454.671 6652273.541)</td>\n      <td>POINT (549273.219 6633915.063)</td>\n    </tr>\n    <tr>\n      <th>2</th>\n      <td>25222220</td>\n      <td>2522</td>\n      <td>2220</td>\n      <td>2659</td>\n      <td>40657</td>\n      <td>NaN</td>\n      <td>111408</td>\n      <td>POINT (457921.001 6633361.660)</td>\n      <td>POINT (549273.219 6633915.063)</td>\n    </tr>\n    <tr>\n      <th>3</th>\n      <td>26212220</td>\n      <td>2621</td>\n      <td>2220</td>\n      <td>2531</td>\n      <td>40657</td>\n      <td>NaN</td>\n      <td>106867</td>\n      <td>POINT (468458.270 6601361.867)</td>\n      <td>POINT (549273.219 6633915.063)</td>\n    </tr>\n    <tr>\n      <th>4</th>\n      <td>27212220</td>\n      <td>2721</td>\n      <td>2220</td>\n      <td>380</td>\n      <td>40657</td>\n      <td>NaN</td>\n      <td>58392</td>\n      <td>POINT (502880.928 6648162.053)</td>\n      <td>POINT (549273.219 6633915.063)</td>\n    </tr>\n  </tbody>\n</table>\n</div>"
     },
     "metadata": {},
     "execution_count": 9
    }
   ],
   "source": [
    "# pega geometrías\n",
    "dd = flujos_loc.merge(locs, left_on='cod_ori', right_on='CODLOC')\n",
    "dd = dd.merge(locs, left_on='cod_des', right_on='CODLOC')\n",
    "dd.drop(['CODLOC_x', 'CODLOC_y'], axis=1, inplace=True)\n",
    "dd.rename({'geometry_x':'geom_ori', 'geometry_y':'geom_des'}, axis=1, inplace=True)\n",
    "\n",
    "dd.head()\n",
    "\n",
    "# exporta CSV con geometrías puntuales para mapa de flujos\n",
    "#dd.to_csv('capas/loc_lines.csv', index=False)"
   ]
  },
  {
   "cell_type": "code",
   "execution_count": 10,
   "metadata": {},
   "outputs": [
    {
     "output_type": "stream",
     "name": "stdout",
     "text": [
      "(377610, 7)\n"
     ]
    },
    {
     "output_type": "execute_result",
     "data": {
      "text/plain": [
       "        cod  cod_ori  cod_des  poblacion_ori  poblacion_des  personas_mig  \\\n",
       "0  10202220     1020     2220        1304729          40657         635.0   \n",
       "1  10202521     1020     2521        1304729          12200          90.0   \n",
       "2  10202522     1020     2522        1304729           2659          17.0   \n",
       "3  10202621     1020     2621        1304729           2531           9.0   \n",
       "4  10202721     1020     2721        1304729            380           NaN   \n",
       "\n",
       "   distancia_m  \n",
       "0       583715  \n",
       "1       612802  \n",
       "2       617076  \n",
       "3       595785  \n",
       "4       628213  "
      ],
      "text/html": "<div>\n<style scoped>\n    .dataframe tbody tr th:only-of-type {\n        vertical-align: middle;\n    }\n\n    .dataframe tbody tr th {\n        vertical-align: top;\n    }\n\n    .dataframe thead th {\n        text-align: right;\n    }\n</style>\n<table border=\"1\" class=\"dataframe\">\n  <thead>\n    <tr style=\"text-align: right;\">\n      <th></th>\n      <th>cod</th>\n      <th>cod_ori</th>\n      <th>cod_des</th>\n      <th>poblacion_ori</th>\n      <th>poblacion_des</th>\n      <th>personas_mig</th>\n      <th>distancia_m</th>\n    </tr>\n  </thead>\n  <tbody>\n    <tr>\n      <th>0</th>\n      <td>10202220</td>\n      <td>1020</td>\n      <td>2220</td>\n      <td>1304729</td>\n      <td>40657</td>\n      <td>635.0</td>\n      <td>583715</td>\n    </tr>\n    <tr>\n      <th>1</th>\n      <td>10202521</td>\n      <td>1020</td>\n      <td>2521</td>\n      <td>1304729</td>\n      <td>12200</td>\n      <td>90.0</td>\n      <td>612802</td>\n    </tr>\n    <tr>\n      <th>2</th>\n      <td>10202522</td>\n      <td>1020</td>\n      <td>2522</td>\n      <td>1304729</td>\n      <td>2659</td>\n      <td>17.0</td>\n      <td>617076</td>\n    </tr>\n    <tr>\n      <th>3</th>\n      <td>10202621</td>\n      <td>1020</td>\n      <td>2621</td>\n      <td>1304729</td>\n      <td>2531</td>\n      <td>9.0</td>\n      <td>595785</td>\n    </tr>\n    <tr>\n      <th>4</th>\n      <td>10202721</td>\n      <td>1020</td>\n      <td>2721</td>\n      <td>1304729</td>\n      <td>380</td>\n      <td>NaN</td>\n      <td>628213</td>\n    </tr>\n  </tbody>\n</table>\n</div>"
     },
     "metadata": {},
     "execution_count": 10
    }
   ],
   "source": [
    "print(flujos_loc.shape)\n",
    "flujos_loc.head()"
   ]
  },
  {
   "cell_type": "code",
   "execution_count": 11,
   "metadata": {},
   "outputs": [
    {
     "output_type": "execute_result",
     "data": {
      "text/plain": [
       "        cod  cod_ori  cod_des  poblacion_ori  poblacion_des  personas_mig  \\\n",
       "0  10202220     1020     2220        1304729          40657       635.000   \n",
       "1  10202521     1020     2521        1304729          12200        90.000   \n",
       "2  10202522     1020     2522        1304729           2659        17.000   \n",
       "3  10202621     1020     2621        1304729           2531         9.000   \n",
       "4  10202721     1020     2721        1304729            380         0.001   \n",
       "\n",
       "   distancia_m  \n",
       "0       583715  \n",
       "1       612802  \n",
       "2       617076  \n",
       "3       595785  \n",
       "4       628213  "
      ],
      "text/html": "<div>\n<style scoped>\n    .dataframe tbody tr th:only-of-type {\n        vertical-align: middle;\n    }\n\n    .dataframe tbody tr th {\n        vertical-align: top;\n    }\n\n    .dataframe thead th {\n        text-align: right;\n    }\n</style>\n<table border=\"1\" class=\"dataframe\">\n  <thead>\n    <tr style=\"text-align: right;\">\n      <th></th>\n      <th>cod</th>\n      <th>cod_ori</th>\n      <th>cod_des</th>\n      <th>poblacion_ori</th>\n      <th>poblacion_des</th>\n      <th>personas_mig</th>\n      <th>distancia_m</th>\n    </tr>\n  </thead>\n  <tbody>\n    <tr>\n      <th>0</th>\n      <td>10202220</td>\n      <td>1020</td>\n      <td>2220</td>\n      <td>1304729</td>\n      <td>40657</td>\n      <td>635.000</td>\n      <td>583715</td>\n    </tr>\n    <tr>\n      <th>1</th>\n      <td>10202521</td>\n      <td>1020</td>\n      <td>2521</td>\n      <td>1304729</td>\n      <td>12200</td>\n      <td>90.000</td>\n      <td>612802</td>\n    </tr>\n    <tr>\n      <th>2</th>\n      <td>10202522</td>\n      <td>1020</td>\n      <td>2522</td>\n      <td>1304729</td>\n      <td>2659</td>\n      <td>17.000</td>\n      <td>617076</td>\n    </tr>\n    <tr>\n      <th>3</th>\n      <td>10202621</td>\n      <td>1020</td>\n      <td>2621</td>\n      <td>1304729</td>\n      <td>2531</td>\n      <td>9.000</td>\n      <td>595785</td>\n    </tr>\n    <tr>\n      <th>4</th>\n      <td>10202721</td>\n      <td>1020</td>\n      <td>2721</td>\n      <td>1304729</td>\n      <td>380</td>\n      <td>0.001</td>\n      <td>628213</td>\n    </tr>\n  </tbody>\n</table>\n</div>"
     },
     "metadata": {},
     "execution_count": 11
    }
   ],
   "source": [
    "flujos_loc.loc[flujos_loc.personas_mig.isna(), 'personas_mig'] = 0.001\n",
    "flujos_loc.head()"
   ]
  },
  {
   "cell_type": "code",
   "execution_count": 12,
   "metadata": {},
   "outputs": [
    {
     "output_type": "execute_result",
     "data": {
      "text/plain": [
       "        cod  cod_ori  cod_des  poblacion_ori  poblacion_des  personas_mig  \\\n",
       "0  10202220     1020     2220        1304729          40657       635.000   \n",
       "1  10202521     1020     2521        1304729          12200        90.000   \n",
       "2  10202522     1020     2522        1304729           2659        17.000   \n",
       "3  10202621     1020     2621        1304729           2531         9.000   \n",
       "4  10202721     1020     2721        1304729            380         0.001   \n",
       "\n",
       "   distancia_m   log_dist  \n",
       "0       583715  13.277168  \n",
       "1       612802  13.325797  \n",
       "2       617076  13.332747  \n",
       "3       595785  13.297635  \n",
       "4       628213  13.350635  "
      ],
      "text/html": "<div>\n<style scoped>\n    .dataframe tbody tr th:only-of-type {\n        vertical-align: middle;\n    }\n\n    .dataframe tbody tr th {\n        vertical-align: top;\n    }\n\n    .dataframe thead th {\n        text-align: right;\n    }\n</style>\n<table border=\"1\" class=\"dataframe\">\n  <thead>\n    <tr style=\"text-align: right;\">\n      <th></th>\n      <th>cod</th>\n      <th>cod_ori</th>\n      <th>cod_des</th>\n      <th>poblacion_ori</th>\n      <th>poblacion_des</th>\n      <th>personas_mig</th>\n      <th>distancia_m</th>\n      <th>log_dist</th>\n    </tr>\n  </thead>\n  <tbody>\n    <tr>\n      <th>0</th>\n      <td>10202220</td>\n      <td>1020</td>\n      <td>2220</td>\n      <td>1304729</td>\n      <td>40657</td>\n      <td>635.000</td>\n      <td>583715</td>\n      <td>13.277168</td>\n    </tr>\n    <tr>\n      <th>1</th>\n      <td>10202521</td>\n      <td>1020</td>\n      <td>2521</td>\n      <td>1304729</td>\n      <td>12200</td>\n      <td>90.000</td>\n      <td>612802</td>\n      <td>13.325797</td>\n    </tr>\n    <tr>\n      <th>2</th>\n      <td>10202522</td>\n      <td>1020</td>\n      <td>2522</td>\n      <td>1304729</td>\n      <td>2659</td>\n      <td>17.000</td>\n      <td>617076</td>\n      <td>13.332747</td>\n    </tr>\n    <tr>\n      <th>3</th>\n      <td>10202621</td>\n      <td>1020</td>\n      <td>2621</td>\n      <td>1304729</td>\n      <td>2531</td>\n      <td>9.000</td>\n      <td>595785</td>\n      <td>13.297635</td>\n    </tr>\n    <tr>\n      <th>4</th>\n      <td>10202721</td>\n      <td>1020</td>\n      <td>2721</td>\n      <td>1304729</td>\n      <td>380</td>\n      <td>0.001</td>\n      <td>628213</td>\n      <td>13.350635</td>\n    </tr>\n  </tbody>\n</table>\n</div>"
     },
     "metadata": {},
     "execution_count": 12
    }
   ],
   "source": [
    "flujos_loc['log_dist'] = np.log(flujos_loc.distancia_m)\n",
    "flujos_loc.head()"
   ]
  },
  {
   "cell_type": "code",
   "execution_count": 13,
   "metadata": {},
   "outputs": [
    {
     "output_type": "execute_result",
     "data": {
      "text/plain": [
       "  cod_ori cod_des  personas_mig   log_dist\n",
       "0    1020    2220       635.000  13.277168\n",
       "1    1020    2521        90.000  13.325797\n",
       "2    1020    2522        17.000  13.332747\n",
       "3    1020    2621         9.000  13.297635\n",
       "4    1020    2721         0.001  13.350635"
      ],
      "text/html": "<div>\n<style scoped>\n    .dataframe tbody tr th:only-of-type {\n        vertical-align: middle;\n    }\n\n    .dataframe tbody tr th {\n        vertical-align: top;\n    }\n\n    .dataframe thead th {\n        text-align: right;\n    }\n</style>\n<table border=\"1\" class=\"dataframe\">\n  <thead>\n    <tr style=\"text-align: right;\">\n      <th></th>\n      <th>cod_ori</th>\n      <th>cod_des</th>\n      <th>personas_mig</th>\n      <th>log_dist</th>\n    </tr>\n  </thead>\n  <tbody>\n    <tr>\n      <th>0</th>\n      <td>1020</td>\n      <td>2220</td>\n      <td>635.000</td>\n      <td>13.277168</td>\n    </tr>\n    <tr>\n      <th>1</th>\n      <td>1020</td>\n      <td>2521</td>\n      <td>90.000</td>\n      <td>13.325797</td>\n    </tr>\n    <tr>\n      <th>2</th>\n      <td>1020</td>\n      <td>2522</td>\n      <td>17.000</td>\n      <td>13.332747</td>\n    </tr>\n    <tr>\n      <th>3</th>\n      <td>1020</td>\n      <td>2621</td>\n      <td>9.000</td>\n      <td>13.297635</td>\n    </tr>\n    <tr>\n      <th>4</th>\n      <td>1020</td>\n      <td>2721</td>\n      <td>0.001</td>\n      <td>13.350635</td>\n    </tr>\n  </tbody>\n</table>\n</div>"
     },
     "metadata": {},
     "execution_count": 13
    }
   ],
   "source": [
    "# convierte códigos a string para ser correctamente interpretados por el modelo\n",
    "flujos_loc['cod_ori'] = flujos_loc['cod_ori'].astype(str)\n",
    "flujos_loc['cod_des'] = flujos_loc['cod_des'].astype(str)\n",
    "\n",
    "flujos_loc.drop(['cod', 'poblacion_ori', 'poblacion_des', 'distancia_m'],\n",
    "axis=1, inplace=True)\n",
    "\n",
    "flujos_loc.head()"
   ]
  },
  {
   "cell_type": "code",
   "execution_count": 14,
   "metadata": {},
   "outputs": [],
   "source": [
    "n = 150000"
   ]
  },
  {
   "cell_type": "code",
   "execution_count": 15,
   "metadata": {},
   "outputs": [],
   "source": [
    "formula = \"personas_mig ~ cod_ori + log_dist -1\"\n",
    "\n",
    "# entrena y ajusta el modelo\n",
    "prodSim = smf.glm(formula=formula, data=flujos_loc.head(n), family=sm.families.Poisson()).fit()"
   ]
  },
  {
   "cell_type": "code",
   "execution_count": 17,
   "metadata": {},
   "outputs": [
    {
     "output_type": "execute_result",
     "data": {
      "text/plain": [
       "2]     8.0278      0.090     89.152      0.000       7.851       8.204\n",
       "cod_ori[2621]     8.2856      0.080    103.427      0.000       8.129       8.443\n",
       "cod_ori[2721]     5.6311      0.284     19.844      0.000       5.075       6.187\n",
       "cod_ori[2724]     2.4946      1.277      1.954      0.051      -0.008       4.997\n",
       "cod_ori[2725]     5.9087      0.228     25.869      0.000       5.461       6.356\n",
       "cod_ori[2822]     3.4215      0.788      4.342      0.000       1.877       4.966\n",
       "cod_ori[2823]     2.4639      1.277      1.930      0.054      -0.038       4.966\n",
       "cod_ori[2824]     4.7445      0.424     11.201      0.000       3.914       5.575\n",
       "cod_ori[2826]     4.7751      0.424     11.274      0.000       3.945       5.605\n",
       "cod_ori[2827]     4.2938      0.527      8.144      0.000       3.260       5.327\n",
       "cod_ori[2828]     2.4113      1.277      1.889      0.059      -0.091       4.913\n",
       "cod_ori[2830]     5.5424      0.264     21.025      0.000       5.026       6.059\n",
       "cod_ori[2831]     3.4128      0.788      4.331      0.000       1.868       4.957\n",
       "cod_ori[2833]     3.4904      0.788      4.429      0.000       1.946       5.035\n",
       "cod_ori[2925]     3.9440      0.620      6.365      0.000       2.730       5.159\n",
       "cod_ori[2927]     5.0026      0.364     13.739      0.000       4.289       5.716\n",
       "cod_ori[2934]     3.9813      0.620      6.424      0.000       2.767       5.196\n",
       "cod_ori[2945]     2.5596      1.277      2.005      0.045       0.057       5.062\n",
       "cod_ori[2952]     4.5696      0.467      9.785      0.000       3.654       5.485\n",
       "cod_ori[2957]     3.5738      0.788      4.534      0.000       2.029       5.119\n",
       "cod_ori[2958]     3.6903      0.619      5.958      0.000       2.476       4.904\n",
       "cod_ori[2959]     4.5483      0.467      9.741      0.000       3.633       5.463\n",
       "cod_ori[2961]     2.2309      1.277      1.748      0.081      -0.271       4.733\n",
       "cod_ori[2962]     2.1994      1.277      1.723      0.085      -0.303       4.701\n",
       "cod_ori[2963]     2.5028      1.277      1.960      0.050       0.001       5.005\n",
       "cod_ori[3221]     9.9102      0.037    271.484      0.000       9.839       9.982\n",
       "cod_ori[3320]     9.0560      0.044    204.682      0.000       8.969       9.143\n",
       "cod_ori[3321]     8.7467      0.047    187.624      0.000       8.655       8.838\n",
       "cod_ori[3322]     9.0892      0.041    222.732      0.000       9.009       9.169\n",
       "cod_ori[3323]     8.4433      0.055    154.382      0.000       8.336       8.550\n",
       "cod_ori[3324]     1.7163      1.277      1.344      0.179      -0.786       4.218\n",
       "cod_ori[3325]     1.5054      1.277      1.179      0.238      -0.997       4.007\n",
       "cod_ori[3326]     1.2971      1.276      1.016      0.310      -1.205       3.799\n",
       "cod_ori[3327]     1.4440      1.277      1.131      0.258      -1.058       3.946\n",
       "cod_ori[3328]     1.3606      1.276      1.066      0.286      -1.141       3.862\n",
       "cod_ori[3329]     1.7967      1.277      1.407      0.159      -0.705       4.299\n",
       "cod_ori[3421]     8.1751      0.058    142.103      0.000       8.062       8.288\n",
       "cod_ori[3422]     8.1561      0.063    129.884      0.000       8.033       8.279\n",
       "cod_ori[3521]     6.3901      0.113     56.438      0.000       6.168       6.612\n",
       "cod_ori[3523]     6.7226      0.097     68.955      0.000       6.531       6.914\n",
       "cod_ori[3524]     7.1523      0.080     88.995      0.000       6.995       7.310\n",
       "cod_ori[3525]     7.5204      0.071    105.368      0.000       7.381       7.660\n",
       "cod_ori[3526]     7.0810      0.093     76.227      0.000       6.899       7.263\n",
       "cod_ori[3527]     7.7700      0.066    118.339      0.000       7.641       7.899\n",
       "cod_ori[3528]     7.7814      0.073    106.894      0.000       7.639       7.924\n",
       "cod_ori[3529]     1.5527      1.277      1.216      0.224      -0.949       4.055\n",
       "cod_ori[3530]     2.4997      0.788      3.172      0.002       0.955       4.044\n",
       "cod_ori[3621]     8.1107      0.056    145.476      0.000       8.001       8.220\n",
       "cod_ori[3622]     4.0802      0.364     11.219      0.000       3.367       4.793\n",
       "cod_ori[3624]     6.7278      0.111     60.767      0.000       6.511       6.945\n",
       "cod_ori[3625]     6.4985      0.112     58.268      0.000       6.280       6.717\n",
       "cod_ori[3626]     6.9708      0.101     69.307      0.000       6.774       7.168\n",
       "cod_ori[3627]     7.5834      0.070    108.537      0.000       7.446       7.720\n",
       "cod_ori[3628]     6.8487      0.105     65.217      0.000       6.643       7.054\n",
       "cod_ori[3629]     7.0910      0.092     77.394      0.000       6.911       7.271\n",
       "cod_ori[3630]     5.1721      0.222     23.255      0.000       4.736       5.608\n",
       "cod_ori[3631]     8.4749      0.049    172.774      0.000       8.379       8.571\n",
       "cod_ori[3632]     6.6765      0.116     57.324      0.000       6.448       6.905\n",
       "cod_ori[3633]     7.0280      0.081     86.599      0.000       6.869       7.187\n",
       "cod_ori[3634]     2.4124      0.788      3.062      0.002       0.868       3.957\n",
       "cod_ori[3721]     5.7225      0.181     31.679      0.000       5.368       6.077\n",
       "cod_ori[3722]     6.7068      0.102     65.925      0.000       6.507       6.906\n",
       "cod_ori[3723]     6.4084      0.123     52.161      0.000       6.168       6.649\n",
       "cod_ori[3724]     6.5751      0.109     60.192      0.000       6.361       6.789\n",
       "cod_ori[3725]     4.9600      0.240     20.649      0.000       4.489       5.431\n",
       "cod_ori[3726]     6.5665      0.109     60.445      0.000       6.354       6.779\n",
       "cod_ori[3727]     5.4373      0.180     30.167      0.000       5.084       5.791\n",
       "cod_ori[3729]     7.7868      0.062    124.627      0.000       7.664       7.909\n",
       "cod_ori[3730]     6.2075      0.141     43.901      0.000       5.930       6.485\n",
       "cod_ori[3731]     6.9052      0.093     73.912      0.000       6.722       7.088\n",
       "cod_ori[3732]     8.9713      0.041    220.485      0.000       8.892       9.051\n",
       "cod_ori[3733]     4.2687      0.308     13.842      0.000       3.664       4.873\n",
       "cod_ori[3823]     4.8301      0.283     17.046      0.000       4.275       5.386\n",
       "cod_ori[3825]     3.3742      0.527      6.402      0.000       2.341       4.407\n",
       "cod_ori[3826]     6.0961      0.139     43.977      0.000       5.824       6.368\n",
       "cod_ori[3827]     1.5944      1.277      1.249      0.212      -0.908       4.096\n",
       "cod_ori[3828]     8.6227      0.047    185.223      0.000       8.531       8.714\n",
       "cod_ori[3829]     3.9965      0.423      9.440      0.000       3.167       4.826\n",
       "cod_ori[3830]     7.2961      0.076     95.399      0.000       7.146       7.446\n",
       "cod_ori[3831]     7.7216      0.060    128.125      0.000       7.604       7.840\n",
       "cod_ori[3832]     3.9054      0.390     10.012      0.000       3.141       4.670\n",
       "cod_ori[3833]     3.0722      0.619      4.959      0.000       1.858       4.286\n",
       "cod_ori[3834]     6.3232      0.125     50.468      0.000       6.078       6.569\n",
       "cod_ori[3835]     7.9410      0.057    140.196      0.000       7.830       8.052\n",
       "cod_ori[3836]     4.4274      0.308     14.353      0.000       3.823       5.032\n",
       "cod_ori[3837]     1.6125      1.277      1.263      0.207      -0.890       4.114\n",
       "cod_ori[3838]     1.5882      1.277      1.244      0.213      -0.914       4.090\n",
       "cod_ori[3839]     4.4890      0.283     15.856      0.000       3.934       5.044\n",
       "cod_ori[3840]     1.7358      1.277      1.360      0.174      -0.766       4.238\n",
       "cod_ori[3880]     2.3819      0.788      3.023      0.003       0.838       3.926\n",
       "cod_ori[3881]     1.4375      1.277      1.126      0.260      -1.064       3.939\n",
       "cod_ori[3882]     5.5378      0.196     28.198      0.000       5.153       5.923\n",
       "cod_ori[3910]     2.4808      0.788      3.149      0.002       0.937       4.025\n",
       "cod_ori[3911]     1.4648      1.277      1.148      0.251      -1.037       3.967\n",
       "cod_ori[3912]     2.4339      0.788      3.089      0.002       0.890       3.978\n",
       "cod_ori[3913]     2.4656      0.788      3.129      0.002       0.921       4.010\n",
       "cod_ori[3914]     2.6756      0.788      3.395      0.001       1.131       4.220\n",
       "cod_ori[3921]     4.8804      0.247     19.746      0.000       4.396       5.365\n",
       "cod_ori[3922]     3.4674      0.527      6.578      0.000       2.434       4.501\n",
       "cod_ori[3925]     4.5569      0.295     15.447      0.000       3.979       5.135\n",
       "cod_ori[3926]     1.6200      1.277      1.269      0.204      -0.882       4.122\n",
       "cod_ori[3927]     5.4648      0.218     25.123      0.000       5.038       5.891\n",
       "cod_ori[3928]     3.2232      0.620      5.203      0.000       2.009       4.437\n",
       "cod_ori[3929]     4.5564      0.309     14.765      0.000       3.952       5.161\n",
       "cod_ori[3934]     2.5658      0.788      3.256      0.001       1.021       4.110\n",
       "cod_ori[3935]     5.7643      0.164     35.215      0.000       5.443       6.085\n",
       "cod_ori[3939]     2.8740      0.619      4.641      0.000       1.660       4.088\n",
       "cod_ori[3942]     3.6933      0.467      7.915      0.000       2.779       4.608\n",
       "cod_ori[3943]     2.9834      0.619      4.817      0.000       1.770       4.197\n",
       "cod_ori[3944]     1.6087      1.277      1.260      0.208      -0.893       4.111\n",
       "cod_ori[3945]     1.6057      1.277      1.258      0.208      -0.896       4.108\n",
       "cod_ori[3946]     5.0388      0.240     20.974      0.000       4.568       5.510\n",
       "cod_ori[3948]     2.5662      0.788      3.257      0.001       1.022       4.111\n",
       "cod_ori[3949]     3.0126      0.619      4.863      0.000       1.799       4.227\n",
       "cod_ori[3953]     6.6413      0.101     65.940      0.000       6.444       6.839\n",
       "cod_ori[3956]     3.7672      0.423      8.902      0.000       2.938       4.597\n",
       "cod_ori[3957]     6.7942      0.096     70.720      0.000       6.606       6.982\n",
       "cod_ori[3959]     6.8995      0.091     76.023      0.000       6.722       7.077\n",
       "cod_ori[3962]     4.1337      0.390     10.596      0.000       3.369       4.898\n",
       "cod_ori[3966]     1.6883      1.277      1.323      0.186      -0.814       4.190\n",
       "cod_ori[3968]     2.9807      0.619      4.812      0.000       1.767       4.195\n",
       "cod_ori[3969]     4.4409      0.324     13.705      0.000       3.806       5.076\n",
       "cod_ori[3970]     1.6464      1.277      1.290      0.197      -0.856       4.148\n",
       "cod_ori[3974]     5.0309      0.240     20.940      0.000       4.560       5.502\n",
       "cod_ori[3975]     4.6341      0.283     16.365      0.000       4.079       5.189\n",
       "cod_ori[3978]     1.4572      1.277      1.142      0.254      -1.045       3.959\n",
       "cod_ori[3979]     1.6836      1.277      1.319      0.187      -0.818       4.186\n",
       "cod_ori[3980]     5.1128      0.212     24.079      0.000       4.697       5.529\n",
       "cod_ori[3984]     1.5121      1.277      1.185      0.236      -0.990       4.014\n",
       "cod_ori[3985]     4.6498      0.273     17.055      0.000       4.115       5.184\n",
       "cod_ori[3986]     4.3985      0.324     13.576      0.000       3.764       5.034\n",
       "cod_ori[3987]     5.5120      0.170     32.411      0.000       5.179       5.845\n",
       "cod_ori[3988]     3.0899      0.619      4.989      0.000       1.876       4.304\n",
       "cod_ori[3989]     3.7778      0.390      9.689      0.000       3.014       4.542\n",
       "cod_ori[3990]     1.6526      1.277      1.295      0.195      -0.849       4.155\n",
       "cod_ori[3991]     1.5309      1.277      1.199      0.230      -0.971       4.033\n",
       "cod_ori[3992]     2.9241      0.619      4.721      0.000       1.710       4.138\n",
       "cod_ori[3993]     2.8468      0.619      4.596      0.000       1.633       4.061\n",
       "cod_ori[3994]     2.8248      0.619      4.561      0.000       1.611       4.039\n",
       "cod_ori[3995]     1.3840      1.277      1.084      0.278      -1.118       3.886\n",
       "cod_ori[3996]     1.2945      1.276      1.014      0.311      -1.207       3.796\n",
       "cod_ori[3997]     2.3552      0.788      2.989      0.003       0.811       3.899\n",
       "cod_ori[4220]    10.6090      0.038    281.003      0.000      10.535      10.683\n",
       "cod_ori[4521]     8.1391      0.075    108.704      0.000       7.992       8.286\n",
       "cod_ori[4522]     9.4653      0.052    183.616      0.000       9.364       9.566\n",
       "cod_ori[4621]     7.1803      0.114     62.716      0.000       6.956       7.405\n",
       "cod_ori[4721]     6.9339      0.136     50.965      0.000       6.667       7.201\n",
       "cod_ori[4821]     6.6056      0.163     40.629      0.000       6.287       6.924\n",
       "cod_ori[4822]     4.5030      0.424     10.633      0.000       3.673       5.333\n",
       "cod_ori[4823]     2.4755      1.277      1.939      0.052      -0.027       4.978\n",
       "cod_ori[4824]     5.3632      0.273     19.633      0.000       4.828       5.899\n",
       "cod_ori[4825]     2.2125      1.277      1.733      0.083      -0.290       4.715\n",
       "cod_ori[4827]     6.1853      0.190     32.549      0.000       5.813       6.558\n",
       "cod_ori[4828]     2.2563      1.277      1.767      0.077      -0.246       4.758\n",
       "cod_ori[4829]     4.5180      0.424     10.668      0.000       3.688       5.348\n",
       "cod_ori[4830]     3.9142      0.620      6.317      0.000       2.700       5.129\n",
       "cod_ori[4923]     4.6967      0.390     12.031      0.000       3.932       5.462\n",
       "cod_ori[4924]     6.4249      0.171     37.554      0.000       6.090       6.760\n",
       "cod_ori[4930]     2.4248      1.277      1.899      0.058      -0.077       4.927\n",
       "cod_ori[4940]     3.1990      0.788      4.059      0.000       1.654       4.744\n",
       "cod_ori[4943]     2.4242      1.277      1.899      0.058      -0.078       4.926\n",
       "cod_ori[4948]     3.2671      0.788      4.146      0.000       1.723       4.812\n",
       "cod_ori[4949]     5.8182      0.248     23.477      0.000       5.333       6.304\n",
       "cod_ori[4952]     4.1943      0.527      7.956      0.000       3.161       5.228\n",
       "cod_ori[4956]     2.3777      1.277      1.862      0.063      -0.124       4.880\n",
       "cod_ori[4966]     4.7165      0.390     12.081      0.000       3.951       5.482\n",
       "cod_ori[4968]     4.0827      0.527      7.742      0.000       3.049       5.116\n",
       "cod_ori[4981]     2.3977      1.277      1.878      0.060      -0.104       4.900\n",
       "cod_ori[4983]     2.2329      1.277      1.749      0.080      -0.269       4.735\n",
       "cod_ori[4987]     2.2413      1.277      1.756      0.079      -0.261       4.743\n",
       "cod_ori[4988]     3.2426      0.788      4.115      0.000       1.698       4.787\n",
       "cod_ori[4989]     3.2419      0.788      4.114      0.000       1.697       4.787\n",
       "cod_ori[5320]     9.4548      0.046    205.315      0.000       9.364       9.545\n",
       "cod_ori[5321]     9.1576      0.051    178.987      0.000       9.057       9.258\n",
       "cod_ori[5323]     8.7044      0.055    158.497      0.000       8.597       8.812\n",
       "cod_ori[5421]     8.5237      0.057    149.410      0.000       8.412       8.636\n",
       "cod_ori[5422]     8.3431      0.061    136.691      0.000       8.223       8.463\n",
       "cod_ori[5423]     8.4263      0.067    125.072      0.000       8.294       8.558\n",
       "cod_ori[5452]     4.8430      0.324     14.937      0.000       4.208       5.479\n",
       "cod_ori[5521]     7.7064      0.085     90.581      0.000       7.540       7.873\n",
       "cod_ori[5522]     8.1950      0.068    121.154      0.000       8.062       8.328\n",
       "cod_ori[5621]     7.4332      0.086     86.532      0.000       7.265       7.602\n",
       "cod_ori[5622]     7.2555      0.099     73.409      0.000       7.062       7.449\n",
       "cod_ori[5721]     6.2054      0.166     37.339      0.000       5.880       6.531\n",
       "cod_ori[5722]     2.1593      1.277      1.691      0.091      -0.343       4.661\n",
       "cod_ori[5724]     4.6594      0.324     14.375      0.000       4.024       5.295\n",
       "cod_ori[5726]     5.3276      0.247     21.530      0.000       4.843       5.813\n",
       "cod_ori[5727]     1.9824      1.277      1.553      0.120      -0.520       4.484\n",
       "cod_ori[5798]     5.0971      0.283     17.991      0.000       4.542       5.652\n",
       "cod_ori[5821]     1.9685      1.277      1.542      0.123      -0.534       4.471\n",
       "cod_ori[5824]     5.0182      0.284     17.701      0.000       4.463       5.574\n",
       "cod_ori[5826]     2.0786      1.277      1.628      0.103      -0.423       4.581\n",
       "cod_ori[5827]     4.6063      0.364     12.656      0.000       3.893       5.320\n",
       "cod_ori[5829]     4.3452      0.423     10.263      0.000       3.515       5.175\n",
       "cod_ori[5831]     6.4138      0.152     42.276      0.000       6.116       6.711\n",
       "cod_ori[5923]     5.0806      0.295     17.202      0.000       4.502       5.659\n",
       "cod_ori[5924]     4.7652      0.324     14.697      0.000       4.130       5.401\n",
       "cod_ori[5925]     4.3885      0.390     11.245      0.000       3.624       5.153\n",
       "cod_ori[5927]     2.0066      1.277      1.572      0.116      -0.495       4.509\n",
       "cod_ori[5931]     3.3384      0.619      5.390      0.000       2.124       4.552\n",
       "cod_ori[5932]     3.4179      0.620      5.516      0.000       2.204       4.632\n",
       "cod_ori[5938]     5.4984      0.223     24.698      0.000       5.062       5.935\n",
       "cod_ori[5940]     2.9394      0.788      3.730      0.000       1.395       4.484\n",
       "cod_ori[5951]     3.8506      0.467      8.252      0.000       2.936       4.765\n",
       "cod_ori[5955]     2.8560      0.788      3.624      0.000       1.312       4.400\n",
       "cod_ori[5956]     4.6450      0.364     12.764      0.000       3.932       5.358\n",
       "cod_ori[5959]     1.7417      1.277      1.364      0.172      -0.760       4.244\n",
       "cod_ori[5960]     3.5397      0.527      6.716      0.000       2.507       4.573\n",
       "cod_ori[5961]     1.7674      1.277      1.385      0.166      -0.735       4.269\n",
       "cod_ori[5962]     3.9907      0.423      9.430      0.000       3.161       4.820\n",
       "cod_ori[5964]     2.1802      1.277      1.708      0.088      -0.322       4.682\n",
       "cod_ori[5969]     3.0873      0.788      3.918      0.000       1.543       4.632\n",
       "cod_ori[5977]     4.3416      0.423     10.255      0.000       3.512       5.171\n",
       "cod_ori[5979]     4.5091      0.364     12.393      0.000       3.796       5.222\n",
       "cod_ori[5980]     1.9442      1.277      1.523      0.128      -0.558       4.446\n",
       "cod_ori[5987]     2.2124      1.277      1.733      0.083      -0.290       4.715\n",
       "cod_ori[5989]     2.9561      0.788      3.751      0.000       1.412       4.501\n",
       "cod_ori[5993]     2.2231      1.277      1.741      0.082      -0.279       4.725\n",
       "cod_ori[5994]     2.0727      1.277      1.624      0.104      -0.429       4.575\n",
       "cod_ori[5996]     2.0667      1.277      1.619      0.105      -0.435       4.569\n",
       "cod_ori[5997]     2.0924      1.277      1.639      0.101      -0.410       4.594\n",
       "cod_ori[5998]     2.1604      1.277      1.692      0.091      -0.342       4.663\n",
       "cod_ori[5999]     6.7085      0.125     53.776      0.000       6.464       6.953\n",
       "cod_ori[6220]    10.0869      0.040    250.337      0.000      10.008      10.166\n",
       "cod_ori[6421]     8.9237      0.054    163.957      0.000       8.817       9.030\n",
       "cod_ori[6521]     7.2419      0.106     68.217      0.000       7.034       7.450\n",
       "cod_ori[6621]     7.3735      0.106     69.670      0.000       7.166       7.581\n",
       "cod_ori[6622]     7.3605      0.110     66.918      0.000       7.145       7.576\n",
       "cod_ori[6721]     6.8339      0.128     53.411      0.000       6.583       7.085\n",
       "cod_ori[6722]     6.0758      0.184     33.057      0.000       5.716       6.436\n",
       "cod_ori[6724]     5.9486      0.187     31.859      0.000       5.583       6.315\n",
       "cod_ori[6790]     6.8698      0.121     56.850      0.000       6.633       7.107\n",
       "cod_ori[6821]     6.2727      0.173     36.187      0.000       5.933       6.612\n",
       "cod_ori[6922]     4.2786      0.467      9.163      0.000       3.363       5.194\n",
       "cod_ori[6924]     3.9378      0.527      7.468      0.000       2.904       4.971\n",
       "cod_ori[6940]     3.2019      0.788      4.063      0.000       1.657       4.747\n",
       "cod_ori[6951]     4.1461      0.467      8.880      0.000       3.231       5.061\n",
       "cod_ori[6960]     2.1975      1.277      1.721      0.085      -0.305       4.700\n",
       "cod_ori[6964]     6.1147      0.190     32.177      0.000       5.742       6.487\n",
       "cod_ori[6972]     2.2670      1.277      1.776      0.076      -0.235       4.769\n",
       "cod_ori[7320]     9.6192      0.045    215.666      0.000       9.532       9.707\n",
       "cod_ori[7721]     7.7531      0.141     54.943      0.000       7.477       8.030\n",
       "log_dist         -0.7420      0.003   -268.317      0.000      -0.747      -0.737\n",
       "=================================================================================\n",
       "\"\"\""
      ],
      "text/html": "<table class=\"simpletable\">\n<caption>Generalized Linear Model Regression Results</caption>\n<tr>\n  <th>Dep. Variable:</th>     <td>personas_mig</td>   <th>  No. Observations:  </th>   <td>150000</td>   \n</tr>\n<tr>\n  <th>Model:</th>                  <td>GLM</td>       <th>  Df Residuals:      </th>   <td>149754</td>   \n</tr>\n<tr>\n  <th>Model Family:</th>         <td>Poisson</td>     <th>  Df Model:          </th>   <td>   245</td>   \n</tr>\n<tr>\n  <th>Link Function:</th>          <td>log</td>       <th>  Scale:             </th>  <td>  1.0000</td>  \n</tr>\n<tr>\n  <th>Method:</th>                <td>IRLS</td>       <th>  Log-Likelihood:    </th> <td>-2.1932e+05</td>\n</tr>\n<tr>\n  <th>Date:</th>            <td>Tue, 27 Apr 2021</td> <th>  Deviance:          </th> <td>4.2507e+05</td> \n</tr>\n<tr>\n  <th>Time:</th>                <td>21:54:12</td>     <th>  Pearson chi2:      </th>  <td>6.02e+06</td>  \n</tr>\n<tr>\n  <th>No. Iterations:</th>         <td>11</td>        <th>                     </th>      <td> </td>     \n</tr>\n<tr>\n  <th>Covariance Type:</th>     <td>nonrobust</td>    <th>                     </th>      <td> </td>     \n</tr>\n</table>\n<table class=\"simpletable\">\n<tr>\n        <td></td>           <th>coef</th>     <th>std err</th>      <th>z</th>      <th>P>|z|</th>  <th>[0.025</th>    <th>0.975]</th>  \n</tr>\n<tr>\n  <th>cod_ori[1020]</th> <td>   13.0938</td> <td>    0.031</td> <td>  421.440</td> <td> 0.000</td> <td>   13.033</td> <td>   13.155</td>\n</tr>\n<tr>\n  <th>cod_ori[2220]</th> <td>   10.9121</td> <td>    0.036</td> <td>  299.034</td> <td> 0.000</td> <td>   10.841</td> <td>   10.984</td>\n</tr>\n<tr>\n  <th>cod_ori[2521]</th> <td>    9.9702</td> <td>    0.044</td> <td>  228.068</td> <td> 0.000</td> <td>    9.885</td> <td>   10.056</td>\n</tr>\n<tr>\n  <th>cod_ori[2522]</th> <td>    8.0278</td> <td>    0.090</td> <td>   89.152</td> <td> 0.000</td> <td>    7.851</td> <td>    8.204</td>\n</tr>\n<tr>\n  <th>cod_ori[2621]</th> <td>    8.2856</td> <td>    0.080</td> <td>  103.427</td> <td> 0.000</td> <td>    8.129</td> <td>    8.443</td>\n</tr>\n<tr>\n  <th>cod_ori[2721]</th> <td>    5.6311</td> <td>    0.284</td> <td>   19.844</td> <td> 0.000</td> <td>    5.075</td> <td>    6.187</td>\n</tr>\n<tr>\n  <th>cod_ori[2724]</th> <td>    2.4946</td> <td>    1.277</td> <td>    1.954</td> <td> 0.051</td> <td>   -0.008</td> <td>    4.997</td>\n</tr>\n<tr>\n  <th>cod_ori[2725]</th> <td>    5.9087</td> <td>    0.228</td> <td>   25.869</td> <td> 0.000</td> <td>    5.461</td> <td>    6.356</td>\n</tr>\n<tr>\n  <th>cod_ori[2822]</th> <td>    3.4215</td> <td>    0.788</td> <td>    4.342</td> <td> 0.000</td> <td>    1.877</td> <td>    4.966</td>\n</tr>\n<tr>\n  <th>cod_ori[2823]</th> <td>    2.4639</td> <td>    1.277</td> <td>    1.930</td> <td> 0.054</td> <td>   -0.038</td> <td>    4.966</td>\n</tr>\n<tr>\n  <th>cod_ori[2824]</th> <td>    4.7445</td> <td>    0.424</td> <td>   11.201</td> <td> 0.000</td> <td>    3.914</td> <td>    5.575</td>\n</tr>\n<tr>\n  <th>cod_ori[2826]</th> <td>    4.7751</td> <td>    0.424</td> <td>   11.274</td> <td> 0.000</td> <td>    3.945</td> <td>    5.605</td>\n</tr>\n<tr>\n  <th>cod_ori[2827]</th> <td>    4.2938</td> <td>    0.527</td> <td>    8.144</td> <td> 0.000</td> <td>    3.260</td> <td>    5.327</td>\n</tr>\n<tr>\n  <th>cod_ori[2828]</th> <td>    2.4113</td> <td>    1.277</td> <td>    1.889</td> <td> 0.059</td> <td>   -0.091</td> <td>    4.913</td>\n</tr>\n<tr>\n  <th>cod_ori[2830]</th> <td>    5.5424</td> <td>    0.264</td> <td>   21.025</td> <td> 0.000</td> <td>    5.026</td> <td>    6.059</td>\n</tr>\n<tr>\n  <th>cod_ori[2831]</th> <td>    3.4128</td> <td>    0.788</td> <td>    4.331</td> <td> 0.000</td> <td>    1.868</td> <td>    4.957</td>\n</tr>\n<tr>\n  <th>cod_ori[2833]</th> <td>    3.4904</td> <td>    0.788</td> <td>    4.429</td> <td> 0.000</td> <td>    1.946</td> <td>    5.035</td>\n</tr>\n<tr>\n  <th>cod_ori[2925]</th> <td>    3.9440</td> <td>    0.620</td> <td>    6.365</td> <td> 0.000</td> <td>    2.730</td> <td>    5.159</td>\n</tr>\n<tr>\n  <th>cod_ori[2927]</th> <td>    5.0026</td> <td>    0.364</td> <td>   13.739</td> <td> 0.000</td> <td>    4.289</td> <td>    5.716</td>\n</tr>\n<tr>\n  <th>cod_ori[2934]</th> <td>    3.9813</td> <td>    0.620</td> <td>    6.424</td> <td> 0.000</td> <td>    2.767</td> <td>    5.196</td>\n</tr>\n<tr>\n  <th>cod_ori[2945]</th> <td>    2.5596</td> <td>    1.277</td> <td>    2.005</td> <td> 0.045</td> <td>    0.057</td> <td>    5.062</td>\n</tr>\n<tr>\n  <th>cod_ori[2952]</th> <td>    4.5696</td> <td>    0.467</td> <td>    9.785</td> <td> 0.000</td> <td>    3.654</td> <td>    5.485</td>\n</tr>\n<tr>\n  <th>cod_ori[2957]</th> <td>    3.5738</td> <td>    0.788</td> <td>    4.534</td> <td> 0.000</td> <td>    2.029</td> <td>    5.119</td>\n</tr>\n<tr>\n  <th>cod_ori[2958]</th> <td>    3.6903</td> <td>    0.619</td> <td>    5.958</td> <td> 0.000</td> <td>    2.476</td> <td>    4.904</td>\n</tr>\n<tr>\n  <th>cod_ori[2959]</th> <td>    4.5483</td> <td>    0.467</td> <td>    9.741</td> <td> 0.000</td> <td>    3.633</td> <td>    5.463</td>\n</tr>\n<tr>\n  <th>cod_ori[2961]</th> <td>    2.2309</td> <td>    1.277</td> <td>    1.748</td> <td> 0.081</td> <td>   -0.271</td> <td>    4.733</td>\n</tr>\n<tr>\n  <th>cod_ori[2962]</th> <td>    2.1994</td> <td>    1.277</td> <td>    1.723</td> <td> 0.085</td> <td>   -0.303</td> <td>    4.701</td>\n</tr>\n<tr>\n  <th>cod_ori[2963]</th> <td>    2.5028</td> <td>    1.277</td> <td>    1.960</td> <td> 0.050</td> <td>    0.001</td> <td>    5.005</td>\n</tr>\n<tr>\n  <th>cod_ori[3221]</th> <td>    9.9102</td> <td>    0.037</td> <td>  271.484</td> <td> 0.000</td> <td>    9.839</td> <td>    9.982</td>\n</tr>\n<tr>\n  <th>cod_ori[3320]</th> <td>    9.0560</td> <td>    0.044</td> <td>  204.682</td> <td> 0.000</td> <td>    8.969</td> <td>    9.143</td>\n</tr>\n<tr>\n  <th>cod_ori[3321]</th> <td>    8.7467</td> <td>    0.047</td> <td>  187.624</td> <td> 0.000</td> <td>    8.655</td> <td>    8.838</td>\n</tr>\n<tr>\n  <th>cod_ori[3322]</th> <td>    9.0892</td> <td>    0.041</td> <td>  222.732</td> <td> 0.000</td> <td>    9.009</td> <td>    9.169</td>\n</tr>\n<tr>\n  <th>cod_ori[3323]</th> <td>    8.4433</td> <td>    0.055</td> <td>  154.382</td> <td> 0.000</td> <td>    8.336</td> <td>    8.550</td>\n</tr>\n<tr>\n  <th>cod_ori[3324]</th> <td>    1.7163</td> <td>    1.277</td> <td>    1.344</td> <td> 0.179</td> <td>   -0.786</td> <td>    4.218</td>\n</tr>\n<tr>\n  <th>cod_ori[3325]</th> <td>    1.5054</td> <td>    1.277</td> <td>    1.179</td> <td> 0.238</td> <td>   -0.997</td> <td>    4.007</td>\n</tr>\n<tr>\n  <th>cod_ori[3326]</th> <td>    1.2971</td> <td>    1.276</td> <td>    1.016</td> <td> 0.310</td> <td>   -1.205</td> <td>    3.799</td>\n</tr>\n<tr>\n  <th>cod_ori[3327]</th> <td>    1.4440</td> <td>    1.277</td> <td>    1.131</td> <td> 0.258</td> <td>   -1.058</td> <td>    3.946</td>\n</tr>\n<tr>\n  <th>cod_ori[3328]</th> <td>    1.3606</td> <td>    1.276</td> <td>    1.066</td> <td> 0.286</td> <td>   -1.141</td> <td>    3.862</td>\n</tr>\n<tr>\n  <th>cod_ori[3329]</th> <td>    1.7967</td> <td>    1.277</td> <td>    1.407</td> <td> 0.159</td> <td>   -0.705</td> <td>    4.299</td>\n</tr>\n<tr>\n  <th>cod_ori[3421]</th> <td>    8.1751</td> <td>    0.058</td> <td>  142.103</td> <td> 0.000</td> <td>    8.062</td> <td>    8.288</td>\n</tr>\n<tr>\n  <th>cod_ori[3422]</th> <td>    8.1561</td> <td>    0.063</td> <td>  129.884</td> <td> 0.000</td> <td>    8.033</td> <td>    8.279</td>\n</tr>\n<tr>\n  <th>cod_ori[3521]</th> <td>    6.3901</td> <td>    0.113</td> <td>   56.438</td> <td> 0.000</td> <td>    6.168</td> <td>    6.612</td>\n</tr>\n<tr>\n  <th>cod_ori[3523]</th> <td>    6.7226</td> <td>    0.097</td> <td>   68.955</td> <td> 0.000</td> <td>    6.531</td> <td>    6.914</td>\n</tr>\n<tr>\n  <th>cod_ori[3524]</th> <td>    7.1523</td> <td>    0.080</td> <td>   88.995</td> <td> 0.000</td> <td>    6.995</td> <td>    7.310</td>\n</tr>\n<tr>\n  <th>cod_ori[3525]</th> <td>    7.5204</td> <td>    0.071</td> <td>  105.368</td> <td> 0.000</td> <td>    7.381</td> <td>    7.660</td>\n</tr>\n<tr>\n  <th>cod_ori[3526]</th> <td>    7.0810</td> <td>    0.093</td> <td>   76.227</td> <td> 0.000</td> <td>    6.899</td> <td>    7.263</td>\n</tr>\n<tr>\n  <th>cod_ori[3527]</th> <td>    7.7700</td> <td>    0.066</td> <td>  118.339</td> <td> 0.000</td> <td>    7.641</td> <td>    7.899</td>\n</tr>\n<tr>\n  <th>cod_ori[3528]</th> <td>    7.7814</td> <td>    0.073</td> <td>  106.894</td> <td> 0.000</td> <td>    7.639</td> <td>    7.924</td>\n</tr>\n<tr>\n  <th>cod_ori[3529]</th> <td>    1.5527</td> <td>    1.277</td> <td>    1.216</td> <td> 0.224</td> <td>   -0.949</td> <td>    4.055</td>\n</tr>\n<tr>\n  <th>cod_ori[3530]</th> <td>    2.4997</td> <td>    0.788</td> <td>    3.172</td> <td> 0.002</td> <td>    0.955</td> <td>    4.044</td>\n</tr>\n<tr>\n  <th>cod_ori[3621]</th> <td>    8.1107</td> <td>    0.056</td> <td>  145.476</td> <td> 0.000</td> <td>    8.001</td> <td>    8.220</td>\n</tr>\n<tr>\n  <th>cod_ori[3622]</th> <td>    4.0802</td> <td>    0.364</td> <td>   11.219</td> <td> 0.000</td> <td>    3.367</td> <td>    4.793</td>\n</tr>\n<tr>\n  <th>cod_ori[3624]</th> <td>    6.7278</td> <td>    0.111</td> <td>   60.767</td> <td> 0.000</td> <td>    6.511</td> <td>    6.945</td>\n</tr>\n<tr>\n  <th>cod_ori[3625]</th> <td>    6.4985</td> <td>    0.112</td> <td>   58.268</td> <td> 0.000</td> <td>    6.280</td> <td>    6.717</td>\n</tr>\n<tr>\n  <th>cod_ori[3626]</th> <td>    6.9708</td> <td>    0.101</td> <td>   69.307</td> <td> 0.000</td> <td>    6.774</td> <td>    7.168</td>\n</tr>\n<tr>\n  <th>cod_ori[3627]</th> <td>    7.5834</td> <td>    0.070</td> <td>  108.537</td> <td> 0.000</td> <td>    7.446</td> <td>    7.720</td>\n</tr>\n<tr>\n  <th>cod_ori[3628]</th> <td>    6.8487</td> <td>    0.105</td> <td>   65.217</td> <td> 0.000</td> <td>    6.643</td> <td>    7.054</td>\n</tr>\n<tr>\n  <th>cod_ori[3629]</th> <td>    7.0910</td> <td>    0.092</td> <td>   77.394</td> <td> 0.000</td> <td>    6.911</td> <td>    7.271</td>\n</tr>\n<tr>\n  <th>cod_ori[3630]</th> <td>    5.1721</td> <td>    0.222</td> <td>   23.255</td> <td> 0.000</td> <td>    4.736</td> <td>    5.608</td>\n</tr>\n<tr>\n  <th>cod_ori[3631]</th> <td>    8.4749</td> <td>    0.049</td> <td>  172.774</td> <td> 0.000</td> <td>    8.379</td> <td>    8.571</td>\n</tr>\n<tr>\n  <th>cod_ori[3632]</th> <td>    6.6765</td> <td>    0.116</td> <td>   57.324</td> <td> 0.000</td> <td>    6.448</td> <td>    6.905</td>\n</tr>\n<tr>\n  <th>cod_ori[3633]</th> <td>    7.0280</td> <td>    0.081</td> <td>   86.599</td> <td> 0.000</td> <td>    6.869</td> <td>    7.187</td>\n</tr>\n<tr>\n  <th>cod_ori[3634]</th> <td>    2.4124</td> <td>    0.788</td> <td>    3.062</td> <td> 0.002</td> <td>    0.868</td> <td>    3.957</td>\n</tr>\n<tr>\n  <th>cod_ori[3721]</th> <td>    5.7225</td> <td>    0.181</td> <td>   31.679</td> <td> 0.000</td> <td>    5.368</td> <td>    6.077</td>\n</tr>\n<tr>\n  <th>cod_ori[3722]</th> <td>    6.7068</td> <td>    0.102</td> <td>   65.925</td> <td> 0.000</td> <td>    6.507</td> <td>    6.906</td>\n</tr>\n<tr>\n  <th>cod_ori[3723]</th> <td>    6.4084</td> <td>    0.123</td> <td>   52.161</td> <td> 0.000</td> <td>    6.168</td> <td>    6.649</td>\n</tr>\n<tr>\n  <th>cod_ori[3724]</th> <td>    6.5751</td> <td>    0.109</td> <td>   60.192</td> <td> 0.000</td> <td>    6.361</td> <td>    6.789</td>\n</tr>\n<tr>\n  <th>cod_ori[3725]</th> <td>    4.9600</td> <td>    0.240</td> <td>   20.649</td> <td> 0.000</td> <td>    4.489</td> <td>    5.431</td>\n</tr>\n<tr>\n  <th>cod_ori[3726]</th> <td>    6.5665</td> <td>    0.109</td> <td>   60.445</td> <td> 0.000</td> <td>    6.354</td> <td>    6.779</td>\n</tr>\n<tr>\n  <th>cod_ori[3727]</th> <td>    5.4373</td> <td>    0.180</td> <td>   30.167</td> <td> 0.000</td> <td>    5.084</td> <td>    5.791</td>\n</tr>\n<tr>\n  <th>cod_ori[3729]</th> <td>    7.7868</td> <td>    0.062</td> <td>  124.627</td> <td> 0.000</td> <td>    7.664</td> <td>    7.909</td>\n</tr>\n<tr>\n  <th>cod_ori[3730]</th> <td>    6.2075</td> <td>    0.141</td> <td>   43.901</td> <td> 0.000</td> <td>    5.930</td> <td>    6.485</td>\n</tr>\n<tr>\n  <th>cod_ori[3731]</th> <td>    6.9052</td> <td>    0.093</td> <td>   73.912</td> <td> 0.000</td> <td>    6.722</td> <td>    7.088</td>\n</tr>\n<tr>\n  <th>cod_ori[3732]</th> <td>    8.9713</td> <td>    0.041</td> <td>  220.485</td> <td> 0.000</td> <td>    8.892</td> <td>    9.051</td>\n</tr>\n<tr>\n  <th>cod_ori[3733]</th> <td>    4.2687</td> <td>    0.308</td> <td>   13.842</td> <td> 0.000</td> <td>    3.664</td> <td>    4.873</td>\n</tr>\n<tr>\n  <th>cod_ori[3823]</th> <td>    4.8301</td> <td>    0.283</td> <td>   17.046</td> <td> 0.000</td> <td>    4.275</td> <td>    5.386</td>\n</tr>\n<tr>\n  <th>cod_ori[3825]</th> <td>    3.3742</td> <td>    0.527</td> <td>    6.402</td> <td> 0.000</td> <td>    2.341</td> <td>    4.407</td>\n</tr>\n<tr>\n  <th>cod_ori[3826]</th> <td>    6.0961</td> <td>    0.139</td> <td>   43.977</td> <td> 0.000</td> <td>    5.824</td> <td>    6.368</td>\n</tr>\n<tr>\n  <th>cod_ori[3827]</th> <td>    1.5944</td> <td>    1.277</td> <td>    1.249</td> <td> 0.212</td> <td>   -0.908</td> <td>    4.096</td>\n</tr>\n<tr>\n  <th>cod_ori[3828]</th> <td>    8.6227</td> <td>    0.047</td> <td>  185.223</td> <td> 0.000</td> <td>    8.531</td> <td>    8.714</td>\n</tr>\n<tr>\n  <th>cod_ori[3829]</th> <td>    3.9965</td> <td>    0.423</td> <td>    9.440</td> <td> 0.000</td> <td>    3.167</td> <td>    4.826</td>\n</tr>\n<tr>\n  <th>cod_ori[3830]</th> <td>    7.2961</td> <td>    0.076</td> <td>   95.399</td> <td> 0.000</td> <td>    7.146</td> <td>    7.446</td>\n</tr>\n<tr>\n  <th>cod_ori[3831]</th> <td>    7.7216</td> <td>    0.060</td> <td>  128.125</td> <td> 0.000</td> <td>    7.604</td> <td>    7.840</td>\n</tr>\n<tr>\n  <th>cod_ori[3832]</th> <td>    3.9054</td> <td>    0.390</td> <td>   10.012</td> <td> 0.000</td> <td>    3.141</td> <td>    4.670</td>\n</tr>\n<tr>\n  <th>cod_ori[3833]</th> <td>    3.0722</td> <td>    0.619</td> <td>    4.959</td> <td> 0.000</td> <td>    1.858</td> <td>    4.286</td>\n</tr>\n<tr>\n  <th>cod_ori[3834]</th> <td>    6.3232</td> <td>    0.125</td> <td>   50.468</td> <td> 0.000</td> <td>    6.078</td> <td>    6.569</td>\n</tr>\n<tr>\n  <th>cod_ori[3835]</th> <td>    7.9410</td> <td>    0.057</td> <td>  140.196</td> <td> 0.000</td> <td>    7.830</td> <td>    8.052</td>\n</tr>\n<tr>\n  <th>cod_ori[3836]</th> <td>    4.4274</td> <td>    0.308</td> <td>   14.353</td> <td> 0.000</td> <td>    3.823</td> <td>    5.032</td>\n</tr>\n<tr>\n  <th>cod_ori[3837]</th> <td>    1.6125</td> <td>    1.277</td> <td>    1.263</td> <td> 0.207</td> <td>   -0.890</td> <td>    4.114</td>\n</tr>\n<tr>\n  <th>cod_ori[3838]</th> <td>    1.5882</td> <td>    1.277</td> <td>    1.244</td> <td> 0.213</td> <td>   -0.914</td> <td>    4.090</td>\n</tr>\n<tr>\n  <th>cod_ori[3839]</th> <td>    4.4890</td> <td>    0.283</td> <td>   15.856</td> <td> 0.000</td> <td>    3.934</td> <td>    5.044</td>\n</tr>\n<tr>\n  <th>cod_ori[3840]</th> <td>    1.7358</td> <td>    1.277</td> <td>    1.360</td> <td> 0.174</td> <td>   -0.766</td> <td>    4.238</td>\n</tr>\n<tr>\n  <th>cod_ori[3880]</th> <td>    2.3819</td> <td>    0.788</td> <td>    3.023</td> <td> 0.003</td> <td>    0.838</td> <td>    3.926</td>\n</tr>\n<tr>\n  <th>cod_ori[3881]</th> <td>    1.4375</td> <td>    1.277</td> <td>    1.126</td> <td> 0.260</td> <td>   -1.064</td> <td>    3.939</td>\n</tr>\n<tr>\n  <th>cod_ori[3882]</th> <td>    5.5378</td> <td>    0.196</td> <td>   28.198</td> <td> 0.000</td> <td>    5.153</td> <td>    5.923</td>\n</tr>\n<tr>\n  <th>cod_ori[3910]</th> <td>    2.4808</td> <td>    0.788</td> <td>    3.149</td> <td> 0.002</td> <td>    0.937</td> <td>    4.025</td>\n</tr>\n<tr>\n  <th>cod_ori[3911]</th> <td>    1.4648</td> <td>    1.277</td> <td>    1.148</td> <td> 0.251</td> <td>   -1.037</td> <td>    3.967</td>\n</tr>\n<tr>\n  <th>cod_ori[3912]</th> <td>    2.4339</td> <td>    0.788</td> <td>    3.089</td> <td> 0.002</td> <td>    0.890</td> <td>    3.978</td>\n</tr>\n<tr>\n  <th>cod_ori[3913]</th> <td>    2.4656</td> <td>    0.788</td> <td>    3.129</td> <td> 0.002</td> <td>    0.921</td> <td>    4.010</td>\n</tr>\n<tr>\n  <th>cod_ori[3914]</th> <td>    2.6756</td> <td>    0.788</td> <td>    3.395</td> <td> 0.001</td> <td>    1.131</td> <td>    4.220</td>\n</tr>\n<tr>\n  <th>cod_ori[3921]</th> <td>    4.8804</td> <td>    0.247</td> <td>   19.746</td> <td> 0.000</td> <td>    4.396</td> <td>    5.365</td>\n</tr>\n<tr>\n  <th>cod_ori[3922]</th> <td>    3.4674</td> <td>    0.527</td> <td>    6.578</td> <td> 0.000</td> <td>    2.434</td> <td>    4.501</td>\n</tr>\n<tr>\n  <th>cod_ori[3925]</th> <td>    4.5569</td> <td>    0.295</td> <td>   15.447</td> <td> 0.000</td> <td>    3.979</td> <td>    5.135</td>\n</tr>\n<tr>\n  <th>cod_ori[3926]</th> <td>    1.6200</td> <td>    1.277</td> <td>    1.269</td> <td> 0.204</td> <td>   -0.882</td> <td>    4.122</td>\n</tr>\n<tr>\n  <th>cod_ori[3927]</th> <td>    5.4648</td> <td>    0.218</td> <td>   25.123</td> <td> 0.000</td> <td>    5.038</td> <td>    5.891</td>\n</tr>\n<tr>\n  <th>cod_ori[3928]</th> <td>    3.2232</td> <td>    0.620</td> <td>    5.203</td> <td> 0.000</td> <td>    2.009</td> <td>    4.437</td>\n</tr>\n<tr>\n  <th>cod_ori[3929]</th> <td>    4.5564</td> <td>    0.309</td> <td>   14.765</td> <td> 0.000</td> <td>    3.952</td> <td>    5.161</td>\n</tr>\n<tr>\n  <th>cod_ori[3934]</th> <td>    2.5658</td> <td>    0.788</td> <td>    3.256</td> <td> 0.001</td> <td>    1.021</td> <td>    4.110</td>\n</tr>\n<tr>\n  <th>cod_ori[3935]</th> <td>    5.7643</td> <td>    0.164</td> <td>   35.215</td> <td> 0.000</td> <td>    5.443</td> <td>    6.085</td>\n</tr>\n<tr>\n  <th>cod_ori[3939]</th> <td>    2.8740</td> <td>    0.619</td> <td>    4.641</td> <td> 0.000</td> <td>    1.660</td> <td>    4.088</td>\n</tr>\n<tr>\n  <th>cod_ori[3942]</th> <td>    3.6933</td> <td>    0.467</td> <td>    7.915</td> <td> 0.000</td> <td>    2.779</td> <td>    4.608</td>\n</tr>\n<tr>\n  <th>cod_ori[3943]</th> <td>    2.9834</td> <td>    0.619</td> <td>    4.817</td> <td> 0.000</td> <td>    1.770</td> <td>    4.197</td>\n</tr>\n<tr>\n  <th>cod_ori[3944]</th> <td>    1.6087</td> <td>    1.277</td> <td>    1.260</td> <td> 0.208</td> <td>   -0.893</td> <td>    4.111</td>\n</tr>\n<tr>\n  <th>cod_ori[3945]</th> <td>    1.6057</td> <td>    1.277</td> <td>    1.258</td> <td> 0.208</td> <td>   -0.896</td> <td>    4.108</td>\n</tr>\n<tr>\n  <th>cod_ori[3946]</th> <td>    5.0388</td> <td>    0.240</td> <td>   20.974</td> <td> 0.000</td> <td>    4.568</td> <td>    5.510</td>\n</tr>\n<tr>\n  <th>cod_ori[3948]</th> <td>    2.5662</td> <td>    0.788</td> <td>    3.257</td> <td> 0.001</td> <td>    1.022</td> <td>    4.111</td>\n</tr>\n<tr>\n  <th>cod_ori[3949]</th> <td>    3.0126</td> <td>    0.619</td> <td>    4.863</td> <td> 0.000</td> <td>    1.799</td> <td>    4.227</td>\n</tr>\n<tr>\n  <th>cod_ori[3953]</th> <td>    6.6413</td> <td>    0.101</td> <td>   65.940</td> <td> 0.000</td> <td>    6.444</td> <td>    6.839</td>\n</tr>\n<tr>\n  <th>cod_ori[3956]</th> <td>    3.7672</td> <td>    0.423</td> <td>    8.902</td> <td> 0.000</td> <td>    2.938</td> <td>    4.597</td>\n</tr>\n<tr>\n  <th>cod_ori[3957]</th> <td>    6.7942</td> <td>    0.096</td> <td>   70.720</td> <td> 0.000</td> <td>    6.606</td> <td>    6.982</td>\n</tr>\n<tr>\n  <th>cod_ori[3959]</th> <td>    6.8995</td> <td>    0.091</td> <td>   76.023</td> <td> 0.000</td> <td>    6.722</td> <td>    7.077</td>\n</tr>\n<tr>\n  <th>cod_ori[3962]</th> <td>    4.1337</td> <td>    0.390</td> <td>   10.596</td> <td> 0.000</td> <td>    3.369</td> <td>    4.898</td>\n</tr>\n<tr>\n  <th>cod_ori[3966]</th> <td>    1.6883</td> <td>    1.277</td> <td>    1.323</td> <td> 0.186</td> <td>   -0.814</td> <td>    4.190</td>\n</tr>\n<tr>\n  <th>cod_ori[3968]</th> <td>    2.9807</td> <td>    0.619</td> <td>    4.812</td> <td> 0.000</td> <td>    1.767</td> <td>    4.195</td>\n</tr>\n<tr>\n  <th>cod_ori[3969]</th> <td>    4.4409</td> <td>    0.324</td> <td>   13.705</td> <td> 0.000</td> <td>    3.806</td> <td>    5.076</td>\n</tr>\n<tr>\n  <th>cod_ori[3970]</th> <td>    1.6464</td> <td>    1.277</td> <td>    1.290</td> <td> 0.197</td> <td>   -0.856</td> <td>    4.148</td>\n</tr>\n<tr>\n  <th>cod_ori[3974]</th> <td>    5.0309</td> <td>    0.240</td> <td>   20.940</td> <td> 0.000</td> <td>    4.560</td> <td>    5.502</td>\n</tr>\n<tr>\n  <th>cod_ori[3975]</th> <td>    4.6341</td> <td>    0.283</td> <td>   16.365</td> <td> 0.000</td> <td>    4.079</td> <td>    5.189</td>\n</tr>\n<tr>\n  <th>cod_ori[3978]</th> <td>    1.4572</td> <td>    1.277</td> <td>    1.142</td> <td> 0.254</td> <td>   -1.045</td> <td>    3.959</td>\n</tr>\n<tr>\n  <th>cod_ori[3979]</th> <td>    1.6836</td> <td>    1.277</td> <td>    1.319</td> <td> 0.187</td> <td>   -0.818</td> <td>    4.186</td>\n</tr>\n<tr>\n  <th>cod_ori[3980]</th> <td>    5.1128</td> <td>    0.212</td> <td>   24.079</td> <td> 0.000</td> <td>    4.697</td> <td>    5.529</td>\n</tr>\n<tr>\n  <th>cod_ori[3984]</th> <td>    1.5121</td> <td>    1.277</td> <td>    1.185</td> <td> 0.236</td> <td>   -0.990</td> <td>    4.014</td>\n</tr>\n<tr>\n  <th>cod_ori[3985]</th> <td>    4.6498</td> <td>    0.273</td> <td>   17.055</td> <td> 0.000</td> <td>    4.115</td> <td>    5.184</td>\n</tr>\n<tr>\n  <th>cod_ori[3986]</th> <td>    4.3985</td> <td>    0.324</td> <td>   13.576</td> <td> 0.000</td> <td>    3.764</td> <td>    5.034</td>\n</tr>\n<tr>\n  <th>cod_ori[3987]</th> <td>    5.5120</td> <td>    0.170</td> <td>   32.411</td> <td> 0.000</td> <td>    5.179</td> <td>    5.845</td>\n</tr>\n<tr>\n  <th>cod_ori[3988]</th> <td>    3.0899</td> <td>    0.619</td> <td>    4.989</td> <td> 0.000</td> <td>    1.876</td> <td>    4.304</td>\n</tr>\n<tr>\n  <th>cod_ori[3989]</th> <td>    3.7778</td> <td>    0.390</td> <td>    9.689</td> <td> 0.000</td> <td>    3.014</td> <td>    4.542</td>\n</tr>\n<tr>\n  <th>cod_ori[3990]</th> <td>    1.6526</td> <td>    1.277</td> <td>    1.295</td> <td> 0.195</td> <td>   -0.849</td> <td>    4.155</td>\n</tr>\n<tr>\n  <th>cod_ori[3991]</th> <td>    1.5309</td> <td>    1.277</td> <td>    1.199</td> <td> 0.230</td> <td>   -0.971</td> <td>    4.033</td>\n</tr>\n<tr>\n  <th>cod_ori[3992]</th> <td>    2.9241</td> <td>    0.619</td> <td>    4.721</td> <td> 0.000</td> <td>    1.710</td> <td>    4.138</td>\n</tr>\n<tr>\n  <th>cod_ori[3993]</th> <td>    2.8468</td> <td>    0.619</td> <td>    4.596</td> <td> 0.000</td> <td>    1.633</td> <td>    4.061</td>\n</tr>\n<tr>\n  <th>cod_ori[3994]</th> <td>    2.8248</td> <td>    0.619</td> <td>    4.561</td> <td> 0.000</td> <td>    1.611</td> <td>    4.039</td>\n</tr>\n<tr>\n  <th>cod_ori[3995]</th> <td>    1.3840</td> <td>    1.277</td> <td>    1.084</td> <td> 0.278</td> <td>   -1.118</td> <td>    3.886</td>\n</tr>\n<tr>\n  <th>cod_ori[3996]</th> <td>    1.2945</td> <td>    1.276</td> <td>    1.014</td> <td> 0.311</td> <td>   -1.207</td> <td>    3.796</td>\n</tr>\n<tr>\n  <th>cod_ori[3997]</th> <td>    2.3552</td> <td>    0.788</td> <td>    2.989</td> <td> 0.003</td> <td>    0.811</td> <td>    3.899</td>\n</tr>\n<tr>\n  <th>cod_ori[4220]</th> <td>   10.6090</td> <td>    0.038</td> <td>  281.003</td> <td> 0.000</td> <td>   10.535</td> <td>   10.683</td>\n</tr>\n<tr>\n  <th>cod_ori[4521]</th> <td>    8.1391</td> <td>    0.075</td> <td>  108.704</td> <td> 0.000</td> <td>    7.992</td> <td>    8.286</td>\n</tr>\n<tr>\n  <th>cod_ori[4522]</th> <td>    9.4653</td> <td>    0.052</td> <td>  183.616</td> <td> 0.000</td> <td>    9.364</td> <td>    9.566</td>\n</tr>\n<tr>\n  <th>cod_ori[4621]</th> <td>    7.1803</td> <td>    0.114</td> <td>   62.716</td> <td> 0.000</td> <td>    6.956</td> <td>    7.405</td>\n</tr>\n<tr>\n  <th>cod_ori[4721]</th> <td>    6.9339</td> <td>    0.136</td> <td>   50.965</td> <td> 0.000</td> <td>    6.667</td> <td>    7.201</td>\n</tr>\n<tr>\n  <th>cod_ori[4821]</th> <td>    6.6056</td> <td>    0.163</td> <td>   40.629</td> <td> 0.000</td> <td>    6.287</td> <td>    6.924</td>\n</tr>\n<tr>\n  <th>cod_ori[4822]</th> <td>    4.5030</td> <td>    0.424</td> <td>   10.633</td> <td> 0.000</td> <td>    3.673</td> <td>    5.333</td>\n</tr>\n<tr>\n  <th>cod_ori[4823]</th> <td>    2.4755</td> <td>    1.277</td> <td>    1.939</td> <td> 0.052</td> <td>   -0.027</td> <td>    4.978</td>\n</tr>\n<tr>\n  <th>cod_ori[4824]</th> <td>    5.3632</td> <td>    0.273</td> <td>   19.633</td> <td> 0.000</td> <td>    4.828</td> <td>    5.899</td>\n</tr>\n<tr>\n  <th>cod_ori[4825]</th> <td>    2.2125</td> <td>    1.277</td> <td>    1.733</td> <td> 0.083</td> <td>   -0.290</td> <td>    4.715</td>\n</tr>\n<tr>\n  <th>cod_ori[4827]</th> <td>    6.1853</td> <td>    0.190</td> <td>   32.549</td> <td> 0.000</td> <td>    5.813</td> <td>    6.558</td>\n</tr>\n<tr>\n  <th>cod_ori[4828]</th> <td>    2.2563</td> <td>    1.277</td> <td>    1.767</td> <td> 0.077</td> <td>   -0.246</td> <td>    4.758</td>\n</tr>\n<tr>\n  <th>cod_ori[4829]</th> <td>    4.5180</td> <td>    0.424</td> <td>   10.668</td> <td> 0.000</td> <td>    3.688</td> <td>    5.348</td>\n</tr>\n<tr>\n  <th>cod_ori[4830]</th> <td>    3.9142</td> <td>    0.620</td> <td>    6.317</td> <td> 0.000</td> <td>    2.700</td> <td>    5.129</td>\n</tr>\n<tr>\n  <th>cod_ori[4923]</th> <td>    4.6967</td> <td>    0.390</td> <td>   12.031</td> <td> 0.000</td> <td>    3.932</td> <td>    5.462</td>\n</tr>\n<tr>\n  <th>cod_ori[4924]</th> <td>    6.4249</td> <td>    0.171</td> <td>   37.554</td> <td> 0.000</td> <td>    6.090</td> <td>    6.760</td>\n</tr>\n<tr>\n  <th>cod_ori[4930]</th> <td>    2.4248</td> <td>    1.277</td> <td>    1.899</td> <td> 0.058</td> <td>   -0.077</td> <td>    4.927</td>\n</tr>\n<tr>\n  <th>cod_ori[4940]</th> <td>    3.1990</td> <td>    0.788</td> <td>    4.059</td> <td> 0.000</td> <td>    1.654</td> <td>    4.744</td>\n</tr>\n<tr>\n  <th>cod_ori[4943]</th> <td>    2.4242</td> <td>    1.277</td> <td>    1.899</td> <td> 0.058</td> <td>   -0.078</td> <td>    4.926</td>\n</tr>\n<tr>\n  <th>cod_ori[4948]</th> <td>    3.2671</td> <td>    0.788</td> <td>    4.146</td> <td> 0.000</td> <td>    1.723</td> <td>    4.812</td>\n</tr>\n<tr>\n  <th>cod_ori[4949]</th> <td>    5.8182</td> <td>    0.248</td> <td>   23.477</td> <td> 0.000</td> <td>    5.333</td> <td>    6.304</td>\n</tr>\n<tr>\n  <th>cod_ori[4952]</th> <td>    4.1943</td> <td>    0.527</td> <td>    7.956</td> <td> 0.000</td> <td>    3.161</td> <td>    5.228</td>\n</tr>\n<tr>\n  <th>cod_ori[4956]</th> <td>    2.3777</td> <td>    1.277</td> <td>    1.862</td> <td> 0.063</td> <td>   -0.124</td> <td>    4.880</td>\n</tr>\n<tr>\n  <th>cod_ori[4966]</th> <td>    4.7165</td> <td>    0.390</td> <td>   12.081</td> <td> 0.000</td> <td>    3.951</td> <td>    5.482</td>\n</tr>\n<tr>\n  <th>cod_ori[4968]</th> <td>    4.0827</td> <td>    0.527</td> <td>    7.742</td> <td> 0.000</td> <td>    3.049</td> <td>    5.116</td>\n</tr>\n<tr>\n  <th>cod_ori[4981]</th> <td>    2.3977</td> <td>    1.277</td> <td>    1.878</td> <td> 0.060</td> <td>   -0.104</td> <td>    4.900</td>\n</tr>\n<tr>\n  <th>cod_ori[4983]</th> <td>    2.2329</td> <td>    1.277</td> <td>    1.749</td> <td> 0.080</td> <td>   -0.269</td> <td>    4.735</td>\n</tr>\n<tr>\n  <th>cod_ori[4987]</th> <td>    2.2413</td> <td>    1.277</td> <td>    1.756</td> <td> 0.079</td> <td>   -0.261</td> <td>    4.743</td>\n</tr>\n<tr>\n  <th>cod_ori[4988]</th> <td>    3.2426</td> <td>    0.788</td> <td>    4.115</td> <td> 0.000</td> <td>    1.698</td> <td>    4.787</td>\n</tr>\n<tr>\n  <th>cod_ori[4989]</th> <td>    3.2419</td> <td>    0.788</td> <td>    4.114</td> <td> 0.000</td> <td>    1.697</td> <td>    4.787</td>\n</tr>\n<tr>\n  <th>cod_ori[5320]</th> <td>    9.4548</td> <td>    0.046</td> <td>  205.315</td> <td> 0.000</td> <td>    9.364</td> <td>    9.545</td>\n</tr>\n<tr>\n  <th>cod_ori[5321]</th> <td>    9.1576</td> <td>    0.051</td> <td>  178.987</td> <td> 0.000</td> <td>    9.057</td> <td>    9.258</td>\n</tr>\n<tr>\n  <th>cod_ori[5323]</th> <td>    8.7044</td> <td>    0.055</td> <td>  158.497</td> <td> 0.000</td> <td>    8.597</td> <td>    8.812</td>\n</tr>\n<tr>\n  <th>cod_ori[5421]</th> <td>    8.5237</td> <td>    0.057</td> <td>  149.410</td> <td> 0.000</td> <td>    8.412</td> <td>    8.636</td>\n</tr>\n<tr>\n  <th>cod_ori[5422]</th> <td>    8.3431</td> <td>    0.061</td> <td>  136.691</td> <td> 0.000</td> <td>    8.223</td> <td>    8.463</td>\n</tr>\n<tr>\n  <th>cod_ori[5423]</th> <td>    8.4263</td> <td>    0.067</td> <td>  125.072</td> <td> 0.000</td> <td>    8.294</td> <td>    8.558</td>\n</tr>\n<tr>\n  <th>cod_ori[5452]</th> <td>    4.8430</td> <td>    0.324</td> <td>   14.937</td> <td> 0.000</td> <td>    4.208</td> <td>    5.479</td>\n</tr>\n<tr>\n  <th>cod_ori[5521]</th> <td>    7.7064</td> <td>    0.085</td> <td>   90.581</td> <td> 0.000</td> <td>    7.540</td> <td>    7.873</td>\n</tr>\n<tr>\n  <th>cod_ori[5522]</th> <td>    8.1950</td> <td>    0.068</td> <td>  121.154</td> <td> 0.000</td> <td>    8.062</td> <td>    8.328</td>\n</tr>\n<tr>\n  <th>cod_ori[5621]</th> <td>    7.4332</td> <td>    0.086</td> <td>   86.532</td> <td> 0.000</td> <td>    7.265</td> <td>    7.602</td>\n</tr>\n<tr>\n  <th>cod_ori[5622]</th> <td>    7.2555</td> <td>    0.099</td> <td>   73.409</td> <td> 0.000</td> <td>    7.062</td> <td>    7.449</td>\n</tr>\n<tr>\n  <th>cod_ori[5721]</th> <td>    6.2054</td> <td>    0.166</td> <td>   37.339</td> <td> 0.000</td> <td>    5.880</td> <td>    6.531</td>\n</tr>\n<tr>\n  <th>cod_ori[5722]</th> <td>    2.1593</td> <td>    1.277</td> <td>    1.691</td> <td> 0.091</td> <td>   -0.343</td> <td>    4.661</td>\n</tr>\n<tr>\n  <th>cod_ori[5724]</th> <td>    4.6594</td> <td>    0.324</td> <td>   14.375</td> <td> 0.000</td> <td>    4.024</td> <td>    5.295</td>\n</tr>\n<tr>\n  <th>cod_ori[5726]</th> <td>    5.3276</td> <td>    0.247</td> <td>   21.530</td> <td> 0.000</td> <td>    4.843</td> <td>    5.813</td>\n</tr>\n<tr>\n  <th>cod_ori[5727]</th> <td>    1.9824</td> <td>    1.277</td> <td>    1.553</td> <td> 0.120</td> <td>   -0.520</td> <td>    4.484</td>\n</tr>\n<tr>\n  <th>cod_ori[5798]</th> <td>    5.0971</td> <td>    0.283</td> <td>   17.991</td> <td> 0.000</td> <td>    4.542</td> <td>    5.652</td>\n</tr>\n<tr>\n  <th>cod_ori[5821]</th> <td>    1.9685</td> <td>    1.277</td> <td>    1.542</td> <td> 0.123</td> <td>   -0.534</td> <td>    4.471</td>\n</tr>\n<tr>\n  <th>cod_ori[5824]</th> <td>    5.0182</td> <td>    0.284</td> <td>   17.701</td> <td> 0.000</td> <td>    4.463</td> <td>    5.574</td>\n</tr>\n<tr>\n  <th>cod_ori[5826]</th> <td>    2.0786</td> <td>    1.277</td> <td>    1.628</td> <td> 0.103</td> <td>   -0.423</td> <td>    4.581</td>\n</tr>\n<tr>\n  <th>cod_ori[5827]</th> <td>    4.6063</td> <td>    0.364</td> <td>   12.656</td> <td> 0.000</td> <td>    3.893</td> <td>    5.320</td>\n</tr>\n<tr>\n  <th>cod_ori[5829]</th> <td>    4.3452</td> <td>    0.423</td> <td>   10.263</td> <td> 0.000</td> <td>    3.515</td> <td>    5.175</td>\n</tr>\n<tr>\n  <th>cod_ori[5831]</th> <td>    6.4138</td> <td>    0.152</td> <td>   42.276</td> <td> 0.000</td> <td>    6.116</td> <td>    6.711</td>\n</tr>\n<tr>\n  <th>cod_ori[5923]</th> <td>    5.0806</td> <td>    0.295</td> <td>   17.202</td> <td> 0.000</td> <td>    4.502</td> <td>    5.659</td>\n</tr>\n<tr>\n  <th>cod_ori[5924]</th> <td>    4.7652</td> <td>    0.324</td> <td>   14.697</td> <td> 0.000</td> <td>    4.130</td> <td>    5.401</td>\n</tr>\n<tr>\n  <th>cod_ori[5925]</th> <td>    4.3885</td> <td>    0.390</td> <td>   11.245</td> <td> 0.000</td> <td>    3.624</td> <td>    5.153</td>\n</tr>\n<tr>\n  <th>cod_ori[5927]</th> <td>    2.0066</td> <td>    1.277</td> <td>    1.572</td> <td> 0.116</td> <td>   -0.495</td> <td>    4.509</td>\n</tr>\n<tr>\n  <th>cod_ori[5931]</th> <td>    3.3384</td> <td>    0.619</td> <td>    5.390</td> <td> 0.000</td> <td>    2.124</td> <td>    4.552</td>\n</tr>\n<tr>\n  <th>cod_ori[5932]</th> <td>    3.4179</td> <td>    0.620</td> <td>    5.516</td> <td> 0.000</td> <td>    2.204</td> <td>    4.632</td>\n</tr>\n<tr>\n  <th>cod_ori[5938]</th> <td>    5.4984</td> <td>    0.223</td> <td>   24.698</td> <td> 0.000</td> <td>    5.062</td> <td>    5.935</td>\n</tr>\n<tr>\n  <th>cod_ori[5940]</th> <td>    2.9394</td> <td>    0.788</td> <td>    3.730</td> <td> 0.000</td> <td>    1.395</td> <td>    4.484</td>\n</tr>\n<tr>\n  <th>cod_ori[5951]</th> <td>    3.8506</td> <td>    0.467</td> <td>    8.252</td> <td> 0.000</td> <td>    2.936</td> <td>    4.765</td>\n</tr>\n<tr>\n  <th>cod_ori[5955]</th> <td>    2.8560</td> <td>    0.788</td> <td>    3.624</td> <td> 0.000</td> <td>    1.312</td> <td>    4.400</td>\n</tr>\n<tr>\n  <th>cod_ori[5956]</th> <td>    4.6450</td> <td>    0.364</td> <td>   12.764</td> <td> 0.000</td> <td>    3.932</td> <td>    5.358</td>\n</tr>\n<tr>\n  <th>cod_ori[5959]</th> <td>    1.7417</td> <td>    1.277</td> <td>    1.364</td> <td> 0.172</td> <td>   -0.760</td> <td>    4.244</td>\n</tr>\n<tr>\n  <th>cod_ori[5960]</th> <td>    3.5397</td> <td>    0.527</td> <td>    6.716</td> <td> 0.000</td> <td>    2.507</td> <td>    4.573</td>\n</tr>\n<tr>\n  <th>cod_ori[5961]</th> <td>    1.7674</td> <td>    1.277</td> <td>    1.385</td> <td> 0.166</td> <td>   -0.735</td> <td>    4.269</td>\n</tr>\n<tr>\n  <th>cod_ori[5962]</th> <td>    3.9907</td> <td>    0.423</td> <td>    9.430</td> <td> 0.000</td> <td>    3.161</td> <td>    4.820</td>\n</tr>\n<tr>\n  <th>cod_ori[5964]</th> <td>    2.1802</td> <td>    1.277</td> <td>    1.708</td> <td> 0.088</td> <td>   -0.322</td> <td>    4.682</td>\n</tr>\n<tr>\n  <th>cod_ori[5969]</th> <td>    3.0873</td> <td>    0.788</td> <td>    3.918</td> <td> 0.000</td> <td>    1.543</td> <td>    4.632</td>\n</tr>\n<tr>\n  <th>cod_ori[5977]</th> <td>    4.3416</td> <td>    0.423</td> <td>   10.255</td> <td> 0.000</td> <td>    3.512</td> <td>    5.171</td>\n</tr>\n<tr>\n  <th>cod_ori[5979]</th> <td>    4.5091</td> <td>    0.364</td> <td>   12.393</td> <td> 0.000</td> <td>    3.796</td> <td>    5.222</td>\n</tr>\n<tr>\n  <th>cod_ori[5980]</th> <td>    1.9442</td> <td>    1.277</td> <td>    1.523</td> <td> 0.128</td> <td>   -0.558</td> <td>    4.446</td>\n</tr>\n<tr>\n  <th>cod_ori[5987]</th> <td>    2.2124</td> <td>    1.277</td> <td>    1.733</td> <td> 0.083</td> <td>   -0.290</td> <td>    4.715</td>\n</tr>\n<tr>\n  <th>cod_ori[5989]</th> <td>    2.9561</td> <td>    0.788</td> <td>    3.751</td> <td> 0.000</td> <td>    1.412</td> <td>    4.501</td>\n</tr>\n<tr>\n  <th>cod_ori[5993]</th> <td>    2.2231</td> <td>    1.277</td> <td>    1.741</td> <td> 0.082</td> <td>   -0.279</td> <td>    4.725</td>\n</tr>\n<tr>\n  <th>cod_ori[5994]</th> <td>    2.0727</td> <td>    1.277</td> <td>    1.624</td> <td> 0.104</td> <td>   -0.429</td> <td>    4.575</td>\n</tr>\n<tr>\n  <th>cod_ori[5996]</th> <td>    2.0667</td> <td>    1.277</td> <td>    1.619</td> <td> 0.105</td> <td>   -0.435</td> <td>    4.569</td>\n</tr>\n<tr>\n  <th>cod_ori[5997]</th> <td>    2.0924</td> <td>    1.277</td> <td>    1.639</td> <td> 0.101</td> <td>   -0.410</td> <td>    4.594</td>\n</tr>\n<tr>\n  <th>cod_ori[5998]</th> <td>    2.1604</td> <td>    1.277</td> <td>    1.692</td> <td> 0.091</td> <td>   -0.342</td> <td>    4.663</td>\n</tr>\n<tr>\n  <th>cod_ori[5999]</th> <td>    6.7085</td> <td>    0.125</td> <td>   53.776</td> <td> 0.000</td> <td>    6.464</td> <td>    6.953</td>\n</tr>\n<tr>\n  <th>cod_ori[6220]</th> <td>   10.0869</td> <td>    0.040</td> <td>  250.337</td> <td> 0.000</td> <td>   10.008</td> <td>   10.166</td>\n</tr>\n<tr>\n  <th>cod_ori[6421]</th> <td>    8.9237</td> <td>    0.054</td> <td>  163.957</td> <td> 0.000</td> <td>    8.817</td> <td>    9.030</td>\n</tr>\n<tr>\n  <th>cod_ori[6521]</th> <td>    7.2419</td> <td>    0.106</td> <td>   68.217</td> <td> 0.000</td> <td>    7.034</td> <td>    7.450</td>\n</tr>\n<tr>\n  <th>cod_ori[6621]</th> <td>    7.3735</td> <td>    0.106</td> <td>   69.670</td> <td> 0.000</td> <td>    7.166</td> <td>    7.581</td>\n</tr>\n<tr>\n  <th>cod_ori[6622]</th> <td>    7.3605</td> <td>    0.110</td> <td>   66.918</td> <td> 0.000</td> <td>    7.145</td> <td>    7.576</td>\n</tr>\n<tr>\n  <th>cod_ori[6721]</th> <td>    6.8339</td> <td>    0.128</td> <td>   53.411</td> <td> 0.000</td> <td>    6.583</td> <td>    7.085</td>\n</tr>\n<tr>\n  <th>cod_ori[6722]</th> <td>    6.0758</td> <td>    0.184</td> <td>   33.057</td> <td> 0.000</td> <td>    5.716</td> <td>    6.436</td>\n</tr>\n<tr>\n  <th>cod_ori[6724]</th> <td>    5.9486</td> <td>    0.187</td> <td>   31.859</td> <td> 0.000</td> <td>    5.583</td> <td>    6.315</td>\n</tr>\n<tr>\n  <th>cod_ori[6790]</th> <td>    6.8698</td> <td>    0.121</td> <td>   56.850</td> <td> 0.000</td> <td>    6.633</td> <td>    7.107</td>\n</tr>\n<tr>\n  <th>cod_ori[6821]</th> <td>    6.2727</td> <td>    0.173</td> <td>   36.187</td> <td> 0.000</td> <td>    5.933</td> <td>    6.612</td>\n</tr>\n<tr>\n  <th>cod_ori[6922]</th> <td>    4.2786</td> <td>    0.467</td> <td>    9.163</td> <td> 0.000</td> <td>    3.363</td> <td>    5.194</td>\n</tr>\n<tr>\n  <th>cod_ori[6924]</th> <td>    3.9378</td> <td>    0.527</td> <td>    7.468</td> <td> 0.000</td> <td>    2.904</td> <td>    4.971</td>\n</tr>\n<tr>\n  <th>cod_ori[6940]</th> <td>    3.2019</td> <td>    0.788</td> <td>    4.063</td> <td> 0.000</td> <td>    1.657</td> <td>    4.747</td>\n</tr>\n<tr>\n  <th>cod_ori[6951]</th> <td>    4.1461</td> <td>    0.467</td> <td>    8.880</td> <td> 0.000</td> <td>    3.231</td> <td>    5.061</td>\n</tr>\n<tr>\n  <th>cod_ori[6960]</th> <td>    2.1975</td> <td>    1.277</td> <td>    1.721</td> <td> 0.085</td> <td>   -0.305</td> <td>    4.700</td>\n</tr>\n<tr>\n  <th>cod_ori[6964]</th> <td>    6.1147</td> <td>    0.190</td> <td>   32.177</td> <td> 0.000</td> <td>    5.742</td> <td>    6.487</td>\n</tr>\n<tr>\n  <th>cod_ori[6972]</th> <td>    2.2670</td> <td>    1.277</td> <td>    1.776</td> <td> 0.076</td> <td>   -0.235</td> <td>    4.769</td>\n</tr>\n<tr>\n  <th>cod_ori[7320]</th> <td>    9.6192</td> <td>    0.045</td> <td>  215.666</td> <td> 0.000</td> <td>    9.532</td> <td>    9.707</td>\n</tr>\n<tr>\n  <th>cod_ori[7721]</th> <td>    7.7531</td> <td>    0.141</td> <td>   54.943</td> <td> 0.000</td> <td>    7.477</td> <td>    8.030</td>\n</tr>\n<tr>\n  <th>log_dist</th>      <td>   -0.7420</td> <td>    0.003</td> <td> -268.317</td> <td> 0.000</td> <td>   -0.747</td> <td>   -0.737</td>\n</tr>\n</table>"
     },
     "metadata": {},
     "execution_count": 17
    }
   ],
   "source": [
    "prodSim.summary()"
   ]
  },
  {
   "cell_type": "code",
   "execution_count": 54,
   "metadata": {},
   "outputs": [
    {
     "output_type": "display_data",
     "data": {
      "text/plain": "<Figure size 1800x1200 with 1 Axes>",
      "image/png": "[encoded data removed]"
     },
     "metadata": {
      "needs_background": "light"
     }
    }
   ],
   "source": [
    "#zero inflated\n",
    "from patsy import dmatrices\n",
    "\n",
    "\n",
    "df = flujos_loc\n",
    "\n",
    "expr = \"personas_mig ~ cod_ori + log_dist -1\"\n",
    "\n",
    "mask = np.random.rand(len(df)) < 0.8\n",
    "df_train = df[mask]\n",
    "df_test = df[~mask]\n",
    "print('Training data set length='+str(len(df_train)))\n",
    "print('Testing data set length='+str(len(df_test)))\n",
    "\n",
    "\n",
    "y_train, X_train = dmatrices(expr, df_train, return_type='dataframe')\n",
    "y_test, X_test = dmatrices(expr, df_test, return_type='dataframe')\n",
    "\n",
    "zip_training_results = sm.ZeroInflatedPoisson(endog=y_train, exog=X_train, exog_infl=X_train, inflation='logit').fit()\n",
    "\n",
    "zip_training_results.summary()\n",
    "\n",
    "zip_predictions = zip_training_results.predict(X_test,exog_infl=X_test)\n",
    "\n",
    "predicted_counts=np.round(zip_predictions)\n",
    "\n",
    "actual_counts = y_test['personas_mig']\n",
    "\n",
    "print('ZIP RMSE='+str(np.sqrt(np.sum(np.power(np.subtract(predicted_counts,actual_counts),2)))))\n",
    "\n",
    "\n",
    "\n",
    "fig = plt.figure(figsize=(12, 8), dpi=150)\n",
    "\n",
    "fig.suptitle('Predicted versus actual counts using the ZIP model')\n",
    "\n",
    "predicted, = plt.plot(X_test.index, predicted_counts, 'g', label='Predicted')\n",
    "\n",
    "actual, = plt.plot(X_test.index, actual_counts, 'r', label='Actual')\n",
    "\n",
    "plt.legend(handles=[predicted, actual])\n",
    "\n",
    "plt.show()"
   ]
  },
  {
   "cell_type": "code",
   "execution_count": 1,
   "metadata": {},
   "outputs": [
    {
     "output_type": "error",
     "ename": "NameError",
     "evalue": "name 'prodSim' is not defined",
     "traceback": [
      "\u001b[0;31m---------------------------------------------------------------------------\u001b[0m",
      "\u001b[0;31mNameError\u001b[0m                                 Traceback (most recent call last)",
      "\u001b[0;32m<ipython-input-1-c7b0c78b8ff1>\u001b[0m in \u001b[0;36m<module>\u001b[0;34m\u001b[0m\n\u001b[0;32m----> 1\u001b[0;31m \u001b[0mprodSim\u001b[0m\u001b[0;34m.\u001b[0m\u001b[0msummary\u001b[0m\u001b[0;34m(\u001b[0m\u001b[0;34m)\u001b[0m\u001b[0;34m\u001b[0m\u001b[0;34m\u001b[0m\u001b[0m\n\u001b[0m",
      "\u001b[0;31mNameError\u001b[0m: name 'prodSim' is not defined"
     ]
    }
   ],
   "source": [
    "prodSim.summary()"
   ]
  },
  {
   "cell_type": "code",
   "execution_count": 3,
   "metadata": {},
   "outputs": [],
   "source": [
    "# funciones para recuperar parámetros e imprimir\n",
    "def get_gml_params(model, variables):\n",
    "    \"Accede a los parámetros alfa y beta dentro de los resutaldos del modelo\"\n",
    "    params = [model.params[i] for i in variables]\n",
    "    params_str = [str(round(i, 4)) for i in params]\n",
    "    return params, params_str\n",
    "\n",
    "def print_params(variables, params_list):\n",
    "    \"Imprime los parámetros\"\n",
    "    return print(\"\"\"alpha ({}) = {}\\nbeta ({}) = {}\n",
    "    \"\"\".format(variables[0], params_list[0], variables[1], params_list[1]))"
   ]
  },
  {
   "cell_type": "code",
   "execution_count": 4,
   "metadata": {},
   "outputs": [
    {
     "output_type": "error",
     "ename": "NameError",
     "evalue": "name 'prodSim' is not defined",
     "traceback": [
      "\u001b[0;31m---------------------------------------------------------------------------\u001b[0m",
      "\u001b[0;31mNameError\u001b[0m                                 Traceback (most recent call last)",
      "\u001b[0;32m<ipython-input-4-b1b06d6bb8ed>\u001b[0m in \u001b[0;36m<module>\u001b[0;34m\u001b[0m\n\u001b[1;32m      2\u001b[0m \u001b[0mvariables\u001b[0m\u001b[0;34m=\u001b[0m \u001b[0;34m[\u001b[0m\u001b[0;34m'cod_ori'\u001b[0m\u001b[0;34m,\u001b[0m \u001b[0;34m'log_dist'\u001b[0m\u001b[0;34m]\u001b[0m\u001b[0;34m\u001b[0m\u001b[0;34m\u001b[0m\u001b[0m\n\u001b[1;32m      3\u001b[0m \u001b[0;34m\u001b[0m\u001b[0m\n\u001b[0;32m----> 4\u001b[0;31m \u001b[0mparams\u001b[0m\u001b[0;34m,\u001b[0m \u001b[0mparams_str\u001b[0m \u001b[0;34m=\u001b[0m \u001b[0mget_gml_params\u001b[0m\u001b[0;34m(\u001b[0m\u001b[0mprodSim\u001b[0m\u001b[0;34m,\u001b[0m \u001b[0mvariables\u001b[0m\u001b[0;34m)\u001b[0m\u001b[0;34m\u001b[0m\u001b[0;34m\u001b[0m\u001b[0m\n\u001b[0m\u001b[1;32m      5\u001b[0m \u001b[0;34m\u001b[0m\u001b[0m\n\u001b[1;32m      6\u001b[0m \u001b[0mprint_params\u001b[0m\u001b[0;34m(\u001b[0m\u001b[0mvariables\u001b[0m\u001b[0;34m,\u001b[0m \u001b[0mparams_str\u001b[0m\u001b[0;34m)\u001b[0m\u001b[0;34m\u001b[0m\u001b[0;34m\u001b[0m\u001b[0m\n",
      "\u001b[0;31mNameError\u001b[0m: name 'prodSim' is not defined"
     ]
    }
   ],
   "source": [
    "# imprime parámetros\n",
    "variables= ['cod_ori', 'log_dist']\n",
    "\n",
    "params, params_str = get_gml_params(prodSim, variables)\n",
    "\n",
    "print_params(variables, params_str)"
   ]
  },
  {
   "cell_type": "code",
   "execution_count": 14,
   "metadata": {},
   "outputs": [
    {
     "output_type": "execute_result",
     "data": {
      "text/plain": [
       "           cod  cod_ori  cod_des  poblacion_ori  poblacion_des  personas_mig  \\\n",
       "0     10202220     1020     2220        1304729          40657       635.000   \n",
       "1229  25212220     2521     2220          12200          40657         0.001   \n",
       "1843  25222220     2522     2220           2659          40657         0.001   \n",
       "2457  26212220     2621     2220           2531          40657         0.001   \n",
       "3071  27212220     2721     2220            380          40657         0.001   \n",
       "\n",
       "      distancia_m   log_dist        O_i       D_j  \n",
       "0          583715  13.277168  55484.172  1043.544  \n",
       "1229       137927  11.834480   1172.518  1043.544  \n",
       "1843       111408  11.620954    144.595  1043.544  \n",
       "2457       106867  11.579340    191.580  1043.544  \n",
       "3071        58392  10.974934     12.609  1043.544  "
      ],
      "text/html": "<div>\n<style scoped>\n    .dataframe tbody tr th:only-of-type {\n        vertical-align: middle;\n    }\n\n    .dataframe tbody tr th {\n        vertical-align: top;\n    }\n\n    .dataframe thead th {\n        text-align: right;\n    }\n</style>\n<table border=\"1\" class=\"dataframe\">\n  <thead>\n    <tr style=\"text-align: right;\">\n      <th></th>\n      <th>cod</th>\n      <th>cod_ori</th>\n      <th>cod_des</th>\n      <th>poblacion_ori</th>\n      <th>poblacion_des</th>\n      <th>personas_mig</th>\n      <th>distancia_m</th>\n      <th>log_dist</th>\n      <th>O_i</th>\n      <th>D_j</th>\n    </tr>\n  </thead>\n  <tbody>\n    <tr>\n      <th>0</th>\n      <td>10202220</td>\n      <td>1020</td>\n      <td>2220</td>\n      <td>1304729</td>\n      <td>40657</td>\n      <td>635.000</td>\n      <td>583715</td>\n      <td>13.277168</td>\n      <td>55484.172</td>\n      <td>1043.544</td>\n    </tr>\n    <tr>\n      <th>1229</th>\n      <td>25212220</td>\n      <td>2521</td>\n      <td>2220</td>\n      <td>12200</td>\n      <td>40657</td>\n      <td>0.001</td>\n      <td>137927</td>\n      <td>11.834480</td>\n      <td>1172.518</td>\n      <td>1043.544</td>\n    </tr>\n    <tr>\n      <th>1843</th>\n      <td>25222220</td>\n      <td>2522</td>\n      <td>2220</td>\n      <td>2659</td>\n      <td>40657</td>\n      <td>0.001</td>\n      <td>111408</td>\n      <td>11.620954</td>\n      <td>144.595</td>\n      <td>1043.544</td>\n    </tr>\n    <tr>\n      <th>2457</th>\n      <td>26212220</td>\n      <td>2621</td>\n      <td>2220</td>\n      <td>2531</td>\n      <td>40657</td>\n      <td>0.001</td>\n      <td>106867</td>\n      <td>11.579340</td>\n      <td>191.580</td>\n      <td>1043.544</td>\n    </tr>\n    <tr>\n      <th>3071</th>\n      <td>27212220</td>\n      <td>2721</td>\n      <td>2220</td>\n      <td>380</td>\n      <td>40657</td>\n      <td>0.001</td>\n      <td>58392</td>\n      <td>10.974934</td>\n      <td>12.609</td>\n      <td>1043.544</td>\n    </tr>\n  </tbody>\n</table>\n</div>"
     },
     "metadata": {},
     "execution_count": 14
    }
   ],
   "source": [
    "# crea la sumatoria de migrantes en origen (Oi)\n",
    "O_i = flujos_loc.groupby('cod_ori')['personas_mig'].sum().to_frame().rename(columns = {'personas_mig':'O_i'})\n",
    "\n",
    "# crea la sumatoria de migrantes en destino (Di)\n",
    "D_j = flujos_loc.groupby('cod_des')['personas_mig'].sum().to_frame().rename(columns = {'personas_mig':'D_j'})\n",
    "\n",
    "# pega ambas variables con el df\n",
    "flujos_loc = flujos_loc.merge(O_i, left_on='cod_ori', right_index=True)\n",
    "flujos_loc = flujos_loc.merge(D_j, left_on='cod_des', right_index=True)\n",
    "\n",
    "flujos_loc.head()"
   ]
  },
  {
   "cell_type": "code",
   "execution_count": 17,
   "metadata": {},
   "outputs": [
    {
     "output_type": "error",
     "ename": "ValueError",
     "evalue": "You are trying to merge on int64 and object columns. If you wish to proceed you should use pd.concat",
     "traceback": [
      "\u001b[1;31m---------------------------------------------------------------------------\u001b[0m",
      "\u001b[1;31mValueError\u001b[0m                                Traceback (most recent call last)",
      "\u001b[1;32m<ipython-input-17-e3e610ee2637>\u001b[0m in \u001b[0;36m<module>\u001b[1;34m\u001b[0m\n\u001b[0;32m     10\u001b[0m \u001b[1;33m\u001b[0m\u001b[0m\n\u001b[0;32m     11\u001b[0m \u001b[1;31m# merge\u001b[0m\u001b[1;33m\u001b[0m\u001b[1;33m\u001b[0m\u001b[1;33m\u001b[0m\u001b[0m\n\u001b[1;32m---> 12\u001b[1;33m \u001b[0mflujos_loc\u001b[0m \u001b[1;33m=\u001b[0m \u001b[0mflujos_loc\u001b[0m\u001b[1;33m.\u001b[0m\u001b[0mmerge\u001b[0m\u001b[1;33m(\u001b[0m\u001b[0mmu_i\u001b[0m\u001b[1;33m,\u001b[0m \u001b[0mleft_on\u001b[0m\u001b[1;33m=\u001b[0m\u001b[1;34m'cod_ori'\u001b[0m\u001b[1;33m,\u001b[0m \u001b[0mright_index\u001b[0m\u001b[1;33m=\u001b[0m\u001b[1;32mTrue\u001b[0m\u001b[1;33m)\u001b[0m\u001b[1;33m\u001b[0m\u001b[1;33m\u001b[0m\u001b[0m\n\u001b[0m",
      "\u001b[1;32m~\\anaconda3\\envs\\tesis\\lib\\site-packages\\pandas\\core\\frame.py\u001b[0m in \u001b[0;36mmerge\u001b[1;34m(self, right, how, on, left_on, right_on, left_index, right_index, sort, suffixes, copy, indicator, validate)\u001b[0m\n\u001b[0;32m   8193\u001b[0m         \u001b[1;32mfrom\u001b[0m \u001b[0mpandas\u001b[0m\u001b[1;33m.\u001b[0m\u001b[0mcore\u001b[0m\u001b[1;33m.\u001b[0m\u001b[0mreshape\u001b[0m\u001b[1;33m.\u001b[0m\u001b[0mmerge\u001b[0m \u001b[1;32mimport\u001b[0m \u001b[0mmerge\u001b[0m\u001b[1;33m\u001b[0m\u001b[1;33m\u001b[0m\u001b[0m\n\u001b[0;32m   8194\u001b[0m \u001b[1;33m\u001b[0m\u001b[0m\n\u001b[1;32m-> 8195\u001b[1;33m         return merge(\n\u001b[0m\u001b[0;32m   8196\u001b[0m             \u001b[0mself\u001b[0m\u001b[1;33m,\u001b[0m\u001b[1;33m\u001b[0m\u001b[1;33m\u001b[0m\u001b[0m\n\u001b[0;32m   8197\u001b[0m             \u001b[0mright\u001b[0m\u001b[1;33m,\u001b[0m\u001b[1;33m\u001b[0m\u001b[1;33m\u001b[0m\u001b[0m\n",
      "\u001b[1;32m~\\anaconda3\\envs\\tesis\\lib\\site-packages\\pandas\\core\\reshape\\merge.py\u001b[0m in \u001b[0;36mmerge\u001b[1;34m(left, right, how, on, left_on, right_on, left_index, right_index, sort, suffixes, copy, indicator, validate)\u001b[0m\n\u001b[0;32m     72\u001b[0m     \u001b[0mvalidate\u001b[0m\u001b[1;33m=\u001b[0m\u001b[1;32mNone\u001b[0m\u001b[1;33m,\u001b[0m\u001b[1;33m\u001b[0m\u001b[1;33m\u001b[0m\u001b[0m\n\u001b[0;32m     73\u001b[0m ) -> \"DataFrame\":\n\u001b[1;32m---> 74\u001b[1;33m     op = _MergeOperation(\n\u001b[0m\u001b[0;32m     75\u001b[0m         \u001b[0mleft\u001b[0m\u001b[1;33m,\u001b[0m\u001b[1;33m\u001b[0m\u001b[1;33m\u001b[0m\u001b[0m\n\u001b[0;32m     76\u001b[0m         \u001b[0mright\u001b[0m\u001b[1;33m,\u001b[0m\u001b[1;33m\u001b[0m\u001b[1;33m\u001b[0m\u001b[0m\n",
      "\u001b[1;32m~\\anaconda3\\envs\\tesis\\lib\\site-packages\\pandas\\core\\reshape\\merge.py\u001b[0m in \u001b[0;36m__init__\u001b[1;34m(self, left, right, how, on, left_on, right_on, axis, left_index, right_index, sort, suffixes, copy, indicator, validate)\u001b[0m\n\u001b[0;32m    670\u001b[0m         \u001b[1;31m# validate the merge keys dtypes. We may need to coerce\u001b[0m\u001b[1;33m\u001b[0m\u001b[1;33m\u001b[0m\u001b[1;33m\u001b[0m\u001b[0m\n\u001b[0;32m    671\u001b[0m         \u001b[1;31m# to avoid incompatible dtypes\u001b[0m\u001b[1;33m\u001b[0m\u001b[1;33m\u001b[0m\u001b[1;33m\u001b[0m\u001b[0m\n\u001b[1;32m--> 672\u001b[1;33m         \u001b[0mself\u001b[0m\u001b[1;33m.\u001b[0m\u001b[0m_maybe_coerce_merge_keys\u001b[0m\u001b[1;33m(\u001b[0m\u001b[1;33m)\u001b[0m\u001b[1;33m\u001b[0m\u001b[1;33m\u001b[0m\u001b[0m\n\u001b[0m\u001b[0;32m    673\u001b[0m \u001b[1;33m\u001b[0m\u001b[0m\n\u001b[0;32m    674\u001b[0m         \u001b[1;31m# If argument passed to validate,\u001b[0m\u001b[1;33m\u001b[0m\u001b[1;33m\u001b[0m\u001b[1;33m\u001b[0m\u001b[0m\n",
      "\u001b[1;32m~\\anaconda3\\envs\\tesis\\lib\\site-packages\\pandas\\core\\reshape\\merge.py\u001b[0m in \u001b[0;36m_maybe_coerce_merge_keys\u001b[1;34m(self)\u001b[0m\n\u001b[0;32m   1191\u001b[0m                     \u001b[0minferred_right\u001b[0m \u001b[1;32min\u001b[0m \u001b[0mstring_types\u001b[0m \u001b[1;32mand\u001b[0m \u001b[0minferred_left\u001b[0m \u001b[1;32mnot\u001b[0m \u001b[1;32min\u001b[0m \u001b[0mstring_types\u001b[0m\u001b[1;33m\u001b[0m\u001b[1;33m\u001b[0m\u001b[0m\n\u001b[0;32m   1192\u001b[0m                 ):\n\u001b[1;32m-> 1193\u001b[1;33m                     \u001b[1;32mraise\u001b[0m \u001b[0mValueError\u001b[0m\u001b[1;33m(\u001b[0m\u001b[0mmsg\u001b[0m\u001b[1;33m)\u001b[0m\u001b[1;33m\u001b[0m\u001b[1;33m\u001b[0m\u001b[0m\n\u001b[0m\u001b[0;32m   1194\u001b[0m \u001b[1;33m\u001b[0m\u001b[0m\n\u001b[0;32m   1195\u001b[0m             \u001b[1;31m# datetimelikes must match exactly\u001b[0m\u001b[1;33m\u001b[0m\u001b[1;33m\u001b[0m\u001b[1;33m\u001b[0m\u001b[0m\n",
      "\u001b[1;31mValueError\u001b[0m: You are trying to merge on int64 and object columns. If you wish to proceed you should use pd.concat"
     ]
    }
   ],
   "source": [
    "# recupera los parámetros del modelo\n",
    "mu_i = prodSim.params.to_frame()\n",
    "\n",
    "# elimina caractérres no numéricos para poder pegar\n",
    "mu_i.rename(index = dict(zip(mu_i.index[0:-2].values, mu_i.index[0:-2].str.replace(r'[^ ABCDEFGHIJKLMNÑOPQRSTUVWXYZ]','', regex=True).values)),\n",
    "            inplace=True)\n",
    "\n",
    "# renombre columna\n",
    "mu_i.rename(columns = {0:'mu_i'}, inplace=True)\n",
    "\n",
    "# merge\n",
    "flujos_loc = flujos_loc.merge(mu_i, left_on='cod_ori', right_index=True)"
   ]
  },
  {
   "cell_type": "code",
   "execution_count": 18,
   "metadata": {},
   "outputs": [
    {
     "output_type": "execute_result",
     "data": {
      "text/plain": [
       "              mu_i\n",
       "cod_ori  -0.000149\n",
       "log_dist  0.010713"
      ],
      "text/html": "<div>\n<style scoped>\n    .dataframe tbody tr th:only-of-type {\n        vertical-align: middle;\n    }\n\n    .dataframe tbody tr th {\n        vertical-align: top;\n    }\n\n    .dataframe thead th {\n        text-align: right;\n    }\n</style>\n<table border=\"1\" class=\"dataframe\">\n  <thead>\n    <tr style=\"text-align: right;\">\n      <th></th>\n      <th>mu_i</th>\n    </tr>\n  </thead>\n  <tbody>\n    <tr>\n      <th>cod_ori</th>\n      <td>-0.000149</td>\n    </tr>\n    <tr>\n      <th>log_dist</th>\n      <td>0.010713</td>\n    </tr>\n  </tbody>\n</table>\n</div>"
     },
     "metadata": {},
     "execution_count": 18
    }
   ],
   "source": [
    "mu_i"
   ]
  },
  {
   "cell_type": "code",
   "execution_count": 16,
   "metadata": {},
   "outputs": [
    {
     "output_type": "execute_result",
     "data": {
      "text/plain": [
       "              cod  cod_ori  cod_des  poblacion_ori  poblacion_des  \\\n",
       "0        10202220     1020     2220        1304729          40657   \n",
       "1229     25212220     2521     2220          12200          40657   \n",
       "1843     25222220     2522     2220           2659          40657   \n",
       "2457     26212220     2621     2220           2531          40657   \n",
       "3071     27212220     2721     2220            380          40657   \n",
       "...           ...      ...      ...            ...            ...   \n",
       "374540  199671020    19967     1020             41        1304729   \n",
       "375154  199681020    19968     1020             55        1304729   \n",
       "375768  199691020    19969     1020             72        1304729   \n",
       "376382  199701020    19970     1020             25        1304729   \n",
       "376996  199711020    19971     1020            116        1304729   \n",
       "\n",
       "        personas_mig  distancia_m   log_dist        O_i        D_j  \n",
       "0            635.000       583715  13.277168  55484.172   1043.544  \n",
       "1229           0.001       137927  11.834480   1172.518   1043.544  \n",
       "1843           0.001       111408  11.620954    144.595   1043.544  \n",
       "2457           0.001       106867  11.579340    191.580   1043.544  \n",
       "3071           0.001        58392  10.974934     12.609   1043.544  \n",
       "...              ...          ...        ...        ...        ...  \n",
       "374540         0.001       373520  12.830727      0.614  40003.224  \n",
       "375154         0.001       327602  12.699555      0.614  40003.224  \n",
       "375768         0.001       386414  12.864665      0.614  40003.224  \n",
       "376382         0.001       316572  12.665306      0.614  40003.224  \n",
       "376996         0.001       372241  12.827297      0.614  40003.224  \n",
       "\n",
       "[377610 rows x 10 columns]"
      ],
      "text/html": "<div>\n<style scoped>\n    .dataframe tbody tr th:only-of-type {\n        vertical-align: middle;\n    }\n\n    .dataframe tbody tr th {\n        vertical-align: top;\n    }\n\n    .dataframe thead th {\n        text-align: right;\n    }\n</style>\n<table border=\"1\" class=\"dataframe\">\n  <thead>\n    <tr style=\"text-align: right;\">\n      <th></th>\n      <th>cod</th>\n      <th>cod_ori</th>\n      <th>cod_des</th>\n      <th>poblacion_ori</th>\n      <th>poblacion_des</th>\n      <th>personas_mig</th>\n      <th>distancia_m</th>\n      <th>log_dist</th>\n      <th>O_i</th>\n      <th>D_j</th>\n    </tr>\n  </thead>\n  <tbody>\n    <tr>\n      <th>0</th>\n      <td>10202220</td>\n      <td>1020</td>\n      <td>2220</td>\n      <td>1304729</td>\n      <td>40657</td>\n      <td>635.000</td>\n      <td>583715</td>\n      <td>13.277168</td>\n      <td>55484.172</td>\n      <td>1043.544</td>\n    </tr>\n    <tr>\n      <th>1229</th>\n      <td>25212220</td>\n      <td>2521</td>\n      <td>2220</td>\n      <td>12200</td>\n      <td>40657</td>\n      <td>0.001</td>\n      <td>137927</td>\n      <td>11.834480</td>\n      <td>1172.518</td>\n      <td>1043.544</td>\n    </tr>\n    <tr>\n      <th>1843</th>\n      <td>25222220</td>\n      <td>2522</td>\n      <td>2220</td>\n      <td>2659</td>\n      <td>40657</td>\n      <td>0.001</td>\n      <td>111408</td>\n      <td>11.620954</td>\n      <td>144.595</td>\n      <td>1043.544</td>\n    </tr>\n    <tr>\n      <th>2457</th>\n      <td>26212220</td>\n      <td>2621</td>\n      <td>2220</td>\n      <td>2531</td>\n      <td>40657</td>\n      <td>0.001</td>\n      <td>106867</td>\n      <td>11.579340</td>\n      <td>191.580</td>\n      <td>1043.544</td>\n    </tr>\n    <tr>\n      <th>3071</th>\n      <td>27212220</td>\n      <td>2721</td>\n      <td>2220</td>\n      <td>380</td>\n      <td>40657</td>\n      <td>0.001</td>\n      <td>58392</td>\n      <td>10.974934</td>\n      <td>12.609</td>\n      <td>1043.544</td>\n    </tr>\n    <tr>\n      <th>...</th>\n      <td>...</td>\n      <td>...</td>\n      <td>...</td>\n      <td>...</td>\n      <td>...</td>\n      <td>...</td>\n      <td>...</td>\n      <td>...</td>\n      <td>...</td>\n      <td>...</td>\n    </tr>\n    <tr>\n      <th>374540</th>\n      <td>199671020</td>\n      <td>19967</td>\n      <td>1020</td>\n      <td>41</td>\n      <td>1304729</td>\n      <td>0.001</td>\n      <td>373520</td>\n      <td>12.830727</td>\n      <td>0.614</td>\n      <td>40003.224</td>\n    </tr>\n    <tr>\n      <th>375154</th>\n      <td>199681020</td>\n      <td>19968</td>\n      <td>1020</td>\n      <td>55</td>\n      <td>1304729</td>\n      <td>0.001</td>\n      <td>327602</td>\n      <td>12.699555</td>\n      <td>0.614</td>\n      <td>40003.224</td>\n    </tr>\n    <tr>\n      <th>375768</th>\n      <td>199691020</td>\n      <td>19969</td>\n      <td>1020</td>\n      <td>72</td>\n      <td>1304729</td>\n      <td>0.001</td>\n      <td>386414</td>\n      <td>12.864665</td>\n      <td>0.614</td>\n      <td>40003.224</td>\n    </tr>\n    <tr>\n      <th>376382</th>\n      <td>199701020</td>\n      <td>19970</td>\n      <td>1020</td>\n      <td>25</td>\n      <td>1304729</td>\n      <td>0.001</td>\n      <td>316572</td>\n      <td>12.665306</td>\n      <td>0.614</td>\n      <td>40003.224</td>\n    </tr>\n    <tr>\n      <th>376996</th>\n      <td>199711020</td>\n      <td>19971</td>\n      <td>1020</td>\n      <td>116</td>\n      <td>1304729</td>\n      <td>0.001</td>\n      <td>372241</td>\n      <td>12.827297</td>\n      <td>0.614</td>\n      <td>40003.224</td>\n    </tr>\n  </tbody>\n</table>\n<p>377610 rows × 10 columns</p>\n</div>"
     },
     "metadata": {},
     "execution_count": 16
    }
   ],
   "source": [
    "flujos_loc"
   ]
  },
  {
   "cell_type": "code",
   "execution_count": null,
   "metadata": {},
   "outputs": [],
   "source": [
    "# genera estimación redondeada\n",
    "def prod_sim_est(df, variables, alpha, beta):\n",
    "    \"Estimación del modelo imputando los parámetros alfa y beta previamente calculados\"\n",
    "    prodsimest = np.exp(df['mu_i'] + alpha * df[variables[0]] + beta * df[variables[1]])\n",
    "    return round(prodsimest)"
   ]
  }
 ]
}