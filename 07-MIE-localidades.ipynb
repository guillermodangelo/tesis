{
 "metadata": {
  "language_info": {
   "codemirror_mode": {
    "name": "ipython",
    "version": 3
   },
   "file_extension": ".py",
   "mimetype": "text/x-python",
   "name": "python",
   "nbconvert_exporter": "python",
   "pygments_lexer": "ipython3",
   "version": "3.8.8"
  },
  "orig_nbformat": 2,
  "kernelspec": {
   "name": "tesis",
   "display_name": "Python 3.8.8 64-bit ('tesis': conda)"
  },
  "metadata": {
   "interpreter": {
    "hash": "5ce838cc175eb9c7ee2cce823ae805de6106cb4564d9fc7b3476b35fac8c9293"
   }
  }
 },
 "nbformat": 4,
 "nbformat_minor": 2,
 "cells": [
  {
   "cell_type": "code",
   "execution_count": 2,
   "metadata": {},
   "outputs": [],
   "source": [
    "import pandas as pd\n",
    "import geopandas as gpd\n",
    "import os\n",
    "import matplotlib.pyplot as plt\n",
    "import pylab as pl\n",
    "import numpy as np\n",
    "import statsmodels.api as sm\n",
    "import statsmodels.formula.api as smf\n",
    "import tabulate\n",
    "from operator import add\n",
    "import itertools\n",
    "\n",
    "from shapely import wkt\n",
    "from shapely.geometry import shape, LineString, Point\n",
    "    \n",
    "# funciones desarrolladas\n",
    "from functions.agrupar_dfs_censo import *\n",
    "from functions.cargar_data import *\n",
    "from functions.impresion import *"
   ]
  },
  {
   "cell_type": "code",
   "execution_count": 3,
   "metadata": {},
   "outputs": [
    {
     "output_type": "stream",
     "name": "stdout",
     "text": [
      "377610\n"
     ]
    },
    {
     "output_type": "execute_result",
     "data": {
      "text/plain": [
       "        cod  cod_ori  cod_des  poblacion_ori  poblacion_des  personas_mig  \\\n",
       "0  10202220     1020     2220        1304729          40657         635.0   \n",
       "1  10202521     1020     2521        1304729          12200          90.0   \n",
       "2  10202522     1020     2522        1304729           2659          17.0   \n",
       "\n",
       "   distancia_m  \n",
       "0       583715  \n",
       "1       612802  \n",
       "2       617076  "
      ],
      "text/html": "<div>\n<style scoped>\n    .dataframe tbody tr th:only-of-type {\n        vertical-align: middle;\n    }\n\n    .dataframe tbody tr th {\n        vertical-align: top;\n    }\n\n    .dataframe thead th {\n        text-align: right;\n    }\n</style>\n<table border=\"1\" class=\"dataframe\">\n  <thead>\n    <tr style=\"text-align: right;\">\n      <th></th>\n      <th>cod</th>\n      <th>cod_ori</th>\n      <th>cod_des</th>\n      <th>poblacion_ori</th>\n      <th>poblacion_des</th>\n      <th>personas_mig</th>\n      <th>distancia_m</th>\n    </tr>\n  </thead>\n  <tbody>\n    <tr>\n      <th>0</th>\n      <td>10202220</td>\n      <td>1020</td>\n      <td>2220</td>\n      <td>1304729</td>\n      <td>40657</td>\n      <td>635.0</td>\n      <td>583715</td>\n    </tr>\n    <tr>\n      <th>1</th>\n      <td>10202521</td>\n      <td>1020</td>\n      <td>2521</td>\n      <td>1304729</td>\n      <td>12200</td>\n      <td>90.0</td>\n      <td>612802</td>\n    </tr>\n    <tr>\n      <th>2</th>\n      <td>10202522</td>\n      <td>1020</td>\n      <td>2522</td>\n      <td>1304729</td>\n      <td>2659</td>\n      <td>17.0</td>\n      <td>617076</td>\n    </tr>\n  </tbody>\n</table>\n</div>"
     },
     "metadata": {},
     "execution_count": 3
    }
   ],
   "source": [
    "flujos_loc = pd.read_csv('tablas/dd_localidades.csv')\n",
    "print(flujos_loc.shape[0])\n",
    "flujos_loc.head(3)"
   ]
  },
  {
   "cell_type": "code",
   "execution_count": 4,
   "metadata": {},
   "outputs": [
    {
     "output_type": "execute_result",
     "data": {
      "text/plain": [
       "   CODLOC                        geometry\n",
       "0    2220  POINT (549273.219 6633915.063)\n",
       "1    2521  POINT (442454.671 6652273.541)\n",
       "2    2522  POINT (457921.001 6633361.660)"
      ],
      "text/html": "<div>\n<style scoped>\n    .dataframe tbody tr th:only-of-type {\n        vertical-align: middle;\n    }\n\n    .dataframe tbody tr th {\n        vertical-align: top;\n    }\n\n    .dataframe thead th {\n        text-align: right;\n    }\n</style>\n<table border=\"1\" class=\"dataframe\">\n  <thead>\n    <tr style=\"text-align: right;\">\n      <th></th>\n      <th>CODLOC</th>\n      <th>geometry</th>\n    </tr>\n  </thead>\n  <tbody>\n    <tr>\n      <th>0</th>\n      <td>2220</td>\n      <td>POINT (549273.219 6633915.063)</td>\n    </tr>\n    <tr>\n      <th>1</th>\n      <td>2521</td>\n      <td>POINT (442454.671 6652273.541)</td>\n    </tr>\n    <tr>\n      <th>2</th>\n      <td>2522</td>\n      <td>POINT (457921.001 6633361.660)</td>\n    </tr>\n  </tbody>\n</table>\n</div>"
     },
     "metadata": {},
     "execution_count": 4
    }
   ],
   "source": [
    "locs = cargar_datos_geo()[2][['CODLOC', 'geometry']]\n",
    "locs.head(3)"
   ]
  },
  {
   "cell_type": "code",
   "execution_count": 5,
   "metadata": {},
   "outputs": [
    {
     "output_type": "execute_result",
     "data": {
      "text/plain": [
       "377610"
      ]
     },
     "metadata": {},
     "execution_count": 5
    }
   ],
   "source": [
    "locs_cod = list(locs.CODLOC)\n",
    "len(locs_cod) ** 2 - len(locs_cod)"
   ]
  },
  {
   "cell_type": "code",
   "execution_count": 6,
   "metadata": {},
   "outputs": [],
   "source": [
    "# pega geometrías\n",
    "dd = flujos_loc.merge(locs, left_on='cod_ori', right_on='CODLOC')\n",
    "dd = dd.merge(locs, left_on='cod_des', right_on='CODLOC')\n",
    "dd.drop(['CODLOC_x', 'CODLOC_y'], axis=1, inplace=True)\n",
    "dd.rename({'geometry_x':'geom_ori', 'geometry_y':'geom_des'}, axis=1, inplace=True)\n",
    "\n",
    "dd.head()\n",
    "\n",
    "# exporta CSV con geometrías puntuales para mapa de flujos\n",
    "dd.to_csv('capas/loc_lines.csv', index=False)"
   ]
  },
  {
   "cell_type": "code",
   "execution_count": 7,
   "metadata": {},
   "outputs": [
    {
     "output_type": "stream",
     "name": "stdout",
     "text": [
      "(377610, 7)\n"
     ]
    },
    {
     "output_type": "execute_result",
     "data": {
      "text/plain": [
       "        cod  cod_ori  cod_des  poblacion_ori  poblacion_des  personas_mig  \\\n",
       "0  10202220     1020     2220        1304729          40657         635.0   \n",
       "1  10202521     1020     2521        1304729          12200          90.0   \n",
       "2  10202522     1020     2522        1304729           2659          17.0   \n",
       "3  10202621     1020     2621        1304729           2531           9.0   \n",
       "4  10202721     1020     2721        1304729            380           NaN   \n",
       "\n",
       "   distancia_m  \n",
       "0       583715  \n",
       "1       612802  \n",
       "2       617076  \n",
       "3       595785  \n",
       "4       628213  "
      ],
      "text/html": "<div>\n<style scoped>\n    .dataframe tbody tr th:only-of-type {\n        vertical-align: middle;\n    }\n\n    .dataframe tbody tr th {\n        vertical-align: top;\n    }\n\n    .dataframe thead th {\n        text-align: right;\n    }\n</style>\n<table border=\"1\" class=\"dataframe\">\n  <thead>\n    <tr style=\"text-align: right;\">\n      <th></th>\n      <th>cod</th>\n      <th>cod_ori</th>\n      <th>cod_des</th>\n      <th>poblacion_ori</th>\n      <th>poblacion_des</th>\n      <th>personas_mig</th>\n      <th>distancia_m</th>\n    </tr>\n  </thead>\n  <tbody>\n    <tr>\n      <th>0</th>\n      <td>10202220</td>\n      <td>1020</td>\n      <td>2220</td>\n      <td>1304729</td>\n      <td>40657</td>\n      <td>635.0</td>\n      <td>583715</td>\n    </tr>\n    <tr>\n      <th>1</th>\n      <td>10202521</td>\n      <td>1020</td>\n      <td>2521</td>\n      <td>1304729</td>\n      <td>12200</td>\n      <td>90.0</td>\n      <td>612802</td>\n    </tr>\n    <tr>\n      <th>2</th>\n      <td>10202522</td>\n      <td>1020</td>\n      <td>2522</td>\n      <td>1304729</td>\n      <td>2659</td>\n      <td>17.0</td>\n      <td>617076</td>\n    </tr>\n    <tr>\n      <th>3</th>\n      <td>10202621</td>\n      <td>1020</td>\n      <td>2621</td>\n      <td>1304729</td>\n      <td>2531</td>\n      <td>9.0</td>\n      <td>595785</td>\n    </tr>\n    <tr>\n      <th>4</th>\n      <td>10202721</td>\n      <td>1020</td>\n      <td>2721</td>\n      <td>1304729</td>\n      <td>380</td>\n      <td>NaN</td>\n      <td>628213</td>\n    </tr>\n  </tbody>\n</table>\n</div>"
     },
     "metadata": {},
     "execution_count": 7
    }
   ],
   "source": [
    "print(flujos_loc.shape)\n",
    "flujos_loc.head()"
   ]
  },
  {
   "cell_type": "code",
   "execution_count": 8,
   "metadata": {},
   "outputs": [
    {
     "output_type": "execute_result",
     "data": {
      "text/plain": [
       "        cod  cod_ori  cod_des  poblacion_ori  poblacion_des  personas_mig  \\\n",
       "0  10202220     1020     2220        1304729          40657       635.000   \n",
       "1  10202521     1020     2521        1304729          12200        90.000   \n",
       "2  10202522     1020     2522        1304729           2659        17.000   \n",
       "3  10202621     1020     2621        1304729           2531         9.000   \n",
       "4  10202721     1020     2721        1304729            380         0.001   \n",
       "\n",
       "   distancia_m  \n",
       "0       583715  \n",
       "1       612802  \n",
       "2       617076  \n",
       "3       595785  \n",
       "4       628213  "
      ],
      "text/html": "<div>\n<style scoped>\n    .dataframe tbody tr th:only-of-type {\n        vertical-align: middle;\n    }\n\n    .dataframe tbody tr th {\n        vertical-align: top;\n    }\n\n    .dataframe thead th {\n        text-align: right;\n    }\n</style>\n<table border=\"1\" class=\"dataframe\">\n  <thead>\n    <tr style=\"text-align: right;\">\n      <th></th>\n      <th>cod</th>\n      <th>cod_ori</th>\n      <th>cod_des</th>\n      <th>poblacion_ori</th>\n      <th>poblacion_des</th>\n      <th>personas_mig</th>\n      <th>distancia_m</th>\n    </tr>\n  </thead>\n  <tbody>\n    <tr>\n      <th>0</th>\n      <td>10202220</td>\n      <td>1020</td>\n      <td>2220</td>\n      <td>1304729</td>\n      <td>40657</td>\n      <td>635.000</td>\n      <td>583715</td>\n    </tr>\n    <tr>\n      <th>1</th>\n      <td>10202521</td>\n      <td>1020</td>\n      <td>2521</td>\n      <td>1304729</td>\n      <td>12200</td>\n      <td>90.000</td>\n      <td>612802</td>\n    </tr>\n    <tr>\n      <th>2</th>\n      <td>10202522</td>\n      <td>1020</td>\n      <td>2522</td>\n      <td>1304729</td>\n      <td>2659</td>\n      <td>17.000</td>\n      <td>617076</td>\n    </tr>\n    <tr>\n      <th>3</th>\n      <td>10202621</td>\n      <td>1020</td>\n      <td>2621</td>\n      <td>1304729</td>\n      <td>2531</td>\n      <td>9.000</td>\n      <td>595785</td>\n    </tr>\n    <tr>\n      <th>4</th>\n      <td>10202721</td>\n      <td>1020</td>\n      <td>2721</td>\n      <td>1304729</td>\n      <td>380</td>\n      <td>0.001</td>\n      <td>628213</td>\n    </tr>\n  </tbody>\n</table>\n</div>"
     },
     "metadata": {},
     "execution_count": 8
    }
   ],
   "source": [
    "flujos_loc.loc[flujos_loc.personas_mig.isna(), 'personas_mig'] = 0.001\n",
    "flujos_loc.head()"
   ]
  },
  {
   "cell_type": "code",
   "execution_count": 9,
   "metadata": {},
   "outputs": [
    {
     "output_type": "execute_result",
     "data": {
      "text/plain": [
       "        cod  cod_ori  cod_des  poblacion_ori  poblacion_des  personas_mig  \\\n",
       "0  10202220     1020     2220        1304729          40657       635.000   \n",
       "1  10202521     1020     2521        1304729          12200        90.000   \n",
       "2  10202522     1020     2522        1304729           2659        17.000   \n",
       "3  10202621     1020     2621        1304729           2531         9.000   \n",
       "4  10202721     1020     2721        1304729            380         0.001   \n",
       "\n",
       "   distancia_m   log_dist  \n",
       "0       583715  13.277168  \n",
       "1       612802  13.325797  \n",
       "2       617076  13.332747  \n",
       "3       595785  13.297635  \n",
       "4       628213  13.350635  "
      ],
      "text/html": "<div>\n<style scoped>\n    .dataframe tbody tr th:only-of-type {\n        vertical-align: middle;\n    }\n\n    .dataframe tbody tr th {\n        vertical-align: top;\n    }\n\n    .dataframe thead th {\n        text-align: right;\n    }\n</style>\n<table border=\"1\" class=\"dataframe\">\n  <thead>\n    <tr style=\"text-align: right;\">\n      <th></th>\n      <th>cod</th>\n      <th>cod_ori</th>\n      <th>cod_des</th>\n      <th>poblacion_ori</th>\n      <th>poblacion_des</th>\n      <th>personas_mig</th>\n      <th>distancia_m</th>\n      <th>log_dist</th>\n    </tr>\n  </thead>\n  <tbody>\n    <tr>\n      <th>0</th>\n      <td>10202220</td>\n      <td>1020</td>\n      <td>2220</td>\n      <td>1304729</td>\n      <td>40657</td>\n      <td>635.000</td>\n      <td>583715</td>\n      <td>13.277168</td>\n    </tr>\n    <tr>\n      <th>1</th>\n      <td>10202521</td>\n      <td>1020</td>\n      <td>2521</td>\n      <td>1304729</td>\n      <td>12200</td>\n      <td>90.000</td>\n      <td>612802</td>\n      <td>13.325797</td>\n    </tr>\n    <tr>\n      <th>2</th>\n      <td>10202522</td>\n      <td>1020</td>\n      <td>2522</td>\n      <td>1304729</td>\n      <td>2659</td>\n      <td>17.000</td>\n      <td>617076</td>\n      <td>13.332747</td>\n    </tr>\n    <tr>\n      <th>3</th>\n      <td>10202621</td>\n      <td>1020</td>\n      <td>2621</td>\n      <td>1304729</td>\n      <td>2531</td>\n      <td>9.000</td>\n      <td>595785</td>\n      <td>13.297635</td>\n    </tr>\n    <tr>\n      <th>4</th>\n      <td>10202721</td>\n      <td>1020</td>\n      <td>2721</td>\n      <td>1304729</td>\n      <td>380</td>\n      <td>0.001</td>\n      <td>628213</td>\n      <td>13.350635</td>\n    </tr>\n  </tbody>\n</table>\n</div>"
     },
     "metadata": {},
     "execution_count": 9
    }
   ],
   "source": [
    "flujos_loc['log_dist'] = np.log(flujos_loc.distancia_m)\n",
    "flujos_loc.head()"
   ]
  },
  {
   "cell_type": "code",
   "execution_count": 10,
   "metadata": {},
   "outputs": [],
   "source": [
    "formula = \"personas_mig ~ cod_ori + log_dist -1\"\n",
    "\n",
    "# entrena y ajusta el modelo\n",
    "prodSim = smf.glm(formula=formula, data=flujos_loc, family=sm.families.Poisson()).fit()"
   ]
  },
  {
   "cell_type": "code",
   "execution_count": 11,
   "metadata": {},
   "outputs": [
    {
     "output_type": "execute_result",
     "data": {
      "text/plain": [
       "<class 'statsmodels.iolib.summary.Summary'>\n",
       "\"\"\"\n",
       "                 Generalized Linear Model Regression Results                  \n",
       "==============================================================================\n",
       "Dep. Variable:           personas_mig   No. Observations:               377610\n",
       "Model:                            GLM   Df Residuals:                   377608\n",
       "Model Family:                 Poisson   Df Model:                            1\n",
       "Link Function:                    log   Scale:                          1.0000\n",
       "Method:                          IRLS   Log-Likelihood:            -8.1084e+05\n",
       "Date:                Tue, 27 Apr 2021   Deviance:                   1.5901e+06\n",
       "Time:                        17:25:46   Pearson chi2:                 2.67e+08\n",
       "No. Iterations:                     9                                         \n",
       "Covariance Type:            nonrobust                                         \n",
       "==============================================================================\n",
       "                 coef    std err          z      P>|z|      [0.025      0.975]\n",
       "------------------------------------------------------------------------------\n",
       "cod_ori       -0.0001   6.76e-07   -221.082      0.000      -0.000      -0.000\n",
       "log_dist       0.0107      0.000     25.042      0.000       0.010       0.012\n",
       "==============================================================================\n",
       "\"\"\""
      ],
      "text/html": "<table class=\"simpletable\">\n<caption>Generalized Linear Model Regression Results</caption>\n<tr>\n  <th>Dep. Variable:</th>     <td>personas_mig</td>   <th>  No. Observations:  </th>   <td>377610</td>   \n</tr>\n<tr>\n  <th>Model:</th>                  <td>GLM</td>       <th>  Df Residuals:      </th>   <td>377608</td>   \n</tr>\n<tr>\n  <th>Model Family:</th>         <td>Poisson</td>     <th>  Df Model:          </th>   <td>     1</td>   \n</tr>\n<tr>\n  <th>Link Function:</th>          <td>log</td>       <th>  Scale:             </th>  <td>  1.0000</td>  \n</tr>\n<tr>\n  <th>Method:</th>                <td>IRLS</td>       <th>  Log-Likelihood:    </th> <td>-8.1084e+05</td>\n</tr>\n<tr>\n  <th>Date:</th>            <td>Tue, 27 Apr 2021</td> <th>  Deviance:          </th> <td>1.5901e+06</td> \n</tr>\n<tr>\n  <th>Time:</th>                <td>17:25:46</td>     <th>  Pearson chi2:      </th>  <td>2.67e+08</td>  \n</tr>\n<tr>\n  <th>No. Iterations:</th>          <td>9</td>        <th>                     </th>      <td> </td>     \n</tr>\n<tr>\n  <th>Covariance Type:</th>     <td>nonrobust</td>    <th>                     </th>      <td> </td>     \n</tr>\n</table>\n<table class=\"simpletable\">\n<tr>\n      <td></td>        <th>coef</th>     <th>std err</th>      <th>z</th>      <th>P>|z|</th>  <th>[0.025</th>    <th>0.975]</th>  \n</tr>\n<tr>\n  <th>cod_ori</th>  <td>   -0.0001</td> <td> 6.76e-07</td> <td> -221.082</td> <td> 0.000</td> <td>   -0.000</td> <td>   -0.000</td>\n</tr>\n<tr>\n  <th>log_dist</th> <td>    0.0107</td> <td>    0.000</td> <td>   25.042</td> <td> 0.000</td> <td>    0.010</td> <td>    0.012</td>\n</tr>\n</table>"
     },
     "metadata": {},
     "execution_count": 11
    }
   ],
   "source": [
    "prodSim.summary()"
   ]
  },
  {
   "cell_type": "code",
   "execution_count": 12,
   "metadata": {},
   "outputs": [],
   "source": [
    "# funciones para recuperar parámetros e imprimir\n",
    "def get_gml_params(model, variables):\n",
    "    \"Accede a los parámetros alfa y beta dentro de los resutaldos del modelo\"\n",
    "    params = [model.params[i] for i in variables]\n",
    "    params_str = [str(round(i, 4)) for i in params]\n",
    "    return params, params_str\n",
    "\n",
    "def print_params(variables, params_list):\n",
    "    \"Imprime los parámetros\"\n",
    "    return print(\"\"\"alpha ({}) = {}\\nbeta ({}) = {}\n",
    "    \"\"\".format(variables[0], params_list[0], variables[1], params_list[1]))"
   ]
  },
  {
   "cell_type": "code",
   "execution_count": 13,
   "metadata": {},
   "outputs": [
    {
     "output_type": "stream",
     "name": "stdout",
     "text": [
      "alpha (cod_ori) = -0.0001\nbeta (log_dist) = 0.0107\n    \n"
     ]
    }
   ],
   "source": [
    "# imprime parámetros\n",
    "variables= ['cod_ori', 'log_dist']\n",
    "\n",
    "params, params_str = get_gml_params(prodSim, variables)\n",
    "\n",
    "print_params(variables, params_str)"
   ]
  },
  {
   "cell_type": "code",
   "execution_count": 14,
   "metadata": {},
   "outputs": [
    {
     "output_type": "execute_result",
     "data": {
      "text/plain": [
       "           cod  cod_ori  cod_des  poblacion_ori  poblacion_des  personas_mig  \\\n",
       "0     10202220     1020     2220        1304729          40657       635.000   \n",
       "1229  25212220     2521     2220          12200          40657         0.001   \n",
       "1843  25222220     2522     2220           2659          40657         0.001   \n",
       "2457  26212220     2621     2220           2531          40657         0.001   \n",
       "3071  27212220     2721     2220            380          40657         0.001   \n",
       "\n",
       "      distancia_m   log_dist        O_i       D_j  \n",
       "0          583715  13.277168  55484.172  1043.544  \n",
       "1229       137927  11.834480   1172.518  1043.544  \n",
       "1843       111408  11.620954    144.595  1043.544  \n",
       "2457       106867  11.579340    191.580  1043.544  \n",
       "3071        58392  10.974934     12.609  1043.544  "
      ],
      "text/html": "<div>\n<style scoped>\n    .dataframe tbody tr th:only-of-type {\n        vertical-align: middle;\n    }\n\n    .dataframe tbody tr th {\n        vertical-align: top;\n    }\n\n    .dataframe thead th {\n        text-align: right;\n    }\n</style>\n<table border=\"1\" class=\"dataframe\">\n  <thead>\n    <tr style=\"text-align: right;\">\n      <th></th>\n      <th>cod</th>\n      <th>cod_ori</th>\n      <th>cod_des</th>\n      <th>poblacion_ori</th>\n      <th>poblacion_des</th>\n      <th>personas_mig</th>\n      <th>distancia_m</th>\n      <th>log_dist</th>\n      <th>O_i</th>\n      <th>D_j</th>\n    </tr>\n  </thead>\n  <tbody>\n    <tr>\n      <th>0</th>\n      <td>10202220</td>\n      <td>1020</td>\n      <td>2220</td>\n      <td>1304729</td>\n      <td>40657</td>\n      <td>635.000</td>\n      <td>583715</td>\n      <td>13.277168</td>\n      <td>55484.172</td>\n      <td>1043.544</td>\n    </tr>\n    <tr>\n      <th>1229</th>\n      <td>25212220</td>\n      <td>2521</td>\n      <td>2220</td>\n      <td>12200</td>\n      <td>40657</td>\n      <td>0.001</td>\n      <td>137927</td>\n      <td>11.834480</td>\n      <td>1172.518</td>\n      <td>1043.544</td>\n    </tr>\n    <tr>\n      <th>1843</th>\n      <td>25222220</td>\n      <td>2522</td>\n      <td>2220</td>\n      <td>2659</td>\n      <td>40657</td>\n      <td>0.001</td>\n      <td>111408</td>\n      <td>11.620954</td>\n      <td>144.595</td>\n      <td>1043.544</td>\n    </tr>\n    <tr>\n      <th>2457</th>\n      <td>26212220</td>\n      <td>2621</td>\n      <td>2220</td>\n      <td>2531</td>\n      <td>40657</td>\n      <td>0.001</td>\n      <td>106867</td>\n      <td>11.579340</td>\n      <td>191.580</td>\n      <td>1043.544</td>\n    </tr>\n    <tr>\n      <th>3071</th>\n      <td>27212220</td>\n      <td>2721</td>\n      <td>2220</td>\n      <td>380</td>\n      <td>40657</td>\n      <td>0.001</td>\n      <td>58392</td>\n      <td>10.974934</td>\n      <td>12.609</td>\n      <td>1043.544</td>\n    </tr>\n  </tbody>\n</table>\n</div>"
     },
     "metadata": {},
     "execution_count": 14
    }
   ],
   "source": [
    "# crea la sumatoria de migrantes en origen (Oi)\n",
    "O_i = flujos_loc.groupby('cod_ori')['personas_mig'].sum().to_frame().rename(columns = {'personas_mig':'O_i'})\n",
    "\n",
    "# crea la sumatoria de migrantes en destino (Di)\n",
    "D_j = flujos_loc.groupby('cod_des')['personas_mig'].sum().to_frame().rename(columns = {'personas_mig':'D_j'})\n",
    "\n",
    "# pega ambas variables con el df\n",
    "flujos_loc = flujos_loc.merge(O_i, left_on='cod_ori', right_index=True)\n",
    "flujos_loc = flujos_loc.merge(D_j, left_on='cod_des', right_index=True)\n",
    "\n",
    "flujos_loc.head()"
   ]
  },
  {
   "cell_type": "code",
   "execution_count": 17,
   "metadata": {},
   "outputs": [
    {
     "output_type": "error",
     "ename": "ValueError",
     "evalue": "You are trying to merge on int64 and object columns. If you wish to proceed you should use pd.concat",
     "traceback": [
      "\u001b[1;31m---------------------------------------------------------------------------\u001b[0m",
      "\u001b[1;31mValueError\u001b[0m                                Traceback (most recent call last)",
      "\u001b[1;32m<ipython-input-17-e3e610ee2637>\u001b[0m in \u001b[0;36m<module>\u001b[1;34m\u001b[0m\n\u001b[0;32m     10\u001b[0m \u001b[1;33m\u001b[0m\u001b[0m\n\u001b[0;32m     11\u001b[0m \u001b[1;31m# merge\u001b[0m\u001b[1;33m\u001b[0m\u001b[1;33m\u001b[0m\u001b[1;33m\u001b[0m\u001b[0m\n\u001b[1;32m---> 12\u001b[1;33m \u001b[0mflujos_loc\u001b[0m \u001b[1;33m=\u001b[0m \u001b[0mflujos_loc\u001b[0m\u001b[1;33m.\u001b[0m\u001b[0mmerge\u001b[0m\u001b[1;33m(\u001b[0m\u001b[0mmu_i\u001b[0m\u001b[1;33m,\u001b[0m \u001b[0mleft_on\u001b[0m\u001b[1;33m=\u001b[0m\u001b[1;34m'cod_ori'\u001b[0m\u001b[1;33m,\u001b[0m \u001b[0mright_index\u001b[0m\u001b[1;33m=\u001b[0m\u001b[1;32mTrue\u001b[0m\u001b[1;33m)\u001b[0m\u001b[1;33m\u001b[0m\u001b[1;33m\u001b[0m\u001b[0m\n\u001b[0m",
      "\u001b[1;32m~\\anaconda3\\envs\\tesis\\lib\\site-packages\\pandas\\core\\frame.py\u001b[0m in \u001b[0;36mmerge\u001b[1;34m(self, right, how, on, left_on, right_on, left_index, right_index, sort, suffixes, copy, indicator, validate)\u001b[0m\n\u001b[0;32m   8193\u001b[0m         \u001b[1;32mfrom\u001b[0m \u001b[0mpandas\u001b[0m\u001b[1;33m.\u001b[0m\u001b[0mcore\u001b[0m\u001b[1;33m.\u001b[0m\u001b[0mreshape\u001b[0m\u001b[1;33m.\u001b[0m\u001b[0mmerge\u001b[0m \u001b[1;32mimport\u001b[0m \u001b[0mmerge\u001b[0m\u001b[1;33m\u001b[0m\u001b[1;33m\u001b[0m\u001b[0m\n\u001b[0;32m   8194\u001b[0m \u001b[1;33m\u001b[0m\u001b[0m\n\u001b[1;32m-> 8195\u001b[1;33m         return merge(\n\u001b[0m\u001b[0;32m   8196\u001b[0m             \u001b[0mself\u001b[0m\u001b[1;33m,\u001b[0m\u001b[1;33m\u001b[0m\u001b[1;33m\u001b[0m\u001b[0m\n\u001b[0;32m   8197\u001b[0m             \u001b[0mright\u001b[0m\u001b[1;33m,\u001b[0m\u001b[1;33m\u001b[0m\u001b[1;33m\u001b[0m\u001b[0m\n",
      "\u001b[1;32m~\\anaconda3\\envs\\tesis\\lib\\site-packages\\pandas\\core\\reshape\\merge.py\u001b[0m in \u001b[0;36mmerge\u001b[1;34m(left, right, how, on, left_on, right_on, left_index, right_index, sort, suffixes, copy, indicator, validate)\u001b[0m\n\u001b[0;32m     72\u001b[0m     \u001b[0mvalidate\u001b[0m\u001b[1;33m=\u001b[0m\u001b[1;32mNone\u001b[0m\u001b[1;33m,\u001b[0m\u001b[1;33m\u001b[0m\u001b[1;33m\u001b[0m\u001b[0m\n\u001b[0;32m     73\u001b[0m ) -> \"DataFrame\":\n\u001b[1;32m---> 74\u001b[1;33m     op = _MergeOperation(\n\u001b[0m\u001b[0;32m     75\u001b[0m         \u001b[0mleft\u001b[0m\u001b[1;33m,\u001b[0m\u001b[1;33m\u001b[0m\u001b[1;33m\u001b[0m\u001b[0m\n\u001b[0;32m     76\u001b[0m         \u001b[0mright\u001b[0m\u001b[1;33m,\u001b[0m\u001b[1;33m\u001b[0m\u001b[1;33m\u001b[0m\u001b[0m\n",
      "\u001b[1;32m~\\anaconda3\\envs\\tesis\\lib\\site-packages\\pandas\\core\\reshape\\merge.py\u001b[0m in \u001b[0;36m__init__\u001b[1;34m(self, left, right, how, on, left_on, right_on, axis, left_index, right_index, sort, suffixes, copy, indicator, validate)\u001b[0m\n\u001b[0;32m    670\u001b[0m         \u001b[1;31m# validate the merge keys dtypes. We may need to coerce\u001b[0m\u001b[1;33m\u001b[0m\u001b[1;33m\u001b[0m\u001b[1;33m\u001b[0m\u001b[0m\n\u001b[0;32m    671\u001b[0m         \u001b[1;31m# to avoid incompatible dtypes\u001b[0m\u001b[1;33m\u001b[0m\u001b[1;33m\u001b[0m\u001b[1;33m\u001b[0m\u001b[0m\n\u001b[1;32m--> 672\u001b[1;33m         \u001b[0mself\u001b[0m\u001b[1;33m.\u001b[0m\u001b[0m_maybe_coerce_merge_keys\u001b[0m\u001b[1;33m(\u001b[0m\u001b[1;33m)\u001b[0m\u001b[1;33m\u001b[0m\u001b[1;33m\u001b[0m\u001b[0m\n\u001b[0m\u001b[0;32m    673\u001b[0m \u001b[1;33m\u001b[0m\u001b[0m\n\u001b[0;32m    674\u001b[0m         \u001b[1;31m# If argument passed to validate,\u001b[0m\u001b[1;33m\u001b[0m\u001b[1;33m\u001b[0m\u001b[1;33m\u001b[0m\u001b[0m\n",
      "\u001b[1;32m~\\anaconda3\\envs\\tesis\\lib\\site-packages\\pandas\\core\\reshape\\merge.py\u001b[0m in \u001b[0;36m_maybe_coerce_merge_keys\u001b[1;34m(self)\u001b[0m\n\u001b[0;32m   1191\u001b[0m                     \u001b[0minferred_right\u001b[0m \u001b[1;32min\u001b[0m \u001b[0mstring_types\u001b[0m \u001b[1;32mand\u001b[0m \u001b[0minferred_left\u001b[0m \u001b[1;32mnot\u001b[0m \u001b[1;32min\u001b[0m \u001b[0mstring_types\u001b[0m\u001b[1;33m\u001b[0m\u001b[1;33m\u001b[0m\u001b[0m\n\u001b[0;32m   1192\u001b[0m                 ):\n\u001b[1;32m-> 1193\u001b[1;33m                     \u001b[1;32mraise\u001b[0m \u001b[0mValueError\u001b[0m\u001b[1;33m(\u001b[0m\u001b[0mmsg\u001b[0m\u001b[1;33m)\u001b[0m\u001b[1;33m\u001b[0m\u001b[1;33m\u001b[0m\u001b[0m\n\u001b[0m\u001b[0;32m   1194\u001b[0m \u001b[1;33m\u001b[0m\u001b[0m\n\u001b[0;32m   1195\u001b[0m             \u001b[1;31m# datetimelikes must match exactly\u001b[0m\u001b[1;33m\u001b[0m\u001b[1;33m\u001b[0m\u001b[1;33m\u001b[0m\u001b[0m\n",
      "\u001b[1;31mValueError\u001b[0m: You are trying to merge on int64 and object columns. If you wish to proceed you should use pd.concat"
     ]
    }
   ],
   "source": [
    "# recupera los parámetros del modelo\n",
    "mu_i = prodSim.params.to_frame()\n",
    "\n",
    "# elimina caractérres no numéricos para poder pegar\n",
    "mu_i.rename(index = dict(zip(mu_i.index[0:-2].values, mu_i.index[0:-2].str.replace(r'[^ ABCDEFGHIJKLMNÑOPQRSTUVWXYZ]','', regex=True).values)),\n",
    "            inplace=True)\n",
    "\n",
    "# renombre columna\n",
    "mu_i.rename(columns = {0:'mu_i'}, inplace=True)\n",
    "\n",
    "# merge\n",
    "flujos_loc = flujos_loc.merge(mu_i, left_on='cod_ori', right_index=True)"
   ]
  },
  {
   "cell_type": "code",
   "execution_count": 18,
   "metadata": {},
   "outputs": [
    {
     "output_type": "execute_result",
     "data": {
      "text/plain": [
       "              mu_i\n",
       "cod_ori  -0.000149\n",
       "log_dist  0.010713"
      ],
      "text/html": "<div>\n<style scoped>\n    .dataframe tbody tr th:only-of-type {\n        vertical-align: middle;\n    }\n\n    .dataframe tbody tr th {\n        vertical-align: top;\n    }\n\n    .dataframe thead th {\n        text-align: right;\n    }\n</style>\n<table border=\"1\" class=\"dataframe\">\n  <thead>\n    <tr style=\"text-align: right;\">\n      <th></th>\n      <th>mu_i</th>\n    </tr>\n  </thead>\n  <tbody>\n    <tr>\n      <th>cod_ori</th>\n      <td>-0.000149</td>\n    </tr>\n    <tr>\n      <th>log_dist</th>\n      <td>0.010713</td>\n    </tr>\n  </tbody>\n</table>\n</div>"
     },
     "metadata": {},
     "execution_count": 18
    }
   ],
   "source": [
    "mu_i"
   ]
  },
  {
   "cell_type": "code",
   "execution_count": 16,
   "metadata": {},
   "outputs": [
    {
     "output_type": "execute_result",
     "data": {
      "text/plain": [
       "              cod  cod_ori  cod_des  poblacion_ori  poblacion_des  \\\n",
       "0        10202220     1020     2220        1304729          40657   \n",
       "1229     25212220     2521     2220          12200          40657   \n",
       "1843     25222220     2522     2220           2659          40657   \n",
       "2457     26212220     2621     2220           2531          40657   \n",
       "3071     27212220     2721     2220            380          40657   \n",
       "...           ...      ...      ...            ...            ...   \n",
       "374540  199671020    19967     1020             41        1304729   \n",
       "375154  199681020    19968     1020             55        1304729   \n",
       "375768  199691020    19969     1020             72        1304729   \n",
       "376382  199701020    19970     1020             25        1304729   \n",
       "376996  199711020    19971     1020            116        1304729   \n",
       "\n",
       "        personas_mig  distancia_m   log_dist        O_i        D_j  \n",
       "0            635.000       583715  13.277168  55484.172   1043.544  \n",
       "1229           0.001       137927  11.834480   1172.518   1043.544  \n",
       "1843           0.001       111408  11.620954    144.595   1043.544  \n",
       "2457           0.001       106867  11.579340    191.580   1043.544  \n",
       "3071           0.001        58392  10.974934     12.609   1043.544  \n",
       "...              ...          ...        ...        ...        ...  \n",
       "374540         0.001       373520  12.830727      0.614  40003.224  \n",
       "375154         0.001       327602  12.699555      0.614  40003.224  \n",
       "375768         0.001       386414  12.864665      0.614  40003.224  \n",
       "376382         0.001       316572  12.665306      0.614  40003.224  \n",
       "376996         0.001       372241  12.827297      0.614  40003.224  \n",
       "\n",
       "[377610 rows x 10 columns]"
      ],
      "text/html": "<div>\n<style scoped>\n    .dataframe tbody tr th:only-of-type {\n        vertical-align: middle;\n    }\n\n    .dataframe tbody tr th {\n        vertical-align: top;\n    }\n\n    .dataframe thead th {\n        text-align: right;\n    }\n</style>\n<table border=\"1\" class=\"dataframe\">\n  <thead>\n    <tr style=\"text-align: right;\">\n      <th></th>\n      <th>cod</th>\n      <th>cod_ori</th>\n      <th>cod_des</th>\n      <th>poblacion_ori</th>\n      <th>poblacion_des</th>\n      <th>personas_mig</th>\n      <th>distancia_m</th>\n      <th>log_dist</th>\n      <th>O_i</th>\n      <th>D_j</th>\n    </tr>\n  </thead>\n  <tbody>\n    <tr>\n      <th>0</th>\n      <td>10202220</td>\n      <td>1020</td>\n      <td>2220</td>\n      <td>1304729</td>\n      <td>40657</td>\n      <td>635.000</td>\n      <td>583715</td>\n      <td>13.277168</td>\n      <td>55484.172</td>\n      <td>1043.544</td>\n    </tr>\n    <tr>\n      <th>1229</th>\n      <td>25212220</td>\n      <td>2521</td>\n      <td>2220</td>\n      <td>12200</td>\n      <td>40657</td>\n      <td>0.001</td>\n      <td>137927</td>\n      <td>11.834480</td>\n      <td>1172.518</td>\n      <td>1043.544</td>\n    </tr>\n    <tr>\n      <th>1843</th>\n      <td>25222220</td>\n      <td>2522</td>\n      <td>2220</td>\n      <td>2659</td>\n      <td>40657</td>\n      <td>0.001</td>\n      <td>111408</td>\n      <td>11.620954</td>\n      <td>144.595</td>\n      <td>1043.544</td>\n    </tr>\n    <tr>\n      <th>2457</th>\n      <td>26212220</td>\n      <td>2621</td>\n      <td>2220</td>\n      <td>2531</td>\n      <td>40657</td>\n      <td>0.001</td>\n      <td>106867</td>\n      <td>11.579340</td>\n      <td>191.580</td>\n      <td>1043.544</td>\n    </tr>\n    <tr>\n      <th>3071</th>\n      <td>27212220</td>\n      <td>2721</td>\n      <td>2220</td>\n      <td>380</td>\n      <td>40657</td>\n      <td>0.001</td>\n      <td>58392</td>\n      <td>10.974934</td>\n      <td>12.609</td>\n      <td>1043.544</td>\n    </tr>\n    <tr>\n      <th>...</th>\n      <td>...</td>\n      <td>...</td>\n      <td>...</td>\n      <td>...</td>\n      <td>...</td>\n      <td>...</td>\n      <td>...</td>\n      <td>...</td>\n      <td>...</td>\n      <td>...</td>\n    </tr>\n    <tr>\n      <th>374540</th>\n      <td>199671020</td>\n      <td>19967</td>\n      <td>1020</td>\n      <td>41</td>\n      <td>1304729</td>\n      <td>0.001</td>\n      <td>373520</td>\n      <td>12.830727</td>\n      <td>0.614</td>\n      <td>40003.224</td>\n    </tr>\n    <tr>\n      <th>375154</th>\n      <td>199681020</td>\n      <td>19968</td>\n      <td>1020</td>\n      <td>55</td>\n      <td>1304729</td>\n      <td>0.001</td>\n      <td>327602</td>\n      <td>12.699555</td>\n      <td>0.614</td>\n      <td>40003.224</td>\n    </tr>\n    <tr>\n      <th>375768</th>\n      <td>199691020</td>\n      <td>19969</td>\n      <td>1020</td>\n      <td>72</td>\n      <td>1304729</td>\n      <td>0.001</td>\n      <td>386414</td>\n      <td>12.864665</td>\n      <td>0.614</td>\n      <td>40003.224</td>\n    </tr>\n    <tr>\n      <th>376382</th>\n      <td>199701020</td>\n      <td>19970</td>\n      <td>1020</td>\n      <td>25</td>\n      <td>1304729</td>\n      <td>0.001</td>\n      <td>316572</td>\n      <td>12.665306</td>\n      <td>0.614</td>\n      <td>40003.224</td>\n    </tr>\n    <tr>\n      <th>376996</th>\n      <td>199711020</td>\n      <td>19971</td>\n      <td>1020</td>\n      <td>116</td>\n      <td>1304729</td>\n      <td>0.001</td>\n      <td>372241</td>\n      <td>12.827297</td>\n      <td>0.614</td>\n      <td>40003.224</td>\n    </tr>\n  </tbody>\n</table>\n<p>377610 rows × 10 columns</p>\n</div>"
     },
     "metadata": {},
     "execution_count": 16
    }
   ],
   "source": [
    "flujos_loc"
   ]
  },
  {
   "cell_type": "code",
   "execution_count": null,
   "metadata": {},
   "outputs": [],
   "source": [
    "# genera estimación redondeada\n",
    "def prod_sim_est(df, variables, alpha, beta):\n",
    "    \"Estimación del modelo imputando los parámetros alfa y beta previamente calculados\"\n",
    "    prodsimest = np.exp(df['mu_i'] + alpha * df[variables[0]] + beta * df[variables[1]])\n",
    "    return round(prodsimest)"
   ]
  }
 ]
}