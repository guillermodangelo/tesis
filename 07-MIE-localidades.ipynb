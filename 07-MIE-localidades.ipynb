{
 "metadata": {
  "language_info": {
   "codemirror_mode": {
    "name": "ipython",
    "version": 3
   },
   "file_extension": ".py",
   "mimetype": "text/x-python",
   "name": "python",
   "nbconvert_exporter": "python",
   "pygments_lexer": "ipython3",
   "version": "3.9.2"
  },
  "orig_nbformat": 2,
  "kernelspec": {
   "name": "python392jvsc74a57bd05ce838cc175eb9c7ee2cce823ae805de6106cb4564d9fc7b3476b35fac8c9293",
   "display_name": "Python 3.9.2 64-bit ('tesis': conda)"
  },
  "metadata": {
   "interpreter": {
    "hash": "5ce838cc175eb9c7ee2cce823ae805de6106cb4564d9fc7b3476b35fac8c9293"
   }
  }
 },
 "nbformat": 4,
 "nbformat_minor": 2,
 "cells": [
  {
   "cell_type": "code",
   "execution_count": 40,
   "metadata": {},
   "outputs": [],
   "source": [
    "import pandas as pd\n",
    "import geopandas as gpd\n",
    "import os\n",
    "import matplotlib.pyplot as plt\n",
    "import pylab as pl\n",
    "import numpy as np\n",
    "import statsmodels.api as sm\n",
    "import statsmodels.formula.api as smf\n",
    "import tabulate\n",
    "from operator import add\n",
    "import itertools\n",
    "\n",
    "from shapely import wkt\n",
    "from shapely.geometry import shape, LineString, Point\n",
    "    \n",
    "# funciones desarrolladas\n",
    "from functions.agrupar_dfs_censo import *\n",
    "from functions.cargar_data import *\n",
    "from functions.impresion import *"
   ]
  },
  {
   "cell_type": "code",
   "execution_count": 41,
   "metadata": {},
   "outputs": [
    {
     "output_type": "stream",
     "name": "stdout",
     "text": [
      "377610\n"
     ]
    },
    {
     "output_type": "execute_result",
     "data": {
      "text/plain": [
       "        cod  cod_ori  cod_des  poblacion_ori  poblacion_des  personas_mig  \\\n",
       "0  10202220     1020     2220        1304729          40657         635.0   \n",
       "1  10202521     1020     2521        1304729          12200          90.0   \n",
       "2  10202522     1020     2522        1304729           2659          17.0   \n",
       "\n",
       "   distancia_m  \n",
       "0       583715  \n",
       "1       612802  \n",
       "2       617076  "
      ],
      "text/html": "<div>\n<style scoped>\n    .dataframe tbody tr th:only-of-type {\n        vertical-align: middle;\n    }\n\n    .dataframe tbody tr th {\n        vertical-align: top;\n    }\n\n    .dataframe thead th {\n        text-align: right;\n    }\n</style>\n<table border=\"1\" class=\"dataframe\">\n  <thead>\n    <tr style=\"text-align: right;\">\n      <th></th>\n      <th>cod</th>\n      <th>cod_ori</th>\n      <th>cod_des</th>\n      <th>poblacion_ori</th>\n      <th>poblacion_des</th>\n      <th>personas_mig</th>\n      <th>distancia_m</th>\n    </tr>\n  </thead>\n  <tbody>\n    <tr>\n      <th>0</th>\n      <td>10202220</td>\n      <td>1020</td>\n      <td>2220</td>\n      <td>1304729</td>\n      <td>40657</td>\n      <td>635.0</td>\n      <td>583715</td>\n    </tr>\n    <tr>\n      <th>1</th>\n      <td>10202521</td>\n      <td>1020</td>\n      <td>2521</td>\n      <td>1304729</td>\n      <td>12200</td>\n      <td>90.0</td>\n      <td>612802</td>\n    </tr>\n    <tr>\n      <th>2</th>\n      <td>10202522</td>\n      <td>1020</td>\n      <td>2522</td>\n      <td>1304729</td>\n      <td>2659</td>\n      <td>17.0</td>\n      <td>617076</td>\n    </tr>\n  </tbody>\n</table>\n</div>"
     },
     "metadata": {},
     "execution_count": 41
    }
   ],
   "source": [
    "flujos_loc = pd.read_csv('tablas/dd_localidades.csv')\n",
    "print(flujos_loc.shape[0])\n",
    "flujos_loc.head(3)"
   ]
  },
  {
   "cell_type": "code",
   "execution_count": 42,
   "metadata": {},
   "outputs": [
    {
     "output_type": "stream",
     "name": "stderr",
     "text": [
      "/home/guillermo/anaconda3/envs/tesis/lib/python3.9/site-packages/geopandas/geodataframe.py:577: RuntimeWarning: Sequential read of iterator was interrupted. Resetting iterator. This can negatively impact the performance.\n  for feature in features_lst:\n"
     ]
    },
    {
     "output_type": "execute_result",
     "data": {
      "text/plain": [
       "   CODLOC                        geometry\n",
       "0    2220  POINT (549273.219 6633915.063)\n",
       "1    2521  POINT (442454.671 6652273.541)\n",
       "2    2522  POINT (457921.001 6633361.660)"
      ],
      "text/html": "<div>\n<style scoped>\n    .dataframe tbody tr th:only-of-type {\n        vertical-align: middle;\n    }\n\n    .dataframe tbody tr th {\n        vertical-align: top;\n    }\n\n    .dataframe thead th {\n        text-align: right;\n    }\n</style>\n<table border=\"1\" class=\"dataframe\">\n  <thead>\n    <tr style=\"text-align: right;\">\n      <th></th>\n      <th>CODLOC</th>\n      <th>geometry</th>\n    </tr>\n  </thead>\n  <tbody>\n    <tr>\n      <th>0</th>\n      <td>2220</td>\n      <td>POINT (549273.219 6633915.063)</td>\n    </tr>\n    <tr>\n      <th>1</th>\n      <td>2521</td>\n      <td>POINT (442454.671 6652273.541)</td>\n    </tr>\n    <tr>\n      <th>2</th>\n      <td>2522</td>\n      <td>POINT (457921.001 6633361.660)</td>\n    </tr>\n  </tbody>\n</table>\n</div>"
     },
     "metadata": {},
     "execution_count": 42
    }
   ],
   "source": [
    "locs = cargar_datos_geo()[2][['CODLOC', 'geometry']]\n",
    "locs.head(3)"
   ]
  },
  {
   "cell_type": "code",
   "execution_count": 43,
   "metadata": {},
   "outputs": [
    {
     "output_type": "execute_result",
     "data": {
      "text/plain": [
       "377610"
      ]
     },
     "metadata": {},
     "execution_count": 43
    }
   ],
   "source": [
    "locs_cod = list(locs.CODLOC)\n",
    "len(locs_cod) ** 2 - len(locs_cod)"
   ]
  },
  {
   "cell_type": "code",
   "execution_count": 45,
   "metadata": {},
   "outputs": [
    {
     "output_type": "execute_result",
     "data": {
      "text/plain": [
       "        cod  cod_ori  cod_des  poblacion_ori  poblacion_des  personas_mig  \\\n",
       "0  10202220     1020     2220        1304729          40657         635.0   \n",
       "1  25212220     2521     2220          12200          40657           NaN   \n",
       "2  25222220     2522     2220           2659          40657           NaN   \n",
       "3  26212220     2621     2220           2531          40657           NaN   \n",
       "4  27212220     2721     2220            380          40657           NaN   \n",
       "\n",
       "   distancia_m                        geom_ori                        geom_des  \n",
       "0       583715  POINT (573082.248 6145008.434)  POINT (549273.219 6633915.063)  \n",
       "1       137927  POINT (442454.671 6652273.541)  POINT (549273.219 6633915.063)  \n",
       "2       111408  POINT (457921.001 6633361.660)  POINT (549273.219 6633915.063)  \n",
       "3       106867  POINT (468458.270 6601361.867)  POINT (549273.219 6633915.063)  \n",
       "4        58392  POINT (502880.928 6648162.053)  POINT (549273.219 6633915.063)  "
      ],
      "text/html": "<div>\n<style scoped>\n    .dataframe tbody tr th:only-of-type {\n        vertical-align: middle;\n    }\n\n    .dataframe tbody tr th {\n        vertical-align: top;\n    }\n\n    .dataframe thead th {\n        text-align: right;\n    }\n</style>\n<table border=\"1\" class=\"dataframe\">\n  <thead>\n    <tr style=\"text-align: right;\">\n      <th></th>\n      <th>cod</th>\n      <th>cod_ori</th>\n      <th>cod_des</th>\n      <th>poblacion_ori</th>\n      <th>poblacion_des</th>\n      <th>personas_mig</th>\n      <th>distancia_m</th>\n      <th>geom_ori</th>\n      <th>geom_des</th>\n    </tr>\n  </thead>\n  <tbody>\n    <tr>\n      <th>0</th>\n      <td>10202220</td>\n      <td>1020</td>\n      <td>2220</td>\n      <td>1304729</td>\n      <td>40657</td>\n      <td>635.0</td>\n      <td>583715</td>\n      <td>POINT (573082.248 6145008.434)</td>\n      <td>POINT (549273.219 6633915.063)</td>\n    </tr>\n    <tr>\n      <th>1</th>\n      <td>25212220</td>\n      <td>2521</td>\n      <td>2220</td>\n      <td>12200</td>\n      <td>40657</td>\n      <td>NaN</td>\n      <td>137927</td>\n      <td>POINT (442454.671 6652273.541)</td>\n      <td>POINT (549273.219 6633915.063)</td>\n    </tr>\n    <tr>\n      <th>2</th>\n      <td>25222220</td>\n      <td>2522</td>\n      <td>2220</td>\n      <td>2659</td>\n      <td>40657</td>\n      <td>NaN</td>\n      <td>111408</td>\n      <td>POINT (457921.001 6633361.660)</td>\n      <td>POINT (549273.219 6633915.063)</td>\n    </tr>\n    <tr>\n      <th>3</th>\n      <td>26212220</td>\n      <td>2621</td>\n      <td>2220</td>\n      <td>2531</td>\n      <td>40657</td>\n      <td>NaN</td>\n      <td>106867</td>\n      <td>POINT (468458.270 6601361.867)</td>\n      <td>POINT (549273.219 6633915.063)</td>\n    </tr>\n    <tr>\n      <th>4</th>\n      <td>27212220</td>\n      <td>2721</td>\n      <td>2220</td>\n      <td>380</td>\n      <td>40657</td>\n      <td>NaN</td>\n      <td>58392</td>\n      <td>POINT (502880.928 6648162.053)</td>\n      <td>POINT (549273.219 6633915.063)</td>\n    </tr>\n  </tbody>\n</table>\n</div>"
     },
     "metadata": {},
     "execution_count": 45
    }
   ],
   "source": [
    "# pega geometrías\n",
    "dd = flujos_loc.merge(locs, left_on='cod_ori', right_on='CODLOC')\n",
    "dd = dd.merge(locs, left_on='cod_des', right_on='CODLOC')\n",
    "dd.drop(['CODLOC_x', 'CODLOC_y'], axis=1, inplace=True)\n",
    "dd.rename({'geometry_x':'geom_ori', 'geometry_y':'geom_des'}, axis=1, inplace=True)\n",
    "\n",
    "dd.head()\n",
    "\n",
    "# exporta CSV con geometrías puntuales para mapa de flujos\n",
    "dd.to_csv('capas/loc_lines.csv', index=False)"
   ]
  },
  {
   "cell_type": "code",
   "execution_count": 18,
   "metadata": {},
   "outputs": [
    {
     "output_type": "stream",
     "name": "stdout",
     "text": [
      "(8791, 7)\n"
     ]
    },
    {
     "output_type": "execute_result",
     "data": {
      "text/plain": [
       "   loc_origen  loc_destino  personas_mig  pobl_origen  pobl_destino       cod  \\\n",
       "0        1020         2220           635      1304729         40657  10202220   \n",
       "1        3221         2220             5        71258         40657  32212220   \n",
       "2        3320         2220            10        19865         40657  33202220   \n",
       "3        3321         2220             1        20524         40657  33212220   \n",
       "4        3322         2220             1        25947         40657  33222220   \n",
       "\n",
       "   distancia_m  \n",
       "0       583715  \n",
       "1       570608  \n",
       "2       547145  \n",
       "3       573837  \n",
       "4       583158  "
      ],
      "text/html": "<div>\n<style scoped>\n    .dataframe tbody tr th:only-of-type {\n        vertical-align: middle;\n    }\n\n    .dataframe tbody tr th {\n        vertical-align: top;\n    }\n\n    .dataframe thead th {\n        text-align: right;\n    }\n</style>\n<table border=\"1\" class=\"dataframe\">\n  <thead>\n    <tr style=\"text-align: right;\">\n      <th></th>\n      <th>loc_origen</th>\n      <th>loc_destino</th>\n      <th>personas_mig</th>\n      <th>pobl_origen</th>\n      <th>pobl_destino</th>\n      <th>cod</th>\n      <th>distancia_m</th>\n    </tr>\n  </thead>\n  <tbody>\n    <tr>\n      <th>0</th>\n      <td>1020</td>\n      <td>2220</td>\n      <td>635</td>\n      <td>1304729</td>\n      <td>40657</td>\n      <td>10202220</td>\n      <td>583715</td>\n    </tr>\n    <tr>\n      <th>1</th>\n      <td>3221</td>\n      <td>2220</td>\n      <td>5</td>\n      <td>71258</td>\n      <td>40657</td>\n      <td>32212220</td>\n      <td>570608</td>\n    </tr>\n    <tr>\n      <th>2</th>\n      <td>3320</td>\n      <td>2220</td>\n      <td>10</td>\n      <td>19865</td>\n      <td>40657</td>\n      <td>33202220</td>\n      <td>547145</td>\n    </tr>\n    <tr>\n      <th>3</th>\n      <td>3321</td>\n      <td>2220</td>\n      <td>1</td>\n      <td>20524</td>\n      <td>40657</td>\n      <td>33212220</td>\n      <td>573837</td>\n    </tr>\n    <tr>\n      <th>4</th>\n      <td>3322</td>\n      <td>2220</td>\n      <td>1</td>\n      <td>25947</td>\n      <td>40657</td>\n      <td>33222220</td>\n      <td>583158</td>\n    </tr>\n  </tbody>\n</table>\n</div>"
     },
     "metadata": {},
     "execution_count": 18
    }
   ],
   "source": [
    "print(flujos_loc.shape)\n",
    "flujos_loc.head()"
   ]
  },
  {
   "cell_type": "code",
   "execution_count": 16,
   "metadata": {},
   "outputs": [
    {
     "output_type": "execute_result",
     "data": {
      "text/plain": [
       "                      cod                                            \\\n",
       "loc_destino          1020          2220          2521          2522   \n",
       "loc_origen                                                            \n",
       "1020         0.000000e+00  1.020222e+07  1.020252e+07  1.020252e+07   \n",
       "2220         2.220102e+07  0.000000e+00  0.000000e+00  0.000000e+00   \n",
       "2521         2.521102e+07  0.000000e+00  0.000000e+00  0.000000e+00   \n",
       "2522         2.522102e+07  0.000000e+00  0.000000e+00  0.000000e+00   \n",
       "2621         2.621102e+07  0.000000e+00  0.000000e+00  0.000000e+00   \n",
       "...                   ...           ...           ...           ...   \n",
       "19941        1.994110e+08  0.000000e+00  0.000000e+00  0.000000e+00   \n",
       "19942        0.000000e+00  0.000000e+00  0.000000e+00  0.000000e+00   \n",
       "19947        0.000000e+00  0.000000e+00  0.000000e+00  0.000000e+00   \n",
       "19960        1.996010e+08  0.000000e+00  0.000000e+00  0.000000e+00   \n",
       "Total        1.016396e+08  1.047701e+08  9.971067e+07  1.054304e+08   \n",
       "\n",
       "                                                                        \\\n",
       "loc_destino          2621          2724       2725      2822      2823   \n",
       "loc_origen                                                               \n",
       "1020         1.020262e+07  1.020272e+07   10202725  10202822  10202823   \n",
       "2220         0.000000e+00  0.000000e+00          0         0         0   \n",
       "2521         0.000000e+00  0.000000e+00          0         0         0   \n",
       "2522         0.000000e+00  0.000000e+00          0         0         0   \n",
       "2621         0.000000e+00  0.000000e+00          0         0         0   \n",
       "...                   ...           ...        ...       ...       ...   \n",
       "19941        0.000000e+00  0.000000e+00          0         0         0   \n",
       "19942        0.000000e+00  0.000000e+00          0         0         0   \n",
       "19947        0.000000e+00  0.000000e+00          0         0         0   \n",
       "19960        0.000000e+00  0.000000e+00          0         0         0   \n",
       "Total        1.355843e+08  1.105461e+08  134632725  74205322  23762823   \n",
       "\n",
       "                           ... pobl_origen                                \\\n",
       "loc_destino          2828  ...       19962  19963    19964  19965  19966   \n",
       "loc_origen                 ...                                             \n",
       "1020         1.020283e+07  ...           0      0     0.00      0      0   \n",
       "2220         0.000000e+00  ...           0      0     0.00      0      0   \n",
       "2521         0.000000e+00  ...           0      0     0.00      0      0   \n",
       "2522         0.000000e+00  ...           0      0     0.00      0      0   \n",
       "2621         0.000000e+00  ...           0      0     0.00      0      0   \n",
       "...                   ...  ...         ...    ...      ...    ...    ...   \n",
       "19941        0.000000e+00  ...           0      0     0.00      0      0   \n",
       "19942        0.000000e+00  ...           0      0     0.00      0      0   \n",
       "19947        0.000000e+00  ...           0      0     0.00      0      0   \n",
       "19960        0.000000e+00  ...           0      0     0.00      0      0   \n",
       "Total        1.066213e+08  ...       62590  33217  6068.25  51830  15223   \n",
       "\n",
       "                                                                     \n",
       "loc_destino         19967     19968  19969      19971         Total  \n",
       "loc_origen                                                           \n",
       "1020             0.000000      0.00      0  1304729.0  1.304729e+06  \n",
       "2220             0.000000      0.00      0        0.0  4.065700e+04  \n",
       "2521             0.000000      0.00      0        0.0  1.220000e+04  \n",
       "2522             0.000000      0.00      0        0.0  2.659000e+03  \n",
       "2621             0.000000      0.00      0        0.0  2.531000e+03  \n",
       "...                   ...       ...    ...        ...           ...  \n",
       "19941            0.000000      0.00      0        0.0  6.800000e+01  \n",
       "19942            0.000000      0.00      0        0.0  8.200000e+01  \n",
       "19947            0.000000      0.00      0        0.0  1.600000e+01  \n",
       "19960            0.000000      0.00      0        0.0  5.400000e+01  \n",
       "Total        22187.333333  20193.75  33217   265929.6  8.293132e+04  \n",
       "\n",
       "[496 rows x 2675 columns]"
      ],
      "text/html": "<div>\n<style scoped>\n    .dataframe tbody tr th:only-of-type {\n        vertical-align: middle;\n    }\n\n    .dataframe tbody tr th {\n        vertical-align: top;\n    }\n\n    .dataframe thead tr th {\n        text-align: left;\n    }\n\n    .dataframe thead tr:last-of-type th {\n        text-align: right;\n    }\n</style>\n<table border=\"1\" class=\"dataframe\">\n  <thead>\n    <tr>\n      <th></th>\n      <th colspan=\"10\" halign=\"left\">cod</th>\n      <th>...</th>\n      <th colspan=\"10\" halign=\"left\">pobl_origen</th>\n    </tr>\n    <tr>\n      <th>loc_destino</th>\n      <th>1020</th>\n      <th>2220</th>\n      <th>2521</th>\n      <th>2522</th>\n      <th>2621</th>\n      <th>2724</th>\n      <th>2725</th>\n      <th>2822</th>\n      <th>2823</th>\n      <th>2828</th>\n      <th>...</th>\n      <th>19962</th>\n      <th>19963</th>\n      <th>19964</th>\n      <th>19965</th>\n      <th>19966</th>\n      <th>19967</th>\n      <th>19968</th>\n      <th>19969</th>\n      <th>19971</th>\n      <th>Total</th>\n    </tr>\n    <tr>\n      <th>loc_origen</th>\n      <th></th>\n      <th></th>\n      <th></th>\n      <th></th>\n      <th></th>\n      <th></th>\n      <th></th>\n      <th></th>\n      <th></th>\n      <th></th>\n      <th></th>\n      <th></th>\n      <th></th>\n      <th></th>\n      <th></th>\n      <th></th>\n      <th></th>\n      <th></th>\n      <th></th>\n      <th></th>\n      <th></th>\n    </tr>\n  </thead>\n  <tbody>\n    <tr>\n      <th>1020</th>\n      <td>0.000000e+00</td>\n      <td>1.020222e+07</td>\n      <td>1.020252e+07</td>\n      <td>1.020252e+07</td>\n      <td>1.020262e+07</td>\n      <td>1.020272e+07</td>\n      <td>10202725</td>\n      <td>10202822</td>\n      <td>10202823</td>\n      <td>1.020283e+07</td>\n      <td>...</td>\n      <td>0</td>\n      <td>0</td>\n      <td>0.00</td>\n      <td>0</td>\n      <td>0</td>\n      <td>0.000000</td>\n      <td>0.00</td>\n      <td>0</td>\n      <td>1304729.0</td>\n      <td>1.304729e+06</td>\n    </tr>\n    <tr>\n      <th>2220</th>\n      <td>2.220102e+07</td>\n      <td>0.000000e+00</td>\n      <td>0.000000e+00</td>\n      <td>0.000000e+00</td>\n      <td>0.000000e+00</td>\n      <td>0.000000e+00</td>\n      <td>0</td>\n      <td>0</td>\n      <td>0</td>\n      <td>0.000000e+00</td>\n      <td>...</td>\n      <td>0</td>\n      <td>0</td>\n      <td>0.00</td>\n      <td>0</td>\n      <td>0</td>\n      <td>0.000000</td>\n      <td>0.00</td>\n      <td>0</td>\n      <td>0.0</td>\n      <td>4.065700e+04</td>\n    </tr>\n    <tr>\n      <th>2521</th>\n      <td>2.521102e+07</td>\n      <td>0.000000e+00</td>\n      <td>0.000000e+00</td>\n      <td>0.000000e+00</td>\n      <td>0.000000e+00</td>\n      <td>0.000000e+00</td>\n      <td>0</td>\n      <td>0</td>\n      <td>0</td>\n      <td>0.000000e+00</td>\n      <td>...</td>\n      <td>0</td>\n      <td>0</td>\n      <td>0.00</td>\n      <td>0</td>\n      <td>0</td>\n      <td>0.000000</td>\n      <td>0.00</td>\n      <td>0</td>\n      <td>0.0</td>\n      <td>1.220000e+04</td>\n    </tr>\n    <tr>\n      <th>2522</th>\n      <td>2.522102e+07</td>\n      <td>0.000000e+00</td>\n      <td>0.000000e+00</td>\n      <td>0.000000e+00</td>\n      <td>0.000000e+00</td>\n      <td>0.000000e+00</td>\n      <td>0</td>\n      <td>0</td>\n      <td>0</td>\n      <td>0.000000e+00</td>\n      <td>...</td>\n      <td>0</td>\n      <td>0</td>\n      <td>0.00</td>\n      <td>0</td>\n      <td>0</td>\n      <td>0.000000</td>\n      <td>0.00</td>\n      <td>0</td>\n      <td>0.0</td>\n      <td>2.659000e+03</td>\n    </tr>\n    <tr>\n      <th>2621</th>\n      <td>2.621102e+07</td>\n      <td>0.000000e+00</td>\n      <td>0.000000e+00</td>\n      <td>0.000000e+00</td>\n      <td>0.000000e+00</td>\n      <td>0.000000e+00</td>\n      <td>0</td>\n      <td>0</td>\n      <td>0</td>\n      <td>0.000000e+00</td>\n      <td>...</td>\n      <td>0</td>\n      <td>0</td>\n      <td>0.00</td>\n      <td>0</td>\n      <td>0</td>\n      <td>0.000000</td>\n      <td>0.00</td>\n      <td>0</td>\n      <td>0.0</td>\n      <td>2.531000e+03</td>\n    </tr>\n    <tr>\n      <th>...</th>\n      <td>...</td>\n      <td>...</td>\n      <td>...</td>\n      <td>...</td>\n      <td>...</td>\n      <td>...</td>\n      <td>...</td>\n      <td>...</td>\n      <td>...</td>\n      <td>...</td>\n      <td>...</td>\n      <td>...</td>\n      <td>...</td>\n      <td>...</td>\n      <td>...</td>\n      <td>...</td>\n      <td>...</td>\n      <td>...</td>\n      <td>...</td>\n      <td>...</td>\n      <td>...</td>\n    </tr>\n    <tr>\n      <th>19941</th>\n      <td>1.994110e+08</td>\n      <td>0.000000e+00</td>\n      <td>0.000000e+00</td>\n      <td>0.000000e+00</td>\n      <td>0.000000e+00</td>\n      <td>0.000000e+00</td>\n      <td>0</td>\n      <td>0</td>\n      <td>0</td>\n      <td>0.000000e+00</td>\n      <td>...</td>\n      <td>0</td>\n      <td>0</td>\n      <td>0.00</td>\n      <td>0</td>\n      <td>0</td>\n      <td>0.000000</td>\n      <td>0.00</td>\n      <td>0</td>\n      <td>0.0</td>\n      <td>6.800000e+01</td>\n    </tr>\n    <tr>\n      <th>19942</th>\n      <td>0.000000e+00</td>\n      <td>0.000000e+00</td>\n      <td>0.000000e+00</td>\n      <td>0.000000e+00</td>\n      <td>0.000000e+00</td>\n      <td>0.000000e+00</td>\n      <td>0</td>\n      <td>0</td>\n      <td>0</td>\n      <td>0.000000e+00</td>\n      <td>...</td>\n      <td>0</td>\n      <td>0</td>\n      <td>0.00</td>\n      <td>0</td>\n      <td>0</td>\n      <td>0.000000</td>\n      <td>0.00</td>\n      <td>0</td>\n      <td>0.0</td>\n      <td>8.200000e+01</td>\n    </tr>\n    <tr>\n      <th>19947</th>\n      <td>0.000000e+00</td>\n      <td>0.000000e+00</td>\n      <td>0.000000e+00</td>\n      <td>0.000000e+00</td>\n      <td>0.000000e+00</td>\n      <td>0.000000e+00</td>\n      <td>0</td>\n      <td>0</td>\n      <td>0</td>\n      <td>0.000000e+00</td>\n      <td>...</td>\n      <td>0</td>\n      <td>0</td>\n      <td>0.00</td>\n      <td>0</td>\n      <td>0</td>\n      <td>0.000000</td>\n      <td>0.00</td>\n      <td>0</td>\n      <td>0.0</td>\n      <td>1.600000e+01</td>\n    </tr>\n    <tr>\n      <th>19960</th>\n      <td>1.996010e+08</td>\n      <td>0.000000e+00</td>\n      <td>0.000000e+00</td>\n      <td>0.000000e+00</td>\n      <td>0.000000e+00</td>\n      <td>0.000000e+00</td>\n      <td>0</td>\n      <td>0</td>\n      <td>0</td>\n      <td>0.000000e+00</td>\n      <td>...</td>\n      <td>0</td>\n      <td>0</td>\n      <td>0.00</td>\n      <td>0</td>\n      <td>0</td>\n      <td>0.000000</td>\n      <td>0.00</td>\n      <td>0</td>\n      <td>0.0</td>\n      <td>5.400000e+01</td>\n    </tr>\n    <tr>\n      <th>Total</th>\n      <td>1.016396e+08</td>\n      <td>1.047701e+08</td>\n      <td>9.971067e+07</td>\n      <td>1.054304e+08</td>\n      <td>1.355843e+08</td>\n      <td>1.105461e+08</td>\n      <td>134632725</td>\n      <td>74205322</td>\n      <td>23762823</td>\n      <td>1.066213e+08</td>\n      <td>...</td>\n      <td>62590</td>\n      <td>33217</td>\n      <td>6068.25</td>\n      <td>51830</td>\n      <td>15223</td>\n      <td>22187.333333</td>\n      <td>20193.75</td>\n      <td>33217</td>\n      <td>265929.6</td>\n      <td>8.293132e+04</td>\n    </tr>\n  </tbody>\n</table>\n<p>496 rows × 2675 columns</p>\n</div>"
     },
     "metadata": {},
     "execution_count": 16
    }
   ],
   "source": [
    "matrix = pd.pivot_table(flujos_loc,\n",
    "                        index ='loc_origen',\n",
    "                        columns='loc_destino',\n",
    "                        fill_value=0,\n",
    "                        margins=True,\n",
    "                        margins_name='Total')\n",
    "matrix"
   ]
  },
  {
   "cell_type": "code",
   "execution_count": null,
   "metadata": {},
   "outputs": [],
   "source": []
  }
 ]
}