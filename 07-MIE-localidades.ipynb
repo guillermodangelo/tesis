{
 "metadata": {
  "language_info": {
   "codemirror_mode": {
    "name": "ipython",
    "version": 3
   },
   "file_extension": ".py",
   "mimetype": "text/x-python",
   "name": "python",
   "nbconvert_exporter": "python",
   "pygments_lexer": "ipython3",
   "version": "3.8.8"
  },
  "orig_nbformat": 2,
  "kernelspec": {
   "name": "tesis",
   "display_name": "Python 3.8.8 64-bit ('tesis': conda)"
  },
  "metadata": {
   "interpreter": {
    "hash": "5ce838cc175eb9c7ee2cce823ae805de6106cb4564d9fc7b3476b35fac8c9293"
   }
  }
 },
 "nbformat": 4,
 "nbformat_minor": 2,
 "cells": [
  {
   "cell_type": "code",
   "execution_count": 10,
   "metadata": {},
   "outputs": [],
   "source": [
    "import pandas as pd\n",
    "import numpy as np\n",
    "import statsmodels.api as sm\n",
    "import statsmodels.formula.api as smf\n",
    "import time\n",
    "    \n",
    "# funciones desarrolladas\n",
    "from functions.agrupar_dfs_censo import *\n",
    "from functions.cargar_data import *\n",
    "from functions.impresion import *"
   ]
  },
  {
   "cell_type": "code",
   "execution_count": 11,
   "metadata": {},
   "outputs": [
    {
     "output_type": "stream",
     "name": "stdout",
     "text": [
      "377610\n"
     ]
    },
    {
     "output_type": "execute_result",
     "data": {
      "text/plain": [
       "        cod  cod_ori  cod_des  poblacion_ori  poblacion_des  personas_mig  \\\n",
       "0  10202220     1020     2220        1304729          40657         635.0   \n",
       "1  10202521     1020     2521        1304729          12200          90.0   \n",
       "2  10202522     1020     2522        1304729           2659          17.0   \n",
       "\n",
       "   distancia_m  \n",
       "0       583715  \n",
       "1       612802  \n",
       "2       617076  "
      ],
      "text/html": "<div>\n<style scoped>\n    .dataframe tbody tr th:only-of-type {\n        vertical-align: middle;\n    }\n\n    .dataframe tbody tr th {\n        vertical-align: top;\n    }\n\n    .dataframe thead th {\n        text-align: right;\n    }\n</style>\n<table border=\"1\" class=\"dataframe\">\n  <thead>\n    <tr style=\"text-align: right;\">\n      <th></th>\n      <th>cod</th>\n      <th>cod_ori</th>\n      <th>cod_des</th>\n      <th>poblacion_ori</th>\n      <th>poblacion_des</th>\n      <th>personas_mig</th>\n      <th>distancia_m</th>\n    </tr>\n  </thead>\n  <tbody>\n    <tr>\n      <th>0</th>\n      <td>10202220</td>\n      <td>1020</td>\n      <td>2220</td>\n      <td>1304729</td>\n      <td>40657</td>\n      <td>635.0</td>\n      <td>583715</td>\n    </tr>\n    <tr>\n      <th>1</th>\n      <td>10202521</td>\n      <td>1020</td>\n      <td>2521</td>\n      <td>1304729</td>\n      <td>12200</td>\n      <td>90.0</td>\n      <td>612802</td>\n    </tr>\n    <tr>\n      <th>2</th>\n      <td>10202522</td>\n      <td>1020</td>\n      <td>2522</td>\n      <td>1304729</td>\n      <td>2659</td>\n      <td>17.0</td>\n      <td>617076</td>\n    </tr>\n  </tbody>\n</table>\n</div>"
     },
     "metadata": {},
     "execution_count": 11
    }
   ],
   "source": [
    "flujos_loc = pd.read_csv('tablas/dd_localidades.csv')\n",
    "print(flujos_loc.shape[0])\n",
    "flujos_loc.head(3)"
   ]
  },
  {
   "cell_type": "code",
   "execution_count": 12,
   "metadata": {},
   "outputs": [
    {
     "output_type": "execute_result",
     "data": {
      "text/plain": [
       "   CODLOC                        geometry\n",
       "0    2220  POINT (549273.219 6633915.063)\n",
       "1    2521  POINT (442454.671 6652273.541)\n",
       "2    2522  POINT (457921.001 6633361.660)"
      ],
      "text/html": "<div>\n<style scoped>\n    .dataframe tbody tr th:only-of-type {\n        vertical-align: middle;\n    }\n\n    .dataframe tbody tr th {\n        vertical-align: top;\n    }\n\n    .dataframe thead th {\n        text-align: right;\n    }\n</style>\n<table border=\"1\" class=\"dataframe\">\n  <thead>\n    <tr style=\"text-align: right;\">\n      <th></th>\n      <th>CODLOC</th>\n      <th>geometry</th>\n    </tr>\n  </thead>\n  <tbody>\n    <tr>\n      <th>0</th>\n      <td>2220</td>\n      <td>POINT (549273.219 6633915.063)</td>\n    </tr>\n    <tr>\n      <th>1</th>\n      <td>2521</td>\n      <td>POINT (442454.671 6652273.541)</td>\n    </tr>\n    <tr>\n      <th>2</th>\n      <td>2522</td>\n      <td>POINT (457921.001 6633361.660)</td>\n    </tr>\n  </tbody>\n</table>\n</div>"
     },
     "metadata": {},
     "execution_count": 12
    }
   ],
   "source": [
    "locs = cargar_datos_geo()[2][['CODLOC', 'geometry']]\n",
    "locs.head(3)"
   ]
  },
  {
   "cell_type": "code",
   "execution_count": 13,
   "metadata": {},
   "outputs": [
    {
     "output_type": "execute_result",
     "data": {
      "text/plain": [
       "377610"
      ]
     },
     "metadata": {},
     "execution_count": 13
    }
   ],
   "source": [
    "locs_cod = list(locs.CODLOC)\n",
    "len(locs_cod) ** 2 - len(locs_cod)"
   ]
  },
  {
   "cell_type": "code",
   "execution_count": 14,
   "metadata": {},
   "outputs": [
    {
     "output_type": "execute_result",
     "data": {
      "text/plain": [
       "        cod  cod_ori  cod_des  poblacion_ori  poblacion_des  personas_mig  \\\n",
       "0  10202220     1020     2220        1304729          40657         635.0   \n",
       "1  25212220     2521     2220          12200          40657           NaN   \n",
       "2  25222220     2522     2220           2659          40657           NaN   \n",
       "3  26212220     2621     2220           2531          40657           NaN   \n",
       "4  27212220     2721     2220            380          40657           NaN   \n",
       "\n",
       "   distancia_m                        geom_ori                        geom_des  \n",
       "0       583715  POINT (573082.248 6145008.434)  POINT (549273.219 6633915.063)  \n",
       "1       137927  POINT (442454.671 6652273.541)  POINT (549273.219 6633915.063)  \n",
       "2       111408  POINT (457921.001 6633361.660)  POINT (549273.219 6633915.063)  \n",
       "3       106867  POINT (468458.270 6601361.867)  POINT (549273.219 6633915.063)  \n",
       "4        58392  POINT (502880.928 6648162.053)  POINT (549273.219 6633915.063)  "
      ],
      "text/html": "<div>\n<style scoped>\n    .dataframe tbody tr th:only-of-type {\n        vertical-align: middle;\n    }\n\n    .dataframe tbody tr th {\n        vertical-align: top;\n    }\n\n    .dataframe thead th {\n        text-align: right;\n    }\n</style>\n<table border=\"1\" class=\"dataframe\">\n  <thead>\n    <tr style=\"text-align: right;\">\n      <th></th>\n      <th>cod</th>\n      <th>cod_ori</th>\n      <th>cod_des</th>\n      <th>poblacion_ori</th>\n      <th>poblacion_des</th>\n      <th>personas_mig</th>\n      <th>distancia_m</th>\n      <th>geom_ori</th>\n      <th>geom_des</th>\n    </tr>\n  </thead>\n  <tbody>\n    <tr>\n      <th>0</th>\n      <td>10202220</td>\n      <td>1020</td>\n      <td>2220</td>\n      <td>1304729</td>\n      <td>40657</td>\n      <td>635.0</td>\n      <td>583715</td>\n      <td>POINT (573082.248 6145008.434)</td>\n      <td>POINT (549273.219 6633915.063)</td>\n    </tr>\n    <tr>\n      <th>1</th>\n      <td>25212220</td>\n      <td>2521</td>\n      <td>2220</td>\n      <td>12200</td>\n      <td>40657</td>\n      <td>NaN</td>\n      <td>137927</td>\n      <td>POINT (442454.671 6652273.541)</td>\n      <td>POINT (549273.219 6633915.063)</td>\n    </tr>\n    <tr>\n      <th>2</th>\n      <td>25222220</td>\n      <td>2522</td>\n      <td>2220</td>\n      <td>2659</td>\n      <td>40657</td>\n      <td>NaN</td>\n      <td>111408</td>\n      <td>POINT (457921.001 6633361.660)</td>\n      <td>POINT (549273.219 6633915.063)</td>\n    </tr>\n    <tr>\n      <th>3</th>\n      <td>26212220</td>\n      <td>2621</td>\n      <td>2220</td>\n      <td>2531</td>\n      <td>40657</td>\n      <td>NaN</td>\n      <td>106867</td>\n      <td>POINT (468458.270 6601361.867)</td>\n      <td>POINT (549273.219 6633915.063)</td>\n    </tr>\n    <tr>\n      <th>4</th>\n      <td>27212220</td>\n      <td>2721</td>\n      <td>2220</td>\n      <td>380</td>\n      <td>40657</td>\n      <td>NaN</td>\n      <td>58392</td>\n      <td>POINT (502880.928 6648162.053)</td>\n      <td>POINT (549273.219 6633915.063)</td>\n    </tr>\n  </tbody>\n</table>\n</div>"
     },
     "metadata": {},
     "execution_count": 14
    }
   ],
   "source": [
    "# pega geometrías\n",
    "dd = flujos_loc.merge(locs, left_on='cod_ori', right_on='CODLOC')\n",
    "dd = dd.merge(locs, left_on='cod_des', right_on='CODLOC')\n",
    "dd.drop(['CODLOC_x', 'CODLOC_y'], axis=1, inplace=True)\n",
    "dd.rename({'geometry_x':'geom_ori', 'geometry_y':'geom_des'}, axis=1, inplace=True)\n",
    "\n",
    "dd.head()\n",
    "\n",
    "# exporta CSV con geometrías puntuales para mapa de flujos\n",
    "#dd.to_csv('capas/loc_lines.csv', index=False)"
   ]
  },
  {
   "cell_type": "code",
   "execution_count": 15,
   "metadata": {},
   "outputs": [
    {
     "output_type": "stream",
     "name": "stdout",
     "text": [
      "(377610, 7)\n"
     ]
    },
    {
     "output_type": "execute_result",
     "data": {
      "text/plain": [
       "        cod  cod_ori  cod_des  poblacion_ori  poblacion_des  personas_mig  \\\n",
       "0  10202220     1020     2220        1304729          40657         635.0   \n",
       "1  10202521     1020     2521        1304729          12200          90.0   \n",
       "2  10202522     1020     2522        1304729           2659          17.0   \n",
       "3  10202621     1020     2621        1304729           2531           9.0   \n",
       "4  10202721     1020     2721        1304729            380           NaN   \n",
       "\n",
       "   distancia_m  \n",
       "0       583715  \n",
       "1       612802  \n",
       "2       617076  \n",
       "3       595785  \n",
       "4       628213  "
      ],
      "text/html": "<div>\n<style scoped>\n    .dataframe tbody tr th:only-of-type {\n        vertical-align: middle;\n    }\n\n    .dataframe tbody tr th {\n        vertical-align: top;\n    }\n\n    .dataframe thead th {\n        text-align: right;\n    }\n</style>\n<table border=\"1\" class=\"dataframe\">\n  <thead>\n    <tr style=\"text-align: right;\">\n      <th></th>\n      <th>cod</th>\n      <th>cod_ori</th>\n      <th>cod_des</th>\n      <th>poblacion_ori</th>\n      <th>poblacion_des</th>\n      <th>personas_mig</th>\n      <th>distancia_m</th>\n    </tr>\n  </thead>\n  <tbody>\n    <tr>\n      <th>0</th>\n      <td>10202220</td>\n      <td>1020</td>\n      <td>2220</td>\n      <td>1304729</td>\n      <td>40657</td>\n      <td>635.0</td>\n      <td>583715</td>\n    </tr>\n    <tr>\n      <th>1</th>\n      <td>10202521</td>\n      <td>1020</td>\n      <td>2521</td>\n      <td>1304729</td>\n      <td>12200</td>\n      <td>90.0</td>\n      <td>612802</td>\n    </tr>\n    <tr>\n      <th>2</th>\n      <td>10202522</td>\n      <td>1020</td>\n      <td>2522</td>\n      <td>1304729</td>\n      <td>2659</td>\n      <td>17.0</td>\n      <td>617076</td>\n    </tr>\n    <tr>\n      <th>3</th>\n      <td>10202621</td>\n      <td>1020</td>\n      <td>2621</td>\n      <td>1304729</td>\n      <td>2531</td>\n      <td>9.0</td>\n      <td>595785</td>\n    </tr>\n    <tr>\n      <th>4</th>\n      <td>10202721</td>\n      <td>1020</td>\n      <td>2721</td>\n      <td>1304729</td>\n      <td>380</td>\n      <td>NaN</td>\n      <td>628213</td>\n    </tr>\n  </tbody>\n</table>\n</div>"
     },
     "metadata": {},
     "execution_count": 15
    }
   ],
   "source": [
    "print(flujos_loc.shape)\n",
    "flujos_loc.head()"
   ]
  },
  {
   "cell_type": "code",
   "execution_count": 16,
   "metadata": {},
   "outputs": [],
   "source": [
    "# reemplaza ceros\n",
    "def nozeros(df):\n",
    "    df_copy = df\n",
    "    df_copy.loc[df_copy.personas_mig.isna(), 'personas_mig'] = 0.001\n",
    "    df_copy.loc[df_copy.poblacion_des==0, 'poblacion_des'] = 1\n",
    "    df_copy.loc[df_copy.poblacion_ori==0, 'poblacion_ori'] = 1\n",
    "    return df"
   ]
  },
  {
   "cell_type": "code",
   "execution_count": 17,
   "metadata": {},
   "outputs": [
    {
     "output_type": "execute_result",
     "data": {
      "text/plain": [
       "        cod  cod_ori  cod_des  poblacion_ori  poblacion_des  personas_mig  \\\n",
       "0  10202220     1020     2220        1304729          40657       635.000   \n",
       "1  10202521     1020     2521        1304729          12200        90.000   \n",
       "2  10202522     1020     2522        1304729           2659        17.000   \n",
       "3  10202621     1020     2621        1304729           2531         9.000   \n",
       "4  10202721     1020     2721        1304729            380         0.001   \n",
       "\n",
       "   distancia_m  \n",
       "0       583715  \n",
       "1       612802  \n",
       "2       617076  \n",
       "3       595785  \n",
       "4       628213  "
      ],
      "text/html": "<div>\n<style scoped>\n    .dataframe tbody tr th:only-of-type {\n        vertical-align: middle;\n    }\n\n    .dataframe tbody tr th {\n        vertical-align: top;\n    }\n\n    .dataframe thead th {\n        text-align: right;\n    }\n</style>\n<table border=\"1\" class=\"dataframe\">\n  <thead>\n    <tr style=\"text-align: right;\">\n      <th></th>\n      <th>cod</th>\n      <th>cod_ori</th>\n      <th>cod_des</th>\n      <th>poblacion_ori</th>\n      <th>poblacion_des</th>\n      <th>personas_mig</th>\n      <th>distancia_m</th>\n    </tr>\n  </thead>\n  <tbody>\n    <tr>\n      <th>0</th>\n      <td>10202220</td>\n      <td>1020</td>\n      <td>2220</td>\n      <td>1304729</td>\n      <td>40657</td>\n      <td>635.000</td>\n      <td>583715</td>\n    </tr>\n    <tr>\n      <th>1</th>\n      <td>10202521</td>\n      <td>1020</td>\n      <td>2521</td>\n      <td>1304729</td>\n      <td>12200</td>\n      <td>90.000</td>\n      <td>612802</td>\n    </tr>\n    <tr>\n      <th>2</th>\n      <td>10202522</td>\n      <td>1020</td>\n      <td>2522</td>\n      <td>1304729</td>\n      <td>2659</td>\n      <td>17.000</td>\n      <td>617076</td>\n    </tr>\n    <tr>\n      <th>3</th>\n      <td>10202621</td>\n      <td>1020</td>\n      <td>2621</td>\n      <td>1304729</td>\n      <td>2531</td>\n      <td>9.000</td>\n      <td>595785</td>\n    </tr>\n    <tr>\n      <th>4</th>\n      <td>10202721</td>\n      <td>1020</td>\n      <td>2721</td>\n      <td>1304729</td>\n      <td>380</td>\n      <td>0.001</td>\n      <td>628213</td>\n    </tr>\n  </tbody>\n</table>\n</div>"
     },
     "metadata": {},
     "execution_count": 17
    }
   ],
   "source": [
    "flujos_loc = nozeros(flujos_loc)\n",
    "flujos_loc.head()"
   ]
  },
  {
   "cell_type": "code",
   "execution_count": 18,
   "metadata": {},
   "outputs": [
    {
     "output_type": "execute_result",
     "data": {
      "text/plain": [
       "        cod cod_ori cod_des  poblacion_ori  poblacion_des  personas_mig  \\\n",
       "0  10202220    1020    2220        1304729          40657       635.000   \n",
       "1  10202521    1020    2521        1304729          12200        90.000   \n",
       "2  10202522    1020    2522        1304729           2659        17.000   \n",
       "3  10202621    1020    2621        1304729           2531         9.000   \n",
       "4  10202721    1020    2721        1304729            380         0.001   \n",
       "\n",
       "   distancia_m  \n",
       "0       583715  \n",
       "1       612802  \n",
       "2       617076  \n",
       "3       595785  \n",
       "4       628213  "
      ],
      "text/html": "<div>\n<style scoped>\n    .dataframe tbody tr th:only-of-type {\n        vertical-align: middle;\n    }\n\n    .dataframe tbody tr th {\n        vertical-align: top;\n    }\n\n    .dataframe thead th {\n        text-align: right;\n    }\n</style>\n<table border=\"1\" class=\"dataframe\">\n  <thead>\n    <tr style=\"text-align: right;\">\n      <th></th>\n      <th>cod</th>\n      <th>cod_ori</th>\n      <th>cod_des</th>\n      <th>poblacion_ori</th>\n      <th>poblacion_des</th>\n      <th>personas_mig</th>\n      <th>distancia_m</th>\n    </tr>\n  </thead>\n  <tbody>\n    <tr>\n      <th>0</th>\n      <td>10202220</td>\n      <td>1020</td>\n      <td>2220</td>\n      <td>1304729</td>\n      <td>40657</td>\n      <td>635.000</td>\n      <td>583715</td>\n    </tr>\n    <tr>\n      <th>1</th>\n      <td>10202521</td>\n      <td>1020</td>\n      <td>2521</td>\n      <td>1304729</td>\n      <td>12200</td>\n      <td>90.000</td>\n      <td>612802</td>\n    </tr>\n    <tr>\n      <th>2</th>\n      <td>10202522</td>\n      <td>1020</td>\n      <td>2522</td>\n      <td>1304729</td>\n      <td>2659</td>\n      <td>17.000</td>\n      <td>617076</td>\n    </tr>\n    <tr>\n      <th>3</th>\n      <td>10202621</td>\n      <td>1020</td>\n      <td>2621</td>\n      <td>1304729</td>\n      <td>2531</td>\n      <td>9.000</td>\n      <td>595785</td>\n    </tr>\n    <tr>\n      <th>4</th>\n      <td>10202721</td>\n      <td>1020</td>\n      <td>2721</td>\n      <td>1304729</td>\n      <td>380</td>\n      <td>0.001</td>\n      <td>628213</td>\n    </tr>\n  </tbody>\n</table>\n</div>"
     },
     "metadata": {},
     "execution_count": 18
    }
   ],
   "source": [
    "# convierte códigos a string para ser correctamente interpretados por el modelo\n",
    "flujos_loc['cod_ori'] = flujos_loc['cod_ori'].astype(str)\n",
    "flujos_loc['cod_des'] = flujos_loc['cod_des'].astype(str)\n",
    "\n",
    "flujos_loc_oc = flujos_loc\n",
    "\n",
    "flujos_loc_oc.head()"
   ]
  },
  {
   "cell_type": "code",
   "execution_count": 19,
   "metadata": {},
   "outputs": [
    {
     "output_type": "stream",
     "name": "stderr",
     "text": [
      "C:\\Users\\user\\anaconda3\\envs\\tesis\\lib\\site-packages\\statsmodels\\base\\model.py:566: ConvergenceWarning: Maximum Likelihood optimization failed to converge. Check mle_retvals\n",
      "  warnings.warn(\"Maximum Likelihood optimization failed to \"\n",
      "106.569491147995\n"
     ]
    }
   ],
   "source": [
    "formula = \"personas_mig ~ cod_ori + np.log(poblacion_des) + np.log(distancia_m) -1\"\n",
    "\n",
    "t0= time.time()\n",
    "\n",
    "# entrena y ajusta el modelo\n",
    "prodSim = smf.glm(formula=formula, data=flujos_loc_oc, family=sm.families.Poisson()).fit(method='lbfgs', max_start_irls=0)\n",
    "\n",
    "t1 = time.time() - t0\n",
    "print(t1)"
   ]
  },
  {
   "cell_type": "code",
   "execution_count": 78,
   "metadata": {},
   "outputs": [
    {
     "output_type": "execute_result",
     "data": {
      "text/plain": [
       "cod_ori[1020]            6.905786\n",
       "cod_ori[10320]           3.896025\n",
       "cod_ori[10321]           2.599674\n",
       "cod_ori[10521]           0.229187\n",
       "cod_ori[10522]           0.507811\n",
       "                           ...   \n",
       "cod_ori[9957]           -0.568802\n",
       "cod_ori[9958]           -0.533280\n",
       "cod_ori[9991]           -0.381858\n",
       "np.log(poblacion_des)    0.921008\n",
       "np.log(distancia_m)     -0.865461\n",
       "Length: 617, dtype: float64"
      ]
     },
     "metadata": {},
     "execution_count": 78
    }
   ],
   "source": [
    "#prodSim.summary()\n",
    "prodSim.params"
   ]
  },
  {
   "cell_type": "code",
   "execution_count": 79,
   "metadata": {},
   "outputs": [
    {
     "output_type": "execute_result",
     "data": {
      "text/plain": [
       "        cod cod_ori cod_des  poblacion_ori  poblacion_des  personas_mig  \\\n",
       "0  10202220    1020    2220        1304729          40657       635.000   \n",
       "1  10202521    1020    2521        1304729          12200        90.000   \n",
       "2  10202522    1020    2522        1304729           2659        17.000   \n",
       "3  10202621    1020    2621        1304729           2531         9.000   \n",
       "4  10202721    1020    2721        1304729            380         0.001   \n",
       "\n",
       "   distancia_m      mu_i  \n",
       "0       583715  6.905786  \n",
       "1       612802  6.905786  \n",
       "2       617076  6.905786  \n",
       "3       595785  6.905786  \n",
       "4       628213  6.905786  "
      ],
      "text/html": "<div>\n<style scoped>\n    .dataframe tbody tr th:only-of-type {\n        vertical-align: middle;\n    }\n\n    .dataframe tbody tr th {\n        vertical-align: top;\n    }\n\n    .dataframe thead th {\n        text-align: right;\n    }\n</style>\n<table border=\"1\" class=\"dataframe\">\n  <thead>\n    <tr style=\"text-align: right;\">\n      <th></th>\n      <th>cod</th>\n      <th>cod_ori</th>\n      <th>cod_des</th>\n      <th>poblacion_ori</th>\n      <th>poblacion_des</th>\n      <th>personas_mig</th>\n      <th>distancia_m</th>\n      <th>mu_i</th>\n    </tr>\n  </thead>\n  <tbody>\n    <tr>\n      <th>0</th>\n      <td>10202220</td>\n      <td>1020</td>\n      <td>2220</td>\n      <td>1304729</td>\n      <td>40657</td>\n      <td>635.000</td>\n      <td>583715</td>\n      <td>6.905786</td>\n    </tr>\n    <tr>\n      <th>1</th>\n      <td>10202521</td>\n      <td>1020</td>\n      <td>2521</td>\n      <td>1304729</td>\n      <td>12200</td>\n      <td>90.000</td>\n      <td>612802</td>\n      <td>6.905786</td>\n    </tr>\n    <tr>\n      <th>2</th>\n      <td>10202522</td>\n      <td>1020</td>\n      <td>2522</td>\n      <td>1304729</td>\n      <td>2659</td>\n      <td>17.000</td>\n      <td>617076</td>\n      <td>6.905786</td>\n    </tr>\n    <tr>\n      <th>3</th>\n      <td>10202621</td>\n      <td>1020</td>\n      <td>2621</td>\n      <td>1304729</td>\n      <td>2531</td>\n      <td>9.000</td>\n      <td>595785</td>\n      <td>6.905786</td>\n    </tr>\n    <tr>\n      <th>4</th>\n      <td>10202721</td>\n      <td>1020</td>\n      <td>2721</td>\n      <td>1304729</td>\n      <td>380</td>\n      <td>0.001</td>\n      <td>628213</td>\n      <td>6.905786</td>\n    </tr>\n  </tbody>\n</table>\n</div>"
     },
     "metadata": {},
     "execution_count": 79
    }
   ],
   "source": [
    "# recupera los parámetros del modelo\n",
    "mu_i = prodSim.params.to_frame()\n",
    "\n",
    "# elimina caractérres no numéricos para poder pegar\n",
    "mu_i.rename(index = dict(zip(mu_i.index[0:-2].values,  mu_i.index[0:-2].str.replace('cod_ori[','', regex=False).str.replace(']','', regex=False).values)),\n",
    "            inplace=True)\n",
    "\n",
    "# renombre columna\n",
    "mu_i.rename(columns = {0:'mu_i'}, inplace=True)\n",
    "\n",
    "# merge\n",
    "flujos_loc_oc = flujos_loc_oc.merge(mu_i, left_on='cod_ori', right_index=True)\n",
    "\n",
    "flujos_loc_oc.head()"
   ]
  },
  {
   "cell_type": "code",
   "execution_count": 80,
   "metadata": {},
   "outputs": [],
   "source": [
    "# funciones para recuperar parámetros e imprimir\n",
    "def get_gml_params(model, variables):\n",
    "    \"Accede a los parámetros alfa y beta dentro de los resutaldos del modelo\"\n",
    "    params = [model.params[i] for i in variables]\n",
    "    params_str = [str(round(i, 4)) for i in params]\n",
    "    return params, params_str\n",
    "\n",
    "def print_params(variables, params_list):\n",
    "    \"Imprime los parámetros\"\n",
    "    return print(\"\"\"alpha ({}) = {}\\nbeta ({}) = {}\n",
    "    \"\"\".format(variables[0], params_list[0], variables[1], params_list[1]))"
   ]
  },
  {
   "cell_type": "code",
   "execution_count": 81,
   "metadata": {},
   "outputs": [
    {
     "output_type": "stream",
     "name": "stdout",
     "text": [
      "alpha (np.log(poblacion_des)) = 0.921\nbeta (np.log(distancia_m)) = -0.8655\n    \n"
     ]
    }
   ],
   "source": [
    "# imprime parámetros\n",
    "variables= ['np.log(poblacion_des)', 'np.log(distancia_m)']\n",
    "\n",
    "params, params_str = get_gml_params(prodSim, variables)\n",
    "\n",
    "print_params(variables, params_str)"
   ]
  },
  {
   "cell_type": "code",
   "execution_count": 82,
   "metadata": {},
   "outputs": [
    {
     "output_type": "execute_result",
     "data": {
      "text/plain": [
       "['np.log(poblacion_des)', 'np.log(distancia_m)']"
      ]
     },
     "metadata": {},
     "execution_count": 82
    }
   ],
   "source": [
    "variables"
   ]
  },
  {
   "cell_type": "code",
   "execution_count": 83,
   "metadata": {},
   "outputs": [],
   "source": [
    "# genera estimación redondeada\n",
    "def prod_sim_est(df, variables, alpha, beta):\n",
    "    \"Estimación del modelo imputando los parámetros alfa y beta previamente calculados\"\n",
    "    prodsimest = np.exp(df['mu_i'] + alpha * np.log(df[variables[0]]) + beta * np.log(df[variables[1]]))\n",
    "    return round(prodsimest)"
   ]
  },
  {
   "cell_type": "code",
   "execution_count": 84,
   "metadata": {},
   "outputs": [],
   "source": [
    "# recupera alpha y beta, previamente guardados en la lista de parámetros\n",
    "alpha, beta = [i for i in params]\n",
    "\n",
    "variables = ['poblacion_des', 'distancia_m']\n",
    "\n",
    "# estima y guarda en columna \"podsimtest\"\n",
    "flujos_loc_oc['prodsimest'] = prod_sim_est(flujos_loc_oc, variables, alpha, beta)"
   ]
  },
  {
   "cell_type": "code",
   "execution_count": 85,
   "metadata": {},
   "outputs": [
    {
     "output_type": "execute_result",
     "data": {
      "text/plain": [
       "        cod cod_ori cod_des  poblacion_ori  poblacion_des  personas_mig  \\\n",
       "0  10202220    1020    2220        1304729          40657       635.000   \n",
       "1  10202521    1020    2521        1304729          12200        90.000   \n",
       "2  10202522    1020    2522        1304729           2659        17.000   \n",
       "3  10202621    1020    2621        1304729           2531         9.000   \n",
       "4  10202721    1020    2721        1304729            380         0.001   \n",
       "\n",
       "   distancia_m      mu_i  prodsimest  \n",
       "0       583715  6.905786       179.0  \n",
       "1       612802  6.905786        57.0  \n",
       "2       617076  6.905786        14.0  \n",
       "3       595785  6.905786        14.0  \n",
       "4       628213  6.905786         2.0  "
      ],
      "text/html": "<div>\n<style scoped>\n    .dataframe tbody tr th:only-of-type {\n        vertical-align: middle;\n    }\n\n    .dataframe tbody tr th {\n        vertical-align: top;\n    }\n\n    .dataframe thead th {\n        text-align: right;\n    }\n</style>\n<table border=\"1\" class=\"dataframe\">\n  <thead>\n    <tr style=\"text-align: right;\">\n      <th></th>\n      <th>cod</th>\n      <th>cod_ori</th>\n      <th>cod_des</th>\n      <th>poblacion_ori</th>\n      <th>poblacion_des</th>\n      <th>personas_mig</th>\n      <th>distancia_m</th>\n      <th>mu_i</th>\n      <th>prodsimest</th>\n    </tr>\n  </thead>\n  <tbody>\n    <tr>\n      <th>0</th>\n      <td>10202220</td>\n      <td>1020</td>\n      <td>2220</td>\n      <td>1304729</td>\n      <td>40657</td>\n      <td>635.000</td>\n      <td>583715</td>\n      <td>6.905786</td>\n      <td>179.0</td>\n    </tr>\n    <tr>\n      <th>1</th>\n      <td>10202521</td>\n      <td>1020</td>\n      <td>2521</td>\n      <td>1304729</td>\n      <td>12200</td>\n      <td>90.000</td>\n      <td>612802</td>\n      <td>6.905786</td>\n      <td>57.0</td>\n    </tr>\n    <tr>\n      <th>2</th>\n      <td>10202522</td>\n      <td>1020</td>\n      <td>2522</td>\n      <td>1304729</td>\n      <td>2659</td>\n      <td>17.000</td>\n      <td>617076</td>\n      <td>6.905786</td>\n      <td>14.0</td>\n    </tr>\n    <tr>\n      <th>3</th>\n      <td>10202621</td>\n      <td>1020</td>\n      <td>2621</td>\n      <td>1304729</td>\n      <td>2531</td>\n      <td>9.000</td>\n      <td>595785</td>\n      <td>6.905786</td>\n      <td>14.0</td>\n    </tr>\n    <tr>\n      <th>4</th>\n      <td>10202721</td>\n      <td>1020</td>\n      <td>2721</td>\n      <td>1304729</td>\n      <td>380</td>\n      <td>0.001</td>\n      <td>628213</td>\n      <td>6.905786</td>\n      <td>2.0</td>\n    </tr>\n  </tbody>\n</table>\n</div>"
     },
     "metadata": {},
     "execution_count": 85
    }
   ],
   "source": [
    "flujos_loc_oc.head()"
   ]
  },
  {
   "cell_type": "code",
   "execution_count": 86,
   "metadata": {},
   "outputs": [],
   "source": [
    "# matriz de flujos estimada por el modelo\n",
    "flujos_loc_oc['cod_ori'] = flujos_loc_oc.cod_ori.astype(int)\n",
    "flujos_loc_oc['cod_des'] = flujos_loc_oc.cod_des.astype(int)\n",
    "\n",
    "matrix_prodsim = pd.pivot_table(flujos_loc_oc,\n",
    "                                values='prodsimest',\n",
    "                                index ='cod_ori',\n",
    "                                columns='cod_des',\n",
    "                                fill_value=0,\n",
    "                                aggfunc=sum,\n",
    "                                margins=True,\n",
    "                                margins_name='Total')\n",
    "\n",
    "matrix_prodsim.Total = matrix_prodsim.Total.astype(int)\n",
    "\n",
    "#matrix_prodsim"
   ]
  },
  {
   "cell_type": "code",
   "execution_count": 87,
   "metadata": {},
   "outputs": [
    {
     "output_type": "execute_result",
     "data": {
      "text/plain": [
       "           cod  cod_ori  cod_des  poblacion_ori  poblacion_des  personas_mig  \\\n",
       "0     10202220     1020     2220        1304729          40657       635.000   \n",
       "1229  25212220     2521     2220          12200          40657         0.001   \n",
       "1843  25222220     2522     2220           2659          40657         0.001   \n",
       "2457  26212220     2621     2220           2531          40657         0.001   \n",
       "3071  27212220     2721     2220            380          40657         0.001   \n",
       "\n",
       "      distancia_m      mu_i  prodsimest        O_i       D_j  \n",
       "0          583715  6.905786       179.0  55484.172  1043.544  \n",
       "1229       137927  4.726421        71.0   1172.518  1043.544  \n",
       "1843       111408  0.638936         1.0    144.595  1043.544  \n",
       "2457       106867  0.911650         2.0    191.580  1043.544  \n",
       "3071        58392 -0.147396         1.0     12.609  1043.544  "
      ],
      "text/html": "<div>\n<style scoped>\n    .dataframe tbody tr th:only-of-type {\n        vertical-align: middle;\n    }\n\n    .dataframe tbody tr th {\n        vertical-align: top;\n    }\n\n    .dataframe thead th {\n        text-align: right;\n    }\n</style>\n<table border=\"1\" class=\"dataframe\">\n  <thead>\n    <tr style=\"text-align: right;\">\n      <th></th>\n      <th>cod</th>\n      <th>cod_ori</th>\n      <th>cod_des</th>\n      <th>poblacion_ori</th>\n      <th>poblacion_des</th>\n      <th>personas_mig</th>\n      <th>distancia_m</th>\n      <th>mu_i</th>\n      <th>prodsimest</th>\n      <th>O_i</th>\n      <th>D_j</th>\n    </tr>\n  </thead>\n  <tbody>\n    <tr>\n      <th>0</th>\n      <td>10202220</td>\n      <td>1020</td>\n      <td>2220</td>\n      <td>1304729</td>\n      <td>40657</td>\n      <td>635.000</td>\n      <td>583715</td>\n      <td>6.905786</td>\n      <td>179.0</td>\n      <td>55484.172</td>\n      <td>1043.544</td>\n    </tr>\n    <tr>\n      <th>1229</th>\n      <td>25212220</td>\n      <td>2521</td>\n      <td>2220</td>\n      <td>12200</td>\n      <td>40657</td>\n      <td>0.001</td>\n      <td>137927</td>\n      <td>4.726421</td>\n      <td>71.0</td>\n      <td>1172.518</td>\n      <td>1043.544</td>\n    </tr>\n    <tr>\n      <th>1843</th>\n      <td>25222220</td>\n      <td>2522</td>\n      <td>2220</td>\n      <td>2659</td>\n      <td>40657</td>\n      <td>0.001</td>\n      <td>111408</td>\n      <td>0.638936</td>\n      <td>1.0</td>\n      <td>144.595</td>\n      <td>1043.544</td>\n    </tr>\n    <tr>\n      <th>2457</th>\n      <td>26212220</td>\n      <td>2621</td>\n      <td>2220</td>\n      <td>2531</td>\n      <td>40657</td>\n      <td>0.001</td>\n      <td>106867</td>\n      <td>0.911650</td>\n      <td>2.0</td>\n      <td>191.580</td>\n      <td>1043.544</td>\n    </tr>\n    <tr>\n      <th>3071</th>\n      <td>27212220</td>\n      <td>2721</td>\n      <td>2220</td>\n      <td>380</td>\n      <td>40657</td>\n      <td>0.001</td>\n      <td>58392</td>\n      <td>-0.147396</td>\n      <td>1.0</td>\n      <td>12.609</td>\n      <td>1043.544</td>\n    </tr>\n  </tbody>\n</table>\n</div>"
     },
     "metadata": {},
     "execution_count": 87
    }
   ],
   "source": [
    "# crea la sumatoria de migrantes en origen (Oi)\n",
    "O_i = flujos_loc_oc.groupby('cod_ori')['personas_mig'].sum().to_frame().rename(columns = {'personas_mig':'O_i'})\n",
    "\n",
    "# crea la sumatoria de migrantes en destino (Di)\n",
    "D_j = flujos_loc_oc.groupby('cod_des')['personas_mig'].sum().to_frame().rename(columns = {'personas_mig':'D_j'})\n",
    "\n",
    "# pega ambas variables con el df\n",
    "flujos_loc_oc = flujos_loc_oc.merge(O_i, left_on='cod_ori', right_index=True)\n",
    "flujos_loc_oc = flujos_loc_oc.merge(D_j, left_on='cod_des', right_index=True)\n",
    "\n",
    "flujos_loc_oc.head()"
   ]
  },
  {
   "cell_type": "code",
   "execution_count": 30,
   "metadata": {},
   "outputs": [],
   "source": [
    "# bondad de ajuste\n",
    "\n",
    "# define una función para calcular el R cuadrado\n",
    "def calcR2(obs, est):\n",
    "    return np.power(np.corrcoef(obs,est),2.0)[0][1]\n",
    "\n",
    "# define una función para calcula el error medio cuadrático\n",
    "def calcRMSE(obs,est):\n",
    "    return np.sqrt((np.power((obs - est),2.0)).mean())"
   ]
  },
  {
   "cell_type": "code",
   "execution_count": 89,
   "metadata": {},
   "outputs": [
    {
     "output_type": "display_data",
     "data": {
      "text/plain": "<IPython.core.display.Markdown object>",
      "text/markdown": "**Bondad de ajuste del modelo restringido en origen**"
     },
     "metadata": {}
    },
    {
     "output_type": "display_data",
     "data": {
      "text/plain": "<IPython.core.display.Markdown object>",
      "text/markdown": "$R²$ = 0.5221"
     },
     "metadata": {}
    },
    {
     "output_type": "display_data",
     "data": {
      "text/plain": "<IPython.core.display.Markdown object>",
      "text/markdown": "RMSE = 12.6171"
     },
     "metadata": {}
    }
   ],
   "source": [
    "printmd('**Bondad de ajuste del modelo restringido en origen**')\n",
    "\n",
    "printmd(\"$R²$ = \" + round(calcR2(flujos_loc['personas_mig'],flujos_loc['prodsimest']), 4).astype(str))\n",
    "\n",
    "printmd(\"RMSE = \" + round(calcRMSE(flujos_loc['personas_mig'],flujos_loc['prodsimest']), 4).astype(str))\n"
   ]
  },
  {
   "source": [
    "# Modelo de doble restrición"
   ],
   "cell_type": "markdown",
   "metadata": {}
  },
  {
   "cell_type": "code",
   "execution_count": 20,
   "metadata": {},
   "outputs": [
    {
     "output_type": "execute_result",
     "data": {
      "text/plain": [
       "        cod cod_ori cod_des  poblacion_ori  poblacion_des  personas_mig  \\\n",
       "0  10202220    1020    2220        1304729          40657       635.000   \n",
       "1  10202521    1020    2521        1304729          12200        90.000   \n",
       "2  10202522    1020    2522        1304729           2659        17.000   \n",
       "3  10202621    1020    2621        1304729           2531         9.000   \n",
       "4  10202721    1020    2721        1304729            380         0.001   \n",
       "\n",
       "   distancia_m  \n",
       "0       583715  \n",
       "1       612802  \n",
       "2       617076  \n",
       "3       595785  \n",
       "4       628213  "
      ],
      "text/html": "<div>\n<style scoped>\n    .dataframe tbody tr th:only-of-type {\n        vertical-align: middle;\n    }\n\n    .dataframe tbody tr th {\n        vertical-align: top;\n    }\n\n    .dataframe thead th {\n        text-align: right;\n    }\n</style>\n<table border=\"1\" class=\"dataframe\">\n  <thead>\n    <tr style=\"text-align: right;\">\n      <th></th>\n      <th>cod</th>\n      <th>cod_ori</th>\n      <th>cod_des</th>\n      <th>poblacion_ori</th>\n      <th>poblacion_des</th>\n      <th>personas_mig</th>\n      <th>distancia_m</th>\n    </tr>\n  </thead>\n  <tbody>\n    <tr>\n      <th>0</th>\n      <td>10202220</td>\n      <td>1020</td>\n      <td>2220</td>\n      <td>1304729</td>\n      <td>40657</td>\n      <td>635.000</td>\n      <td>583715</td>\n    </tr>\n    <tr>\n      <th>1</th>\n      <td>10202521</td>\n      <td>1020</td>\n      <td>2521</td>\n      <td>1304729</td>\n      <td>12200</td>\n      <td>90.000</td>\n      <td>612802</td>\n    </tr>\n    <tr>\n      <th>2</th>\n      <td>10202522</td>\n      <td>1020</td>\n      <td>2522</td>\n      <td>1304729</td>\n      <td>2659</td>\n      <td>17.000</td>\n      <td>617076</td>\n    </tr>\n    <tr>\n      <th>3</th>\n      <td>10202621</td>\n      <td>1020</td>\n      <td>2621</td>\n      <td>1304729</td>\n      <td>2531</td>\n      <td>9.000</td>\n      <td>595785</td>\n    </tr>\n    <tr>\n      <th>4</th>\n      <td>10202721</td>\n      <td>1020</td>\n      <td>2721</td>\n      <td>1304729</td>\n      <td>380</td>\n      <td>0.001</td>\n      <td>628213</td>\n    </tr>\n  </tbody>\n</table>\n</div>"
     },
     "metadata": {},
     "execution_count": 20
    }
   ],
   "source": [
    "flujos_loc_dc = flujos_loc\n",
    "flujos_loc_dc.head()"
   ]
  },
  {
   "cell_type": "code",
   "execution_count": 23,
   "metadata": {},
   "outputs": [
    {
     "output_type": "stream",
     "name": "stderr",
     "text": [
      "C:\\Users\\user\\anaconda3\\envs\\tesis\\lib\\site-packages\\statsmodels\\base\\model.py:566: ConvergenceWarning: Maximum Likelihood optimization failed to converge. Check mle_retvals\n",
      "  warnings.warn(\"Maximum Likelihood optimization failed to \"\n",
      "125.52654266357422\n"
     ]
    }
   ],
   "source": [
    "formula = \"personas_mig ~ cod_ori + np.log(poblacion_des) + np.log(distancia_m) -1\"\n",
    "\n",
    "t0= time.time()\n",
    "\n",
    "# entrena y ajusta el modelo\n",
    "doubSim = smf.glm(formula=formula, data=flujos_loc_dc, family=sm.families.Poisson()).fit(method='lbfgs', max_start_irls=0)\n",
    "\n",
    "t1 = time.time() - t0\n",
    "print(t1)"
   ]
  },
  {
   "cell_type": "code",
   "execution_count": 24,
   "metadata": {},
   "outputs": [],
   "source": [
    "# recupera los valores estimados\n",
    "flujos_loc_dc['doubsim_ajustado'] = np.round(doubSim.predict())\n",
    "\n",
    "flujos_loc_dc['cod_ori'] = flujos_loc_dc.cod_ori.astype(int)"
   ]
  },
  {
   "cell_type": "code",
   "execution_count": 28,
   "metadata": {},
   "outputs": [
    {
     "output_type": "execute_result",
     "data": {
      "text/plain": [
       "7444.0"
      ]
     },
     "metadata": {},
     "execution_count": 28
    }
   ],
   "source": [
    "flujos_loc_dc.doubsim_ajustado.max()"
   ]
  },
  {
   "cell_type": "code",
   "execution_count": 31,
   "metadata": {},
   "outputs": [
    {
     "output_type": "display_data",
     "data": {
      "text/plain": "<IPython.core.display.Markdown object>",
      "text/markdown": "**Bondad de ajuste del modelo de doble restricción**"
     },
     "metadata": {}
    },
    {
     "output_type": "display_data",
     "data": {
      "text/plain": "<IPython.core.display.Markdown object>",
      "text/markdown": "$R²$ = 0.5221"
     },
     "metadata": {}
    },
    {
     "output_type": "display_data",
     "data": {
      "text/plain": "<IPython.core.display.Markdown object>",
      "text/markdown": "RMSE = 12.6171"
     },
     "metadata": {}
    }
   ],
   "source": [
    "printmd('**Bondad de ajuste del modelo de doble restricción**')\n",
    "\n",
    "printmd(\"$R²$ = \" + round(calcR2(flujos_loc_dc['personas_mig'],  flujos_loc_dc['doubsim_ajustado']), 4).astype(str))\n",
    "\n",
    "printmd(\"RMSE = \" + round(calcRMSE(flujos_loc_dc['personas_mig'], flujos_loc_dc['doubsim_ajustado']), 4).astype(str))"
   ]
  },
  {
   "cell_type": "code",
   "execution_count": 32,
   "metadata": {},
   "outputs": [],
   "source": [
    "# basado en: https://journals.sagepub.com/doi/abs/10.1177/030913257900300218\n",
    "# Here is the entropy maximising approach for a known beta.\n",
    "# Plug in the required values in this function to solve.\n",
    "\n",
    "def balance_doubly_constrained(df, orig_field, dest_field,\n",
    "                               Oi_field, Dj_field, cij_field, beta, \n",
    "                               cost_function,\n",
    "                               Ai_name = \"Ai_new\", Bj_name = \"Bj_new\", converge=0.001):\n",
    "    # Define some variables\n",
    "    Oi = df[[orig_field, Oi_field]]\n",
    "    Dj = df[[dest_field,Dj_field]]\n",
    "    \n",
    "    if cost_function.lower() in ['power','pow']:\n",
    "        beta_cij = np.exp(beta * np.log(df[cij_field]))\n",
    "    elif cost_function.lower() in ['exponential','exp']:\n",
    "        beta_cij = np.exp(beta * df[cij_field])\n",
    "    else:\n",
    "        return \"Cost function not specified properly, use 'exp' or 'pow'\"\n",
    "    \n",
    "    # Create some helper variables\n",
    "    cnvg = 1\n",
    "    iteration = 0\n",
    "    \n",
    "    # Now iteratively rebalance the Ai and Bj terms until convergence\n",
    "    while cnvg > converge:\n",
    "        if iteration == 0:\n",
    "            # This first condition sets starting values for Ai and Bj\n",
    "            # NB sets starting value of Ai assuming Bj is a vector of 1s.\n",
    "            # We've already established beta_cij with the appropriate cost function, so...\n",
    "            Oi = Oi.assign(Ai = Dj[Dj_field] * beta_cij)\n",
    "            # Aggregate Ai and take inverse\n",
    "            Ai = 1.0/Oi.groupby(orig_field)['Ai'].sum().to_frame()\n",
    "            # Merge new Ais \n",
    "            Oi = Oi.merge(Ai,left_on = orig_field, right_index = True, suffixes = ('','_old'))\n",
    "            # Drop the temporary Ai field we created, leaving Ai_old\n",
    "            Oi.drop('Ai', axis=1, inplace=True)\n",
    "            \n",
    "            # Now set up Bjs using starting values of Ai\n",
    "            Dj = Dj.assign(Bj = Oi['Ai_old'] * Oi[Oi_field] * beta_cij)\n",
    "            # Aggregate Bj and take inverse\n",
    "            Bj = 1.0/Dj.groupby(dest_field)['Bj'].sum().to_frame()\n",
    "            # Merge new Bjs\n",
    "            Dj = Dj.merge(Bj,left_on = dest_field, right_index = True, suffixes = ('','_old'))\n",
    "            # Drop the temporary Bj field we created, leaving Bj_old\n",
    "            Dj.drop('Bj', axis=1, inplace=True)\n",
    "            \n",
    "            # Increment loop\n",
    "            iteration += 1\n",
    "        else:\n",
    "            # This bit is the iterated bit of the loop which refines the values of Ai and Bj\n",
    "            # First Ai\n",
    "            Oi['Ai'] = Dj['Bj_old'] * Dj[Dj_field] * beta_cij\n",
    "            # Aggregate Ai and take inverse\n",
    "            Ai = 1.0/Oi.groupby(orig_field)['Ai'].sum().to_frame()\n",
    "            # Drop temporary Ai\n",
    "            Oi.drop('Ai', axis=1, inplace=True)\n",
    "            # Merge new Ais \n",
    "            Oi = Oi.merge(Ai,left_on = orig_field, right_index = True)\n",
    "            # Calculate the difference between old and new Ais\n",
    "            Oi['diff'] = np.absolute((Oi['Ai_old'] - Oi['Ai'])/Oi['Ai_old'])\n",
    "            # Set new Ais to Ai_old\n",
    "            Oi['Ai_old'] = Oi['Ai']\n",
    "            # Drop the temporary Ai field we created, leaving Ai_old\n",
    "            Oi.drop('Ai', axis=1, inplace=True)\n",
    "            \n",
    "            # Then Bj\n",
    "            Dj['Bj'] = Oi['Ai_old'] * Oi[Oi_field] * beta_cij\n",
    "            # Aggregate Bj and take inverse\n",
    "            Bj = 1.0/Dj.groupby(dest_field)['Bj'].sum().to_frame()\n",
    "            # Drop temporary Bj\n",
    "            Dj.drop('Bj', axis=1, inplace=True)\n",
    "            # Merge new Bjs\n",
    "            Dj = Dj.merge(Bj,left_on = dest_field, right_index = True)\n",
    "            # Calculate the difference between old and new Bjs\n",
    "            Dj['diff'] = np.absolute((Dj['Bj_old'] - Dj['Bj'])/Dj['Bj_old'])\n",
    "            # Set new Bjs to Bj_old\n",
    "            Dj['Bj_old'] = Dj['Bj']\n",
    "            # Drop the temporary Bj field we created, leaving Bj_old\n",
    "            Dj.drop('Bj', axis=1, inplace=True)\n",
    "            \n",
    "            # Assign higher sum difference from Ai or Bj to cnvg\n",
    "            cnvg = np.maximum(Oi['diff'].sum(),Dj['diff'].sum())\n",
    "            \n",
    "            # Print and increment loop\n",
    "            print(\"Iteration:\", iteration)\n",
    "            iteration += 1\n",
    "\n",
    "    # When the while loop finishes add the computed Ai_old and Bj_old to the dataframe and return\n",
    "    df[Ai_name] = Oi['Ai_old']\n",
    "    df[Bj_name] = Dj['Bj_old']\n",
    "    return df"
   ]
  },
  {
   "cell_type": "code",
   "execution_count": 33,
   "metadata": {},
   "outputs": [
    {
     "output_type": "execute_result",
     "data": {
      "text/plain": [
       "           cod  cod_ori cod_des  poblacion_ori  poblacion_des  personas_mig  \\\n",
       "0     10202220     1020    2220        1304729          40657       635.000   \n",
       "1229  25212220     2521    2220          12200          40657         0.001   \n",
       "1843  25222220     2522    2220           2659          40657         0.001   \n",
       "2457  26212220     2621    2220           2531          40657         0.001   \n",
       "3071  27212220     2721    2220            380          40657         0.001   \n",
       "\n",
       "      distancia_m  doubsim_ajustado        O_i       D_j  \n",
       "0          583715             179.0  55484.172  1043.544  \n",
       "1229       137927              71.0   1172.518  1043.544  \n",
       "1843       111408               1.0    144.595  1043.544  \n",
       "2457       106867               2.0    191.580  1043.544  \n",
       "3071        58392               1.0     12.609  1043.544  "
      ],
      "text/html": "<div>\n<style scoped>\n    .dataframe tbody tr th:only-of-type {\n        vertical-align: middle;\n    }\n\n    .dataframe tbody tr th {\n        vertical-align: top;\n    }\n\n    .dataframe thead th {\n        text-align: right;\n    }\n</style>\n<table border=\"1\" class=\"dataframe\">\n  <thead>\n    <tr style=\"text-align: right;\">\n      <th></th>\n      <th>cod</th>\n      <th>cod_ori</th>\n      <th>cod_des</th>\n      <th>poblacion_ori</th>\n      <th>poblacion_des</th>\n      <th>personas_mig</th>\n      <th>distancia_m</th>\n      <th>doubsim_ajustado</th>\n      <th>O_i</th>\n      <th>D_j</th>\n    </tr>\n  </thead>\n  <tbody>\n    <tr>\n      <th>0</th>\n      <td>10202220</td>\n      <td>1020</td>\n      <td>2220</td>\n      <td>1304729</td>\n      <td>40657</td>\n      <td>635.000</td>\n      <td>583715</td>\n      <td>179.0</td>\n      <td>55484.172</td>\n      <td>1043.544</td>\n    </tr>\n    <tr>\n      <th>1229</th>\n      <td>25212220</td>\n      <td>2521</td>\n      <td>2220</td>\n      <td>12200</td>\n      <td>40657</td>\n      <td>0.001</td>\n      <td>137927</td>\n      <td>71.0</td>\n      <td>1172.518</td>\n      <td>1043.544</td>\n    </tr>\n    <tr>\n      <th>1843</th>\n      <td>25222220</td>\n      <td>2522</td>\n      <td>2220</td>\n      <td>2659</td>\n      <td>40657</td>\n      <td>0.001</td>\n      <td>111408</td>\n      <td>1.0</td>\n      <td>144.595</td>\n      <td>1043.544</td>\n    </tr>\n    <tr>\n      <th>2457</th>\n      <td>26212220</td>\n      <td>2621</td>\n      <td>2220</td>\n      <td>2531</td>\n      <td>40657</td>\n      <td>0.001</td>\n      <td>106867</td>\n      <td>2.0</td>\n      <td>191.580</td>\n      <td>1043.544</td>\n    </tr>\n    <tr>\n      <th>3071</th>\n      <td>27212220</td>\n      <td>2721</td>\n      <td>2220</td>\n      <td>380</td>\n      <td>40657</td>\n      <td>0.001</td>\n      <td>58392</td>\n      <td>1.0</td>\n      <td>12.609</td>\n      <td>1043.544</td>\n    </tr>\n  </tbody>\n</table>\n</div>"
     },
     "metadata": {},
     "execution_count": 33
    }
   ],
   "source": [
    "# create some Oi and Dj columns in the dataframe and store row and column totals in them:\n",
    "# First get the origin sums and rename the column created\n",
    "O_i = flujos_loc_dc.groupby('cod_ori')['personas_mig'].sum().to_frame()\n",
    "O_i.rename(columns = {'personas_mig':'O_i'}, inplace=True)\n",
    "\n",
    "# Now get the destination sums\n",
    "D_j = flujos_loc_dc.groupby('cod_des')['personas_mig'].sum().to_frame()\n",
    "D_j.rename(columns = {'personas_mig':'D_j'}, inplace=True)\n",
    "\n",
    "# Merge in O_i\n",
    "flujos_loc_dc = flujos_loc_dc.merge(O_i,left_on='cod_ori', right_index=True)\n",
    "\n",
    "# Merge in D_j\n",
    "flujos_loc_dc = flujos_loc_dc.merge(D_j,left_on='cod_des', right_index=True)\n",
    "\n",
    "flujos_loc_dc.head()"
   ]
  },
  {
   "cell_type": "code",
   "execution_count": 34,
   "metadata": {},
   "outputs": [
    {
     "output_type": "execute_result",
     "data": {
      "text/plain": [
       "-0.8654606427983192"
      ]
     },
     "metadata": {},
     "execution_count": 34
    }
   ],
   "source": [
    "# recupera el beta del logaritmo de la distancia del modelo anterior\n",
    "beta = doubSim.params[-1]\n",
    "beta"
   ]
  },
  {
   "cell_type": "code",
   "execution_count": null,
   "metadata": {},
   "outputs": [],
   "source": []
  },
  {
   "cell_type": "code",
   "execution_count": null,
   "metadata": {},
   "outputs": [],
   "source": []
  },
  {
   "cell_type": "code",
   "execution_count": null,
   "metadata": {},
   "outputs": [],
   "source": []
  },
  {
   "cell_type": "code",
   "execution_count": null,
   "metadata": {},
   "outputs": [],
   "source": []
  },
  {
   "cell_type": "code",
   "execution_count": null,
   "metadata": {},
   "outputs": [],
   "source": []
  },
  {
   "cell_type": "code",
   "execution_count": null,
   "metadata": {},
   "outputs": [],
   "source": []
  },
  {
   "source": [
    "#zero inflated\n",
    "from patsy import dmatrices\n",
    "\n",
    "\n",
    "df = flujos_loc\n",
    "\n",
    "expr = \"personas_mig ~ cod_ori + log_dist -1\"\n",
    "\n",
    "mask = np.random.rand(len(df)) < 0.8\n",
    "df_train = df[mask]\n",
    "df_test = df[~mask]\n",
    "print('Training data set length='+str(len(df_train)))\n",
    "print('Testing data set length='+str(len(df_test)))\n",
    "\n",
    "\n",
    "y_train, X_train = dmatrices(expr, df_train, return_type='dataframe')\n",
    "y_test, X_test = dmatrices(expr, df_test, return_type='dataframe')\n",
    "\n",
    "zip_training_results = sm.ZeroInflatedPoisson(endog=y_train, exog=X_train, exog_infl=X_train, inflation='logit').fit()\n",
    "\n",
    "zip_training_results.summary()\n",
    "\n",
    "zip_predictions = zip_training_results.predict(X_test,exog_infl=X_test)\n",
    "\n",
    "predicted_counts=np.round(zip_predictions)\n",
    "\n",
    "actual_counts = y_test['personas_mig']\n",
    "\n",
    "print('ZIP RMSE='+str(np.sqrt(np.sum(np.power(np.subtract(predicted_counts,actual_counts),2)))))\n",
    "\n",
    "\n",
    "\n",
    "fig = plt.figure(figsize=(12, 8), dpi=150)\n",
    "\n",
    "fig.suptitle('Predicted versus actual counts using the ZIP model')\n",
    "\n",
    "predicted, = plt.plot(X_test.index, predicted_counts, 'g', label='Predicted')\n",
    "\n",
    "actual, = plt.plot(X_test.index, actual_counts, 'r', label='Actual')\n",
    "\n",
    "plt.legend(handles=[predicted, actual])\n",
    "\n",
    "plt.show()"
   ],
   "cell_type": "markdown",
   "metadata": {}
  }
 ]
}