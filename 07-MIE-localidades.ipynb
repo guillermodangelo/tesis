{
 "metadata": {
  "language_info": {
   "codemirror_mode": {
    "name": "ipython",
    "version": 3
   },
   "file_extension": ".py",
   "mimetype": "text/x-python",
   "name": "python",
   "nbconvert_exporter": "python",
   "pygments_lexer": "ipython3",
   "version": "3.8.8"
  },
  "orig_nbformat": 2,
  "kernelspec": {
   "name": "tesis",
   "display_name": "Python 3.8.8 64-bit ('tesis': conda)"
  },
  "metadata": {
   "interpreter": {
    "hash": "5ce838cc175eb9c7ee2cce823ae805de6106cb4564d9fc7b3476b35fac8c9293"
   }
  }
 },
 "nbformat": 4,
 "nbformat_minor": 2,
 "cells": [
  {
   "cell_type": "code",
   "execution_count": 1,
   "metadata": {},
   "outputs": [],
   "source": [
    "import pandas as pd\n",
    "import numpy as np\n",
    "import statsmodels.api as sm\n",
    "import statsmodels.formula.api as smf\n",
    "import time\n",
    "    \n",
    "# funciones desarrolladas\n",
    "from functions.agrupar_dfs_censo import *\n",
    "from functions.cargar_data import *\n",
    "from functions.impresion import *"
   ]
  },
  {
   "cell_type": "code",
   "execution_count": 2,
   "metadata": {},
   "outputs": [
    {
     "output_type": "stream",
     "name": "stdout",
     "text": [
      "377610\n"
     ]
    },
    {
     "output_type": "execute_result",
     "data": {
      "text/plain": [
       "        cod  cod_ori  cod_des  poblacion_ori  poblacion_des  personas_mig  \\\n",
       "0  10202220     1020     2220        1304729          40657         635.0   \n",
       "1  10202521     1020     2521        1304729          12200          90.0   \n",
       "2  10202522     1020     2522        1304729           2659          17.0   \n",
       "\n",
       "   distancia_m  \n",
       "0       583715  \n",
       "1       612802  \n",
       "2       617076  "
      ],
      "text/html": "<div>\n<style scoped>\n    .dataframe tbody tr th:only-of-type {\n        vertical-align: middle;\n    }\n\n    .dataframe tbody tr th {\n        vertical-align: top;\n    }\n\n    .dataframe thead th {\n        text-align: right;\n    }\n</style>\n<table border=\"1\" class=\"dataframe\">\n  <thead>\n    <tr style=\"text-align: right;\">\n      <th></th>\n      <th>cod</th>\n      <th>cod_ori</th>\n      <th>cod_des</th>\n      <th>poblacion_ori</th>\n      <th>poblacion_des</th>\n      <th>personas_mig</th>\n      <th>distancia_m</th>\n    </tr>\n  </thead>\n  <tbody>\n    <tr>\n      <th>0</th>\n      <td>10202220</td>\n      <td>1020</td>\n      <td>2220</td>\n      <td>1304729</td>\n      <td>40657</td>\n      <td>635.0</td>\n      <td>583715</td>\n    </tr>\n    <tr>\n      <th>1</th>\n      <td>10202521</td>\n      <td>1020</td>\n      <td>2521</td>\n      <td>1304729</td>\n      <td>12200</td>\n      <td>90.0</td>\n      <td>612802</td>\n    </tr>\n    <tr>\n      <th>2</th>\n      <td>10202522</td>\n      <td>1020</td>\n      <td>2522</td>\n      <td>1304729</td>\n      <td>2659</td>\n      <td>17.0</td>\n      <td>617076</td>\n    </tr>\n  </tbody>\n</table>\n</div>"
     },
     "metadata": {},
     "execution_count": 2
    }
   ],
   "source": [
    "flujos_loc = pd.read_csv('tablas/dd_localidades.csv')\n",
    "print(flujos_loc.shape[0])\n",
    "flujos_loc.head(3)"
   ]
  },
  {
   "cell_type": "code",
   "execution_count": 3,
   "metadata": {},
   "outputs": [
    {
     "output_type": "execute_result",
     "data": {
      "text/plain": [
       "   CODLOC                        geometry\n",
       "0    2220  POINT (549273.219 6633915.063)\n",
       "1    2521  POINT (442454.671 6652273.541)\n",
       "2    2522  POINT (457921.001 6633361.660)"
      ],
      "text/html": "<div>\n<style scoped>\n    .dataframe tbody tr th:only-of-type {\n        vertical-align: middle;\n    }\n\n    .dataframe tbody tr th {\n        vertical-align: top;\n    }\n\n    .dataframe thead th {\n        text-align: right;\n    }\n</style>\n<table border=\"1\" class=\"dataframe\">\n  <thead>\n    <tr style=\"text-align: right;\">\n      <th></th>\n      <th>CODLOC</th>\n      <th>geometry</th>\n    </tr>\n  </thead>\n  <tbody>\n    <tr>\n      <th>0</th>\n      <td>2220</td>\n      <td>POINT (549273.219 6633915.063)</td>\n    </tr>\n    <tr>\n      <th>1</th>\n      <td>2521</td>\n      <td>POINT (442454.671 6652273.541)</td>\n    </tr>\n    <tr>\n      <th>2</th>\n      <td>2522</td>\n      <td>POINT (457921.001 6633361.660)</td>\n    </tr>\n  </tbody>\n</table>\n</div>"
     },
     "metadata": {},
     "execution_count": 3
    }
   ],
   "source": [
    "locs = cargar_datos_geo()[2][['CODLOC', 'geometry']]\n",
    "locs.head(3)"
   ]
  },
  {
   "cell_type": "code",
   "execution_count": 4,
   "metadata": {},
   "outputs": [
    {
     "output_type": "execute_result",
     "data": {
      "text/plain": [
       "377610"
      ]
     },
     "metadata": {},
     "execution_count": 4
    }
   ],
   "source": [
    "locs_cod = list(locs.CODLOC)\n",
    "len(locs_cod) ** 2 - len(locs_cod)"
   ]
  },
  {
   "cell_type": "code",
   "execution_count": 5,
   "metadata": {},
   "outputs": [
    {
     "output_type": "execute_result",
     "data": {
      "text/plain": [
       "        cod  cod_ori  cod_des  poblacion_ori  poblacion_des  personas_mig  \\\n",
       "0  10202220     1020     2220        1304729          40657         635.0   \n",
       "1  25212220     2521     2220          12200          40657           NaN   \n",
       "2  25222220     2522     2220           2659          40657           NaN   \n",
       "3  26212220     2621     2220           2531          40657           NaN   \n",
       "4  27212220     2721     2220            380          40657           NaN   \n",
       "\n",
       "   distancia_m                        geom_ori                        geom_des  \n",
       "0       583715  POINT (573082.248 6145008.434)  POINT (549273.219 6633915.063)  \n",
       "1       137927  POINT (442454.671 6652273.541)  POINT (549273.219 6633915.063)  \n",
       "2       111408  POINT (457921.001 6633361.660)  POINT (549273.219 6633915.063)  \n",
       "3       106867  POINT (468458.270 6601361.867)  POINT (549273.219 6633915.063)  \n",
       "4        58392  POINT (502880.928 6648162.053)  POINT (549273.219 6633915.063)  "
      ],
      "text/html": "<div>\n<style scoped>\n    .dataframe tbody tr th:only-of-type {\n        vertical-align: middle;\n    }\n\n    .dataframe tbody tr th {\n        vertical-align: top;\n    }\n\n    .dataframe thead th {\n        text-align: right;\n    }\n</style>\n<table border=\"1\" class=\"dataframe\">\n  <thead>\n    <tr style=\"text-align: right;\">\n      <th></th>\n      <th>cod</th>\n      <th>cod_ori</th>\n      <th>cod_des</th>\n      <th>poblacion_ori</th>\n      <th>poblacion_des</th>\n      <th>personas_mig</th>\n      <th>distancia_m</th>\n      <th>geom_ori</th>\n      <th>geom_des</th>\n    </tr>\n  </thead>\n  <tbody>\n    <tr>\n      <th>0</th>\n      <td>10202220</td>\n      <td>1020</td>\n      <td>2220</td>\n      <td>1304729</td>\n      <td>40657</td>\n      <td>635.0</td>\n      <td>583715</td>\n      <td>POINT (573082.248 6145008.434)</td>\n      <td>POINT (549273.219 6633915.063)</td>\n    </tr>\n    <tr>\n      <th>1</th>\n      <td>25212220</td>\n      <td>2521</td>\n      <td>2220</td>\n      <td>12200</td>\n      <td>40657</td>\n      <td>NaN</td>\n      <td>137927</td>\n      <td>POINT (442454.671 6652273.541)</td>\n      <td>POINT (549273.219 6633915.063)</td>\n    </tr>\n    <tr>\n      <th>2</th>\n      <td>25222220</td>\n      <td>2522</td>\n      <td>2220</td>\n      <td>2659</td>\n      <td>40657</td>\n      <td>NaN</td>\n      <td>111408</td>\n      <td>POINT (457921.001 6633361.660)</td>\n      <td>POINT (549273.219 6633915.063)</td>\n    </tr>\n    <tr>\n      <th>3</th>\n      <td>26212220</td>\n      <td>2621</td>\n      <td>2220</td>\n      <td>2531</td>\n      <td>40657</td>\n      <td>NaN</td>\n      <td>106867</td>\n      <td>POINT (468458.270 6601361.867)</td>\n      <td>POINT (549273.219 6633915.063)</td>\n    </tr>\n    <tr>\n      <th>4</th>\n      <td>27212220</td>\n      <td>2721</td>\n      <td>2220</td>\n      <td>380</td>\n      <td>40657</td>\n      <td>NaN</td>\n      <td>58392</td>\n      <td>POINT (502880.928 6648162.053)</td>\n      <td>POINT (549273.219 6633915.063)</td>\n    </tr>\n  </tbody>\n</table>\n</div>"
     },
     "metadata": {},
     "execution_count": 5
    }
   ],
   "source": [
    "# pega geometrías\n",
    "dd = flujos_loc.merge(locs, left_on='cod_ori', right_on='CODLOC')\n",
    "dd = dd.merge(locs, left_on='cod_des', right_on='CODLOC')\n",
    "dd.drop(['CODLOC_x', 'CODLOC_y'], axis=1, inplace=True)\n",
    "dd.rename({'geometry_x':'geom_ori', 'geometry_y':'geom_des'}, axis=1, inplace=True)\n",
    "\n",
    "dd.head()\n",
    "\n",
    "# exporta CSV con geometrías puntuales para mapa de flujos\n",
    "#dd.to_csv('capas/loc_lines.csv', index=False)"
   ]
  },
  {
   "cell_type": "code",
   "execution_count": 6,
   "metadata": {},
   "outputs": [
    {
     "output_type": "stream",
     "name": "stdout",
     "text": [
      "(377610, 7)\n"
     ]
    },
    {
     "output_type": "execute_result",
     "data": {
      "text/plain": [
       "        cod  cod_ori  cod_des  poblacion_ori  poblacion_des  personas_mig  \\\n",
       "0  10202220     1020     2220        1304729          40657         635.0   \n",
       "1  10202521     1020     2521        1304729          12200          90.0   \n",
       "2  10202522     1020     2522        1304729           2659          17.0   \n",
       "3  10202621     1020     2621        1304729           2531           9.0   \n",
       "4  10202721     1020     2721        1304729            380           NaN   \n",
       "\n",
       "   distancia_m  \n",
       "0       583715  \n",
       "1       612802  \n",
       "2       617076  \n",
       "3       595785  \n",
       "4       628213  "
      ],
      "text/html": "<div>\n<style scoped>\n    .dataframe tbody tr th:only-of-type {\n        vertical-align: middle;\n    }\n\n    .dataframe tbody tr th {\n        vertical-align: top;\n    }\n\n    .dataframe thead th {\n        text-align: right;\n    }\n</style>\n<table border=\"1\" class=\"dataframe\">\n  <thead>\n    <tr style=\"text-align: right;\">\n      <th></th>\n      <th>cod</th>\n      <th>cod_ori</th>\n      <th>cod_des</th>\n      <th>poblacion_ori</th>\n      <th>poblacion_des</th>\n      <th>personas_mig</th>\n      <th>distancia_m</th>\n    </tr>\n  </thead>\n  <tbody>\n    <tr>\n      <th>0</th>\n      <td>10202220</td>\n      <td>1020</td>\n      <td>2220</td>\n      <td>1304729</td>\n      <td>40657</td>\n      <td>635.0</td>\n      <td>583715</td>\n    </tr>\n    <tr>\n      <th>1</th>\n      <td>10202521</td>\n      <td>1020</td>\n      <td>2521</td>\n      <td>1304729</td>\n      <td>12200</td>\n      <td>90.0</td>\n      <td>612802</td>\n    </tr>\n    <tr>\n      <th>2</th>\n      <td>10202522</td>\n      <td>1020</td>\n      <td>2522</td>\n      <td>1304729</td>\n      <td>2659</td>\n      <td>17.0</td>\n      <td>617076</td>\n    </tr>\n    <tr>\n      <th>3</th>\n      <td>10202621</td>\n      <td>1020</td>\n      <td>2621</td>\n      <td>1304729</td>\n      <td>2531</td>\n      <td>9.0</td>\n      <td>595785</td>\n    </tr>\n    <tr>\n      <th>4</th>\n      <td>10202721</td>\n      <td>1020</td>\n      <td>2721</td>\n      <td>1304729</td>\n      <td>380</td>\n      <td>NaN</td>\n      <td>628213</td>\n    </tr>\n  </tbody>\n</table>\n</div>"
     },
     "metadata": {},
     "execution_count": 6
    }
   ],
   "source": [
    "print(flujos_loc.shape)\n",
    "flujos_loc.head()"
   ]
  },
  {
   "cell_type": "code",
   "execution_count": 7,
   "metadata": {},
   "outputs": [],
   "source": [
    "# reemplaza ceros\n",
    "flujos_loc.loc[flujos_loc.personas_mig.isna(), 'personas_mig'] = 0.001\n",
    "flujos_loc.loc[flujos_loc.poblacion_des==0, 'poblacion_des'] = 1\n",
    "flujos_loc.loc[flujos_loc.poblacion_ori==0, 'poblacion_ori'] = 1"
   ]
  },
  {
   "cell_type": "code",
   "execution_count": 8,
   "metadata": {},
   "outputs": [
    {
     "output_type": "execute_result",
     "data": {
      "text/plain": [
       "        cod cod_ori cod_des  poblacion_ori  poblacion_des  personas_mig  \\\n",
       "0  10202220    1020    2220        1304729          40657       635.000   \n",
       "1  10202521    1020    2521        1304729          12200        90.000   \n",
       "2  10202522    1020    2522        1304729           2659        17.000   \n",
       "3  10202621    1020    2621        1304729           2531         9.000   \n",
       "4  10202721    1020    2721        1304729            380         0.001   \n",
       "\n",
       "   distancia_m  \n",
       "0       583715  \n",
       "1       612802  \n",
       "2       617076  \n",
       "3       595785  \n",
       "4       628213  "
      ],
      "text/html": "<div>\n<style scoped>\n    .dataframe tbody tr th:only-of-type {\n        vertical-align: middle;\n    }\n\n    .dataframe tbody tr th {\n        vertical-align: top;\n    }\n\n    .dataframe thead th {\n        text-align: right;\n    }\n</style>\n<table border=\"1\" class=\"dataframe\">\n  <thead>\n    <tr style=\"text-align: right;\">\n      <th></th>\n      <th>cod</th>\n      <th>cod_ori</th>\n      <th>cod_des</th>\n      <th>poblacion_ori</th>\n      <th>poblacion_des</th>\n      <th>personas_mig</th>\n      <th>distancia_m</th>\n    </tr>\n  </thead>\n  <tbody>\n    <tr>\n      <th>0</th>\n      <td>10202220</td>\n      <td>1020</td>\n      <td>2220</td>\n      <td>1304729</td>\n      <td>40657</td>\n      <td>635.000</td>\n      <td>583715</td>\n    </tr>\n    <tr>\n      <th>1</th>\n      <td>10202521</td>\n      <td>1020</td>\n      <td>2521</td>\n      <td>1304729</td>\n      <td>12200</td>\n      <td>90.000</td>\n      <td>612802</td>\n    </tr>\n    <tr>\n      <th>2</th>\n      <td>10202522</td>\n      <td>1020</td>\n      <td>2522</td>\n      <td>1304729</td>\n      <td>2659</td>\n      <td>17.000</td>\n      <td>617076</td>\n    </tr>\n    <tr>\n      <th>3</th>\n      <td>10202621</td>\n      <td>1020</td>\n      <td>2621</td>\n      <td>1304729</td>\n      <td>2531</td>\n      <td>9.000</td>\n      <td>595785</td>\n    </tr>\n    <tr>\n      <th>4</th>\n      <td>10202721</td>\n      <td>1020</td>\n      <td>2721</td>\n      <td>1304729</td>\n      <td>380</td>\n      <td>0.001</td>\n      <td>628213</td>\n    </tr>\n  </tbody>\n</table>\n</div>"
     },
     "metadata": {},
     "execution_count": 8
    }
   ],
   "source": [
    "# convierte códigos a string para ser correctamente interpretados por el modelo\n",
    "flujos_loc['cod_ori'] = flujos_loc['cod_ori'].astype(str)\n",
    "flujos_loc['cod_des'] = flujos_loc['cod_des'].astype(str)\n",
    "\n",
    "flujos_loc.head()"
   ]
  },
  {
   "cell_type": "code",
   "execution_count": 9,
   "metadata": {},
   "outputs": [
    {
     "output_type": "stream",
     "name": "stderr",
     "text": [
      "C:\\Users\\user\\anaconda3\\envs\\tesis\\lib\\site-packages\\statsmodels\\base\\model.py:566: ConvergenceWarning: Maximum Likelihood optimization failed to converge. Check mle_retvals\n",
      "  warnings.warn(\"Maximum Likelihood optimization failed to \"\n",
      "191.4250123500824\n"
     ]
    }
   ],
   "source": [
    "formula = \"personas_mig ~ cod_ori + np.log(poblacion_des) + np.log(distancia_m) -1\"\n",
    "\n",
    "t0= time.time()\n",
    "\n",
    "# entrena y ajusta el modelo\n",
    "prodSim = smf.glm(formula=formula, data=flujos_loc, family=sm.families.Poisson()).fit(method='lbfgs', max_start_irls=0)\n",
    "\n",
    "t1 = time.time() - t0\n",
    "print(t1)"
   ]
  },
  {
   "cell_type": "code",
   "execution_count": 10,
   "metadata": {},
   "outputs": [
    {
     "output_type": "execute_result",
     "data": {
      "text/plain": [
       "cod_ori[1020]            6.905786\n",
       "cod_ori[10320]           3.896025\n",
       "cod_ori[10321]           2.599674\n",
       "cod_ori[10521]           0.229187\n",
       "cod_ori[10522]           0.507811\n",
       "                           ...   \n",
       "cod_ori[9957]           -0.568802\n",
       "cod_ori[9958]           -0.533280\n",
       "cod_ori[9991]           -0.381858\n",
       "np.log(poblacion_des)    0.921008\n",
       "np.log(distancia_m)     -0.865461\n",
       "Length: 617, dtype: float64"
      ]
     },
     "metadata": {},
     "execution_count": 10
    }
   ],
   "source": [
    "#prodSim.summary()\n",
    "prodSim.params"
   ]
  },
  {
   "cell_type": "code",
   "execution_count": 11,
   "metadata": {},
   "outputs": [
    {
     "output_type": "execute_result",
     "data": {
      "text/plain": [
       "        cod cod_ori cod_des  poblacion_ori  poblacion_des  personas_mig  \\\n",
       "0  10202220    1020    2220        1304729          40657       635.000   \n",
       "1  10202521    1020    2521        1304729          12200        90.000   \n",
       "2  10202522    1020    2522        1304729           2659        17.000   \n",
       "3  10202621    1020    2621        1304729           2531         9.000   \n",
       "4  10202721    1020    2721        1304729            380         0.001   \n",
       "\n",
       "   distancia_m      mu_i  \n",
       "0       583715  6.905786  \n",
       "1       612802  6.905786  \n",
       "2       617076  6.905786  \n",
       "3       595785  6.905786  \n",
       "4       628213  6.905786  "
      ],
      "text/html": "<div>\n<style scoped>\n    .dataframe tbody tr th:only-of-type {\n        vertical-align: middle;\n    }\n\n    .dataframe tbody tr th {\n        vertical-align: top;\n    }\n\n    .dataframe thead th {\n        text-align: right;\n    }\n</style>\n<table border=\"1\" class=\"dataframe\">\n  <thead>\n    <tr style=\"text-align: right;\">\n      <th></th>\n      <th>cod</th>\n      <th>cod_ori</th>\n      <th>cod_des</th>\n      <th>poblacion_ori</th>\n      <th>poblacion_des</th>\n      <th>personas_mig</th>\n      <th>distancia_m</th>\n      <th>mu_i</th>\n    </tr>\n  </thead>\n  <tbody>\n    <tr>\n      <th>0</th>\n      <td>10202220</td>\n      <td>1020</td>\n      <td>2220</td>\n      <td>1304729</td>\n      <td>40657</td>\n      <td>635.000</td>\n      <td>583715</td>\n      <td>6.905786</td>\n    </tr>\n    <tr>\n      <th>1</th>\n      <td>10202521</td>\n      <td>1020</td>\n      <td>2521</td>\n      <td>1304729</td>\n      <td>12200</td>\n      <td>90.000</td>\n      <td>612802</td>\n      <td>6.905786</td>\n    </tr>\n    <tr>\n      <th>2</th>\n      <td>10202522</td>\n      <td>1020</td>\n      <td>2522</td>\n      <td>1304729</td>\n      <td>2659</td>\n      <td>17.000</td>\n      <td>617076</td>\n      <td>6.905786</td>\n    </tr>\n    <tr>\n      <th>3</th>\n      <td>10202621</td>\n      <td>1020</td>\n      <td>2621</td>\n      <td>1304729</td>\n      <td>2531</td>\n      <td>9.000</td>\n      <td>595785</td>\n      <td>6.905786</td>\n    </tr>\n    <tr>\n      <th>4</th>\n      <td>10202721</td>\n      <td>1020</td>\n      <td>2721</td>\n      <td>1304729</td>\n      <td>380</td>\n      <td>0.001</td>\n      <td>628213</td>\n      <td>6.905786</td>\n    </tr>\n  </tbody>\n</table>\n</div>"
     },
     "metadata": {},
     "execution_count": 11
    }
   ],
   "source": [
    "# recupera los parámetros del modelo\n",
    "mu_i = prodSim.params.to_frame()\n",
    "\n",
    "# elimina caractérres no numéricos para poder pegar\n",
    "mu_i.rename(index = dict(zip(mu_i.index[0:-2].values,  mu_i.index[0:-2].str.replace('cod_ori[','', regex=False).str.replace(']','', regex=False).values)),\n",
    "            inplace=True)\n",
    "\n",
    "# renombre columna\n",
    "mu_i.rename(columns = {0:'mu_i'}, inplace=True)\n",
    "\n",
    "# merge\n",
    "flujos_loc = flujos_loc.merge(mu_i, left_on='cod_ori', right_index=True)\n",
    "\n",
    "flujos_loc.head()"
   ]
  },
  {
   "cell_type": "code",
   "execution_count": 12,
   "metadata": {},
   "outputs": [],
   "source": [
    "# funciones para recuperar parámetros e imprimir\n",
    "def get_gml_params(model, variables):\n",
    "    \"Accede a los parámetros alfa y beta dentro de los resutaldos del modelo\"\n",
    "    params = [model.params[i] for i in variables]\n",
    "    params_str = [str(round(i, 4)) for i in params]\n",
    "    return params, params_str\n",
    "\n",
    "def print_params(variables, params_list):\n",
    "    \"Imprime los parámetros\"\n",
    "    return print(\"\"\"alpha ({}) = {}\\nbeta ({}) = {}\n",
    "    \"\"\".format(variables[0], params_list[0], variables[1], params_list[1]))"
   ]
  },
  {
   "cell_type": "code",
   "execution_count": 13,
   "metadata": {},
   "outputs": [
    {
     "output_type": "stream",
     "name": "stdout",
     "text": [
      "alpha (np.log(poblacion_des)) = 0.921\nbeta (np.log(distancia_m)) = -0.8655\n    \n"
     ]
    }
   ],
   "source": [
    "# imprime parámetros\n",
    "variables= ['np.log(poblacion_des)', 'np.log(distancia_m)']\n",
    "\n",
    "params, params_str = get_gml_params(prodSim, variables)\n",
    "\n",
    "print_params(variables, params_str)"
   ]
  },
  {
   "cell_type": "code",
   "execution_count": 14,
   "metadata": {},
   "outputs": [
    {
     "output_type": "execute_result",
     "data": {
      "text/plain": [
       "['np.log(poblacion_des)', 'np.log(distancia_m)']"
      ]
     },
     "metadata": {},
     "execution_count": 14
    }
   ],
   "source": [
    "variables"
   ]
  },
  {
   "cell_type": "code",
   "execution_count": 15,
   "metadata": {},
   "outputs": [],
   "source": [
    "# genera estimación redondeada\n",
    "def prod_sim_est(df, variables, alpha, beta):\n",
    "    \"Estimación del modelo imputando los parámetros alfa y beta previamente calculados\"\n",
    "    prodsimest = np.exp(df['mu_i'] + alpha * np.log(df[variables[0]]) + beta * np.log(df[variables[1]]))\n",
    "    return round(prodsimest)"
   ]
  },
  {
   "cell_type": "code",
   "execution_count": 16,
   "metadata": {},
   "outputs": [],
   "source": [
    "# recupera alpha y beta, previamente guardados en la lista de parámetros\n",
    "alpha, beta = [i for i in params]\n",
    "\n",
    "variables = ['poblacion_des', 'distancia_m']\n",
    "\n",
    "# estima y guarda en columna \"podsimtest\"\n",
    "flujos_loc['prodsimest'] = prod_sim_est(flujos_loc, variables, alpha, beta)"
   ]
  },
  {
   "cell_type": "code",
   "execution_count": 18,
   "metadata": {},
   "outputs": [
    {
     "output_type": "execute_result",
     "data": {
      "text/plain": [
       "        cod cod_ori cod_des  poblacion_ori  poblacion_des  personas_mig  \\\n",
       "0  10202220    1020    2220        1304729          40657       635.000   \n",
       "1  10202521    1020    2521        1304729          12200        90.000   \n",
       "2  10202522    1020    2522        1304729           2659        17.000   \n",
       "3  10202621    1020    2621        1304729           2531         9.000   \n",
       "4  10202721    1020    2721        1304729            380         0.001   \n",
       "\n",
       "   distancia_m      mu_i  prodsimest  \n",
       "0       583715  6.905786       179.0  \n",
       "1       612802  6.905786        57.0  \n",
       "2       617076  6.905786        14.0  \n",
       "3       595785  6.905786        14.0  \n",
       "4       628213  6.905786         2.0  "
      ],
      "text/html": "<div>\n<style scoped>\n    .dataframe tbody tr th:only-of-type {\n        vertical-align: middle;\n    }\n\n    .dataframe tbody tr th {\n        vertical-align: top;\n    }\n\n    .dataframe thead th {\n        text-align: right;\n    }\n</style>\n<table border=\"1\" class=\"dataframe\">\n  <thead>\n    <tr style=\"text-align: right;\">\n      <th></th>\n      <th>cod</th>\n      <th>cod_ori</th>\n      <th>cod_des</th>\n      <th>poblacion_ori</th>\n      <th>poblacion_des</th>\n      <th>personas_mig</th>\n      <th>distancia_m</th>\n      <th>mu_i</th>\n      <th>prodsimest</th>\n    </tr>\n  </thead>\n  <tbody>\n    <tr>\n      <th>0</th>\n      <td>10202220</td>\n      <td>1020</td>\n      <td>2220</td>\n      <td>1304729</td>\n      <td>40657</td>\n      <td>635.000</td>\n      <td>583715</td>\n      <td>6.905786</td>\n      <td>179.0</td>\n    </tr>\n    <tr>\n      <th>1</th>\n      <td>10202521</td>\n      <td>1020</td>\n      <td>2521</td>\n      <td>1304729</td>\n      <td>12200</td>\n      <td>90.000</td>\n      <td>612802</td>\n      <td>6.905786</td>\n      <td>57.0</td>\n    </tr>\n    <tr>\n      <th>2</th>\n      <td>10202522</td>\n      <td>1020</td>\n      <td>2522</td>\n      <td>1304729</td>\n      <td>2659</td>\n      <td>17.000</td>\n      <td>617076</td>\n      <td>6.905786</td>\n      <td>14.0</td>\n    </tr>\n    <tr>\n      <th>3</th>\n      <td>10202621</td>\n      <td>1020</td>\n      <td>2621</td>\n      <td>1304729</td>\n      <td>2531</td>\n      <td>9.000</td>\n      <td>595785</td>\n      <td>6.905786</td>\n      <td>14.0</td>\n    </tr>\n    <tr>\n      <th>4</th>\n      <td>10202721</td>\n      <td>1020</td>\n      <td>2721</td>\n      <td>1304729</td>\n      <td>380</td>\n      <td>0.001</td>\n      <td>628213</td>\n      <td>6.905786</td>\n      <td>2.0</td>\n    </tr>\n  </tbody>\n</table>\n</div>"
     },
     "metadata": {},
     "execution_count": 18
    }
   ],
   "source": [
    "flujos_loc.head()"
   ]
  },
  {
   "cell_type": "code",
   "execution_count": 19,
   "metadata": {},
   "outputs": [
    {
     "output_type": "execute_result",
     "data": {
      "text/plain": [
       "cod_des   1020  2220  2521  2522  2621  2721  2724  2725  2822  2823  ...  \\\n",
       "cod_ori                                                               ...   \n",
       "1020         0   179    57    14    14     2     5     7     3     4  ...   \n",
       "2220       809     0    38    11    11     3     3     7     2     3  ...   \n",
       "2521       475    71     0    24    11     1    35     3    21    30  ...   \n",
       "2522         8     1     2     0     0     0     0     0     0     0  ...   \n",
       "2621        11     2     1     0     0     0     0     0     0     0  ...   \n",
       "...        ...   ...   ...   ...   ...   ...   ...   ...   ...   ...  ...   \n",
       "19968        5     0     0     0     0     0     0     0     0     0  ...   \n",
       "19969        5     0     0     0     0     0     0     0     0     0  ...   \n",
       "19970        5     0     0     0     0     0     0     0     0     0  ...   \n",
       "19971        5     0     0     0     0     0     0     0     0     0  ...   \n",
       "Total    29409   842   270    86    74    10    54    35    31    44  ...   \n",
       "\n",
       "cod_des  19963  19964  19965  19966  19967  19968  19969  19970  19971   Total  \n",
       "cod_ori                                                                         \n",
       "1020         0      0      0      0      0      1      1      0      1   55617  \n",
       "2220         0      0      0      0      0      0      0      0      0    3295  \n",
       "2521         0      0      0      0      0      0      0      0      0    2114  \n",
       "2522         0      0      0      0      0      0      0      0      0      20  \n",
       "2621         0      0      0      0      0      0      0      0      0      28  \n",
       "...        ...    ...    ...    ...    ...    ...    ...    ...    ...     ...  \n",
       "19968        0      0      0      0      0      0      0      0      0       7  \n",
       "19969        0      0      0      0      0      0      0      0      0       6  \n",
       "19970        0      0      0      0      0      0      0      0      0       7  \n",
       "19971        0      0      0      0      0      0      0      0      0       6  \n",
       "Total        0      0      0      0      0      1      1      0      2  131294  \n",
       "\n",
       "[616 rows x 616 columns]"
      ],
      "text/html": "<div>\n<style scoped>\n    .dataframe tbody tr th:only-of-type {\n        vertical-align: middle;\n    }\n\n    .dataframe tbody tr th {\n        vertical-align: top;\n    }\n\n    .dataframe thead th {\n        text-align: right;\n    }\n</style>\n<table border=\"1\" class=\"dataframe\">\n  <thead>\n    <tr style=\"text-align: right;\">\n      <th>cod_des</th>\n      <th>1020</th>\n      <th>2220</th>\n      <th>2521</th>\n      <th>2522</th>\n      <th>2621</th>\n      <th>2721</th>\n      <th>2724</th>\n      <th>2725</th>\n      <th>2822</th>\n      <th>2823</th>\n      <th>...</th>\n      <th>19963</th>\n      <th>19964</th>\n      <th>19965</th>\n      <th>19966</th>\n      <th>19967</th>\n      <th>19968</th>\n      <th>19969</th>\n      <th>19970</th>\n      <th>19971</th>\n      <th>Total</th>\n    </tr>\n    <tr>\n      <th>cod_ori</th>\n      <th></th>\n      <th></th>\n      <th></th>\n      <th></th>\n      <th></th>\n      <th></th>\n      <th></th>\n      <th></th>\n      <th></th>\n      <th></th>\n      <th></th>\n      <th></th>\n      <th></th>\n      <th></th>\n      <th></th>\n      <th></th>\n      <th></th>\n      <th></th>\n      <th></th>\n      <th></th>\n      <th></th>\n    </tr>\n  </thead>\n  <tbody>\n    <tr>\n      <th>1020</th>\n      <td>0</td>\n      <td>179</td>\n      <td>57</td>\n      <td>14</td>\n      <td>14</td>\n      <td>2</td>\n      <td>5</td>\n      <td>7</td>\n      <td>3</td>\n      <td>4</td>\n      <td>...</td>\n      <td>0</td>\n      <td>0</td>\n      <td>0</td>\n      <td>0</td>\n      <td>0</td>\n      <td>1</td>\n      <td>1</td>\n      <td>0</td>\n      <td>1</td>\n      <td>55617</td>\n    </tr>\n    <tr>\n      <th>2220</th>\n      <td>809</td>\n      <td>0</td>\n      <td>38</td>\n      <td>11</td>\n      <td>11</td>\n      <td>3</td>\n      <td>3</td>\n      <td>7</td>\n      <td>2</td>\n      <td>3</td>\n      <td>...</td>\n      <td>0</td>\n      <td>0</td>\n      <td>0</td>\n      <td>0</td>\n      <td>0</td>\n      <td>0</td>\n      <td>0</td>\n      <td>0</td>\n      <td>0</td>\n      <td>3295</td>\n    </tr>\n    <tr>\n      <th>2521</th>\n      <td>475</td>\n      <td>71</td>\n      <td>0</td>\n      <td>24</td>\n      <td>11</td>\n      <td>1</td>\n      <td>35</td>\n      <td>3</td>\n      <td>21</td>\n      <td>30</td>\n      <td>...</td>\n      <td>0</td>\n      <td>0</td>\n      <td>0</td>\n      <td>0</td>\n      <td>0</td>\n      <td>0</td>\n      <td>0</td>\n      <td>0</td>\n      <td>0</td>\n      <td>2114</td>\n    </tr>\n    <tr>\n      <th>2522</th>\n      <td>8</td>\n      <td>1</td>\n      <td>2</td>\n      <td>0</td>\n      <td>0</td>\n      <td>0</td>\n      <td>0</td>\n      <td>0</td>\n      <td>0</td>\n      <td>0</td>\n      <td>...</td>\n      <td>0</td>\n      <td>0</td>\n      <td>0</td>\n      <td>0</td>\n      <td>0</td>\n      <td>0</td>\n      <td>0</td>\n      <td>0</td>\n      <td>0</td>\n      <td>20</td>\n    </tr>\n    <tr>\n      <th>2621</th>\n      <td>11</td>\n      <td>2</td>\n      <td>1</td>\n      <td>0</td>\n      <td>0</td>\n      <td>0</td>\n      <td>0</td>\n      <td>0</td>\n      <td>0</td>\n      <td>0</td>\n      <td>...</td>\n      <td>0</td>\n      <td>0</td>\n      <td>0</td>\n      <td>0</td>\n      <td>0</td>\n      <td>0</td>\n      <td>0</td>\n      <td>0</td>\n      <td>0</td>\n      <td>28</td>\n    </tr>\n    <tr>\n      <th>...</th>\n      <td>...</td>\n      <td>...</td>\n      <td>...</td>\n      <td>...</td>\n      <td>...</td>\n      <td>...</td>\n      <td>...</td>\n      <td>...</td>\n      <td>...</td>\n      <td>...</td>\n      <td>...</td>\n      <td>...</td>\n      <td>...</td>\n      <td>...</td>\n      <td>...</td>\n      <td>...</td>\n      <td>...</td>\n      <td>...</td>\n      <td>...</td>\n      <td>...</td>\n      <td>...</td>\n    </tr>\n    <tr>\n      <th>19968</th>\n      <td>5</td>\n      <td>0</td>\n      <td>0</td>\n      <td>0</td>\n      <td>0</td>\n      <td>0</td>\n      <td>0</td>\n      <td>0</td>\n      <td>0</td>\n      <td>0</td>\n      <td>...</td>\n      <td>0</td>\n      <td>0</td>\n      <td>0</td>\n      <td>0</td>\n      <td>0</td>\n      <td>0</td>\n      <td>0</td>\n      <td>0</td>\n      <td>0</td>\n      <td>7</td>\n    </tr>\n    <tr>\n      <th>19969</th>\n      <td>5</td>\n      <td>0</td>\n      <td>0</td>\n      <td>0</td>\n      <td>0</td>\n      <td>0</td>\n      <td>0</td>\n      <td>0</td>\n      <td>0</td>\n      <td>0</td>\n      <td>...</td>\n      <td>0</td>\n      <td>0</td>\n      <td>0</td>\n      <td>0</td>\n      <td>0</td>\n      <td>0</td>\n      <td>0</td>\n      <td>0</td>\n      <td>0</td>\n      <td>6</td>\n    </tr>\n    <tr>\n      <th>19970</th>\n      <td>5</td>\n      <td>0</td>\n      <td>0</td>\n      <td>0</td>\n      <td>0</td>\n      <td>0</td>\n      <td>0</td>\n      <td>0</td>\n      <td>0</td>\n      <td>0</td>\n      <td>...</td>\n      <td>0</td>\n      <td>0</td>\n      <td>0</td>\n      <td>0</td>\n      <td>0</td>\n      <td>0</td>\n      <td>0</td>\n      <td>0</td>\n      <td>0</td>\n      <td>7</td>\n    </tr>\n    <tr>\n      <th>19971</th>\n      <td>5</td>\n      <td>0</td>\n      <td>0</td>\n      <td>0</td>\n      <td>0</td>\n      <td>0</td>\n      <td>0</td>\n      <td>0</td>\n      <td>0</td>\n      <td>0</td>\n      <td>...</td>\n      <td>0</td>\n      <td>0</td>\n      <td>0</td>\n      <td>0</td>\n      <td>0</td>\n      <td>0</td>\n      <td>0</td>\n      <td>0</td>\n      <td>0</td>\n      <td>6</td>\n    </tr>\n    <tr>\n      <th>Total</th>\n      <td>29409</td>\n      <td>842</td>\n      <td>270</td>\n      <td>86</td>\n      <td>74</td>\n      <td>10</td>\n      <td>54</td>\n      <td>35</td>\n      <td>31</td>\n      <td>44</td>\n      <td>...</td>\n      <td>0</td>\n      <td>0</td>\n      <td>0</td>\n      <td>0</td>\n      <td>0</td>\n      <td>1</td>\n      <td>1</td>\n      <td>0</td>\n      <td>2</td>\n      <td>131294</td>\n    </tr>\n  </tbody>\n</table>\n<p>616 rows × 616 columns</p>\n</div>"
     },
     "metadata": {},
     "execution_count": 19
    }
   ],
   "source": [
    "# matriz de flujos estimada por el modelo\n",
    "flujos_loc['cod_ori'] = flujos_loc.cod_ori.astype(int)\n",
    "flujos_loc['cod_des'] = flujos_loc.cod_des.astype(int)\n",
    "\n",
    "matrix_prodsim = pd.pivot_table(flujos_loc,\n",
    "                                values='prodsimest',\n",
    "                                index ='cod_ori',\n",
    "                                columns='cod_des',\n",
    "                                fill_value=0,\n",
    "                                aggfunc=sum,\n",
    "                                margins=True,\n",
    "                                margins_name='Total')\n",
    "\n",
    "matrix_prodsim.Total = matrix_prodsim.Total.astype(int)\n",
    "\n",
    "matrix_prodsim"
   ]
  },
  {
   "cell_type": "code",
   "execution_count": null,
   "metadata": {},
   "outputs": [],
   "source": [
    "#zero inflated\n",
    "from patsy import dmatrices\n",
    "\n",
    "\n",
    "df = flujos_loc\n",
    "\n",
    "expr = \"personas_mig ~ cod_ori + log_dist -1\"\n",
    "\n",
    "mask = np.random.rand(len(df)) < 0.8\n",
    "df_train = df[mask]\n",
    "df_test = df[~mask]\n",
    "print('Training data set length='+str(len(df_train)))\n",
    "print('Testing data set length='+str(len(df_test)))\n",
    "\n",
    "\n",
    "y_train, X_train = dmatrices(expr, df_train, return_type='dataframe')\n",
    "y_test, X_test = dmatrices(expr, df_test, return_type='dataframe')\n",
    "\n",
    "zip_training_results = sm.ZeroInflatedPoisson(endog=y_train, exog=X_train, exog_infl=X_train, inflation='logit').fit()\n",
    "\n",
    "zip_training_results.summary()\n",
    "\n",
    "zip_predictions = zip_training_results.predict(X_test,exog_infl=X_test)\n",
    "\n",
    "predicted_counts=np.round(zip_predictions)\n",
    "\n",
    "actual_counts = y_test['personas_mig']\n",
    "\n",
    "print('ZIP RMSE='+str(np.sqrt(np.sum(np.power(np.subtract(predicted_counts,actual_counts),2)))))\n",
    "\n",
    "\n",
    "\n",
    "fig = plt.figure(figsize=(12, 8), dpi=150)\n",
    "\n",
    "fig.suptitle('Predicted versus actual counts using the ZIP model')\n",
    "\n",
    "predicted, = plt.plot(X_test.index, predicted_counts, 'g', label='Predicted')\n",
    "\n",
    "actual, = plt.plot(X_test.index, actual_counts, 'r', label='Actual')\n",
    "\n",
    "plt.legend(handles=[predicted, actual])\n",
    "\n",
    "plt.show()"
   ]
  },
  {
   "cell_type": "code",
   "execution_count": null,
   "metadata": {},
   "outputs": [],
   "source": []
  },
  {
   "cell_type": "code",
   "execution_count": null,
   "metadata": {},
   "outputs": [],
   "source": [
    "prodSim.summary()"
   ]
  },
  {
   "cell_type": "code",
   "execution_count": null,
   "metadata": {},
   "outputs": [],
   "source": [
    "# funciones para recuperar parámetros e imprimir\n",
    "def get_gml_params(model, variables):\n",
    "    \"Accede a los parámetros alfa y beta dentro de los resutaldos del modelo\"\n",
    "    params = [model.params[i] for i in variables]\n",
    "    params_str = [str(round(i, 4)) for i in params]\n",
    "    return params, params_str\n",
    "\n",
    "def print_params(variables, params_list):\n",
    "    \"Imprime los parámetros\"\n",
    "    return print(\"\"\"alpha ({}) = {}\\nbeta ({}) = {}\n",
    "    \"\"\".format(variables[0], params_list[0], variables[1], params_list[1]))"
   ]
  },
  {
   "cell_type": "code",
   "execution_count": null,
   "metadata": {},
   "outputs": [],
   "source": [
    "# imprime parámetros\n",
    "variables= ['cod_ori', 'log_dist']\n",
    "\n",
    "params, params_str = get_gml_params(prodSim, variables)\n",
    "\n",
    "print_params(variables, params_str)"
   ]
  },
  {
   "cell_type": "code",
   "execution_count": null,
   "metadata": {},
   "outputs": [],
   "source": [
    "# crea la sumatoria de migrantes en origen (Oi)\n",
    "O_i = flujos_loc.groupby('cod_ori')['personas_mig'].sum().to_frame().rename(columns = {'personas_mig':'O_i'})\n",
    "\n",
    "# crea la sumatoria de migrantes en destino (Di)\n",
    "D_j = flujos_loc.groupby('cod_des')['personas_mig'].sum().to_frame().rename(columns = {'personas_mig':'D_j'})\n",
    "\n",
    "# pega ambas variables con el df\n",
    "flujos_loc = flujos_loc.merge(O_i, left_on='cod_ori', right_index=True)\n",
    "flujos_loc = flujos_loc.merge(D_j, left_on='cod_des', right_index=True)\n",
    "\n",
    "flujos_loc.head()"
   ]
  },
  {
   "cell_type": "code",
   "execution_count": null,
   "metadata": {},
   "outputs": [],
   "source": [
    "# recupera los parámetros del modelo\n",
    "mu_i = prodSim.params.to_frame()\n",
    "\n",
    "# elimina caractérres no numéricos para poder pegar\n",
    "mu_i.rename(index = dict(zip(mu_i.index[0:-2].values, mu_i.index[0:-2].str.replace(r'[^ ABCDEFGHIJKLMNÑOPQRSTUVWXYZ]','', regex=True).values)),\n",
    "            inplace=True)\n",
    "\n",
    "# renombre columna\n",
    "mu_i.rename(columns = {0:'mu_i'}, inplace=True)\n",
    "\n",
    "# merge\n",
    "flujos_loc = flujos_loc.merge(mu_i, left_on='cod_ori', right_index=True)"
   ]
  },
  {
   "cell_type": "code",
   "execution_count": null,
   "metadata": {},
   "outputs": [],
   "source": [
    "mu_i"
   ]
  },
  {
   "cell_type": "code",
   "execution_count": null,
   "metadata": {},
   "outputs": [],
   "source": [
    "flujos_loc"
   ]
  },
  {
   "cell_type": "code",
   "execution_count": null,
   "metadata": {},
   "outputs": [],
   "source": [
    "# genera estimación redondeada\n",
    "def prod_sim_est(df, variables, alpha, beta):\n",
    "    \"Estimación del modelo imputando los parámetros alfa y beta previamente calculados\"\n",
    "    prodsimest = np.exp(df['mu_i'] + alpha * df[variables[0]] + beta * df[variables[1]])\n",
    "    return round(prodsimest)"
   ]
  }
 ]
}