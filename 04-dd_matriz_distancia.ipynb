{
 "cells": [
  {
   "cell_type": "code",
   "execution_count": 59,
   "metadata": {
    "colab": {},
    "colab_type": "code",
    "id": "DohGIvsxoyow"
   },
   "outputs": [],
   "source": [
    "import pandas as pd\n",
    "import geopandas as gpd\n",
    "import os\n",
    "import numpy as np\n",
    "import requests\n",
    "import urllib\n",
    "import json\n",
    "import getpass\n",
    "import matplotlib.pyplot as plt\n",
    "\n",
    "# funciones desarrolladas\n",
    "from functions.agrupar_dfs_censo import *\n",
    "from functions.cargar_data import *\n",
    "from functions.impresion import *"
   ]
  },
  {
   "cell_type": "markdown",
   "metadata": {},
   "source": [
    "# Matrices de distancias\n",
    "\n",
    "## Matriz de distancias entre centros medios de población de cada departamento"
   ]
  },
  {
   "cell_type": "code",
   "execution_count": 2,
   "metadata": {
    "colab": {
     "base_uri": "https://localhost:8080/",
     "height": 206
    },
    "colab_type": "code",
    "id": "bwq1O7ito73b",
    "outputId": "232bc175-354c-4559-9bd8-b17e2effcdc2"
   },
   "outputs": [
    {
     "output_type": "stream",
     "name": "stderr",
     "text": [
      "/home/guillermo/anaconda3/envs/tesis/lib/python3.9/site-packages/geopandas/geodataframe.py:577: RuntimeWarning: Sequential read of iterator was interrupted. Resetting iterator. This can negatively impact the performance.\n  for feature in features_lst:\n"
     ]
    },
    {
     "output_type": "execute_result",
     "data": {
      "text/plain": [
       "   DEPTO                        geometry\n",
       "0      1  POINT (575497.000 6141786.000)\n",
       "1      2  POINT (517717.000 6636093.000)\n",
       "2      3  POINT (587353.000 6159278.000)\n",
       "3      4  POINT (777711.000 6409999.000)\n",
       "4      5  POINT (431654.000 6211872.000)"
      ],
      "text/html": "<div>\n<style scoped>\n    .dataframe tbody tr th:only-of-type {\n        vertical-align: middle;\n    }\n\n    .dataframe tbody tr th {\n        vertical-align: top;\n    }\n\n    .dataframe thead th {\n        text-align: right;\n    }\n</style>\n<table border=\"1\" class=\"dataframe\">\n  <thead>\n    <tr style=\"text-align: right;\">\n      <th></th>\n      <th>DEPTO</th>\n      <th>geometry</th>\n    </tr>\n  </thead>\n  <tbody>\n    <tr>\n      <th>0</th>\n      <td>1</td>\n      <td>POINT (575497.000 6141786.000)</td>\n    </tr>\n    <tr>\n      <th>1</th>\n      <td>2</td>\n      <td>POINT (517717.000 6636093.000)</td>\n    </tr>\n    <tr>\n      <th>2</th>\n      <td>3</td>\n      <td>POINT (587353.000 6159278.000)</td>\n    </tr>\n    <tr>\n      <th>3</th>\n      <td>4</td>\n      <td>POINT (777711.000 6409999.000)</td>\n    </tr>\n    <tr>\n      <th>4</th>\n      <td>5</td>\n      <td>POINT (431654.000 6211872.000)</td>\n    </tr>\n  </tbody>\n</table>\n</div>"
     },
     "metadata": {},
     "execution_count": 2
    }
   ],
   "source": [
    "# carga capa de centros medios de población\n",
    "cp = gpd.read_file('capas/centro_poblacion.gpkg')\n",
    "\n",
    "cp.head()"
   ]
  },
  {
   "cell_type": "code",
   "execution_count": 3,
   "metadata": {},
   "outputs": [],
   "source": [
    "def reproyectar_dd(df):\n",
    "    \"Reproyecta coordenadas de DF para usar en Google Distance Matrix API\"\n",
    "    # obtiene coordenadas en EPSG 4326\n",
    "    lon = df.geometry.to_crs(epsg=4326).x\n",
    "    lat = df.geometry.to_crs(epsg=4326).y\n",
    "    df_repro = pd.concat( [ pd.DataFrame(list(lat), columns=['lat'] ), pd.DataFrame( list(lon), columns=['lon'] ) ], axis=1, sort=False)\n",
    "    # concatena en un sólo string\n",
    "    df_repro['latlon'] = df_repro.apply(lambda x:'%s,%s' % (x['lat'],x['lon']),axis=1)\n",
    "    # concatena ambos df\n",
    "    df_rep_concat = pd.concat([df, df_repro], axis=1, ignore_index=False)\n",
    "    return df_rep_concat"
   ]
  },
  {
   "cell_type": "code",
   "execution_count": 4,
   "metadata": {
    "colab": {
     "base_uri": "https://localhost:8080/",
     "height": 206
    },
    "colab_type": "code",
    "id": "7bLBFiJJpCgE",
    "outputId": "ef96caa2-0b59-4860-9492-f3a92009db21"
   },
   "outputs": [
    {
     "output_type": "execute_result",
     "data": {
      "text/plain": [
       "   DEPTO                        geometry        lat        lon  \\\n",
       "0      1  POINT (575497.000 6141786.000) -34.863473 -56.174030   \n",
       "1      2  POINT (517717.000 6636093.000) -30.407062 -56.815547   \n",
       "2      3  POINT (587353.000 6159278.000) -34.704806 -56.046153   \n",
       "3      4  POINT (777711.000 6409999.000) -32.412531 -54.047130   \n",
       "4      5  POINT (431654.000 6211872.000) -34.231989 -57.742109   \n",
       "\n",
       "                                   latlon  \n",
       "0   -34.86347311448007,-56.17403019571399  \n",
       "1  -30.407062416732213,-56.81554727891256  \n",
       "2   -34.70480623405611,-56.04615274218908  \n",
       "3  -32.412530637702794,-54.04713015664623  \n",
       "4   -34.23198949912197,-57.74210900659811  "
      ],
      "text/html": "<div>\n<style scoped>\n    .dataframe tbody tr th:only-of-type {\n        vertical-align: middle;\n    }\n\n    .dataframe tbody tr th {\n        vertical-align: top;\n    }\n\n    .dataframe thead th {\n        text-align: right;\n    }\n</style>\n<table border=\"1\" class=\"dataframe\">\n  <thead>\n    <tr style=\"text-align: right;\">\n      <th></th>\n      <th>DEPTO</th>\n      <th>geometry</th>\n      <th>lat</th>\n      <th>lon</th>\n      <th>latlon</th>\n    </tr>\n  </thead>\n  <tbody>\n    <tr>\n      <th>0</th>\n      <td>1</td>\n      <td>POINT (575497.000 6141786.000)</td>\n      <td>-34.863473</td>\n      <td>-56.174030</td>\n      <td>-34.86347311448007,-56.17403019571399</td>\n    </tr>\n    <tr>\n      <th>1</th>\n      <td>2</td>\n      <td>POINT (517717.000 6636093.000)</td>\n      <td>-30.407062</td>\n      <td>-56.815547</td>\n      <td>-30.407062416732213,-56.81554727891256</td>\n    </tr>\n    <tr>\n      <th>2</th>\n      <td>3</td>\n      <td>POINT (587353.000 6159278.000)</td>\n      <td>-34.704806</td>\n      <td>-56.046153</td>\n      <td>-34.70480623405611,-56.04615274218908</td>\n    </tr>\n    <tr>\n      <th>3</th>\n      <td>4</td>\n      <td>POINT (777711.000 6409999.000)</td>\n      <td>-32.412531</td>\n      <td>-54.047130</td>\n      <td>-32.412530637702794,-54.04713015664623</td>\n    </tr>\n    <tr>\n      <th>4</th>\n      <td>5</td>\n      <td>POINT (431654.000 6211872.000)</td>\n      <td>-34.231989</td>\n      <td>-57.742109</td>\n      <td>-34.23198949912197,-57.74210900659811</td>\n    </tr>\n  </tbody>\n</table>\n</div>"
     },
     "metadata": {},
     "execution_count": 4
    }
   ],
   "source": [
    "# aplica función\n",
    "df_cp = reproyectar_dd(cp)\n",
    "df_cp.head()"
   ]
  },
  {
   "cell_type": "code",
   "execution_count": 5,
   "metadata": {},
   "outputs": [],
   "source": [
    "def producto_cartesiano(df, variable):\n",
    "    \"Calcula el producto cartesiano del DF\"\n",
    "    df_coords = df[[variable, 'latlon']]\n",
    "    df_coords.insert(2, \"key\", 0, True)\n",
    "    df_pc = df_coords.merge(df_coords, on='key', how='outer').drop(columns='key')\n",
    "\n",
    "    dict_rename = {variable + '_x': 'cod_ori',\n",
    "                variable + '_y': 'cod_des',\n",
    "                'latlon_x': 'latlon_ori',\n",
    "                'latlon_y': 'latlon_des'}\n",
    "\n",
    "    df_pc.rename(columns=dict_rename, inplace=True)\n",
    "\n",
    "    # elimina misma cod origen-destino\n",
    "    df_pc = df_pc[df_pc['cod_ori'] != df_pc['cod_des']]\n",
    "\n",
    "    # concatena en un código de díada\n",
    "    df_pc['cod'] = (df_pc['cod_ori'].astype(str).str.zfill(2) + \n",
    "                    df_pc['cod_des'].astype(str).str.zfill(2)).astype('int')\n",
    "                    \n",
    "    return df_pc"
   ]
  },
  {
   "cell_type": "code",
   "execution_count": 6,
   "metadata": {},
   "outputs": [],
   "source": [
    "df_pc = producto_cartesiano(df_cp, 'DEPTO')"
   ]
  },
  {
   "cell_type": "code",
   "execution_count": 7,
   "metadata": {
    "colab": {},
    "colab_type": "code",
    "id": "3ZW7JJ9dpAQK"
   },
   "outputs": [],
   "source": [
    "# matriz de distancia entre capitales departamentales de departamentos\n",
    "def obtenerDist(ori, dest, API_KEY):\n",
    "    '''\n",
    "    Devuelve distancia en KM entre uno o varios pares de coordenadas\n",
    "    geográficas, utilizando la API de Google Distance Matrix.\n",
    "    '''\n",
    "    APIurl = \"\"\"https://maps.googleapis.com/maps/api/distancematrix/json?\n",
    "                units=metric&mode=walking&origins={}\n",
    "                &destinations={}&key={}\"\"\".format(ori, dest, API_KEY)\n",
    "    \n",
    "    # Obtener la respuesta y cargar la representacion en un string\n",
    "    response = requests.get(APIurl)\n",
    "    geodataString = response.text\n",
    "    geodata = json.loads(geodataString)\n",
    "    # si la API no devulve resultados, la distancia será 'None'\n",
    "    if geodata['rows'][0]['elements'][0]['status']=='ZERO_RESULTS':\n",
    "        distancia = None\n",
    "    else:\n",
    "        distancia = geodata['rows'][0]['elements'][0]['distance']['value']\n",
    "    return distancia"
   ]
  },
  {
   "cell_type": "code",
   "execution_count": 15,
   "metadata": {
    "colab": {
     "base_uri": "https://localhost:8080/",
     "height": 161
    },
    "colab_type": "code",
    "id": "flK1eF9fqdMv",
    "outputId": "c9f30d3e-981e-42f0-86b7-1164bb4fff13"
   },
   "outputs": [
    {
     "name": "stdin",
     "output_type": "stream",
     "text": [
      " ·······································\n"
     ]
    },
    {
     "name": "stdout",
     "output_type": "stream",
     "text": [
      "342\n"
     ]
    },
    {
     "data": {
      "text/html": [
       "<div>\n",
       "<style scoped>\n",
       "    .dataframe tbody tr th:only-of-type {\n",
       "        vertical-align: middle;\n",
       "    }\n",
       "\n",
       "    .dataframe tbody tr th {\n",
       "        vertical-align: top;\n",
       "    }\n",
       "\n",
       "    .dataframe thead th {\n",
       "        text-align: right;\n",
       "    }\n",
       "</style>\n",
       "<table border=\"1\" class=\"dataframe\">\n",
       "  <thead>\n",
       "    <tr style=\"text-align: right;\">\n",
       "      <th></th>\n",
       "      <th>cod_ori</th>\n",
       "      <th>latlon_ori</th>\n",
       "      <th>cod_des</th>\n",
       "      <th>latlon_des</th>\n",
       "      <th>cod</th>\n",
       "    </tr>\n",
       "  </thead>\n",
       "  <tbody>\n",
       "    <tr>\n",
       "      <th>0</th>\n",
       "      <td>1</td>\n",
       "      <td>-34.86347311448007,-56.17403019571399</td>\n",
       "      <td>2</td>\n",
       "      <td>-30.407062416732217,-56.81554727891256</td>\n",
       "      <td>102</td>\n",
       "    </tr>\n",
       "    <tr>\n",
       "      <th>1</th>\n",
       "      <td>1</td>\n",
       "      <td>-34.86347311448007,-56.17403019571399</td>\n",
       "      <td>3</td>\n",
       "      <td>-34.70480623405611,-56.04615274218908</td>\n",
       "      <td>103</td>\n",
       "    </tr>\n",
       "    <tr>\n",
       "      <th>2</th>\n",
       "      <td>1</td>\n",
       "      <td>-34.86347311448007,-56.17403019571399</td>\n",
       "      <td>4</td>\n",
       "      <td>-32.412530637702794,-54.04713015664623</td>\n",
       "      <td>104</td>\n",
       "    </tr>\n",
       "  </tbody>\n",
       "</table>\n",
       "</div>"
      ],
      "text/plain": [
       "   cod_ori                             latlon_ori  cod_des  \\\n",
       "0        1  -34.86347311448007,-56.17403019571399        2   \n",
       "1        1  -34.86347311448007,-56.17403019571399        3   \n",
       "2        1  -34.86347311448007,-56.17403019571399        4   \n",
       "\n",
       "                               latlon_des  cod  \n",
       "0  -30.407062416732217,-56.81554727891256  102  \n",
       "1   -34.70480623405611,-56.04615274218908  103  \n",
       "2  -32.412530637702794,-54.04713015664623  104  "
      ]
     },
     "execution_count": 15,
     "metadata": {},
     "output_type": "execute_result"
    }
   ],
   "source": [
    "# setea la API KEY\n",
    "API_KEY = getpass.getpass()\n",
    "\n",
    "# ordena y resetea el índice\n",
    "df_pc.sort_values(by=['cod_ori', 'cod_des'], inplace=True)\n",
    "df_pc.reset_index(drop=True, inplace=True)\n",
    "\n",
    "print(df_pc.shape[0])\n",
    "df_pc.head(3)"
   ]
  },
  {
   "cell_type": "code",
   "execution_count": 16,
   "metadata": {},
   "outputs": [
    {
     "data": {
      "text/plain": [
       "342"
      ]
     },
     "execution_count": 16,
     "metadata": {},
     "output_type": "execute_result"
    }
   ],
   "source": [
    "df_pc.shape[0]"
   ]
  },
  {
   "cell_type": "code",
   "execution_count": 29,
   "metadata": {},
   "outputs": [
    {
     "data": {
      "text/plain": [
       "198970"
      ]
     },
     "execution_count": 29,
     "metadata": {},
     "output_type": "execute_result"
    }
   ],
   "source": [
    "# prueba con 1 caso\n",
    "obtenerDist( df_pc.latlon_ori[4] , df_pc.latlon_des[4] , API_KEY)"
   ]
  },
  {
   "cell_type": "code",
   "execution_count": 18,
   "metadata": {
    "colab": {},
    "colab_type": "code",
    "id": "2pBcwTTEqhSC"
   },
   "outputs": [],
   "source": [
    "# son 342 díadas de centros de población\n",
    "# for loop para obtener una lista con las distancias entre cp\n",
    "# aplica la función obtenerDistancia para combinaciones de cp\n",
    "n_iter = df_pc.shape[0]\n",
    "distancias = [obtenerDist(df_pc.latlon_ori[x] , df_pc.latlon_des[x] , API_KEY) for x in range(n_iter)]"
   ]
  },
  {
   "cell_type": "code",
   "execution_count": 20,
   "metadata": {
    "colab": {
     "base_uri": "https://localhost:8080/",
     "height": 52
    },
    "colab_type": "code",
    "id": "OEFgtRqhrmuk",
    "outputId": "783dec93-e4fa-4a8f-f726-e6901299aac6"
   },
   "outputs": [
    {
     "name": "stdout",
     "output_type": "stream",
     "text": [
      "342\n"
     ]
    }
   ],
   "source": [
    "print(len(distancias))"
   ]
  },
  {
   "cell_type": "code",
   "execution_count": 28,
   "metadata": {},
   "outputs": [
    {
     "data": {
      "text/html": [
       "<div>\n",
       "<style scoped>\n",
       "    .dataframe tbody tr th:only-of-type {\n",
       "        vertical-align: middle;\n",
       "    }\n",
       "\n",
       "    .dataframe tbody tr th {\n",
       "        vertical-align: top;\n",
       "    }\n",
       "\n",
       "    .dataframe thead th {\n",
       "        text-align: right;\n",
       "    }\n",
       "</style>\n",
       "<table border=\"1\" class=\"dataframe\">\n",
       "  <thead>\n",
       "    <tr style=\"text-align: right;\">\n",
       "      <th></th>\n",
       "      <th>cod_ori</th>\n",
       "      <th>latlon_ori</th>\n",
       "      <th>cod_des</th>\n",
       "      <th>latlon_des</th>\n",
       "      <th>cod</th>\n",
       "      <th>distancia</th>\n",
       "    </tr>\n",
       "  </thead>\n",
       "  <tbody>\n",
       "    <tr>\n",
       "      <th>0</th>\n",
       "      <td>1</td>\n",
       "      <td>-34.86347311448007,-56.17403019571399</td>\n",
       "      <td>2</td>\n",
       "      <td>-30.407062416732217,-56.81554727891256</td>\n",
       "      <td>102</td>\n",
       "      <td>610726</td>\n",
       "    </tr>\n",
       "    <tr>\n",
       "      <th>1</th>\n",
       "      <td>1</td>\n",
       "      <td>-34.86347311448007,-56.17403019571399</td>\n",
       "      <td>3</td>\n",
       "      <td>-34.70480623405611,-56.04615274218908</td>\n",
       "      <td>103</td>\n",
       "      <td>22544</td>\n",
       "    </tr>\n",
       "    <tr>\n",
       "      <th>2</th>\n",
       "      <td>1</td>\n",
       "      <td>-34.86347311448007,-56.17403019571399</td>\n",
       "      <td>4</td>\n",
       "      <td>-32.412530637702794,-54.04713015664623</td>\n",
       "      <td>104</td>\n",
       "      <td>393703</td>\n",
       "    </tr>\n",
       "    <tr>\n",
       "      <th>3</th>\n",
       "      <td>1</td>\n",
       "      <td>-34.86347311448007,-56.17403019571399</td>\n",
       "      <td>5</td>\n",
       "      <td>-34.23198949912197,-57.74210900659811</td>\n",
       "      <td>105</td>\n",
       "      <td>172773</td>\n",
       "    </tr>\n",
       "    <tr>\n",
       "      <th>4</th>\n",
       "      <td>1</td>\n",
       "      <td>-34.86347311448007,-56.17403019571399</td>\n",
       "      <td>6</td>\n",
       "      <td>-33.29103587835989,-56.27098299307005</td>\n",
       "      <td>106</td>\n",
       "      <td>198970</td>\n",
       "    </tr>\n",
       "  </tbody>\n",
       "</table>\n",
       "</div>"
      ],
      "text/plain": [
       "   cod_ori                             latlon_ori  cod_des  \\\n",
       "0        1  -34.86347311448007,-56.17403019571399        2   \n",
       "1        1  -34.86347311448007,-56.17403019571399        3   \n",
       "2        1  -34.86347311448007,-56.17403019571399        4   \n",
       "3        1  -34.86347311448007,-56.17403019571399        5   \n",
       "4        1  -34.86347311448007,-56.17403019571399        6   \n",
       "\n",
       "                               latlon_des  cod  distancia  \n",
       "0  -30.407062416732217,-56.81554727891256  102     610726  \n",
       "1   -34.70480623405611,-56.04615274218908  103      22544  \n",
       "2  -32.412530637702794,-54.04713015664623  104     393703  \n",
       "3   -34.23198949912197,-57.74210900659811  105     172773  \n",
       "4   -33.29103587835989,-56.27098299307005  106     198970  "
      ]
     },
     "execution_count": 28,
     "metadata": {},
     "output_type": "execute_result"
    }
   ],
   "source": [
    "dist_series = pd.Series(distancias)\n",
    "df_pc['distancia'] = dist_series.values\n",
    "df_pc.head()"
   ]
  },
  {
   "cell_type": "code",
   "execution_count": 30,
   "metadata": {},
   "outputs": [],
   "source": [
    "# guarda\n",
    "df_pc.to_csv('tablas/df_distancias_centro_poblacion.csv', index=False)"
   ]
  },
  {
   "source": [
    "## Matriz de distancias entre localidades"
   ],
   "cell_type": "markdown",
   "metadata": {}
  },
  {
   "cell_type": "code",
   "execution_count": 8,
   "metadata": {},
   "outputs": [
    {
     "output_type": "stream",
     "name": "stderr",
     "text": [
      "/home/guillermo/anaconda3/envs/tesis/lib/python3.9/site-packages/geopandas/geodataframe.py:577: RuntimeWarning: Sequential read of iterator was interrupted. Resetting iterator. This can negatively impact the performance.\n  for feature in features_lst:\n"
     ]
    },
    {
     "output_type": "execute_result",
     "data": {
      "text/plain": [
       "   CODLOC                        geometry\n",
       "0    2220  POINT (549273.219 6633915.063)\n",
       "1    2521  POINT (442454.671 6652273.541)\n",
       "2    2522  POINT (457921.001 6633361.660)\n",
       "3    2621  POINT (468458.270 6601361.867)\n",
       "4    2721  POINT (502880.928 6648162.053)"
      ],
      "text/html": "<div>\n<style scoped>\n    .dataframe tbody tr th:only-of-type {\n        vertical-align: middle;\n    }\n\n    .dataframe tbody tr th {\n        vertical-align: top;\n    }\n\n    .dataframe thead th {\n        text-align: right;\n    }\n</style>\n<table border=\"1\" class=\"dataframe\">\n  <thead>\n    <tr style=\"text-align: right;\">\n      <th></th>\n      <th>CODLOC</th>\n      <th>geometry</th>\n    </tr>\n  </thead>\n  <tbody>\n    <tr>\n      <th>0</th>\n      <td>2220</td>\n      <td>POINT (549273.219 6633915.063)</td>\n    </tr>\n    <tr>\n      <th>1</th>\n      <td>2521</td>\n      <td>POINT (442454.671 6652273.541)</td>\n    </tr>\n    <tr>\n      <th>2</th>\n      <td>2522</td>\n      <td>POINT (457921.001 6633361.660)</td>\n    </tr>\n    <tr>\n      <th>3</th>\n      <td>2621</td>\n      <td>POINT (468458.270 6601361.867)</td>\n    </tr>\n    <tr>\n      <th>4</th>\n      <td>2721</td>\n      <td>POINT (502880.928 6648162.053)</td>\n    </tr>\n  </tbody>\n</table>\n</div>"
     },
     "metadata": {},
     "execution_count": 8
    }
   ],
   "source": [
    "locs = cargar_datos_geo()[2][['CODLOC', 'geometry']]\n",
    "locs.head()"
   ]
  },
  {
   "cell_type": "code",
   "execution_count": 9,
   "metadata": {},
   "outputs": [
    {
     "output_type": "execute_result",
     "data": {
      "text/plain": [
       "   CODLOC                        geometry        lat        lon  \\\n",
       "0    2220  POINT (549273.219 6633915.063) -30.425838 -56.486918   \n",
       "1    2521  POINT (442454.671 6652273.541) -30.259811 -57.598207   \n",
       "2    2522  POINT (457921.001 6633361.660) -30.431105 -57.438193   \n",
       "3    2621  POINT (468458.270 6601361.867) -30.720183 -57.329438   \n",
       "4    2721  POINT (502880.928 6648162.053) -30.298277 -56.970040   \n",
       "\n",
       "                                    latlon  \n",
       "0   -30.425838214197817,-56.48691836714405  \n",
       "1    -30.25981089095717,-57.59820712208474  \n",
       "2    -30.4311049027931,-57.438192602981864  \n",
       "3   -30.720182604693377,-57.32943841744266  \n",
       "4  -30.298276594314746,-56.970039630361384  "
      ],
      "text/html": "<div>\n<style scoped>\n    .dataframe tbody tr th:only-of-type {\n        vertical-align: middle;\n    }\n\n    .dataframe tbody tr th {\n        vertical-align: top;\n    }\n\n    .dataframe thead th {\n        text-align: right;\n    }\n</style>\n<table border=\"1\" class=\"dataframe\">\n  <thead>\n    <tr style=\"text-align: right;\">\n      <th></th>\n      <th>CODLOC</th>\n      <th>geometry</th>\n      <th>lat</th>\n      <th>lon</th>\n      <th>latlon</th>\n    </tr>\n  </thead>\n  <tbody>\n    <tr>\n      <th>0</th>\n      <td>2220</td>\n      <td>POINT (549273.219 6633915.063)</td>\n      <td>-30.425838</td>\n      <td>-56.486918</td>\n      <td>-30.425838214197817,-56.48691836714405</td>\n    </tr>\n    <tr>\n      <th>1</th>\n      <td>2521</td>\n      <td>POINT (442454.671 6652273.541)</td>\n      <td>-30.259811</td>\n      <td>-57.598207</td>\n      <td>-30.25981089095717,-57.59820712208474</td>\n    </tr>\n    <tr>\n      <th>2</th>\n      <td>2522</td>\n      <td>POINT (457921.001 6633361.660)</td>\n      <td>-30.431105</td>\n      <td>-57.438193</td>\n      <td>-30.4311049027931,-57.438192602981864</td>\n    </tr>\n    <tr>\n      <th>3</th>\n      <td>2621</td>\n      <td>POINT (468458.270 6601361.867)</td>\n      <td>-30.720183</td>\n      <td>-57.329438</td>\n      <td>-30.720182604693377,-57.32943841744266</td>\n    </tr>\n    <tr>\n      <th>4</th>\n      <td>2721</td>\n      <td>POINT (502880.928 6648162.053)</td>\n      <td>-30.298277</td>\n      <td>-56.970040</td>\n      <td>-30.298276594314746,-56.970039630361384</td>\n    </tr>\n  </tbody>\n</table>\n</div>"
     },
     "metadata": {},
     "execution_count": 9
    }
   ],
   "source": [
    "locs_rep = reproyectar_dd(locs)\n",
    "locs_rep.head()"
   ]
  },
  {
   "cell_type": "code",
   "execution_count": 78,
   "metadata": {},
   "outputs": [
    {
     "output_type": "stream",
     "name": "stdout",
     "text": [
      "377610\n377610\n"
     ]
    },
    {
     "output_type": "execute_result",
     "data": {
      "text/plain": [
       "         index  cod_ori                              latlon_ori  cod_des  \\\n",
       "377605  378219     1020  -34.83459368462574,-56.200727322283996    19967   \n",
       "377606  378220     1020  -34.83459368462574,-56.200727322283996    19968   \n",
       "377607  378221     1020  -34.83459368462574,-56.200727322283996    19969   \n",
       "377608  378222     1020  -34.83459368462574,-56.200727322283996    19970   \n",
       "377609  378223     1020  -34.83459368462574,-56.200727322283996    19971   \n",
       "\n",
       "                                     latlon_des        cod  \n",
       "377605     -32.9586806453632,-53.63484585782342  102019967  \n",
       "377606  -33.253755207984504,-53.903051141953384  102019968  \n",
       "377607  -32.802391501575336,-53.414203834448486  102019969  \n",
       "377608    -33.12425161662233,-54.05902035385788  102019970  \n",
       "377609   -32.86300103282358,-53.617689715872686  102019971  "
      ],
      "text/html": "<div>\n<style scoped>\n    .dataframe tbody tr th:only-of-type {\n        vertical-align: middle;\n    }\n\n    .dataframe tbody tr th {\n        vertical-align: top;\n    }\n\n    .dataframe thead th {\n        text-align: right;\n    }\n</style>\n<table border=\"1\" class=\"dataframe\">\n  <thead>\n    <tr style=\"text-align: right;\">\n      <th></th>\n      <th>index</th>\n      <th>cod_ori</th>\n      <th>latlon_ori</th>\n      <th>cod_des</th>\n      <th>latlon_des</th>\n      <th>cod</th>\n    </tr>\n  </thead>\n  <tbody>\n    <tr>\n      <th>377605</th>\n      <td>378219</td>\n      <td>1020</td>\n      <td>-34.83459368462574,-56.200727322283996</td>\n      <td>19967</td>\n      <td>-32.9586806453632,-53.63484585782342</td>\n      <td>102019967</td>\n    </tr>\n    <tr>\n      <th>377606</th>\n      <td>378220</td>\n      <td>1020</td>\n      <td>-34.83459368462574,-56.200727322283996</td>\n      <td>19968</td>\n      <td>-33.253755207984504,-53.903051141953384</td>\n      <td>102019968</td>\n    </tr>\n    <tr>\n      <th>377607</th>\n      <td>378221</td>\n      <td>1020</td>\n      <td>-34.83459368462574,-56.200727322283996</td>\n      <td>19969</td>\n      <td>-32.802391501575336,-53.414203834448486</td>\n      <td>102019969</td>\n    </tr>\n    <tr>\n      <th>377608</th>\n      <td>378222</td>\n      <td>1020</td>\n      <td>-34.83459368462574,-56.200727322283996</td>\n      <td>19970</td>\n      <td>-33.12425161662233,-54.05902035385788</td>\n      <td>102019970</td>\n    </tr>\n    <tr>\n      <th>377609</th>\n      <td>378223</td>\n      <td>1020</td>\n      <td>-34.83459368462574,-56.200727322283996</td>\n      <td>19971</td>\n      <td>-32.86300103282358,-53.617689715872686</td>\n      <td>102019971</td>\n    </tr>\n  </tbody>\n</table>\n</div>"
     },
     "metadata": {},
     "execution_count": 78
    }
   ],
   "source": [
    "locs_pc = producto_cartesiano(locs_rep, 'CODLOC').reset_index()\n",
    "print(locs_pc.shape[0])\n",
    "print(len(locs_pc.cod.unique()))\n",
    "locs_pc.tail()"
   ]
  },
  {
   "cell_type": "code",
   "execution_count": 82,
   "metadata": {},
   "outputs": [
    {
     "output_type": "stream",
     "name": "stdout",
     "text": [
      "376382\n376382\n"
     ]
    },
    {
     "output_type": "execute_result",
     "data": {
      "text/plain": [
       "        cod  distancia_m\n",
       "0  10203835        21639\n",
       "1  10203727        20792"
      ],
      "text/html": "<div>\n<style scoped>\n    .dataframe tbody tr th:only-of-type {\n        vertical-align: middle;\n    }\n\n    .dataframe tbody tr th {\n        vertical-align: top;\n    }\n\n    .dataframe thead th {\n        text-align: right;\n    }\n</style>\n<table border=\"1\" class=\"dataframe\">\n  <thead>\n    <tr style=\"text-align: right;\">\n      <th></th>\n      <th>cod</th>\n      <th>distancia_m</th>\n    </tr>\n  </thead>\n  <tbody>\n    <tr>\n      <th>0</th>\n      <td>10203835</td>\n      <td>21639</td>\n    </tr>\n    <tr>\n      <th>1</th>\n      <td>10203727</td>\n      <td>20792</td>\n    </tr>\n  </tbody>\n</table>\n</div>"
     },
     "metadata": {},
     "execution_count": 82
    }
   ],
   "source": [
    "# carga distancias entre localidades, precalculadas por pgRouting\n",
    "distancias_pgr = pd.read_csv('tablas/df_distancias_localidades_pgrouting.csv', sep=';').drop_duplicates('cod')\n",
    "print(distancias_pgr.shape[0])\n",
    "print(len(distancias_pgr.cod.unique()))\n",
    "distancias_pgr.head(2)"
   ]
  },
  {
   "cell_type": "code",
   "execution_count": 83,
   "metadata": {},
   "outputs": [
    {
     "output_type": "execute_result",
     "data": {
      "text/plain": [
       "   index  cod_ori                              latlon_ori  cod_des  \\\n",
       "0      1     2220  -30.425838214197817,-56.48691836714405     2521   \n",
       "1      2     2220  -30.425838214197817,-56.48691836714405     2522   \n",
       "2      3     2220  -30.425838214197817,-56.48691836714405     2621   \n",
       "3      4     2220  -30.425838214197817,-56.48691836714405     2721   \n",
       "4      5     2220  -30.425838214197817,-56.48691836714405     2724   \n",
       "\n",
       "                                latlon_des       cod  distancia_m _merge  \n",
       "0    -30.25981089095717,-57.59820712208474  22202521     137927.0   both  \n",
       "1    -30.4311049027931,-57.438192602981864  22202522     111408.0   both  \n",
       "2   -30.720182604693377,-57.32943841744266  22202621     106867.0   both  \n",
       "3  -30.298276594314746,-56.970039630361384  22202721      58392.0   both  \n",
       "4   -30.212907501181586,-57.60354994479026  22202724     142223.0   both  "
      ],
      "text/html": "<div>\n<style scoped>\n    .dataframe tbody tr th:only-of-type {\n        vertical-align: middle;\n    }\n\n    .dataframe tbody tr th {\n        vertical-align: top;\n    }\n\n    .dataframe thead th {\n        text-align: right;\n    }\n</style>\n<table border=\"1\" class=\"dataframe\">\n  <thead>\n    <tr style=\"text-align: right;\">\n      <th></th>\n      <th>index</th>\n      <th>cod_ori</th>\n      <th>latlon_ori</th>\n      <th>cod_des</th>\n      <th>latlon_des</th>\n      <th>cod</th>\n      <th>distancia_m</th>\n      <th>_merge</th>\n    </tr>\n  </thead>\n  <tbody>\n    <tr>\n      <th>0</th>\n      <td>1</td>\n      <td>2220</td>\n      <td>-30.425838214197817,-56.48691836714405</td>\n      <td>2521</td>\n      <td>-30.25981089095717,-57.59820712208474</td>\n      <td>22202521</td>\n      <td>137927.0</td>\n      <td>both</td>\n    </tr>\n    <tr>\n      <th>1</th>\n      <td>2</td>\n      <td>2220</td>\n      <td>-30.425838214197817,-56.48691836714405</td>\n      <td>2522</td>\n      <td>-30.4311049027931,-57.438192602981864</td>\n      <td>22202522</td>\n      <td>111408.0</td>\n      <td>both</td>\n    </tr>\n    <tr>\n      <th>2</th>\n      <td>3</td>\n      <td>2220</td>\n      <td>-30.425838214197817,-56.48691836714405</td>\n      <td>2621</td>\n      <td>-30.720182604693377,-57.32943841744266</td>\n      <td>22202621</td>\n      <td>106867.0</td>\n      <td>both</td>\n    </tr>\n    <tr>\n      <th>3</th>\n      <td>4</td>\n      <td>2220</td>\n      <td>-30.425838214197817,-56.48691836714405</td>\n      <td>2721</td>\n      <td>-30.298276594314746,-56.970039630361384</td>\n      <td>22202721</td>\n      <td>58392.0</td>\n      <td>both</td>\n    </tr>\n    <tr>\n      <th>4</th>\n      <td>5</td>\n      <td>2220</td>\n      <td>-30.425838214197817,-56.48691836714405</td>\n      <td>2724</td>\n      <td>-30.212907501181586,-57.60354994479026</td>\n      <td>22202724</td>\n      <td>142223.0</td>\n      <td>both</td>\n    </tr>\n  </tbody>\n</table>\n</div>"
     },
     "metadata": {},
     "execution_count": 83
    }
   ],
   "source": [
    "locs_pc_dist = pd.merge(locs_pc, distancias_pgr, how='left', on='cod', indicator=True)\n",
    "locs_pc_dist.head()"
   ]
  },
  {
   "cell_type": "code",
   "execution_count": 84,
   "metadata": {},
   "outputs": [
    {
     "output_type": "execute_result",
     "data": {
      "text/plain": [
       "_merge\n",
       "left_only       1228\n",
       "right_only         0\n",
       "both          376382\n",
       "dtype: int64"
      ]
     },
     "metadata": {},
     "execution_count": 84
    }
   ],
   "source": [
    "locs_pc_dist.groupby('_merge').size()"
   ]
  },
  {
   "cell_type": "code",
   "execution_count": 85,
   "metadata": {},
   "outputs": [
    {
     "output_type": "execute_result",
     "data": {
      "text/plain": [
       "377610"
      ]
     },
     "metadata": {},
     "execution_count": 85
    }
   ],
   "source": [
    "376382 + 1228"
   ]
  },
  {
   "cell_type": "code",
   "execution_count": 105,
   "metadata": {},
   "outputs": [
    {
     "output_type": "execute_result",
     "data": {
      "text/plain": [
       "(377610, 8)"
      ]
     },
     "metadata": {},
     "execution_count": 105
    }
   ],
   "source": [
    "locs_pc_dist.shape"
   ]
  },
  {
   "cell_type": "code",
   "execution_count": 104,
   "metadata": {},
   "outputs": [
    {
     "output_type": "execute_result",
     "data": {
      "text/plain": [
       "   index  cod_ori                              latlon_ori  cod_des  \\\n",
       "0      1     2220  -30.425838214197817,-56.48691836714405     2521   \n",
       "1      2     2220  -30.425838214197817,-56.48691836714405     2522   \n",
       "2      3     2220  -30.425838214197817,-56.48691836714405     2621   \n",
       "3      4     2220  -30.425838214197817,-56.48691836714405     2721   \n",
       "4      5     2220  -30.425838214197817,-56.48691836714405     2724   \n",
       "\n",
       "                                latlon_des       cod  distancia_m _merge  \n",
       "0    -30.25981089095717,-57.59820712208474  22202521     137927.0   both  \n",
       "1    -30.4311049027931,-57.438192602981864  22202522     111408.0   both  \n",
       "2   -30.720182604693377,-57.32943841744266  22202621     106867.0   both  \n",
       "3  -30.298276594314746,-56.970039630361384  22202721      58392.0   both  \n",
       "4   -30.212907501181586,-57.60354994479026  22202724     142223.0   both  "
      ],
      "text/html": "<div>\n<style scoped>\n    .dataframe tbody tr th:only-of-type {\n        vertical-align: middle;\n    }\n\n    .dataframe tbody tr th {\n        vertical-align: top;\n    }\n\n    .dataframe thead th {\n        text-align: right;\n    }\n</style>\n<table border=\"1\" class=\"dataframe\">\n  <thead>\n    <tr style=\"text-align: right;\">\n      <th></th>\n      <th>index</th>\n      <th>cod_ori</th>\n      <th>latlon_ori</th>\n      <th>cod_des</th>\n      <th>latlon_des</th>\n      <th>cod</th>\n      <th>distancia_m</th>\n      <th>_merge</th>\n    </tr>\n  </thead>\n  <tbody>\n    <tr>\n      <th>0</th>\n      <td>1</td>\n      <td>2220</td>\n      <td>-30.425838214197817,-56.48691836714405</td>\n      <td>2521</td>\n      <td>-30.25981089095717,-57.59820712208474</td>\n      <td>22202521</td>\n      <td>137927.0</td>\n      <td>both</td>\n    </tr>\n    <tr>\n      <th>1</th>\n      <td>2</td>\n      <td>2220</td>\n      <td>-30.425838214197817,-56.48691836714405</td>\n      <td>2522</td>\n      <td>-30.4311049027931,-57.438192602981864</td>\n      <td>22202522</td>\n      <td>111408.0</td>\n      <td>both</td>\n    </tr>\n    <tr>\n      <th>2</th>\n      <td>3</td>\n      <td>2220</td>\n      <td>-30.425838214197817,-56.48691836714405</td>\n      <td>2621</td>\n      <td>-30.720182604693377,-57.32943841744266</td>\n      <td>22202621</td>\n      <td>106867.0</td>\n      <td>both</td>\n    </tr>\n    <tr>\n      <th>3</th>\n      <td>4</td>\n      <td>2220</td>\n      <td>-30.425838214197817,-56.48691836714405</td>\n      <td>2721</td>\n      <td>-30.298276594314746,-56.970039630361384</td>\n      <td>22202721</td>\n      <td>58392.0</td>\n      <td>both</td>\n    </tr>\n    <tr>\n      <th>4</th>\n      <td>5</td>\n      <td>2220</td>\n      <td>-30.425838214197817,-56.48691836714405</td>\n      <td>2724</td>\n      <td>-30.212907501181586,-57.60354994479026</td>\n      <td>22202724</td>\n      <td>142223.0</td>\n      <td>both</td>\n    </tr>\n  </tbody>\n</table>\n</div>"
     },
     "metadata": {},
     "execution_count": 104
    }
   ],
   "source": [
    "locs_pc_dist.head()"
   ]
  },
  {
   "cell_type": "code",
   "execution_count": 15,
   "metadata": {},
   "outputs": [
    {
     "output_type": "execute_result",
     "data": {
      "text/plain": [
       "      cod_ori                               latlon_ori  cod_des  \\\n",
       "605      2220   -30.425838214197817,-56.48691836714405    19964   \n",
       "1219     2521    -30.25981089095717,-57.59820712208474    19964   \n",
       "1833     2522    -30.4311049027931,-57.438192602981864    19964   \n",
       "2447     2621   -30.720182604693377,-57.32943841744266    19964   \n",
       "3061     2721  -30.298276594314746,-56.970039630361384    19964   \n",
       "\n",
       "                                  latlon_des        cod  \n",
       "605   -32.831506840233985,-53.38397111012659  222019964  \n",
       "1219  -32.831506840233985,-53.38397111012659  252119964  \n",
       "1833  -32.831506840233985,-53.38397111012659  252219964  \n",
       "2447  -32.831506840233985,-53.38397111012659  262119964  \n",
       "3061  -32.831506840233985,-53.38397111012659  272119964  "
      ],
      "text/html": "<div>\n<style scoped>\n    .dataframe tbody tr th:only-of-type {\n        vertical-align: middle;\n    }\n\n    .dataframe tbody tr th {\n        vertical-align: top;\n    }\n\n    .dataframe thead th {\n        text-align: right;\n    }\n</style>\n<table border=\"1\" class=\"dataframe\">\n  <thead>\n    <tr style=\"text-align: right;\">\n      <th></th>\n      <th>cod_ori</th>\n      <th>latlon_ori</th>\n      <th>cod_des</th>\n      <th>latlon_des</th>\n      <th>cod</th>\n    </tr>\n  </thead>\n  <tbody>\n    <tr>\n      <th>605</th>\n      <td>2220</td>\n      <td>-30.425838214197817,-56.48691836714405</td>\n      <td>19964</td>\n      <td>-32.831506840233985,-53.38397111012659</td>\n      <td>222019964</td>\n    </tr>\n    <tr>\n      <th>1219</th>\n      <td>2521</td>\n      <td>-30.25981089095717,-57.59820712208474</td>\n      <td>19964</td>\n      <td>-32.831506840233985,-53.38397111012659</td>\n      <td>252119964</td>\n    </tr>\n    <tr>\n      <th>1833</th>\n      <td>2522</td>\n      <td>-30.4311049027931,-57.438192602981864</td>\n      <td>19964</td>\n      <td>-32.831506840233985,-53.38397111012659</td>\n      <td>252219964</td>\n    </tr>\n    <tr>\n      <th>2447</th>\n      <td>2621</td>\n      <td>-30.720182604693377,-57.32943841744266</td>\n      <td>19964</td>\n      <td>-32.831506840233985,-53.38397111012659</td>\n      <td>262119964</td>\n    </tr>\n    <tr>\n      <th>3061</th>\n      <td>2721</td>\n      <td>-30.298276594314746,-56.970039630361384</td>\n      <td>19964</td>\n      <td>-32.831506840233985,-53.38397111012659</td>\n      <td>272119964</td>\n    </tr>\n  </tbody>\n</table>\n</div>"
     },
     "metadata": {},
     "execution_count": 15
    }
   ],
   "source": [
    "variables = ['cod_ori', 'latlon_ori', 'cod_des', 'latlon_des', 'cod']\n",
    "locs_pc_sin_dist = locs_pc.loc[locs_pc._merge=='left_only', variables]\n",
    "locs_pc_sin_dist.head()"
   ]
  },
  {
   "cell_type": "code",
   "execution_count": 13,
   "metadata": {},
   "outputs": [],
   "source": [
    "# setea la API KEY\n",
    "API_KEY = getpass.getpass()"
   ]
  },
  {
   "cell_type": "code",
   "execution_count": 16,
   "metadata": {},
   "outputs": [
    {
     "output_type": "stream",
     "name": "stdout",
     "text": [
      "1228\n"
     ]
    },
    {
     "output_type": "execute_result",
     "data": {
      "text/plain": [
       "   cod_ori                              latlon_ori  cod_des  \\\n",
       "0     1020  -34.83459368462574,-56.200727322283996    19964   \n",
       "1     2220  -30.425838214197817,-56.48691836714405    19964   \n",
       "2     2521   -30.25981089095717,-57.59820712208474    19964   \n",
       "\n",
       "                               latlon_des        cod  \n",
       "0  -32.831506840233985,-53.38397111012659  102019964  \n",
       "1  -32.831506840233985,-53.38397111012659  222019964  \n",
       "2  -32.831506840233985,-53.38397111012659  252119964  "
      ],
      "text/html": "<div>\n<style scoped>\n    .dataframe tbody tr th:only-of-type {\n        vertical-align: middle;\n    }\n\n    .dataframe tbody tr th {\n        vertical-align: top;\n    }\n\n    .dataframe thead th {\n        text-align: right;\n    }\n</style>\n<table border=\"1\" class=\"dataframe\">\n  <thead>\n    <tr style=\"text-align: right;\">\n      <th></th>\n      <th>cod_ori</th>\n      <th>latlon_ori</th>\n      <th>cod_des</th>\n      <th>latlon_des</th>\n      <th>cod</th>\n    </tr>\n  </thead>\n  <tbody>\n    <tr>\n      <th>0</th>\n      <td>1020</td>\n      <td>-34.83459368462574,-56.200727322283996</td>\n      <td>19964</td>\n      <td>-32.831506840233985,-53.38397111012659</td>\n      <td>102019964</td>\n    </tr>\n    <tr>\n      <th>1</th>\n      <td>2220</td>\n      <td>-30.425838214197817,-56.48691836714405</td>\n      <td>19964</td>\n      <td>-32.831506840233985,-53.38397111012659</td>\n      <td>222019964</td>\n    </tr>\n    <tr>\n      <th>2</th>\n      <td>2521</td>\n      <td>-30.25981089095717,-57.59820712208474</td>\n      <td>19964</td>\n      <td>-32.831506840233985,-53.38397111012659</td>\n      <td>252119964</td>\n    </tr>\n  </tbody>\n</table>\n</div>"
     },
     "metadata": {},
     "execution_count": 16
    }
   ],
   "source": [
    "# ordena y resetea el índice\n",
    "locs_pc_sin_dist.sort_values(by=['cod_ori', 'cod_des'], inplace=True)\n",
    "locs_pc_sin_dist.reset_index(drop=True, inplace=True)\n",
    "\n",
    "print(locs_pc_sin_dist.shape[0])\n",
    "locs_pc_sin_dist.head(3)"
   ]
  },
  {
   "cell_type": "code",
   "execution_count": 19,
   "metadata": {},
   "outputs": [
    {
     "output_type": "execute_result",
     "data": {
      "text/plain": [
       "378223"
      ]
     },
     "metadata": {},
     "execution_count": 19
    }
   ],
   "source": [
    "376995 + 1228"
   ]
  },
  {
   "cell_type": "code",
   "execution_count": 90,
   "metadata": {},
   "outputs": [],
   "source": [
    "lista_ori = list(locs_pc_sin_dist.latlon_ori)\n",
    "lista_des = list(locs_pc_sin_dist.latlon_des)"
   ]
  },
  {
   "cell_type": "code",
   "execution_count": 91,
   "metadata": {},
   "outputs": [
    {
     "output_type": "execute_result",
     "data": {
      "text/plain": [
       "1228"
      ]
     },
     "metadata": {},
     "execution_count": 91
    }
   ],
   "source": [
    "len(lista_des)"
   ]
  },
  {
   "cell_type": "code",
   "execution_count": 92,
   "metadata": {},
   "outputs": [],
   "source": [
    "n = locs_pc_sin_dist.shape[0]\n",
    "# distancias = [obtenerDist(lista_ori[x], lista_des[x] , API_KEY) for x in range(n)]"
   ]
  },
  {
   "cell_type": "code",
   "execution_count": 95,
   "metadata": {},
   "outputs": [],
   "source": [
    "# guarda lo calculado para no volver a usar la API de Google\n",
    "with open('tablas/dist_loc_faltantes_google.txt', 'w') as f:\n",
    "    for item in distancias:\n",
    "        f.write(\"%s\\n\" % item)"
   ]
  },
  {
   "cell_type": "code",
   "execution_count": 96,
   "metadata": {},
   "outputs": [],
   "source": [
    "locs_pc_sin_dist['distancia_m'] = distancias"
   ]
  },
  {
   "cell_type": "code",
   "execution_count": 119,
   "metadata": {},
   "outputs": [],
   "source": [
    "locs_dist = locs_pc_dist.loc[locs_pc_dist._merge == 'both'].append(locs_pc_sin_dist).drop(['index','_merge'], axis=1)"
   ]
  },
  {
   "cell_type": "code",
   "execution_count": 123,
   "metadata": {},
   "outputs": [],
   "source": [
    "locs_dist['distancia_m'] = locs_dist['distancia_m'].astype(int)"
   ]
  },
  {
   "cell_type": "code",
   "execution_count": 124,
   "metadata": {},
   "outputs": [
    {
     "output_type": "execute_result",
     "data": {
      "text/plain": [
       "   cod_ori                              latlon_ori  cod_des  \\\n",
       "0     2220  -30.425838214197817,-56.48691836714405     2521   \n",
       "1     2220  -30.425838214197817,-56.48691836714405     2522   \n",
       "2     2220  -30.425838214197817,-56.48691836714405     2621   \n",
       "3     2220  -30.425838214197817,-56.48691836714405     2721   \n",
       "4     2220  -30.425838214197817,-56.48691836714405     2724   \n",
       "\n",
       "                                latlon_des       cod  distancia_m  \n",
       "0    -30.25981089095717,-57.59820712208474  22202521       137927  \n",
       "1    -30.4311049027931,-57.438192602981864  22202522       111408  \n",
       "2   -30.720182604693377,-57.32943841744266  22202621       106867  \n",
       "3  -30.298276594314746,-56.970039630361384  22202721        58392  \n",
       "4   -30.212907501181586,-57.60354994479026  22202724       142223  "
      ],
      "text/html": "<div>\n<style scoped>\n    .dataframe tbody tr th:only-of-type {\n        vertical-align: middle;\n    }\n\n    .dataframe tbody tr th {\n        vertical-align: top;\n    }\n\n    .dataframe thead th {\n        text-align: right;\n    }\n</style>\n<table border=\"1\" class=\"dataframe\">\n  <thead>\n    <tr style=\"text-align: right;\">\n      <th></th>\n      <th>cod_ori</th>\n      <th>latlon_ori</th>\n      <th>cod_des</th>\n      <th>latlon_des</th>\n      <th>cod</th>\n      <th>distancia_m</th>\n    </tr>\n  </thead>\n  <tbody>\n    <tr>\n      <th>0</th>\n      <td>2220</td>\n      <td>-30.425838214197817,-56.48691836714405</td>\n      <td>2521</td>\n      <td>-30.25981089095717,-57.59820712208474</td>\n      <td>22202521</td>\n      <td>137927</td>\n    </tr>\n    <tr>\n      <th>1</th>\n      <td>2220</td>\n      <td>-30.425838214197817,-56.48691836714405</td>\n      <td>2522</td>\n      <td>-30.4311049027931,-57.438192602981864</td>\n      <td>22202522</td>\n      <td>111408</td>\n    </tr>\n    <tr>\n      <th>2</th>\n      <td>2220</td>\n      <td>-30.425838214197817,-56.48691836714405</td>\n      <td>2621</td>\n      <td>-30.720182604693377,-57.32943841744266</td>\n      <td>22202621</td>\n      <td>106867</td>\n    </tr>\n    <tr>\n      <th>3</th>\n      <td>2220</td>\n      <td>-30.425838214197817,-56.48691836714405</td>\n      <td>2721</td>\n      <td>-30.298276594314746,-56.970039630361384</td>\n      <td>22202721</td>\n      <td>58392</td>\n    </tr>\n    <tr>\n      <th>4</th>\n      <td>2220</td>\n      <td>-30.425838214197817,-56.48691836714405</td>\n      <td>2724</td>\n      <td>-30.212907501181586,-57.60354994479026</td>\n      <td>22202724</td>\n      <td>142223</td>\n    </tr>\n  </tbody>\n</table>\n</div>"
     },
     "metadata": {},
     "execution_count": 124
    }
   ],
   "source": [
    "locs_dist.head()"
   ]
  },
  {
   "cell_type": "code",
   "execution_count": 7,
   "metadata": {},
   "outputs": [
    {
     "output_type": "error",
     "ename": "NameError",
     "evalue": "name 'locs_dist' is not defined",
     "traceback": [
      "\u001b[0;31m---------------------------------------------------------------------------\u001b[0m",
      "\u001b[0;31mNameError\u001b[0m                                 Traceback (most recent call last)",
      "\u001b[0;32m<ipython-input-7-a7f399864cda>\u001b[0m in \u001b[0;36m<module>\u001b[0;34m\u001b[0m\n\u001b[1;32m      1\u001b[0m \u001b[0;31m# guarda\u001b[0m\u001b[0;34m\u001b[0m\u001b[0;34m\u001b[0m\u001b[0;34m\u001b[0m\u001b[0m\n\u001b[0;32m----> 2\u001b[0;31m \u001b[0mlocs_dist\u001b[0m\u001b[0;34m.\u001b[0m\u001b[0mto_csv\u001b[0m\u001b[0;34m(\u001b[0m\u001b[0;34m'tablas/df_distancias_localidades.csv'\u001b[0m\u001b[0;34m,\u001b[0m \u001b[0mindex\u001b[0m\u001b[0;34m=\u001b[0m\u001b[0;32mFalse\u001b[0m\u001b[0;34m)\u001b[0m\u001b[0;34m\u001b[0m\u001b[0;34m\u001b[0m\u001b[0m\n\u001b[0m",
      "\u001b[0;31mNameError\u001b[0m: name 'locs_dist' is not defined"
     ]
    }
   ],
   "source": [
    "# guarda\n",
    "locs_dist.to_csv('tablas/df_distancias_localidades.csv', index=False)"
   ]
  },
  {
   "source": [
    "## Categoriza distancias"
   ],
   "cell_type": "markdown",
   "metadata": {}
  },
  {
   "cell_type": "code",
   "execution_count": 73,
   "metadata": {},
   "outputs": [],
   "source": [
    "# recarga\n",
    "locs_dist = pd.read_csv('tablas/df_distancias_localidades.csv')"
   ]
  },
  {
   "cell_type": "code",
   "execution_count": 74,
   "metadata": {},
   "outputs": [],
   "source": [
    "def reclas_dist(df, old_var, new_var):\n",
    "    \"\"\"Reclasifica variable de distancias en cuatro categorías:\n",
    "    1: Mayores a 200 km\n",
    "    2: Entre 200 y 100 km\n",
    "    3: Entre 100 y 50 km\n",
    "    4: Menor a 50 km    \n",
    "    \"\"\"\n",
    "    max_d = max(df[old_var])\n",
    "    df.loc[df[old_var].between(200001, max_d),  new_var] = 1\n",
    "    df.loc[df[old_var].between(100001, 200000), new_var] = 2\n",
    "    df.loc[df[old_var].between(50001, 100000),  new_var] = 3\n",
    "    df.loc[df[old_var].between(0, 50000),       new_var] = 4\n",
    "    df[new_var] = df[new_var].astype(int)\n",
    "    return df"
   ]
  },
  {
   "cell_type": "code",
   "execution_count": 75,
   "metadata": {},
   "outputs": [
    {
     "output_type": "execute_result",
     "data": {
      "text/plain": [
       "   cod_ori                              latlon_ori  cod_des  \\\n",
       "0     2220  -30.425838214197817,-56.48691836714405     2521   \n",
       "1     2220  -30.425838214197817,-56.48691836714405     2522   \n",
       "2     2220  -30.425838214197817,-56.48691836714405     2621   \n",
       "3     2220  -30.425838214197817,-56.48691836714405     2721   \n",
       "4     2220  -30.425838214197817,-56.48691836714405     2724   \n",
       "\n",
       "                                latlon_des       cod  distancia_m  cat_dist  \n",
       "0    -30.25981089095717,-57.59820712208474  22202521       137927         2  \n",
       "1    -30.4311049027931,-57.438192602981864  22202522       111408         2  \n",
       "2   -30.720182604693377,-57.32943841744266  22202621       106867         2  \n",
       "3  -30.298276594314746,-56.970039630361384  22202721        58392         3  \n",
       "4   -30.212907501181586,-57.60354994479026  22202724       142223         2  "
      ],
      "text/html": "<div>\n<style scoped>\n    .dataframe tbody tr th:only-of-type {\n        vertical-align: middle;\n    }\n\n    .dataframe tbody tr th {\n        vertical-align: top;\n    }\n\n    .dataframe thead th {\n        text-align: right;\n    }\n</style>\n<table border=\"1\" class=\"dataframe\">\n  <thead>\n    <tr style=\"text-align: right;\">\n      <th></th>\n      <th>cod_ori</th>\n      <th>latlon_ori</th>\n      <th>cod_des</th>\n      <th>latlon_des</th>\n      <th>cod</th>\n      <th>distancia_m</th>\n      <th>cat_dist</th>\n    </tr>\n  </thead>\n  <tbody>\n    <tr>\n      <th>0</th>\n      <td>2220</td>\n      <td>-30.425838214197817,-56.48691836714405</td>\n      <td>2521</td>\n      <td>-30.25981089095717,-57.59820712208474</td>\n      <td>22202521</td>\n      <td>137927</td>\n      <td>2</td>\n    </tr>\n    <tr>\n      <th>1</th>\n      <td>2220</td>\n      <td>-30.425838214197817,-56.48691836714405</td>\n      <td>2522</td>\n      <td>-30.4311049027931,-57.438192602981864</td>\n      <td>22202522</td>\n      <td>111408</td>\n      <td>2</td>\n    </tr>\n    <tr>\n      <th>2</th>\n      <td>2220</td>\n      <td>-30.425838214197817,-56.48691836714405</td>\n      <td>2621</td>\n      <td>-30.720182604693377,-57.32943841744266</td>\n      <td>22202621</td>\n      <td>106867</td>\n      <td>2</td>\n    </tr>\n    <tr>\n      <th>3</th>\n      <td>2220</td>\n      <td>-30.425838214197817,-56.48691836714405</td>\n      <td>2721</td>\n      <td>-30.298276594314746,-56.970039630361384</td>\n      <td>22202721</td>\n      <td>58392</td>\n      <td>3</td>\n    </tr>\n    <tr>\n      <th>4</th>\n      <td>2220</td>\n      <td>-30.425838214197817,-56.48691836714405</td>\n      <td>2724</td>\n      <td>-30.212907501181586,-57.60354994479026</td>\n      <td>22202724</td>\n      <td>142223</td>\n      <td>2</td>\n    </tr>\n  </tbody>\n</table>\n</div>"
     },
     "metadata": {},
     "execution_count": 75
    }
   ],
   "source": [
    "locs_dist = reclas_dist(locs_dist, 'distancia_m', 'cat_dist')\n",
    "\n",
    "locs_dist.head()"
   ]
  },
  {
   "cell_type": "code",
   "execution_count": 78,
   "metadata": {},
   "outputs": [
    {
     "output_type": "execute_result",
     "data": {
      "text/plain": [
       "cat_dist\n",
       "1    259454\n",
       "2     68935\n",
       "3     29891\n",
       "4     19330\n",
       "Name: cod_ori, dtype: int64"
      ]
     },
     "metadata": {},
     "execution_count": 78
    }
   ],
   "source": [
    "conteo = locs_dist.groupby('cat_dist')['cod_ori'].count()\n",
    "conteo"
   ]
  },
  {
   "cell_type": "code",
   "execution_count": null,
   "metadata": {},
   "outputs": [],
   "source": []
  },
  {
   "cell_type": "code",
   "execution_count": 91,
   "metadata": {},
   "outputs": [
    {
     "output_type": "display_data",
     "data": {
      "text/plain": "<Figure size 432x288 with 1 Axes>",
      "image/svg+xml": "<?xml version=\"1.0\" encoding=\"utf-8\" standalone=\"no\"?>\n<!DOCTYPE svg PUBLIC \"-//W3C//DTD SVG 1.1//EN\"\n  \"http://www.w3.org/Graphics/SVG/1.1/DTD/svg11.dtd\">\n<svg height=\"248.518125pt\" version=\"1.1\" viewBox=\"0 0 394.375 248.518125\" width=\"394.375pt\" xmlns=\"http://www.w3.org/2000/svg\" xmlns:xlink=\"http://www.w3.org/1999/xlink\">\n <metadata>\n  <rdf:RDF xmlns:cc=\"http://creativecommons.org/ns#\" xmlns:dc=\"http://purl.org/dc/elements/1.1/\" xmlns:rdf=\"http://www.w3.org/1999/02/22-rdf-syntax-ns#\">\n   <cc:Work>\n    <dc:type rdf:resource=\"http://purl.org/dc/dcmitype/StillImage\"/>\n    <dc:date>2021-05-13T12:05:22.306097</dc:date>\n    <dc:format>image/svg+xml</dc:format>\n    <dc:creator>\n     <cc:Agent>\n      <dc:title>Matplotlib v3.4.1, https://matplotlib.org/</dc:title>\n     </cc:Agent>\n    </dc:creator>\n   </cc:Work>\n  </rdf:RDF>\n </metadata>\n <defs>\n  <style type=\"text/css\">*{stroke-linecap:butt;stroke-linejoin:round;}</style>\n </defs>\n <g id=\"figure_1\">\n  <g id=\"patch_1\">\n   <path d=\"M 0 248.518125 \nL 394.375 248.518125 \nL 394.375 0 \nL 0 0 \nz\n\" style=\"fill:none;\"/>\n  </g>\n  <g id=\"axes_1\">\n   <g id=\"patch_2\">\n    <path d=\"M 52.375 224.64 \nL 387.175 224.64 \nL 387.175 7.2 \nL 52.375 7.2 \nz\n\" style=\"fill:#ffffff;\"/>\n   </g>\n   <g id=\"patch_3\">\n    <path clip-path=\"url(#pe34477583a)\" d=\"M 67.593182 224.64 \nL 131.669737 224.64 \nL 131.669737 17.554286 \nL 67.593182 17.554286 \nz\n\" style=\"fill:#1f77b4;\"/>\n   </g>\n   <g id=\"patch_4\">\n    <path clip-path=\"url(#pe34477583a)\" d=\"M 147.688876 224.64 \nL 211.765431 224.64 \nL 211.765431 169.618864 \nL 147.688876 169.618864 \nz\n\" style=\"fill:#1f77b4;\"/>\n   </g>\n   <g id=\"patch_5\">\n    <path clip-path=\"url(#pe34477583a)\" d=\"M 227.784569 224.64 \nL 291.861124 224.64 \nL 291.861124 200.78221 \nL 227.784569 200.78221 \nz\n\" style=\"fill:#1f77b4;\"/>\n   </g>\n   <g id=\"patch_6\">\n    <path clip-path=\"url(#pe34477583a)\" d=\"M 307.880263 224.64 \nL 371.956818 224.64 \nL 371.956818 209.211574 \nL 307.880263 209.211574 \nz\n\" style=\"fill:#1f77b4;\"/>\n   </g>\n   <g id=\"matplotlib.axis_1\">\n    <g id=\"xtick_1\">\n     <g id=\"line2d_1\">\n      <defs>\n       <path d=\"M 0 0 \nL 0 3.5 \n\" id=\"m067e181d77\" style=\"stroke:#000000;stroke-width:0.8;\"/>\n      </defs>\n      <g>\n       <use style=\"stroke:#000000;stroke-width:0.8;\" x=\"99.631459\" xlink:href=\"#m067e181d77\" y=\"224.64\"/>\n      </g>\n     </g>\n     <g id=\"text_1\">\n      <!-- &gt; 200 km -->\n      <g transform=\"translate(74.954116 239.238437)scale(0.1 -0.1)\">\n       <defs>\n        <path d=\"M 678 3150 \nL 678 3719 \nL 4684 2266 \nL 4684 1747 \nL 678 294 \nL 678 863 \nL 3897 2003 \nL 678 3150 \nz\n\" id=\"DejaVuSans-3e\" transform=\"scale(0.015625)\"/>\n        <path id=\"DejaVuSans-20\" transform=\"scale(0.015625)\"/>\n        <path d=\"M 1228 531 \nL 3431 531 \nL 3431 0 \nL 469 0 \nL 469 531 \nQ 828 903 1448 1529 \nQ 2069 2156 2228 2338 \nQ 2531 2678 2651 2914 \nQ 2772 3150 2772 3378 \nQ 2772 3750 2511 3984 \nQ 2250 4219 1831 4219 \nQ 1534 4219 1204 4116 \nQ 875 4013 500 3803 \nL 500 4441 \nQ 881 4594 1212 4672 \nQ 1544 4750 1819 4750 \nQ 2544 4750 2975 4387 \nQ 3406 4025 3406 3419 \nQ 3406 3131 3298 2873 \nQ 3191 2616 2906 2266 \nQ 2828 2175 2409 1742 \nQ 1991 1309 1228 531 \nz\n\" id=\"DejaVuSans-32\" transform=\"scale(0.015625)\"/>\n        <path d=\"M 2034 4250 \nQ 1547 4250 1301 3770 \nQ 1056 3291 1056 2328 \nQ 1056 1369 1301 889 \nQ 1547 409 2034 409 \nQ 2525 409 2770 889 \nQ 3016 1369 3016 2328 \nQ 3016 3291 2770 3770 \nQ 2525 4250 2034 4250 \nz\nM 2034 4750 \nQ 2819 4750 3233 4129 \nQ 3647 3509 3647 2328 \nQ 3647 1150 3233 529 \nQ 2819 -91 2034 -91 \nQ 1250 -91 836 529 \nQ 422 1150 422 2328 \nQ 422 3509 836 4129 \nQ 1250 4750 2034 4750 \nz\n\" id=\"DejaVuSans-30\" transform=\"scale(0.015625)\"/>\n        <path d=\"M 581 4863 \nL 1159 4863 \nL 1159 1991 \nL 2875 3500 \nL 3609 3500 \nL 1753 1863 \nL 3688 0 \nL 2938 0 \nL 1159 1709 \nL 1159 0 \nL 581 0 \nL 581 4863 \nz\n\" id=\"DejaVuSans-6b\" transform=\"scale(0.015625)\"/>\n        <path d=\"M 3328 2828 \nQ 3544 3216 3844 3400 \nQ 4144 3584 4550 3584 \nQ 5097 3584 5394 3201 \nQ 5691 2819 5691 2113 \nL 5691 0 \nL 5113 0 \nL 5113 2094 \nQ 5113 2597 4934 2840 \nQ 4756 3084 4391 3084 \nQ 3944 3084 3684 2787 \nQ 3425 2491 3425 1978 \nL 3425 0 \nL 2847 0 \nL 2847 2094 \nQ 2847 2600 2669 2842 \nQ 2491 3084 2119 3084 \nQ 1678 3084 1418 2786 \nQ 1159 2488 1159 1978 \nL 1159 0 \nL 581 0 \nL 581 3500 \nL 1159 3500 \nL 1159 2956 \nQ 1356 3278 1631 3431 \nQ 1906 3584 2284 3584 \nQ 2666 3584 2933 3390 \nQ 3200 3197 3328 2828 \nz\n\" id=\"DejaVuSans-6d\" transform=\"scale(0.015625)\"/>\n       </defs>\n       <use xlink:href=\"#DejaVuSans-3e\"/>\n       <use x=\"83.789062\" xlink:href=\"#DejaVuSans-20\"/>\n       <use x=\"115.576172\" xlink:href=\"#DejaVuSans-32\"/>\n       <use x=\"179.199219\" xlink:href=\"#DejaVuSans-30\"/>\n       <use x=\"242.822266\" xlink:href=\"#DejaVuSans-30\"/>\n       <use x=\"306.445312\" xlink:href=\"#DejaVuSans-20\"/>\n       <use x=\"338.232422\" xlink:href=\"#DejaVuSans-6b\"/>\n       <use x=\"396.142578\" xlink:href=\"#DejaVuSans-6d\"/>\n      </g>\n     </g>\n    </g>\n    <g id=\"xtick_2\">\n     <g id=\"line2d_2\">\n      <g>\n       <use style=\"stroke:#000000;stroke-width:0.8;\" x=\"179.727153\" xlink:href=\"#m067e181d77\" y=\"224.64\"/>\n      </g>\n     </g>\n     <g id=\"text_2\">\n      <!-- 200 a 100 km -->\n      <g transform=\"translate(145.042778 239.238437)scale(0.1 -0.1)\">\n       <defs>\n        <path d=\"M 2194 1759 \nQ 1497 1759 1228 1600 \nQ 959 1441 959 1056 \nQ 959 750 1161 570 \nQ 1363 391 1709 391 \nQ 2188 391 2477 730 \nQ 2766 1069 2766 1631 \nL 2766 1759 \nL 2194 1759 \nz\nM 3341 1997 \nL 3341 0 \nL 2766 0 \nL 2766 531 \nQ 2569 213 2275 61 \nQ 1981 -91 1556 -91 \nQ 1019 -91 701 211 \nQ 384 513 384 1019 \nQ 384 1609 779 1909 \nQ 1175 2209 1959 2209 \nL 2766 2209 \nL 2766 2266 \nQ 2766 2663 2505 2880 \nQ 2244 3097 1772 3097 \nQ 1472 3097 1187 3025 \nQ 903 2953 641 2809 \nL 641 3341 \nQ 956 3463 1253 3523 \nQ 1550 3584 1831 3584 \nQ 2591 3584 2966 3190 \nQ 3341 2797 3341 1997 \nz\n\" id=\"DejaVuSans-61\" transform=\"scale(0.015625)\"/>\n        <path d=\"M 794 531 \nL 1825 531 \nL 1825 4091 \nL 703 3866 \nL 703 4441 \nL 1819 4666 \nL 2450 4666 \nL 2450 531 \nL 3481 531 \nL 3481 0 \nL 794 0 \nL 794 531 \nz\n\" id=\"DejaVuSans-31\" transform=\"scale(0.015625)\"/>\n       </defs>\n       <use xlink:href=\"#DejaVuSans-32\"/>\n       <use x=\"63.623047\" xlink:href=\"#DejaVuSans-30\"/>\n       <use x=\"127.246094\" xlink:href=\"#DejaVuSans-30\"/>\n       <use x=\"190.869141\" xlink:href=\"#DejaVuSans-20\"/>\n       <use x=\"222.65625\" xlink:href=\"#DejaVuSans-61\"/>\n       <use x=\"283.935547\" xlink:href=\"#DejaVuSans-20\"/>\n       <use x=\"315.722656\" xlink:href=\"#DejaVuSans-31\"/>\n       <use x=\"379.345703\" xlink:href=\"#DejaVuSans-30\"/>\n       <use x=\"442.96875\" xlink:href=\"#DejaVuSans-30\"/>\n       <use x=\"506.591797\" xlink:href=\"#DejaVuSans-20\"/>\n       <use x=\"538.378906\" xlink:href=\"#DejaVuSans-6b\"/>\n       <use x=\"596.289062\" xlink:href=\"#DejaVuSans-6d\"/>\n      </g>\n     </g>\n    </g>\n    <g id=\"xtick_3\">\n     <g id=\"line2d_3\">\n      <g>\n       <use style=\"stroke:#000000;stroke-width:0.8;\" x=\"259.822847\" xlink:href=\"#m067e181d77\" y=\"224.64\"/>\n      </g>\n     </g>\n     <g id=\"text_3\">\n      <!-- 100 a 50 km -->\n      <g transform=\"translate(228.319722 239.238437)scale(0.1 -0.1)\">\n       <defs>\n        <path d=\"M 691 4666 \nL 3169 4666 \nL 3169 4134 \nL 1269 4134 \nL 1269 2991 \nQ 1406 3038 1543 3061 \nQ 1681 3084 1819 3084 \nQ 2600 3084 3056 2656 \nQ 3513 2228 3513 1497 \nQ 3513 744 3044 326 \nQ 2575 -91 1722 -91 \nQ 1428 -91 1123 -41 \nQ 819 9 494 109 \nL 494 744 \nQ 775 591 1075 516 \nQ 1375 441 1709 441 \nQ 2250 441 2565 725 \nQ 2881 1009 2881 1497 \nQ 2881 1984 2565 2268 \nQ 2250 2553 1709 2553 \nQ 1456 2553 1204 2497 \nQ 953 2441 691 2322 \nL 691 4666 \nz\n\" id=\"DejaVuSans-35\" transform=\"scale(0.015625)\"/>\n       </defs>\n       <use xlink:href=\"#DejaVuSans-31\"/>\n       <use x=\"63.623047\" xlink:href=\"#DejaVuSans-30\"/>\n       <use x=\"127.246094\" xlink:href=\"#DejaVuSans-30\"/>\n       <use x=\"190.869141\" xlink:href=\"#DejaVuSans-20\"/>\n       <use x=\"222.65625\" xlink:href=\"#DejaVuSans-61\"/>\n       <use x=\"283.935547\" xlink:href=\"#DejaVuSans-20\"/>\n       <use x=\"315.722656\" xlink:href=\"#DejaVuSans-35\"/>\n       <use x=\"379.345703\" xlink:href=\"#DejaVuSans-30\"/>\n       <use x=\"442.96875\" xlink:href=\"#DejaVuSans-20\"/>\n       <use x=\"474.755859\" xlink:href=\"#DejaVuSans-6b\"/>\n       <use x=\"532.666016\" xlink:href=\"#DejaVuSans-6d\"/>\n      </g>\n     </g>\n    </g>\n    <g id=\"xtick_4\">\n     <g id=\"line2d_4\">\n      <g>\n       <use style=\"stroke:#000000;stroke-width:0.8;\" x=\"339.918541\" xlink:href=\"#m067e181d77\" y=\"224.64\"/>\n      </g>\n     </g>\n     <g id=\"text_4\">\n      <!--  &lt; 50 km -->\n      <g transform=\"translate(316.833384 239.238437)scale(0.1 -0.1)\">\n       <defs>\n        <path d=\"M 4684 3150 \nL 1459 2003 \nL 4684 863 \nL 4684 294 \nL 678 1747 \nL 678 2266 \nL 4684 3719 \nL 4684 3150 \nz\n\" id=\"DejaVuSans-3c\" transform=\"scale(0.015625)\"/>\n       </defs>\n       <use xlink:href=\"#DejaVuSans-20\"/>\n       <use x=\"31.787109\" xlink:href=\"#DejaVuSans-3c\"/>\n       <use x=\"115.576172\" xlink:href=\"#DejaVuSans-20\"/>\n       <use x=\"147.363281\" xlink:href=\"#DejaVuSans-35\"/>\n       <use x=\"210.986328\" xlink:href=\"#DejaVuSans-30\"/>\n       <use x=\"274.609375\" xlink:href=\"#DejaVuSans-20\"/>\n       <use x=\"306.396484\" xlink:href=\"#DejaVuSans-6b\"/>\n       <use x=\"364.306641\" xlink:href=\"#DejaVuSans-6d\"/>\n      </g>\n     </g>\n    </g>\n   </g>\n   <g id=\"matplotlib.axis_2\">\n    <g id=\"ytick_1\">\n     <g id=\"line2d_5\">\n      <defs>\n       <path d=\"M 0 0 \nL -3.5 0 \n\" id=\"m465eef774c\" style=\"stroke:#000000;stroke-width:0.8;\"/>\n      </defs>\n      <g>\n       <use style=\"stroke:#000000;stroke-width:0.8;\" x=\"52.375\" xlink:href=\"#m465eef774c\" y=\"224.64\"/>\n      </g>\n     </g>\n     <g id=\"text_5\">\n      <!-- 0 -->\n      <g transform=\"translate(39.0125 228.439219)scale(0.1 -0.1)\">\n       <use xlink:href=\"#DejaVuSans-30\"/>\n      </g>\n     </g>\n    </g>\n    <g id=\"ytick_2\">\n     <g id=\"line2d_6\">\n      <g>\n       <use style=\"stroke:#000000;stroke-width:0.8;\" x=\"52.375\" xlink:href=\"#m465eef774c\" y=\"184.732017\"/>\n      </g>\n     </g>\n     <g id=\"text_6\">\n      <!-- 50000 -->\n      <g transform=\"translate(13.5625 188.531236)scale(0.1 -0.1)\">\n       <use xlink:href=\"#DejaVuSans-35\"/>\n       <use x=\"63.623047\" xlink:href=\"#DejaVuSans-30\"/>\n       <use x=\"127.246094\" xlink:href=\"#DejaVuSans-30\"/>\n       <use x=\"190.869141\" xlink:href=\"#DejaVuSans-30\"/>\n       <use x=\"254.492188\" xlink:href=\"#DejaVuSans-30\"/>\n      </g>\n     </g>\n    </g>\n    <g id=\"ytick_3\">\n     <g id=\"line2d_7\">\n      <g>\n       <use style=\"stroke:#000000;stroke-width:0.8;\" x=\"52.375\" xlink:href=\"#m465eef774c\" y=\"144.824035\"/>\n      </g>\n     </g>\n     <g id=\"text_7\">\n      <!-- 100000 -->\n      <g transform=\"translate(7.2 148.623254)scale(0.1 -0.1)\">\n       <use xlink:href=\"#DejaVuSans-31\"/>\n       <use x=\"63.623047\" xlink:href=\"#DejaVuSans-30\"/>\n       <use x=\"127.246094\" xlink:href=\"#DejaVuSans-30\"/>\n       <use x=\"190.869141\" xlink:href=\"#DejaVuSans-30\"/>\n       <use x=\"254.492188\" xlink:href=\"#DejaVuSans-30\"/>\n       <use x=\"318.115234\" xlink:href=\"#DejaVuSans-30\"/>\n      </g>\n     </g>\n    </g>\n    <g id=\"ytick_4\">\n     <g id=\"line2d_8\">\n      <g>\n       <use style=\"stroke:#000000;stroke-width:0.8;\" x=\"52.375\" xlink:href=\"#m465eef774c\" y=\"104.916052\"/>\n      </g>\n     </g>\n     <g id=\"text_8\">\n      <!-- 150000 -->\n      <g transform=\"translate(7.2 108.715271)scale(0.1 -0.1)\">\n       <use xlink:href=\"#DejaVuSans-31\"/>\n       <use x=\"63.623047\" xlink:href=\"#DejaVuSans-35\"/>\n       <use x=\"127.246094\" xlink:href=\"#DejaVuSans-30\"/>\n       <use x=\"190.869141\" xlink:href=\"#DejaVuSans-30\"/>\n       <use x=\"254.492188\" xlink:href=\"#DejaVuSans-30\"/>\n       <use x=\"318.115234\" xlink:href=\"#DejaVuSans-30\"/>\n      </g>\n     </g>\n    </g>\n    <g id=\"ytick_5\">\n     <g id=\"line2d_9\">\n      <g>\n       <use style=\"stroke:#000000;stroke-width:0.8;\" x=\"52.375\" xlink:href=\"#m465eef774c\" y=\"65.00807\"/>\n      </g>\n     </g>\n     <g id=\"text_9\">\n      <!-- 200000 -->\n      <g transform=\"translate(7.2 68.807288)scale(0.1 -0.1)\">\n       <use xlink:href=\"#DejaVuSans-32\"/>\n       <use x=\"63.623047\" xlink:href=\"#DejaVuSans-30\"/>\n       <use x=\"127.246094\" xlink:href=\"#DejaVuSans-30\"/>\n       <use x=\"190.869141\" xlink:href=\"#DejaVuSans-30\"/>\n       <use x=\"254.492188\" xlink:href=\"#DejaVuSans-30\"/>\n       <use x=\"318.115234\" xlink:href=\"#DejaVuSans-30\"/>\n      </g>\n     </g>\n    </g>\n    <g id=\"ytick_6\">\n     <g id=\"line2d_10\">\n      <g>\n       <use style=\"stroke:#000000;stroke-width:0.8;\" x=\"52.375\" xlink:href=\"#m465eef774c\" y=\"25.100087\"/>\n      </g>\n     </g>\n     <g id=\"text_10\">\n      <!-- 250000 -->\n      <g transform=\"translate(7.2 28.899306)scale(0.1 -0.1)\">\n       <use xlink:href=\"#DejaVuSans-32\"/>\n       <use x=\"63.623047\" xlink:href=\"#DejaVuSans-35\"/>\n       <use x=\"127.246094\" xlink:href=\"#DejaVuSans-30\"/>\n       <use x=\"190.869141\" xlink:href=\"#DejaVuSans-30\"/>\n       <use x=\"254.492188\" xlink:href=\"#DejaVuSans-30\"/>\n       <use x=\"318.115234\" xlink:href=\"#DejaVuSans-30\"/>\n      </g>\n     </g>\n    </g>\n   </g>\n   <g id=\"patch_7\">\n    <path d=\"M 52.375 224.64 \nL 52.375 7.2 \n\" style=\"fill:none;stroke:#000000;stroke-linecap:square;stroke-linejoin:miter;stroke-width:0.8;\"/>\n   </g>\n   <g id=\"patch_8\">\n    <path d=\"M 387.175 224.64 \nL 387.175 7.2 \n\" style=\"fill:none;stroke:#000000;stroke-linecap:square;stroke-linejoin:miter;stroke-width:0.8;\"/>\n   </g>\n   <g id=\"patch_9\">\n    <path d=\"M 52.375 224.64 \nL 387.175 224.64 \n\" style=\"fill:none;stroke:#000000;stroke-linecap:square;stroke-linejoin:miter;stroke-width:0.8;\"/>\n   </g>\n   <g id=\"patch_10\">\n    <path d=\"M 52.375 7.2 \nL 387.175 7.2 \n\" style=\"fill:none;stroke:#000000;stroke-linecap:square;stroke-linejoin:miter;stroke-width:0.8;\"/>\n   </g>\n  </g>\n </g>\n <defs>\n  <clipPath id=\"pe34477583a\">\n   <rect height=\"217.44\" width=\"334.8\" x=\"52.375\" y=\"7.2\"/>\n  </clipPath>\n </defs>\n</svg>\n",
      "image/png": "[encoded data removed]"
     },
     "metadata": {
      "needs_background": "light"
     }
    }
   ],
   "source": [
    "x_pos = np.arange(4)\n",
    "\n",
    "# Create bars\n",
    "plt.bar(x_pos, conteo.values)\n",
    " \n",
    "# Create names on the x-axis\n",
    "labels =  ['> 200 km',\n",
    "'200 a 100 km',\n",
    "'100 a 50 km',\n",
    "' < 50 km']\n",
    "\n",
    "plt.xticks(x_pos, labels)\n",
    " \n",
    "# Show graphic\n",
    "plt.show()"
   ]
  },
  {
   "cell_type": "code",
   "execution_count": null,
   "metadata": {},
   "outputs": [],
   "source": []
  }
 ],
 "metadata": {
  "colab": {
   "authorship_tag": "ABX9TyPqKRw/9E1kHtowdnEFWwNz",
   "collapsed_sections": [],
   "include_colab_link": true,
   "name": "matriz_de_distancias_google.ipynb",
   "provenance": []
  },
  "kernelspec": {
   "name": "python392jvsc74a57bd05ce838cc175eb9c7ee2cce823ae805de6106cb4564d9fc7b3476b35fac8c9293",
   "display_name": "Python 3.9.2 64-bit ('tesis': conda)"
  },
  "language_info": {
   "codemirror_mode": {
    "name": "ipython",
    "version": 3
   },
   "file_extension": ".py",
   "mimetype": "text/x-python",
   "name": "python",
   "nbconvert_exporter": "python",
   "pygments_lexer": "ipython3",
   "version": "3.9.2"
  },
  "metadata": {
   "interpreter": {
    "hash": "5ce838cc175eb9c7ee2cce823ae805de6106cb4564d9fc7b3476b35fac8c9293"
   }
  }
 },
 "nbformat": 4,
 "nbformat_minor": 4
}