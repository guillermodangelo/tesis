{
 "cells": [
  {
   "cell_type": "code",
   "execution_count": 1,
   "metadata": {
    "colab": {},
    "colab_type": "code",
    "id": "DohGIvsxoyow"
   },
   "outputs": [],
   "source": [
    "import pandas as pd\n",
    "import geopandas as gpd\n",
    "import os\n",
    "import numpy as np\n",
    "import requests\n",
    "import urllib\n",
    "import json\n",
    "import getpass\n",
    "\n",
    "# funciones desarrolladas\n",
    "from functions.agrupar_dfs_censo import *\n",
    "from functions.cargar_data import *\n",
    "from functions.impresion import *"
   ]
  },
  {
   "cell_type": "markdown",
   "metadata": {},
   "source": [
    "# Matrices de distancias\n",
    "\n",
    "## Matriz de distancias entre centros medios de población de cada departamento"
   ]
  },
  {
   "cell_type": "code",
   "execution_count": 2,
   "metadata": {
    "colab": {
     "base_uri": "https://localhost:8080/",
     "height": 206
    },
    "colab_type": "code",
    "id": "bwq1O7ito73b",
    "outputId": "232bc175-354c-4559-9bd8-b17e2effcdc2"
   },
   "outputs": [
    {
     "output_type": "stream",
     "name": "stderr",
     "text": [
      "/home/guillermo/anaconda3/envs/tesis/lib/python3.9/site-packages/geopandas/geodataframe.py:577: RuntimeWarning: Sequential read of iterator was interrupted. Resetting iterator. This can negatively impact the performance.\n  for feature in features_lst:\n"
     ]
    },
    {
     "output_type": "execute_result",
     "data": {
      "text/plain": [
       "   DEPTO                        geometry\n",
       "0      1  POINT (575497.000 6141786.000)\n",
       "1      2  POINT (517717.000 6636093.000)\n",
       "2      3  POINT (587353.000 6159278.000)\n",
       "3      4  POINT (777711.000 6409999.000)\n",
       "4      5  POINT (431654.000 6211872.000)"
      ],
      "text/html": "<div>\n<style scoped>\n    .dataframe tbody tr th:only-of-type {\n        vertical-align: middle;\n    }\n\n    .dataframe tbody tr th {\n        vertical-align: top;\n    }\n\n    .dataframe thead th {\n        text-align: right;\n    }\n</style>\n<table border=\"1\" class=\"dataframe\">\n  <thead>\n    <tr style=\"text-align: right;\">\n      <th></th>\n      <th>DEPTO</th>\n      <th>geometry</th>\n    </tr>\n  </thead>\n  <tbody>\n    <tr>\n      <th>0</th>\n      <td>1</td>\n      <td>POINT (575497.000 6141786.000)</td>\n    </tr>\n    <tr>\n      <th>1</th>\n      <td>2</td>\n      <td>POINT (517717.000 6636093.000)</td>\n    </tr>\n    <tr>\n      <th>2</th>\n      <td>3</td>\n      <td>POINT (587353.000 6159278.000)</td>\n    </tr>\n    <tr>\n      <th>3</th>\n      <td>4</td>\n      <td>POINT (777711.000 6409999.000)</td>\n    </tr>\n    <tr>\n      <th>4</th>\n      <td>5</td>\n      <td>POINT (431654.000 6211872.000)</td>\n    </tr>\n  </tbody>\n</table>\n</div>"
     },
     "metadata": {},
     "execution_count": 2
    }
   ],
   "source": [
    "# carga capa de centros medios de población\n",
    "cp = gpd.read_file('capas/centro_poblacion.gpkg')\n",
    "\n",
    "cp.head()"
   ]
  },
  {
   "cell_type": "code",
   "execution_count": 3,
   "metadata": {},
   "outputs": [],
   "source": [
    "def reproyectar_dd(df):\n",
    "    \"Reproyecta coordenadas de DF para usar en Google Distance Matrix API\"\n",
    "    # obtiene coordenadas en EPSG 4326\n",
    "    lon = df.geometry.to_crs(epsg=4326).x\n",
    "    lat = df.geometry.to_crs(epsg=4326).y\n",
    "    df_repro = pd.concat( [ pd.DataFrame(list(lat), columns=['lat'] ), pd.DataFrame( list(lon), columns=['lon'] ) ], axis=1, sort=False)\n",
    "    # concatena en un sólo string\n",
    "    df_repro['latlon'] = df_repro.apply(lambda x:'%s,%s' % (x['lat'],x['lon']),axis=1)\n",
    "    # concatena ambos df\n",
    "    df_rep_concat = pd.concat([df, df_repro], axis=1, ignore_index=False)\n",
    "    return df_rep_concat"
   ]
  },
  {
   "cell_type": "code",
   "execution_count": 4,
   "metadata": {
    "colab": {
     "base_uri": "https://localhost:8080/",
     "height": 206
    },
    "colab_type": "code",
    "id": "7bLBFiJJpCgE",
    "outputId": "ef96caa2-0b59-4860-9492-f3a92009db21"
   },
   "outputs": [
    {
     "output_type": "execute_result",
     "data": {
      "text/plain": [
       "   DEPTO                        geometry        lat        lon  \\\n",
       "0      1  POINT (575497.000 6141786.000) -34.863473 -56.174030   \n",
       "1      2  POINT (517717.000 6636093.000) -30.407062 -56.815547   \n",
       "2      3  POINT (587353.000 6159278.000) -34.704806 -56.046153   \n",
       "3      4  POINT (777711.000 6409999.000) -32.412531 -54.047130   \n",
       "4      5  POINT (431654.000 6211872.000) -34.231989 -57.742109   \n",
       "\n",
       "                                   latlon  \n",
       "0   -34.86347311448007,-56.17403019571399  \n",
       "1  -30.407062416732213,-56.81554727891256  \n",
       "2   -34.70480623405611,-56.04615274218908  \n",
       "3  -32.412530637702794,-54.04713015664623  \n",
       "4   -34.23198949912197,-57.74210900659811  "
      ],
      "text/html": "<div>\n<style scoped>\n    .dataframe tbody tr th:only-of-type {\n        vertical-align: middle;\n    }\n\n    .dataframe tbody tr th {\n        vertical-align: top;\n    }\n\n    .dataframe thead th {\n        text-align: right;\n    }\n</style>\n<table border=\"1\" class=\"dataframe\">\n  <thead>\n    <tr style=\"text-align: right;\">\n      <th></th>\n      <th>DEPTO</th>\n      <th>geometry</th>\n      <th>lat</th>\n      <th>lon</th>\n      <th>latlon</th>\n    </tr>\n  </thead>\n  <tbody>\n    <tr>\n      <th>0</th>\n      <td>1</td>\n      <td>POINT (575497.000 6141786.000)</td>\n      <td>-34.863473</td>\n      <td>-56.174030</td>\n      <td>-34.86347311448007,-56.17403019571399</td>\n    </tr>\n    <tr>\n      <th>1</th>\n      <td>2</td>\n      <td>POINT (517717.000 6636093.000)</td>\n      <td>-30.407062</td>\n      <td>-56.815547</td>\n      <td>-30.407062416732213,-56.81554727891256</td>\n    </tr>\n    <tr>\n      <th>2</th>\n      <td>3</td>\n      <td>POINT (587353.000 6159278.000)</td>\n      <td>-34.704806</td>\n      <td>-56.046153</td>\n      <td>-34.70480623405611,-56.04615274218908</td>\n    </tr>\n    <tr>\n      <th>3</th>\n      <td>4</td>\n      <td>POINT (777711.000 6409999.000)</td>\n      <td>-32.412531</td>\n      <td>-54.047130</td>\n      <td>-32.412530637702794,-54.04713015664623</td>\n    </tr>\n    <tr>\n      <th>4</th>\n      <td>5</td>\n      <td>POINT (431654.000 6211872.000)</td>\n      <td>-34.231989</td>\n      <td>-57.742109</td>\n      <td>-34.23198949912197,-57.74210900659811</td>\n    </tr>\n  </tbody>\n</table>\n</div>"
     },
     "metadata": {},
     "execution_count": 4
    }
   ],
   "source": [
    "# aplica función\n",
    "df_cp = reproyectar_dd(cp)\n",
    "df_cp.head()"
   ]
  },
  {
   "cell_type": "code",
   "execution_count": 5,
   "metadata": {},
   "outputs": [],
   "source": [
    "def producto_cartesiano(df, variable):\n",
    "    \"Calcula el producto cartesiano del DF\"\n",
    "    df_coords = df[[variable, 'latlon']]\n",
    "    df_coords.insert(2, \"key\", 0, True)\n",
    "    df_pc = df_coords.merge(df_coords, on='key', how='outer').drop(columns='key')\n",
    "\n",
    "    dict_rename = {variable + '_x': 'cod_ori',\n",
    "                variable + '_y': 'cod_des',\n",
    "                'latlon_x': 'latlon_ori',\n",
    "                'latlon_y': 'latlon_des'}\n",
    "\n",
    "    df_pc.rename(columns=dict_rename, inplace=True)\n",
    "\n",
    "    # elimina misma cod origen-destino\n",
    "    df_pc = df_pc[df_pc['cod_ori'] != df_pc['cod_des']]\n",
    "\n",
    "    # concatena en un código de díada\n",
    "    df_pc['cod'] = (df_pc['cod_ori'].astype(str).str.zfill(2) + \n",
    "                    df_pc['cod_des'].astype(str).str.zfill(2)).astype('int')\n",
    "                    \n",
    "    return df_pc"
   ]
  },
  {
   "cell_type": "code",
   "execution_count": 6,
   "metadata": {},
   "outputs": [],
   "source": [
    "df_pc = producto_cartesiano(df_cp, 'DEPTO')"
   ]
  },
  {
   "cell_type": "code",
   "execution_count": 7,
   "metadata": {
    "colab": {},
    "colab_type": "code",
    "id": "3ZW7JJ9dpAQK"
   },
   "outputs": [],
   "source": [
    "# matriz de distancia entre capitales departamentales de departamentos\n",
    "def obtenerDist(ori, dest, API_KEY):\n",
    "    '''\n",
    "    Devuelve distancia en KM entre uno o varios pares de coordenadas\n",
    "    geográficas, utilizando la API de Google Distance Matrix.\n",
    "    '''\n",
    "    APIurl = \"\"\"https://maps.googleapis.com/maps/api/distancematrix/json?\n",
    "                units=metric&mode=walking&origins={}\n",
    "                &destinations={}&key={}\"\"\".format(ori, dest, API_KEY)\n",
    "    \n",
    "    # Obtener la respuesta y cargar la representacion en un string\n",
    "    response = requests.get(APIurl)\n",
    "    geodataString = response.text\n",
    "    geodata = json.loads(geodataString)\n",
    "    # si la API no devulve resultados, la distancia será 'None'\n",
    "    if geodata['rows'][0]['elements'][0]['status']=='ZERO_RESULTS':\n",
    "        distancia = None\n",
    "    else:\n",
    "        distancia = geodata['rows'][0]['elements'][0]['distance']['value']\n",
    "    return distancia"
   ]
  },
  {
   "cell_type": "code",
   "execution_count": 15,
   "metadata": {
    "colab": {
     "base_uri": "https://localhost:8080/",
     "height": 161
    },
    "colab_type": "code",
    "id": "flK1eF9fqdMv",
    "outputId": "c9f30d3e-981e-42f0-86b7-1164bb4fff13"
   },
   "outputs": [
    {
     "name": "stdin",
     "output_type": "stream",
     "text": [
      " ·······································\n"
     ]
    },
    {
     "name": "stdout",
     "output_type": "stream",
     "text": [
      "342\n"
     ]
    },
    {
     "data": {
      "text/html": [
       "<div>\n",
       "<style scoped>\n",
       "    .dataframe tbody tr th:only-of-type {\n",
       "        vertical-align: middle;\n",
       "    }\n",
       "\n",
       "    .dataframe tbody tr th {\n",
       "        vertical-align: top;\n",
       "    }\n",
       "\n",
       "    .dataframe thead th {\n",
       "        text-align: right;\n",
       "    }\n",
       "</style>\n",
       "<table border=\"1\" class=\"dataframe\">\n",
       "  <thead>\n",
       "    <tr style=\"text-align: right;\">\n",
       "      <th></th>\n",
       "      <th>cod_ori</th>\n",
       "      <th>latlon_ori</th>\n",
       "      <th>cod_des</th>\n",
       "      <th>latlon_des</th>\n",
       "      <th>cod</th>\n",
       "    </tr>\n",
       "  </thead>\n",
       "  <tbody>\n",
       "    <tr>\n",
       "      <th>0</th>\n",
       "      <td>1</td>\n",
       "      <td>-34.86347311448007,-56.17403019571399</td>\n",
       "      <td>2</td>\n",
       "      <td>-30.407062416732217,-56.81554727891256</td>\n",
       "      <td>102</td>\n",
       "    </tr>\n",
       "    <tr>\n",
       "      <th>1</th>\n",
       "      <td>1</td>\n",
       "      <td>-34.86347311448007,-56.17403019571399</td>\n",
       "      <td>3</td>\n",
       "      <td>-34.70480623405611,-56.04615274218908</td>\n",
       "      <td>103</td>\n",
       "    </tr>\n",
       "    <tr>\n",
       "      <th>2</th>\n",
       "      <td>1</td>\n",
       "      <td>-34.86347311448007,-56.17403019571399</td>\n",
       "      <td>4</td>\n",
       "      <td>-32.412530637702794,-54.04713015664623</td>\n",
       "      <td>104</td>\n",
       "    </tr>\n",
       "  </tbody>\n",
       "</table>\n",
       "</div>"
      ],
      "text/plain": [
       "   cod_ori                             latlon_ori  cod_des  \\\n",
       "0        1  -34.86347311448007,-56.17403019571399        2   \n",
       "1        1  -34.86347311448007,-56.17403019571399        3   \n",
       "2        1  -34.86347311448007,-56.17403019571399        4   \n",
       "\n",
       "                               latlon_des  cod  \n",
       "0  -30.407062416732217,-56.81554727891256  102  \n",
       "1   -34.70480623405611,-56.04615274218908  103  \n",
       "2  -32.412530637702794,-54.04713015664623  104  "
      ]
     },
     "execution_count": 15,
     "metadata": {},
     "output_type": "execute_result"
    }
   ],
   "source": [
    "# setea la API KEY\n",
    "API_KEY = getpass.getpass()\n",
    "\n",
    "# ordena y resetea el índice\n",
    "df_pc.sort_values(by=['cod_ori', 'cod_des'], inplace=True)\n",
    "df_pc.reset_index(drop=True, inplace=True)\n",
    "\n",
    "print(df_pc.shape[0])\n",
    "df_pc.head(3)"
   ]
  },
  {
   "cell_type": "code",
   "execution_count": 16,
   "metadata": {},
   "outputs": [
    {
     "data": {
      "text/plain": [
       "342"
      ]
     },
     "execution_count": 16,
     "metadata": {},
     "output_type": "execute_result"
    }
   ],
   "source": [
    "df_pc.shape[0]"
   ]
  },
  {
   "cell_type": "code",
   "execution_count": 29,
   "metadata": {},
   "outputs": [
    {
     "data": {
      "text/plain": [
       "198970"
      ]
     },
     "execution_count": 29,
     "metadata": {},
     "output_type": "execute_result"
    }
   ],
   "source": [
    "# prueba con 1 caso\n",
    "obtenerDist( df_pc.latlon_ori[4] , df_pc.latlon_des[4] , API_KEY)"
   ]
  },
  {
   "cell_type": "code",
   "execution_count": 18,
   "metadata": {
    "colab": {},
    "colab_type": "code",
    "id": "2pBcwTTEqhSC"
   },
   "outputs": [],
   "source": [
    "# son 342 díadas de centros de población\n",
    "# for loop para obtener una lista con las distancias entre cp\n",
    "# aplica la función obtenerDistancia para combinaciones de cp\n",
    "n_iter = df_pc.shape[0]\n",
    "distancias = [obtenerDist(df_pc.latlon_ori[x] , df_pc.latlon_des[x] , API_KEY) for x in range(n_iter)]"
   ]
  },
  {
   "cell_type": "code",
   "execution_count": 20,
   "metadata": {
    "colab": {
     "base_uri": "https://localhost:8080/",
     "height": 52
    },
    "colab_type": "code",
    "id": "OEFgtRqhrmuk",
    "outputId": "783dec93-e4fa-4a8f-f726-e6901299aac6"
   },
   "outputs": [
    {
     "name": "stdout",
     "output_type": "stream",
     "text": [
      "342\n"
     ]
    }
   ],
   "source": [
    "print(len(distancias))"
   ]
  },
  {
   "cell_type": "code",
   "execution_count": 28,
   "metadata": {},
   "outputs": [
    {
     "data": {
      "text/html": [
       "<div>\n",
       "<style scoped>\n",
       "    .dataframe tbody tr th:only-of-type {\n",
       "        vertical-align: middle;\n",
       "    }\n",
       "\n",
       "    .dataframe tbody tr th {\n",
       "        vertical-align: top;\n",
       "    }\n",
       "\n",
       "    .dataframe thead th {\n",
       "        text-align: right;\n",
       "    }\n",
       "</style>\n",
       "<table border=\"1\" class=\"dataframe\">\n",
       "  <thead>\n",
       "    <tr style=\"text-align: right;\">\n",
       "      <th></th>\n",
       "      <th>cod_ori</th>\n",
       "      <th>latlon_ori</th>\n",
       "      <th>cod_des</th>\n",
       "      <th>latlon_des</th>\n",
       "      <th>cod</th>\n",
       "      <th>distancia</th>\n",
       "    </tr>\n",
       "  </thead>\n",
       "  <tbody>\n",
       "    <tr>\n",
       "      <th>0</th>\n",
       "      <td>1</td>\n",
       "      <td>-34.86347311448007,-56.17403019571399</td>\n",
       "      <td>2</td>\n",
       "      <td>-30.407062416732217,-56.81554727891256</td>\n",
       "      <td>102</td>\n",
       "      <td>610726</td>\n",
       "    </tr>\n",
       "    <tr>\n",
       "      <th>1</th>\n",
       "      <td>1</td>\n",
       "      <td>-34.86347311448007,-56.17403019571399</td>\n",
       "      <td>3</td>\n",
       "      <td>-34.70480623405611,-56.04615274218908</td>\n",
       "      <td>103</td>\n",
       "      <td>22544</td>\n",
       "    </tr>\n",
       "    <tr>\n",
       "      <th>2</th>\n",
       "      <td>1</td>\n",
       "      <td>-34.86347311448007,-56.17403019571399</td>\n",
       "      <td>4</td>\n",
       "      <td>-32.412530637702794,-54.04713015664623</td>\n",
       "      <td>104</td>\n",
       "      <td>393703</td>\n",
       "    </tr>\n",
       "    <tr>\n",
       "      <th>3</th>\n",
       "      <td>1</td>\n",
       "      <td>-34.86347311448007,-56.17403019571399</td>\n",
       "      <td>5</td>\n",
       "      <td>-34.23198949912197,-57.74210900659811</td>\n",
       "      <td>105</td>\n",
       "      <td>172773</td>\n",
       "    </tr>\n",
       "    <tr>\n",
       "      <th>4</th>\n",
       "      <td>1</td>\n",
       "      <td>-34.86347311448007,-56.17403019571399</td>\n",
       "      <td>6</td>\n",
       "      <td>-33.29103587835989,-56.27098299307005</td>\n",
       "      <td>106</td>\n",
       "      <td>198970</td>\n",
       "    </tr>\n",
       "  </tbody>\n",
       "</table>\n",
       "</div>"
      ],
      "text/plain": [
       "   cod_ori                             latlon_ori  cod_des  \\\n",
       "0        1  -34.86347311448007,-56.17403019571399        2   \n",
       "1        1  -34.86347311448007,-56.17403019571399        3   \n",
       "2        1  -34.86347311448007,-56.17403019571399        4   \n",
       "3        1  -34.86347311448007,-56.17403019571399        5   \n",
       "4        1  -34.86347311448007,-56.17403019571399        6   \n",
       "\n",
       "                               latlon_des  cod  distancia  \n",
       "0  -30.407062416732217,-56.81554727891256  102     610726  \n",
       "1   -34.70480623405611,-56.04615274218908  103      22544  \n",
       "2  -32.412530637702794,-54.04713015664623  104     393703  \n",
       "3   -34.23198949912197,-57.74210900659811  105     172773  \n",
       "4   -33.29103587835989,-56.27098299307005  106     198970  "
      ]
     },
     "execution_count": 28,
     "metadata": {},
     "output_type": "execute_result"
    }
   ],
   "source": [
    "dist_series = pd.Series(distancias)\n",
    "df_pc['distancia'] = dist_series.values\n",
    "df_pc.head()"
   ]
  },
  {
   "cell_type": "code",
   "execution_count": 30,
   "metadata": {},
   "outputs": [],
   "source": [
    "# guarda\n",
    "df_pc.to_csv('tablas/df_distancias_centro_poblacion.csv', index=False)"
   ]
  },
  {
   "source": [
    "## Matriz de distancias entre localidades"
   ],
   "cell_type": "markdown",
   "metadata": {}
  },
  {
   "cell_type": "code",
   "execution_count": 8,
   "metadata": {},
   "outputs": [
    {
     "output_type": "stream",
     "name": "stderr",
     "text": [
      "/home/guillermo/anaconda3/envs/tesis/lib/python3.9/site-packages/geopandas/geodataframe.py:577: RuntimeWarning: Sequential read of iterator was interrupted. Resetting iterator. This can negatively impact the performance.\n  for feature in features_lst:\n"
     ]
    },
    {
     "output_type": "execute_result",
     "data": {
      "text/plain": [
       "   CODLOC                        geometry\n",
       "0    2220  POINT (549273.219 6633915.063)\n",
       "1    2521  POINT (442454.671 6652273.541)\n",
       "2    2522  POINT (457921.001 6633361.660)\n",
       "3    2621  POINT (468458.270 6601361.867)\n",
       "4    2721  POINT (502880.928 6648162.053)"
      ],
      "text/html": "<div>\n<style scoped>\n    .dataframe tbody tr th:only-of-type {\n        vertical-align: middle;\n    }\n\n    .dataframe tbody tr th {\n        vertical-align: top;\n    }\n\n    .dataframe thead th {\n        text-align: right;\n    }\n</style>\n<table border=\"1\" class=\"dataframe\">\n  <thead>\n    <tr style=\"text-align: right;\">\n      <th></th>\n      <th>CODLOC</th>\n      <th>geometry</th>\n    </tr>\n  </thead>\n  <tbody>\n    <tr>\n      <th>0</th>\n      <td>2220</td>\n      <td>POINT (549273.219 6633915.063)</td>\n    </tr>\n    <tr>\n      <th>1</th>\n      <td>2521</td>\n      <td>POINT (442454.671 6652273.541)</td>\n    </tr>\n    <tr>\n      <th>2</th>\n      <td>2522</td>\n      <td>POINT (457921.001 6633361.660)</td>\n    </tr>\n    <tr>\n      <th>3</th>\n      <td>2621</td>\n      <td>POINT (468458.270 6601361.867)</td>\n    </tr>\n    <tr>\n      <th>4</th>\n      <td>2721</td>\n      <td>POINT (502880.928 6648162.053)</td>\n    </tr>\n  </tbody>\n</table>\n</div>"
     },
     "metadata": {},
     "execution_count": 8
    }
   ],
   "source": [
    "locs = cargar_datos_geo()[2][['CODLOC', 'geometry']]\n",
    "locs.head()"
   ]
  },
  {
   "cell_type": "code",
   "execution_count": 9,
   "metadata": {},
   "outputs": [
    {
     "output_type": "execute_result",
     "data": {
      "text/plain": [
       "   CODLOC                        geometry        lat        lon  \\\n",
       "0    2220  POINT (549273.219 6633915.063) -30.425838 -56.486918   \n",
       "1    2521  POINT (442454.671 6652273.541) -30.259811 -57.598207   \n",
       "2    2522  POINT (457921.001 6633361.660) -30.431105 -57.438193   \n",
       "3    2621  POINT (468458.270 6601361.867) -30.720183 -57.329438   \n",
       "4    2721  POINT (502880.928 6648162.053) -30.298277 -56.970040   \n",
       "\n",
       "                                    latlon  \n",
       "0   -30.425838214197817,-56.48691836714405  \n",
       "1    -30.25981089095717,-57.59820712208474  \n",
       "2    -30.4311049027931,-57.438192602981864  \n",
       "3   -30.720182604693377,-57.32943841744266  \n",
       "4  -30.298276594314746,-56.970039630361384  "
      ],
      "text/html": "<div>\n<style scoped>\n    .dataframe tbody tr th:only-of-type {\n        vertical-align: middle;\n    }\n\n    .dataframe tbody tr th {\n        vertical-align: top;\n    }\n\n    .dataframe thead th {\n        text-align: right;\n    }\n</style>\n<table border=\"1\" class=\"dataframe\">\n  <thead>\n    <tr style=\"text-align: right;\">\n      <th></th>\n      <th>CODLOC</th>\n      <th>geometry</th>\n      <th>lat</th>\n      <th>lon</th>\n      <th>latlon</th>\n    </tr>\n  </thead>\n  <tbody>\n    <tr>\n      <th>0</th>\n      <td>2220</td>\n      <td>POINT (549273.219 6633915.063)</td>\n      <td>-30.425838</td>\n      <td>-56.486918</td>\n      <td>-30.425838214197817,-56.48691836714405</td>\n    </tr>\n    <tr>\n      <th>1</th>\n      <td>2521</td>\n      <td>POINT (442454.671 6652273.541)</td>\n      <td>-30.259811</td>\n      <td>-57.598207</td>\n      <td>-30.25981089095717,-57.59820712208474</td>\n    </tr>\n    <tr>\n      <th>2</th>\n      <td>2522</td>\n      <td>POINT (457921.001 6633361.660)</td>\n      <td>-30.431105</td>\n      <td>-57.438193</td>\n      <td>-30.4311049027931,-57.438192602981864</td>\n    </tr>\n    <tr>\n      <th>3</th>\n      <td>2621</td>\n      <td>POINT (468458.270 6601361.867)</td>\n      <td>-30.720183</td>\n      <td>-57.329438</td>\n      <td>-30.720182604693377,-57.32943841744266</td>\n    </tr>\n    <tr>\n      <th>4</th>\n      <td>2721</td>\n      <td>POINT (502880.928 6648162.053)</td>\n      <td>-30.298277</td>\n      <td>-56.970040</td>\n      <td>-30.298276594314746,-56.970039630361384</td>\n    </tr>\n  </tbody>\n</table>\n</div>"
     },
     "metadata": {},
     "execution_count": 9
    }
   ],
   "source": [
    "locs_rep = reproyectar_dd(locs)\n",
    "locs_rep.head()"
   ]
  },
  {
   "cell_type": "code",
   "execution_count": 78,
   "metadata": {},
   "outputs": [
    {
     "output_type": "stream",
     "name": "stdout",
     "text": [
      "377610\n377610\n"
     ]
    },
    {
     "output_type": "execute_result",
     "data": {
      "text/plain": [
       "         index  cod_ori                              latlon_ori  cod_des  \\\n",
       "377605  378219     1020  -34.83459368462574,-56.200727322283996    19967   \n",
       "377606  378220     1020  -34.83459368462574,-56.200727322283996    19968   \n",
       "377607  378221     1020  -34.83459368462574,-56.200727322283996    19969   \n",
       "377608  378222     1020  -34.83459368462574,-56.200727322283996    19970   \n",
       "377609  378223     1020  -34.83459368462574,-56.200727322283996    19971   \n",
       "\n",
       "                                     latlon_des        cod  \n",
       "377605     -32.9586806453632,-53.63484585782342  102019967  \n",
       "377606  -33.253755207984504,-53.903051141953384  102019968  \n",
       "377607  -32.802391501575336,-53.414203834448486  102019969  \n",
       "377608    -33.12425161662233,-54.05902035385788  102019970  \n",
       "377609   -32.86300103282358,-53.617689715872686  102019971  "
      ],
      "text/html": "<div>\n<style scoped>\n    .dataframe tbody tr th:only-of-type {\n        vertical-align: middle;\n    }\n\n    .dataframe tbody tr th {\n        vertical-align: top;\n    }\n\n    .dataframe thead th {\n        text-align: right;\n    }\n</style>\n<table border=\"1\" class=\"dataframe\">\n  <thead>\n    <tr style=\"text-align: right;\">\n      <th></th>\n      <th>index</th>\n      <th>cod_ori</th>\n      <th>latlon_ori</th>\n      <th>cod_des</th>\n      <th>latlon_des</th>\n      <th>cod</th>\n    </tr>\n  </thead>\n  <tbody>\n    <tr>\n      <th>377605</th>\n      <td>378219</td>\n      <td>1020</td>\n      <td>-34.83459368462574,-56.200727322283996</td>\n      <td>19967</td>\n      <td>-32.9586806453632,-53.63484585782342</td>\n      <td>102019967</td>\n    </tr>\n    <tr>\n      <th>377606</th>\n      <td>378220</td>\n      <td>1020</td>\n      <td>-34.83459368462574,-56.200727322283996</td>\n      <td>19968</td>\n      <td>-33.253755207984504,-53.903051141953384</td>\n      <td>102019968</td>\n    </tr>\n    <tr>\n      <th>377607</th>\n      <td>378221</td>\n      <td>1020</td>\n      <td>-34.83459368462574,-56.200727322283996</td>\n      <td>19969</td>\n      <td>-32.802391501575336,-53.414203834448486</td>\n      <td>102019969</td>\n    </tr>\n    <tr>\n      <th>377608</th>\n      <td>378222</td>\n      <td>1020</td>\n      <td>-34.83459368462574,-56.200727322283996</td>\n      <td>19970</td>\n      <td>-33.12425161662233,-54.05902035385788</td>\n      <td>102019970</td>\n    </tr>\n    <tr>\n      <th>377609</th>\n      <td>378223</td>\n      <td>1020</td>\n      <td>-34.83459368462574,-56.200727322283996</td>\n      <td>19971</td>\n      <td>-32.86300103282358,-53.617689715872686</td>\n      <td>102019971</td>\n    </tr>\n  </tbody>\n</table>\n</div>"
     },
     "metadata": {},
     "execution_count": 78
    }
   ],
   "source": [
    "locs_pc = producto_cartesiano(locs_rep, 'CODLOC').reset_index()\n",
    "print(locs_pc.shape[0])\n",
    "print(len(locs_pc.cod.unique()))\n",
    "locs_pc.tail()"
   ]
  },
  {
   "cell_type": "code",
   "execution_count": 82,
   "metadata": {},
   "outputs": [
    {
     "output_type": "stream",
     "name": "stdout",
     "text": [
      "376382\n376382\n"
     ]
    },
    {
     "output_type": "execute_result",
     "data": {
      "text/plain": [
       "        cod  distancia_m\n",
       "0  10203835        21639\n",
       "1  10203727        20792"
      ],
      "text/html": "<div>\n<style scoped>\n    .dataframe tbody tr th:only-of-type {\n        vertical-align: middle;\n    }\n\n    .dataframe tbody tr th {\n        vertical-align: top;\n    }\n\n    .dataframe thead th {\n        text-align: right;\n    }\n</style>\n<table border=\"1\" class=\"dataframe\">\n  <thead>\n    <tr style=\"text-align: right;\">\n      <th></th>\n      <th>cod</th>\n      <th>distancia_m</th>\n    </tr>\n  </thead>\n  <tbody>\n    <tr>\n      <th>0</th>\n      <td>10203835</td>\n      <td>21639</td>\n    </tr>\n    <tr>\n      <th>1</th>\n      <td>10203727</td>\n      <td>20792</td>\n    </tr>\n  </tbody>\n</table>\n</div>"
     },
     "metadata": {},
     "execution_count": 82
    }
   ],
   "source": [
    "# carga distancias entre localidades, precalculadas por pgRouting\n",
    "distancias_pgr = pd.read_csv('tablas/df_distancias_localidades_pgrouting.csv', sep=';').drop_duplicates('cod')\n",
    "print(distancias_pgr.shape[0])\n",
    "print(len(distancias_pgr.cod.unique()))\n",
    "distancias_pgr.head(2)"
   ]
  },
  {
   "cell_type": "code",
   "execution_count": 83,
   "metadata": {},
   "outputs": [
    {
     "output_type": "execute_result",
     "data": {
      "text/plain": [
       "   index  cod_ori                              latlon_ori  cod_des  \\\n",
       "0      1     2220  -30.425838214197817,-56.48691836714405     2521   \n",
       "1      2     2220  -30.425838214197817,-56.48691836714405     2522   \n",
       "2      3     2220  -30.425838214197817,-56.48691836714405     2621   \n",
       "3      4     2220  -30.425838214197817,-56.48691836714405     2721   \n",
       "4      5     2220  -30.425838214197817,-56.48691836714405     2724   \n",
       "\n",
       "                                latlon_des       cod  distancia_m _merge  \n",
       "0    -30.25981089095717,-57.59820712208474  22202521     137927.0   both  \n",
       "1    -30.4311049027931,-57.438192602981864  22202522     111408.0   both  \n",
       "2   -30.720182604693377,-57.32943841744266  22202621     106867.0   both  \n",
       "3  -30.298276594314746,-56.970039630361384  22202721      58392.0   both  \n",
       "4   -30.212907501181586,-57.60354994479026  22202724     142223.0   both  "
      ],
      "text/html": "<div>\n<style scoped>\n    .dataframe tbody tr th:only-of-type {\n        vertical-align: middle;\n    }\n\n    .dataframe tbody tr th {\n        vertical-align: top;\n    }\n\n    .dataframe thead th {\n        text-align: right;\n    }\n</style>\n<table border=\"1\" class=\"dataframe\">\n  <thead>\n    <tr style=\"text-align: right;\">\n      <th></th>\n      <th>index</th>\n      <th>cod_ori</th>\n      <th>latlon_ori</th>\n      <th>cod_des</th>\n      <th>latlon_des</th>\n      <th>cod</th>\n      <th>distancia_m</th>\n      <th>_merge</th>\n    </tr>\n  </thead>\n  <tbody>\n    <tr>\n      <th>0</th>\n      <td>1</td>\n      <td>2220</td>\n      <td>-30.425838214197817,-56.48691836714405</td>\n      <td>2521</td>\n      <td>-30.25981089095717,-57.59820712208474</td>\n      <td>22202521</td>\n      <td>137927.0</td>\n      <td>both</td>\n    </tr>\n    <tr>\n      <th>1</th>\n      <td>2</td>\n      <td>2220</td>\n      <td>-30.425838214197817,-56.48691836714405</td>\n      <td>2522</td>\n      <td>-30.4311049027931,-57.438192602981864</td>\n      <td>22202522</td>\n      <td>111408.0</td>\n      <td>both</td>\n    </tr>\n    <tr>\n      <th>2</th>\n      <td>3</td>\n      <td>2220</td>\n      <td>-30.425838214197817,-56.48691836714405</td>\n      <td>2621</td>\n      <td>-30.720182604693377,-57.32943841744266</td>\n      <td>22202621</td>\n      <td>106867.0</td>\n      <td>both</td>\n    </tr>\n    <tr>\n      <th>3</th>\n      <td>4</td>\n      <td>2220</td>\n      <td>-30.425838214197817,-56.48691836714405</td>\n      <td>2721</td>\n      <td>-30.298276594314746,-56.970039630361384</td>\n      <td>22202721</td>\n      <td>58392.0</td>\n      <td>both</td>\n    </tr>\n    <tr>\n      <th>4</th>\n      <td>5</td>\n      <td>2220</td>\n      <td>-30.425838214197817,-56.48691836714405</td>\n      <td>2724</td>\n      <td>-30.212907501181586,-57.60354994479026</td>\n      <td>22202724</td>\n      <td>142223.0</td>\n      <td>both</td>\n    </tr>\n  </tbody>\n</table>\n</div>"
     },
     "metadata": {},
     "execution_count": 83
    }
   ],
   "source": [
    "locs_pc_dist = pd.merge(locs_pc, distancias_pgr, how='left', on='cod', indicator=True)\n",
    "locs_pc_dist.head()"
   ]
  },
  {
   "cell_type": "code",
   "execution_count": 84,
   "metadata": {},
   "outputs": [
    {
     "output_type": "execute_result",
     "data": {
      "text/plain": [
       "_merge\n",
       "left_only       1228\n",
       "right_only         0\n",
       "both          376382\n",
       "dtype: int64"
      ]
     },
     "metadata": {},
     "execution_count": 84
    }
   ],
   "source": [
    "locs_pc_dist.groupby('_merge').size()"
   ]
  },
  {
   "cell_type": "code",
   "execution_count": 85,
   "metadata": {},
   "outputs": [
    {
     "output_type": "execute_result",
     "data": {
      "text/plain": [
       "377610"
      ]
     },
     "metadata": {},
     "execution_count": 85
    }
   ],
   "source": [
    "376382 + 1228"
   ]
  },
  {
   "cell_type": "code",
   "execution_count": 105,
   "metadata": {},
   "outputs": [
    {
     "output_type": "execute_result",
     "data": {
      "text/plain": [
       "(377610, 8)"
      ]
     },
     "metadata": {},
     "execution_count": 105
    }
   ],
   "source": [
    "locs_pc_dist.shape"
   ]
  },
  {
   "cell_type": "code",
   "execution_count": 104,
   "metadata": {},
   "outputs": [
    {
     "output_type": "execute_result",
     "data": {
      "text/plain": [
       "   index  cod_ori                              latlon_ori  cod_des  \\\n",
       "0      1     2220  -30.425838214197817,-56.48691836714405     2521   \n",
       "1      2     2220  -30.425838214197817,-56.48691836714405     2522   \n",
       "2      3     2220  -30.425838214197817,-56.48691836714405     2621   \n",
       "3      4     2220  -30.425838214197817,-56.48691836714405     2721   \n",
       "4      5     2220  -30.425838214197817,-56.48691836714405     2724   \n",
       "\n",
       "                                latlon_des       cod  distancia_m _merge  \n",
       "0    -30.25981089095717,-57.59820712208474  22202521     137927.0   both  \n",
       "1    -30.4311049027931,-57.438192602981864  22202522     111408.0   both  \n",
       "2   -30.720182604693377,-57.32943841744266  22202621     106867.0   both  \n",
       "3  -30.298276594314746,-56.970039630361384  22202721      58392.0   both  \n",
       "4   -30.212907501181586,-57.60354994479026  22202724     142223.0   both  "
      ],
      "text/html": "<div>\n<style scoped>\n    .dataframe tbody tr th:only-of-type {\n        vertical-align: middle;\n    }\n\n    .dataframe tbody tr th {\n        vertical-align: top;\n    }\n\n    .dataframe thead th {\n        text-align: right;\n    }\n</style>\n<table border=\"1\" class=\"dataframe\">\n  <thead>\n    <tr style=\"text-align: right;\">\n      <th></th>\n      <th>index</th>\n      <th>cod_ori</th>\n      <th>latlon_ori</th>\n      <th>cod_des</th>\n      <th>latlon_des</th>\n      <th>cod</th>\n      <th>distancia_m</th>\n      <th>_merge</th>\n    </tr>\n  </thead>\n  <tbody>\n    <tr>\n      <th>0</th>\n      <td>1</td>\n      <td>2220</td>\n      <td>-30.425838214197817,-56.48691836714405</td>\n      <td>2521</td>\n      <td>-30.25981089095717,-57.59820712208474</td>\n      <td>22202521</td>\n      <td>137927.0</td>\n      <td>both</td>\n    </tr>\n    <tr>\n      <th>1</th>\n      <td>2</td>\n      <td>2220</td>\n      <td>-30.425838214197817,-56.48691836714405</td>\n      <td>2522</td>\n      <td>-30.4311049027931,-57.438192602981864</td>\n      <td>22202522</td>\n      <td>111408.0</td>\n      <td>both</td>\n    </tr>\n    <tr>\n      <th>2</th>\n      <td>3</td>\n      <td>2220</td>\n      <td>-30.425838214197817,-56.48691836714405</td>\n      <td>2621</td>\n      <td>-30.720182604693377,-57.32943841744266</td>\n      <td>22202621</td>\n      <td>106867.0</td>\n      <td>both</td>\n    </tr>\n    <tr>\n      <th>3</th>\n      <td>4</td>\n      <td>2220</td>\n      <td>-30.425838214197817,-56.48691836714405</td>\n      <td>2721</td>\n      <td>-30.298276594314746,-56.970039630361384</td>\n      <td>22202721</td>\n      <td>58392.0</td>\n      <td>both</td>\n    </tr>\n    <tr>\n      <th>4</th>\n      <td>5</td>\n      <td>2220</td>\n      <td>-30.425838214197817,-56.48691836714405</td>\n      <td>2724</td>\n      <td>-30.212907501181586,-57.60354994479026</td>\n      <td>22202724</td>\n      <td>142223.0</td>\n      <td>both</td>\n    </tr>\n  </tbody>\n</table>\n</div>"
     },
     "metadata": {},
     "execution_count": 104
    }
   ],
   "source": [
    "locs_pc_dist.head()"
   ]
  },
  {
   "cell_type": "code",
   "execution_count": 15,
   "metadata": {},
   "outputs": [
    {
     "output_type": "execute_result",
     "data": {
      "text/plain": [
       "      cod_ori                               latlon_ori  cod_des  \\\n",
       "605      2220   -30.425838214197817,-56.48691836714405    19964   \n",
       "1219     2521    -30.25981089095717,-57.59820712208474    19964   \n",
       "1833     2522    -30.4311049027931,-57.438192602981864    19964   \n",
       "2447     2621   -30.720182604693377,-57.32943841744266    19964   \n",
       "3061     2721  -30.298276594314746,-56.970039630361384    19964   \n",
       "\n",
       "                                  latlon_des        cod  \n",
       "605   -32.831506840233985,-53.38397111012659  222019964  \n",
       "1219  -32.831506840233985,-53.38397111012659  252119964  \n",
       "1833  -32.831506840233985,-53.38397111012659  252219964  \n",
       "2447  -32.831506840233985,-53.38397111012659  262119964  \n",
       "3061  -32.831506840233985,-53.38397111012659  272119964  "
      ],
      "text/html": "<div>\n<style scoped>\n    .dataframe tbody tr th:only-of-type {\n        vertical-align: middle;\n    }\n\n    .dataframe tbody tr th {\n        vertical-align: top;\n    }\n\n    .dataframe thead th {\n        text-align: right;\n    }\n</style>\n<table border=\"1\" class=\"dataframe\">\n  <thead>\n    <tr style=\"text-align: right;\">\n      <th></th>\n      <th>cod_ori</th>\n      <th>latlon_ori</th>\n      <th>cod_des</th>\n      <th>latlon_des</th>\n      <th>cod</th>\n    </tr>\n  </thead>\n  <tbody>\n    <tr>\n      <th>605</th>\n      <td>2220</td>\n      <td>-30.425838214197817,-56.48691836714405</td>\n      <td>19964</td>\n      <td>-32.831506840233985,-53.38397111012659</td>\n      <td>222019964</td>\n    </tr>\n    <tr>\n      <th>1219</th>\n      <td>2521</td>\n      <td>-30.25981089095717,-57.59820712208474</td>\n      <td>19964</td>\n      <td>-32.831506840233985,-53.38397111012659</td>\n      <td>252119964</td>\n    </tr>\n    <tr>\n      <th>1833</th>\n      <td>2522</td>\n      <td>-30.4311049027931,-57.438192602981864</td>\n      <td>19964</td>\n      <td>-32.831506840233985,-53.38397111012659</td>\n      <td>252219964</td>\n    </tr>\n    <tr>\n      <th>2447</th>\n      <td>2621</td>\n      <td>-30.720182604693377,-57.32943841744266</td>\n      <td>19964</td>\n      <td>-32.831506840233985,-53.38397111012659</td>\n      <td>262119964</td>\n    </tr>\n    <tr>\n      <th>3061</th>\n      <td>2721</td>\n      <td>-30.298276594314746,-56.970039630361384</td>\n      <td>19964</td>\n      <td>-32.831506840233985,-53.38397111012659</td>\n      <td>272119964</td>\n    </tr>\n  </tbody>\n</table>\n</div>"
     },
     "metadata": {},
     "execution_count": 15
    }
   ],
   "source": [
    "variables = ['cod_ori', 'latlon_ori', 'cod_des', 'latlon_des', 'cod']\n",
    "locs_pc_sin_dist = locs_pc.loc[locs_pc._merge=='left_only', variables]\n",
    "locs_pc_sin_dist.head()"
   ]
  },
  {
   "cell_type": "code",
   "execution_count": 13,
   "metadata": {},
   "outputs": [],
   "source": [
    "# setea la API KEY\n",
    "API_KEY = getpass.getpass()"
   ]
  },
  {
   "cell_type": "code",
   "execution_count": 16,
   "metadata": {},
   "outputs": [
    {
     "output_type": "stream",
     "name": "stdout",
     "text": [
      "1228\n"
     ]
    },
    {
     "output_type": "execute_result",
     "data": {
      "text/plain": [
       "   cod_ori                              latlon_ori  cod_des  \\\n",
       "0     1020  -34.83459368462574,-56.200727322283996    19964   \n",
       "1     2220  -30.425838214197817,-56.48691836714405    19964   \n",
       "2     2521   -30.25981089095717,-57.59820712208474    19964   \n",
       "\n",
       "                               latlon_des        cod  \n",
       "0  -32.831506840233985,-53.38397111012659  102019964  \n",
       "1  -32.831506840233985,-53.38397111012659  222019964  \n",
       "2  -32.831506840233985,-53.38397111012659  252119964  "
      ],
      "text/html": "<div>\n<style scoped>\n    .dataframe tbody tr th:only-of-type {\n        vertical-align: middle;\n    }\n\n    .dataframe tbody tr th {\n        vertical-align: top;\n    }\n\n    .dataframe thead th {\n        text-align: right;\n    }\n</style>\n<table border=\"1\" class=\"dataframe\">\n  <thead>\n    <tr style=\"text-align: right;\">\n      <th></th>\n      <th>cod_ori</th>\n      <th>latlon_ori</th>\n      <th>cod_des</th>\n      <th>latlon_des</th>\n      <th>cod</th>\n    </tr>\n  </thead>\n  <tbody>\n    <tr>\n      <th>0</th>\n      <td>1020</td>\n      <td>-34.83459368462574,-56.200727322283996</td>\n      <td>19964</td>\n      <td>-32.831506840233985,-53.38397111012659</td>\n      <td>102019964</td>\n    </tr>\n    <tr>\n      <th>1</th>\n      <td>2220</td>\n      <td>-30.425838214197817,-56.48691836714405</td>\n      <td>19964</td>\n      <td>-32.831506840233985,-53.38397111012659</td>\n      <td>222019964</td>\n    </tr>\n    <tr>\n      <th>2</th>\n      <td>2521</td>\n      <td>-30.25981089095717,-57.59820712208474</td>\n      <td>19964</td>\n      <td>-32.831506840233985,-53.38397111012659</td>\n      <td>252119964</td>\n    </tr>\n  </tbody>\n</table>\n</div>"
     },
     "metadata": {},
     "execution_count": 16
    }
   ],
   "source": [
    "# ordena y resetea el índice\n",
    "locs_pc_sin_dist.sort_values(by=['cod_ori', 'cod_des'], inplace=True)\n",
    "locs_pc_sin_dist.reset_index(drop=True, inplace=True)\n",
    "\n",
    "print(locs_pc_sin_dist.shape[0])\n",
    "locs_pc_sin_dist.head(3)"
   ]
  },
  {
   "cell_type": "code",
   "execution_count": 19,
   "metadata": {},
   "outputs": [
    {
     "output_type": "execute_result",
     "data": {
      "text/plain": [
       "378223"
      ]
     },
     "metadata": {},
     "execution_count": 19
    }
   ],
   "source": [
    "376995 + 1228"
   ]
  },
  {
   "cell_type": "code",
   "execution_count": 90,
   "metadata": {},
   "outputs": [],
   "source": [
    "lista_ori = list(locs_pc_sin_dist.latlon_ori)\n",
    "lista_des = list(locs_pc_sin_dist.latlon_des)"
   ]
  },
  {
   "cell_type": "code",
   "execution_count": 91,
   "metadata": {},
   "outputs": [
    {
     "output_type": "execute_result",
     "data": {
      "text/plain": [
       "1228"
      ]
     },
     "metadata": {},
     "execution_count": 91
    }
   ],
   "source": [
    "len(lista_des)"
   ]
  },
  {
   "cell_type": "code",
   "execution_count": 92,
   "metadata": {},
   "outputs": [],
   "source": [
    "n = locs_pc_sin_dist.shape[0]\n",
    "# distancias = [obtenerDist(lista_ori[x], lista_des[x] , API_KEY) for x in range(n)]"
   ]
  },
  {
   "cell_type": "code",
   "execution_count": 95,
   "metadata": {},
   "outputs": [],
   "source": [
    "# guarda lo calculado para no volver a usar la API de Google\n",
    "with open('tablas/dist_loc_faltantes_google.txt', 'w') as f:\n",
    "    for item in distancias:\n",
    "        f.write(\"%s\\n\" % item)"
   ]
  },
  {
   "cell_type": "code",
   "execution_count": 96,
   "metadata": {},
   "outputs": [],
   "source": [
    "locs_pc_sin_dist['distancia_m'] = distancias"
   ]
  },
  {
   "cell_type": "code",
   "execution_count": 119,
   "metadata": {},
   "outputs": [],
   "source": [
    "locs_dist = locs_pc_dist.loc[locs_pc_dist._merge == 'both'].append(locs_pc_sin_dist).drop(['index','_merge'], axis=1)"
   ]
  },
  {
   "cell_type": "code",
   "execution_count": 123,
   "metadata": {},
   "outputs": [],
   "source": [
    "locs_dist['distancia_m'] = locs_dist['distancia_m'].astype(int)"
   ]
  },
  {
   "cell_type": "code",
   "execution_count": 124,
   "metadata": {},
   "outputs": [
    {
     "output_type": "execute_result",
     "data": {
      "text/plain": [
       "   cod_ori                              latlon_ori  cod_des  \\\n",
       "0     2220  -30.425838214197817,-56.48691836714405     2521   \n",
       "1     2220  -30.425838214197817,-56.48691836714405     2522   \n",
       "2     2220  -30.425838214197817,-56.48691836714405     2621   \n",
       "3     2220  -30.425838214197817,-56.48691836714405     2721   \n",
       "4     2220  -30.425838214197817,-56.48691836714405     2724   \n",
       "\n",
       "                                latlon_des       cod  distancia_m  \n",
       "0    -30.25981089095717,-57.59820712208474  22202521       137927  \n",
       "1    -30.4311049027931,-57.438192602981864  22202522       111408  \n",
       "2   -30.720182604693377,-57.32943841744266  22202621       106867  \n",
       "3  -30.298276594314746,-56.970039630361384  22202721        58392  \n",
       "4   -30.212907501181586,-57.60354994479026  22202724       142223  "
      ],
      "text/html": "<div>\n<style scoped>\n    .dataframe tbody tr th:only-of-type {\n        vertical-align: middle;\n    }\n\n    .dataframe tbody tr th {\n        vertical-align: top;\n    }\n\n    .dataframe thead th {\n        text-align: right;\n    }\n</style>\n<table border=\"1\" class=\"dataframe\">\n  <thead>\n    <tr style=\"text-align: right;\">\n      <th></th>\n      <th>cod_ori</th>\n      <th>latlon_ori</th>\n      <th>cod_des</th>\n      <th>latlon_des</th>\n      <th>cod</th>\n      <th>distancia_m</th>\n    </tr>\n  </thead>\n  <tbody>\n    <tr>\n      <th>0</th>\n      <td>2220</td>\n      <td>-30.425838214197817,-56.48691836714405</td>\n      <td>2521</td>\n      <td>-30.25981089095717,-57.59820712208474</td>\n      <td>22202521</td>\n      <td>137927</td>\n    </tr>\n    <tr>\n      <th>1</th>\n      <td>2220</td>\n      <td>-30.425838214197817,-56.48691836714405</td>\n      <td>2522</td>\n      <td>-30.4311049027931,-57.438192602981864</td>\n      <td>22202522</td>\n      <td>111408</td>\n    </tr>\n    <tr>\n      <th>2</th>\n      <td>2220</td>\n      <td>-30.425838214197817,-56.48691836714405</td>\n      <td>2621</td>\n      <td>-30.720182604693377,-57.32943841744266</td>\n      <td>22202621</td>\n      <td>106867</td>\n    </tr>\n    <tr>\n      <th>3</th>\n      <td>2220</td>\n      <td>-30.425838214197817,-56.48691836714405</td>\n      <td>2721</td>\n      <td>-30.298276594314746,-56.970039630361384</td>\n      <td>22202721</td>\n      <td>58392</td>\n    </tr>\n    <tr>\n      <th>4</th>\n      <td>2220</td>\n      <td>-30.425838214197817,-56.48691836714405</td>\n      <td>2724</td>\n      <td>-30.212907501181586,-57.60354994479026</td>\n      <td>22202724</td>\n      <td>142223</td>\n    </tr>\n  </tbody>\n</table>\n</div>"
     },
     "metadata": {},
     "execution_count": 124
    }
   ],
   "source": [
    "locs_dist.head()"
   ]
  },
  {
   "cell_type": "code",
   "execution_count": 125,
   "metadata": {},
   "outputs": [],
   "source": [
    "# guarda\n",
    "locs_dist.to_csv('tablas/df_distancias_localidades.csv', index=False)"
   ]
  },
  {
   "cell_type": "code",
   "execution_count": 1,
   "metadata": {},
   "outputs": [
    {
     "output_type": "error",
     "ename": "NameError",
     "evalue": "name 'locs_dist' is not defined",
     "traceback": [
      "\u001b[0;31m---------------------------------------------------------------------------\u001b[0m",
      "\u001b[0;31mNameError\u001b[0m                                 Traceback (most recent call last)",
      "\u001b[0;32m<ipython-input-1-81c94330d037>\u001b[0m in \u001b[0;36m<module>\u001b[0;34m\u001b[0m\n\u001b[0;32m----> 1\u001b[0;31m \u001b[0mlocs_dist\u001b[0m\u001b[0;34m.\u001b[0m\u001b[0mshape\u001b[0m\u001b[0;34m\u001b[0m\u001b[0;34m\u001b[0m\u001b[0m\n\u001b[0m",
      "\u001b[0;31mNameError\u001b[0m: name 'locs_dist' is not defined"
     ]
    }
   ],
   "source": [
    "locs_dist.shape"
   ]
  },
  {
   "cell_type": "code",
   "execution_count": null,
   "metadata": {},
   "outputs": [],
   "source": []
  }
 ],
 "metadata": {
  "colab": {
   "authorship_tag": "ABX9TyPqKRw/9E1kHtowdnEFWwNz",
   "collapsed_sections": [],
   "include_colab_link": true,
   "name": "matriz_de_distancias_google.ipynb",
   "provenance": []
  },
  "kernelspec": {
   "name": "python392jvsc74a57bd05ce838cc175eb9c7ee2cce823ae805de6106cb4564d9fc7b3476b35fac8c9293",
   "display_name": "Python 3.9.2 64-bit ('tesis': conda)"
  },
  "language_info": {
   "codemirror_mode": {
    "name": "ipython",
    "version": 3
   },
   "file_extension": ".py",
   "mimetype": "text/x-python",
   "name": "python",
   "nbconvert_exporter": "python",
   "pygments_lexer": "ipython3",
   "version": "3.9.2"
  },
  "metadata": {
   "interpreter": {
    "hash": "5ce838cc175eb9c7ee2cce823ae805de6106cb4564d9fc7b3476b35fac8c9293"
   }
  }
 },
 "nbformat": 4,
 "nbformat_minor": 4
}