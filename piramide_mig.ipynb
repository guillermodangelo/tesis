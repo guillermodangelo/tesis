{
 "cells": [
  {
   "cell_type": "code",
   "execution_count": 1,
   "metadata": {},
   "outputs": [],
   "source": [
    "import pandas as pd\n",
    "import geopandas as gpd\n",
    "import os\n",
    "import matplotlib.pyplot as plt\n",
    "import pylab as pl\n",
    "import numpy as np\n",
    "import seaborn as sns"
   ]
  },
  {
   "cell_type": "code",
   "execution_count": 2,
   "metadata": {},
   "outputs": [],
   "source": [
    "censo_url  = 'https://raw.githubusercontent.com/guillermodangelo/tesis/master/tablas/personas_censo_2011.zip'"
   ]
  },
  {
   "cell_type": "code",
   "execution_count": 3,
   "metadata": {},
   "outputs": [
    {
     "data": {
      "text/html": [
       "<div>\n",
       "<style scoped>\n",
       "    .dataframe tbody tr th:only-of-type {\n",
       "        vertical-align: middle;\n",
       "    }\n",
       "\n",
       "    .dataframe tbody tr th {\n",
       "        vertical-align: top;\n",
       "    }\n",
       "\n",
       "    .dataframe thead th {\n",
       "        text-align: right;\n",
       "    }\n",
       "</style>\n",
       "<table border=\"1\" class=\"dataframe\">\n",
       "  <thead>\n",
       "    <tr style=\"text-align: right;\">\n",
       "      <th></th>\n",
       "      <th>DPTO</th>\n",
       "      <th>LOC</th>\n",
       "      <th>SECC</th>\n",
       "      <th>SEGM</th>\n",
       "      <th>PERPH02</th>\n",
       "      <th>PERNA01</th>\n",
       "      <th>PERMI07</th>\n",
       "      <th>PERMI07_1</th>\n",
       "      <th>PERMI07_2</th>\n",
       "      <th>PERMI07_3</th>\n",
       "      <th>PERMI07_4</th>\n",
       "      <th>tramo</th>\n",
       "    </tr>\n",
       "  </thead>\n",
       "  <tbody>\n",
       "    <tr>\n",
       "      <th>5</th>\n",
       "      <td>1</td>\n",
       "      <td>20</td>\n",
       "      <td>1</td>\n",
       "      <td>1</td>\n",
       "      <td>1</td>\n",
       "      <td>24</td>\n",
       "      <td>3</td>\n",
       "      <td>NaN</td>\n",
       "      <td>3.0</td>\n",
       "      <td>732.0</td>\n",
       "      <td>0</td>\n",
       "      <td>20-24</td>\n",
       "    </tr>\n",
       "    <tr>\n",
       "      <th>40</th>\n",
       "      <td>1</td>\n",
       "      <td>20</td>\n",
       "      <td>1</td>\n",
       "      <td>1</td>\n",
       "      <td>2</td>\n",
       "      <td>22</td>\n",
       "      <td>3</td>\n",
       "      <td>NaN</td>\n",
       "      <td>17.0</td>\n",
       "      <td>220.0</td>\n",
       "      <td>0</td>\n",
       "      <td>20-24</td>\n",
       "    </tr>\n",
       "    <tr>\n",
       "      <th>50</th>\n",
       "      <td>1</td>\n",
       "      <td>20</td>\n",
       "      <td>1</td>\n",
       "      <td>1</td>\n",
       "      <td>1</td>\n",
       "      <td>19</td>\n",
       "      <td>3</td>\n",
       "      <td>NaN</td>\n",
       "      <td>18.0</td>\n",
       "      <td>220.0</td>\n",
       "      <td>0</td>\n",
       "      <td>15-19</td>\n",
       "    </tr>\n",
       "    <tr>\n",
       "      <th>64</th>\n",
       "      <td>1</td>\n",
       "      <td>20</td>\n",
       "      <td>1</td>\n",
       "      <td>1</td>\n",
       "      <td>1</td>\n",
       "      <td>24</td>\n",
       "      <td>3</td>\n",
       "      <td>NaN</td>\n",
       "      <td>2.0</td>\n",
       "      <td>220.0</td>\n",
       "      <td>0</td>\n",
       "      <td>20-24</td>\n",
       "    </tr>\n",
       "    <tr>\n",
       "      <th>110</th>\n",
       "      <td>1</td>\n",
       "      <td>20</td>\n",
       "      <td>1</td>\n",
       "      <td>1</td>\n",
       "      <td>2</td>\n",
       "      <td>28</td>\n",
       "      <td>3</td>\n",
       "      <td>NaN</td>\n",
       "      <td>12.0</td>\n",
       "      <td>320.0</td>\n",
       "      <td>0</td>\n",
       "      <td>25-29</td>\n",
       "    </tr>\n",
       "  </tbody>\n",
       "</table>\n",
       "</div>"
      ],
      "text/plain": [
       "     DPTO  LOC  SECC  SEGM  PERPH02  PERNA01  PERMI07  PERMI07_1  PERMI07_2  \\\n",
       "5       1   20     1     1        1       24        3        NaN        3.0   \n",
       "40      1   20     1     1        2       22        3        NaN       17.0   \n",
       "50      1   20     1     1        1       19        3        NaN       18.0   \n",
       "64      1   20     1     1        1       24        3        NaN        2.0   \n",
       "110     1   20     1     1        2       28        3        NaN       12.0   \n",
       "\n",
       "     PERMI07_3  PERMI07_4  tramo  \n",
       "5        732.0          0  20-24  \n",
       "40       220.0          0  20-24  \n",
       "50       220.0          0  15-19  \n",
       "64       220.0          0  20-24  \n",
       "110      320.0          0  25-29  "
      ]
     },
     "execution_count": 3,
     "metadata": {},
     "output_type": "execute_result"
    }
   ],
   "source": [
    "# Datos censales\n",
    "censo = pd.read_csv(censo_url, compression='zip', header=0, sep=',', quotechar='\"')\n",
    "\n",
    "# genera etiquetas con los tramos de edad usuales\n",
    "labels = ['0-4','5-9','10-14','15-19','20-24','25-29','30-34','35-39','40-44','45-49',\n",
    "          '50-54','55-59','60-64','65-69','70-74','75-79','80-84','85-89','90-94']\n",
    "\n",
    "# genera lista con cortes, para reclasificar el dataframe\n",
    "bins = [0,4,9,14,19,24,29,34,39,44,49,54,59,64,69,74,79,84,89,94]\n",
    "\n",
    "# calcula tramos de edad\n",
    "censo['tramo'] =   pd.cut(censo['PERNA01'], bins= bins, include_lowest=False,  labels= labels)\n",
    "censo['tramo'] = np.where(censo['PERNA01'] > 94 ,'95+', censo['tramo'])\n",
    "\n",
    "\n",
    "# define vector de nombres de columnas para filtrar\n",
    "cols = ['DPTO', 'LOC', 'SECC', 'SEGM', 'PERPH02', 'PERNA01', 'PERMI07',\n",
    "        'PERMI07_1', 'PERMI07_2', 'PERMI07_3', 'PERMI07_4', 'tramo']\n",
    "\n",
    "# filtra\n",
    "p_migr = censo[(censo.PERMI07 == 2) | (censo.PERMI07 == 3)][cols]\n",
    "\n",
    "# # cambia DPTO a tipo entero\n",
    "# p_migr.DPTO = p_migr.DPTO.astype(int)\n",
    "\n",
    "# # identifica depto de residencia anterior\n",
    "# p_migr['depto_origen'] = p_migr.loc[:,('PERMI07_2')]\n",
    "# p_migr.depto_origen.fillna(p_migr.DPTO, inplace=True)\n",
    "\n",
    "# # convierte a string\n",
    "# p_migr.loc[:,('depto_origen')] = p_migr.loc[:,('depto_origen')].astype(int)\n",
    "\n",
    "# # renombra DPTO\n",
    "# p_migr.rename(columns={'DPTO': 'depto_destino'}, inplace=True)\n",
    "\n",
    "p_migr.head()"
   ]
  },
  {
   "cell_type": "code",
   "execution_count": 4,
   "metadata": {},
   "outputs": [
    {
     "data": {
      "text/plain": [
       "2    111388\n",
       "1    104511\n",
       "Name: PERPH02, dtype: int64"
      ]
     },
     "execution_count": 4,
     "metadata": {},
     "output_type": "execute_result"
    }
   ],
   "source": [
    "p_migr.PERPH02.value_counts()"
   ]
  },
  {
   "cell_type": "code",
   "execution_count": 5,
   "metadata": {},
   "outputs": [],
   "source": [
    "# agrupa por sexo y tramos de edad\n",
    "migrantes_group = p_migr.groupby(['PERPH02', 'tramo']).size().reset_index()\n",
    "\n",
    "# renombra\n",
    "migrantes_group.rename(columns={'PERPH02': 'sexo', 0:'personas'}, inplace=True)\n",
    "\n",
    "# calcula porcentajes\n",
    "migrantes_group['porc_pers'] = (migrantes_group.personas / migrantes_group.personas.sum())*100\n",
    "\n",
    "# pasa varones a negativo para hacer bien la gráfica\n",
    "migrantes_group['personas'] = np.where(migrantes_group['sexo'] ==1, -migrantes_group['personas'], migrantes_group['personas'])\n",
    "migrantes_group['porc_pers'] = np.where(migrantes_group['sexo'] ==1, -migrantes_group['porc_pers'], migrantes_group['porc_pers'])\n",
    "\n",
    "# genera etiqueta del sexo\n",
    "migrantes_group['sexo_label'] = np.where(migrantes_group['sexo'] ==1, 'varones', 'mujeres')"
   ]
  },
  {
   "cell_type": "code",
   "execution_count": 6,
   "metadata": {},
   "outputs": [
    {
     "data": {
      "text/html": [
       "<div>\n",
       "<style scoped>\n",
       "    .dataframe tbody tr th:only-of-type {\n",
       "        vertical-align: middle;\n",
       "    }\n",
       "\n",
       "    .dataframe tbody tr th {\n",
       "        vertical-align: top;\n",
       "    }\n",
       "\n",
       "    .dataframe thead th {\n",
       "        text-align: right;\n",
       "    }\n",
       "</style>\n",
       "<table border=\"1\" class=\"dataframe\">\n",
       "  <thead>\n",
       "    <tr style=\"text-align: right;\">\n",
       "      <th></th>\n",
       "      <th>sexo</th>\n",
       "      <th>tramo</th>\n",
       "      <th>personas</th>\n",
       "      <th>porc_pers</th>\n",
       "      <th>sexo_label</th>\n",
       "    </tr>\n",
       "  </thead>\n",
       "  <tbody>\n",
       "    <tr>\n",
       "      <th>0</th>\n",
       "      <td>1</td>\n",
       "      <td>10-14</td>\n",
       "      <td>-8275</td>\n",
       "      <td>-3.832811</td>\n",
       "      <td>varones</td>\n",
       "    </tr>\n",
       "    <tr>\n",
       "      <th>1</th>\n",
       "      <td>1</td>\n",
       "      <td>15-19</td>\n",
       "      <td>-9598</td>\n",
       "      <td>-4.445597</td>\n",
       "      <td>varones</td>\n",
       "    </tr>\n",
       "    <tr>\n",
       "      <th>2</th>\n",
       "      <td>1</td>\n",
       "      <td>20-24</td>\n",
       "      <td>-14336</td>\n",
       "      <td>-6.640142</td>\n",
       "      <td>varones</td>\n",
       "    </tr>\n",
       "    <tr>\n",
       "      <th>3</th>\n",
       "      <td>1</td>\n",
       "      <td>25-29</td>\n",
       "      <td>-11800</td>\n",
       "      <td>-5.465519</td>\n",
       "      <td>varones</td>\n",
       "    </tr>\n",
       "    <tr>\n",
       "      <th>4</th>\n",
       "      <td>1</td>\n",
       "      <td>30-34</td>\n",
       "      <td>-10919</td>\n",
       "      <td>-5.057457</td>\n",
       "      <td>varones</td>\n",
       "    </tr>\n",
       "  </tbody>\n",
       "</table>\n",
       "</div>"
      ],
      "text/plain": [
       "   sexo  tramo  personas  porc_pers sexo_label\n",
       "0     1  10-14     -8275  -3.832811    varones\n",
       "1     1  15-19     -9598  -4.445597    varones\n",
       "2     1  20-24    -14336  -6.640142    varones\n",
       "3     1  25-29    -11800  -5.465519    varones\n",
       "4     1  30-34    -10919  -5.057457    varones"
      ]
     },
     "execution_count": 6,
     "metadata": {},
     "output_type": "execute_result"
    }
   ],
   "source": [
    "migrantes_group.head()"
   ]
  },
  {
   "cell_type": "code",
   "execution_count": 7,
   "metadata": {},
   "outputs": [
    {
     "data": {
      "text/html": [
       "<div>\n",
       "<style scoped>\n",
       "    .dataframe tbody tr th:only-of-type {\n",
       "        vertical-align: middle;\n",
       "    }\n",
       "\n",
       "    .dataframe tbody tr th {\n",
       "        vertical-align: top;\n",
       "    }\n",
       "\n",
       "    .dataframe thead th {\n",
       "        text-align: right;\n",
       "    }\n",
       "</style>\n",
       "<table border=\"1\" class=\"dataframe\">\n",
       "  <thead>\n",
       "    <tr style=\"text-align: right;\">\n",
       "      <th></th>\n",
       "      <th>sexo</th>\n",
       "      <th>tramo</th>\n",
       "      <th>personas</th>\n",
       "      <th>porc_pers</th>\n",
       "      <th>sexo_label</th>\n",
       "    </tr>\n",
       "  </thead>\n",
       "  <tbody>\n",
       "    <tr>\n",
       "      <th>0</th>\n",
       "      <td>1</td>\n",
       "      <td>0-4</td>\n",
       "      <td>90674</td>\n",
       "      <td>-2.795999</td>\n",
       "      <td>varones</td>\n",
       "    </tr>\n",
       "    <tr>\n",
       "      <th>1</th>\n",
       "      <td>1</td>\n",
       "      <td>10-14</td>\n",
       "      <td>131018</td>\n",
       "      <td>-4.040036</td>\n",
       "      <td>varones</td>\n",
       "    </tr>\n",
       "    <tr>\n",
       "      <th>2</th>\n",
       "      <td>1</td>\n",
       "      <td>15-19</td>\n",
       "      <td>133041</td>\n",
       "      <td>-4.102417</td>\n",
       "      <td>varones</td>\n",
       "    </tr>\n",
       "    <tr>\n",
       "      <th>3</th>\n",
       "      <td>1</td>\n",
       "      <td>20-24</td>\n",
       "      <td>119928</td>\n",
       "      <td>-3.698068</td>\n",
       "      <td>varones</td>\n",
       "    </tr>\n",
       "    <tr>\n",
       "      <th>4</th>\n",
       "      <td>1</td>\n",
       "      <td>25-29</td>\n",
       "      <td>112851</td>\n",
       "      <td>-3.479843</td>\n",
       "      <td>varones</td>\n",
       "    </tr>\n",
       "  </tbody>\n",
       "</table>\n",
       "</div>"
      ],
      "text/plain": [
       "   sexo  tramo  personas  porc_pers sexo_label\n",
       "0     1    0-4     90674  -2.795999    varones\n",
       "1     1  10-14    131018  -4.040036    varones\n",
       "2     1  15-19    133041  -4.102417    varones\n",
       "3     1  20-24    119928  -3.698068    varones\n",
       "4     1  25-29    112851  -3.479843    varones"
      ]
     },
     "execution_count": 7,
     "metadata": {},
     "output_type": "execute_result"
    }
   ],
   "source": [
    "# con todo el censo\n",
    "# agrupa por sexo y tramos de edad\n",
    "censo_group = censo.groupby(['PERPH02', 'tramo']).size().reset_index()\n",
    "\n",
    "# renombra\n",
    "censo_group.rename(columns={'PERPH02': 'sexo', 0:'personas'}, inplace=True)\n",
    "\n",
    "# calcula porcentaje\n",
    "censo_group['porc_pers'] = (censo_group.personas / censo_group.personas.sum()) * 100\n",
    "\n",
    "# pasa varones a negativo para hacer bien la gráfica\n",
    "censo_group['personas'] = np.where(censo_group['sexo'] ==1, -censo_group['personas'], censo_group['personas'])\n",
    "censo_group['porc_pers'] = np.where(censo_group['sexo'] ==1, -censo_group['porc_pers'], censo_group['porc_pers'])\n",
    "\n",
    "\n",
    "# pasa varones a negativo para hacer bien la gráfica\n",
    "censo_group['personas'] = np.where(censo_group['sexo'] ==1, -censo_group['personas'], censo_group['personas'])\n",
    "\n",
    "# genera etiqueta del sexo\n",
    "censo_group['sexo_label'] = np.where(censo_group['sexo'] ==1, 'varones', 'mujeres')\n",
    "\n",
    "censo_group.head()"
   ]
  },
  {
   "cell_type": "code",
   "execution_count": 8,
   "metadata": {},
   "outputs": [
    {
     "data": {
      "image/png": "[encoded data removed]",
      "text/plain": [
       "<Figure size 720x432 with 1 Axes>"
      ]
     },
     "metadata": {
      "needs_background": "light"
     },
     "output_type": "display_data"
    }
   ],
   "source": [
    "# pirámides de población\n",
    "\n",
    "# cuatro ejes\n",
    "fig, ax = plt.subplots(1, figsize= ( 10, 6 ), sharex= True, sharey='row')\n",
    "\n",
    "# plot\n",
    "group_col = 'sexo_label'\n",
    "order_of_bars = labels[::-1]\n",
    "colors = ['green', 'yellow']\n",
    "label=['sexo', 'sasa']\n",
    "\n",
    "for c, group in zip(colors, migrantes_group[group_col].unique()):\n",
    "    sns.barplot(x='personas', y='tramo', data=migrantes_group.loc[migrantes_group[group_col]==group, :],\n",
    "                order = order_of_bars, color=c, label=group, ax=ax)\n",
    "\n",
    "# títulos\n",
    "ax.set_title('Pirámide de migrantes recientes Censo INE 2011')\n",
    "\n",
    "# ejes al fondo\n",
    "ax.set_axisbelow(True)\n",
    "\n",
    "# etiquetas de ejes\n",
    "ax.set_ylabel(\"Tramos de edad\")\n",
    "\n",
    "# activa grilla de fondo\n",
    "ax.grid(True)\n",
    "\n",
    "# eje Y al medio\n",
    "ax.axvline(linewidth=1, color='black')\n",
    "\n",
    "# chirimbolos\n",
    "plt.legend(loc='upper right')\n",
    "plt.show()"
   ]
  },
  {
   "cell_type": "code",
   "execution_count": 9,
   "metadata": {},
   "outputs": [
    {
     "data": {
      "image/png": "[encoded data removed]",
      "text/plain": [
       "<Figure size 720x432 with 2 Axes>"
      ]
     },
     "metadata": {
      "needs_background": "light"
     },
     "output_type": "display_data"
    }
   ],
   "source": [
    "# pirámides de población\n",
    "\n",
    "# cuatro ejes\n",
    "fig, (ax1, ax2)  = plt.subplots(1,2, figsize= ( 10, 6 ), sharex= True, sharey='row')\n",
    "\n",
    "# plot\n",
    "group_col = 'sexo_label'\n",
    "order_of_bars = labels[::-1]\n",
    "colors = ['skyblue', 'seagreen']\n",
    "label=['sexo', 'sasa']\n",
    "\n",
    "for c, group in zip(colors, censo_group[group_col].unique()):\n",
    "    sns.barplot(x='porc_pers', y='tramo', data=censo_group.loc[censo_group[group_col]==group, :],\n",
    "                order = order_of_bars, color=c, label=group, ax=ax1)\n",
    "\n",
    "for c, group in zip(colors, migrantes_group[group_col].unique()):\n",
    "    sns.barplot(x='porc_pers', y='tramo', data=migrantes_group.loc[migrantes_group[group_col]==group, :],\n",
    "                order = order_of_bars, color=c, label=group, ax=ax2)\n",
    "\n",
    "ax1.set_title('Pirámide de población Censo INE 2011')\n",
    "ax2.set_title('Pirámide de migrantes recientes Censo INE 2011')\n",
    "\n",
    "for i in [ax1, ax2]:\n",
    "    i.set_axisbelow(True)\n",
    "    i.set_ylabel(\"Tramos de edad\")\n",
    "    i.set_xlabel(\"Porcentaje\")\n",
    "    i.grid(True)\n",
    "    i.axvline(linewidth=1, color='black')\n",
    "\n",
    "# chirimbolos\n",
    "plt.legend(loc='upper right')\n",
    "plt.show()"
   ]
  },
  {
   "cell_type": "code",
   "execution_count": 33,
   "metadata": {},
   "outputs": [
    {
     "data": {
      "image/png": "[encoded data removed]",
      "text/plain": [
       "<Figure size 720x432 with 1 Axes>"
      ]
     },
     "metadata": {
      "needs_background": "light"
     },
     "output_type": "display_data"
    }
   ],
   "source": [
    "# pirámides de población\n",
    "del ax\n",
    "\n",
    "# cuatro ejes\n",
    "fig, ax  = plt.subplots(1, figsize= ( 10, 6 ))\n",
    "\n",
    "# plot\n",
    "group_col = 'sexo_label'\n",
    "order_of_bars = labels[::-1]\n",
    "colors = ['skyblue', 'seagreen']\n",
    "label=['sexo', 'sasa']\n",
    "\n",
    "\n",
    "for c, group in zip(colors, migrantes_group[group_col].unique()):\n",
    "    sns.barplot(x='porc_pers', y='tramo',\n",
    "                data=migrantes_group.loc[migrantes_group[group_col]==group, :],\n",
    "                order = order_of_bars,\n",
    "                color=c,\n",
    "                label=group,\n",
    "                ax=ax)\n",
    "\n",
    "    sns.barplot(x='porc_pers', y='tramo',\n",
    "                data=censo_group.loc[censo_group[group_col]==group, :],\n",
    "                order = order_of_bars,\n",
    "                fill=False,\n",
    "                linewidth = 1,\n",
    "                edgecolor='black',\n",
    "                ax=ax)\n",
    "\n",
    "ax.set_axisbelow(True)\n",
    "ax.grid(color='gainsboro', linestyle='-', linewidth=0.5)\n",
    "ax.set_ylabel(\"Tramos de edad\")\n",
    "ax.set_xlabel(\"Personas\")\n",
    "ax.axvline(linewidth=1, color='black')\n",
    "ax.set_xlim([-9,9])\n",
    "ax.set_xticklabels(['10%','8%','6%','4%','2%','0','2%','4%','6%','8%'])\n",
    "\n",
    "# chirimbolos\n",
    "plt.legend(loc='upper right')\n",
    "\n",
    "plt.savefig('mapas_graficas/piramide_mig.pdf', bbox_inches='tight',\n",
    "            metadata = metadatos_figs )"
   ]
  },
  {
   "cell_type": "code",
   "execution_count": 11,
   "metadata": {},
   "outputs": [
    {
     "data": {
      "text/plain": [
       "<Figure size 432x288 with 0 Axes>"
      ]
     },
     "metadata": {},
     "output_type": "display_data"
    }
   ],
   "source": [
    "metadatos_figs = {'Author': '''Guillermo D'Angelo''', 'Title': 'Pirámide de población Censo INE 2011'}\n",
    "\n"
   ]
  },
  {
   "cell_type": "code",
   "execution_count": 12,
   "metadata": {},
   "outputs": [
    {
     "data": {
      "text/plain": [
       "<Figure size 432x288 with 0 Axes>"
      ]
     },
     "metadata": {},
     "output_type": "display_data"
    }
   ],
   "source": []
  }
 ],
 "metadata": {
  "kernelspec": {
   "display_name": "Python 3",
   "language": "python",
   "name": "python3"
  },
  "language_info": {
   "codemirror_mode": {
    "name": "ipython",
    "version": 3
   },
   "file_extension": ".py",
   "mimetype": "text/x-python",
   "name": "python",
   "nbconvert_exporter": "python",
   "pygments_lexer": "ipython3",
   "version": "3.8.2"
  }
 },
 "nbformat": 4,
 "nbformat_minor": 4
}
