{
 "cells": [
  {
   "cell_type": "markdown",
   "id": "9d1e81ba",
   "metadata": {},
   "source": [
    "# Población por departamento según Censo 2011\n",
    "\n",
    "Calculamos la población por depto según el Censo INE 2011 y la población con 5 años o más.\n",
    "Las misma son usadas en funciones que recuperan la población desde una lista."
   ]
  },
  {
   "cell_type": "code",
   "execution_count": 1,
   "id": "d024c87c",
   "metadata": {},
   "outputs": [],
   "source": [
    "import pandas as pd\n",
    "import os\n",
    "import numpy as np\n",
    "\n",
    "# funciones desarrolladas\n",
    "from functions.agrupar_dfs_censo import *\n",
    "from functions.cargar_data import *"
   ]
  },
  {
   "cell_type": "code",
   "execution_count": 2,
   "id": "5c56fc26",
   "metadata": {},
   "outputs": [
    {
     "data": {
      "text/plain": [
       "[1318755,\n",
       " 73377,\n",
       " 520173,\n",
       " 84698,\n",
       " 123203,\n",
       " 57084,\n",
       " 25050,\n",
       " 67047,\n",
       " 58815,\n",
       " 164298,\n",
       " 113107,\n",
       " 54765,\n",
       " 103473,\n",
       " 68088,\n",
       " 124861,\n",
       " 108304,\n",
       " 82594,\n",
       " 90051,\n",
       " 48134]"
      ]
     },
     "execution_count": 2,
     "metadata": {},
     "output_type": "execute_result"
    }
   ],
   "source": [
    "# Carga Censo 2011\n",
    "censo = cargar_censo_vars(['DPTO', 'LOC', 'PERNA01'])\n",
    "\n",
    "# calcula pob por depto\n",
    "pob = list(censo.groupby('DPTO').size())\n",
    "pob"
   ]
  },
  {
   "cell_type": "code",
   "execution_count": 3,
   "id": "08a31769",
   "metadata": {},
   "outputs": [
    {
     "data": {
      "text/plain": [
       "[1236145,\n",
       " 67867,\n",
       " 484070,\n",
       " 78725,\n",
       " 115155,\n",
       " 53162,\n",
       " 23449,\n",
       " 62665,\n",
       " 55247,\n",
       " 153033,\n",
       " 104855,\n",
       " 50379,\n",
       " 95688,\n",
       " 63563,\n",
       " 115058,\n",
       " 100827,\n",
       " 76894,\n",
       " 83815,\n",
       " 44939]"
      ]
     },
     "execution_count": 3,
     "metadata": {},
     "output_type": "execute_result"
    }
   ],
   "source": [
    "censo_plus5 = censo.loc[censo.PERNA01 >= 5]\n",
    "pob5 = list(censo_plus5.groupby('DPTO').size())\n",
    "pob5"
   ]
  },
  {
   "cell_type": "code",
   "execution_count": 4,
   "id": "a76156ae",
   "metadata": {},
   "outputs": [
    {
     "data": {
      "text/plain": [
       "array([82610,  5510, 36103,  5973,  8048,  3922,  1601,  4382,  3568,\n",
       "       11265,  8252,  4386,  7785,  4525,  9803,  7477,  5700,  6236,\n",
       "        3195])"
      ]
     },
     "execution_count": 4,
     "metadata": {},
     "output_type": "execute_result"
    }
   ],
   "source": [
    "np.array(pob) - np.array(pob5)"
   ]
  }
 ],
 "metadata": {
  "kernelspec": {
   "display_name": "Python 3.9.2 64-bit ('tesis': conda)",
   "language": "python",
   "name": "python392jvsc74a57bd05ce838cc175eb9c7ee2cce823ae805de6106cb4564d9fc7b3476b35fac8c9293"
  },
  "language_info": {
   "codemirror_mode": {
    "name": "ipython",
    "version": 3
   },
   "file_extension": ".py",
   "mimetype": "text/x-python",
   "name": "python",
   "nbconvert_exporter": "python",
   "pygments_lexer": "ipython3",
   "version": "3.9.2"
  },
  "metadata": {
   "interpreter": {
    "hash": "5ce838cc175eb9c7ee2cce823ae805de6106cb4564d9fc7b3476b35fac8c9293"
   }
  }
 },
 "nbformat": 4,
 "nbformat_minor": 5
}
