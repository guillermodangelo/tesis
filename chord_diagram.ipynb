{
 "cells": [
  {
   "cell_type": "code",
   "execution_count": 1,
   "metadata": {},
   "outputs": [
    {
     "data": {
      "text/plain": [
       "[[3.142471,\n",
       "  0.0,\n",
       "  2.107883,\n",
       "  0.0,\n",
       "  0.540887,\n",
       "  0.15598800000000002,\n",
       "  0.0,\n",
       "  0.0,\n",
       "  0.0,\n",
       "  0.673004],\n",
       " [0.0,\n",
       "  1.630997,\n",
       "  0.6012649999999999,\n",
       "  0.0,\n",
       "  0.97306,\n",
       "  0.333608,\n",
       "  0.0,\n",
       "  0.380388,\n",
       "  0.0,\n",
       "  0.8693110000000001],\n",
       " [0.0, 0.0, 2.4014759999999997, 0.0, 0.0, 0.0, 0.0, 0.0, 0.0, 0.0],\n",
       " [0.0, 0.0, 1.762587, 0.8791979999999999, 3.627847, 0.0, 0.0, 0.0, 0.0, 0.0],\n",
       " [0.0, 0.0, 1.215929, 0.276908, 0.0, 0.0, 0.0, 0.0, 0.0, 0.0],\n",
       " [0.0, 0.0, 0.17037, 0.0, 0.0, 0.190706, 0.0, 0.0, 0.0, 0.0],\n",
       " [0.0,\n",
       "  0.525881,\n",
       "  1.390272,\n",
       "  0.0,\n",
       "  1.508008,\n",
       "  0.34742,\n",
       "  1.307907,\n",
       "  0.0,\n",
       "  0.0,\n",
       "  4.902081],\n",
       " [0.0,\n",
       "  0.145264,\n",
       "  0.468762,\n",
       "  0.0,\n",
       "  1.0579040000000002,\n",
       "  0.278746,\n",
       "  0.0,\n",
       "  0.781316,\n",
       "  0.0,\n",
       "  0.0],\n",
       " [0.0, 0.0, 0.60923, 0.0, 0.0, 0.0, 0.0, 0.0, 1.8705009999999997, 0.0],\n",
       " [0.0, 0.0, 0.44962299999999994, 0.0, 0.169274, 0.0, 0.0, 0.0, 0.0, 0.927243]]"
      ]
     },
     "execution_count": 1,
     "metadata": {},
     "output_type": "execute_result"
    }
   ],
   "source": [
    "# Pandas is gonna be used to read the csv file stored on the web:\n",
    "import pandas as pd\n",
    "\n",
    "# Load dataset from github\n",
    "data = pd.read_csv(\"https://raw.githubusercontent.com/holtzy/data_to_viz/master/Example_dataset/13_AdjacencyDirectedWeighted.csv\", sep=\" \")\n",
    "data\n",
    "\n",
    "# Create a list of all the items in the diagram\n",
    "names = data.columns.values\n",
    "\n",
    "data = data.values.tolist()\n",
    "data"
   ]
  },
  {
   "cell_type": "code",
   "execution_count": 2,
   "metadata": {},
   "outputs": [
    {
     "name": "stdout",
     "output_type": "stream",
     "text": [
      "Collecting chord\n",
      "  Downloading chord-0.13.0-py3-none-any.whl (18 kB)\n",
      "Installing collected packages: chord\n",
      "Successfully installed chord-0.13.0\n"
     ]
    }
   ],
   "source": [
    "!pip install chord"
   ]
  },
  {
   "cell_type": "code",
   "execution_count": 3,
   "metadata": {},
   "outputs": [],
   "source": [
    "# Import the library\n",
    "from chord import Chord\n",
    "\n",
    "\n",
    "# Basic cord diagram\n",
    "# TODO THIS WON'T WORK BECAUSE INPUT TYPE ISNT RECOGNIZE\n",
    "# Chord(data, names).to_html(\"../../static/interactiveCharts/chord-diagram-chord-library.html\")"
   ]
  },
  {
   "cell_type": "code",
   "execution_count": 2,
   "metadata": {},
   "outputs": [
    {
     "data": {
      "text/plain": [
       "int"
      ]
     },
     "execution_count": 2,
     "metadata": {},
     "output_type": "execute_result"
    }
   ],
   "source": [
    "matrix = [\n",
    "    [0, 5, 6, 4, 7, 4],\n",
    "    [5, 0, 5, 4, 6, 5],\n",
    "    [6, 5, 0, 4, 5, 5],\n",
    "    [4, 4, 4, 0, 5, 5],\n",
    "    [7, 6, 5, 5, 0, 4],\n",
    "    [4, 5, 5, 5, 4, 0],\n",
    "]\n",
    "\n",
    "\n",
    "names = [\"Action\", \"Adventure\", \"Comedy\", \"Drama\", \"Fantasy\", \"Thriller\"]\n",
    "\n",
    "type(matrix[0][2])"
   ]
  },
  {
   "cell_type": "code",
   "execution_count": 7,
   "metadata": {},
   "outputs": [],
   "source": [
    "Chord(matrix, names).to_html(\"chord-diagram-chord-library.html\")"
   ]
  },
  {
   "cell_type": "code",
   "execution_count": 8,
   "metadata": {},
   "outputs": [
    {
     "data": {
      "text/html": [
       "<iframe src=\"chord-diagram-chord-library.html\" width=\"800\" height=\"600\" title=\"Chord diagram with the chord library\" style=\"border:none\"></iframe>\n"
      ],
      "text/plain": [
       "<IPython.core.display.HTML object>"
      ]
     },
     "metadata": {},
     "output_type": "display_data"
    }
   ],
   "source": [
    "%%html\n",
    "<iframe src=\"chord-diagram-chord-library.html\" width=\"800\" height=\"600\" title=\"Chord diagram with the chord library\" style=\"border:none\"></iframe>"
   ]
  },
  {
   "cell_type": "code",
   "execution_count": null,
   "metadata": {},
   "outputs": [],
   "source": []
  }
 ],
 "metadata": {
  "kernelspec": {
   "display_name": "Python 3",
   "language": "python",
   "name": "python3"
  },
  "language_info": {
   "codemirror_mode": {
    "name": "ipython",
    "version": 3
   },
   "file_extension": ".py",
   "mimetype": "text/x-python",
   "name": "python",
   "nbconvert_exporter": "python",
   "pygments_lexer": "ipython3",
   "version": "3.8.2"
  }
 },
 "nbformat": 4,
 "nbformat_minor": 4
}
