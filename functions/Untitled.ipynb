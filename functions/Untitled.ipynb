{
 "cells": [
  {
   "cell_type": "code",
   "execution_count": 20,
   "id": "60c1d5b5",
   "metadata": {},
   "outputs": [],
   "source": [
    "def encode_depto_pretty(series):\n",
    "    \"Codifica departamento INE, formateado\"\n",
    "    deptos_dict = {\n",
    "        'Montevideo': 1,\n",
    "        'Artigas': 2,\n",
    "        'Canelones': 3,\n",
    "        'Cerro Largo': 4,\n",
    "        'Colonia': 5,\n",
    "        'Durazno': 6,\n",
    "        'Flores': 7,\n",
    "        'Florida': 8,\n",
    "        'Lavalleja': 9,\n",
    "        'Maldonado': 10,\n",
    "        'Paysandú': 11,\n",
    "        'Río Negro': 12,\n",
    "        'Rivera': 13,\n",
    "        'Rocha': 14,\n",
    "        'Salto': 15,\n",
    "        'San José': 16,\n",
    "        'Soriano': 17,\n",
    "        'Tacuarembó': 18,\n",
    "        'Treinta y Tres': 19\n",
    "        }\n",
    "    cod = series.map(deptos_dict).values\n",
    "    return cod[0]"
   ]
  },
  {
   "cell_type": "code",
   "execution_count": 21,
   "id": "1d68914f",
   "metadata": {},
   "outputs": [],
   "source": [
    "import pandas as pd\n",
    "import numpy as np\n",
    "test = pd.Series('Artigas')"
   ]
  },
  {
   "cell_type": "code",
   "execution_count": 22,
   "id": "fc0b61cc",
   "metadata": {},
   "outputs": [
    {
     "data": {
      "text/plain": [
       "2"
      ]
     },
     "execution_count": 22,
     "metadata": {},
     "output_type": "execute_result"
    }
   ],
   "source": [
    "encode_depto_pretty(test)"
   ]
  },
  {
   "cell_type": "code",
   "execution_count": null,
   "id": "8a446084",
   "metadata": {},
   "outputs": [],
   "source": []
  },
  {
   "cell_type": "code",
   "execution_count": null,
   "id": "64b6008d",
   "metadata": {},
   "outputs": [],
   "source": []
  }
 ],
 "metadata": {
  "kernelspec": {
   "display_name": "Python 3",
   "language": "python",
   "name": "python3"
  },
  "language_info": {
   "codemirror_mode": {
    "name": "ipython",
    "version": 3
   },
   "file_extension": ".py",
   "mimetype": "text/x-python",
   "name": "python",
   "nbconvert_exporter": "python",
   "pygments_lexer": "ipython3",
   "version": "3.7.10"
  }
 },
 "nbformat": 4,
 "nbformat_minor": 5
}
