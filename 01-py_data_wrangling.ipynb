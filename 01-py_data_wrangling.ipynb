{
 "metadata": {
  "language_info": {
   "codemirror_mode": {
    "name": "ipython",
    "version": 3
   },
   "file_extension": ".py",
   "mimetype": "text/x-python",
   "name": "python",
   "nbconvert_exporter": "python",
   "pygments_lexer": "ipython3",
   "version": "3.9.2-final"
  },
  "orig_nbformat": 2,
  "kernelspec": {
   "name": "python392jvsc74a57bd05ce838cc175eb9c7ee2cce823ae805de6106cb4564d9fc7b3476b35fac8c9293",
   "display_name": "Python 3.9.2 64-bit ('tesis': conda)"
  },
  "metadata": {
   "interpreter": {
    "hash": "5ce838cc175eb9c7ee2cce823ae805de6106cb4564d9fc7b3476b35fac8c9293"
   }
  }
 },
 "nbformat": 4,
 "nbformat_minor": 2,
 "cells": [
  {
   "source": [
    "## data wrangling\n",
    "Carga censo y filtra solo migrantes internos, luego guarda comprimido"
   ],
   "cell_type": "markdown",
   "metadata": {}
  },
  {
   "cell_type": "code",
   "execution_count": 1,
   "metadata": {},
   "outputs": [],
   "source": [
    "import pandas as pd\n",
    "import os\n",
    "import numpy as np\n",
    "\n",
    "# funciones desarrolladas\n",
    "from functions.agrupar_dfs_censo import *\n",
    "from functions.cargar_data import *"
   ]
  },
  {
   "cell_type": "code",
   "execution_count": 2,
   "metadata": {},
   "outputs": [
    {
     "output_type": "execute_result",
     "data": {
      "text/plain": [
       "148759"
      ]
     },
     "metadata": {},
     "execution_count": 2
    }
   ],
   "source": [
    "# carga censo\n",
    "censo = cargar_censo()\n",
    "\n",
    "p_migr = filter_df_censo(censo)\n",
    "p_migr.shape[0]"
   ]
  },
  {
   "cell_type": "code",
   "execution_count": 6,
   "metadata": {},
   "outputs": [],
   "source": [
    "# guarda\n",
    "p_migr.to_csv('tablas/censo_2011_migrantes_internos.gz',\n",
    "               index=False,\n",
    "               compression=\"gzip\")"
   ]
  },
  {
   "cell_type": "code",
   "execution_count": 24,
   "metadata": {},
   "outputs": [],
   "source": []
  },
  {
   "cell_type": "code",
   "execution_count": 26,
   "metadata": {},
   "outputs": [],
   "source": []
  },
  {
   "cell_type": "code",
   "execution_count": 28,
   "metadata": {},
   "outputs": [
    {
     "output_type": "execute_result",
     "data": {
      "text/plain": [
       "    DPTO  poblacion\n",
       "0      1    1318755\n",
       "1      2      73377\n",
       "2      3     520173\n",
       "3      4      84698\n",
       "4      5     123203\n",
       "5      6      57084\n",
       "6      7      25050\n",
       "7      8      67047\n",
       "8      9      58815\n",
       "9     10     164298\n",
       "10    11     113107\n",
       "11    12      54765\n",
       "12    13     103473\n",
       "13    14      68088\n",
       "14    15     124861\n",
       "15    16     108304\n",
       "16    17      82594\n",
       "17    18      90051\n",
       "18    19      48134"
      ],
      "text/html": "<div>\n<style scoped>\n    .dataframe tbody tr th:only-of-type {\n        vertical-align: middle;\n    }\n\n    .dataframe tbody tr th {\n        vertical-align: top;\n    }\n\n    .dataframe thead th {\n        text-align: right;\n    }\n</style>\n<table border=\"1\" class=\"dataframe\">\n  <thead>\n    <tr style=\"text-align: right;\">\n      <th></th>\n      <th>DPTO</th>\n      <th>poblacion</th>\n    </tr>\n  </thead>\n  <tbody>\n    <tr>\n      <th>0</th>\n      <td>1</td>\n      <td>1318755</td>\n    </tr>\n    <tr>\n      <th>1</th>\n      <td>2</td>\n      <td>73377</td>\n    </tr>\n    <tr>\n      <th>2</th>\n      <td>3</td>\n      <td>520173</td>\n    </tr>\n    <tr>\n      <th>3</th>\n      <td>4</td>\n      <td>84698</td>\n    </tr>\n    <tr>\n      <th>4</th>\n      <td>5</td>\n      <td>123203</td>\n    </tr>\n    <tr>\n      <th>5</th>\n      <td>6</td>\n      <td>57084</td>\n    </tr>\n    <tr>\n      <th>6</th>\n      <td>7</td>\n      <td>25050</td>\n    </tr>\n    <tr>\n      <th>7</th>\n      <td>8</td>\n      <td>67047</td>\n    </tr>\n    <tr>\n      <th>8</th>\n      <td>9</td>\n      <td>58815</td>\n    </tr>\n    <tr>\n      <th>9</th>\n      <td>10</td>\n      <td>164298</td>\n    </tr>\n    <tr>\n      <th>10</th>\n      <td>11</td>\n      <td>113107</td>\n    </tr>\n    <tr>\n      <th>11</th>\n      <td>12</td>\n      <td>54765</td>\n    </tr>\n    <tr>\n      <th>12</th>\n      <td>13</td>\n      <td>103473</td>\n    </tr>\n    <tr>\n      <th>13</th>\n      <td>14</td>\n      <td>68088</td>\n    </tr>\n    <tr>\n      <th>14</th>\n      <td>15</td>\n      <td>124861</td>\n    </tr>\n    <tr>\n      <th>15</th>\n      <td>16</td>\n      <td>108304</td>\n    </tr>\n    <tr>\n      <th>16</th>\n      <td>17</td>\n      <td>82594</td>\n    </tr>\n    <tr>\n      <th>17</th>\n      <td>18</td>\n      <td>90051</td>\n    </tr>\n    <tr>\n      <th>18</th>\n      <td>19</td>\n      <td>48134</td>\n    </tr>\n  </tbody>\n</table>\n</div>"
     },
     "metadata": {},
     "execution_count": 28
    }
   ],
   "source": []
  },
  {
   "cell_type": "code",
   "execution_count": null,
   "metadata": {},
   "outputs": [],
   "source": []
  }
 ]
}