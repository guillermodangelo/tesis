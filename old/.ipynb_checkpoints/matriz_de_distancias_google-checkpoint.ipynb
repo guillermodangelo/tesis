{
 "cells": [
  {
   "cell_type": "code",
   "execution_count": 1,
   "metadata": {
    "colab": {},
    "colab_type": "code",
    "id": "DohGIvsxoyow"
   },
   "outputs": [],
   "source": [
    "import pandas as pd\n",
    "import geopandas as gpd\n",
    "import os\n",
    "import numpy as np\n",
    "import requests\n",
    "import urllib\n",
    "import json"
   ]
  },
  {
   "cell_type": "code",
   "execution_count": 3,
   "metadata": {
    "colab": {
     "base_uri": "https://localhost:8080/",
     "height": 206
    },
    "colab_type": "code",
    "id": "bwq1O7ito73b",
    "outputId": "232bc175-354c-4559-9bd8-b17e2effcdc2"
   },
   "outputs": [
    {
     "data": {
      "text/html": [
       "<div>\n",
       "<style scoped>\n",
       "    .dataframe tbody tr th:only-of-type {\n",
       "        vertical-align: middle;\n",
       "    }\n",
       "\n",
       "    .dataframe tbody tr th {\n",
       "        vertical-align: top;\n",
       "    }\n",
       "\n",
       "    .dataframe thead th {\n",
       "        text-align: right;\n",
       "    }\n",
       "</style>\n",
       "<table border=\"1\" class=\"dataframe\">\n",
       "  <thead>\n",
       "    <tr style=\"text-align: right;\">\n",
       "      <th></th>\n",
       "      <th>DEPTO</th>\n",
       "      <th>LOCALIDAD</th>\n",
       "      <th>CODLOC</th>\n",
       "      <th>NOMBDEPTO</th>\n",
       "      <th>NOMBLOC</th>\n",
       "      <th>CDEPTO_ISO</th>\n",
       "      <th>CLOC_ISO</th>\n",
       "      <th>ETIQUETA</th>\n",
       "      <th>CAPITAL</th>\n",
       "      <th>geometry</th>\n",
       "    </tr>\n",
       "  </thead>\n",
       "  <tbody>\n",
       "    <tr>\n",
       "      <th>0</th>\n",
       "      <td>2</td>\n",
       "      <td>220</td>\n",
       "      <td>2220</td>\n",
       "      <td>ARTIGAS</td>\n",
       "      <td>ARTIGAS</td>\n",
       "      <td>UYAR</td>\n",
       "      <td>UYARART</td>\n",
       "      <td>Artigas</td>\n",
       "      <td>True</td>\n",
       "      <td>POINT (549273.219 6633915.063)</td>\n",
       "    </tr>\n",
       "    <tr>\n",
       "      <th>1</th>\n",
       "      <td>3</td>\n",
       "      <td>320</td>\n",
       "      <td>3320</td>\n",
       "      <td>CANELONES</td>\n",
       "      <td>CANELONES</td>\n",
       "      <td>UYCA</td>\n",
       "      <td>UYCACAN</td>\n",
       "      <td>Canelones</td>\n",
       "      <td>True</td>\n",
       "      <td>POINT (565955.641 6179409.202)</td>\n",
       "    </tr>\n",
       "    <tr>\n",
       "      <th>2</th>\n",
       "      <td>4</td>\n",
       "      <td>220</td>\n",
       "      <td>4220</td>\n",
       "      <td>CERRO LARGO</td>\n",
       "      <td>MELO</td>\n",
       "      <td>UYCL</td>\n",
       "      <td>UYCLMLO</td>\n",
       "      <td>Melo</td>\n",
       "      <td>True</td>\n",
       "      <td>POINT (766475.520 6415360.379)</td>\n",
       "    </tr>\n",
       "    <tr>\n",
       "      <th>3</th>\n",
       "      <td>5</td>\n",
       "      <td>320</td>\n",
       "      <td>5320</td>\n",
       "      <td>COLONIA</td>\n",
       "      <td>COLONIA DEL SACRAMENTO</td>\n",
       "      <td>UYCO</td>\n",
       "      <td>UYCOCDS</td>\n",
       "      <td>Colonia</td>\n",
       "      <td>True</td>\n",
       "      <td>POINT (422937.981 6187566.893)</td>\n",
       "    </tr>\n",
       "    <tr>\n",
       "      <th>4</th>\n",
       "      <td>6</td>\n",
       "      <td>220</td>\n",
       "      <td>6220</td>\n",
       "      <td>DURAZNO</td>\n",
       "      <td>DURAZNO</td>\n",
       "      <td>UYDU</td>\n",
       "      <td>UYDUDNO</td>\n",
       "      <td>Durazno</td>\n",
       "      <td>True</td>\n",
       "      <td>POINT (544395.697 6306205.765)</td>\n",
       "    </tr>\n",
       "  </tbody>\n",
       "</table>\n",
       "</div>"
      ],
      "text/plain": [
       "   DEPTO  LOCALIDAD  CODLOC  ...   ETIQUETA CAPITAL                        geometry\n",
       "0      2        220    2220  ...    Artigas    True  POINT (549273.219 6633915.063)\n",
       "1      3        320    3320  ...  Canelones    True  POINT (565955.641 6179409.202)\n",
       "2      4        220    4220  ...       Melo    True  POINT (766475.520 6415360.379)\n",
       "3      5        320    5320  ...    Colonia    True  POINT (422937.981 6187566.893)\n",
       "4      6        220    6220  ...    Durazno    True  POINT (544395.697 6306205.765)\n",
       "\n",
       "[5 rows x 10 columns]"
      ]
     },
     "execution_count": 3,
     "metadata": {
      "tags": []
     },
     "output_type": "execute_result"
    }
   ],
   "source": [
    "# carga capa localidades INE pt\n",
    "localidad = gpd.read_file('https://raw.githubusercontent.com/guillermodangelo/tesis/master/capas/ine_localidades.gpkg')\n",
    "localidad.CODLOC = localidad.CODLOC.astype(int)\n",
    "\n",
    "# filtra capitales departamentales de las localidades INE\n",
    "capital = localidad[localidad.CAPITAL==True].reset_index(drop=True)\n",
    "capital.head()"
   ]
  },
  {
   "cell_type": "code",
   "execution_count": 4,
   "metadata": {
    "colab": {
     "base_uri": "https://localhost:8080/",
     "height": 206
    },
    "colab_type": "code",
    "id": "7bLBFiJJpCgE",
    "outputId": "ef96caa2-0b59-4860-9492-f3a92009db21"
   },
   "outputs": [
    {
     "data": {
      "text/html": [
       "<div>\n",
       "<style scoped>\n",
       "    .dataframe tbody tr th:only-of-type {\n",
       "        vertical-align: middle;\n",
       "    }\n",
       "\n",
       "    .dataframe tbody tr th {\n",
       "        vertical-align: top;\n",
       "    }\n",
       "\n",
       "    .dataframe thead th {\n",
       "        text-align: right;\n",
       "    }\n",
       "</style>\n",
       "<table border=\"1\" class=\"dataframe\">\n",
       "  <thead>\n",
       "    <tr style=\"text-align: right;\">\n",
       "      <th></th>\n",
       "      <th>DEPTO</th>\n",
       "      <th>LOCALIDAD</th>\n",
       "      <th>CODLOC</th>\n",
       "      <th>NOMBDEPTO</th>\n",
       "      <th>NOMBLOC</th>\n",
       "      <th>CDEPTO_ISO</th>\n",
       "      <th>CLOC_ISO</th>\n",
       "      <th>ETIQUETA</th>\n",
       "      <th>CAPITAL</th>\n",
       "      <th>geometry</th>\n",
       "      <th>lat</th>\n",
       "      <th>lon</th>\n",
       "      <th>latlon</th>\n",
       "    </tr>\n",
       "  </thead>\n",
       "  <tbody>\n",
       "    <tr>\n",
       "      <th>0</th>\n",
       "      <td>2</td>\n",
       "      <td>220</td>\n",
       "      <td>2220</td>\n",
       "      <td>ARTIGAS</td>\n",
       "      <td>ARTIGAS</td>\n",
       "      <td>UYAR</td>\n",
       "      <td>UYARART</td>\n",
       "      <td>Artigas</td>\n",
       "      <td>True</td>\n",
       "      <td>POINT (549273.219 6633915.063)</td>\n",
       "      <td>-30.425838</td>\n",
       "      <td>-56.486918</td>\n",
       "      <td>-30.42583821419782,-56.48691836714405</td>\n",
       "    </tr>\n",
       "    <tr>\n",
       "      <th>1</th>\n",
       "      <td>3</td>\n",
       "      <td>320</td>\n",
       "      <td>3320</td>\n",
       "      <td>CANELONES</td>\n",
       "      <td>CANELONES</td>\n",
       "      <td>UYCA</td>\n",
       "      <td>UYCACAN</td>\n",
       "      <td>Canelones</td>\n",
       "      <td>True</td>\n",
       "      <td>POINT (565955.641 6179409.202)</td>\n",
       "      <td>-34.524882</td>\n",
       "      <td>-56.281348</td>\n",
       "      <td>-34.5248820942228,-56.28134757794109</td>\n",
       "    </tr>\n",
       "    <tr>\n",
       "      <th>2</th>\n",
       "      <td>4</td>\n",
       "      <td>220</td>\n",
       "      <td>4220</td>\n",
       "      <td>CERRO LARGO</td>\n",
       "      <td>MELO</td>\n",
       "      <td>UYCL</td>\n",
       "      <td>UYCLMLO</td>\n",
       "      <td>Melo</td>\n",
       "      <td>True</td>\n",
       "      <td>POINT (766475.520 6415360.379)</td>\n",
       "      <td>-32.366966</td>\n",
       "      <td>-54.167977</td>\n",
       "      <td>-32.366965911958815,-54.16797657500114</td>\n",
       "    </tr>\n",
       "    <tr>\n",
       "      <th>3</th>\n",
       "      <td>5</td>\n",
       "      <td>320</td>\n",
       "      <td>5320</td>\n",
       "      <td>COLONIA</td>\n",
       "      <td>COLONIA DEL SACRAMENTO</td>\n",
       "      <td>UYCO</td>\n",
       "      <td>UYCOCDS</td>\n",
       "      <td>Colonia</td>\n",
       "      <td>True</td>\n",
       "      <td>POINT (422937.981 6187566.893)</td>\n",
       "      <td>-34.450550</td>\n",
       "      <td>-57.838920</td>\n",
       "      <td>-34.45055037560706,-57.838919942012616</td>\n",
       "    </tr>\n",
       "    <tr>\n",
       "      <th>4</th>\n",
       "      <td>6</td>\n",
       "      <td>220</td>\n",
       "      <td>6220</td>\n",
       "      <td>DURAZNO</td>\n",
       "      <td>DURAZNO</td>\n",
       "      <td>UYDU</td>\n",
       "      <td>UYDUDNO</td>\n",
       "      <td>Durazno</td>\n",
       "      <td>True</td>\n",
       "      <td>POINT (544395.697 6306205.765)</td>\n",
       "      <td>-33.382502</td>\n",
       "      <td>-56.522684</td>\n",
       "      <td>-33.38250225260489,-56.5226838660229</td>\n",
       "    </tr>\n",
       "  </tbody>\n",
       "</table>\n",
       "</div>"
      ],
      "text/plain": [
       "   DEPTO  LOCALIDAD  ...        lon                                  latlon\n",
       "0      2        220  ... -56.486918   -30.42583821419782,-56.48691836714405\n",
       "1      3        320  ... -56.281348    -34.5248820942228,-56.28134757794109\n",
       "2      4        220  ... -54.167977  -32.366965911958815,-54.16797657500114\n",
       "3      5        320  ... -57.838920  -34.45055037560706,-57.838919942012616\n",
       "4      6        220  ... -56.522684    -33.38250225260489,-56.5226838660229\n",
       "\n",
       "[5 rows x 13 columns]"
      ]
     },
     "execution_count": 4,
     "metadata": {
      "tags": []
     },
     "output_type": "execute_result"
    }
   ],
   "source": [
    "# obtiene coordenadas en EPSG 4326\n",
    "lon = capital['geometry'].to_crs(epsg=4326).x\n",
    "lat = capital['geometry'].to_crs(epsg=4326).y\n",
    "capital_repro = pd.concat( [ pd.DataFrame( list(lat), columns=['lat'] ), pd.DataFrame( list(lon), columns=['lon'] ) ], axis=1, sort=False)\n",
    "\n",
    "# concatena en un sólo string\n",
    "capital_repro['latlon'] = capital_repro.apply(lambda x:'%s,%s' % (x['lat'],x['lon']),axis=1)\n",
    "\n",
    "# concatena ambos df\n",
    "df_capital = pd.concat([capital, capital_repro], axis=1, ignore_index=False)\n",
    "df_capital.head()"
   ]
  },
  {
   "cell_type": "code",
   "execution_count": 5,
   "metadata": {
    "colab": {
     "base_uri": "https://localhost:8080/",
     "height": 265
    },
    "colab_type": "code",
    "id": "uipU7bmOqYrq",
    "outputId": "42380357-bfa8-46da-b954-728170da84da"
   },
   "outputs": [
    {
     "name": "stdout",
     "output_type": "stream",
     "text": [
      "342\n"
     ]
    },
    {
     "name": "stderr",
     "output_type": "stream",
     "text": [
      "/usr/local/lib/python3.6/dist-packages/ipykernel_launcher.py:3: SettingWithCopyWarning: \n",
      "A value is trying to be set on a copy of a slice from a DataFrame.\n",
      "Try using .loc[row_indexer,col_indexer] = value instead\n",
      "\n",
      "See the caveats in the documentation: https://pandas.pydata.org/pandas-docs/stable/user_guide/indexing.html#returning-a-view-versus-a-copy\n",
      "  This is separate from the ipykernel package so we can avoid doing imports until\n"
     ]
    },
    {
     "data": {
      "text/html": [
       "<div>\n",
       "<style scoped>\n",
       "    .dataframe tbody tr th:only-of-type {\n",
       "        vertical-align: middle;\n",
       "    }\n",
       "\n",
       "    .dataframe tbody tr th {\n",
       "        vertical-align: top;\n",
       "    }\n",
       "\n",
       "    .dataframe thead th {\n",
       "        text-align: right;\n",
       "    }\n",
       "</style>\n",
       "<table border=\"1\" class=\"dataframe\">\n",
       "  <thead>\n",
       "    <tr style=\"text-align: right;\">\n",
       "      <th></th>\n",
       "      <th>cod_ori</th>\n",
       "      <th>latlon_ori</th>\n",
       "      <th>cod_des</th>\n",
       "      <th>latlon_des</th>\n",
       "      <th>cod</th>\n",
       "    </tr>\n",
       "  </thead>\n",
       "  <tbody>\n",
       "    <tr>\n",
       "      <th>1</th>\n",
       "      <td>2220</td>\n",
       "      <td>-30.42583821419782,-56.48691836714405</td>\n",
       "      <td>3320</td>\n",
       "      <td>-34.5248820942228,-56.28134757794109</td>\n",
       "      <td>22203320</td>\n",
       "    </tr>\n",
       "    <tr>\n",
       "      <th>2</th>\n",
       "      <td>2220</td>\n",
       "      <td>-30.42583821419782,-56.48691836714405</td>\n",
       "      <td>4220</td>\n",
       "      <td>-32.366965911958815,-54.16797657500114</td>\n",
       "      <td>22204220</td>\n",
       "    </tr>\n",
       "    <tr>\n",
       "      <th>3</th>\n",
       "      <td>2220</td>\n",
       "      <td>-30.42583821419782,-56.48691836714405</td>\n",
       "      <td>5320</td>\n",
       "      <td>-34.45055037560706,-57.838919942012616</td>\n",
       "      <td>22205320</td>\n",
       "    </tr>\n",
       "  </tbody>\n",
       "</table>\n",
       "</div>"
      ],
      "text/plain": [
       "   cod_ori  ...       cod\n",
       "1     2220  ...  22203320\n",
       "2     2220  ...  22204220\n",
       "3     2220  ...  22205320\n",
       "\n",
       "[3 rows x 5 columns]"
      ]
     },
     "execution_count": 5,
     "metadata": {
      "tags": []
     },
     "output_type": "execute_result"
    }
   ],
   "source": [
    "# realiza el producto cartesiano para obtener todas las combinaciones posibles de localidades\n",
    "df_capital_coords = df_capital[['CODLOC', 'latlon']]\n",
    "df_capital_coords['key']=0\n",
    "\n",
    "df_prod_cartesiano = df_capital_coords.merge(df_capital_coords, on='key', how='outer')\n",
    "df_prod_cartesiano.drop(columns=['key'], inplace=True)\n",
    "df_prod_cartesiano.rename(columns={'CODLOC_x': 'cod_ori', 'latlon_x': 'latlon_ori',\n",
    "                                       'CODLOC_y': 'cod_des', 'latlon_y': 'latlon_des'}, inplace=True)\n",
    "\n",
    "# elimina misma cod origen-destino\n",
    "df_prod_cartesiano = df_prod_cartesiano[df_prod_cartesiano['cod_ori'] != df_prod_cartesiano['cod_des']]\n",
    "\n",
    "# concatena en un código\n",
    "df_prod_cartesiano['cod'] = (df_prod_cartesiano['cod_ori'].astype(str) + df_prod_cartesiano['cod_des'].astype(str)).astype('int')\n",
    "\n",
    "print(df_prod_cartesiano.shape[0])\n",
    "df_prod_cartesiano.head(3)"
   ]
  },
  {
   "cell_type": "code",
   "execution_count": null,
   "metadata": {
    "colab": {},
    "colab_type": "code",
    "id": "3ZW7JJ9dpAQK"
   },
   "outputs": [],
   "source": [
    "# matriz de distancia entre capitales departamentales de departamentos\n",
    "\n",
    "# define la función obtenerDistancia que usa la API Distance Matrix de Google\n",
    "\n",
    "def obtenerDistancia(ori, dest, API_KEY):\n",
    "    '''\n",
    "    Esta funcion devuelve distancia en km entre un o varios par(es) de coordenadas\n",
    "    geográficas, utilizando la API de Google Distance Matrix.\n",
    "    '''\n",
    "    APIurl = \"\"\"https://maps.googleapis.com/maps/api/distancematrix/json?\n",
    "                 units=metric&mode=walking&origins=\"\"\" + ori +\\\n",
    "                 \"&destinations=\" + dest + \"&key=\" + API_KEY\n",
    "    #Obtener la respuesta y cargar la representacion en un string\n",
    "    response = requests.get(APIurl)\n",
    "    geodataString = response.text\n",
    "    geodata = json.loads(geodataString)\n",
    "    # si la API no devulve resultados, la distancia será 'None'\n",
    "    if geodata['rows'][0]['elements'][0]['status']=='ZERO_RESULTS':\n",
    "        distancia = None\n",
    "    else:\n",
    "        distancia = geodata['rows'][0]['elements'][0]['distance']['value']\n",
    "    return distancia"
   ]
  },
  {
   "cell_type": "code",
   "execution_count": 7,
   "metadata": {
    "colab": {
     "base_uri": "https://localhost:8080/",
     "height": 161
    },
    "colab_type": "code",
    "id": "flK1eF9fqdMv",
    "outputId": "c9f30d3e-981e-42f0-86b7-1164bb4fff13"
   },
   "outputs": [
    {
     "name": "stdout",
     "output_type": "stream",
     "text": [
      "342\n"
     ]
    },
    {
     "data": {
      "text/html": [
       "<div>\n",
       "<style scoped>\n",
       "    .dataframe tbody tr th:only-of-type {\n",
       "        vertical-align: middle;\n",
       "    }\n",
       "\n",
       "    .dataframe tbody tr th {\n",
       "        vertical-align: top;\n",
       "    }\n",
       "\n",
       "    .dataframe thead th {\n",
       "        text-align: right;\n",
       "    }\n",
       "</style>\n",
       "<table border=\"1\" class=\"dataframe\">\n",
       "  <thead>\n",
       "    <tr style=\"text-align: right;\">\n",
       "      <th></th>\n",
       "      <th>cod_ori</th>\n",
       "      <th>latlon_ori</th>\n",
       "      <th>cod_des</th>\n",
       "      <th>latlon_des</th>\n",
       "      <th>cod</th>\n",
       "    </tr>\n",
       "  </thead>\n",
       "  <tbody>\n",
       "    <tr>\n",
       "      <th>0</th>\n",
       "      <td>1020</td>\n",
       "      <td>-34.83459368462574,-56.200727322283996</td>\n",
       "      <td>2220</td>\n",
       "      <td>-30.42583821419782,-56.48691836714405</td>\n",
       "      <td>10202220</td>\n",
       "    </tr>\n",
       "    <tr>\n",
       "      <th>1</th>\n",
       "      <td>1020</td>\n",
       "      <td>-34.83459368462574,-56.200727322283996</td>\n",
       "      <td>3320</td>\n",
       "      <td>-34.5248820942228,-56.28134757794109</td>\n",
       "      <td>10203320</td>\n",
       "    </tr>\n",
       "    <tr>\n",
       "      <th>2</th>\n",
       "      <td>1020</td>\n",
       "      <td>-34.83459368462574,-56.200727322283996</td>\n",
       "      <td>4220</td>\n",
       "      <td>-32.366965911958815,-54.16797657500114</td>\n",
       "      <td>10204220</td>\n",
       "    </tr>\n",
       "  </tbody>\n",
       "</table>\n",
       "</div>"
      ],
      "text/plain": [
       "   cod_ori  ...       cod\n",
       "0     1020  ...  10202220\n",
       "1     1020  ...  10203320\n",
       "2     1020  ...  10204220\n",
       "\n",
       "[3 rows x 5 columns]"
      ]
     },
     "execution_count": 7,
     "metadata": {
      "tags": []
     },
     "output_type": "execute_result"
    }
   ],
   "source": [
    "# setea la API KEY\n",
    "API_KEY = 'API KEY proporcionada por los web services de Google Map Platform'\n",
    "\n",
    "# ordena y resetea el índice\n",
    "df_prod_cartesiano.sort_values(by=['cod_ori', 'cod_des'], inplace=True)\n",
    "df_prod_cartesiano.reset_index(drop=True, inplace=True)\n",
    "\n",
    "print(df_prod_cartesiano.shape[0])\n",
    "df_prod_cartesiano.head(3)"
   ]
  },
  {
   "cell_type": "code",
   "execution_count": null,
   "metadata": {
    "colab": {},
    "colab_type": "code",
    "id": "2pBcwTTEqhSC"
   },
   "outputs": [],
   "source": [
    "# son 342 díadas de localdiades\n",
    "# for loop para obtener una lista con las distancias entre localidades\n",
    "# aplica la función obtenerDistancia para combinaciones de localidades\n",
    "\n",
    "distancias=[]\n",
    "\n",
    "for x in range(0, df_prod_cartesiano.shape[0]):\n",
    "  distancias.append(obtenerDistancia( df_prod_cartesiano.latlon_ori[x] , df_prod_cartesiano.latlon_des[x] , API_KEY))"
   ]
  },
  {
   "cell_type": "code",
   "execution_count": 10,
   "metadata": {
    "colab": {
     "base_uri": "https://localhost:8080/",
     "height": 52
    },
    "colab_type": "code",
    "id": "OEFgtRqhrmuk",
    "outputId": "783dec93-e4fa-4a8f-f726-e6901299aac6"
   },
   "outputs": [
    {
     "name": "stdout",
     "output_type": "stream",
     "text": [
      "342\n"
     ]
    },
    {
     "data": {
      "text/plain": [
       "18"
      ]
     },
     "execution_count": 10,
     "metadata": {
      "tags": []
     },
     "output_type": "execute_result"
    }
   ],
   "source": [
    "print(len(distancias))"
   ]
  },
  {
   "cell_type": "code",
   "execution_count": 11,
   "metadata": {
    "colab": {
     "base_uri": "https://localhost:8080/",
     "height": 206
    },
    "colab_type": "code",
    "id": "vpFkyI64qjvp",
    "outputId": "ecfee181-6823-48a6-d16f-11cb0195b19d"
   },
   "outputs": [
    {
     "data": {
      "text/html": [
       "<div>\n",
       "<style scoped>\n",
       "    .dataframe tbody tr th:only-of-type {\n",
       "        vertical-align: middle;\n",
       "    }\n",
       "\n",
       "    .dataframe tbody tr th {\n",
       "        vertical-align: top;\n",
       "    }\n",
       "\n",
       "    .dataframe thead th {\n",
       "        text-align: right;\n",
       "    }\n",
       "</style>\n",
       "<table border=\"1\" class=\"dataframe\">\n",
       "  <thead>\n",
       "    <tr style=\"text-align: right;\">\n",
       "      <th></th>\n",
       "      <th>cod_ori</th>\n",
       "      <th>latlon_ori</th>\n",
       "      <th>cod_des</th>\n",
       "      <th>latlon_des</th>\n",
       "      <th>cod</th>\n",
       "      <th>distancia</th>\n",
       "    </tr>\n",
       "  </thead>\n",
       "  <tbody>\n",
       "    <tr>\n",
       "      <th>0</th>\n",
       "      <td>1020</td>\n",
       "      <td>-34.83459368462574,-56.200727322283996</td>\n",
       "      <td>2220</td>\n",
       "      <td>-30.42583821419782,-56.48691836714405</td>\n",
       "      <td>10202220</td>\n",
       "      <td>575727</td>\n",
       "    </tr>\n",
       "    <tr>\n",
       "      <th>1</th>\n",
       "      <td>1020</td>\n",
       "      <td>-34.83459368462574,-56.200727322283996</td>\n",
       "      <td>3320</td>\n",
       "      <td>-34.5248820942228,-56.28134757794109</td>\n",
       "      <td>10203320</td>\n",
       "      <td>36864</td>\n",
       "    </tr>\n",
       "    <tr>\n",
       "      <th>2</th>\n",
       "      <td>1020</td>\n",
       "      <td>-34.83459368462574,-56.200727322283996</td>\n",
       "      <td>4220</td>\n",
       "      <td>-32.366965911958815,-54.16797657500114</td>\n",
       "      <td>10204220</td>\n",
       "      <td>381442</td>\n",
       "    </tr>\n",
       "    <tr>\n",
       "      <th>3</th>\n",
       "      <td>1020</td>\n",
       "      <td>-34.83459368462574,-56.200727322283996</td>\n",
       "      <td>5320</td>\n",
       "      <td>-34.45055037560706,-57.838919942012616</td>\n",
       "      <td>10205320</td>\n",
       "      <td>172714</td>\n",
       "    </tr>\n",
       "    <tr>\n",
       "      <th>4</th>\n",
       "      <td>1020</td>\n",
       "      <td>-34.83459368462574,-56.200727322283996</td>\n",
       "      <td>6220</td>\n",
       "      <td>-33.38250225260489,-56.5226838660229</td>\n",
       "      <td>10206220</td>\n",
       "      <td>175468</td>\n",
       "    </tr>\n",
       "  </tbody>\n",
       "</table>\n",
       "</div>"
      ],
      "text/plain": [
       "   cod_ori                              latlon_ori  ...       cod distancia\n",
       "0     1020  -34.83459368462574,-56.200727322283996  ...  10202220    575727\n",
       "1     1020  -34.83459368462574,-56.200727322283996  ...  10203320     36864\n",
       "2     1020  -34.83459368462574,-56.200727322283996  ...  10204220    381442\n",
       "3     1020  -34.83459368462574,-56.200727322283996  ...  10205320    172714\n",
       "4     1020  -34.83459368462574,-56.200727322283996  ...  10206220    175468\n",
       "\n",
       "[5 rows x 6 columns]"
      ]
     },
     "execution_count": 11,
     "metadata": {
      "tags": []
     },
     "output_type": "execute_result"
    }
   ],
   "source": [
    "# pega con el df original\n",
    "# se conviernte en matriz de distancias, data frame\n",
    "df_distancias_google = pd.concat([df_prod_cartesiano.reset_index(drop=True), pd.DataFrame(distancias, columns=['distancia'])], axis=1)\n",
    "df_distancias_google.head()"
   ]
  }
 ],
 "metadata": {
  "colab": {
   "authorship_tag": "ABX9TyPqKRw/9E1kHtowdnEFWwNz",
   "collapsed_sections": [],
   "include_colab_link": true,
   "name": "matriz_de_distancias_google.ipynb",
   "provenance": []
  },
  "kernelspec": {
   "display_name": "Python 3",
   "language": "python",
   "name": "python3"
  },
  "language_info": {
   "codemirror_mode": {
    "name": "ipython",
    "version": 3
   },
   "file_extension": ".py",
   "mimetype": "text/x-python",
   "name": "python",
   "nbconvert_exporter": "python",
   "pygments_lexer": "ipython3",
   "version": "3.8.2"
  }
 },
 "nbformat": 4,
 "nbformat_minor": 4
}
