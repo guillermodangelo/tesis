{
 "cells": [
  {
   "cell_type": "code",
   "execution_count": 56,
   "metadata": {},
   "outputs": [],
   "source": [
    "import pandas as pd\n",
    "import numpy as np\n",
    "from sklearn.metrics import r2_score, mean_squared_error\n",
    "from sklearn.model_selection import train_test_split\n",
    "from sklearn.linear_model import PoissonRegressor\n",
    "from patsy import dmatrices\n",
    "\n",
    "# funciones desarrolladas\n",
    "from functions.agrupar_dfs_censo import *\n",
    "from functions.cargar_data import *\n",
    "from functions.impresion import *"
   ]
  },
  {
   "cell_type": "code",
   "execution_count": 57,
   "metadata": {},
   "outputs": [],
   "source": [
    "dd_deptos = pd.read_csv('tablas/dd_deptos.csv')"
   ]
  },
  {
   "cell_type": "code",
   "execution_count": 67,
   "metadata": {},
   "outputs": [],
   "source": [
    "y, X = dmatrices('personas_mig ~ nom_depto_orig + log_pbi_destino + log_dist -1', dd_deptos, return_type = 'dataframe')"
   ]
  },
  {
   "cell_type": "code",
   "execution_count": 81,
   "metadata": {},
   "outputs": [],
   "source": [
    "X_train, X_test, y_train, y_test = train_test_split(X, y)"
   ]
  },
  {
   "cell_type": "code",
   "execution_count": 83,
   "metadata": {},
   "outputs": [
    {
     "data": {
      "text/plain": [
       "((256, 21), (86, 21))"
      ]
     },
     "execution_count": 83,
     "metadata": {},
     "output_type": "execute_result"
    }
   ],
   "source": [
    "X_train.shape, X_test.shape"
   ]
  },
  {
   "cell_type": "code",
   "execution_count": 84,
   "metadata": {},
   "outputs": [
    {
     "data": {
      "text/plain": [
       "array([ 1.0073,  1.0011,  0.379 ,  0.1267, -0.2219, -1.0867, -0.5827,\n",
       "       -0.4268,  0.061 ,  2.4526,  0.5047, -0.1048,  0.7142, -0.0301,\n",
       "        0.7867, -0.6386,  0.208 ,  0.6341,  0.0712,  0.901 , -0.8508])"
      ]
     },
     "execution_count": 84,
     "metadata": {},
     "output_type": "execute_result"
    }
   ],
   "source": [
    "# alpha=0.0 determina el no uso de rgularización\n",
    "model = PoissonRegressor(alpha=0, fit_intercept = False, max_iter=10000)\n",
    "mdl = model.fit(X_train, y_train.values.ravel())\n",
    "np.around(model.coef_, 4)"
   ]
  },
  {
   "cell_type": "code",
   "execution_count": 79,
   "metadata": {},
   "outputs": [
    {
     "name": "stdout",
     "output_type": "stream",
     "text": [
      "0.9430610101435695\n"
     ]
    }
   ],
   "source": [
    "print(model.score(X, y.values.ravel()))"
   ]
  },
  {
   "cell_type": "code",
   "execution_count": 86,
   "metadata": {},
   "outputs": [],
   "source": [
    "y_pred = model.predict(X_test)"
   ]
  },
  {
   "cell_type": "code",
   "execution_count": 87,
   "metadata": {},
   "outputs": [
    {
     "data": {
      "text/plain": [
       "array([6.62088529e+01, 3.30903568e+01, 1.28647679e+02, 2.08434949e+01,\n",
       "       1.19484087e+02, 3.48328305e+01, 1.16749855e+02, 4.09100253e+01,\n",
       "       7.95205087e+01, 6.87306306e+01, 4.42989389e+01, 2.02442030e+02,\n",
       "       8.50815940e+01, 3.48287937e+04, 1.24476474e+02, 2.19271918e+02,\n",
       "       6.74419708e+01, 8.98951551e+01, 1.10048353e+02, 8.26381044e+01,\n",
       "       3.03860820e+02, 3.75098489e+01, 5.92152283e+02, 1.08337482e+02,\n",
       "       1.69111747e+02, 7.40731294e+01, 3.77319866e+02, 1.24968913e+02,\n",
       "       1.88898725e+02, 5.44862991e+01, 5.51143517e+01, 1.20986203e+02,\n",
       "       4.65835214e+01, 2.66232224e+02, 5.39732480e+01, 8.56306389e+01,\n",
       "       4.50666562e+03, 9.28142434e+02, 5.27195711e+01, 3.76209036e+01,\n",
       "       3.79545389e+02, 9.39575501e+01, 1.06409508e+02, 6.33986021e+02,\n",
       "       7.52819861e+02, 4.05375615e+01, 1.58364593e+02, 7.57375010e+01,\n",
       "       6.61966539e+02, 1.51410886e+02, 4.84505449e+01, 8.20728685e+01,\n",
       "       5.61326537e+01, 9.72598668e+01, 7.44940771e+01, 1.32749640e+02,\n",
       "       1.69029087e+02, 6.77899453e+01, 1.59095785e+02, 1.51760241e+02,\n",
       "       2.71979687e+02, 2.86671887e+02, 1.12187793e+02, 1.19622959e+02,\n",
       "       1.19113875e+02, 6.56801695e+01, 7.29739834e+01, 6.23304856e+01,\n",
       "       2.74447802e+02, 3.42850685e+01, 1.64222390e+02, 1.57106829e+03,\n",
       "       2.06150599e+02, 3.09499952e+02, 5.03431454e+01, 1.29463322e+02,\n",
       "       4.31616980e+02, 1.43120351e+02, 7.82440603e+01, 2.42395940e+02,\n",
       "       9.03902299e+01, 1.15902945e+02, 3.12088531e+03, 7.17224648e+01,\n",
       "       2.45746176e+02, 7.49163593e+01])"
      ]
     },
     "execution_count": 87,
     "metadata": {},
     "output_type": "execute_result"
    }
   ],
   "source": [
    "y_pred"
   ]
  },
  {
   "cell_type": "code",
   "execution_count": null,
   "metadata": {},
   "outputs": [],
   "source": []
  }
 ],
 "metadata": {
  "kernelspec": {
   "display_name": "Python (tesis)",
   "language": "python",
   "name": "tesis"
  },
  "language_info": {
   "codemirror_mode": {
    "name": "ipython",
    "version": 3
   },
   "file_extension": ".py",
   "mimetype": "text/x-python",
   "name": "python",
   "nbconvert_exporter": "python",
   "pygments_lexer": "ipython3",
   "version": "3.8.8"
  },
  "metadata": {
   "interpreter": {
    "hash": "5ce838cc175eb9c7ee2cce823ae805de6106cb4564d9fc7b3476b35fac8c9293"
   }
  }
 },
 "nbformat": 4,
 "nbformat_minor": 4
}
