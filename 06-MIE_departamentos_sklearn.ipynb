{
 "cells": [
  {
   "cell_type": "code",
   "execution_count": 78,
   "metadata": {},
   "outputs": [],
   "source": [
    "import pandas as pd\n",
    "import numpy as np\n",
    "from sklearn.metrics import r2_score, mean_squared_error\n",
    "from sklearn.model_selection import train_test_split\n",
    "from sklearn.linear_model import PoissonRegressor\n",
    "from patsy import dmatrices\n",
    "\n",
    "# funciones desarrolladas\n",
    "from functions.agrupar_dfs_censo import *\n",
    "from functions.cargar_data import *\n",
    "from functions.impresion import *"
   ]
  },
  {
   "cell_type": "code",
   "execution_count": 79,
   "metadata": {},
   "outputs": [],
   "source": [
    "dd_deptos = pd.read_csv('tablas/dd_deptos.csv')"
   ]
  },
  {
   "cell_type": "code",
   "execution_count": 80,
   "metadata": {},
   "outputs": [],
   "source": [
    "y, X = dmatrices('personas_mig ~ nom_depto_orig + log_pbi_destino + log_dist -1', dd_deptos, return_type = 'dataframe')"
   ]
  },
  {
   "cell_type": "code",
   "execution_count": 81,
   "metadata": {},
   "outputs": [],
   "source": [
    "X_train, X_test, y_train, y_test = train_test_split(X, y)"
   ]
  },
  {
   "cell_type": "code",
   "execution_count": 82,
   "metadata": {},
   "outputs": [
    {
     "output_type": "execute_result",
     "data": {
      "text/plain": [
       "((256, 21), (86, 21))"
      ]
     },
     "metadata": {},
     "execution_count": 82
    }
   ],
   "source": [
    "X_train.shape, X_test.shape"
   ]
  },
  {
   "cell_type": "code",
   "execution_count": 83,
   "metadata": {},
   "outputs": [
    {
     "output_type": "execute_result",
     "data": {
      "text/plain": [
       "array([ 0.43  , -0.0253,  0.1162, -0.1806, -0.492 , -1.6187, -0.8578,\n",
       "       -0.9925, -0.0654,  2.1845,  0.2019, -0.4774,  0.3539, -0.2829,\n",
       "        0.3936, -0.9386, -0.1382,  0.2352, -0.45  ,  0.8642, -0.7661])"
      ]
     },
     "metadata": {},
     "execution_count": 83
    }
   ],
   "source": [
    "# alpha=0.0 determina el no uso de rgularización\n",
    "model = PoissonRegressor(alpha=0, fit_intercept = False, max_iter=10000)\n",
    "mdl = model.fit(X_train, y_train.values.ravel())\n",
    "np.around(model.coef_, 4)"
   ]
  },
  {
   "cell_type": "code",
   "execution_count": 84,
   "metadata": {},
   "outputs": [
    {
     "output_type": "stream",
     "name": "stdout",
     "text": [
      "0.9418089691388523\n"
     ]
    }
   ],
   "source": [
    "print(model.score(X, y.values.ravel()))"
   ]
  },
  {
   "cell_type": "code",
   "execution_count": 85,
   "metadata": {},
   "outputs": [
    {
     "output_type": "execute_result",
     "data": {
      "text/plain": [
       "array([ 105.24077847,  236.75686793,   44.0504327 ,  817.0906373 ,\n",
       "        172.76142969,   95.60755913,   86.54816855,  100.68721815,\n",
       "        239.35914559,   75.94274207,   52.05180594, 1700.43734291,\n",
       "        289.90754221,  119.31149592,  145.67737115,   24.92768387,\n",
       "        489.47237241,  286.97822993,  358.30840565,   66.87983921,\n",
       "        208.20132017,  166.00041483,   70.65993454,  128.18842805,\n",
       "        195.64051069,  498.56999415,  289.20175062,   54.80629014,\n",
       "         80.93075326,  288.78152586,  355.90968829,  150.97242738,\n",
       "       1801.29447314,   81.67033571,  147.7271954 ,   72.71876792,\n",
       "         42.95931023,  245.10496725,  172.64666784,  313.91236762,\n",
       "         83.92821718,  165.00632991,  142.0924345 ,  156.56927918,\n",
       "         53.52596042,   66.85156242,   71.03860081,  102.48992402,\n",
       "       3634.19242058,  117.06526358,  321.86640832,  182.01371292,\n",
       "         73.57630684,   94.39441781,  117.7507994 ,   98.75342796,\n",
       "         70.64910339,  544.82893726,   64.10639015,  137.18160846,\n",
       "       1178.84016311,  103.53167628,   91.46128461,   45.6876074 ,\n",
       "         36.99288701,  193.41837399,  438.92494632,  117.04661065,\n",
       "        117.30255019,  251.04380659,   92.02701586,  132.52683022,\n",
       "         51.71883059,   50.05659629,  109.59135052,  358.96174035,\n",
       "        113.54284095,  312.24412749,  284.59887987, 1723.13003782,\n",
       "        282.19243251,   70.06554612,  201.2409665 ,  572.96613771,\n",
       "         73.45853556,   98.34053003])"
      ]
     },
     "metadata": {},
     "execution_count": 85
    }
   ],
   "source": [
    "y_pred = model.predict(X_test)\n",
    "y_pred"
   ]
  },
  {
   "cell_type": "code",
   "execution_count": 89,
   "metadata": {},
   "outputs": [
    {
     "output_type": "stream",
     "name": "stdout",
     "text": [
      "[-0.05307546  0.33188368 -0.35017115  0.26512283  0.70919782]\n\n\n0.18 accuracy with a standard deviation of 0.36\n"
     ]
    }
   ],
   "source": [
    "from sklearn.model_selection import cross_val_score\n",
    "\n",
    "scores = cross_val_score(mdl, X, y.values.ravel(), scoring='r2')\n",
    "\n",
    "print(scores)\n",
    "print('\\n')\n",
    "print(\"%0.2f accuracy with a standard deviation of %0.2f\" % (scores.mean(), scores.std()))"
   ]
  },
  {
   "source": [
    "https://stats.stackexchange.com/a/174846\n",
    "\n",
    "Both allow you to compare models. But.\n",
    "\n",
    "**Cross-validated $R^2$** is likely to give you the $R^2$ you would observe generalizing your model to unseen data (provided the distributions of the train data and the test data remain the same).\n",
    "\n",
    "**Adjusted $R^2$** is a way to compare models, possibly helps you to pick up the best, penalizing them for the number of predictors they use. This does not give you any hint regarding the performance of the models on new data."
   ],
   "cell_type": "markdown",
   "metadata": {}
  },
  {
   "cell_type": "code",
   "execution_count": 90,
   "metadata": {},
   "outputs": [
    {
     "output_type": "execute_result",
     "data": {
      "text/plain": [
       "0.6959498766865473"
      ]
     },
     "metadata": {},
     "execution_count": 90
    }
   ],
   "source": [
    "from sklearn.metrics import r2_score\n",
    "\n",
    "r2_score(y_test, y_pred)"
   ]
  },
  {
   "source": [
    "#### Prueba con las matrices completas\n",
    "\n",
    "Solo para comparar coeficientes y predicciones contra las que devuelves statsmodel"
   ],
   "cell_type": "markdown",
   "metadata": {}
  },
  {
   "cell_type": "code",
   "execution_count": 104,
   "metadata": {},
   "outputs": [
    {
     "output_type": "execute_result",
     "data": {
      "text/plain": [
       "0        914\n",
       "1      33127\n",
       "2       1387\n",
       "3       2100\n",
       "4        982\n",
       "       ...  \n",
       "337      174\n",
       "338       13\n",
       "339       28\n",
       "340       25\n",
       "341       38\n",
       "Name: personas_mig, Length: 342, dtype: int64"
      ]
     },
     "metadata": {},
     "execution_count": 104
    }
   ],
   "source": [
    "dd_deptos.personas_mig"
   ]
  },
  {
   "cell_type": "code",
   "execution_count": 108,
   "metadata": {},
   "outputs": [
    {
     "output_type": "stream",
     "name": "stdout",
     "text": [
      "[ 0.8907  0.3788  0.519   0.1649 -0.0836 -1.0428 -0.3388 -0.3429  0.2271\n  2.5748  0.5033 -0.012   0.7054  0.0459  0.7633 -0.4886  0.247   0.6533\n -0.021   0.8527 -0.7834]\nEl R2 (coincide con el abordaje de statsmodel): 0.9726\n"
     ]
    },
    {
     "output_type": "execute_result",
     "data": {
      "text/plain": [
       "[484.0,\n",
       " 29872.0,\n",
       " 797.0,\n",
       " 3397.0,\n",
       " 1081.0,\n",
       " 705.0,\n",
       " 2378.0,\n",
       " 1714.0,\n",
       " 5034.0,\n",
       " 1237.0,\n",
       " 1285.0,\n",
       " 769.0,\n",
       " 1159.0,\n",
       " 953.0,\n",
       " 4712.0,\n",
       " 1438.0,\n",
       " 900.0,\n",
       " 739.0,\n",
       " 1761.0,\n",
       " 423.0,\n",
       " 144.0,\n",
       " 252.0,\n",
       " 107.0,\n",
       " 64.0,\n",
       " 121.0,\n",
       " 99.0,\n",
       " 253.0,\n",
       " 266.0,\n",
       " 206.0,\n",
       " 337.0,\n",
       " 106.0,\n",
       " 378.0,\n",
       " 163.0,\n",
       " 173.0,\n",
       " 219.0,\n",
       " 92.0,\n",
       " 14004.0,\n",
       " 54.0,\n",
       " 93.0,\n",
       " 351.0,\n",
       " 125.0,\n",
       " 81.0,\n",
       " 297.0,\n",
       " 216.0,\n",
       " 602.0,\n",
       " 140.0,\n",
       " 144.0,\n",
       " 87.0,\n",
       " 137.0,\n",
       " 107.0,\n",
       " 445.0,\n",
       " 161.0,\n",
       " 102.0,\n",
       " 88.0,\n",
       " 1713.0,\n",
       " 85.0,\n",
       " 426.0,\n",
       " 198.0,\n",
       " 107.0,\n",
       " 54.0,\n",
       " 120.0,\n",
       " 128.0,\n",
       " 305.0,\n",
       " 137.0,\n",
       " 117.0,\n",
       " 173.0,\n",
       " 147.0,\n",
       " 135.0,\n",
       " 144.0,\n",
       " 115.0,\n",
       " 153.0,\n",
       " 202.0,\n",
       " 2291.0,\n",
       " 47.0,\n",
       " 505.0,\n",
       " 62.0,\n",
       " 97.0,\n",
       " 85.0,\n",
       " 129.0,\n",
       " 86.0,\n",
       " 229.0,\n",
       " 150.0,\n",
       " 184.0,\n",
       " 70.0,\n",
       " 73.0,\n",
       " 106.0,\n",
       " 263.0,\n",
       " 242.0,\n",
       " 83.0,\n",
       " 50.0,\n",
       " 1601.0,\n",
       " 43.0,\n",
       " 394.0,\n",
       " 74.0,\n",
       " 212.0,\n",
       " 100.0,\n",
       " 145.0,\n",
       " 87.0,\n",
       " 197.0,\n",
       " 115.0,\n",
       " 113.0,\n",
       " 73.0,\n",
       " 71.0,\n",
       " 87.0,\n",
       " 156.0,\n",
       " 125.0,\n",
       " 100.0,\n",
       " 65.0,\n",
       " 657.0,\n",
       " 16.0,\n",
       " 162.0,\n",
       " 24.0,\n",
       " 117.0,\n",
       " 63.0,\n",
       " 54.0,\n",
       " 30.0,\n",
       " 73.0,\n",
       " 56.0,\n",
       " 57.0,\n",
       " 27.0,\n",
       " 24.0,\n",
       " 37.0,\n",
       " 80.0,\n",
       " 67.0,\n",
       " 35.0,\n",
       " 20.0,\n",
       " 2092.0,\n",
       " 29.0,\n",
       " 557.0,\n",
       " 49.0,\n",
       " 168.0,\n",
       " 86.0,\n",
       " 51.0,\n",
       " 95.0,\n",
       " 217.0,\n",
       " 77.0,\n",
       " 74.0,\n",
       " 48.0,\n",
       " 63.0,\n",
       " 57.0,\n",
       " 192.0,\n",
       " 80.0,\n",
       " 59.0,\n",
       " 47.0,\n",
       " 1679.0,\n",
       " 27.0,\n",
       " 451.0,\n",
       " 58.0,\n",
       " 125.0,\n",
       " 58.0,\n",
       " 31.0,\n",
       " 106.0,\n",
       " 362.0,\n",
       " 60.0,\n",
       " 57.0,\n",
       " 44.0,\n",
       " 93.0,\n",
       " 47.0,\n",
       " 120.0,\n",
       " 61.0,\n",
       " 49.0,\n",
       " 62.0,\n",
       " 3157.0,\n",
       " 44.0,\n",
       " 805.0,\n",
       " 89.0,\n",
       " 212.0,\n",
       " 84.0,\n",
       " 49.0,\n",
       " 155.0,\n",
       " 234.0,\n",
       " 100.0,\n",
       " 97.0,\n",
       " 69.0,\n",
       " 174.0,\n",
       " 80.0,\n",
       " 198.0,\n",
       " 104.0,\n",
       " 76.0,\n",
       " 88.0,\n",
       " 1778.0,\n",
       " 105.0,\n",
       " 429.0,\n",
       " 91.0,\n",
       " 319.0,\n",
       " 112.0,\n",
       " 87.0,\n",
       " 125.0,\n",
       " 88.0,\n",
       " 228.0,\n",
       " 480.0,\n",
       " 130.0,\n",
       " 81.0,\n",
       " 355.0,\n",
       " 180.0,\n",
       " 283.0,\n",
       " 155.0,\n",
       " 65.0,\n",
       " 1200.0,\n",
       " 53.0,\n",
       " 286.0,\n",
       " 51.0,\n",
       " 255.0,\n",
       " 71.0,\n",
       " 57.0,\n",
       " 79.0,\n",
       " 55.0,\n",
       " 145.0,\n",
       " 312.0,\n",
       " 71.0,\n",
       " 50.0,\n",
       " 145.0,\n",
       " 124.0,\n",
       " 307.0,\n",
       " 82.0,\n",
       " 40.0,\n",
       " 1722.0,\n",
       " 207.0,\n",
       " 415.0,\n",
       " 181.0,\n",
       " 234.0,\n",
       " 110.0,\n",
       " 64.0,\n",
       " 121.0,\n",
       " 100.0,\n",
       " 248.0,\n",
       " 203.0,\n",
       " 170.0,\n",
       " 110.0,\n",
       " 222.0,\n",
       " 161.0,\n",
       " 144.0,\n",
       " 282.0,\n",
       " 104.0,\n",
       " 1513.0,\n",
       " 38.0,\n",
       " 383.0,\n",
       " 89.0,\n",
       " 141.0,\n",
       " 63.0,\n",
       " 34.0,\n",
       " 93.0,\n",
       " 123.0,\n",
       " 363.0,\n",
       " 73.0,\n",
       " 70.0,\n",
       " 64.0,\n",
       " 63.0,\n",
       " 119.0,\n",
       " 72.0,\n",
       " 65.0,\n",
       " 99.0,\n",
       " 1851.0,\n",
       " 202.0,\n",
       " 445.0,\n",
       " 122.0,\n",
       " 306.0,\n",
       " 114.0,\n",
       " 77.0,\n",
       " 126.0,\n",
       " 94.0,\n",
       " 248.0,\n",
       " 481.0,\n",
       " 302.0,\n",
       " 193.0,\n",
       " 93.0,\n",
       " 181.0,\n",
       " 230.0,\n",
       " 205.0,\n",
       " 80.0,\n",
       " 2502.0,\n",
       " 24.0,\n",
       " 505.0,\n",
       " 36.0,\n",
       " 207.0,\n",
       " 56.0,\n",
       " 46.0,\n",
       " 116.0,\n",
       " 65.0,\n",
       " 168.0,\n",
       " 67.0,\n",
       " 71.0,\n",
       " 38.0,\n",
       " 48.0,\n",
       " 49.0,\n",
       " 82.0,\n",
       " 46.0,\n",
       " 32.0,\n",
       " 1824.0,\n",
       " 60.0,\n",
       " 435.0,\n",
       " 68.0,\n",
       " 456.0,\n",
       " 107.0,\n",
       " 92.0,\n",
       " 115.0,\n",
       " 80.0,\n",
       " 211.0,\n",
       " 249.0,\n",
       " 418.0,\n",
       " 81.0,\n",
       " 70.0,\n",
       " 150.0,\n",
       " 197.0,\n",
       " 97.0,\n",
       " 55.0,\n",
       " 2103.0,\n",
       " 140.0,\n",
       " 509.0,\n",
       " 167.0,\n",
       " 287.0,\n",
       " 158.0,\n",
       " 88.0,\n",
       " 157.0,\n",
       " 118.0,\n",
       " 284.0,\n",
       " 253.0,\n",
       " 205.0,\n",
       " 295.0,\n",
       " 116.0,\n",
       " 247.0,\n",
       " 201.0,\n",
       " 178.0,\n",
       " 105.0,\n",
       " 1274.0,\n",
       " 44.0,\n",
       " 323.0,\n",
       " 162.0,\n",
       " 128.0,\n",
       " 75.0,\n",
       " 37.0,\n",
       " 91.0,\n",
       " 110.0,\n",
       " 243.0,\n",
       " 78.0,\n",
       " 73.0,\n",
       " 80.0,\n",
       " 130.0,\n",
       " 71.0,\n",
       " 104.0,\n",
       " 74.0,\n",
       " 77.0]"
      ]
     },
     "metadata": {},
     "execution_count": 108
    }
   ],
   "source": [
    "# Si corremos con la matrices completas vemos que los resultados tanto de los coeficientes como de las predicciones son similares a los que devuelve statsmodel\n",
    "\n",
    "# alpha=0.0 determina el no uso de rgularización\n",
    "model = PoissonRegressor(alpha=0, fit_intercept = False, max_iter=10000)\n",
    "mdl = model.fit(X, y.values.ravel())\n",
    "\n",
    "y_pred = model.predict(X)\n",
    "\n",
    "print(np.around(model.coef_, 4))\n",
    "\n",
    "\n",
    "r2 = round(r2_score(dd_deptos['personas_mig'], y_pred), 4)\n",
    "print('El R2 (coincide con el abordaje de statsmodel):', r2)\n",
    "\n",
    "y_pred = model.predict(X)\n",
    "list(np.round(y_pred))"
   ]
  },
  {
   "cell_type": "code",
   "execution_count": 95,
   "metadata": {},
   "outputs": [
    {
     "output_type": "error",
     "ename": "TypeError",
     "evalue": "score() missing 2 required positional arguments: 'X' and 'y'",
     "traceback": [
      "\u001b[0;31m---------------------------------------------------------------------------\u001b[0m",
      "\u001b[0;31mTypeError\u001b[0m                                 Traceback (most recent call last)",
      "\u001b[0;32m<ipython-input-95-b6c25b12cb1a>\u001b[0m in \u001b[0;36m<module>\u001b[0;34m\u001b[0m\n\u001b[0;32m----> 1\u001b[0;31m \u001b[0mmdl\u001b[0m\u001b[0;34m.\u001b[0m\u001b[0mscore\u001b[0m\u001b[0;34m(\u001b[0m\u001b[0;34m)\u001b[0m\u001b[0;34m\u001b[0m\u001b[0;34m\u001b[0m\u001b[0m\n\u001b[0m",
      "\u001b[0;31mTypeError\u001b[0m: score() missing 2 required positional arguments: 'X' and 'y'"
     ]
    }
   ],
   "source": [
    "mdl.score()"
   ]
  },
  {
   "cell_type": "code",
   "execution_count": null,
   "metadata": {},
   "outputs": [],
   "source": []
  }
 ],
 "metadata": {
  "kernelspec": {
   "name": "python392jvsc74a57bd05ce838cc175eb9c7ee2cce823ae805de6106cb4564d9fc7b3476b35fac8c9293",
   "display_name": "Python 3.9.2 64-bit ('tesis': conda)"
  },
  "language_info": {
   "codemirror_mode": {
    "name": "ipython",
    "version": 3
   },
   "file_extension": ".py",
   "mimetype": "text/x-python",
   "name": "python",
   "nbconvert_exporter": "python",
   "pygments_lexer": "ipython3",
   "version": "3.9.2"
  },
  "metadata": {
   "interpreter": {
    "hash": "5ce838cc175eb9c7ee2cce823ae805de6106cb4564d9fc7b3476b35fac8c9293"
   }
  }
 },
 "nbformat": 4,
 "nbformat_minor": 4
}