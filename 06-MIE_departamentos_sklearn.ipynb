{
 "metadata": {
  "language_info": {
   "codemirror_mode": {
    "name": "ipython",
    "version": 3
   },
   "file_extension": ".py",
   "mimetype": "text/x-python",
   "name": "python",
   "nbconvert_exporter": "python",
   "pygments_lexer": "ipython3",
   "version": "3.9.2"
  },
  "orig_nbformat": 2,
  "kernelspec": {
   "name": "python392jvsc74a57bd05ce838cc175eb9c7ee2cce823ae805de6106cb4564d9fc7b3476b35fac8c9293",
   "display_name": "Python 3.9.2 64-bit ('tesis': conda)"
  },
  "metadata": {
   "interpreter": {
    "hash": "5ce838cc175eb9c7ee2cce823ae805de6106cb4564d9fc7b3476b35fac8c9293"
   }
  }
 },
 "nbformat": 4,
 "nbformat_minor": 2,
 "cells": [
  {
   "cell_type": "code",
   "execution_count": 87,
   "metadata": {},
   "outputs": [],
   "source": [
    "import pandas as pd\n",
    "import numpy as np\n",
    "from sklearn.metrics import r2_score, mean_squared_error\n",
    "from sklearn.model_selection import train_test_split\n",
    "from sklearn import linear_model\n",
    "\n",
    "# funciones desarrolladas\n",
    "from functions.agrupar_dfs_censo import *\n",
    "from functions.cargar_data import *\n",
    "from functions.impresion import *"
   ]
  },
  {
   "cell_type": "code",
   "execution_count": 88,
   "metadata": {},
   "outputs": [
    {
     "output_type": "execute_result",
     "data": {
      "text/plain": [
       "   cod  depto_origen  depto_destino  personas_mig  pob_origen  pob_destino  \\\n",
       "0  102             1              2           914     1318755        73377   \n",
       "1  103             1              3         33127     1318755       520173   \n",
       "2  104             1              4          1387     1318755        84698   \n",
       "3  105             1              5          2100     1318755       123203   \n",
       "4  106             1              6           982     1318755        57084   \n",
       "\n",
       "     dist  pbi_origen pbi_porcen_ori  pbi_destino  ... dep_MONTEVIDEO  \\\n",
       "0  610726   465848031           50,3     14214980  ...              1   \n",
       "1   22544   465848031           50,3     86306492  ...              1   \n",
       "2  393703   465848031           50,3     17048887  ...              1   \n",
       "3  172773   465848031           50,3     43788749  ...              1   \n",
       "4  198970   465848031           50,3     13023942  ...              1   \n",
       "\n",
       "   dep_PAYSANDU  dep_RIO NEGRO  dep_RIVERA  dep_ROCHA dep_SALTO  dep_SAN JOSE  \\\n",
       "0             0              0           0          0         0             0   \n",
       "1             0              0           0          0         0             0   \n",
       "2             0              0           0          0         0             0   \n",
       "3             0              0           0          0         0             0   \n",
       "4             0              0           0          0         0             0   \n",
       "\n",
       "   dep_SORIANO  dep_TACUAREMBO  dep_TREINTA Y TRES  \n",
       "0            0               0                   0  \n",
       "1            0               0                   0  \n",
       "2            0               0                   0  \n",
       "3            0               0                   0  \n",
       "4            0               0                   0  \n",
       "\n",
       "[5 rows x 35 columns]"
      ],
      "text/html": "<div>\n<style scoped>\n    .dataframe tbody tr th:only-of-type {\n        vertical-align: middle;\n    }\n\n    .dataframe tbody tr th {\n        vertical-align: top;\n    }\n\n    .dataframe thead th {\n        text-align: right;\n    }\n</style>\n<table border=\"1\" class=\"dataframe\">\n  <thead>\n    <tr style=\"text-align: right;\">\n      <th></th>\n      <th>cod</th>\n      <th>depto_origen</th>\n      <th>depto_destino</th>\n      <th>personas_mig</th>\n      <th>pob_origen</th>\n      <th>pob_destino</th>\n      <th>dist</th>\n      <th>pbi_origen</th>\n      <th>pbi_porcen_ori</th>\n      <th>pbi_destino</th>\n      <th>...</th>\n      <th>dep_MONTEVIDEO</th>\n      <th>dep_PAYSANDU</th>\n      <th>dep_RIO NEGRO</th>\n      <th>dep_RIVERA</th>\n      <th>dep_ROCHA</th>\n      <th>dep_SALTO</th>\n      <th>dep_SAN JOSE</th>\n      <th>dep_SORIANO</th>\n      <th>dep_TACUAREMBO</th>\n      <th>dep_TREINTA Y TRES</th>\n    </tr>\n  </thead>\n  <tbody>\n    <tr>\n      <th>0</th>\n      <td>102</td>\n      <td>1</td>\n      <td>2</td>\n      <td>914</td>\n      <td>1318755</td>\n      <td>73377</td>\n      <td>610726</td>\n      <td>465848031</td>\n      <td>50,3</td>\n      <td>14214980</td>\n      <td>...</td>\n      <td>1</td>\n      <td>0</td>\n      <td>0</td>\n      <td>0</td>\n      <td>0</td>\n      <td>0</td>\n      <td>0</td>\n      <td>0</td>\n      <td>0</td>\n      <td>0</td>\n    </tr>\n    <tr>\n      <th>1</th>\n      <td>103</td>\n      <td>1</td>\n      <td>3</td>\n      <td>33127</td>\n      <td>1318755</td>\n      <td>520173</td>\n      <td>22544</td>\n      <td>465848031</td>\n      <td>50,3</td>\n      <td>86306492</td>\n      <td>...</td>\n      <td>1</td>\n      <td>0</td>\n      <td>0</td>\n      <td>0</td>\n      <td>0</td>\n      <td>0</td>\n      <td>0</td>\n      <td>0</td>\n      <td>0</td>\n      <td>0</td>\n    </tr>\n    <tr>\n      <th>2</th>\n      <td>104</td>\n      <td>1</td>\n      <td>4</td>\n      <td>1387</td>\n      <td>1318755</td>\n      <td>84698</td>\n      <td>393703</td>\n      <td>465848031</td>\n      <td>50,3</td>\n      <td>17048887</td>\n      <td>...</td>\n      <td>1</td>\n      <td>0</td>\n      <td>0</td>\n      <td>0</td>\n      <td>0</td>\n      <td>0</td>\n      <td>0</td>\n      <td>0</td>\n      <td>0</td>\n      <td>0</td>\n    </tr>\n    <tr>\n      <th>3</th>\n      <td>105</td>\n      <td>1</td>\n      <td>5</td>\n      <td>2100</td>\n      <td>1318755</td>\n      <td>123203</td>\n      <td>172773</td>\n      <td>465848031</td>\n      <td>50,3</td>\n      <td>43788749</td>\n      <td>...</td>\n      <td>1</td>\n      <td>0</td>\n      <td>0</td>\n      <td>0</td>\n      <td>0</td>\n      <td>0</td>\n      <td>0</td>\n      <td>0</td>\n      <td>0</td>\n      <td>0</td>\n    </tr>\n    <tr>\n      <th>4</th>\n      <td>106</td>\n      <td>1</td>\n      <td>6</td>\n      <td>982</td>\n      <td>1318755</td>\n      <td>57084</td>\n      <td>198970</td>\n      <td>465848031</td>\n      <td>50,3</td>\n      <td>13023942</td>\n      <td>...</td>\n      <td>1</td>\n      <td>0</td>\n      <td>0</td>\n      <td>0</td>\n      <td>0</td>\n      <td>0</td>\n      <td>0</td>\n      <td>0</td>\n      <td>0</td>\n      <td>0</td>\n    </tr>\n  </tbody>\n</table>\n<p>5 rows × 35 columns</p>\n</div>"
     },
     "metadata": {},
     "execution_count": 88
    }
   ],
   "source": [
    "dd_deptos = pd.read_csv('tablas/dd_deptos.csv')\n",
    "\n",
    "# agrega dummies apra deptos\n",
    "dd_deptos = pd.get_dummies(dd_deptos, prefix='dep', columns=['nom_depto_orig'])\n",
    "dd_deptos.head()"
   ]
  },
  {
   "cell_type": "code",
   "execution_count": 89,
   "metadata": {},
   "outputs": [],
   "source": [
    "X_vars = [\n",
    "'dep_ARTIGAS', 'dep_CANELONES',\n",
    "'dep_CERRO LARGO', 'dep_COLONIA', 'dep_DURAZNO', 'dep_FLORES',\n",
    "'dep_FLORIDA', 'dep_LAVALLEJA', 'dep_MALDONADO', 'dep_MONTEVIDEO',\n",
    "'dep_PAYSANDU', 'dep_RIO NEGRO', 'dep_RIVERA', 'dep_ROCHA', 'dep_SALTO',\n",
    "'dep_SAN JOSE', 'dep_SORIANO', 'dep_TACUAREMBO', 'dep_TREINTA Y TRES',\n",
    "'log_pbi_destino', 'log_dist']\n",
    "\n",
    "X = dd_deptos[X_vars]\n",
    "\n",
    "y = dd_deptos.personas_mig\n",
    "\n",
    "#X_train, X_test, y_train, y_test = train_test_split(X, y)"
   ]
  },
  {
   "cell_type": "code",
   "execution_count": 90,
   "metadata": {},
   "outputs": [
    {
     "output_type": "execute_result",
     "data": {
      "text/plain": [
       "PoissonRegressor(max_iter=10000)"
      ]
     },
     "metadata": {},
     "execution_count": 90
    }
   ],
   "source": [
    "clf = linear_model.PoissonRegressor(max_iter=10000, fit_intercept=True)\n",
    "\n",
    "clf.fit(X, y)"
   ]
  },
  {
   "cell_type": "code",
   "execution_count": 91,
   "metadata": {},
   "outputs": [
    {
     "output_type": "stream",
     "name": "stdout",
     "text": [
      "[ 0.55402549  0.07938718  0.20408798 -0.12496685 -0.35175311 -1.12695925\n -0.58896812 -0.5859174  -0.06707649  2.25373551  0.18988379 -0.28444447\n  0.37859708 -0.2300682   0.43517179 -0.72851825 -0.04970222  0.33313783\n -0.28962751  0.84598091 -0.78630861]\n"
     ]
    }
   ],
   "source": [
    "print(clf.coef_)"
   ]
  },
  {
   "cell_type": "code",
   "execution_count": 92,
   "metadata": {},
   "outputs": [
    {
     "output_type": "stream",
     "name": "stdout",
     "text": [
      "0.9427227371147557\n0.4589134114155493\n{'alpha': 1.0, 'fit_intercept': True, 'max_iter': 10000, 'tol': 0.0001, 'verbose': 0, 'warm_start': False}\n"
     ]
    }
   ],
   "source": [
    "print(clf.score(X, y))\n",
    "print(clf.intercept_)\n",
    "print(clf.get_params())"
   ]
  },
  {
   "cell_type": "code",
   "execution_count": 93,
   "metadata": {},
   "outputs": [],
   "source": [
    "#clf.predict(X_test)"
   ]
  }
 ]
}