{
 "cells": [
  {
   "cell_type": "code",
   "execution_count": 1,
   "metadata": {},
   "outputs": [],
   "source": [
    "import folium\n",
    "import geopandas\n",
    "from sklearn.preprocessing import MinMaxScaler\n",
    "import numpy as np\n",
    "import pandas as pd\n",
    "import jenkspy"
   ]
  },
  {
   "cell_type": "code",
   "execution_count": 2,
   "metadata": {},
   "outputs": [],
   "source": [
    "# m = folium.Map(location=[45.5236, -122.6750])\n",
    "# m"
   ]
  },
  {
   "cell_type": "code",
   "execution_count": 3,
   "metadata": {},
   "outputs": [],
   "source": [
    "lines = geopandas.read_file(\"capas/mig_recientes_2011.gpkg\", layer='flujos')"
   ]
  },
  {
   "cell_type": "code",
   "execution_count": 4,
   "metadata": {},
   "outputs": [],
   "source": [
    "# lista con nombres de deptos para ser usadas en etiquetas\n",
    "names = ['Montevideo','Artigas','Canelones','Cerro Largo','Colonia','Durazno','Flores','Florida','Lavalleja',\n",
    "         'Maldonado','Paysandú','Río Negro','Rivera','Rocha','Salto','San José','Soriano','Tacuarembó','Treinta y Tres']"
   ]
  },
  {
   "cell_type": "code",
   "execution_count": 5,
   "metadata": {},
   "outputs": [],
   "source": [
    "# Initialise the Scaler \n",
    "scaler = MinMaxScaler(feature_range=(1, 30))\n",
    "  \n",
    "# To scale data \n",
    "X = np.array(lines.personas_mig)\n",
    "X_scaled = scaler.fit_transform(X[:, np.newaxis], y=None)"
   ]
  },
  {
   "cell_type": "code",
   "execution_count": 6,
   "metadata": {},
   "outputs": [],
   "source": [
    "lines['personas_mig_scaled'] = X_scaled"
   ]
  },
  {
   "cell_type": "code",
   "execution_count": 7,
   "metadata": {},
   "outputs": [
    {
     "data": {
      "text/html": [
       "<div>\n",
       "<style scoped>\n",
       "    .dataframe tbody tr th:only-of-type {\n",
       "        vertical-align: middle;\n",
       "    }\n",
       "\n",
       "    .dataframe tbody tr th {\n",
       "        vertical-align: top;\n",
       "    }\n",
       "\n",
       "    .dataframe thead th {\n",
       "        text-align: right;\n",
       "    }\n",
       "</style>\n",
       "<table border=\"1\" class=\"dataframe\">\n",
       "  <thead>\n",
       "    <tr style=\"text-align: right;\">\n",
       "      <th></th>\n",
       "      <th>personas_mig</th>\n",
       "      <th>depto_origen</th>\n",
       "      <th>depto_destino</th>\n",
       "      <th>geometry</th>\n",
       "      <th>personas_mig_scaled</th>\n",
       "    </tr>\n",
       "  </thead>\n",
       "  <tbody>\n",
       "    <tr>\n",
       "      <th>0</th>\n",
       "      <td>914</td>\n",
       "      <td>1</td>\n",
       "      <td>2</td>\n",
       "      <td>LINESTRING (571906.031 6146848.946, 503900.219...</td>\n",
       "      <td>1.798430</td>\n",
       "    </tr>\n",
       "    <tr>\n",
       "      <th>1</th>\n",
       "      <td>74</td>\n",
       "      <td>3</td>\n",
       "      <td>2</td>\n",
       "      <td>LINESTRING (598065.774 6177339.485, 503900.219...</td>\n",
       "      <td>1.063034</td>\n",
       "    </tr>\n",
       "    <tr>\n",
       "      <th>2</th>\n",
       "      <td>15</td>\n",
       "      <td>4</td>\n",
       "      <td>2</td>\n",
       "      <td>LINESTRING (749014.919 6407567.643, 503900.219...</td>\n",
       "      <td>1.011381</td>\n",
       "    </tr>\n",
       "    <tr>\n",
       "      <th>3</th>\n",
       "      <td>28</td>\n",
       "      <td>5</td>\n",
       "      <td>2</td>\n",
       "      <td>LINESTRING (439070.917 6223291.295, 503900.219...</td>\n",
       "      <td>1.022762</td>\n",
       "    </tr>\n",
       "    <tr>\n",
       "      <th>4</th>\n",
       "      <td>32</td>\n",
       "      <td>6</td>\n",
       "      <td>2</td>\n",
       "      <td>LINESTRING (590741.575 6345718.477, 503900.219...</td>\n",
       "      <td>1.026264</td>\n",
       "    </tr>\n",
       "  </tbody>\n",
       "</table>\n",
       "</div>"
      ],
      "text/plain": [
       "   personas_mig  depto_origen  depto_destino  \\\n",
       "0           914             1              2   \n",
       "1            74             3              2   \n",
       "2            15             4              2   \n",
       "3            28             5              2   \n",
       "4            32             6              2   \n",
       "\n",
       "                                            geometry  personas_mig_scaled  \n",
       "0  LINESTRING (571906.031 6146848.946, 503900.219...             1.798430  \n",
       "1  LINESTRING (598065.774 6177339.485, 503900.219...             1.063034  \n",
       "2  LINESTRING (749014.919 6407567.643, 503900.219...             1.011381  \n",
       "3  LINESTRING (439070.917 6223291.295, 503900.219...             1.022762  \n",
       "4  LINESTRING (590741.575 6345718.477, 503900.219...             1.026264  "
      ]
     },
     "execution_count": 7,
     "metadata": {},
     "output_type": "execute_result"
    }
   ],
   "source": [
    "lines.head()"
   ]
  },
  {
   "cell_type": "code",
   "execution_count": 8,
   "metadata": {},
   "outputs": [],
   "source": [
    "# genera colores clasificando según rupturas naturales (Jenkin's)\n",
    "lines['nbreaks'] = pd.cut(\n",
    "    lines['personas_mig'],\n",
    "    bins=jenkspy.jenks_breaks(lines['personas_mig'], nb_class=4),\n",
    "    labels=['#deadad', '#f18f8c','#ff493d', '#ff0000'],\n",
    "    include_lowest=True)"
   ]
  },
  {
   "cell_type": "code",
   "execution_count": 9,
   "metadata": {},
   "outputs": [],
   "source": [
    "# exportar a GeoJSON un archivo por cada departamento\n",
    "# for i in range(1,20):\n",
    "#     lines_filtered = lines.loc[lines.depto_origen== i]\n",
    "#     file_name = \"capas/geojson/mig_recientes_2011_depori_{}.geojson\".format(i)\n",
    "#     lines_filtered.to_file(file_name, driver='GeoJSON')"
   ]
  },
  {
   "cell_type": "code",
   "execution_count": 10,
   "metadata": {},
   "outputs": [],
   "source": [
    "# prueba: enlistar un GeoJSON filtrando sólo Mvdeo.\n",
    "# lines_json = lines.loc[lines.depto_origen== 1].to_crs('EPSG:4326').to_json()"
   ]
  },
  {
   "cell_type": "code",
   "execution_count": 11,
   "metadata": {},
   "outputs": [],
   "source": [
    "# enlista un GeoJSON por depto\n",
    "lines_json = [lines.loc[lines.depto_origen==x].to_crs('EPSG:4326').to_json() for x in range(1,20)]\n",
    "\n",
    "mapa = folium.Map([-32, -56], zoom_start=7, tiles='cartodb positron')\n",
    "\n",
    "   \n",
    "for i in range(0,19):\n",
    "    if i==0:\n",
    "        show_val = 1\n",
    "    else:\n",
    "        show_val = 0\n",
    "    folium.features.GeoJson(data=lines_json[i],\n",
    "                                  tooltip=folium.features.GeoJsonTooltip(\n",
    "                                        fields=['personas_mig'],\n",
    "                                        aliases=['Migrantes:'], \n",
    "                                        labels=True, \n",
    "                                        sticky=False),\n",
    "                                  name=names[i],\n",
    "                                  show=show_val,\n",
    "                                  style_function= lambda x: {\n",
    "                                      \"weight\": x['properties']['personas_mig_scaled'],\n",
    "                                      \"color\": x['properties']['nbreaks'],\n",
    "                                  },).add_to(mapa)\n",
    "    \n",
    "# style_function = lambda x: {x['properties']['personas_mig']}\n",
    "\n",
    "# https://python-visualization.github.io/folium/modules.html#folium.features.GeoJson\n",
    "\n",
    "\n",
    "\n",
    "folium.LayerControl(collapsed=False).add_to(mapa) \n",
    "\n",
    "mapa\n",
    "\n",
    "mapa.save('index.html')"
   ]
  }
 ],
 "metadata": {
  "kernelspec": {
   "display_name": "Python 3",
   "language": "python",
   "name": "python3"
  },
  "language_info": {
   "codemirror_mode": {
    "name": "ipython",
    "version": 3
   },
   "file_extension": ".py",
   "mimetype": "text/x-python",
   "name": "python",
   "nbconvert_exporter": "python",
   "pygments_lexer": "ipython3",
   "version": "3.8.2"
  }
 },
 "nbformat": 4,
 "nbformat_minor": 4
}
