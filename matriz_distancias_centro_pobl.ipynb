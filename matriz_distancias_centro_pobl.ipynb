{
 "cells": [
  {
   "cell_type": "code",
   "execution_count": 22,
   "metadata": {
    "colab": {},
    "colab_type": "code",
    "id": "DohGIvsxoyow"
   },
   "outputs": [],
   "source": [
    "import pandas as pd\n",
    "import geopandas as gpd\n",
    "import os\n",
    "import numpy as np\n",
    "import requests\n",
    "import urllib\n",
    "import json\n",
    "import getpass"
   ]
  },
  {
   "cell_type": "code",
   "execution_count": 10,
   "metadata": {
    "colab": {
     "base_uri": "https://localhost:8080/",
     "height": 206
    },
    "colab_type": "code",
    "id": "bwq1O7ito73b",
    "outputId": "232bc175-354c-4559-9bd8-b17e2effcdc2"
   },
   "outputs": [
    {
     "data": {
      "text/html": [
       "<div>\n",
       "<style scoped>\n",
       "    .dataframe tbody tr th:only-of-type {\n",
       "        vertical-align: middle;\n",
       "    }\n",
       "\n",
       "    .dataframe tbody tr th {\n",
       "        vertical-align: top;\n",
       "    }\n",
       "\n",
       "    .dataframe thead th {\n",
       "        text-align: right;\n",
       "    }\n",
       "</style>\n",
       "<table border=\"1\" class=\"dataframe\">\n",
       "  <thead>\n",
       "    <tr style=\"text-align: right;\">\n",
       "      <th></th>\n",
       "      <th>DEPTO</th>\n",
       "      <th>geometry</th>\n",
       "    </tr>\n",
       "  </thead>\n",
       "  <tbody>\n",
       "    <tr>\n",
       "      <th>0</th>\n",
       "      <td>1</td>\n",
       "      <td>POINT (575497.000 6141786.000)</td>\n",
       "    </tr>\n",
       "    <tr>\n",
       "      <th>1</th>\n",
       "      <td>2</td>\n",
       "      <td>POINT (517717.000 6636093.000)</td>\n",
       "    </tr>\n",
       "    <tr>\n",
       "      <th>2</th>\n",
       "      <td>3</td>\n",
       "      <td>POINT (587353.000 6159278.000)</td>\n",
       "    </tr>\n",
       "    <tr>\n",
       "      <th>3</th>\n",
       "      <td>4</td>\n",
       "      <td>POINT (777711.000 6409999.000)</td>\n",
       "    </tr>\n",
       "    <tr>\n",
       "      <th>4</th>\n",
       "      <td>5</td>\n",
       "      <td>POINT (431654.000 6211872.000)</td>\n",
       "    </tr>\n",
       "  </tbody>\n",
       "</table>\n",
       "</div>"
      ],
      "text/plain": [
       "   DEPTO                        geometry\n",
       "0      1  POINT (575497.000 6141786.000)\n",
       "1      2  POINT (517717.000 6636093.000)\n",
       "2      3  POINT (587353.000 6159278.000)\n",
       "3      4  POINT (777711.000 6409999.000)\n",
       "4      5  POINT (431654.000 6211872.000)"
      ]
     },
     "execution_count": 10,
     "metadata": {},
     "output_type": "execute_result"
    }
   ],
   "source": [
    "# carga capa de centros medios de población\n",
    "cp = gpd.read_file('https://raw.githubusercontent.com/guillermodangelo/tesis/master/capas/centro_poblacion.gpkg')\n",
    "\n",
    "cp.head()"
   ]
  },
  {
   "cell_type": "code",
   "execution_count": 12,
   "metadata": {
    "colab": {
     "base_uri": "https://localhost:8080/",
     "height": 206
    },
    "colab_type": "code",
    "id": "7bLBFiJJpCgE",
    "outputId": "ef96caa2-0b59-4860-9492-f3a92009db21"
   },
   "outputs": [
    {
     "data": {
      "text/html": [
       "<div>\n",
       "<style scoped>\n",
       "    .dataframe tbody tr th:only-of-type {\n",
       "        vertical-align: middle;\n",
       "    }\n",
       "\n",
       "    .dataframe tbody tr th {\n",
       "        vertical-align: top;\n",
       "    }\n",
       "\n",
       "    .dataframe thead th {\n",
       "        text-align: right;\n",
       "    }\n",
       "</style>\n",
       "<table border=\"1\" class=\"dataframe\">\n",
       "  <thead>\n",
       "    <tr style=\"text-align: right;\">\n",
       "      <th></th>\n",
       "      <th>DEPTO</th>\n",
       "      <th>geometry</th>\n",
       "      <th>lat</th>\n",
       "      <th>lon</th>\n",
       "      <th>latlon</th>\n",
       "    </tr>\n",
       "  </thead>\n",
       "  <tbody>\n",
       "    <tr>\n",
       "      <th>0</th>\n",
       "      <td>1</td>\n",
       "      <td>POINT (575497.000 6141786.000)</td>\n",
       "      <td>-34.863473</td>\n",
       "      <td>-56.174030</td>\n",
       "      <td>-34.86347311448007,-56.17403019571399</td>\n",
       "    </tr>\n",
       "    <tr>\n",
       "      <th>1</th>\n",
       "      <td>2</td>\n",
       "      <td>POINT (517717.000 6636093.000)</td>\n",
       "      <td>-30.407062</td>\n",
       "      <td>-56.815547</td>\n",
       "      <td>-30.407062416732217,-56.81554727891256</td>\n",
       "    </tr>\n",
       "    <tr>\n",
       "      <th>2</th>\n",
       "      <td>3</td>\n",
       "      <td>POINT (587353.000 6159278.000)</td>\n",
       "      <td>-34.704806</td>\n",
       "      <td>-56.046153</td>\n",
       "      <td>-34.70480623405611,-56.04615274218908</td>\n",
       "    </tr>\n",
       "    <tr>\n",
       "      <th>3</th>\n",
       "      <td>4</td>\n",
       "      <td>POINT (777711.000 6409999.000)</td>\n",
       "      <td>-32.412531</td>\n",
       "      <td>-54.047130</td>\n",
       "      <td>-32.412530637702794,-54.04713015664623</td>\n",
       "    </tr>\n",
       "    <tr>\n",
       "      <th>4</th>\n",
       "      <td>5</td>\n",
       "      <td>POINT (431654.000 6211872.000)</td>\n",
       "      <td>-34.231989</td>\n",
       "      <td>-57.742109</td>\n",
       "      <td>-34.23198949912197,-57.74210900659811</td>\n",
       "    </tr>\n",
       "  </tbody>\n",
       "</table>\n",
       "</div>"
      ],
      "text/plain": [
       "   DEPTO                        geometry        lat        lon  \\\n",
       "0      1  POINT (575497.000 6141786.000) -34.863473 -56.174030   \n",
       "1      2  POINT (517717.000 6636093.000) -30.407062 -56.815547   \n",
       "2      3  POINT (587353.000 6159278.000) -34.704806 -56.046153   \n",
       "3      4  POINT (777711.000 6409999.000) -32.412531 -54.047130   \n",
       "4      5  POINT (431654.000 6211872.000) -34.231989 -57.742109   \n",
       "\n",
       "                                   latlon  \n",
       "0   -34.86347311448007,-56.17403019571399  \n",
       "1  -30.407062416732217,-56.81554727891256  \n",
       "2   -34.70480623405611,-56.04615274218908  \n",
       "3  -32.412530637702794,-54.04713015664623  \n",
       "4   -34.23198949912197,-57.74210900659811  "
      ]
     },
     "execution_count": 12,
     "metadata": {},
     "output_type": "execute_result"
    }
   ],
   "source": [
    "# obtiene coordenadas en EPSG 4326\n",
    "lon = cp.geometry.to_crs(epsg=4326).x\n",
    "lat = cp.geometry.to_crs(epsg=4326).y\n",
    "cp_repro = pd.concat( [ pd.DataFrame( list(lat), columns=['lat'] ), pd.DataFrame( list(lon), columns=['lon'] ) ], axis=1, sort=False)\n",
    "\n",
    "# concatena en un sólo string\n",
    "cp_repro['latlon'] = cp_repro.apply(lambda x:'%s,%s' % (x['lat'],x['lon']),axis=1)\n",
    "\n",
    "# concatena ambos df\n",
    "df_cp = pd.concat([cp, cp_repro], axis=1, ignore_index=False)\n",
    "df_cp.head()"
   ]
  },
  {
   "cell_type": "code",
   "execution_count": 17,
   "metadata": {
    "colab": {
     "base_uri": "https://localhost:8080/",
     "height": 265
    },
    "colab_type": "code",
    "id": "uipU7bmOqYrq",
    "outputId": "42380357-bfa8-46da-b954-728170da84da"
   },
   "outputs": [
    {
     "name": "stdout",
     "output_type": "stream",
     "text": [
      "342\n"
     ]
    },
    {
     "name": "stderr",
     "output_type": "stream",
     "text": [
      "<ipython-input-17-4e6b5e23f8e6>:3: SettingWithCopyWarning: \n",
      "A value is trying to be set on a copy of a slice from a DataFrame.\n",
      "Try using .loc[row_indexer,col_indexer] = value instead\n",
      "\n",
      "See the caveats in the documentation: https://pandas.pydata.org/pandas-docs/stable/user_guide/indexing.html#returning-a-view-versus-a-copy\n",
      "  df_cp_coords['key']=0\n"
     ]
    },
    {
     "data": {
      "text/html": [
       "<div>\n",
       "<style scoped>\n",
       "    .dataframe tbody tr th:only-of-type {\n",
       "        vertical-align: middle;\n",
       "    }\n",
       "\n",
       "    .dataframe tbody tr th {\n",
       "        vertical-align: top;\n",
       "    }\n",
       "\n",
       "    .dataframe thead th {\n",
       "        text-align: right;\n",
       "    }\n",
       "</style>\n",
       "<table border=\"1\" class=\"dataframe\">\n",
       "  <thead>\n",
       "    <tr style=\"text-align: right;\">\n",
       "      <th></th>\n",
       "      <th>cod_ori</th>\n",
       "      <th>latlon_ori</th>\n",
       "      <th>cod_des</th>\n",
       "      <th>latlon_des</th>\n",
       "      <th>cod</th>\n",
       "    </tr>\n",
       "  </thead>\n",
       "  <tbody>\n",
       "    <tr>\n",
       "      <th>1</th>\n",
       "      <td>1</td>\n",
       "      <td>-34.86347311448007,-56.17403019571399</td>\n",
       "      <td>2</td>\n",
       "      <td>-30.407062416732217,-56.81554727891256</td>\n",
       "      <td>102</td>\n",
       "    </tr>\n",
       "    <tr>\n",
       "      <th>2</th>\n",
       "      <td>1</td>\n",
       "      <td>-34.86347311448007,-56.17403019571399</td>\n",
       "      <td>3</td>\n",
       "      <td>-34.70480623405611,-56.04615274218908</td>\n",
       "      <td>103</td>\n",
       "    </tr>\n",
       "    <tr>\n",
       "      <th>3</th>\n",
       "      <td>1</td>\n",
       "      <td>-34.86347311448007,-56.17403019571399</td>\n",
       "      <td>4</td>\n",
       "      <td>-32.412530637702794,-54.04713015664623</td>\n",
       "      <td>104</td>\n",
       "    </tr>\n",
       "    <tr>\n",
       "      <th>4</th>\n",
       "      <td>1</td>\n",
       "      <td>-34.86347311448007,-56.17403019571399</td>\n",
       "      <td>5</td>\n",
       "      <td>-34.23198949912197,-57.74210900659811</td>\n",
       "      <td>105</td>\n",
       "    </tr>\n",
       "    <tr>\n",
       "      <th>5</th>\n",
       "      <td>1</td>\n",
       "      <td>-34.86347311448007,-56.17403019571399</td>\n",
       "      <td>6</td>\n",
       "      <td>-33.29103587835989,-56.27098299307005</td>\n",
       "      <td>106</td>\n",
       "    </tr>\n",
       "  </tbody>\n",
       "</table>\n",
       "</div>"
      ],
      "text/plain": [
       "   cod_ori                             latlon_ori  cod_des  \\\n",
       "1        1  -34.86347311448007,-56.17403019571399        2   \n",
       "2        1  -34.86347311448007,-56.17403019571399        3   \n",
       "3        1  -34.86347311448007,-56.17403019571399        4   \n",
       "4        1  -34.86347311448007,-56.17403019571399        5   \n",
       "5        1  -34.86347311448007,-56.17403019571399        6   \n",
       "\n",
       "                               latlon_des  cod  \n",
       "1  -30.407062416732217,-56.81554727891256  102  \n",
       "2   -34.70480623405611,-56.04615274218908  103  \n",
       "3  -32.412530637702794,-54.04713015664623  104  \n",
       "4   -34.23198949912197,-57.74210900659811  105  \n",
       "5   -33.29103587835989,-56.27098299307005  106  "
      ]
     },
     "execution_count": 17,
     "metadata": {},
     "output_type": "execute_result"
    }
   ],
   "source": [
    "# realiza el producto cartesiano para obtener todas las combinaciones posibles de localidades\n",
    "df_cp_coords = df_cp[['DEPTO', 'latlon']]\n",
    "df_cp_coords['key']=0\n",
    "\n",
    "df_prod_cartesiano = df_cp_coords.merge(df_cp_coords, on='key', how='outer')\n",
    "df_prod_cartesiano.drop(columns=['key'], inplace=True)\n",
    "df_prod_cartesiano.rename(columns={'DEPTO_x': 'cod_ori', 'latlon_x': 'latlon_ori',\n",
    "                                       'DEPTO_y': 'cod_des', 'latlon_y': 'latlon_des'}, inplace=True)\n",
    "\n",
    "# elimina misma cod origen-destino\n",
    "df_prod_cartesiano = df_prod_cartesiano[df_prod_cartesiano['cod_ori'] != df_prod_cartesiano['cod_des']]\n",
    "\n",
    "# concatena en un código\n",
    "df_prod_cartesiano['cod'] = (df_prod_cartesiano['cod_ori'].astype(str).str.zfill(2) + \n",
    "                             df_prod_cartesiano['cod_des'].astype(str).str.zfill(2)).astype('int')\n",
    "\n",
    "print(df_prod_cartesiano.shape[0])\n",
    "df_prod_cartesiano.head(5)"
   ]
  },
  {
   "cell_type": "code",
   "execution_count": 18,
   "metadata": {
    "colab": {},
    "colab_type": "code",
    "id": "3ZW7JJ9dpAQK"
   },
   "outputs": [],
   "source": [
    "# matriz de distancia entre capitales departamentales de departamentos\n",
    "\n",
    "# define la función obtenerDistancia que usa la API Distance Matrix de Google\n",
    "\n",
    "def obtenerDistancia(ori, dest, API_KEY):\n",
    "    '''\n",
    "    Esta funcion devuelve distancia en km entre un o varios par(es) de coordenadas\n",
    "    geográficas, utilizando la API de Google Distance Matrix.\n",
    "    '''\n",
    "    APIurl = \"\"\"https://maps.googleapis.com/maps/api/distancematrix/json?\n",
    "                units=metric&mode=walking&origins=\"\"\" + ori +\\\n",
    "                \"&destinations=\" + dest + \"&key=\" + API_KEY\n",
    "    #Obtener la respuesta y cargar la representacion en un string\n",
    "    response = requests.get(APIurl)\n",
    "    geodataString = response.text\n",
    "    geodata = json.loads(geodataString)\n",
    "    # si la API no devulve resultados, la distancia será 'None'\n",
    "    if geodata['rows'][0]['elements'][0]['status']=='ZERO_RESULTS':\n",
    "        distancia = None\n",
    "    else:\n",
    "        distancia = geodata['rows'][0]['elements'][0]['distance']['value']\n",
    "    return distancia"
   ]
  },
  {
   "cell_type": "code",
   "execution_count": 30,
   "metadata": {
    "colab": {
     "base_uri": "https://localhost:8080/",
     "height": 161
    },
    "colab_type": "code",
    "id": "flK1eF9fqdMv",
    "outputId": "c9f30d3e-981e-42f0-86b7-1164bb4fff13"
   },
   "outputs": [
    {
     "name": "stdin",
     "output_type": "stream",
     "text": [
      " ·······································\n"
     ]
    },
    {
     "name": "stdout",
     "output_type": "stream",
     "text": [
      "342\n"
     ]
    },
    {
     "data": {
      "text/html": [
       "<div>\n",
       "<style scoped>\n",
       "    .dataframe tbody tr th:only-of-type {\n",
       "        vertical-align: middle;\n",
       "    }\n",
       "\n",
       "    .dataframe tbody tr th {\n",
       "        vertical-align: top;\n",
       "    }\n",
       "\n",
       "    .dataframe thead th {\n",
       "        text-align: right;\n",
       "    }\n",
       "</style>\n",
       "<table border=\"1\" class=\"dataframe\">\n",
       "  <thead>\n",
       "    <tr style=\"text-align: right;\">\n",
       "      <th></th>\n",
       "      <th>cod_ori</th>\n",
       "      <th>latlon_ori</th>\n",
       "      <th>cod_des</th>\n",
       "      <th>latlon_des</th>\n",
       "      <th>cod</th>\n",
       "    </tr>\n",
       "  </thead>\n",
       "  <tbody>\n",
       "    <tr>\n",
       "      <th>0</th>\n",
       "      <td>1</td>\n",
       "      <td>-34.86347311448007,-56.17403019571399</td>\n",
       "      <td>2</td>\n",
       "      <td>-30.407062416732217,-56.81554727891256</td>\n",
       "      <td>102</td>\n",
       "    </tr>\n",
       "    <tr>\n",
       "      <th>1</th>\n",
       "      <td>1</td>\n",
       "      <td>-34.86347311448007,-56.17403019571399</td>\n",
       "      <td>3</td>\n",
       "      <td>-34.70480623405611,-56.04615274218908</td>\n",
       "      <td>103</td>\n",
       "    </tr>\n",
       "    <tr>\n",
       "      <th>2</th>\n",
       "      <td>1</td>\n",
       "      <td>-34.86347311448007,-56.17403019571399</td>\n",
       "      <td>4</td>\n",
       "      <td>-32.412530637702794,-54.04713015664623</td>\n",
       "      <td>104</td>\n",
       "    </tr>\n",
       "  </tbody>\n",
       "</table>\n",
       "</div>"
      ],
      "text/plain": [
       "   cod_ori                             latlon_ori  cod_des  \\\n",
       "0        1  -34.86347311448007,-56.17403019571399        2   \n",
       "1        1  -34.86347311448007,-56.17403019571399        3   \n",
       "2        1  -34.86347311448007,-56.17403019571399        4   \n",
       "\n",
       "                               latlon_des  cod  \n",
       "0  -30.407062416732217,-56.81554727891256  102  \n",
       "1   -34.70480623405611,-56.04615274218908  103  \n",
       "2  -32.412530637702794,-54.04713015664623  104  "
      ]
     },
     "execution_count": 30,
     "metadata": {},
     "output_type": "execute_result"
    }
   ],
   "source": [
    "# setea la API KEY\n",
    "API_KEY = getpass.getpass()\n",
    "\n",
    "# ordena y resetea el índice\n",
    "df_prod_cartesiano.sort_values(by=['cod_ori', 'cod_des'], inplace=True)\n",
    "df_prod_cartesiano.reset_index(drop=True, inplace=True)\n",
    "\n",
    "print(df_prod_cartesiano.shape[0])\n",
    "df_prod_cartesiano.head(3)"
   ]
  },
  {
   "cell_type": "code",
   "execution_count": 32,
   "metadata": {},
   "outputs": [
    {
     "data": {
      "text/plain": [
       "342"
      ]
     },
     "execution_count": 32,
     "metadata": {},
     "output_type": "execute_result"
    }
   ],
   "source": [
    "df_prod_cartesiano.shape[0]"
   ]
  },
  {
   "cell_type": "code",
   "execution_count": 33,
   "metadata": {},
   "outputs": [
    {
     "data": {
      "text/plain": [
       "610726"
      ]
     },
     "execution_count": 33,
     "metadata": {},
     "output_type": "execute_result"
    }
   ],
   "source": [
    "# rpeuab con 1 caso\n",
    "obtenerDistancia( df_prod_cartesiano.latlon_ori[0] , df_prod_cartesiano.latlon_des[0] , API_KEY)"
   ]
  },
  {
   "cell_type": "code",
   "execution_count": 35,
   "metadata": {
    "colab": {},
    "colab_type": "code",
    "id": "2pBcwTTEqhSC"
   },
   "outputs": [],
   "source": [
    "# son 342 díadas de centros de población\n",
    "# for loop para obtener una lista con las distancias entre cp\n",
    "# aplica la función obtenerDistancia para combinaciones de cp\n",
    "\n",
    "distancias=[]\n",
    "\n",
    "for x in range(0, df_prod_cartesiano.shape[0]):\n",
    "  distancias.append(obtenerDistancia( df_prod_cartesiano.latlon_ori[x] , df_prod_cartesiano.latlon_des[x] , API_KEY))"
   ]
  },
  {
   "cell_type": "code",
   "execution_count": 36,
   "metadata": {
    "colab": {
     "base_uri": "https://localhost:8080/",
     "height": 52
    },
    "colab_type": "code",
    "id": "OEFgtRqhrmuk",
    "outputId": "783dec93-e4fa-4a8f-f726-e6901299aac6"
   },
   "outputs": [
    {
     "name": "stdout",
     "output_type": "stream",
     "text": [
      "342\n"
     ]
    }
   ],
   "source": [
    "print(len(distancias))"
   ]
  },
  {
   "cell_type": "code",
   "execution_count": 37,
   "metadata": {
    "colab": {
     "base_uri": "https://localhost:8080/",
     "height": 206
    },
    "colab_type": "code",
    "id": "vpFkyI64qjvp",
    "outputId": "ecfee181-6823-48a6-d16f-11cb0195b19d"
   },
   "outputs": [
    {
     "data": {
      "text/html": [
       "<div>\n",
       "<style scoped>\n",
       "    .dataframe tbody tr th:only-of-type {\n",
       "        vertical-align: middle;\n",
       "    }\n",
       "\n",
       "    .dataframe tbody tr th {\n",
       "        vertical-align: top;\n",
       "    }\n",
       "\n",
       "    .dataframe thead th {\n",
       "        text-align: right;\n",
       "    }\n",
       "</style>\n",
       "<table border=\"1\" class=\"dataframe\">\n",
       "  <thead>\n",
       "    <tr style=\"text-align: right;\">\n",
       "      <th></th>\n",
       "      <th>cod_ori</th>\n",
       "      <th>latlon_ori</th>\n",
       "      <th>cod_des</th>\n",
       "      <th>latlon_des</th>\n",
       "      <th>cod</th>\n",
       "      <th>distancia</th>\n",
       "    </tr>\n",
       "  </thead>\n",
       "  <tbody>\n",
       "    <tr>\n",
       "      <th>0</th>\n",
       "      <td>1</td>\n",
       "      <td>-34.86347311448007,-56.17403019571399</td>\n",
       "      <td>2</td>\n",
       "      <td>-30.407062416732217,-56.81554727891256</td>\n",
       "      <td>102</td>\n",
       "      <td>610726</td>\n",
       "    </tr>\n",
       "    <tr>\n",
       "      <th>1</th>\n",
       "      <td>1</td>\n",
       "      <td>-34.86347311448007,-56.17403019571399</td>\n",
       "      <td>3</td>\n",
       "      <td>-34.70480623405611,-56.04615274218908</td>\n",
       "      <td>103</td>\n",
       "      <td>22530</td>\n",
       "    </tr>\n",
       "    <tr>\n",
       "      <th>2</th>\n",
       "      <td>1</td>\n",
       "      <td>-34.86347311448007,-56.17403019571399</td>\n",
       "      <td>4</td>\n",
       "      <td>-32.412530637702794,-54.04713015664623</td>\n",
       "      <td>104</td>\n",
       "      <td>393686</td>\n",
       "    </tr>\n",
       "    <tr>\n",
       "      <th>3</th>\n",
       "      <td>1</td>\n",
       "      <td>-34.86347311448007,-56.17403019571399</td>\n",
       "      <td>5</td>\n",
       "      <td>-34.23198949912197,-57.74210900659811</td>\n",
       "      <td>105</td>\n",
       "      <td>172776</td>\n",
       "    </tr>\n",
       "    <tr>\n",
       "      <th>4</th>\n",
       "      <td>1</td>\n",
       "      <td>-34.86347311448007,-56.17403019571399</td>\n",
       "      <td>6</td>\n",
       "      <td>-33.29103587835989,-56.27098299307005</td>\n",
       "      <td>106</td>\n",
       "      <td>198970</td>\n",
       "    </tr>\n",
       "  </tbody>\n",
       "</table>\n",
       "</div>"
      ],
      "text/plain": [
       "   cod_ori                             latlon_ori  cod_des  \\\n",
       "0        1  -34.86347311448007,-56.17403019571399        2   \n",
       "1        1  -34.86347311448007,-56.17403019571399        3   \n",
       "2        1  -34.86347311448007,-56.17403019571399        4   \n",
       "3        1  -34.86347311448007,-56.17403019571399        5   \n",
       "4        1  -34.86347311448007,-56.17403019571399        6   \n",
       "\n",
       "                               latlon_des  cod  distancia  \n",
       "0  -30.407062416732217,-56.81554727891256  102     610726  \n",
       "1   -34.70480623405611,-56.04615274218908  103      22530  \n",
       "2  -32.412530637702794,-54.04713015664623  104     393686  \n",
       "3   -34.23198949912197,-57.74210900659811  105     172776  \n",
       "4   -33.29103587835989,-56.27098299307005  106     198970  "
      ]
     },
     "execution_count": 37,
     "metadata": {},
     "output_type": "execute_result"
    }
   ],
   "source": [
    "# pega con el df original\n",
    "# se conviernte en matriz de distancias, data frame\n",
    "df_distancias_google = pd.concat([df_prod_cartesiano.reset_index(drop=True), pd.DataFrame(distancias, columns=['distancia'])], axis=1)\n",
    "df_distancias_google.head()"
   ]
  },
  {
   "cell_type": "code",
   "execution_count": 42,
   "metadata": {},
   "outputs": [
    {
     "name": "stdout",
     "output_type": "stream",
     "text": [
      "00-fundamentacion.md\t   imagenes\n",
      "01-marco_teorico.md\t   markdown\n",
      "02-metodologia_files\t   matriz_de_distancias_google-Copy1.ipynb\n",
      "02-metodologia.ipynb\t   matriz_distancias_centros_pobl.ipynb\n",
      "02-metodologia.md\t   notas.txt\n",
      "capas\t\t\t   README.md\n",
      "centro_de_poblacion.ipynb  tablas\n",
      "gantt_chart.ipynb\n"
     ]
    }
   ],
   "source": [
    "# guarda\n",
    "df_distancias_google.to_csv('tablas/df_distancias_centro_poblacion.csv', index=False)"
   ]
  }
 ],
 "metadata": {
  "colab": {
   "authorship_tag": "ABX9TyPqKRw/9E1kHtowdnEFWwNz",
   "collapsed_sections": [],
   "include_colab_link": true,
   "name": "matriz_de_distancias_google.ipynb",
   "provenance": []
  },
  "kernelspec": {
   "display_name": "Python 3",
   "language": "python",
   "name": "python3"
  },
  "language_info": {
   "codemirror_mode": {
    "name": "ipython",
    "version": 3
   },
   "file_extension": ".py",
   "mimetype": "text/x-python",
   "name": "python",
   "nbconvert_exporter": "python",
   "pygments_lexer": "ipython3",
   "version": "3.8.2"
  }
 },
 "nbformat": 4,
 "nbformat_minor": 4
}
