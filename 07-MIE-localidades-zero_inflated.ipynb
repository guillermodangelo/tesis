{
 "cells": [
  {
   "cell_type": "code",
   "execution_count": 1,
   "metadata": {},
   "outputs": [],
   "source": [
    "import pandas as pd\n",
    "import numpy as np\n",
    "import statsmodels.api as sm\n",
    "import statsmodels.formula.api as smf\n",
    "import time\n",
    "from patsy import dmatrices\n",
    "import matplotlib.pyplot as plt\n",
    "\n",
    "# funciones desarrolladas\n",
    "from functions.agrupar_dfs_censo import *\n",
    "from functions.cargar_data import *\n",
    "from functions.impresion import *"
   ]
  },
  {
   "cell_type": "code",
   "execution_count": 2,
   "metadata": {},
   "outputs": [
    {
     "name": "stdout",
     "output_type": "stream",
     "text": [
      "377610\n"
     ]
    },
    {
     "data": {
      "text/html": [
       "<div>\n",
       "<style scoped>\n",
       "    .dataframe tbody tr th:only-of-type {\n",
       "        vertical-align: middle;\n",
       "    }\n",
       "\n",
       "    .dataframe tbody tr th {\n",
       "        vertical-align: top;\n",
       "    }\n",
       "\n",
       "    .dataframe thead th {\n",
       "        text-align: right;\n",
       "    }\n",
       "</style>\n",
       "<table border=\"1\" class=\"dataframe\">\n",
       "  <thead>\n",
       "    <tr style=\"text-align: right;\">\n",
       "      <th></th>\n",
       "      <th>cod</th>\n",
       "      <th>cod_ori</th>\n",
       "      <th>cod_des</th>\n",
       "      <th>poblacion_ori</th>\n",
       "      <th>poblacion_des</th>\n",
       "      <th>personas_mig</th>\n",
       "      <th>distancia_m</th>\n",
       "    </tr>\n",
       "  </thead>\n",
       "  <tbody>\n",
       "    <tr>\n",
       "      <th>0</th>\n",
       "      <td>10202220</td>\n",
       "      <td>1020</td>\n",
       "      <td>2220</td>\n",
       "      <td>1304729</td>\n",
       "      <td>40657</td>\n",
       "      <td>635.0</td>\n",
       "      <td>583715</td>\n",
       "    </tr>\n",
       "    <tr>\n",
       "      <th>1</th>\n",
       "      <td>10202521</td>\n",
       "      <td>1020</td>\n",
       "      <td>2521</td>\n",
       "      <td>1304729</td>\n",
       "      <td>12200</td>\n",
       "      <td>90.0</td>\n",
       "      <td>612802</td>\n",
       "    </tr>\n",
       "    <tr>\n",
       "      <th>2</th>\n",
       "      <td>10202522</td>\n",
       "      <td>1020</td>\n",
       "      <td>2522</td>\n",
       "      <td>1304729</td>\n",
       "      <td>2659</td>\n",
       "      <td>17.0</td>\n",
       "      <td>617076</td>\n",
       "    </tr>\n",
       "  </tbody>\n",
       "</table>\n",
       "</div>"
      ],
      "text/plain": [
       "        cod  cod_ori  cod_des  poblacion_ori  poblacion_des  personas_mig  \\\n",
       "0  10202220     1020     2220        1304729          40657         635.0   \n",
       "1  10202521     1020     2521        1304729          12200          90.0   \n",
       "2  10202522     1020     2522        1304729           2659          17.0   \n",
       "\n",
       "   distancia_m  \n",
       "0       583715  \n",
       "1       612802  \n",
       "2       617076  "
      ]
     },
     "execution_count": 2,
     "metadata": {},
     "output_type": "execute_result"
    }
   ],
   "source": [
    "flujos_loc = pd.read_csv('tablas/dd_localidades.csv')\n",
    "print(flujos_loc.shape[0])\n",
    "flujos_loc.head(3)"
   ]
  },
  {
   "cell_type": "code",
   "execution_count": 3,
   "metadata": {},
   "outputs": [
    {
     "name": "stderr",
     "output_type": "stream",
     "text": [
      "/home/guillermo/anaconda3/envs/tesis/lib/python3.9/site-packages/geopandas/geodataframe.py:577: RuntimeWarning: Sequential read of iterator was interrupted. Resetting iterator. This can negatively impact the performance.\n",
      "  for feature in features_lst:\n"
     ]
    },
    {
     "data": {
      "text/html": [
       "<div>\n",
       "<style scoped>\n",
       "    .dataframe tbody tr th:only-of-type {\n",
       "        vertical-align: middle;\n",
       "    }\n",
       "\n",
       "    .dataframe tbody tr th {\n",
       "        vertical-align: top;\n",
       "    }\n",
       "\n",
       "    .dataframe thead th {\n",
       "        text-align: right;\n",
       "    }\n",
       "</style>\n",
       "<table border=\"1\" class=\"dataframe\">\n",
       "  <thead>\n",
       "    <tr style=\"text-align: right;\">\n",
       "      <th></th>\n",
       "      <th>CODLOC</th>\n",
       "      <th>geometry</th>\n",
       "    </tr>\n",
       "  </thead>\n",
       "  <tbody>\n",
       "    <tr>\n",
       "      <th>0</th>\n",
       "      <td>2220</td>\n",
       "      <td>POINT (549273.219 6633915.063)</td>\n",
       "    </tr>\n",
       "    <tr>\n",
       "      <th>1</th>\n",
       "      <td>2521</td>\n",
       "      <td>POINT (442454.671 6652273.541)</td>\n",
       "    </tr>\n",
       "    <tr>\n",
       "      <th>2</th>\n",
       "      <td>2522</td>\n",
       "      <td>POINT (457921.001 6633361.660)</td>\n",
       "    </tr>\n",
       "  </tbody>\n",
       "</table>\n",
       "</div>"
      ],
      "text/plain": [
       "   CODLOC                        geometry\n",
       "0    2220  POINT (549273.219 6633915.063)\n",
       "1    2521  POINT (442454.671 6652273.541)\n",
       "2    2522  POINT (457921.001 6633361.660)"
      ]
     },
     "execution_count": 3,
     "metadata": {},
     "output_type": "execute_result"
    }
   ],
   "source": [
    "locs = cargar_datos_geo()[2][['CODLOC', 'geometry']]\n",
    "locs.head(3)"
   ]
  },
  {
   "cell_type": "code",
   "execution_count": 4,
   "metadata": {},
   "outputs": [
    {
     "data": {
      "text/plain": [
       "377610"
      ]
     },
     "execution_count": 4,
     "metadata": {},
     "output_type": "execute_result"
    }
   ],
   "source": [
    "locs_cod = list(locs.CODLOC)\n",
    "len(locs_cod) ** 2 - len(locs_cod)"
   ]
  },
  {
   "cell_type": "code",
   "execution_count": 5,
   "metadata": {},
   "outputs": [
    {
     "data": {
      "text/html": [
       "<div>\n",
       "<style scoped>\n",
       "    .dataframe tbody tr th:only-of-type {\n",
       "        vertical-align: middle;\n",
       "    }\n",
       "\n",
       "    .dataframe tbody tr th {\n",
       "        vertical-align: top;\n",
       "    }\n",
       "\n",
       "    .dataframe thead th {\n",
       "        text-align: right;\n",
       "    }\n",
       "</style>\n",
       "<table border=\"1\" class=\"dataframe\">\n",
       "  <thead>\n",
       "    <tr style=\"text-align: right;\">\n",
       "      <th></th>\n",
       "      <th>cod</th>\n",
       "      <th>cod_ori</th>\n",
       "      <th>cod_des</th>\n",
       "      <th>poblacion_ori</th>\n",
       "      <th>poblacion_des</th>\n",
       "      <th>personas_mig</th>\n",
       "      <th>distancia_m</th>\n",
       "      <th>geom_ori</th>\n",
       "      <th>geom_des</th>\n",
       "    </tr>\n",
       "  </thead>\n",
       "  <tbody>\n",
       "    <tr>\n",
       "      <th>0</th>\n",
       "      <td>10202220</td>\n",
       "      <td>1020</td>\n",
       "      <td>2220</td>\n",
       "      <td>1304729</td>\n",
       "      <td>40657</td>\n",
       "      <td>635.0</td>\n",
       "      <td>583715</td>\n",
       "      <td>POINT (573082.248 6145008.434)</td>\n",
       "      <td>POINT (549273.219 6633915.063)</td>\n",
       "    </tr>\n",
       "    <tr>\n",
       "      <th>1</th>\n",
       "      <td>25212220</td>\n",
       "      <td>2521</td>\n",
       "      <td>2220</td>\n",
       "      <td>12200</td>\n",
       "      <td>40657</td>\n",
       "      <td>NaN</td>\n",
       "      <td>137927</td>\n",
       "      <td>POINT (442454.671 6652273.541)</td>\n",
       "      <td>POINT (549273.219 6633915.063)</td>\n",
       "    </tr>\n",
       "    <tr>\n",
       "      <th>2</th>\n",
       "      <td>25222220</td>\n",
       "      <td>2522</td>\n",
       "      <td>2220</td>\n",
       "      <td>2659</td>\n",
       "      <td>40657</td>\n",
       "      <td>NaN</td>\n",
       "      <td>111408</td>\n",
       "      <td>POINT (457921.001 6633361.660)</td>\n",
       "      <td>POINT (549273.219 6633915.063)</td>\n",
       "    </tr>\n",
       "    <tr>\n",
       "      <th>3</th>\n",
       "      <td>26212220</td>\n",
       "      <td>2621</td>\n",
       "      <td>2220</td>\n",
       "      <td>2531</td>\n",
       "      <td>40657</td>\n",
       "      <td>NaN</td>\n",
       "      <td>106867</td>\n",
       "      <td>POINT (468458.270 6601361.867)</td>\n",
       "      <td>POINT (549273.219 6633915.063)</td>\n",
       "    </tr>\n",
       "    <tr>\n",
       "      <th>4</th>\n",
       "      <td>27212220</td>\n",
       "      <td>2721</td>\n",
       "      <td>2220</td>\n",
       "      <td>380</td>\n",
       "      <td>40657</td>\n",
       "      <td>NaN</td>\n",
       "      <td>58392</td>\n",
       "      <td>POINT (502880.928 6648162.053)</td>\n",
       "      <td>POINT (549273.219 6633915.063)</td>\n",
       "    </tr>\n",
       "  </tbody>\n",
       "</table>\n",
       "</div>"
      ],
      "text/plain": [
       "        cod  cod_ori  cod_des  poblacion_ori  poblacion_des  personas_mig  \\\n",
       "0  10202220     1020     2220        1304729          40657         635.0   \n",
       "1  25212220     2521     2220          12200          40657           NaN   \n",
       "2  25222220     2522     2220           2659          40657           NaN   \n",
       "3  26212220     2621     2220           2531          40657           NaN   \n",
       "4  27212220     2721     2220            380          40657           NaN   \n",
       "\n",
       "   distancia_m                        geom_ori                        geom_des  \n",
       "0       583715  POINT (573082.248 6145008.434)  POINT (549273.219 6633915.063)  \n",
       "1       137927  POINT (442454.671 6652273.541)  POINT (549273.219 6633915.063)  \n",
       "2       111408  POINT (457921.001 6633361.660)  POINT (549273.219 6633915.063)  \n",
       "3       106867  POINT (468458.270 6601361.867)  POINT (549273.219 6633915.063)  \n",
       "4        58392  POINT (502880.928 6648162.053)  POINT (549273.219 6633915.063)  "
      ]
     },
     "execution_count": 5,
     "metadata": {},
     "output_type": "execute_result"
    }
   ],
   "source": [
    "# pega geometrías\n",
    "dd = flujos_loc.merge(locs, left_on='cod_ori', right_on='CODLOC')\n",
    "dd = dd.merge(locs, left_on='cod_des', right_on='CODLOC')\n",
    "dd.drop(['CODLOC_x', 'CODLOC_y'], axis=1, inplace=True)\n",
    "dd.rename({'geometry_x':'geom_ori', 'geometry_y':'geom_des'}, axis=1, inplace=True)\n",
    "\n",
    "dd.head()\n",
    "\n",
    "# exporta CSV con geometrías puntuales para mapa de flujos\n",
    "#dd.to_csv('capas/loc_lines.csv', index=False)"
   ]
  },
  {
   "cell_type": "code",
   "execution_count": 6,
   "metadata": {},
   "outputs": [
    {
     "name": "stdout",
     "output_type": "stream",
     "text": [
      "(377610, 7)\n"
     ]
    },
    {
     "data": {
      "text/html": [
       "<div>\n",
       "<style scoped>\n",
       "    .dataframe tbody tr th:only-of-type {\n",
       "        vertical-align: middle;\n",
       "    }\n",
       "\n",
       "    .dataframe tbody tr th {\n",
       "        vertical-align: top;\n",
       "    }\n",
       "\n",
       "    .dataframe thead th {\n",
       "        text-align: right;\n",
       "    }\n",
       "</style>\n",
       "<table border=\"1\" class=\"dataframe\">\n",
       "  <thead>\n",
       "    <tr style=\"text-align: right;\">\n",
       "      <th></th>\n",
       "      <th>cod</th>\n",
       "      <th>cod_ori</th>\n",
       "      <th>cod_des</th>\n",
       "      <th>poblacion_ori</th>\n",
       "      <th>poblacion_des</th>\n",
       "      <th>personas_mig</th>\n",
       "      <th>distancia_m</th>\n",
       "    </tr>\n",
       "  </thead>\n",
       "  <tbody>\n",
       "    <tr>\n",
       "      <th>0</th>\n",
       "      <td>10202220</td>\n",
       "      <td>1020</td>\n",
       "      <td>2220</td>\n",
       "      <td>1304729</td>\n",
       "      <td>40657</td>\n",
       "      <td>635.0</td>\n",
       "      <td>583715</td>\n",
       "    </tr>\n",
       "    <tr>\n",
       "      <th>1</th>\n",
       "      <td>10202521</td>\n",
       "      <td>1020</td>\n",
       "      <td>2521</td>\n",
       "      <td>1304729</td>\n",
       "      <td>12200</td>\n",
       "      <td>90.0</td>\n",
       "      <td>612802</td>\n",
       "    </tr>\n",
       "    <tr>\n",
       "      <th>2</th>\n",
       "      <td>10202522</td>\n",
       "      <td>1020</td>\n",
       "      <td>2522</td>\n",
       "      <td>1304729</td>\n",
       "      <td>2659</td>\n",
       "      <td>17.0</td>\n",
       "      <td>617076</td>\n",
       "    </tr>\n",
       "    <tr>\n",
       "      <th>3</th>\n",
       "      <td>10202621</td>\n",
       "      <td>1020</td>\n",
       "      <td>2621</td>\n",
       "      <td>1304729</td>\n",
       "      <td>2531</td>\n",
       "      <td>9.0</td>\n",
       "      <td>595785</td>\n",
       "    </tr>\n",
       "    <tr>\n",
       "      <th>4</th>\n",
       "      <td>10202721</td>\n",
       "      <td>1020</td>\n",
       "      <td>2721</td>\n",
       "      <td>1304729</td>\n",
       "      <td>380</td>\n",
       "      <td>NaN</td>\n",
       "      <td>628213</td>\n",
       "    </tr>\n",
       "  </tbody>\n",
       "</table>\n",
       "</div>"
      ],
      "text/plain": [
       "        cod  cod_ori  cod_des  poblacion_ori  poblacion_des  personas_mig  \\\n",
       "0  10202220     1020     2220        1304729          40657         635.0   \n",
       "1  10202521     1020     2521        1304729          12200          90.0   \n",
       "2  10202522     1020     2522        1304729           2659          17.0   \n",
       "3  10202621     1020     2621        1304729           2531           9.0   \n",
       "4  10202721     1020     2721        1304729            380           NaN   \n",
       "\n",
       "   distancia_m  \n",
       "0       583715  \n",
       "1       612802  \n",
       "2       617076  \n",
       "3       595785  \n",
       "4       628213  "
      ]
     },
     "execution_count": 6,
     "metadata": {},
     "output_type": "execute_result"
    }
   ],
   "source": [
    "print(flujos_loc.shape)\n",
    "flujos_loc.head()"
   ]
  },
  {
   "cell_type": "code",
   "execution_count": 7,
   "metadata": {},
   "outputs": [],
   "source": [
    "# reemplaza NaNs de personas migrantes\n",
    "flujos_loc.loc[flujos_loc.personas_mig.isna(), 'personas_mig'] = 0\n",
    "flujos_loc['personas_mig'] = flujos_loc['personas_mig'].astype(int)"
   ]
  },
  {
   "cell_type": "code",
   "execution_count": 27,
   "metadata": {},
   "outputs": [
    {
     "name": "stdout",
     "output_type": "stream",
     "text": [
      "368819\n",
      "8791\n"
     ]
    }
   ],
   "source": [
    "print(flujos_loc.loc[flujos_loc.personas_mig == 0].shape[0])\n",
    "print(flujos_loc.loc[flujos_loc.personas_mig > 0].shape[0])"
   ]
  },
  {
   "cell_type": "code",
   "execution_count": null,
   "metadata": {},
   "outputs": [],
   "source": []
  },
  {
   "cell_type": "markdown",
   "metadata": {},
   "source": [
    "### Zero inflated model"
   ]
  },
  {
   "cell_type": "code",
   "execution_count": 9,
   "metadata": {},
   "outputs": [
    {
     "data": {
      "text/html": [
       "<div>\n",
       "<style scoped>\n",
       "    .dataframe tbody tr th:only-of-type {\n",
       "        vertical-align: middle;\n",
       "    }\n",
       "\n",
       "    .dataframe tbody tr th {\n",
       "        vertical-align: top;\n",
       "    }\n",
       "\n",
       "    .dataframe thead th {\n",
       "        text-align: right;\n",
       "    }\n",
       "</style>\n",
       "<table border=\"1\" class=\"dataframe\">\n",
       "  <thead>\n",
       "    <tr style=\"text-align: right;\">\n",
       "      <th></th>\n",
       "      <th>cod</th>\n",
       "      <th>cod_ori</th>\n",
       "      <th>cod_des</th>\n",
       "      <th>poblacion_ori</th>\n",
       "      <th>poblacion_des</th>\n",
       "      <th>personas_mig</th>\n",
       "      <th>distancia_m</th>\n",
       "    </tr>\n",
       "  </thead>\n",
       "  <tbody>\n",
       "    <tr>\n",
       "      <th>0</th>\n",
       "      <td>10202220</td>\n",
       "      <td>1020</td>\n",
       "      <td>2220</td>\n",
       "      <td>1304729</td>\n",
       "      <td>40657</td>\n",
       "      <td>635</td>\n",
       "      <td>583715</td>\n",
       "    </tr>\n",
       "    <tr>\n",
       "      <th>1</th>\n",
       "      <td>10202521</td>\n",
       "      <td>1020</td>\n",
       "      <td>2521</td>\n",
       "      <td>1304729</td>\n",
       "      <td>12200</td>\n",
       "      <td>90</td>\n",
       "      <td>612802</td>\n",
       "    </tr>\n",
       "    <tr>\n",
       "      <th>2</th>\n",
       "      <td>10202522</td>\n",
       "      <td>1020</td>\n",
       "      <td>2522</td>\n",
       "      <td>1304729</td>\n",
       "      <td>2659</td>\n",
       "      <td>17</td>\n",
       "      <td>617076</td>\n",
       "    </tr>\n",
       "    <tr>\n",
       "      <th>3</th>\n",
       "      <td>10202621</td>\n",
       "      <td>1020</td>\n",
       "      <td>2621</td>\n",
       "      <td>1304729</td>\n",
       "      <td>2531</td>\n",
       "      <td>9</td>\n",
       "      <td>595785</td>\n",
       "    </tr>\n",
       "    <tr>\n",
       "      <th>4</th>\n",
       "      <td>10202721</td>\n",
       "      <td>1020</td>\n",
       "      <td>2721</td>\n",
       "      <td>1304729</td>\n",
       "      <td>380</td>\n",
       "      <td>0</td>\n",
       "      <td>628213</td>\n",
       "    </tr>\n",
       "  </tbody>\n",
       "</table>\n",
       "</div>"
      ],
      "text/plain": [
       "        cod  cod_ori  cod_des  poblacion_ori  poblacion_des  personas_mig  \\\n",
       "0  10202220     1020     2220        1304729          40657           635   \n",
       "1  10202521     1020     2521        1304729          12200            90   \n",
       "2  10202522     1020     2522        1304729           2659            17   \n",
       "3  10202621     1020     2621        1304729           2531             9   \n",
       "4  10202721     1020     2721        1304729            380             0   \n",
       "\n",
       "   distancia_m  \n",
       "0       583715  \n",
       "1       612802  \n",
       "2       617076  \n",
       "3       595785  \n",
       "4       628213  "
      ]
     },
     "execution_count": 9,
     "metadata": {},
     "output_type": "execute_result"
    }
   ],
   "source": [
    "df = flujos_loc\n",
    "df.head()"
   ]
  },
  {
   "cell_type": "code",
   "execution_count": 10,
   "metadata": {},
   "outputs": [
    {
     "name": "stdout",
     "output_type": "stream",
     "text": [
      "Training data set length=302286\n",
      "Testing data set length=75324\n"
     ]
    }
   ],
   "source": [
    "expr = \"personas_mig ~ cod_ori + np.log(distancia_m) -1\"\n",
    "\n",
    "mask = np.random.rand(len(df)) < 0.8\n",
    "df_train = df[mask]\n",
    "df_test = df[~mask]\n",
    "print('Training data set length='+str(len(df_train)))\n",
    "print('Testing data set length='+str(len(df_test)))"
   ]
  },
  {
   "cell_type": "code",
   "execution_count": 11,
   "metadata": {},
   "outputs": [],
   "source": [
    "# genera las dmatrices de patsy\n",
    "y_train, X_train = dmatrices(expr, df_train, return_type='dataframe')\n",
    "y_test, X_test = dmatrices(expr, df_test, return_type='dataframe')"
   ]
  },
  {
   "cell_type": "code",
   "execution_count": 12,
   "metadata": {},
   "outputs": [
    {
     "name": "stderr",
     "output_type": "stream",
     "text": [
      "/home/guillermo/anaconda3/envs/tesis/lib/python3.9/site-packages/statsmodels/discrete/discrete_model.py:1090: RuntimeWarning: overflow encountered in exp\n",
      "  return -np.exp(XB) +  endog*XB - gammaln(endog+1)\n",
      "/home/guillermo/anaconda3/envs/tesis/lib/python3.9/site-packages/statsmodels/discrete/discrete_model.py:1267: RuntimeWarning: overflow encountered in exp\n",
      "  L = np.exp(np.dot(X,params) + offset + exposure)\n",
      "/home/guillermo/anaconda3/envs/tesis/lib/python3.9/site-packages/statsmodels/discrete/discrete_model.py:861: RuntimeWarning: overflow encountered in exp\n",
      "  return np.exp(linpred) # not cdf\n",
      "/home/guillermo/anaconda3/envs/tesis/lib/python3.9/site-packages/statsmodels/discrete/count_model.py:261: RuntimeWarning: invalid value encountered in multiply\n",
      "  dldp[zero_idx,:] = (score_main[zero_idx].T *\n",
      "/home/guillermo/anaconda3/envs/tesis/lib/python3.9/site-packages/numpy/core/_methods.py:47: RuntimeWarning: invalid value encountered in reduce\n",
      "  return umr_sum(a, axis, dtype, out, keepdims, initial, where)\n",
      "/home/guillermo/anaconda3/envs/tesis/lib/python3.9/site-packages/statsmodels/discrete/discrete_model.py:1090: RuntimeWarning: overflow encountered in exp\n",
      "  return -np.exp(XB) +  endog*XB - gammaln(endog+1)\n",
      "/home/guillermo/anaconda3/envs/tesis/lib/python3.9/site-packages/numpy/core/fromnumeric.py:87: RuntimeWarning: overflow encountered in reduce\n",
      "  return ufunc.reduce(obj, axis, dtype, out, **passkwargs)\n"
     ]
    },
    {
     "name": "stdout",
     "output_type": "stream",
     "text": [
      "Warning: Desired error not necessarily achieved due to precision loss.\n",
      "         Current function value: 2.592881\n",
      "         Iterations: 0\n",
      "         Function evaluations: 15\n",
      "         Gradient evaluations: 3\n"
     ]
    },
    {
     "name": "stderr",
     "output_type": "stream",
     "text": [
      "/home/guillermo/anaconda3/envs/tesis/lib/python3.9/site-packages/statsmodels/base/model.py:566: ConvergenceWarning: Maximum Likelihood optimization failed to converge. Check mle_retvals\n",
      "  warnings.warn(\"Maximum Likelihood optimization failed to \"\n"
     ]
    }
   ],
   "source": [
    "zip_training_results = sm.ZeroInflatedPoisson(endog=y_train, exog=X_train, exog_infl=X_train, inflation='logit').fit()"
   ]
  },
  {
   "cell_type": "code",
   "execution_count": 19,
   "metadata": {},
   "outputs": [
    {
     "data": {
      "text/html": [
       "<table class=\"simpletable\">\n",
       "<caption>ZeroInflatedPoisson Regression Results</caption>\n",
       "<tr>\n",
       "  <th>Dep. Variable:</th>      <td>personas_mig</td>     <th>  No. Observations:  </th>   <td>302286</td>   \n",
       "</tr>\n",
       "<tr>\n",
       "  <th>Model:</th>           <td>ZeroInflatedPoisson</td> <th>  Df Residuals:      </th>   <td>302284</td>   \n",
       "</tr>\n",
       "<tr>\n",
       "  <th>Method:</th>                  <td>MLE</td>         <th>  Df Model:          </th>   <td>     1</td>   \n",
       "</tr>\n",
       "<tr>\n",
       "  <th>Date:</th>             <td>Sun, 25 Jul 2021</td>   <th>  Pseudo R-squ.:     </th>   <td>-1.603</td>   \n",
       "</tr>\n",
       "<tr>\n",
       "  <th>Time:</th>                 <td>14:49:11</td>       <th>  Log-Likelihood:    </th> <td>-7.8379e+05</td>\n",
       "</tr>\n",
       "<tr>\n",
       "  <th>converged:</th>              <td>False</td>        <th>  LL-Null:           </th> <td>-3.0117e+05</td>\n",
       "</tr>\n",
       "<tr>\n",
       "  <th>Covariance Type:</th>      <td>nonrobust</td>      <th>  LLR p-value:       </th>   <td> 1.000</td>   \n",
       "</tr>\n",
       "</table>\n",
       "<table class=\"simpletable\">\n",
       "<tr>\n",
       "               <td></td>                  <th>coef</th>     <th>std err</th>      <th>z</th>      <th>P>|z|</th>  <th>[0.025</th>    <th>0.975]</th>  \n",
       "</tr>\n",
       "<tr>\n",
       "  <th>inflate_cod_ori</th>             <td>    0.1000</td> <td>   50.983</td> <td>    0.002</td> <td> 0.998</td> <td>  -99.824</td> <td>  100.024</td>\n",
       "</tr>\n",
       "<tr>\n",
       "  <th>inflate_np.log(distancia_m)</th> <td>    0.1000</td> <td> 3.56e+04</td> <td> 2.81e-06</td> <td> 1.000</td> <td>-6.98e+04</td> <td> 6.98e+04</td>\n",
       "</tr>\n",
       "<tr>\n",
       "  <th>cod_ori</th>                     <td>   -0.0001</td> <td> 4.62e-06</td> <td>  -31.610</td> <td> 0.000</td> <td>   -0.000</td> <td>   -0.000</td>\n",
       "</tr>\n",
       "<tr>\n",
       "  <th>np.log(distancia_m)</th>         <td>    0.0060</td> <td>    0.003</td> <td>    2.160</td> <td> 0.031</td> <td>    0.001</td> <td>    0.011</td>\n",
       "</tr>\n",
       "</table>"
      ],
      "text/plain": [
       "<class 'statsmodels.iolib.summary.Summary'>\n",
       "\"\"\"\n",
       "                     ZeroInflatedPoisson Regression Results                    \n",
       "===============================================================================\n",
       "Dep. Variable:            personas_mig   No. Observations:               302286\n",
       "Model:             ZeroInflatedPoisson   Df Residuals:                   302284\n",
       "Method:                            MLE   Df Model:                            1\n",
       "Date:                 Sun, 25 Jul 2021   Pseudo R-squ.:                  -1.603\n",
       "Time:                         14:49:11   Log-Likelihood:            -7.8379e+05\n",
       "converged:                       False   LL-Null:                   -3.0117e+05\n",
       "Covariance Type:             nonrobust   LLR p-value:                     1.000\n",
       "===============================================================================================\n",
       "                                  coef    std err          z      P>|z|      [0.025      0.975]\n",
       "-----------------------------------------------------------------------------------------------\n",
       "inflate_cod_ori                 0.1000     50.983      0.002      0.998     -99.824     100.024\n",
       "inflate_np.log(distancia_m)     0.1000   3.56e+04   2.81e-06      1.000   -6.98e+04    6.98e+04\n",
       "cod_ori                        -0.0001   4.62e-06    -31.610      0.000      -0.000      -0.000\n",
       "np.log(distancia_m)             0.0060      0.003      2.160      0.031       0.001       0.011\n",
       "===============================================================================================\n",
       "\"\"\""
      ]
     },
     "execution_count": 19,
     "metadata": {},
     "output_type": "execute_result"
    }
   ],
   "source": [
    "zip_training_results.summary()"
   ]
  },
  {
   "cell_type": "code",
   "execution_count": 20,
   "metadata": {},
   "outputs": [],
   "source": [
    "zip_predictions = zip_training_results.predict(X_test,exog_infl=X_test)\n",
    "predicted_counts=np.round(zip_predictions)\n",
    "actual_counts = y_test['personas_mig']\n"
   ]
  },
  {
   "cell_type": "code",
   "execution_count": 21,
   "metadata": {},
   "outputs": [
    {
     "name": "stdout",
     "output_type": "stream",
     "text": [
      "ZIP RMSE=4929.381908515509\n"
     ]
    }
   ],
   "source": [
    "print('ZIP RMSE='+str(\n",
    "    np.sqrt(\n",
    "        np.sum(\n",
    "            np.power(\n",
    "                np.subtract(predicted_counts,actual_counts),2)))))"
   ]
  },
  {
   "cell_type": "code",
   "execution_count": 22,
   "metadata": {},
   "outputs": [],
   "source": [
    "# bondad de ajuste\n",
    "\n",
    "# define una función para calcular el R cuadrado\n",
    "def calcR2(predicted, actual):\n",
    "    return np.power(np.corrcoef(actual, predicted),2.0)[0][1]\n",
    "\n",
    "# define una función para calcula el error medio cuadrático\n",
    "def calcRMSE(predicted, actual):\n",
    "    return np.sqrt(np.mean(predicted - actual)**2)"
   ]
  },
  {
   "cell_type": "code",
   "execution_count": 23,
   "metadata": {},
   "outputs": [
    {
     "data": {
      "text/plain": [
       "-0.0004936768930827728"
      ]
     },
     "execution_count": 23,
     "metadata": {},
     "output_type": "execute_result"
    }
   ],
   "source": [
    "from sklearn.metrics import r2_score\n",
    "\n",
    "r2_score(actual_counts, predicted_counts)"
   ]
  },
  {
   "cell_type": "code",
   "execution_count": 18,
   "metadata": {},
   "outputs": [
    {
     "ename": "NameError",
     "evalue": "name 'coefficient_of_dermination' is not defined",
     "output_type": "error",
     "traceback": [
      "\u001b[0;31m---------------------------------------------------------------------------\u001b[0m",
      "\u001b[0;31mNameError\u001b[0m                                 Traceback (most recent call last)",
      "\u001b[0;32m<ipython-input-18-b7de1a6a5e76>\u001b[0m in \u001b[0;36m<module>\u001b[0;34m\u001b[0m\n\u001b[0;32m----> 1\u001b[0;31m \u001b[0mcoefficient_of_dermination\u001b[0m\u001b[0;34m\u001b[0m\u001b[0;34m\u001b[0m\u001b[0m\n\u001b[0m",
      "\u001b[0;31mNameError\u001b[0m: name 'coefficient_of_dermination' is not defined"
     ]
    }
   ],
   "source": [
    "coefficient_of_dermination"
   ]
  },
  {
   "cell_type": "code",
   "execution_count": 24,
   "metadata": {},
   "outputs": [
    {
     "data": {
      "text/markdown": [
       "**Bondad de ajuste del modelo restringido en origen**"
      ],
      "text/plain": [
       "<IPython.core.display.Markdown object>"
      ]
     },
     "metadata": {},
     "output_type": "display_data"
    },
    {
     "name": "stderr",
     "output_type": "stream",
     "text": [
      "/home/guillermo/anaconda3/envs/tesis/lib/python3.9/site-packages/numpy/lib/function_base.py:2642: RuntimeWarning: invalid value encountered in true_divide\n",
      "  c /= stddev[:, None]\n",
      "/home/guillermo/anaconda3/envs/tesis/lib/python3.9/site-packages/numpy/lib/function_base.py:2643: RuntimeWarning: invalid value encountered in true_divide\n",
      "  c /= stddev[None, :]\n"
     ]
    },
    {
     "data": {
      "text/markdown": [
       "$R²$ = nan"
      ],
      "text/plain": [
       "<IPython.core.display.Markdown object>"
      ]
     },
     "metadata": {},
     "output_type": "display_data"
    },
    {
     "data": {
      "text/markdown": [
       "RMSE = 0.399"
      ],
      "text/plain": [
       "<IPython.core.display.Markdown object>"
      ]
     },
     "metadata": {},
     "output_type": "display_data"
    }
   ],
   "source": [
    "printmd('**Bondad de ajuste del modelo restringido en origen**')\n",
    "\n",
    "printmd(\"$R²$ = \" + round(calcR2(predicted_counts, actual_counts), 4).astype(str))\n",
    "\n",
    "printmd(\"RMSE = \" + round(calcRMSE(predicted_counts, actual_counts), 4).astype(str))"
   ]
  },
  {
   "cell_type": "code",
   "execution_count": 25,
   "metadata": {},
   "outputs": [
    {
     "data": {
      "image/png": "[encoded data removed]",
      "text/plain": [
       "<Figure size 1800x1200 with 1 Axes>"
      ]
     },
     "metadata": {
      "needs_background": "light"
     },
     "output_type": "display_data"
    }
   ],
   "source": [
    "# gráfica\n",
    "fig = plt.figure(figsize=(12, 8), dpi=150)\n",
    "\n",
    "fig.suptitle('Predicted versus actual counts using the ZIP model')\n",
    "\n",
    "predicted, = plt.plot(X_test.index, predicted_counts, 'g', label='Predicted')\n",
    "\n",
    "actual, = plt.plot(X_test.index, actual_counts, 'r', label='Actual')\n",
    "\n",
    "plt.legend(handles=[predicted, actual])\n",
    "\n",
    "plt.show()"
   ]
  }
 ],
 "metadata": {
  "kernelspec": {
   "display_name": "Python 3.9.2 64-bit ('tesis': conda)",
   "language": "python",
   "name": "python392jvsc74a57bd05ce838cc175eb9c7ee2cce823ae805de6106cb4564d9fc7b3476b35fac8c9293"
  },
  "language_info": {
   "codemirror_mode": {
    "name": "ipython",
    "version": 3
   },
   "file_extension": ".py",
   "mimetype": "text/x-python",
   "name": "python",
   "nbconvert_exporter": "python",
   "pygments_lexer": "ipython3",
   "version": "3.9.2"
  },
  "metadata": {
   "interpreter": {
    "hash": "5ce838cc175eb9c7ee2cce823ae805de6106cb4564d9fc7b3476b35fac8c9293"
   }
  }
 },
 "nbformat": 4,
 "nbformat_minor": 4
}
