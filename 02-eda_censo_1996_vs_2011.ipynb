{
 "cells": [
  {
   "cell_type": "markdown",
   "id": "b79326b9",
   "metadata": {},
   "source": [
    "\"Carga datos del Censo INE 1996\"\n",
    "Datos censales"
   ]
  },
  {
   "cell_type": "code",
   "execution_count": 1,
   "id": "6f0ecbd9",
   "metadata": {},
   "outputs": [],
   "source": [
    "import pandas as pd\n",
    "import numpy as np\n",
    "import matplotlib.pyplot as plt\n",
    "\n",
    "from functions.cargar_data import *\n",
    "from functions.func_demograficas import *\n",
    "from functions.graficas import *\n",
    "\n",
    "from scipy.optimize import curve_fit"
   ]
  },
  {
   "cell_type": "code",
   "execution_count": 2,
   "id": "5a9f72ba",
   "metadata": {},
   "outputs": [],
   "source": [
    "# setea metadatos\n",
    "metadatos_figs = {'Author': '''Guillermo D'Angelo'''}\n",
    "\n",
    "# setea tipo de fuente y tamaño\n",
    "size = 9\n",
    "font = {'fontname': 'Arial', 'fontsize': size}\n",
    "\n",
    "# fuente de leyendas\n",
    "font_legend = font_manager.FontProperties(family='Arial', style='normal', size=10)\n",
    "\n",
    "# tamaño de las gráficas (pulgadas)\n",
    "fig_size = [4, 2.4]\n",
    "\n",
    "# ancho de las barras\n",
    "bars_width=0.40\n",
    "\n",
    "# colores\n",
    "rosado  = (0.90, 0.40, 0.56)\n",
    "oscuro  = (0.08, 0.02, 0.13)\n",
    "violeta = (0.31, 0.11, 0.45)\n",
    "salmon  = (0.98, 0.80, 0.67)\n",
    "fucsia  = (0.72, 0.20, 0.58)\n",
    "lista_colores = rosado, oscuro\n",
    "color = 'darkcyan'\n",
    "color_spines = 'grey'\n",
    "\n",
    "def format_legend(x_pos, y_pos, labels):\n",
    "    fig.legend( labels,\n",
    "               bbox_to_anchor=(x_pos, y_pos),\n",
    "               loc='upper right',\n",
    "               frameon=False,\n",
    "               labelspacing=1,\n",
    "               prop=font_legend)"
   ]
  },
  {
   "cell_type": "markdown",
   "id": "4a44fcee",
   "metadata": {},
   "source": [
    "### Carga datos"
   ]
  },
  {
   "cell_type": "code",
   "execution_count": 3,
   "id": "901f17a1",
   "metadata": {},
   "outputs": [
    {
     "data": {
      "text/html": [
       "<div>\n",
       "<style scoped>\n",
       "    .dataframe tbody tr th:only-of-type {\n",
       "        vertical-align: middle;\n",
       "    }\n",
       "\n",
       "    .dataframe tbody tr th {\n",
       "        vertical-align: top;\n",
       "    }\n",
       "\n",
       "    .dataframe thead th {\n",
       "        text-align: right;\n",
       "    }\n",
       "</style>\n",
       "<table border=\"1\" class=\"dataframe\">\n",
       "  <thead>\n",
       "    <tr style=\"text-align: right;\">\n",
       "      <th></th>\n",
       "      <th>cod_ori</th>\n",
       "      <th>cod_des</th>\n",
       "      <th>cod</th>\n",
       "      <th>distancia</th>\n",
       "      <th>categoria_dist</th>\n",
       "    </tr>\n",
       "  </thead>\n",
       "  <tbody>\n",
       "    <tr>\n",
       "      <th>0</th>\n",
       "      <td>1</td>\n",
       "      <td>2</td>\n",
       "      <td>102</td>\n",
       "      <td>610726</td>\n",
       "      <td>6</td>\n",
       "    </tr>\n",
       "    <tr>\n",
       "      <th>1</th>\n",
       "      <td>1</td>\n",
       "      <td>3</td>\n",
       "      <td>103</td>\n",
       "      <td>22544</td>\n",
       "      <td>1</td>\n",
       "    </tr>\n",
       "  </tbody>\n",
       "</table>\n",
       "</div>"
      ],
      "text/plain": [
       "   cod_ori  cod_des  cod  distancia  categoria_dist\n",
       "0        1        2  102     610726               6\n",
       "1        1        3  103      22544               1"
      ]
     },
     "execution_count": 3,
     "metadata": {},
     "output_type": "execute_result"
    }
   ],
   "source": [
    "# Matriz de distancias deptos\n",
    "md = cargar_matriz_distancias()\n",
    "\n",
    "def categorizar_dist(df):\n",
    "    bins = [0, 100000, 200000, 300000, 400000, 500000, 700000]\n",
    "    bin_indices = np.digitize(df.distancia.values, bins)\n",
    "    return bin_indices\n",
    "\n",
    "md['categoria_dist'] = categorizar_dist(md)\n",
    "\n",
    "md.head(2)"
   ]
  },
  {
   "cell_type": "code",
   "execution_count": 4,
   "id": "0595bdab",
   "metadata": {},
   "outputs": [
    {
     "data": {
      "text/html": [
       "<div>\n",
       "<style scoped>\n",
       "    .dataframe tbody tr th:only-of-type {\n",
       "        vertical-align: middle;\n",
       "    }\n",
       "\n",
       "    .dataframe tbody tr th {\n",
       "        vertical-align: top;\n",
       "    }\n",
       "\n",
       "    .dataframe thead th {\n",
       "        text-align: right;\n",
       "    }\n",
       "</style>\n",
       "<table border=\"1\" class=\"dataframe\">\n",
       "  <thead>\n",
       "    <tr style=\"text-align: right;\">\n",
       "      <th></th>\n",
       "      <th>cod_ori</th>\n",
       "      <th>cod_des</th>\n",
       "      <th>cod</th>\n",
       "      <th>distancia_m</th>\n",
       "    </tr>\n",
       "  </thead>\n",
       "  <tbody>\n",
       "    <tr>\n",
       "      <th>0</th>\n",
       "      <td>2220</td>\n",
       "      <td>2521</td>\n",
       "      <td>22202521</td>\n",
       "      <td>137927</td>\n",
       "    </tr>\n",
       "    <tr>\n",
       "      <th>1</th>\n",
       "      <td>2220</td>\n",
       "      <td>2522</td>\n",
       "      <td>22202522</td>\n",
       "      <td>111408</td>\n",
       "    </tr>\n",
       "  </tbody>\n",
       "</table>\n",
       "</div>"
      ],
      "text/plain": [
       "   cod_ori  cod_des       cod  distancia_m\n",
       "0     2220     2521  22202521       137927\n",
       "1     2220     2522  22202522       111408"
      ]
     },
     "execution_count": 4,
     "metadata": {},
     "output_type": "execute_result"
    }
   ],
   "source": [
    "# Matriz de distancias localidades\n",
    "md_loc = cargar_matriz_dist_loc()\n",
    "md_loc.head(2)"
   ]
  },
  {
   "cell_type": "code",
   "execution_count": 5,
   "id": "9f6d9c6e",
   "metadata": {},
   "outputs": [
    {
     "data": {
      "text/plain": [
       "(3163763, 13)"
      ]
     },
     "execution_count": 5,
     "metadata": {},
     "output_type": "execute_result"
    }
   ],
   "source": [
    "# censo 96\n",
    "censo96 = cargar_censo_96()\n",
    "censo96.shape"
   ]
  },
  {
   "cell_type": "code",
   "execution_count": 6,
   "id": "b3e4dfba",
   "metadata": {},
   "outputs": [],
   "source": [
    "# migrantes internos censo 2011\n",
    "p_migr = cargar_migrantes_internos()"
   ]
  },
  {
   "cell_type": "markdown",
   "id": "a4f284d8",
   "metadata": {},
   "source": [
    "### Pre-proceso censo 96"
   ]
  },
  {
   "cell_type": "code",
   "execution_count": 7,
   "id": "7ee373dc",
   "metadata": {},
   "outputs": [
    {
     "name": "stdout",
     "output_type": "stream",
     "text": [
      "(193567, 15)\n"
     ]
    },
    {
     "data": {
      "text/html": [
       "<div>\n",
       "<style scoped>\n",
       "    .dataframe tbody tr th:only-of-type {\n",
       "        vertical-align: middle;\n",
       "    }\n",
       "\n",
       "    .dataframe tbody tr th {\n",
       "        vertical-align: top;\n",
       "    }\n",
       "\n",
       "    .dataframe thead th {\n",
       "        text-align: right;\n",
       "    }\n",
       "</style>\n",
       "<table border=\"1\" class=\"dataframe\">\n",
       "  <thead>\n",
       "    <tr style=\"text-align: right;\">\n",
       "      <th></th>\n",
       "      <th>cod</th>\n",
       "      <th>depto_destino</th>\n",
       "      <th>loc_destino</th>\n",
       "      <th>SECC</th>\n",
       "      <th>SEGM</th>\n",
       "      <th>VIVIENDA</th>\n",
       "      <th>TIPVIV</th>\n",
       "      <th>HOGARVIV</th>\n",
       "      <th>PARENTESCO</th>\n",
       "      <th>sexo</th>\n",
       "      <th>edad</th>\n",
       "      <th>HACE5AQUI</th>\n",
       "      <th>depto_origen</th>\n",
       "      <th>loc_origen</th>\n",
       "      <th>personas_mig</th>\n",
       "    </tr>\n",
       "  </thead>\n",
       "  <tbody>\n",
       "    <tr>\n",
       "      <th>0</th>\n",
       "      <td>1301</td>\n",
       "      <td>1</td>\n",
       "      <td>20</td>\n",
       "      <td>1</td>\n",
       "      <td>1</td>\n",
       "      <td>36375</td>\n",
       "      <td>2</td>\n",
       "      <td>1</td>\n",
       "      <td>8</td>\n",
       "      <td>2</td>\n",
       "      <td>24</td>\n",
       "      <td>NaN</td>\n",
       "      <td>13</td>\n",
       "      <td>522.0</td>\n",
       "      <td>1</td>\n",
       "    </tr>\n",
       "    <tr>\n",
       "      <th>1</th>\n",
       "      <td>601</td>\n",
       "      <td>1</td>\n",
       "      <td>20</td>\n",
       "      <td>1</td>\n",
       "      <td>1</td>\n",
       "      <td>146352</td>\n",
       "      <td>2</td>\n",
       "      <td>1</td>\n",
       "      <td>10</td>\n",
       "      <td>1</td>\n",
       "      <td>51</td>\n",
       "      <td>NaN</td>\n",
       "      <td>6</td>\n",
       "      <td>220.0</td>\n",
       "      <td>1</td>\n",
       "    </tr>\n",
       "  </tbody>\n",
       "</table>\n",
       "</div>"
      ],
      "text/plain": [
       "    cod  depto_destino  loc_destino  SECC  SEGM  VIVIENDA  TIPVIV  HOGARVIV  \\\n",
       "0  1301              1           20     1     1     36375       2         1   \n",
       "1   601              1           20     1     1    146352       2         1   \n",
       "\n",
       "   PARENTESCO  sexo  edad  HACE5AQUI  depto_origen  loc_origen  personas_mig  \n",
       "0           8     2    24        NaN            13       522.0             1  \n",
       "1          10     1    51        NaN             6       220.0             1  "
      ]
     },
     "execution_count": 7,
     "metadata": {},
     "output_type": "execute_result"
    }
   ],
   "source": [
    "# crea tabla de flujos\n",
    "dict_rename= {'HAC5DEPC': 'depto_origen',\n",
    "              'DPTO':'depto_destino',\n",
    "              'LOC': 'loc_destino',\n",
    "              'HAC5LOC': 'loc_origen',\n",
    "              'SEXO': 'sexo',\n",
    "              'EDAD': 'edad'}\n",
    "\n",
    "censo96.rename(dict_rename, axis=1, inplace=True)\n",
    "\n",
    "flujos_deptos96 = censo96.loc[(censo96.HACE5AQUI.isnull()) & (censo96.depto_origen <= 19)]\n",
    "\n",
    "flujos_deptos96 = flujos_deptos96.loc[flujos_deptos96.depto_destino != flujos_deptos96.depto_origen]\\\n",
    "                  .reset_index(drop=True)\n",
    "\n",
    "flujos_deptos96['personas_mig'] = 1\n",
    "flujos_deptos96['depto_origen'] = flujos_deptos96['depto_origen'].astype(int)\n",
    "\n",
    "def codif_diada_depto(df):\n",
    "    \"Codifica díadas por departamento\"\n",
    "    cod_depto_destino_str = df['depto_destino'].astype(str).str.zfill(2)\n",
    "    cod_diada_depto = (df['depto_origen'].astype(str) + cod_depto_destino_str).astype(int)\n",
    "    return cod_diada_depto\n",
    "\n",
    "# inserta el dato de díada codificada\n",
    "flujos_deptos96.insert(0, 'cod', codif_diada_depto(flujos_deptos96))\n",
    "\n",
    "print(flujos_deptos96.shape)\n",
    "flujos_deptos96.head(2)"
   ]
  },
  {
   "cell_type": "code",
   "execution_count": 8,
   "id": "8fc756c3",
   "metadata": {},
   "outputs": [
    {
     "name": "stdout",
     "output_type": "stream",
     "text": [
      "342\n"
     ]
    },
    {
     "data": {
      "text/html": [
       "<div>\n",
       "<style scoped>\n",
       "    .dataframe tbody tr th:only-of-type {\n",
       "        vertical-align: middle;\n",
       "    }\n",
       "\n",
       "    .dataframe tbody tr th {\n",
       "        vertical-align: top;\n",
       "    }\n",
       "\n",
       "    .dataframe thead th {\n",
       "        text-align: right;\n",
       "    }\n",
       "</style>\n",
       "<table border=\"1\" class=\"dataframe\">\n",
       "  <thead>\n",
       "    <tr style=\"text-align: right;\">\n",
       "      <th></th>\n",
       "      <th>cod</th>\n",
       "      <th>depto_origen</th>\n",
       "      <th>depto_destino</th>\n",
       "      <th>personas_mig</th>\n",
       "      <th>distancia</th>\n",
       "      <th>categoria_dist</th>\n",
       "    </tr>\n",
       "  </thead>\n",
       "  <tbody>\n",
       "    <tr>\n",
       "      <th>0</th>\n",
       "      <td>102</td>\n",
       "      <td>1</td>\n",
       "      <td>2</td>\n",
       "      <td>1277</td>\n",
       "      <td>610726</td>\n",
       "      <td>6</td>\n",
       "    </tr>\n",
       "    <tr>\n",
       "      <th>1</th>\n",
       "      <td>103</td>\n",
       "      <td>1</td>\n",
       "      <td>3</td>\n",
       "      <td>41077</td>\n",
       "      <td>22544</td>\n",
       "      <td>1</td>\n",
       "    </tr>\n",
       "  </tbody>\n",
       "</table>\n",
       "</div>"
      ],
      "text/plain": [
       "   cod  depto_origen  depto_destino  personas_mig  distancia  categoria_dist\n",
       "0  102             1              2          1277     610726               6\n",
       "1  103             1              3         41077      22544               1"
      ]
     },
     "execution_count": 8,
     "metadata": {},
     "output_type": "execute_result"
    }
   ],
   "source": [
    "def agrupar_y_recuperar_distancias(df, matriz_distancias):\n",
    "    df_agrupado =  df.groupby(by=['cod', 'depto_origen', 'depto_destino']).sum()['personas_mig'].reset_index()\n",
    "    df_agrupado['personas_mig'] = df_agrupado['personas_mig'].astype(int)\n",
    "    df_dist = df_agrupado.merge(matriz_distancias.loc[:,['cod','distancia','categoria_dist']])\n",
    "    \n",
    "    return df_dist\n",
    "\n",
    "df_96_dist = agrupar_y_recuperar_distancias(flujos_deptos96, md)\n",
    "print(df_96_dist.shape[0])\n",
    "df_96_dist.head(2)"
   ]
  },
  {
   "cell_type": "markdown",
   "id": "f940603d",
   "metadata": {},
   "source": [
    "### Pre-proceso censo 2011"
   ]
  },
  {
   "cell_type": "code",
   "execution_count": 9,
   "id": "be8a15c5",
   "metadata": {},
   "outputs": [
    {
     "data": {
      "text/html": [
       "<div>\n",
       "<style scoped>\n",
       "    .dataframe tbody tr th:only-of-type {\n",
       "        vertical-align: middle;\n",
       "    }\n",
       "\n",
       "    .dataframe tbody tr th {\n",
       "        vertical-align: top;\n",
       "    }\n",
       "\n",
       "    .dataframe thead th {\n",
       "        text-align: right;\n",
       "    }\n",
       "</style>\n",
       "<table border=\"1\" class=\"dataframe\">\n",
       "  <thead>\n",
       "    <tr style=\"text-align: right;\">\n",
       "      <th></th>\n",
       "      <th>cod</th>\n",
       "      <th>depto_origen</th>\n",
       "      <th>depto_destino</th>\n",
       "      <th>LOC</th>\n",
       "      <th>SECC</th>\n",
       "      <th>SEGM</th>\n",
       "      <th>VIVID</th>\n",
       "      <th>TIPO_VIVIE</th>\n",
       "      <th>HOGCOD</th>\n",
       "      <th>HOGID</th>\n",
       "      <th>...</th>\n",
       "      <th>PERED03_2</th>\n",
       "      <th>PERED04_R</th>\n",
       "      <th>PERED05_R</th>\n",
       "      <th>PERED06_R</th>\n",
       "      <th>CODIGO_CAR</th>\n",
       "      <th>PERED08</th>\n",
       "      <th>NIVELEDU_R</th>\n",
       "      <th>loc_origen</th>\n",
       "      <th>loc_destino</th>\n",
       "      <th>personas_mig</th>\n",
       "    </tr>\n",
       "  </thead>\n",
       "  <tbody>\n",
       "    <tr>\n",
       "      <th>0</th>\n",
       "      <td>301</td>\n",
       "      <td>3</td>\n",
       "      <td>1</td>\n",
       "      <td>20</td>\n",
       "      <td>1</td>\n",
       "      <td>1</td>\n",
       "      <td>5</td>\n",
       "      <td>1</td>\n",
       "      <td>102001001000501</td>\n",
       "      <td>1</td>\n",
       "      <td>...</td>\n",
       "      <td>0</td>\n",
       "      <td>2</td>\n",
       "      <td>3</td>\n",
       "      <td>4</td>\n",
       "      <td>55131</td>\n",
       "      <td>1</td>\n",
       "      <td>9</td>\n",
       "      <td>3732</td>\n",
       "      <td>1020</td>\n",
       "      <td>1</td>\n",
       "    </tr>\n",
       "    <tr>\n",
       "      <th>1</th>\n",
       "      <td>1701</td>\n",
       "      <td>17</td>\n",
       "      <td>1</td>\n",
       "      <td>20</td>\n",
       "      <td>1</td>\n",
       "      <td>1</td>\n",
       "      <td>30</td>\n",
       "      <td>1</td>\n",
       "      <td>102001001003001</td>\n",
       "      <td>1</td>\n",
       "      <td>...</td>\n",
       "      <td>0</td>\n",
       "      <td>0</td>\n",
       "      <td>2</td>\n",
       "      <td>4</td>\n",
       "      <td>55152</td>\n",
       "      <td>1</td>\n",
       "      <td>9</td>\n",
       "      <td>17220</td>\n",
       "      <td>1020</td>\n",
       "      <td>1</td>\n",
       "    </tr>\n",
       "  </tbody>\n",
       "</table>\n",
       "<p>2 rows × 53 columns</p>\n",
       "</div>"
      ],
      "text/plain": [
       "    cod  depto_origen  depto_destino  LOC  SECC  SEGM  VIVID  TIPO_VIVIE  \\\n",
       "0   301             3              1   20     1     1      5           1   \n",
       "1  1701            17              1   20     1     1     30           1   \n",
       "\n",
       "            HOGCOD  HOGID  ...  PERED03_2  PERED04_R  PERED05_R  PERED06_R  \\\n",
       "0  102001001000501      1  ...          0          2          3          4   \n",
       "1  102001001003001      1  ...          0          0          2          4   \n",
       "\n",
       "  CODIGO_CAR  PERED08  NIVELEDU_R  loc_origen  loc_destino  personas_mig  \n",
       "0      55131        1           9        3732         1020             1  \n",
       "1      55152        1           9       17220         1020             1  \n",
       "\n",
       "[2 rows x 53 columns]"
      ]
     },
     "execution_count": 9,
     "metadata": {},
     "output_type": "execute_result"
    }
   ],
   "source": [
    "# censo 2011\n",
    "dict_rename= {'PERNA01': 'edad'}\n",
    "\n",
    "censo11 = p_migr.rename(dict_rename, axis=1)\n",
    "\n",
    "flujos_deptos11 = censo11\n",
    "\n",
    "flujos_deptos11 = flujos_deptos11[flujos_deptos11.depto_origen != flujos_deptos11.depto_destino]\n",
    "\n",
    "flujos_deptos11['personas_mig'] = 1\n",
    "\n",
    "flujos_deptos11.insert(0, 'cod', codif_diada_depto(flujos_deptos11))\n",
    "\n",
    "flujos_deptos11.head(2)"
   ]
  },
  {
   "cell_type": "code",
   "execution_count": 10,
   "id": "9be4d647",
   "metadata": {},
   "outputs": [
    {
     "name": "stdout",
     "output_type": "stream",
     "text": [
      "342\n"
     ]
    },
    {
     "data": {
      "text/html": [
       "<div>\n",
       "<style scoped>\n",
       "    .dataframe tbody tr th:only-of-type {\n",
       "        vertical-align: middle;\n",
       "    }\n",
       "\n",
       "    .dataframe tbody tr th {\n",
       "        vertical-align: top;\n",
       "    }\n",
       "\n",
       "    .dataframe thead th {\n",
       "        text-align: right;\n",
       "    }\n",
       "</style>\n",
       "<table border=\"1\" class=\"dataframe\">\n",
       "  <thead>\n",
       "    <tr style=\"text-align: right;\">\n",
       "      <th></th>\n",
       "      <th>cod</th>\n",
       "      <th>depto_origen</th>\n",
       "      <th>depto_destino</th>\n",
       "      <th>personas_mig</th>\n",
       "      <th>distancia</th>\n",
       "      <th>categoria_dist</th>\n",
       "    </tr>\n",
       "  </thead>\n",
       "  <tbody>\n",
       "    <tr>\n",
       "      <th>0</th>\n",
       "      <td>102</td>\n",
       "      <td>1</td>\n",
       "      <td>2</td>\n",
       "      <td>914</td>\n",
       "      <td>610726</td>\n",
       "      <td>6</td>\n",
       "    </tr>\n",
       "    <tr>\n",
       "      <th>1</th>\n",
       "      <td>103</td>\n",
       "      <td>1</td>\n",
       "      <td>3</td>\n",
       "      <td>33127</td>\n",
       "      <td>22544</td>\n",
       "      <td>1</td>\n",
       "    </tr>\n",
       "  </tbody>\n",
       "</table>\n",
       "</div>"
      ],
      "text/plain": [
       "   cod  depto_origen  depto_destino  personas_mig  distancia  categoria_dist\n",
       "0  102             1              2           914     610726               6\n",
       "1  103             1              3         33127      22544               1"
      ]
     },
     "execution_count": 10,
     "metadata": {},
     "output_type": "execute_result"
    }
   ],
   "source": [
    "df_11_dist = agrupar_y_recuperar_distancias(flujos_deptos11, md)\n",
    "print(df_11_dist.shape[0])\n",
    "df_11_dist.head(2)"
   ]
  },
  {
   "cell_type": "markdown",
   "id": "1145d62a",
   "metadata": {},
   "source": [
    "#### Gráficas"
   ]
  },
  {
   "cell_type": "code",
   "execution_count": 11,
   "id": "a79223eb",
   "metadata": {},
   "outputs": [],
   "source": [
    "# Gráfico de flujos contra distancia\n",
    "def plot_mig_distance(df, max_x, interval_x):\n",
    "    f, ax = plt.subplots(1, figsize=(8,4))\n",
    "\n",
    "    # plot de los puntos\n",
    "    ax.scatter(df['distancia']/1000, df['personas_mig'], marker='.', color='k')\n",
    "\n",
    "    # linea roja\n",
    "    ax.plot([0, max_x], [0,0],  color='r')\n",
    "    ax.plot([0, 0], [0, max(df['personas_mig'])+1],  color='r')\n",
    "    \n",
    "    # hide spines\n",
    "    [ax.spines[i].set_visible(False) for i in ['right', 'top', 'left', 'bottom']]\n",
    "\n",
    "    # Etiquetas\n",
    "    ax.set_ylabel(\"Total de flujos\")\n",
    "    ax.set_xlabel(\"Distancia (km)\")\n",
    "\n",
    "    plt.show()"
   ]
  },
  {
   "cell_type": "markdown",
   "id": "73b2a537",
   "metadata": {},
   "source": [
    "Flujos vs. distancia con Mvdeo. 1996"
   ]
  },
  {
   "cell_type": "code",
   "execution_count": 12,
   "id": "cefcbf26",
   "metadata": {},
   "outputs": [
    {
     "data": {
      "image/png": "[encoded data removed]",
      "text/plain": [
       "<Figure size 576x288 with 1 Axes>"
      ]
     },
     "metadata": {
      "needs_background": "light"
     },
     "output_type": "display_data"
    }
   ],
   "source": [
    "plot_mig_distance(df_96_dist, 700, 100)"
   ]
  },
  {
   "cell_type": "markdown",
   "id": "d1a00bf5",
   "metadata": {},
   "source": [
    "Flujos vs. distancia sin Mvdeo. 1996"
   ]
  },
  {
   "cell_type": "code",
   "execution_count": 13,
   "id": "5e34ec83",
   "metadata": {},
   "outputs": [
    {
     "data": {
      "image/png": "[encoded data removed]",
      "text/plain": [
       "<Figure size 576x288 with 1 Axes>"
      ]
     },
     "metadata": {
      "needs_background": "light"
     },
     "output_type": "display_data"
    }
   ],
   "source": [
    "df_96_dist_no_mvo = df_96_dist.loc[(df_96_dist.depto_origen!=1) & (df_96_dist.depto_destino!=1)]\n",
    "plot_mig_distance(df_96_dist_no_mvo, 700, 100)"
   ]
  },
  {
   "cell_type": "markdown",
   "id": "3d6528e8",
   "metadata": {},
   "source": [
    "Flujos vs. distancia con Mvdeo. 2011"
   ]
  },
  {
   "cell_type": "code",
   "execution_count": 14,
   "id": "f4023634",
   "metadata": {},
   "outputs": [
    {
     "data": {
      "image/png": "[encoded data removed]",
      "text/plain": [
       "<Figure size 576x288 with 1 Axes>"
      ]
     },
     "metadata": {
      "needs_background": "light"
     },
     "output_type": "display_data"
    }
   ],
   "source": [
    "plot_mig_distance(df_11_dist, 700, 100)"
   ]
  },
  {
   "cell_type": "markdown",
   "id": "f51900b1",
   "metadata": {},
   "source": [
    "Flujos vs. distancia sin Mvdeo. 2011"
   ]
  },
  {
   "cell_type": "code",
   "execution_count": 15,
   "id": "343fabf6",
   "metadata": {},
   "outputs": [
    {
     "data": {
      "image/png": "[encoded data removed]",
      "text/plain": [
       "<Figure size 576x288 with 1 Axes>"
      ]
     },
     "metadata": {
      "needs_background": "light"
     },
     "output_type": "display_data"
    }
   ],
   "source": [
    "df_11_dist_no_mvo = df_11_dist.loc[(df_11_dist.depto_origen!=1) & (df_11_dist.depto_destino!=1)]\n",
    "plot_mig_distance(df_11_dist_no_mvo, 700, 100)"
   ]
  },
  {
   "cell_type": "code",
   "execution_count": 16,
   "id": "045cddd1",
   "metadata": {},
   "outputs": [
    {
     "name": "stdout",
     "output_type": "stream",
     "text": [
      "Sumatoria de distancias ponderadas, Censo 1996:  2336582\n",
      "Sumatoria de distancias ponderadas, Censo 2011:  3145201\n"
     ]
    }
   ],
   "source": [
    "# sumatoria de distancias ponderadas\n",
    "print('Sumatoria de distancias ponderadas, Censo 1996: ', round(sum(df_96_dist.distancia/df_96_dist.personas_mig)))\n",
    "print('Sumatoria de distancias ponderadas, Censo 2011: ', round(sum(df_11_dist.distancia/df_11_dist.personas_mig)))"
   ]
  },
  {
   "cell_type": "code",
   "execution_count": 17,
   "id": "88da3af5",
   "metadata": {},
   "outputs": [
    {
     "name": "stdout",
     "output_type": "stream",
     "text": [
      "Sumatoria distancia sin Mvdeo., Censo 1996:  2331553\n",
      "Sumatoria distancia sin Mvdeo., Censo 2011:  3138065\n"
     ]
    }
   ],
   "source": [
    "# sumatoria de distancias ponderadas sin Mvdeo.\n",
    "print('Sumatoria distancia sin Mvdeo., Censo 1996: ', round(sum(df_96_dist_no_mvo.distancia/df_96_dist_no_mvo.personas_mig)))\n",
    "print('Sumatoria distancia sin Mvdeo., Censo 2011: ', round(sum(df_11_dist_no_mvo.distancia/df_11_dist_no_mvo.personas_mig)))"
   ]
  },
  {
   "cell_type": "markdown",
   "id": "dffa1736",
   "metadata": {},
   "source": [
    "#### Distancia mediana"
   ]
  },
  {
   "cell_type": "code",
   "execution_count": 18,
   "id": "ab41399e",
   "metadata": {},
   "outputs": [
    {
     "name": "stdout",
     "output_type": "stream",
     "text": [
      "Mediana de personas migrantes internas por distancia en Censo 1996:  23076\n"
     ]
    }
   ],
   "source": [
    "mediana96 = np.median((df_96_dist_no_mvo['personas_mig'] * df_96_dist_no_mvo['distancia']/1000).values)\n",
    "print('Mediana de personas migrantes internas por distancia en Censo 1996: ',  round(mediana96))"
   ]
  },
  {
   "cell_type": "code",
   "execution_count": 19,
   "id": "afdb9da0",
   "metadata": {},
   "outputs": [
    {
     "name": "stdout",
     "output_type": "stream",
     "text": [
      "Mediana de personas migrantes internas por distancia en Censo 2011:  19670\n"
     ]
    }
   ],
   "source": [
    "mediana11 = np.median((df_11_dist_no_mvo['personas_mig'] * df_11_dist_no_mvo['distancia']/1000).values)\n",
    "print('Mediana de personas migrantes internas por distancia en Censo 2011: ',  round(mediana11))"
   ]
  },
  {
   "cell_type": "code",
   "execution_count": 20,
   "id": "944ae192",
   "metadata": {},
   "outputs": [],
   "source": [
    "def calc_cats(df):\n",
    "    \"Agrupa por categorías y calcula el porcentaje de cada una.\"\n",
    "    cat = df.groupby('categoria_dist').sum()['personas_mig'].to_frame().reset_index()\n",
    "    cat['porc'] = (cat.personas_mig / cat.personas_mig.sum())*100\n",
    "    return cat\n",
    "\n",
    "porc96 = calc_cats(df_96_dist)\n",
    "porc11 = calc_cats(df_11_dist)"
   ]
  },
  {
   "cell_type": "code",
   "execution_count": 21,
   "id": "f7292440",
   "metadata": {},
   "outputs": [
    {
     "data": {
      "image/png": "[encoded data removed]",
      "text/plain": [
       "<Figure size 432x288 with 1 Axes>"
      ]
     },
     "metadata": {
      "needs_background": "dark"
     },
     "output_type": "display_data"
    }
   ],
   "source": [
    "p96 = porc96.personas_mig.values\n",
    "p11 = porc11.personas_mig.values\n",
    "    \n",
    "labels = ['< 100 km', '100-200', '201-300', '301-400', '401-500', '>500']\n",
    "x = np.arange(len(labels))  # the label locations\n",
    "    \n",
    "width = 0.40  # the width of the bars\n",
    "_labels = ['Flujos Censo 1996', 'Flujos Censo 2011']\n",
    "color_spines = 'grey'\n",
    "\n",
    "fig, ax = plt.subplots()\n",
    "rects1 = ax.bar(x - width/2, p96, width, label='Flujos Censo 1996', color=rosado)\n",
    "rects2 = ax.bar(x + width/2, p11, width, label='Flujos Censo 2011', color=oscuro)\n",
    "\n",
    "[ax.spines[x].set_visible(False) for x in [\"top\", \"right\"]]\n",
    "[ax.spines[x].set_color(color_spines) for x in [\"bottom\", \"left\"]]\n",
    "\n",
    "format_spines(color_spines, ax)\n",
    "\n",
    "plt.xticks(x, labels=labels, **font, color=color_spines)\n",
    "plt.yticks(**font, color=color_spines)\n",
    "plt.tick_params(axis='y',color=color_spines)\n",
    "plt.tick_params(axis='x', bottom=False, labelbottom=True, color=color_spines) \n",
    "\n",
    "format_legend(0.9, 0.9, _labels)\n",
    "\n",
    "plt.show()\n",
    "\n",
    "fig.savefig('mapas_graficas/' + 'flujos_censo96vs2011_absolutos.pdf',\n",
    "             bbox_inches= 'tight',\n",
    "             metadata= metadatos_figs)"
   ]
  },
  {
   "cell_type": "code",
   "execution_count": 22,
   "id": "16f69573",
   "metadata": {},
   "outputs": [
    {
     "data": {
      "image/png": "[encoded data removed]",
      "text/plain": [
       "<Figure size 432x288 with 1 Axes>"
      ]
     },
     "metadata": {
      "needs_background": "dark"
     },
     "output_type": "display_data"
    }
   ],
   "source": [
    "p96 = porc96.porc.values\n",
    "p11 = porc11.porc.values\n",
    "    \n",
    "labels = ['< 100 km', '100-200', '201-300', '301-400', '401-500', '>500']\n",
    "x = np.arange(len(labels))  # the label locations\n",
    "    \n",
    "width = 0.40  # the width of the bars\n",
    "_labels = ['Flujos Censo 1996', 'Flujos Censo 2011']\n",
    "color_spines = 'grey'\n",
    "\n",
    "fig, ax = plt.subplots()\n",
    "rects1 = ax.bar(x - width/2, p96, width, label='Flujos Censo 1996', color=rosado)\n",
    "rects2 = ax.bar(x + width/2, p11, width, label='Flujos Censo 2011', color=oscuro)\n",
    "\n",
    "[ax.spines[x].set_visible(False) for x in [\"top\", \"right\"]]\n",
    "[ax.spines[x].set_color(color_spines) for x in [\"bottom\", \"left\"]]\n",
    "\n",
    "format_spines(color_spines, ax)\n",
    "\n",
    "plt.xticks(x, labels=labels, **font, color=color_spines)\n",
    "plt.yticks(**font, color=color_spines)\n",
    "plt.tick_params(axis='y',color=color_spines)\n",
    "plt.tick_params(axis='x', bottom=False, labelbottom=True, color=color_spines) \n",
    "\n",
    "format_legend(0.9, 0.9, _labels)\n",
    "\n",
    "plt.show()\n",
    "\n",
    "fig.savefig('mapas_graficas/' + 'flujos_censo96vs2011_porcentajes.pdf',\n",
    "             bbox_inches= 'tight',\n",
    "             metadata= metadatos_figs)"
   ]
  },
  {
   "cell_type": "code",
   "execution_count": 23,
   "id": "48ac536d",
   "metadata": {},
   "outputs": [],
   "source": [
    "def func(x, a, b) :\n",
    "    return a * np.power(x, b)\n",
    "\n",
    "def fit_plot(x, y, curve_color, point_color, name):\n",
    "    fig, ax = plt.subplots()\n",
    "    popt, pcov = curve_fit(func, x, y, maxfev=5000)  \n",
    "    plt.plot(np.sort(x), func(np.sort(x), *popt), '-', color=curve_color, linewidth=2)\n",
    "    plt.plot(x, y, '.', color=point_color, markersize=4)\n",
    "    format_spines(color_spines, ax)\n",
    "    plt.xticks(**font, color=color_spines)\n",
    "    plt.yticks(**font, color=color_spines)\n",
    "    plt.tick_params(axis='y',color=color_spines)\n",
    "    plt.tick_params(axis='x', bottom=False, labelbottom=True, color=color_spines)\n",
    "    [ax.spines[x].set_visible(False) for x in [\"top\", \"right\"]]\n",
    "    [ax.spines[x].set_color(color_spines) for x in [\"bottom\", \"left\"]]\n",
    "\n",
    "    plt.savefig('mapas_graficas/' + name,\n",
    "             bbox_inches= 'tight',\n",
    "             metadata= metadatos_figs)\n",
    "    \n",
    "    return plt.show()"
   ]
  },
  {
   "cell_type": "code",
   "execution_count": 24,
   "id": "da799c66",
   "metadata": {},
   "outputs": [],
   "source": [
    "x96 = df_96_dist_no_mvo['distancia'].values/1000\n",
    "y96 = df_96_dist_no_mvo['personas_mig'].values\n",
    "\n",
    "x11 = df_11_dist_no_mvo['distancia'].values/1000\n",
    "y11 = df_11_dist_no_mvo['personas_mig'].values"
   ]
  },
  {
   "cell_type": "code",
   "execution_count": 25,
   "id": "31801571",
   "metadata": {},
   "outputs": [
    {
     "data": {
      "image/png": "[encoded data removed]",
      "text/plain": [
       "<Figure size 432x288 with 1 Axes>"
      ]
     },
     "metadata": {
      "needs_background": "dark"
     },
     "output_type": "display_data"
    }
   ],
   "source": [
    "fit_plot(x96, y96, oscuro, rosado, 'curva_scatter_1996.pdf')"
   ]
  },
  {
   "cell_type": "code",
   "execution_count": 26,
   "id": "464760d4",
   "metadata": {},
   "outputs": [
    {
     "data": {
      "image/png": "[encoded data removed]",
      "text/plain": [
       "<Figure size 432x288 with 1 Axes>"
      ]
     },
     "metadata": {
      "needs_background": "dark"
     },
     "output_type": "display_data"
    }
   ],
   "source": [
    "fit_plot(x11, y11, oscuro, rosado, 'curva_scatter_2011.pdf')"
   ]
  },
  {
   "cell_type": "code",
   "execution_count": 27,
   "id": "c26d89e0",
   "metadata": {},
   "outputs": [],
   "source": [
    "def fitted_curves_plot(x1, y1, x2, y2):\n",
    "    popt1, pcov1 = curve_fit(func, x1, y1, maxfev=5000)  \n",
    "    plt.plot(np.sort(x1), func(np.sort(x1), *popt1), '-')\n",
    "    \n",
    "    popt2, pcov2 = curve_fit(func, x2, y2, maxfev=5000)  \n",
    "    plt.plot(np.sort(x2), func(np.sort(x2), *popt2), '-')\n",
    "    \n",
    "    return plt.show()"
   ]
  },
  {
   "cell_type": "code",
   "execution_count": 28,
   "id": "b83ddcab",
   "metadata": {},
   "outputs": [],
   "source": [
    "def fitted_curves_plot(x1, y1, x2, y2, curve_colors, name):\n",
    "    fig, ax = plt.subplots()\n",
    "    \n",
    "    popt1, pcov1 = curve_fit(func, x1, y1, maxfev=5000)  \n",
    "    plt.plot(np.sort(x1), func(np.sort(x1), *popt1), '-', color=curve_colors[0], linewidth=2)\n",
    "    \n",
    "    popt2, pcov2 = curve_fit(func, x2, y2, maxfev=5000)  \n",
    "    plt.plot(np.sort(x2), func(np.sort(x2), *popt2), '-', color=curve_colors[1], linewidth=2)\n",
    "    \n",
    "    format_spines(color_spines, ax)\n",
    "    \n",
    "    plt.xticks(**font, color=color_spines)\n",
    "    plt.yticks(**font, color=color_spines)\n",
    "    plt.tick_params(axis='y',color=color_spines)\n",
    "    plt.tick_params(axis='x', bottom=False, labelbottom=True, color=color_spines)\n",
    "    [ax.spines[x].set_visible(False) for x in [\"top\", \"right\"]]\n",
    "    [ax.spines[x].set_color(color_spines) for x in [\"bottom\", \"left\"]]\n",
    "\n",
    "    plt.savefig('mapas_graficas/' + name,\n",
    "             bbox_inches= 'tight',\n",
    "             metadata= metadatos_figs)\n",
    "    \n",
    "    return plt.show()"
   ]
  },
  {
   "cell_type": "code",
   "execution_count": 29,
   "id": "65f43358",
   "metadata": {},
   "outputs": [
    {
     "data": {
      "image/png": "[encoded data removed]",
      "text/plain": [
       "<Figure size 432x288 with 1 Axes>"
      ]
     },
     "metadata": {
      "needs_background": "dark"
     },
     "output_type": "display_data"
    }
   ],
   "source": [
    "fitted_curves_plot(x96, y96, x11, y11, [fucsia, violeta], 'comp_curvas.pdf')"
   ]
  },
  {
   "cell_type": "markdown",
   "id": "33c3c4ea",
   "metadata": {},
   "source": [
    "## Distancias contra edades y sexos\n",
    "\n",
    "### Censo 2011"
   ]
  },
  {
   "cell_type": "code",
   "execution_count": 30,
   "id": "bf102e46",
   "metadata": {},
   "outputs": [
    {
     "data": {
      "text/html": [
       "<div>\n",
       "<style scoped>\n",
       "    .dataframe tbody tr th:only-of-type {\n",
       "        vertical-align: middle;\n",
       "    }\n",
       "\n",
       "    .dataframe tbody tr th {\n",
       "        vertical-align: top;\n",
       "    }\n",
       "\n",
       "    .dataframe thead th {\n",
       "        text-align: right;\n",
       "    }\n",
       "</style>\n",
       "<table border=\"1\" class=\"dataframe\">\n",
       "  <thead>\n",
       "    <tr style=\"text-align: right;\">\n",
       "      <th></th>\n",
       "      <th>cod</th>\n",
       "      <th>depto_origen</th>\n",
       "      <th>depto_destino</th>\n",
       "      <th>LOC</th>\n",
       "      <th>SECC</th>\n",
       "      <th>SEGM</th>\n",
       "      <th>VIVID</th>\n",
       "      <th>TIPO_VIVIE</th>\n",
       "      <th>HOGCOD</th>\n",
       "      <th>HOGID</th>\n",
       "      <th>...</th>\n",
       "      <th>PERED03_2</th>\n",
       "      <th>PERED04_R</th>\n",
       "      <th>PERED05_R</th>\n",
       "      <th>PERED06_R</th>\n",
       "      <th>CODIGO_CAR</th>\n",
       "      <th>PERED08</th>\n",
       "      <th>NIVELEDU_R</th>\n",
       "      <th>loc_origen</th>\n",
       "      <th>loc_destino</th>\n",
       "      <th>personas_mig</th>\n",
       "    </tr>\n",
       "  </thead>\n",
       "  <tbody>\n",
       "    <tr>\n",
       "      <th>0</th>\n",
       "      <td>301</td>\n",
       "      <td>3</td>\n",
       "      <td>1</td>\n",
       "      <td>20</td>\n",
       "      <td>1</td>\n",
       "      <td>1</td>\n",
       "      <td>5</td>\n",
       "      <td>1</td>\n",
       "      <td>102001001000501</td>\n",
       "      <td>1</td>\n",
       "      <td>...</td>\n",
       "      <td>0</td>\n",
       "      <td>2</td>\n",
       "      <td>3</td>\n",
       "      <td>4</td>\n",
       "      <td>55131</td>\n",
       "      <td>1</td>\n",
       "      <td>9</td>\n",
       "      <td>3732</td>\n",
       "      <td>1020</td>\n",
       "      <td>1</td>\n",
       "    </tr>\n",
       "    <tr>\n",
       "      <th>1</th>\n",
       "      <td>1701</td>\n",
       "      <td>17</td>\n",
       "      <td>1</td>\n",
       "      <td>20</td>\n",
       "      <td>1</td>\n",
       "      <td>1</td>\n",
       "      <td>30</td>\n",
       "      <td>1</td>\n",
       "      <td>102001001003001</td>\n",
       "      <td>1</td>\n",
       "      <td>...</td>\n",
       "      <td>0</td>\n",
       "      <td>0</td>\n",
       "      <td>2</td>\n",
       "      <td>4</td>\n",
       "      <td>55152</td>\n",
       "      <td>1</td>\n",
       "      <td>9</td>\n",
       "      <td>17220</td>\n",
       "      <td>1020</td>\n",
       "      <td>1</td>\n",
       "    </tr>\n",
       "  </tbody>\n",
       "</table>\n",
       "<p>2 rows × 53 columns</p>\n",
       "</div>"
      ],
      "text/plain": [
       "    cod  depto_origen  depto_destino  LOC  SECC  SEGM  VIVID  TIPO_VIVIE  \\\n",
       "0   301             3              1   20     1     1      5           1   \n",
       "1  1701            17              1   20     1     1     30           1   \n",
       "\n",
       "            HOGCOD  HOGID  ...  PERED03_2  PERED04_R  PERED05_R  PERED06_R  \\\n",
       "0  102001001000501      1  ...          0          2          3          4   \n",
       "1  102001001003001      1  ...          0          0          2          4   \n",
       "\n",
       "  CODIGO_CAR  PERED08  NIVELEDU_R  loc_origen  loc_destino  personas_mig  \n",
       "0      55131        1           9        3732         1020             1  \n",
       "1      55152        1           9       17220         1020             1  \n",
       "\n",
       "[2 rows x 53 columns]"
      ]
     },
     "execution_count": 30,
     "metadata": {},
     "output_type": "execute_result"
    }
   ],
   "source": [
    "flujos_deptos11.head(2)"
   ]
  },
  {
   "cell_type": "code",
   "execution_count": 31,
   "id": "423529bb",
   "metadata": {},
   "outputs": [],
   "source": [
    "def agrupacion_por_edad(df, matriz_distancias, columna_edad, filtro_edad):\n",
    "    \"Calcula promedio de distancia y migrante interno por edad\"\n",
    "    \n",
    "    ag =  df.merge(matriz_distancias, how='left', on='cod', indicator=True) \\\n",
    "            .groupby(columna_edad) \\\n",
    "            .sum()[['personas_mig', 'distancia']].reset_index()\n",
    "    \n",
    "    ag['dist_prom_edad'] = round(ag.distancia/1000/ag.personas_mig, 1)\n",
    "    ag = ag.loc[ag[columna_edad] < filtro_edad]\n",
    "    \n",
    "    return ag"
   ]
  },
  {
   "cell_type": "code",
   "execution_count": 32,
   "id": "3b217b04",
   "metadata": {},
   "outputs": [
    {
     "data": {
      "text/html": [
       "<div>\n",
       "<style scoped>\n",
       "    .dataframe tbody tr th:only-of-type {\n",
       "        vertical-align: middle;\n",
       "    }\n",
       "\n",
       "    .dataframe tbody tr th {\n",
       "        vertical-align: top;\n",
       "    }\n",
       "\n",
       "    .dataframe thead th {\n",
       "        text-align: right;\n",
       "    }\n",
       "</style>\n",
       "<table border=\"1\" class=\"dataframe\">\n",
       "  <thead>\n",
       "    <tr style=\"text-align: right;\">\n",
       "      <th></th>\n",
       "      <th>edad</th>\n",
       "      <th>personas_mig</th>\n",
       "      <th>distancia</th>\n",
       "      <th>dist_prom_edad</th>\n",
       "    </tr>\n",
       "  </thead>\n",
       "  <tbody>\n",
       "    <tr>\n",
       "      <th>0</th>\n",
       "      <td>5.0</td>\n",
       "      <td>2661</td>\n",
       "      <td>483842661</td>\n",
       "      <td>181.8</td>\n",
       "    </tr>\n",
       "    <tr>\n",
       "      <th>1</th>\n",
       "      <td>6.0</td>\n",
       "      <td>2432</td>\n",
       "      <td>437912394</td>\n",
       "      <td>180.1</td>\n",
       "    </tr>\n",
       "  </tbody>\n",
       "</table>\n",
       "</div>"
      ],
      "text/plain": [
       "   edad  personas_mig  distancia  dist_prom_edad\n",
       "0   5.0          2661  483842661           181.8\n",
       "1   6.0          2432  437912394           180.1"
      ]
     },
     "execution_count": 32,
     "metadata": {},
     "output_type": "execute_result"
    }
   ],
   "source": [
    "dist_11 = agrupacion_por_edad(flujos_deptos11, md, 'edad', 95)\n",
    "dist_96 = agrupacion_por_edad(flujos_deptos96, md, 'edad', 95)\n",
    "\n",
    "dist_11.head(2)"
   ]
  },
  {
   "cell_type": "code",
   "execution_count": 33,
   "id": "bb7a501f",
   "metadata": {},
   "outputs": [],
   "source": [
    "mediana96 = np.median(dist_96.dist_prom_edad.values)\n",
    "mediana11 = np.median(dist_11.dist_prom_edad.values)"
   ]
  },
  {
   "cell_type": "code",
   "execution_count": 34,
   "id": "34ab0d46",
   "metadata": {},
   "outputs": [
    {
     "data": {
      "image/png": "[encoded data removed]",
      "text/plain": [
       "<Figure size 576x288 with 1 Axes>"
      ]
     },
     "metadata": {
      "needs_background": "light"
     },
     "output_type": "display_data"
    }
   ],
   "source": [
    "fig, ax = plt.subplots(1, figsize=(8,4))\n",
    "\n",
    "# medianas\n",
    "ax.plot([0, 100],   [mediana96, mediana96],  '--', color='silver')\n",
    "ax.plot([0, 100],   [mediana11, mediana11],  '--', color='silver')\n",
    "\n",
    "# plot de curvas\n",
    "ax.plot(dist_96.edad, dist_96['dist_prom_edad'], color=fucsia)\n",
    "ax.plot(dist_11.edad, dist_11['dist_prom_edad'], color=violeta)\n",
    "\n",
    "# ejes linea roja\n",
    "ax.plot([0, 100], [120, 120],  color='r')\n",
    "ax.plot([0, 0],   [120, 260],  color='r')\n",
    "\n",
    "# hide spines\n",
    "[ax.spines[i].set_visible(False) for i in ['right', 'top', 'left', 'bottom']]\n",
    "\n",
    "# etiquetas\n",
    "ax.set_ylabel(\"Distancia promedio (km)\")\n",
    "ax.set_xlabel(\"Edad (años)\")\n",
    "\n",
    "ax.set_ylim(110, 260)\n",
    "\n",
    "labels = ['a', 'b', 'c', 'd']\n",
    "\n",
    "format_legend(1,1,labels)\n",
    "    \n",
    "plt.show()"
   ]
  },
  {
   "cell_type": "code",
   "execution_count": null,
   "id": "9df6d85a",
   "metadata": {},
   "outputs": [],
   "source": []
  }
 ],
 "metadata": {
  "interpreter": {
   "hash": "5ce838cc175eb9c7ee2cce823ae805de6106cb4564d9fc7b3476b35fac8c9293"
  },
  "kernelspec": {
   "display_name": "Python 3",
   "language": "python",
   "name": "python3"
  },
  "language_info": {
   "codemirror_mode": {
    "name": "ipython",
    "version": 3
   },
   "file_extension": ".py",
   "mimetype": "text/x-python",
   "name": "python",
   "nbconvert_exporter": "python",
   "pygments_lexer": "ipython3",
   "version": "3.9.2"
  }
 },
 "nbformat": 4,
 "nbformat_minor": 5
}
