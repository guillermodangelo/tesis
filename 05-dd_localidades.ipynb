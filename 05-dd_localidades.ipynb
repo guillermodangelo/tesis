{
 "metadata": {
  "language_info": {
   "codemirror_mode": {
    "name": "ipython",
    "version": 3
   },
   "file_extension": ".py",
   "mimetype": "text/x-python",
   "name": "python",
   "nbconvert_exporter": "python",
   "pygments_lexer": "ipython3",
   "version": "3.9.2"
  },
  "orig_nbformat": 2,
  "kernelspec": {
   "name": "python392jvsc74a57bd05ce838cc175eb9c7ee2cce823ae805de6106cb4564d9fc7b3476b35fac8c9293",
   "display_name": "Python 3.9.2 64-bit ('tesis': conda)"
  },
  "metadata": {
   "interpreter": {
    "hash": "5ce838cc175eb9c7ee2cce823ae805de6106cb4564d9fc7b3476b35fac8c9293"
   }
  }
 },
 "nbformat": 4,
 "nbformat_minor": 2,
 "cells": [
  {
   "cell_type": "code",
   "execution_count": 2,
   "metadata": {},
   "outputs": [],
   "source": [
    "import pandas as pd\n",
    "import numpy as np\n",
    "\n",
    "# funciones desarrolladas\n",
    "from functions.cargar_data import *"
   ]
  },
  {
   "cell_type": "code",
   "execution_count": 31,
   "metadata": {},
   "outputs": [],
   "source": [
    "pmigr = cargar_migrantes_internos()"
   ]
  },
  {
   "cell_type": "code",
   "execution_count": 32,
   "metadata": {},
   "outputs": [
    {
     "output_type": "execute_result",
     "data": {
      "text/plain": [
       "   depto_origen  depto_destino  LOC  SECC  SEGM  VIVID  TIPO_VIVIE  \\\n",
       "0             3              1   20     1     1      5           1   \n",
       "1            17              1   20     1     1     30           1   \n",
       "2            18              1   20     1     1     36           1   \n",
       "3             2              1   20     1     1     46           1   \n",
       "4            12              1   20     1     1     93           1   \n",
       "\n",
       "            HOGCOD  HOGID  PERPH02  ...  PERED03_1  PERED03_2  PERED04_R  \\\n",
       "0  102001001000501      1        1  ...         11          0          2   \n",
       "1  102001001003001      1        2  ...          0          0          0   \n",
       "2  102001001003601      1        1  ...          6          0          2   \n",
       "3  102001001004601      1        1  ...          6          0          2   \n",
       "4  102001001009301      1        2  ...          4          0          2   \n",
       "\n",
       "  PERED05_R  PERED06_R  CODIGO_CAR  PERED08  NIVELEDU_R  loc_origen  \\\n",
       "0         3          4       55131        1           9        3732   \n",
       "1         2          4       55152        1           9       17220   \n",
       "2         2          0       33101        1           5       18220   \n",
       "3         1          0       33101        1           5        2220   \n",
       "4         1          0       22101        1           4       12320   \n",
       "\n",
       "   loc_destino  \n",
       "0         1020  \n",
       "1         1020  \n",
       "2         1020  \n",
       "3         1020  \n",
       "4         1020  \n",
       "\n",
       "[5 rows x 51 columns]"
      ],
      "text/html": "<div>\n<style scoped>\n    .dataframe tbody tr th:only-of-type {\n        vertical-align: middle;\n    }\n\n    .dataframe tbody tr th {\n        vertical-align: top;\n    }\n\n    .dataframe thead th {\n        text-align: right;\n    }\n</style>\n<table border=\"1\" class=\"dataframe\">\n  <thead>\n    <tr style=\"text-align: right;\">\n      <th></th>\n      <th>depto_origen</th>\n      <th>depto_destino</th>\n      <th>LOC</th>\n      <th>SECC</th>\n      <th>SEGM</th>\n      <th>VIVID</th>\n      <th>TIPO_VIVIE</th>\n      <th>HOGCOD</th>\n      <th>HOGID</th>\n      <th>PERPH02</th>\n      <th>...</th>\n      <th>PERED03_1</th>\n      <th>PERED03_2</th>\n      <th>PERED04_R</th>\n      <th>PERED05_R</th>\n      <th>PERED06_R</th>\n      <th>CODIGO_CAR</th>\n      <th>PERED08</th>\n      <th>NIVELEDU_R</th>\n      <th>loc_origen</th>\n      <th>loc_destino</th>\n    </tr>\n  </thead>\n  <tbody>\n    <tr>\n      <th>0</th>\n      <td>3</td>\n      <td>1</td>\n      <td>20</td>\n      <td>1</td>\n      <td>1</td>\n      <td>5</td>\n      <td>1</td>\n      <td>102001001000501</td>\n      <td>1</td>\n      <td>1</td>\n      <td>...</td>\n      <td>11</td>\n      <td>0</td>\n      <td>2</td>\n      <td>3</td>\n      <td>4</td>\n      <td>55131</td>\n      <td>1</td>\n      <td>9</td>\n      <td>3732</td>\n      <td>1020</td>\n    </tr>\n    <tr>\n      <th>1</th>\n      <td>17</td>\n      <td>1</td>\n      <td>20</td>\n      <td>1</td>\n      <td>1</td>\n      <td>30</td>\n      <td>1</td>\n      <td>102001001003001</td>\n      <td>1</td>\n      <td>2</td>\n      <td>...</td>\n      <td>0</td>\n      <td>0</td>\n      <td>0</td>\n      <td>2</td>\n      <td>4</td>\n      <td>55152</td>\n      <td>1</td>\n      <td>9</td>\n      <td>17220</td>\n      <td>1020</td>\n    </tr>\n    <tr>\n      <th>2</th>\n      <td>18</td>\n      <td>1</td>\n      <td>20</td>\n      <td>1</td>\n      <td>1</td>\n      <td>36</td>\n      <td>1</td>\n      <td>102001001003601</td>\n      <td>1</td>\n      <td>1</td>\n      <td>...</td>\n      <td>6</td>\n      <td>0</td>\n      <td>2</td>\n      <td>2</td>\n      <td>0</td>\n      <td>33101</td>\n      <td>1</td>\n      <td>5</td>\n      <td>18220</td>\n      <td>1020</td>\n    </tr>\n    <tr>\n      <th>3</th>\n      <td>2</td>\n      <td>1</td>\n      <td>20</td>\n      <td>1</td>\n      <td>1</td>\n      <td>46</td>\n      <td>1</td>\n      <td>102001001004601</td>\n      <td>1</td>\n      <td>1</td>\n      <td>...</td>\n      <td>6</td>\n      <td>0</td>\n      <td>2</td>\n      <td>1</td>\n      <td>0</td>\n      <td>33101</td>\n      <td>1</td>\n      <td>5</td>\n      <td>2220</td>\n      <td>1020</td>\n    </tr>\n    <tr>\n      <th>4</th>\n      <td>12</td>\n      <td>1</td>\n      <td>20</td>\n      <td>1</td>\n      <td>1</td>\n      <td>93</td>\n      <td>1</td>\n      <td>102001001009301</td>\n      <td>1</td>\n      <td>2</td>\n      <td>...</td>\n      <td>4</td>\n      <td>0</td>\n      <td>2</td>\n      <td>1</td>\n      <td>0</td>\n      <td>22101</td>\n      <td>1</td>\n      <td>4</td>\n      <td>12320</td>\n      <td>1020</td>\n    </tr>\n  </tbody>\n</table>\n<p>5 rows × 51 columns</p>\n</div>"
     },
     "metadata": {},
     "execution_count": 32
    }
   ],
   "source": [
    "pmigr.head()"
   ]
  },
  {
   "cell_type": "code",
   "execution_count": 39,
   "metadata": {},
   "outputs": [
    {
     "output_type": "stream",
     "name": "stdout",
     "text": [
      "(12323, 3)\n"
     ]
    }
   ],
   "source": [
    "mig_loc  = pmigr.groupby(['loc_origen','loc_destino']).size().to_frame('personas_mig').reset_index()\n",
    "print(mig_loc.shape)"
   ]
  },
  {
   "cell_type": "code",
   "execution_count": 34,
   "metadata": {},
   "outputs": [],
   "source": [
    "poblacion = pd.read_csv('tablas/localidades_censales_2011.csv', usecols=['codloc','poblacion'])"
   ]
  },
  {
   "cell_type": "code",
   "execution_count": 38,
   "metadata": {},
   "outputs": [
    {
     "output_type": "stream",
     "name": "stdout",
     "text": [
      "(615, 2)\n"
     ]
    },
    {
     "output_type": "execute_result",
     "data": {
      "text/plain": [
       "   codloc  poblacion\n",
       "0    1020    1304729\n",
       "1    2220      40657\n",
       "2    2521      12200\n",
       "3    2522       2659\n",
       "4    2621       2531"
      ],
      "text/html": "<div>\n<style scoped>\n    .dataframe tbody tr th:only-of-type {\n        vertical-align: middle;\n    }\n\n    .dataframe tbody tr th {\n        vertical-align: top;\n    }\n\n    .dataframe thead th {\n        text-align: right;\n    }\n</style>\n<table border=\"1\" class=\"dataframe\">\n  <thead>\n    <tr style=\"text-align: right;\">\n      <th></th>\n      <th>codloc</th>\n      <th>poblacion</th>\n    </tr>\n  </thead>\n  <tbody>\n    <tr>\n      <th>0</th>\n      <td>1020</td>\n      <td>1304729</td>\n    </tr>\n    <tr>\n      <th>1</th>\n      <td>2220</td>\n      <td>40657</td>\n    </tr>\n    <tr>\n      <th>2</th>\n      <td>2521</td>\n      <td>12200</td>\n    </tr>\n    <tr>\n      <th>3</th>\n      <td>2522</td>\n      <td>2659</td>\n    </tr>\n    <tr>\n      <th>4</th>\n      <td>2621</td>\n      <td>2531</td>\n    </tr>\n  </tbody>\n</table>\n</div>"
     },
     "metadata": {},
     "execution_count": 38
    }
   ],
   "source": [
    "print(poblacion.shape)\n",
    "poblacion.head()"
   ]
  },
  {
   "cell_type": "code",
   "execution_count": 37,
   "metadata": {},
   "outputs": [
    {
     "output_type": "stream",
     "name": "stdout",
     "text": [
      "(8791, 6)\n"
     ]
    },
    {
     "output_type": "execute_result",
     "data": {
      "text/plain": [
       "   loc_origen  loc_destino  personas_mig  pobl_origen  pobl_destino       cod\n",
       "0        1020         2220           635      1304729         40657  10202220\n",
       "1        3221         2220             5        71258         40657  32212220\n",
       "2        3320         2220            10        19865         40657  33202220\n",
       "3        3321         2220             1        20524         40657  33212220\n",
       "4        3322         2220             1        25947         40657  33222220"
      ],
      "text/html": "<div>\n<style scoped>\n    .dataframe tbody tr th:only-of-type {\n        vertical-align: middle;\n    }\n\n    .dataframe tbody tr th {\n        vertical-align: top;\n    }\n\n    .dataframe thead th {\n        text-align: right;\n    }\n</style>\n<table border=\"1\" class=\"dataframe\">\n  <thead>\n    <tr style=\"text-align: right;\">\n      <th></th>\n      <th>loc_origen</th>\n      <th>loc_destino</th>\n      <th>personas_mig</th>\n      <th>pobl_origen</th>\n      <th>pobl_destino</th>\n      <th>cod</th>\n    </tr>\n  </thead>\n  <tbody>\n    <tr>\n      <th>0</th>\n      <td>1020</td>\n      <td>2220</td>\n      <td>635</td>\n      <td>1304729</td>\n      <td>40657</td>\n      <td>10202220</td>\n    </tr>\n    <tr>\n      <th>1</th>\n      <td>3221</td>\n      <td>2220</td>\n      <td>5</td>\n      <td>71258</td>\n      <td>40657</td>\n      <td>32212220</td>\n    </tr>\n    <tr>\n      <th>2</th>\n      <td>3320</td>\n      <td>2220</td>\n      <td>10</td>\n      <td>19865</td>\n      <td>40657</td>\n      <td>33202220</td>\n    </tr>\n    <tr>\n      <th>3</th>\n      <td>3321</td>\n      <td>2220</td>\n      <td>1</td>\n      <td>20524</td>\n      <td>40657</td>\n      <td>33212220</td>\n    </tr>\n    <tr>\n      <th>4</th>\n      <td>3322</td>\n      <td>2220</td>\n      <td>1</td>\n      <td>25947</td>\n      <td>40657</td>\n      <td>33222220</td>\n    </tr>\n  </tbody>\n</table>\n</div>"
     },
     "metadata": {},
     "execution_count": 37
    }
   ],
   "source": [
    "dd_loc = mig_loc.merge(poblacion, left_on='loc_origen', right_on='codloc')\n",
    "dd_loc = dd_loc.merge(poblacion, left_on='loc_destino', right_on='codloc')\n",
    "\n",
    "dd_loc.drop(['codloc_x', 'codloc_y'], inplace=True, axis=1)\n",
    "dd_loc.rename({'poblacion_x':'pobl_origen', 'poblacion_y':'pobl_destino'}, inplace=True, axis=1)\n",
    "\n",
    "dd_loc['cod'] = (dd_loc.loc_origen.astype(str) + dd_loc.loc_destino.astype(str)).astype(int)\n",
    "\n",
    "print(dd_loc.shape)\n",
    "\n",
    "dd_loc.head()"
   ]
  },
  {
   "cell_type": "code",
   "execution_count": 26,
   "metadata": {},
   "outputs": [
    {
     "output_type": "execute_result",
     "data": {
      "text/plain": [
       "        cod  distancia_m\n",
       "0  22202521       137927\n",
       "1  22202522       111408\n",
       "2  22202621       106867\n",
       "3  22202721        58392\n",
       "4  22202724       142223"
      ],
      "text/html": "<div>\n<style scoped>\n    .dataframe tbody tr th:only-of-type {\n        vertical-align: middle;\n    }\n\n    .dataframe tbody tr th {\n        vertical-align: top;\n    }\n\n    .dataframe thead th {\n        text-align: right;\n    }\n</style>\n<table border=\"1\" class=\"dataframe\">\n  <thead>\n    <tr style=\"text-align: right;\">\n      <th></th>\n      <th>cod</th>\n      <th>distancia_m</th>\n    </tr>\n  </thead>\n  <tbody>\n    <tr>\n      <th>0</th>\n      <td>22202521</td>\n      <td>137927</td>\n    </tr>\n    <tr>\n      <th>1</th>\n      <td>22202522</td>\n      <td>111408</td>\n    </tr>\n    <tr>\n      <th>2</th>\n      <td>22202621</td>\n      <td>106867</td>\n    </tr>\n    <tr>\n      <th>3</th>\n      <td>22202721</td>\n      <td>58392</td>\n    </tr>\n    <tr>\n      <th>4</th>\n      <td>22202724</td>\n      <td>142223</td>\n    </tr>\n  </tbody>\n</table>\n</div>"
     },
     "metadata": {},
     "execution_count": 26
    }
   ],
   "source": [
    "# levanta distancias\n",
    "dist = pd.read_csv('tablas/df_distancias_localidades.csv', usecols=['cod','distancia_m'])\n",
    "dist.head()"
   ]
  },
  {
   "cell_type": "code",
   "execution_count": 27,
   "metadata": {},
   "outputs": [],
   "source": [
    "dd_loc = dd_loc.merge(dist, on='cod')"
   ]
  },
  {
   "cell_type": "code",
   "execution_count": 29,
   "metadata": {},
   "outputs": [
    {
     "output_type": "execute_result",
     "data": {
      "text/plain": [
       "      loc_origen  loc_destino  personas_mig  pobl_origen  pobl_destino  \\\n",
       "8786       18220        14965             1        54755            32   \n",
       "8787       18321         6940            12        12985            77   \n",
       "8788       18321         9932             2        12985            49   \n",
       "8789       19220         5994             1        25477           136   \n",
       "8790       19220        18963             4        25477            26   \n",
       "\n",
       "             cod  distancia_m  \n",
       "8786  1822014965       446839  \n",
       "8787   183216940        81281  \n",
       "8788   183219932       244765  \n",
       "8789   192205994       401841  \n",
       "8790  1922018963       359313  "
      ],
      "text/html": "<div>\n<style scoped>\n    .dataframe tbody tr th:only-of-type {\n        vertical-align: middle;\n    }\n\n    .dataframe tbody tr th {\n        vertical-align: top;\n    }\n\n    .dataframe thead th {\n        text-align: right;\n    }\n</style>\n<table border=\"1\" class=\"dataframe\">\n  <thead>\n    <tr style=\"text-align: right;\">\n      <th></th>\n      <th>loc_origen</th>\n      <th>loc_destino</th>\n      <th>personas_mig</th>\n      <th>pobl_origen</th>\n      <th>pobl_destino</th>\n      <th>cod</th>\n      <th>distancia_m</th>\n    </tr>\n  </thead>\n  <tbody>\n    <tr>\n      <th>8786</th>\n      <td>18220</td>\n      <td>14965</td>\n      <td>1</td>\n      <td>54755</td>\n      <td>32</td>\n      <td>1822014965</td>\n      <td>446839</td>\n    </tr>\n    <tr>\n      <th>8787</th>\n      <td>18321</td>\n      <td>6940</td>\n      <td>12</td>\n      <td>12985</td>\n      <td>77</td>\n      <td>183216940</td>\n      <td>81281</td>\n    </tr>\n    <tr>\n      <th>8788</th>\n      <td>18321</td>\n      <td>9932</td>\n      <td>2</td>\n      <td>12985</td>\n      <td>49</td>\n      <td>183219932</td>\n      <td>244765</td>\n    </tr>\n    <tr>\n      <th>8789</th>\n      <td>19220</td>\n      <td>5994</td>\n      <td>1</td>\n      <td>25477</td>\n      <td>136</td>\n      <td>192205994</td>\n      <td>401841</td>\n    </tr>\n    <tr>\n      <th>8790</th>\n      <td>19220</td>\n      <td>18963</td>\n      <td>4</td>\n      <td>25477</td>\n      <td>26</td>\n      <td>1922018963</td>\n      <td>359313</td>\n    </tr>\n  </tbody>\n</table>\n</div>"
     },
     "metadata": {},
     "execution_count": 29
    }
   ],
   "source": [
    "dd_loc.tail()"
   ]
  },
  {
   "cell_type": "code",
   "execution_count": 30,
   "metadata": {},
   "outputs": [],
   "source": [
    "dd_loc.to_csv('tablas/dd_localidades.csv', index=False)"
   ]
  }
 ]
}