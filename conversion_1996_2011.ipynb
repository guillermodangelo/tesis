{
 "cells": [
  {
   "cell_type": "code",
   "execution_count": 1,
   "id": "dfcb7504",
   "metadata": {},
   "outputs": [
    {
     "name": "stdout",
     "output_type": "stream",
     "text": [
      "PyTables is not installed. No support for HDF output.\n",
      "SQLalchemy is not installed. No support for SQL output.\n"
     ]
    }
   ],
   "source": [
    "import pandas as pd\n",
    "from simpledbf import Dbf5\n",
    "import numpy as np\n",
    "from os import listdir\n",
    "from os.path import isfile, join\n",
    "from functions.cargar_data import *"
   ]
  },
  {
   "cell_type": "code",
   "execution_count": 2,
   "id": "78626dbb",
   "metadata": {},
   "outputs": [],
   "source": [
    "path = 'datos_ine_96/dbfs/'"
   ]
  },
  {
   "cell_type": "code",
   "execution_count": 3,
   "id": "53807fe9",
   "metadata": {},
   "outputs": [
    {
     "name": "stdout",
     "output_type": "stream",
     "text": [
      "(12165, 4)\n"
     ]
    },
    {
     "data": {
      "text/html": [
       "<div>\n",
       "<style scoped>\n",
       "    .dataframe tbody tr th:only-of-type {\n",
       "        vertical-align: middle;\n",
       "    }\n",
       "\n",
       "    .dataframe tbody tr th {\n",
       "        vertical-align: top;\n",
       "    }\n",
       "\n",
       "    .dataframe thead th {\n",
       "        text-align: right;\n",
       "    }\n",
       "</style>\n",
       "<table border=\"1\" class=\"dataframe\">\n",
       "  <thead>\n",
       "    <tr style=\"text-align: right;\">\n",
       "      <th></th>\n",
       "      <th>CCOMP96</th>\n",
       "      <th>CCOMP04</th>\n",
       "      <th>REG96A04</th>\n",
       "      <th>MODIF96A04</th>\n",
       "    </tr>\n",
       "  </thead>\n",
       "  <tbody>\n",
       "    <tr>\n",
       "      <th>0</th>\n",
       "      <td>101001001</td>\n",
       "      <td>101001001</td>\n",
       "      <td>0</td>\n",
       "      <td>SIN MODIFICACION</td>\n",
       "    </tr>\n",
       "    <tr>\n",
       "      <th>1</th>\n",
       "      <td>101001003</td>\n",
       "      <td>101001003</td>\n",
       "      <td>0</td>\n",
       "      <td>SIN MODIFICACION</td>\n",
       "    </tr>\n",
       "  </tbody>\n",
       "</table>\n",
       "</div>"
      ],
      "text/plain": [
       "     CCOMP96    CCOMP04  REG96A04        MODIF96A04\n",
       "0  101001001  101001001         0  SIN MODIFICACION\n",
       "1  101001003  101001003         0  SIN MODIFICACION"
      ]
     },
     "execution_count": 3,
     "metadata": {},
     "output_type": "execute_result"
    }
   ],
   "source": [
    "# lee datos de Mvdeo.\n",
    "dbf = Dbf5(path + '01 idgeo 96-04 mvd.dbf')\n",
    "mvo = dbf.to_dataframe()\n",
    "print(mvo.shape)\n",
    "mvo.head(2)"
   ]
  },
  {
   "cell_type": "code",
   "execution_count": 4,
   "id": "cb26c86f",
   "metadata": {},
   "outputs": [
    {
     "data": {
      "text/plain": [
       "MODIF96A04\n",
       "FUSION               240\n",
       "PARTICION           3153\n",
       "SIN MODIFICACION    8772\n",
       "dtype: int64"
      ]
     },
     "execution_count": 4,
     "metadata": {},
     "output_type": "execute_result"
    }
   ],
   "source": [
    "mvo.groupby('MODIF96A04').size()"
   ]
  },
  {
   "cell_type": "code",
   "execution_count": 5,
   "id": "30a94a3f",
   "metadata": {},
   "outputs": [
    {
     "name": "stdout",
     "output_type": "stream",
     "text": [
      "(724, 6)\n"
     ]
    },
    {
     "data": {
      "text/html": [
       "<div>\n",
       "<style scoped>\n",
       "    .dataframe tbody tr th:only-of-type {\n",
       "        vertical-align: middle;\n",
       "    }\n",
       "\n",
       "    .dataframe tbody tr th {\n",
       "        vertical-align: top;\n",
       "    }\n",
       "\n",
       "    .dataframe thead th {\n",
       "        text-align: right;\n",
       "    }\n",
       "</style>\n",
       "<table border=\"1\" class=\"dataframe\">\n",
       "  <thead>\n",
       "    <tr style=\"text-align: right;\">\n",
       "      <th></th>\n",
       "      <th>CCOMP96</th>\n",
       "      <th>CCOMP04</th>\n",
       "      <th>REG96A04</th>\n",
       "      <th>MODIF96A04</th>\n",
       "      <th>CODLOC_96</th>\n",
       "      <th>CODLOC_04</th>\n",
       "    </tr>\n",
       "  </thead>\n",
       "  <tbody>\n",
       "    <tr>\n",
       "      <th>0</th>\n",
       "      <td>701001001</td>\n",
       "      <td>701001001</td>\n",
       "      <td>0</td>\n",
       "      <td>SIN MODIFICACION</td>\n",
       "      <td>7320</td>\n",
       "      <td>7320</td>\n",
       "    </tr>\n",
       "    <tr>\n",
       "      <th>1</th>\n",
       "      <td>701001002</td>\n",
       "      <td>701001002</td>\n",
       "      <td>0</td>\n",
       "      <td>SIN MODIFICACION</td>\n",
       "      <td>7320</td>\n",
       "      <td>7320</td>\n",
       "    </tr>\n",
       "  </tbody>\n",
       "</table>\n",
       "</div>"
      ],
      "text/plain": [
       "     CCOMP96    CCOMP04  REG96A04        MODIF96A04  CODLOC_96  CODLOC_04\n",
       "0  701001001  701001001         0  SIN MODIFICACION       7320       7320\n",
       "1  701001002  701001002         0  SIN MODIFICACION       7320       7320"
      ]
     },
     "execution_count": 5,
     "metadata": {},
     "output_type": "execute_result"
    }
   ],
   "source": [
    "# arregla typo en data de Flores\n",
    "dbf = Dbf5(path + '07 idgeo 96-04 flores.dbf')\n",
    "flores = dbf.to_dataframe().rename({'CCOPM04': 'CCOMP04'}, axis=1)\n",
    "print(flores.shape)\n",
    "flores.head(2)"
   ]
  },
  {
   "cell_type": "code",
   "execution_count": 31,
   "id": "3bffc166",
   "metadata": {},
   "outputs": [
    {
     "name": "stdout",
     "output_type": "stream",
     "text": [
      "Con Flores:  48571\n"
     ]
    },
    {
     "data": {
      "text/html": [
       "<div>\n",
       "<style scoped>\n",
       "    .dataframe tbody tr th:only-of-type {\n",
       "        vertical-align: middle;\n",
       "    }\n",
       "\n",
       "    .dataframe tbody tr th {\n",
       "        vertical-align: top;\n",
       "    }\n",
       "\n",
       "    .dataframe thead th {\n",
       "        text-align: right;\n",
       "    }\n",
       "</style>\n",
       "<table border=\"1\" class=\"dataframe\">\n",
       "  <thead>\n",
       "    <tr style=\"text-align: right;\">\n",
       "      <th></th>\n",
       "      <th>CCOMP96</th>\n",
       "      <th>CCOMP04</th>\n",
       "      <th>REG96A04</th>\n",
       "      <th>MODIF96A04</th>\n",
       "      <th>CODLOC_96</th>\n",
       "      <th>CODLOC_04</th>\n",
       "    </tr>\n",
       "  </thead>\n",
       "  <tbody>\n",
       "    <tr>\n",
       "      <th>0</th>\n",
       "      <td>1001013001</td>\n",
       "      <td>1001013001</td>\n",
       "      <td>0</td>\n",
       "      <td>SIN MODIFICACION</td>\n",
       "      <td>10320</td>\n",
       "      <td>10320.0</td>\n",
       "    </tr>\n",
       "    <tr>\n",
       "      <th>1</th>\n",
       "      <td>1001013002</td>\n",
       "      <td>1001013002</td>\n",
       "      <td>0</td>\n",
       "      <td>SIN MODIFICACION</td>\n",
       "      <td>10320</td>\n",
       "      <td>10320.0</td>\n",
       "    </tr>\n",
       "  </tbody>\n",
       "</table>\n",
       "</div>"
      ],
      "text/plain": [
       "      CCOMP96     CCOMP04  REG96A04        MODIF96A04  CODLOC_96  CODLOC_04\n",
       "0  1001013001  1001013001         0  SIN MODIFICACION      10320    10320.0\n",
       "1  1001013002  1001013002         0  SIN MODIFICACION      10320    10320.0"
      ]
     },
     "execution_count": 31,
     "metadata": {},
     "output_type": "execute_result"
    }
   ],
   "source": [
    "# lee, enlista y convierte a DF\n",
    "files = [f for f in listdir(path) if isfile(join(path, f))]\n",
    "files.remove('01 idgeo 96-04 mvd.dbf')\n",
    "files.remove('07 idgeo 96-04 flores.dbf')\n",
    "df_list = [(Dbf5(path + i).to_dataframe()) for i in files]\n",
    "df_list.append(flores)\n",
    "dfs = pd.concat(df_list)\n",
    "print('Con Flores: ', dfs.shape[0])\n",
    "dfs.head(2)"
   ]
  },
  {
   "cell_type": "code",
   "execution_count": 34,
   "id": "9eeb3bc1",
   "metadata": {},
   "outputs": [],
   "source": [
    "# exporta\n",
    "dfs.to_csv('datos_ine_96/correspondencia_interior.csv', index=False, float_format='%.0f')\n",
    "mvo.to_csv('datos_ine_96/correspondencia_mvdeo.csv', index=False)"
   ]
  }
 ],
 "metadata": {
  "kernelspec": {
   "display_name": "Python 3",
   "language": "python",
   "name": "python3"
  },
  "language_info": {
   "codemirror_mode": {
    "name": "ipython",
    "version": 3
   },
   "file_extension": ".py",
   "mimetype": "text/x-python",
   "name": "python",
   "nbconvert_exporter": "python",
   "pygments_lexer": "ipython3",
   "version": "3.9.2"
  }
 },
 "nbformat": 4,
 "nbformat_minor": 5
}
