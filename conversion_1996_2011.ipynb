{
 "cells": [
  {
   "cell_type": "code",
   "execution_count": 1,
   "id": "7cb9d4e7",
   "metadata": {},
   "outputs": [
    {
     "name": "stdout",
     "output_type": "stream",
     "text": [
      "PyTables is not installed. No support for HDF output.\n",
      "SQLalchemy is not installed. No support for SQL output.\n"
     ]
    }
   ],
   "source": [
    "import pandas as pd\n",
    "from simpledbf import Dbf5\n",
    "import numpy as np\n",
    "from os import listdir\n",
    "from os.path import isfile, join\n",
    "from functions.cargar_data import *"
   ]
  },
  {
   "cell_type": "code",
   "execution_count": 2,
   "id": "b047dfe8",
   "metadata": {},
   "outputs": [
    {
     "data": {
      "text/html": [
       "<div>\n",
       "<style scoped>\n",
       "    .dataframe tbody tr th:only-of-type {\n",
       "        vertical-align: middle;\n",
       "    }\n",
       "\n",
       "    .dataframe tbody tr th {\n",
       "        vertical-align: top;\n",
       "    }\n",
       "\n",
       "    .dataframe thead th {\n",
       "        text-align: right;\n",
       "    }\n",
       "</style>\n",
       "<table border=\"1\" class=\"dataframe\">\n",
       "  <thead>\n",
       "    <tr style=\"text-align: right;\">\n",
       "      <th></th>\n",
       "      <th>codcomp</th>\n",
       "      <th>personas</th>\n",
       "    </tr>\n",
       "  </thead>\n",
       "  <tbody>\n",
       "    <tr>\n",
       "      <th>0</th>\n",
       "      <td>1001003001</td>\n",
       "      <td>10</td>\n",
       "    </tr>\n",
       "    <tr>\n",
       "      <th>1</th>\n",
       "      <td>1001003002</td>\n",
       "      <td>19</td>\n",
       "    </tr>\n",
       "  </tbody>\n",
       "</table>\n",
       "</div>"
      ],
      "text/plain": [
       "      codcomp  personas\n",
       "0  1001003001        10\n",
       "1  1001003002        19"
      ]
     },
     "execution_count": 2,
     "metadata": {},
     "output_type": "execute_result"
    }
   ],
   "source": [
    "# carga personas\n",
    "personas96 = pd.read_csv('marcos_censales/peronas_zona_96.csv')\n",
    "personas96.head(2)"
   ]
  },
  {
   "cell_type": "code",
   "execution_count": 3,
   "id": "1019d0eb",
   "metadata": {},
   "outputs": [],
   "source": [
    "path = 'datos_ine_96/dbfs/'"
   ]
  },
  {
   "cell_type": "code",
   "execution_count": 4,
   "id": "cb07b85e",
   "metadata": {},
   "outputs": [
    {
     "name": "stdout",
     "output_type": "stream",
     "text": [
      "(12165, 4)\n"
     ]
    },
    {
     "data": {
      "text/html": [
       "<div>\n",
       "<style scoped>\n",
       "    .dataframe tbody tr th:only-of-type {\n",
       "        vertical-align: middle;\n",
       "    }\n",
       "\n",
       "    .dataframe tbody tr th {\n",
       "        vertical-align: top;\n",
       "    }\n",
       "\n",
       "    .dataframe thead th {\n",
       "        text-align: right;\n",
       "    }\n",
       "</style>\n",
       "<table border=\"1\" class=\"dataframe\">\n",
       "  <thead>\n",
       "    <tr style=\"text-align: right;\">\n",
       "      <th></th>\n",
       "      <th>CCOMP96</th>\n",
       "      <th>CCOMP04</th>\n",
       "      <th>REG96A04</th>\n",
       "      <th>MODIF96A04</th>\n",
       "    </tr>\n",
       "  </thead>\n",
       "  <tbody>\n",
       "    <tr>\n",
       "      <th>0</th>\n",
       "      <td>101001001</td>\n",
       "      <td>101001001</td>\n",
       "      <td>0</td>\n",
       "      <td>SIN MODIFICACION</td>\n",
       "    </tr>\n",
       "    <tr>\n",
       "      <th>1</th>\n",
       "      <td>101001003</td>\n",
       "      <td>101001003</td>\n",
       "      <td>0</td>\n",
       "      <td>SIN MODIFICACION</td>\n",
       "    </tr>\n",
       "  </tbody>\n",
       "</table>\n",
       "</div>"
      ],
      "text/plain": [
       "     CCOMP96    CCOMP04  REG96A04        MODIF96A04\n",
       "0  101001001  101001001         0  SIN MODIFICACION\n",
       "1  101001003  101001003         0  SIN MODIFICACION"
      ]
     },
     "execution_count": 4,
     "metadata": {},
     "output_type": "execute_result"
    }
   ],
   "source": [
    "# lee datos de Mvdeo.\n",
    "dbf = Dbf5(path + '01 idgeo 96-04 mvd.dbf')\n",
    "mvo = dbf.to_dataframe()\n",
    "print(mvo.shape)\n",
    "mvo.head(2)"
   ]
  },
  {
   "cell_type": "code",
   "execution_count": 5,
   "id": "ce2e6a88",
   "metadata": {},
   "outputs": [
    {
     "data": {
      "text/plain": [
       "MODIF96A04\n",
       "FUSION               240\n",
       "PARTICION           3153\n",
       "SIN MODIFICACION    8772\n",
       "dtype: int64"
      ]
     },
     "execution_count": 5,
     "metadata": {},
     "output_type": "execute_result"
    }
   ],
   "source": [
    "mvo.groupby('MODIF96A04').size()"
   ]
  },
  {
   "cell_type": "code",
   "execution_count": 6,
   "id": "8b5b451d",
   "metadata": {},
   "outputs": [
    {
     "name": "stdout",
     "output_type": "stream",
     "text": [
      "(724, 6)\n"
     ]
    },
    {
     "data": {
      "text/html": [
       "<div>\n",
       "<style scoped>\n",
       "    .dataframe tbody tr th:only-of-type {\n",
       "        vertical-align: middle;\n",
       "    }\n",
       "\n",
       "    .dataframe tbody tr th {\n",
       "        vertical-align: top;\n",
       "    }\n",
       "\n",
       "    .dataframe thead th {\n",
       "        text-align: right;\n",
       "    }\n",
       "</style>\n",
       "<table border=\"1\" class=\"dataframe\">\n",
       "  <thead>\n",
       "    <tr style=\"text-align: right;\">\n",
       "      <th></th>\n",
       "      <th>CCOMP96</th>\n",
       "      <th>CCOMP04</th>\n",
       "      <th>REG96A04</th>\n",
       "      <th>MODIF96A04</th>\n",
       "      <th>CODLOC_96</th>\n",
       "      <th>CODLOC_04</th>\n",
       "    </tr>\n",
       "  </thead>\n",
       "  <tbody>\n",
       "    <tr>\n",
       "      <th>0</th>\n",
       "      <td>701001001</td>\n",
       "      <td>701001001</td>\n",
       "      <td>0</td>\n",
       "      <td>SIN MODIFICACION</td>\n",
       "      <td>7320</td>\n",
       "      <td>7320</td>\n",
       "    </tr>\n",
       "    <tr>\n",
       "      <th>1</th>\n",
       "      <td>701001002</td>\n",
       "      <td>701001002</td>\n",
       "      <td>0</td>\n",
       "      <td>SIN MODIFICACION</td>\n",
       "      <td>7320</td>\n",
       "      <td>7320</td>\n",
       "    </tr>\n",
       "  </tbody>\n",
       "</table>\n",
       "</div>"
      ],
      "text/plain": [
       "     CCOMP96    CCOMP04  REG96A04        MODIF96A04  CODLOC_96  CODLOC_04\n",
       "0  701001001  701001001         0  SIN MODIFICACION       7320       7320\n",
       "1  701001002  701001002         0  SIN MODIFICACION       7320       7320"
      ]
     },
     "execution_count": 6,
     "metadata": {},
     "output_type": "execute_result"
    }
   ],
   "source": [
    "# arregla typo en data de Flores\n",
    "dbf = Dbf5(path + '07 idgeo 96-04 flores.dbf')\n",
    "flores = dbf.to_dataframe().rename({'CCOPM04': 'CCOMP04'}, axis=1)\n",
    "print(flores.shape)\n",
    "flores.head(2)"
   ]
  },
  {
   "cell_type": "code",
   "execution_count": 8,
   "id": "0d1d2aac",
   "metadata": {},
   "outputs": [
    {
     "name": "stdout",
     "output_type": "stream",
     "text": [
      "Con Flores:  48571\n"
     ]
    },
    {
     "data": {
      "text/html": [
       "<div>\n",
       "<style scoped>\n",
       "    .dataframe tbody tr th:only-of-type {\n",
       "        vertical-align: middle;\n",
       "    }\n",
       "\n",
       "    .dataframe tbody tr th {\n",
       "        vertical-align: top;\n",
       "    }\n",
       "\n",
       "    .dataframe thead th {\n",
       "        text-align: right;\n",
       "    }\n",
       "</style>\n",
       "<table border=\"1\" class=\"dataframe\">\n",
       "  <thead>\n",
       "    <tr style=\"text-align: right;\">\n",
       "      <th></th>\n",
       "      <th>CCOMP96</th>\n",
       "      <th>CCOMP04</th>\n",
       "      <th>REG96A04</th>\n",
       "      <th>MODIF96A04</th>\n",
       "      <th>CODLOC_96</th>\n",
       "      <th>CODLOC_04</th>\n",
       "    </tr>\n",
       "  </thead>\n",
       "  <tbody>\n",
       "    <tr>\n",
       "      <th>0</th>\n",
       "      <td>1001013001</td>\n",
       "      <td>1001013001</td>\n",
       "      <td>0</td>\n",
       "      <td>SIN MODIFICACION</td>\n",
       "      <td>10320</td>\n",
       "      <td>10320.0</td>\n",
       "    </tr>\n",
       "    <tr>\n",
       "      <th>1</th>\n",
       "      <td>1001013002</td>\n",
       "      <td>1001013002</td>\n",
       "      <td>0</td>\n",
       "      <td>SIN MODIFICACION</td>\n",
       "      <td>10320</td>\n",
       "      <td>10320.0</td>\n",
       "    </tr>\n",
       "    <tr>\n",
       "      <th>2</th>\n",
       "      <td>1001013003</td>\n",
       "      <td>1001013003</td>\n",
       "      <td>0</td>\n",
       "      <td>SIN MODIFICACION</td>\n",
       "      <td>10320</td>\n",
       "      <td>10320.0</td>\n",
       "    </tr>\n",
       "    <tr>\n",
       "      <th>3</th>\n",
       "      <td>1001013004</td>\n",
       "      <td>1001013004</td>\n",
       "      <td>0</td>\n",
       "      <td>SIN MODIFICACION</td>\n",
       "      <td>10320</td>\n",
       "      <td>10320.0</td>\n",
       "    </tr>\n",
       "    <tr>\n",
       "      <th>4</th>\n",
       "      <td>1001013005</td>\n",
       "      <td>1001013005</td>\n",
       "      <td>0</td>\n",
       "      <td>SIN MODIFICACION</td>\n",
       "      <td>10320</td>\n",
       "      <td>10320.0</td>\n",
       "    </tr>\n",
       "  </tbody>\n",
       "</table>\n",
       "</div>"
      ],
      "text/plain": [
       "      CCOMP96     CCOMP04  REG96A04        MODIF96A04  CODLOC_96  CODLOC_04\n",
       "0  1001013001  1001013001         0  SIN MODIFICACION      10320    10320.0\n",
       "1  1001013002  1001013002         0  SIN MODIFICACION      10320    10320.0\n",
       "2  1001013003  1001013003         0  SIN MODIFICACION      10320    10320.0\n",
       "3  1001013004  1001013004         0  SIN MODIFICACION      10320    10320.0\n",
       "4  1001013005  1001013005         0  SIN MODIFICACION      10320    10320.0"
      ]
     },
     "execution_count": 8,
     "metadata": {},
     "output_type": "execute_result"
    }
   ],
   "source": [
    "# lee, enlista y convierte a DF\n",
    "files = [f for f in listdir(path) if isfile(join(path, f))]\n",
    "files.remove('01 idgeo 96-04 mvd.dbf')\n",
    "files.remove('07 idgeo 96-04 flores.dbf')\n",
    "df_list = [(Dbf5(path + i).to_dataframe()) for i in files]\n",
    "df_list.append(flores)\n",
    "interior = pd.concat(df_list)\n",
    "print('Con Flores: ', interior.shape[0])\n",
    "interior.head(5)"
   ]
  },
  {
   "cell_type": "code",
   "execution_count": null,
   "id": "1cfa5265",
   "metadata": {},
   "outputs": [],
   "source": [
    "# exporta\n",
    "interior.to_csv('datos_ine_96/correspondencia_interior.csv', index=False, float_format='%.0f')\n",
    "mvo.to_csv('datos_ine_96/correspondencia_mvdeo.csv', index=False)"
   ]
  },
  {
   "cell_type": "code",
   "execution_count": 18,
   "id": "43132706",
   "metadata": {},
   "outputs": [],
   "source": [
    "dfs = pd.concat([interior.loc[:,['CCOMP96', 'CCOMP04', 'REG96A04', 'MODIF96A04']], mvo])"
   ]
  },
  {
   "cell_type": "code",
   "execution_count": 19,
   "id": "e60b052a",
   "metadata": {},
   "outputs": [
    {
     "data": {
      "text/plain": [
       "MODIF96A04\n",
       "FUSION               1199\n",
       "Inf 2 de CPV96          5\n",
       "PARTICION            9766\n",
       "SIN MODIFICACION    49766\n",
       "dtype: int64"
      ]
     },
     "execution_count": 19,
     "metadata": {},
     "output_type": "execute_result"
    }
   ],
   "source": [
    "dfs.groupby('MODIF96A04').size()"
   ]
  },
  {
   "cell_type": "code",
   "execution_count": 20,
   "id": "dc3b6426",
   "metadata": {},
   "outputs": [
    {
     "data": {
      "text/plain": [
       "53292"
      ]
     },
     "execution_count": 20,
     "metadata": {},
     "output_type": "execute_result"
    }
   ],
   "source": [
    "len(dfs.CCOMP96.unique())"
   ]
  },
  {
   "cell_type": "code",
   "execution_count": 21,
   "id": "25a940ef",
   "metadata": {},
   "outputs": [
    {
     "data": {
      "text/html": [
       "<div>\n",
       "<style scoped>\n",
       "    .dataframe tbody tr th:only-of-type {\n",
       "        vertical-align: middle;\n",
       "    }\n",
       "\n",
       "    .dataframe tbody tr th {\n",
       "        vertical-align: top;\n",
       "    }\n",
       "\n",
       "    .dataframe thead th {\n",
       "        text-align: right;\n",
       "    }\n",
       "</style>\n",
       "<table border=\"1\" class=\"dataframe\">\n",
       "  <thead>\n",
       "    <tr style=\"text-align: right;\">\n",
       "      <th></th>\n",
       "      <th>CCOMP96</th>\n",
       "      <th>CCOMP04</th>\n",
       "      <th>REG96A04</th>\n",
       "      <th>MODIF96A04</th>\n",
       "    </tr>\n",
       "  </thead>\n",
       "  <tbody>\n",
       "    <tr>\n",
       "      <th>0</th>\n",
       "      <td>1001013001</td>\n",
       "      <td>1001013001</td>\n",
       "      <td>0</td>\n",
       "      <td>SIN MODIFICACION</td>\n",
       "    </tr>\n",
       "    <tr>\n",
       "      <th>1</th>\n",
       "      <td>1001013002</td>\n",
       "      <td>1001013002</td>\n",
       "      <td>0</td>\n",
       "      <td>SIN MODIFICACION</td>\n",
       "    </tr>\n",
       "    <tr>\n",
       "      <th>2</th>\n",
       "      <td>1001013003</td>\n",
       "      <td>1001013003</td>\n",
       "      <td>0</td>\n",
       "      <td>SIN MODIFICACION</td>\n",
       "    </tr>\n",
       "    <tr>\n",
       "      <th>3</th>\n",
       "      <td>1001013004</td>\n",
       "      <td>1001013004</td>\n",
       "      <td>0</td>\n",
       "      <td>SIN MODIFICACION</td>\n",
       "    </tr>\n",
       "    <tr>\n",
       "      <th>4</th>\n",
       "      <td>1001013005</td>\n",
       "      <td>1001013005</td>\n",
       "      <td>0</td>\n",
       "      <td>SIN MODIFICACION</td>\n",
       "    </tr>\n",
       "  </tbody>\n",
       "</table>\n",
       "</div>"
      ],
      "text/plain": [
       "      CCOMP96     CCOMP04  REG96A04        MODIF96A04\n",
       "0  1001013001  1001013001         0  SIN MODIFICACION\n",
       "1  1001013002  1001013002         0  SIN MODIFICACION\n",
       "2  1001013003  1001013003         0  SIN MODIFICACION\n",
       "3  1001013004  1001013004         0  SIN MODIFICACION\n",
       "4  1001013005  1001013005         0  SIN MODIFICACION"
      ]
     },
     "execution_count": 21,
     "metadata": {},
     "output_type": "execute_result"
    }
   ],
   "source": [
    "dfs.head()"
   ]
  },
  {
   "cell_type": "code",
   "execution_count": 22,
   "id": "e56287ec",
   "metadata": {},
   "outputs": [
    {
     "data": {
      "text/html": [
       "<div>\n",
       "<style scoped>\n",
       "    .dataframe tbody tr th:only-of-type {\n",
       "        vertical-align: middle;\n",
       "    }\n",
       "\n",
       "    .dataframe tbody tr th {\n",
       "        vertical-align: top;\n",
       "    }\n",
       "\n",
       "    .dataframe thead th {\n",
       "        text-align: right;\n",
       "    }\n",
       "</style>\n",
       "<table border=\"1\" class=\"dataframe\">\n",
       "  <thead>\n",
       "    <tr style=\"text-align: right;\">\n",
       "      <th></th>\n",
       "      <th>CCOMP96</th>\n",
       "      <th>CCOMP04</th>\n",
       "      <th>REG96A04</th>\n",
       "      <th>MODIF96A04</th>\n",
       "      <th>codcomp</th>\n",
       "      <th>personas</th>\n",
       "    </tr>\n",
       "  </thead>\n",
       "  <tbody>\n",
       "    <tr>\n",
       "      <th>0</th>\n",
       "      <td>1001013001</td>\n",
       "      <td>1001013001</td>\n",
       "      <td>0</td>\n",
       "      <td>SIN MODIFICACION</td>\n",
       "      <td>1001013001</td>\n",
       "      <td>25</td>\n",
       "    </tr>\n",
       "    <tr>\n",
       "      <th>1</th>\n",
       "      <td>1001013002</td>\n",
       "      <td>1001013002</td>\n",
       "      <td>0</td>\n",
       "      <td>SIN MODIFICACION</td>\n",
       "      <td>1001013002</td>\n",
       "      <td>87</td>\n",
       "    </tr>\n",
       "  </tbody>\n",
       "</table>\n",
       "</div>"
      ],
      "text/plain": [
       "      CCOMP96     CCOMP04  REG96A04        MODIF96A04     codcomp  personas\n",
       "0  1001013001  1001013001         0  SIN MODIFICACION  1001013001        25\n",
       "1  1001013002  1001013002         0  SIN MODIFICACION  1001013002        87"
      ]
     },
     "execution_count": 22,
     "metadata": {},
     "output_type": "execute_result"
    }
   ],
   "source": [
    "dfs_personas = dfs.merge(personas96, left_on='CCOMP96', right_on='codcomp')\n",
    "dfs_personas.head(2)"
   ]
  },
  {
   "cell_type": "code",
   "execution_count": 23,
   "id": "72af0b2c",
   "metadata": {},
   "outputs": [
    {
     "data": {
      "text/html": [
       "<div>\n",
       "<style scoped>\n",
       "    .dataframe tbody tr th:only-of-type {\n",
       "        vertical-align: middle;\n",
       "    }\n",
       "\n",
       "    .dataframe tbody tr th {\n",
       "        vertical-align: top;\n",
       "    }\n",
       "\n",
       "    .dataframe thead th {\n",
       "        text-align: right;\n",
       "    }\n",
       "</style>\n",
       "<table border=\"1\" class=\"dataframe\">\n",
       "  <thead>\n",
       "    <tr style=\"text-align: right;\">\n",
       "      <th></th>\n",
       "      <th>CCOMP96</th>\n",
       "      <th>CCOMP04</th>\n",
       "      <th>REG96A04</th>\n",
       "      <th>MODIF96A04</th>\n",
       "      <th>codcomp</th>\n",
       "      <th>personas</th>\n",
       "    </tr>\n",
       "  </thead>\n",
       "  <tbody>\n",
       "    <tr>\n",
       "      <th>0</th>\n",
       "      <td>1001013001</td>\n",
       "      <td>1001013001</td>\n",
       "      <td>0</td>\n",
       "      <td>SIN MODIFICACION</td>\n",
       "      <td>1001013001</td>\n",
       "      <td>25</td>\n",
       "    </tr>\n",
       "    <tr>\n",
       "      <th>1</th>\n",
       "      <td>1001013002</td>\n",
       "      <td>1001013002</td>\n",
       "      <td>0</td>\n",
       "      <td>SIN MODIFICACION</td>\n",
       "      <td>1001013002</td>\n",
       "      <td>87</td>\n",
       "    </tr>\n",
       "    <tr>\n",
       "      <th>2</th>\n",
       "      <td>1001013003</td>\n",
       "      <td>1001013003</td>\n",
       "      <td>0</td>\n",
       "      <td>SIN MODIFICACION</td>\n",
       "      <td>1001013003</td>\n",
       "      <td>119</td>\n",
       "    </tr>\n",
       "    <tr>\n",
       "      <th>3</th>\n",
       "      <td>1001013004</td>\n",
       "      <td>1001013004</td>\n",
       "      <td>0</td>\n",
       "      <td>SIN MODIFICACION</td>\n",
       "      <td>1001013004</td>\n",
       "      <td>86</td>\n",
       "    </tr>\n",
       "    <tr>\n",
       "      <th>4</th>\n",
       "      <td>1001013005</td>\n",
       "      <td>1001013005</td>\n",
       "      <td>0</td>\n",
       "      <td>SIN MODIFICACION</td>\n",
       "      <td>1001013005</td>\n",
       "      <td>107</td>\n",
       "    </tr>\n",
       "  </tbody>\n",
       "</table>\n",
       "</div>"
      ],
      "text/plain": [
       "      CCOMP96     CCOMP04  REG96A04        MODIF96A04     codcomp  personas\n",
       "0  1001013001  1001013001         0  SIN MODIFICACION  1001013001        25\n",
       "1  1001013002  1001013002         0  SIN MODIFICACION  1001013002        87\n",
       "2  1001013003  1001013003         0  SIN MODIFICACION  1001013003       119\n",
       "3  1001013004  1001013004         0  SIN MODIFICACION  1001013004        86\n",
       "4  1001013005  1001013005         0  SIN MODIFICACION  1001013005       107"
      ]
     },
     "execution_count": 23,
     "metadata": {},
     "output_type": "execute_result"
    }
   ],
   "source": [
    "dfs_personas_sd = dfs_personas.drop_duplicates('CCOMP96')\n",
    "dfs_personas_sd.head()"
   ]
  },
  {
   "cell_type": "code",
   "execution_count": 24,
   "id": "18548d58",
   "metadata": {},
   "outputs": [
    {
     "data": {
      "text/html": [
       "<div>\n",
       "<style scoped>\n",
       "    .dataframe tbody tr th:only-of-type {\n",
       "        vertical-align: middle;\n",
       "    }\n",
       "\n",
       "    .dataframe tbody tr th {\n",
       "        vertical-align: top;\n",
       "    }\n",
       "\n",
       "    .dataframe thead th {\n",
       "        text-align: right;\n",
       "    }\n",
       "</style>\n",
       "<table border=\"1\" class=\"dataframe\">\n",
       "  <thead>\n",
       "    <tr style=\"text-align: right;\">\n",
       "      <th></th>\n",
       "      <th>CCOMP96</th>\n",
       "      <th>CCOMP04</th>\n",
       "      <th>REG96A04</th>\n",
       "      <th>MODIF96A04</th>\n",
       "    </tr>\n",
       "  </thead>\n",
       "  <tbody>\n",
       "    <tr>\n",
       "      <th>179</th>\n",
       "      <td>1001038900</td>\n",
       "      <td>1001038800</td>\n",
       "      <td>1</td>\n",
       "      <td>PARTICION</td>\n",
       "    </tr>\n",
       "    <tr>\n",
       "      <th>180</th>\n",
       "      <td>1001038001</td>\n",
       "      <td>1001038801</td>\n",
       "      <td>1</td>\n",
       "      <td>PARTICION</td>\n",
       "    </tr>\n",
       "    <tr>\n",
       "      <th>181</th>\n",
       "      <td>1001038900</td>\n",
       "      <td>1001038802</td>\n",
       "      <td>1</td>\n",
       "      <td>PARTICION</td>\n",
       "    </tr>\n",
       "    <tr>\n",
       "      <th>182</th>\n",
       "      <td>1001038001</td>\n",
       "      <td>1001038803</td>\n",
       "      <td>1</td>\n",
       "      <td>PARTICION</td>\n",
       "    </tr>\n",
       "    <tr>\n",
       "      <th>183</th>\n",
       "      <td>1001038018</td>\n",
       "      <td>1001038804</td>\n",
       "      <td>1</td>\n",
       "      <td>PARTICION</td>\n",
       "    </tr>\n",
       "    <tr>\n",
       "      <th>184</th>\n",
       "      <td>1001038018</td>\n",
       "      <td>1001038805</td>\n",
       "      <td>1</td>\n",
       "      <td>PARTICION</td>\n",
       "    </tr>\n",
       "  </tbody>\n",
       "</table>\n",
       "</div>"
      ],
      "text/plain": [
       "        CCOMP96     CCOMP04  REG96A04 MODIF96A04\n",
       "179  1001038900  1001038800         1  PARTICION\n",
       "180  1001038001  1001038801         1  PARTICION\n",
       "181  1001038900  1001038802         1  PARTICION\n",
       "182  1001038001  1001038803         1  PARTICION\n",
       "183  1001038018  1001038804         1  PARTICION\n",
       "184  1001038018  1001038805         1  PARTICION"
      ]
     },
     "execution_count": 24,
     "metadata": {},
     "output_type": "execute_result"
    }
   ],
   "source": [
    "parti = dfs.loc[dfs.MODIF96A04=='PARTICION']\n",
    "parti.head(6)"
   ]
  },
  {
   "cell_type": "code",
   "execution_count": 25,
   "id": "5871a057",
   "metadata": {},
   "outputs": [
    {
     "data": {
      "text/html": [
       "<div>\n",
       "<style scoped>\n",
       "    .dataframe tbody tr th:only-of-type {\n",
       "        vertical-align: middle;\n",
       "    }\n",
       "\n",
       "    .dataframe tbody tr th {\n",
       "        vertical-align: top;\n",
       "    }\n",
       "\n",
       "    .dataframe thead th {\n",
       "        text-align: right;\n",
       "    }\n",
       "</style>\n",
       "<table border=\"1\" class=\"dataframe\">\n",
       "  <thead>\n",
       "    <tr style=\"text-align: right;\">\n",
       "      <th></th>\n",
       "      <th>CCOMP96</th>\n",
       "      <th>CCOMP04</th>\n",
       "      <th>REG96A04</th>\n",
       "      <th>codcomp</th>\n",
       "      <th>personas</th>\n",
       "    </tr>\n",
       "  </thead>\n",
       "  <tbody>\n",
       "    <tr>\n",
       "      <th>0</th>\n",
       "      <td>101003009</td>\n",
       "      <td>101003800</td>\n",
       "      <td>1</td>\n",
       "      <td>101003009</td>\n",
       "      <td>44</td>\n",
       "    </tr>\n",
       "    <tr>\n",
       "      <th>1</th>\n",
       "      <td>107205004</td>\n",
       "      <td>107205500</td>\n",
       "      <td>1</td>\n",
       "      <td>107205004</td>\n",
       "      <td>40</td>\n",
       "    </tr>\n",
       "    <tr>\n",
       "      <th>2</th>\n",
       "      <td>108002001</td>\n",
       "      <td>108002400</td>\n",
       "      <td>1</td>\n",
       "      <td>108002001</td>\n",
       "      <td>113</td>\n",
       "    </tr>\n",
       "    <tr>\n",
       "      <th>3</th>\n",
       "      <td>108002006</td>\n",
       "      <td>108002401</td>\n",
       "      <td>1</td>\n",
       "      <td>108002006</td>\n",
       "      <td>6</td>\n",
       "    </tr>\n",
       "    <tr>\n",
       "      <th>4</th>\n",
       "      <td>108008003</td>\n",
       "      <td>108008800</td>\n",
       "      <td>1</td>\n",
       "      <td>108008003</td>\n",
       "      <td>8</td>\n",
       "    </tr>\n",
       "  </tbody>\n",
       "</table>\n",
       "</div>"
      ],
      "text/plain": [
       "     CCOMP96    CCOMP04  REG96A04    codcomp  personas\n",
       "0  101003009  101003800         1  101003009        44\n",
       "1  107205004  107205500         1  107205004        40\n",
       "2  108002001  108002400         1  108002001       113\n",
       "3  108002006  108002401         1  108002006         6\n",
       "4  108008003  108008800         1  108008003         8"
      ]
     },
     "execution_count": 25,
     "metadata": {},
     "output_type": "execute_result"
    }
   ],
   "source": [
    "parti_group = parti.groupby('CCOMP96').size().to_frame(name='division')\n",
    "parti_group = parti_group.merge(dfs_personas_sd, left_on='CCOMP96', right_on='codcomp')\n",
    "parti_group['personas'] = round(parti_group['personas'] / parti_group['division']).astype(int)\n",
    "parti_group.drop(['division', 'MODIF96A04'], axis=1, inplace=True)\n",
    "parti_group.head()"
   ]
  },
  {
   "cell_type": "code",
   "execution_count": 26,
   "id": "64439029",
   "metadata": {},
   "outputs": [
    {
     "data": {
      "text/html": [
       "<div>\n",
       "<style scoped>\n",
       "    .dataframe tbody tr th:only-of-type {\n",
       "        vertical-align: middle;\n",
       "    }\n",
       "\n",
       "    .dataframe tbody tr th {\n",
       "        vertical-align: top;\n",
       "    }\n",
       "\n",
       "    .dataframe thead th {\n",
       "        text-align: right;\n",
       "    }\n",
       "</style>\n",
       "<table border=\"1\" class=\"dataframe\">\n",
       "  <thead>\n",
       "    <tr style=\"text-align: right;\">\n",
       "      <th></th>\n",
       "      <th>CCOMP04</th>\n",
       "      <th>CCOMP96</th>\n",
       "      <th>REG96A04</th>\n",
       "      <th>codcomp</th>\n",
       "      <th>personas</th>\n",
       "    </tr>\n",
       "  </thead>\n",
       "  <tbody>\n",
       "    <tr>\n",
       "      <th>0</th>\n",
       "      <td>105102800</td>\n",
       "      <td>210204019</td>\n",
       "      <td>4</td>\n",
       "      <td>210204019</td>\n",
       "      <td>43</td>\n",
       "    </tr>\n",
       "    <tr>\n",
       "      <th>1</th>\n",
       "      <td>109007800</td>\n",
       "      <td>218014007</td>\n",
       "      <td>4</td>\n",
       "      <td>218014007</td>\n",
       "      <td>5</td>\n",
       "    </tr>\n",
       "    <tr>\n",
       "      <th>2</th>\n",
       "      <td>109008800</td>\n",
       "      <td>327024027</td>\n",
       "      <td>6</td>\n",
       "      <td>327024027</td>\n",
       "      <td>311</td>\n",
       "    </tr>\n",
       "  </tbody>\n",
       "</table>\n",
       "</div>"
      ],
      "text/plain": [
       "     CCOMP04    CCOMP96  REG96A04    codcomp  personas\n",
       "0  105102800  210204019         4  210204019        43\n",
       "1  109007800  218014007         4  218014007         5\n",
       "2  109008800  327024027         6  327024027       311"
      ]
     },
     "execution_count": 26,
     "metadata": {},
     "output_type": "execute_result"
    }
   ],
   "source": [
    "fusion = dfs_personas.loc[dfs_personas.MODIF96A04=='FUSION']\n",
    "fusion_group = fusion.groupby('CCOMP04', as_index=False).sum('personas')\n",
    "fusion_group.head(3)"
   ]
  },
  {
   "cell_type": "code",
   "execution_count": 27,
   "id": "f5b13fd7",
   "metadata": {},
   "outputs": [
    {
     "data": {
      "text/html": [
       "<div>\n",
       "<style scoped>\n",
       "    .dataframe tbody tr th:only-of-type {\n",
       "        vertical-align: middle;\n",
       "    }\n",
       "\n",
       "    .dataframe tbody tr th {\n",
       "        vertical-align: top;\n",
       "    }\n",
       "\n",
       "    .dataframe thead th {\n",
       "        text-align: right;\n",
       "    }\n",
       "</style>\n",
       "<table border=\"1\" class=\"dataframe\">\n",
       "  <thead>\n",
       "    <tr style=\"text-align: right;\">\n",
       "      <th></th>\n",
       "      <th>CCOMP96</th>\n",
       "      <th>CCOMP04</th>\n",
       "      <th>REG96A04</th>\n",
       "      <th>codcomp</th>\n",
       "      <th>personas</th>\n",
       "    </tr>\n",
       "  </thead>\n",
       "  <tbody>\n",
       "    <tr>\n",
       "      <th>0</th>\n",
       "      <td>101003009</td>\n",
       "      <td>101003800</td>\n",
       "      <td>1</td>\n",
       "      <td>101003009</td>\n",
       "      <td>44</td>\n",
       "    </tr>\n",
       "    <tr>\n",
       "      <th>1</th>\n",
       "      <td>107205004</td>\n",
       "      <td>107205500</td>\n",
       "      <td>1</td>\n",
       "      <td>107205004</td>\n",
       "      <td>40</td>\n",
       "    </tr>\n",
       "    <tr>\n",
       "      <th>2</th>\n",
       "      <td>108002001</td>\n",
       "      <td>108002400</td>\n",
       "      <td>1</td>\n",
       "      <td>108002001</td>\n",
       "      <td>113</td>\n",
       "    </tr>\n",
       "    <tr>\n",
       "      <th>3</th>\n",
       "      <td>108002006</td>\n",
       "      <td>108002401</td>\n",
       "      <td>1</td>\n",
       "      <td>108002006</td>\n",
       "      <td>6</td>\n",
       "    </tr>\n",
       "    <tr>\n",
       "      <th>4</th>\n",
       "      <td>108008003</td>\n",
       "      <td>108008800</td>\n",
       "      <td>1</td>\n",
       "      <td>108008003</td>\n",
       "      <td>8</td>\n",
       "    </tr>\n",
       "  </tbody>\n",
       "</table>\n",
       "</div>"
      ],
      "text/plain": [
       "     CCOMP96    CCOMP04  REG96A04    codcomp  personas\n",
       "0  101003009  101003800         1  101003009        44\n",
       "1  107205004  107205500         1  107205004        40\n",
       "2  108002001  108002400         1  108002001       113\n",
       "3  108002006  108002401         1  108002006         6\n",
       "4  108008003  108008800         1  108008003         8"
      ]
     },
     "execution_count": 27,
     "metadata": {},
     "output_type": "execute_result"
    }
   ],
   "source": [
    "parti_fusion = pd.concat([parti_group, fusion_group])\n",
    "parti_fusion.head()"
   ]
  },
  {
   "cell_type": "code",
   "execution_count": 28,
   "id": "a1c6f252",
   "metadata": {},
   "outputs": [
    {
     "data": {
      "text/html": [
       "<div>\n",
       "<style scoped>\n",
       "    .dataframe tbody tr th:only-of-type {\n",
       "        vertical-align: middle;\n",
       "    }\n",
       "\n",
       "    .dataframe tbody tr th {\n",
       "        vertical-align: top;\n",
       "    }\n",
       "\n",
       "    .dataframe thead th {\n",
       "        text-align: right;\n",
       "    }\n",
       "</style>\n",
       "<table border=\"1\" class=\"dataframe\">\n",
       "  <thead>\n",
       "    <tr style=\"text-align: right;\">\n",
       "      <th></th>\n",
       "      <th>CCOMP96</th>\n",
       "      <th>CCOMP04</th>\n",
       "      <th>REG96A04</th>\n",
       "      <th>codcomp</th>\n",
       "      <th>personas</th>\n",
       "    </tr>\n",
       "  </thead>\n",
       "  <tbody>\n",
       "    <tr>\n",
       "      <th>0</th>\n",
       "      <td>1001013001</td>\n",
       "      <td>1001013001</td>\n",
       "      <td>0</td>\n",
       "      <td>1001013001</td>\n",
       "      <td>25</td>\n",
       "    </tr>\n",
       "    <tr>\n",
       "      <th>1</th>\n",
       "      <td>1001013002</td>\n",
       "      <td>1001013002</td>\n",
       "      <td>0</td>\n",
       "      <td>1001013002</td>\n",
       "      <td>87</td>\n",
       "    </tr>\n",
       "    <tr>\n",
       "      <th>2</th>\n",
       "      <td>1001013003</td>\n",
       "      <td>1001013003</td>\n",
       "      <td>0</td>\n",
       "      <td>1001013003</td>\n",
       "      <td>119</td>\n",
       "    </tr>\n",
       "    <tr>\n",
       "      <th>3</th>\n",
       "      <td>1001013004</td>\n",
       "      <td>1001013004</td>\n",
       "      <td>0</td>\n",
       "      <td>1001013004</td>\n",
       "      <td>86</td>\n",
       "    </tr>\n",
       "    <tr>\n",
       "      <th>4</th>\n",
       "      <td>1001013005</td>\n",
       "      <td>1001013005</td>\n",
       "      <td>0</td>\n",
       "      <td>1001013005</td>\n",
       "      <td>107</td>\n",
       "    </tr>\n",
       "  </tbody>\n",
       "</table>\n",
       "</div>"
      ],
      "text/plain": [
       "      CCOMP96     CCOMP04  REG96A04     codcomp  personas\n",
       "0  1001013001  1001013001         0  1001013001        25\n",
       "1  1001013002  1001013002         0  1001013002        87\n",
       "2  1001013003  1001013003         0  1001013003       119\n",
       "3  1001013004  1001013004         0  1001013004        86\n",
       "4  1001013005  1001013005         0  1001013005       107"
      ]
     },
     "execution_count": 28,
     "metadata": {},
     "output_type": "execute_result"
    }
   ],
   "source": [
    "cols = parti_fusion.columns\n",
    "sm = dfs_personas.loc[dfs_personas.MODIF96A04=='SIN MODIFICACION', cols]\n",
    "sm.head()"
   ]
  },
  {
   "cell_type": "code",
   "execution_count": 29,
   "id": "23cb3399",
   "metadata": {},
   "outputs": [
    {
     "data": {
      "text/plain": [
       "2832917"
      ]
     },
     "execution_count": 29,
     "metadata": {},
     "output_type": "execute_result"
    }
   ],
   "source": [
    "sum(sm.personas)"
   ]
  },
  {
   "cell_type": "code",
   "execution_count": 30,
   "id": "107ae6d8",
   "metadata": {},
   "outputs": [
    {
     "data": {
      "text/html": [
       "<div>\n",
       "<style scoped>\n",
       "    .dataframe tbody tr th:only-of-type {\n",
       "        vertical-align: middle;\n",
       "    }\n",
       "\n",
       "    .dataframe tbody tr th {\n",
       "        vertical-align: top;\n",
       "    }\n",
       "\n",
       "    .dataframe thead th {\n",
       "        text-align: right;\n",
       "    }\n",
       "</style>\n",
       "<table border=\"1\" class=\"dataframe\">\n",
       "  <thead>\n",
       "    <tr style=\"text-align: right;\">\n",
       "      <th></th>\n",
       "      <th>CCOMP96</th>\n",
       "      <th>CCOMP04</th>\n",
       "      <th>REG96A04</th>\n",
       "      <th>codcomp</th>\n",
       "      <th>personas</th>\n",
       "    </tr>\n",
       "  </thead>\n",
       "  <tbody>\n",
       "    <tr>\n",
       "      <th>0</th>\n",
       "      <td>101003009</td>\n",
       "      <td>101003800</td>\n",
       "      <td>1</td>\n",
       "      <td>101003009</td>\n",
       "      <td>44</td>\n",
       "    </tr>\n",
       "    <tr>\n",
       "      <th>1</th>\n",
       "      <td>107205004</td>\n",
       "      <td>107205500</td>\n",
       "      <td>1</td>\n",
       "      <td>107205004</td>\n",
       "      <td>40</td>\n",
       "    </tr>\n",
       "    <tr>\n",
       "      <th>2</th>\n",
       "      <td>108002001</td>\n",
       "      <td>108002400</td>\n",
       "      <td>1</td>\n",
       "      <td>108002001</td>\n",
       "      <td>113</td>\n",
       "    </tr>\n",
       "    <tr>\n",
       "      <th>3</th>\n",
       "      <td>108002006</td>\n",
       "      <td>108002401</td>\n",
       "      <td>1</td>\n",
       "      <td>108002006</td>\n",
       "      <td>6</td>\n",
       "    </tr>\n",
       "    <tr>\n",
       "      <th>4</th>\n",
       "      <td>108008003</td>\n",
       "      <td>108008800</td>\n",
       "      <td>1</td>\n",
       "      <td>108008003</td>\n",
       "      <td>8</td>\n",
       "    </tr>\n",
       "  </tbody>\n",
       "</table>\n",
       "</div>"
      ],
      "text/plain": [
       "     CCOMP96    CCOMP04  REG96A04    codcomp  personas\n",
       "0  101003009  101003800         1  101003009        44\n",
       "1  107205004  107205500         1  107205004        40\n",
       "2  108002001  108002400         1  108002001       113\n",
       "3  108002006  108002401         1  108002006         6\n",
       "4  108008003  108008800         1  108008003         8"
      ]
     },
     "execution_count": 30,
     "metadata": {},
     "output_type": "execute_result"
    }
   ],
   "source": [
    "todo = pd.concat([parti_fusion, sm])\n",
    "todo.head()"
   ]
  },
  {
   "cell_type": "code",
   "execution_count": 31,
   "id": "10155b59",
   "metadata": {},
   "outputs": [
    {
     "data": {
      "text/plain": [
       "(46127, 5)"
      ]
     },
     "execution_count": 31,
     "metadata": {},
     "output_type": "execute_result"
    }
   ],
   "source": [
    "todo.shape"
   ]
  },
  {
   "cell_type": "code",
   "execution_count": 32,
   "id": "5a132350",
   "metadata": {},
   "outputs": [
    {
     "data": {
      "text/plain": [
       "2961551"
      ]
     },
     "execution_count": 32,
     "metadata": {},
     "output_type": "execute_result"
    }
   ],
   "source": [
    "sum(todo.personas)"
   ]
  },
  {
   "cell_type": "code",
   "execution_count": 33,
   "id": "c5a71e65",
   "metadata": {},
   "outputs": [],
   "source": [
    "todo.to_csv('marcos_censales/personas_96_zona.csv', index=False)"
   ]
  }
 ],
 "metadata": {
  "kernelspec": {
   "display_name": "Python 3",
   "language": "python",
   "name": "python3"
  },
  "language_info": {
   "codemirror_mode": {
    "name": "ipython",
    "version": 3
   },
   "file_extension": ".py",
   "mimetype": "text/x-python",
   "name": "python",
   "nbconvert_exporter": "python",
   "pygments_lexer": "ipython3",
   "version": "3.9.2"
  }
 },
 "nbformat": 4,
 "nbformat_minor": 5
}
