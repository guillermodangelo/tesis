{
 "cells": [
  {
   "cell_type": "code",
   "execution_count": 48,
   "id": "7a6d196b",
   "metadata": {},
   "outputs": [],
   "source": [
    "import pandas as pd\n",
    "import fiona\n",
    "from shapely.geometry import shape, mapping\n",
    "import itertools\n",
    "from collections import OrderedDict"
   ]
  },
  {
   "cell_type": "code",
   "execution_count": 49,
   "id": "cd20c4ec",
   "metadata": {},
   "outputs": [],
   "source": [
    "# load the shapefile as an iterable\n",
    "polys = fiona.open(\"capas/ine_deptos_generalizada.gpkg\")"
   ]
  },
  {
   "cell_type": "code",
   "execution_count": 50,
   "id": "b5211aa8",
   "metadata": {},
   "outputs": [],
   "source": [
    "def shared_boundary(file):\n",
    "    polys = fiona.open(file)\n",
    "    shared = []\n",
    "\n",
    "    for pol1, pol2 in  itertools.combinations(polys, 2):\n",
    "        geompol1 = shape(pol1['geometry'])\n",
    "        geompol2 = shape(pol2['geometry'])\n",
    "        if geompol1.touches(geompol2):\n",
    "            length = shape(mapping(geompol1.intersection(geompol2))).length\n",
    "            shared.append([tuple(pol1['properties'].items())[0], tuple(pol2['properties'].items())[0], int(length)])\n",
    "    \n",
    "    shared = list(zip([x[0][1] for x in shared],\n",
    "                  [x[1][1] for x in shared],\n",
    "                  [x[2] for x in shared]                  \n",
    "                 ))\n",
    "    \n",
    "    df = pd.DataFrame(shared, columns=['poly1', 'poly2', 'length']).sort_values(by=['poly1', 'poly2'])\n",
    "    df = df.loc[df.length > 0].reset_index(drop=True)\n",
    "\n",
    "    return df"
   ]
  },
  {
   "cell_type": "code",
   "execution_count": 51,
   "id": "04211b3f",
   "metadata": {},
   "outputs": [
    {
     "output_type": "stream",
     "name": "stderr",
     "text": [
      "<ipython-input-50-e1da82376c14>:5: RuntimeWarning: Sequential read of iterator was interrupted. Resetting iterator. This can negatively impact the performance.\n  for pol1, pol2 in  itertools.combinations(polys, 2):\n"
     ]
    }
   ],
   "source": [
    "file=\"capas/ine_deptos_generalizada.gpkg\"\n",
    "\n",
    "df = shared_boundary(file)"
   ]
  },
  {
   "cell_type": "code",
   "execution_count": 52,
   "id": "a29bac96",
   "metadata": {},
   "outputs": [
    {
     "output_type": "stream",
     "name": "stdout",
     "text": [
      "(39, 3)\n"
     ]
    },
    {
     "output_type": "execute_result",
     "data": {
      "text/plain": [
       "   dep1  dep2  largo_limite\n",
       "0     3     1         60107\n",
       "1     3     8         94070\n",
       "2     3     9         51167\n",
       "3     3    10         24113\n",
       "4     3    16         48749"
      ],
      "text/html": "<div>\n<style scoped>\n    .dataframe tbody tr th:only-of-type {\n        vertical-align: middle;\n    }\n\n    .dataframe tbody tr th {\n        vertical-align: top;\n    }\n\n    .dataframe thead th {\n        text-align: right;\n    }\n</style>\n<table border=\"1\" class=\"dataframe\">\n  <thead>\n    <tr style=\"text-align: right;\">\n      <th></th>\n      <th>dep1</th>\n      <th>dep2</th>\n      <th>largo_limite</th>\n    </tr>\n  </thead>\n  <tbody>\n    <tr>\n      <th>0</th>\n      <td>3</td>\n      <td>1</td>\n      <td>60107</td>\n    </tr>\n    <tr>\n      <th>1</th>\n      <td>3</td>\n      <td>8</td>\n      <td>94070</td>\n    </tr>\n    <tr>\n      <th>2</th>\n      <td>3</td>\n      <td>9</td>\n      <td>51167</td>\n    </tr>\n    <tr>\n      <th>3</th>\n      <td>3</td>\n      <td>10</td>\n      <td>24113</td>\n    </tr>\n    <tr>\n      <th>4</th>\n      <td>3</td>\n      <td>16</td>\n      <td>48749</td>\n    </tr>\n  </tbody>\n</table>\n</div>"
     },
     "metadata": {},
     "execution_count": 52
    }
   ],
   "source": [
    "df.rename({'poly1': 'dep1', 'poly2': 'dep2', 'length': 'largo_limite'}, inplace=True, axis=1)\n",
    "print(df.shape)\n",
    "df.head()"
   ]
  },
  {
   "cell_type": "code",
   "execution_count": 53,
   "metadata": {},
   "outputs": [],
   "source": [
    "def codificar(df, var1, var2):\n",
    "    df['cod'] = (df[var1].astype(str) + df[var2].astype(str).str.zfill(2)).astype(int)\n",
    "    \n",
    "    return df"
   ]
  },
  {
   "cell_type": "code",
   "execution_count": 54,
   "metadata": {},
   "outputs": [],
   "source": [
    "# codifica\n",
    "df1 = codificar(df, 'dep1', 'dep2')\n",
    "df2 = codificar(df, 'dep2', 'dep1')"
   ]
  },
  {
   "cell_type": "code",
   "execution_count": 55,
   "metadata": {},
   "outputs": [],
   "source": [
    "deptos_vecinos = df1.loc[:,['cod','largo_limite']].append(df2.loc[:,['cod','largo_limite']]).drop_duplicates('cod').sort_values('cod')"
   ]
  },
  {
   "cell_type": "code",
   "execution_count": 56,
   "metadata": {},
   "outputs": [
    {
     "output_type": "stream",
     "name": "stdout",
     "text": [
      "(39, 2)\n"
     ]
    },
    {
     "output_type": "execute_result",
     "data": {
      "text/plain": [
       "    cod  largo_limite\n",
       "0   103         60107\n",
       "31  116          5400\n",
       "27  215        197272\n",
       "24  413         64044\n",
       "32  516         67607"
      ],
      "text/html": "<div>\n<style scoped>\n    .dataframe tbody tr th:only-of-type {\n        vertical-align: middle;\n    }\n\n    .dataframe tbody tr th {\n        vertical-align: top;\n    }\n\n    .dataframe thead th {\n        text-align: right;\n    }\n</style>\n<table border=\"1\" class=\"dataframe\">\n  <thead>\n    <tr style=\"text-align: right;\">\n      <th></th>\n      <th>cod</th>\n      <th>largo_limite</th>\n    </tr>\n  </thead>\n  <tbody>\n    <tr>\n      <th>0</th>\n      <td>103</td>\n      <td>60107</td>\n    </tr>\n    <tr>\n      <th>31</th>\n      <td>116</td>\n      <td>5400</td>\n    </tr>\n    <tr>\n      <th>27</th>\n      <td>215</td>\n      <td>197272</td>\n    </tr>\n    <tr>\n      <th>24</th>\n      <td>413</td>\n      <td>64044</td>\n    </tr>\n    <tr>\n      <th>32</th>\n      <td>516</td>\n      <td>67607</td>\n    </tr>\n  </tbody>\n</table>\n</div>"
     },
     "metadata": {},
     "execution_count": 56
    }
   ],
   "source": [
    "print(deptos_vecinos.shape)\n",
    "deptos_vecinos.head()"
   ]
  },
  {
   "cell_type": "code",
   "execution_count": 57,
   "metadata": {},
   "outputs": [
    {
     "output_type": "execute_result",
     "data": {
      "text/plain": [
       "(39,)"
      ]
     },
     "metadata": {},
     "execution_count": 57
    }
   ],
   "source": [
    "deptos_vecinos.cod.unique().shape"
   ]
  },
  {
   "cell_type": "code",
   "execution_count": null,
   "metadata": {},
   "outputs": [],
   "source": []
  }
 ],
 "metadata": {
  "kernelspec": {
   "name": "python392jvsc74a57bd05ce838cc175eb9c7ee2cce823ae805de6106cb4564d9fc7b3476b35fac8c9293",
   "display_name": "Python 3.9.2 64-bit ('tesis': conda)"
  },
  "language_info": {
   "codemirror_mode": {
    "name": "ipython",
    "version": 3
   },
   "file_extension": ".py",
   "mimetype": "text/x-python",
   "name": "python",
   "nbconvert_exporter": "python",
   "pygments_lexer": "ipython3",
   "version": "3.9.2-final"
  },
  "metadata": {
   "interpreter": {
    "hash": "5ce838cc175eb9c7ee2cce823ae805de6106cb4564d9fc7b3476b35fac8c9293"
   }
  }
 },
 "nbformat": 4,
 "nbformat_minor": 5
}