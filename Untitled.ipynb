{
 "cells": [
  {
   "cell_type": "code",
   "execution_count": 9,
   "id": "24665852",
   "metadata": {},
   "outputs": [],
   "source": [
    "with open('prueba/1.md') as f:\n",
    "    lines = f.readlines()\n",
    "    result = [i.split('---\\n') for i in lines]"
   ]
  },
  {
   "cell_type": "code",
   "execution_count": 25,
   "id": "11892619",
   "metadata": {},
   "outputs": [
    {
     "ename": "SyntaxError",
     "evalue": "invalid syntax (<ipython-input-25-38b0e917a033>, line 2)",
     "output_type": "error",
     "traceback": [
      "\u001b[0;36m  File \u001b[0;32m\"<ipython-input-25-38b0e917a033>\"\u001b[0;36m, line \u001b[0;32m2\u001b[0m\n\u001b[0;31m    for item in iterable\u001b[0m\n\u001b[0m                        ^\u001b[0m\n\u001b[0;31mSyntaxError\u001b[0m\u001b[0;31m:\u001b[0m invalid syntax\n"
     ]
    }
   ],
   "source": [
    "def take_until(iterable):\n",
    "    for item in iterable\n",
    "    yield item\n",
    "    if condition(item):\n",
    "        return"
   ]
  },
  {
   "cell_type": "code",
   "execution_count": 31,
   "id": "d96e484a",
   "metadata": {},
   "outputs": [
    {
     "name": "stdout",
     "output_type": "stream",
     "text": [
      "---\n",
      "\n",
      "---\n",
      "\n",
      "---\n",
      "\n",
      "---\n",
      "\n"
     ]
    }
   ],
   "source": [
    "data = []\n",
    "\n",
    "for i in lines:\n",
    "    if i=='---\\n':\n",
    "        print(i)"
   ]
  },
  {
   "cell_type": "code",
   "execution_count": 29,
   "id": "55f3ae5f",
   "metadata": {},
   "outputs": [
    {
     "data": {
      "text/plain": [
       "['Title: Build Software Robots with Python\\n',\n",
       " 'Date: 2017-12-06 09:00\\n',\n",
       " 'Status: draft\\n',\n",
       " 'Title: serer\\n',\n",
       " 'Date: 2ssssss0\\n',\n",
       " 'Status: sssss\\n',\n",
       " 'Title: sasas\\n',\n",
       " 'Date: ffffff09:00\\n',\n",
       " 'Status: ff\\n',\n",
       " 'Title: Basasas\\n',\n",
       " 'Date: 2017-12-06 09:00\\n',\n",
       " 'Status: j\\n',\n",
       " '---']"
      ]
     },
     "execution_count": 29,
     "metadata": {},
     "output_type": "execute_result"
    }
   ],
   "source": [
    "data"
   ]
  },
  {
   "cell_type": "code",
   "execution_count": null,
   "id": "90604e70",
   "metadata": {},
   "outputs": [],
   "source": []
  },
  {
   "cell_type": "code",
   "execution_count": 17,
   "id": "d05a9b80",
   "metadata": {},
   "outputs": [
    {
     "data": {
      "text/plain": [
       "[]"
      ]
     },
     "execution_count": 17,
     "metadata": {},
     "output_type": "execute_result"
    }
   ],
   "source": [
    "list(print_ele(lines, '---\\n'))"
   ]
  },
  {
   "cell_type": "code",
   "execution_count": null,
   "id": "eba10fe2",
   "metadata": {},
   "outputs": [],
   "source": [
    "['---\\n',\n",
    " 'Title: Build Software Robots with Python\\n',\n",
    " 'Date: 2017-12-06 09:00\\n',\n",
    " 'Status: draft\\n',"
   ]
  },
  {
   "cell_type": "code",
   "execution_count": 11,
   "id": "5d2373c4",
   "metadata": {},
   "outputs": [
    {
     "data": {
      "text/plain": [
       "['---\\n',\n",
       " 'Title: Build Software Robots with Python\\n',\n",
       " 'Date: 2017-12-06 09:00\\n',\n",
       " 'Status: draft\\n',\n",
       " '---\\n',\n",
       " 'Title: serer\\n',\n",
       " 'Date: 2ssssss0\\n',\n",
       " 'Status: sssss\\n',\n",
       " '---\\n',\n",
       " 'Title: sasas\\n',\n",
       " 'Date: ffffff09:00\\n',\n",
       " 'Status: ff\\n',\n",
       " '---\\n',\n",
       " 'Title: Basasas\\n',\n",
       " 'Date: 2017-12-06 09:00\\n',\n",
       " 'Status: j\\n',\n",
       " '---']"
      ]
     },
     "execution_count": 11,
     "metadata": {},
     "output_type": "execute_result"
    }
   ],
   "source": [
    "lines"
   ]
  },
  {
   "cell_type": "code",
   "execution_count": null,
   "id": "d95ef089",
   "metadata": {},
   "outputs": [],
   "source": []
  }
 ],
 "metadata": {
  "kernelspec": {
   "display_name": "Python 3",
   "language": "python",
   "name": "python3"
  },
  "language_info": {
   "codemirror_mode": {
    "name": "ipython",
    "version": 3
   },
   "file_extension": ".py",
   "mimetype": "text/x-python",
   "name": "python",
   "nbconvert_exporter": "python",
   "pygments_lexer": "ipython3",
   "version": "3.9.2"
  }
 },
 "nbformat": 4,
 "nbformat_minor": 5
}
