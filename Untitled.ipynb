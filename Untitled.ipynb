{
 "cells": [
  {
   "cell_type": "code",
   "execution_count": 14,
   "id": "3c62ba35",
   "metadata": {},
   "outputs": [],
   "source": [
    "import pandas as pd\n",
    "from simpledbf import Dbf5\n",
    "import numpy as np\n",
    "from os import listdir\n",
    "from os.path import isfile, join\n",
    "\n",
    "from functions.cargar_data import *"
   ]
  },
  {
   "cell_type": "code",
   "execution_count": 6,
   "id": "b65546bb",
   "metadata": {},
   "outputs": [],
   "source": [
    "path = 'datos_ine_96/dbfs/'"
   ]
  },
  {
   "cell_type": "code",
   "execution_count": 63,
   "id": "2056ba6a",
   "metadata": {},
   "outputs": [
    {
     "name": "stdout",
     "output_type": "stream",
     "text": [
      "(12165, 4)\n"
     ]
    },
    {
     "data": {
      "text/html": [
       "<div>\n",
       "<style scoped>\n",
       "    .dataframe tbody tr th:only-of-type {\n",
       "        vertical-align: middle;\n",
       "    }\n",
       "\n",
       "    .dataframe tbody tr th {\n",
       "        vertical-align: top;\n",
       "    }\n",
       "\n",
       "    .dataframe thead th {\n",
       "        text-align: right;\n",
       "    }\n",
       "</style>\n",
       "<table border=\"1\" class=\"dataframe\">\n",
       "  <thead>\n",
       "    <tr style=\"text-align: right;\">\n",
       "      <th></th>\n",
       "      <th>CCOMP96</th>\n",
       "      <th>CCOMP04</th>\n",
       "      <th>REG96A04</th>\n",
       "      <th>MODIF96A04</th>\n",
       "    </tr>\n",
       "  </thead>\n",
       "  <tbody>\n",
       "    <tr>\n",
       "      <th>0</th>\n",
       "      <td>101001001</td>\n",
       "      <td>101001001</td>\n",
       "      <td>0</td>\n",
       "      <td>SIN MODIFICACION</td>\n",
       "    </tr>\n",
       "    <tr>\n",
       "      <th>1</th>\n",
       "      <td>101001003</td>\n",
       "      <td>101001003</td>\n",
       "      <td>0</td>\n",
       "      <td>SIN MODIFICACION</td>\n",
       "    </tr>\n",
       "  </tbody>\n",
       "</table>\n",
       "</div>"
      ],
      "text/plain": [
       "     CCOMP96    CCOMP04  REG96A04        MODIF96A04\n",
       "0  101001001  101001001         0  SIN MODIFICACION\n",
       "1  101001003  101001003         0  SIN MODIFICACION"
      ]
     },
     "execution_count": 63,
     "metadata": {},
     "output_type": "execute_result"
    }
   ],
   "source": [
    "dbf = Dbf5(path + '01 idgeo 96-04 mvd.dbf')\n",
    "mvo = dbf.to_dataframe()\n",
    "print(mvo.shape)\n",
    "mvo.head(2)"
   ]
  },
  {
   "cell_type": "code",
   "execution_count": 64,
   "id": "9ad0243b",
   "metadata": {},
   "outputs": [
    {
     "data": {
      "text/plain": [
       "MODIF96A04\n",
       "FUSION               240\n",
       "PARTICION           3153\n",
       "SIN MODIFICACION    8772\n",
       "dtype: int64"
      ]
     },
     "execution_count": 64,
     "metadata": {},
     "output_type": "execute_result"
    }
   ],
   "source": [
    "mvo.groupby('MODIF96A04').size()"
   ]
  },
  {
   "cell_type": "code",
   "execution_count": 73,
   "id": "078d7fa3",
   "metadata": {},
   "outputs": [
    {
     "name": "stdout",
     "output_type": "stream",
     "text": [
      "(724, 6)\n"
     ]
    },
    {
     "data": {
      "text/html": [
       "<div>\n",
       "<style scoped>\n",
       "    .dataframe tbody tr th:only-of-type {\n",
       "        vertical-align: middle;\n",
       "    }\n",
       "\n",
       "    .dataframe tbody tr th {\n",
       "        vertical-align: top;\n",
       "    }\n",
       "\n",
       "    .dataframe thead th {\n",
       "        text-align: right;\n",
       "    }\n",
       "</style>\n",
       "<table border=\"1\" class=\"dataframe\">\n",
       "  <thead>\n",
       "    <tr style=\"text-align: right;\">\n",
       "      <th></th>\n",
       "      <th>CCOMP96</th>\n",
       "      <th>CCOMP04</th>\n",
       "      <th>REG96A04</th>\n",
       "      <th>MODIF96A04</th>\n",
       "      <th>CODLOC_96</th>\n",
       "      <th>CODLOC_04</th>\n",
       "    </tr>\n",
       "  </thead>\n",
       "  <tbody>\n",
       "    <tr>\n",
       "      <th>0</th>\n",
       "      <td>701001001</td>\n",
       "      <td>701001001</td>\n",
       "      <td>0</td>\n",
       "      <td>SIN MODIFICACION</td>\n",
       "      <td>7320</td>\n",
       "      <td>7320</td>\n",
       "    </tr>\n",
       "    <tr>\n",
       "      <th>1</th>\n",
       "      <td>701001002</td>\n",
       "      <td>701001002</td>\n",
       "      <td>0</td>\n",
       "      <td>SIN MODIFICACION</td>\n",
       "      <td>7320</td>\n",
       "      <td>7320</td>\n",
       "    </tr>\n",
       "  </tbody>\n",
       "</table>\n",
       "</div>"
      ],
      "text/plain": [
       "     CCOMP96    CCOMP04  REG96A04        MODIF96A04  CODLOC_96  CODLOC_04\n",
       "0  701001001  701001001         0  SIN MODIFICACION       7320       7320\n",
       "1  701001002  701001002         0  SIN MODIFICACION       7320       7320"
      ]
     },
     "execution_count": 73,
     "metadata": {},
     "output_type": "execute_result"
    }
   ],
   "source": [
    "dbf = Dbf5(path + '07 idgeo 96-04 flores.dbf')\n",
    "flores = dbf.to_dataframe().rename({'CCOPM04': 'CCOMP04'}, axis=1)\n",
    "print(flores.shape)\n",
    "flores.head(2)"
   ]
  },
  {
   "cell_type": "code",
   "execution_count": 74,
   "id": "6e8c16c8",
   "metadata": {},
   "outputs": [
    {
     "data": {
      "text/plain": [
       "['10 idgeo 96-04 maldonado.dbf',\n",
       " '17 idgeo 96-04 soriano.dbf',\n",
       " '18 idgeo 96-04 tacuarembo.dbf',\n",
       " '06 idgeo 96-04 durazno.dbf',\n",
       " '03 idgeo 96-04 canelones.dbf',\n",
       " '02 idgeo 96-04 artigas.dbf',\n",
       " '13 idgeo 96-04 rivera.dbf',\n",
       " '14 idgeo 96-04 rocha.dbf',\n",
       " '05 idgeo 96-04 colonia.dbf',\n",
       " '16 idgeo 96-04 san jose.dbf',\n",
       " '08 idgeo 96-04 florida.dbf',\n",
       " '19 idgeo 96-04 treinta y tres.dbf',\n",
       " '15 idgeo 96-04 salto.dbf',\n",
       " '12 idgeo 96-04 rio negro.dbf',\n",
       " '09 idgeo 96-04 lavalleja.dbf',\n",
       " '04 idgeo 96-04 cerro largo.dbf',\n",
       " '11 idgeo 96-04 paysandu.dbf']"
      ]
     },
     "execution_count": 74,
     "metadata": {},
     "output_type": "execute_result"
    }
   ],
   "source": [
    "files = [f for f in listdir(path) if isfile(join(path, f))]\n",
    "files.remove('01 idgeo 96-04 mvd.dbf')\n",
    "files.remove('07 idgeo 96-04 flores.dbf')\n",
    "files"
   ]
  },
  {
   "cell_type": "code",
   "execution_count": 61,
   "id": "f8857cc3",
   "metadata": {},
   "outputs": [],
   "source": [
    "df_list = [(Dbf5(path + i).to_dataframe()) for i in files]"
   ]
  },
  {
   "cell_type": "code",
   "execution_count": 66,
   "id": "66fb64f8",
   "metadata": {},
   "outputs": [
    {
     "data": {
      "text/html": [
       "<div>\n",
       "<style scoped>\n",
       "    .dataframe tbody tr th:only-of-type {\n",
       "        vertical-align: middle;\n",
       "    }\n",
       "\n",
       "    .dataframe tbody tr th {\n",
       "        vertical-align: top;\n",
       "    }\n",
       "\n",
       "    .dataframe thead th {\n",
       "        text-align: right;\n",
       "    }\n",
       "</style>\n",
       "<table border=\"1\" class=\"dataframe\">\n",
       "  <thead>\n",
       "    <tr style=\"text-align: right;\">\n",
       "      <th></th>\n",
       "      <th>CCOMP96</th>\n",
       "      <th>CCOMP04</th>\n",
       "      <th>REG96A04</th>\n",
       "      <th>MODIF96A04</th>\n",
       "      <th>CODLOC_96</th>\n",
       "      <th>CODLOC_04</th>\n",
       "    </tr>\n",
       "  </thead>\n",
       "  <tbody>\n",
       "    <tr>\n",
       "      <th>0</th>\n",
       "      <td>1001013001</td>\n",
       "      <td>1001013001</td>\n",
       "      <td>0</td>\n",
       "      <td>SIN MODIFICACION</td>\n",
       "      <td>10320</td>\n",
       "      <td>10320.0</td>\n",
       "    </tr>\n",
       "    <tr>\n",
       "      <th>1</th>\n",
       "      <td>1001013002</td>\n",
       "      <td>1001013002</td>\n",
       "      <td>0</td>\n",
       "      <td>SIN MODIFICACION</td>\n",
       "      <td>10320</td>\n",
       "      <td>10320.0</td>\n",
       "    </tr>\n",
       "  </tbody>\n",
       "</table>\n",
       "</div>"
      ],
      "text/plain": [
       "      CCOMP96     CCOMP04  REG96A04        MODIF96A04  CODLOC_96  CODLOC_04\n",
       "0  1001013001  1001013001         0  SIN MODIFICACION      10320    10320.0\n",
       "1  1001013002  1001013002         0  SIN MODIFICACION      10320    10320.0"
      ]
     },
     "execution_count": 66,
     "metadata": {},
     "output_type": "execute_result"
    }
   ],
   "source": [
    "dfs = pd.concat(df_list)\n",
    "dfs.head(2)"
   ]
  },
  {
   "cell_type": "code",
   "execution_count": 52,
   "id": "3ca6842f",
   "metadata": {},
   "outputs": [],
   "source": [
    "dfs.to_csv('datos_ine_96/correspondencia_interior.csv', index=False)"
   ]
  },
  {
   "cell_type": "code",
   "execution_count": null,
   "id": "baf8874a",
   "metadata": {},
   "outputs": [],
   "source": []
  }
 ],
 "metadata": {
  "kernelspec": {
   "display_name": "Python 3",
   "language": "python",
   "name": "python3"
  },
  "language_info": {
   "codemirror_mode": {
    "name": "ipython",
    "version": 3
   },
   "file_extension": ".py",
   "mimetype": "text/x-python",
   "name": "python",
   "nbconvert_exporter": "python",
   "pygments_lexer": "ipython3",
   "version": "3.9.2"
  }
 },
 "nbformat": 4,
 "nbformat_minor": 5
}
