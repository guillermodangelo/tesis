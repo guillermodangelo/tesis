{
  "nbformat": 4,
  "nbformat_minor": 0,
  "metadata": {
    "colab": {
      "name": "0.0_data_wrangling.ipynb",
      "provenance": [],
      "collapsed_sections": [],
      "authorship_tag": "ABX9TyOwXmSAMsrNzuYuYG0VqZdv",
      "include_colab_link": true
    },
    "kernelspec": {
      "name": "python3",
      "display_name": "Python 3"
    }
  },
  "cells": [
    {
      "cell_type": "markdown",
      "metadata": {
        "id": "view-in-github",
        "colab_type": "text"
      },
      "source": [
        "<a href=\"https://colab.research.google.com/github/guillermodangelo/tesis/blob/master/0_0_data_wrangling.ipynb\" target=\"_parent\"><img src=\"https://colab.research.google.com/assets/colab-badge.svg\" alt=\"Open In Colab\"/></a>"
      ]
    },
    {
      "cell_type": "code",
      "metadata": {
        "id": "HvxTqzCH8EG5",
        "colab_type": "code",
        "colab": {}
      },
      "source": [
        "import pandas as pd\n",
        "import os\n",
        "# from google.colab import drive"
      ],
      "execution_count": 0,
      "outputs": []
    },
    {
      "cell_type": "code",
      "metadata": {
        "id": "R2EwnVRz8Gao",
        "colab_type": "code",
        "outputId": "22d0e7d7-b34b-49ae-8650-11212008a229",
        "colab": {
          "base_uri": "https://localhost:8080/",
          "height": 124
        }
      },
      "source": [
        "# monta google drive y carga data desde allí\n",
        "drive.mount(\"/content/drive\")\n",
        "!ls \"drive/My Drive/bases_tesis/\"\n",
        "os.chdir('drive/My Drive/bases_tesis/')\n",
        "raw_data = pd.read_csv('personas_censo_2011.zip', compression='zip', header=0, sep=',', quotechar='\"')"
      ],
      "execution_count": 0,
      "outputs": [
        {
          "output_type": "stream",
          "text": [
            "Go to this URL in a browser: https://accounts.google.com/o/oauth2/auth?client_id=947318989803-6bn6qk8qdgf4n4g3pfee6491hc0brc4i.apps.googleusercontent.com&redirect_uri=urn%3aietf%3awg%3aoauth%3a2.0%3aoob&response_type=code&scope=email%20https%3a%2f%2fwww.googleapis.com%2fauth%2fdocs.test%20https%3a%2f%2fwww.googleapis.com%2fauth%2fdrive%20https%3a%2f%2fwww.googleapis.com%2fauth%2fdrive.photos.readonly%20https%3a%2f%2fwww.googleapis.com%2fauth%2fpeopleapi.readonly\n",
            "\n",
            "Enter your authorization code:\n",
            "··········\n",
            "Mounted at /content/drive\n"
          ],
          "name": "stdout"
        }
      ]
    },
    {
      "cell_type": "code",
      "metadata": {
        "id": "3CLV2-_7-DX1",
        "colab_type": "code",
        "colab": {}
      },
      "source": [
        "# carga data de GitHub\n",
        "raw_data = pd.read_csv('https://github.com/guillermodangelo/tesis/blob/master/personas_censo_2011.zip?raw=true', compression='zip', header=0, sep=',', quotechar='\"')"
      ],
      "execution_count": 0,
      "outputs": []
    },
    {
      "cell_type": "code",
      "metadata": {
        "id": "nYZdYBCm-Ocl",
        "colab_type": "code",
        "outputId": "46ca1783-c7a2-4b7e-a596-08d3a4b51f5a",
        "colab": {
          "base_uri": "https://localhost:8080/",
          "height": 132
        }
      },
      "source": [
        "raw_data.head(2)"
      ],
      "execution_count": 0,
      "outputs": [
        {
          "output_type": "execute_result",
          "data": {
            "text/html": [
              "<div>\n",
              "<style scoped>\n",
              "    .dataframe tbody tr th:only-of-type {\n",
              "        vertical-align: middle;\n",
              "    }\n",
              "\n",
              "    .dataframe tbody tr th {\n",
              "        vertical-align: top;\n",
              "    }\n",
              "\n",
              "    .dataframe thead th {\n",
              "        text-align: right;\n",
              "    }\n",
              "</style>\n",
              "<table border=\"1\" class=\"dataframe\">\n",
              "  <thead>\n",
              "    <tr style=\"text-align: right;\">\n",
              "      <th></th>\n",
              "      <th>DPTO</th>\n",
              "      <th>LOC</th>\n",
              "      <th>SECC</th>\n",
              "      <th>SEGM</th>\n",
              "      <th>PERPH02</th>\n",
              "      <th>PERNA01</th>\n",
              "      <th>PERNA02</th>\n",
              "      <th>PERMI01</th>\n",
              "      <th>PERMI01_1</th>\n",
              "      <th>PERMI01_2</th>\n",
              "      <th>PERMI01_3</th>\n",
              "      <th>PERMI01_4</th>\n",
              "      <th>PERMI02</th>\n",
              "      <th>PERMI02_1</th>\n",
              "      <th>PERMI05</th>\n",
              "      <th>PERMI05_1</th>\n",
              "      <th>PERMI06</th>\n",
              "      <th>PERMI06_1</th>\n",
              "      <th>PERMI06_2</th>\n",
              "      <th>PERMI06_3</th>\n",
              "      <th>PERMI06_4</th>\n",
              "      <th>PERMI07</th>\n",
              "      <th>PERMI07_1</th>\n",
              "      <th>PERMI07_2</th>\n",
              "      <th>PERMI07_3</th>\n",
              "      <th>PERMI07_4</th>\n",
              "    </tr>\n",
              "  </thead>\n",
              "  <tbody>\n",
              "    <tr>\n",
              "      <th>0</th>\n",
              "      <td>1</td>\n",
              "      <td>20</td>\n",
              "      <td>1</td>\n",
              "      <td>1</td>\n",
              "      <td>2</td>\n",
              "      <td>22</td>\n",
              "      <td>1988-11-01</td>\n",
              "      <td>1</td>\n",
              "      <td>NaN</td>\n",
              "      <td>NaN</td>\n",
              "      <td>NaN</td>\n",
              "      <td>0</td>\n",
              "      <td>0</td>\n",
              "      <td>0</td>\n",
              "      <td>1</td>\n",
              "      <td>0</td>\n",
              "      <td>0</td>\n",
              "      <td>NaN</td>\n",
              "      <td>NaN</td>\n",
              "      <td>NaN</td>\n",
              "      <td>0</td>\n",
              "      <td>0</td>\n",
              "      <td>NaN</td>\n",
              "      <td>NaN</td>\n",
              "      <td>NaN</td>\n",
              "      <td>0</td>\n",
              "    </tr>\n",
              "    <tr>\n",
              "      <th>1</th>\n",
              "      <td>1</td>\n",
              "      <td>20</td>\n",
              "      <td>1</td>\n",
              "      <td>1</td>\n",
              "      <td>2</td>\n",
              "      <td>84</td>\n",
              "      <td>1927-07-01</td>\n",
              "      <td>1</td>\n",
              "      <td>NaN</td>\n",
              "      <td>NaN</td>\n",
              "      <td>NaN</td>\n",
              "      <td>0</td>\n",
              "      <td>0</td>\n",
              "      <td>0</td>\n",
              "      <td>1</td>\n",
              "      <td>0</td>\n",
              "      <td>0</td>\n",
              "      <td>NaN</td>\n",
              "      <td>NaN</td>\n",
              "      <td>NaN</td>\n",
              "      <td>0</td>\n",
              "      <td>0</td>\n",
              "      <td>NaN</td>\n",
              "      <td>NaN</td>\n",
              "      <td>NaN</td>\n",
              "      <td>0</td>\n",
              "    </tr>\n",
              "  </tbody>\n",
              "</table>\n",
              "</div>"
            ],
            "text/plain": [
              "   DPTO  LOC  SECC  SEGM  ...  PERMI07_1  PERMI07_2 PERMI07_3  PERMI07_4\n",
              "0     1   20     1     1  ...        NaN        NaN       NaN          0\n",
              "1     1   20     1     1  ...        NaN        NaN       NaN          0\n",
              "\n",
              "[2 rows x 26 columns]"
            ]
          },
          "metadata": {
            "tags": []
          },
          "execution_count": 5
        }
      ]
    },
    {
      "cell_type": "code",
      "metadata": {
        "id": "3B7futUMLpDz",
        "colab_type": "code",
        "outputId": "4d74e3bd-f105-4a13-ce5a-4d8a0e9b0a55",
        "colab": {
          "base_uri": "https://localhost:8080/",
          "height": 34
        }
      },
      "source": [
        "# toma muestra del 5%\n",
        "# p = raw_data.sample(frac=0.05, random_state=1)\n",
        "raw_data.shape"
      ],
      "execution_count": 0,
      "outputs": [
        {
          "output_type": "execute_result",
          "data": {
            "text/plain": [
              "(3285877, 26)"
            ]
          },
          "metadata": {
            "tags": []
          },
          "execution_count": 7
        }
      ]
    },
    {
      "cell_type": "code",
      "metadata": {
        "id": "Xo2q8NTEWqMc",
        "colab_type": "code",
        "colab": {}
      },
      "source": [
        "# filtra por la variable PERMI06: lugar de residencia anterior\n",
        "# 1 = En otra localidad o paraje de este departamento\n",
        "# 2 = En otro departamento\n",
        "# 3 = En otro país\n",
        "\n",
        "# p_migr = raw_data[(raw_data.PERMI06 > 0) & (raw_data.PERMI06 <= 3)]\n",
        "# print(p_migr.shape)\n",
        "\n",
        "# p_migr.PERMI06.value_counts()"
      ],
      "execution_count": 0,
      "outputs": []
    },
    {
      "cell_type": "code",
      "metadata": {
        "id": "p04HSl9Aa0tb",
        "colab_type": "code",
        "colab": {}
      },
      "source": [
        "# filtra por la variable PERMI07: lugar de residencia 5 años antes\n",
        "# 2 = En otra localidad o paraje de este departamento\n",
        "# 3 = En otro departamento\n",
        "\n",
        "p_migr = raw_data[(raw_data.PERMI07 == 2) | (raw_data.PERMI07 == 3)]"
      ],
      "execution_count": 0,
      "outputs": []
    },
    {
      "cell_type": "code",
      "metadata": {
        "id": "Bm3k6guUbFsG",
        "colab_type": "code",
        "outputId": "3d1d2a37-5f32-41ba-f33f-88c88434feda",
        "colab": {
          "base_uri": "https://localhost:8080/",
          "height": 296
        }
      },
      "source": [
        "print(p_migr.shape)\n",
        "\n",
        "print(p_migr.PERMI07.value_counts())\n",
        "\n",
        "p_migr.head()\n"
      ],
      "execution_count": 18,
      "outputs": [
        {
          "output_type": "stream",
          "text": [
            "(215899, 27)\n",
            "3    148759\n",
            "2     67140\n",
            "Name: PERMI07, dtype: int64\n"
          ],
          "name": "stdout"
        },
        {
          "output_type": "execute_result",
          "data": {
            "text/html": [
              "<div>\n",
              "<style scoped>\n",
              "    .dataframe tbody tr th:only-of-type {\n",
              "        vertical-align: middle;\n",
              "    }\n",
              "\n",
              "    .dataframe tbody tr th {\n",
              "        vertical-align: top;\n",
              "    }\n",
              "\n",
              "    .dataframe thead th {\n",
              "        text-align: right;\n",
              "    }\n",
              "</style>\n",
              "<table border=\"1\" class=\"dataframe\">\n",
              "  <thead>\n",
              "    <tr style=\"text-align: right;\">\n",
              "      <th></th>\n",
              "      <th>DPTO</th>\n",
              "      <th>LOC</th>\n",
              "      <th>SECC</th>\n",
              "      <th>SEGM</th>\n",
              "      <th>PERPH02</th>\n",
              "      <th>PERNA01</th>\n",
              "      <th>PERNA02</th>\n",
              "      <th>PERMI01</th>\n",
              "      <th>PERMI01_1</th>\n",
              "      <th>PERMI01_2</th>\n",
              "      <th>PERMI01_3</th>\n",
              "      <th>PERMI01_4</th>\n",
              "      <th>PERMI02</th>\n",
              "      <th>PERMI02_1</th>\n",
              "      <th>PERMI05</th>\n",
              "      <th>PERMI05_1</th>\n",
              "      <th>PERMI06</th>\n",
              "      <th>PERMI06_1</th>\n",
              "      <th>PERMI06_2</th>\n",
              "      <th>PERMI06_3</th>\n",
              "      <th>PERMI06_4</th>\n",
              "      <th>PERMI07</th>\n",
              "      <th>PERMI07_1</th>\n",
              "      <th>PERMI07_2</th>\n",
              "      <th>PERMI07_3</th>\n",
              "      <th>PERMI07_4</th>\n",
              "      <th>resid_anterior</th>\n",
              "    </tr>\n",
              "  </thead>\n",
              "  <tbody>\n",
              "    <tr>\n",
              "      <th>5</th>\n",
              "      <td>1</td>\n",
              "      <td>020</td>\n",
              "      <td>1</td>\n",
              "      <td>1</td>\n",
              "      <td>1</td>\n",
              "      <td>24</td>\n",
              "      <td>1987-05-01</td>\n",
              "      <td>1</td>\n",
              "      <td>NaN</td>\n",
              "      <td>NaN</td>\n",
              "      <td>NaN</td>\n",
              "      <td>0</td>\n",
              "      <td>0</td>\n",
              "      <td>0</td>\n",
              "      <td>2</td>\n",
              "      <td>2</td>\n",
              "      <td>2</td>\n",
              "      <td>NaN</td>\n",
              "      <td>3.0</td>\n",
              "      <td>732.0</td>\n",
              "      <td>0</td>\n",
              "      <td>3</td>\n",
              "      <td>NaN</td>\n",
              "      <td>3.0</td>\n",
              "      <td>732.0</td>\n",
              "      <td>0</td>\n",
              "      <td>732</td>\n",
              "    </tr>\n",
              "    <tr>\n",
              "      <th>40</th>\n",
              "      <td>1</td>\n",
              "      <td>020</td>\n",
              "      <td>1</td>\n",
              "      <td>1</td>\n",
              "      <td>2</td>\n",
              "      <td>22</td>\n",
              "      <td>1988-11-01</td>\n",
              "      <td>3</td>\n",
              "      <td>NaN</td>\n",
              "      <td>5.0</td>\n",
              "      <td>422.0</td>\n",
              "      <td>0</td>\n",
              "      <td>0</td>\n",
              "      <td>0</td>\n",
              "      <td>2</td>\n",
              "      <td>4</td>\n",
              "      <td>2</td>\n",
              "      <td>NaN</td>\n",
              "      <td>17.0</td>\n",
              "      <td>220.0</td>\n",
              "      <td>0</td>\n",
              "      <td>3</td>\n",
              "      <td>NaN</td>\n",
              "      <td>17.0</td>\n",
              "      <td>220.0</td>\n",
              "      <td>0</td>\n",
              "      <td>220</td>\n",
              "    </tr>\n",
              "    <tr>\n",
              "      <th>50</th>\n",
              "      <td>1</td>\n",
              "      <td>020</td>\n",
              "      <td>1</td>\n",
              "      <td>1</td>\n",
              "      <td>1</td>\n",
              "      <td>19</td>\n",
              "      <td>1992-03-01</td>\n",
              "      <td>3</td>\n",
              "      <td>NaN</td>\n",
              "      <td>18.0</td>\n",
              "      <td>220.0</td>\n",
              "      <td>0</td>\n",
              "      <td>0</td>\n",
              "      <td>0</td>\n",
              "      <td>2</td>\n",
              "      <td>1</td>\n",
              "      <td>2</td>\n",
              "      <td>NaN</td>\n",
              "      <td>18.0</td>\n",
              "      <td>220.0</td>\n",
              "      <td>0</td>\n",
              "      <td>3</td>\n",
              "      <td>NaN</td>\n",
              "      <td>18.0</td>\n",
              "      <td>220.0</td>\n",
              "      <td>0</td>\n",
              "      <td>220</td>\n",
              "    </tr>\n",
              "    <tr>\n",
              "      <th>64</th>\n",
              "      <td>1</td>\n",
              "      <td>020</td>\n",
              "      <td>1</td>\n",
              "      <td>1</td>\n",
              "      <td>1</td>\n",
              "      <td>24</td>\n",
              "      <td>1986-12-01</td>\n",
              "      <td>3</td>\n",
              "      <td>NaN</td>\n",
              "      <td>2.0</td>\n",
              "      <td>220.0</td>\n",
              "      <td>0</td>\n",
              "      <td>0</td>\n",
              "      <td>0</td>\n",
              "      <td>2</td>\n",
              "      <td>2</td>\n",
              "      <td>2</td>\n",
              "      <td>NaN</td>\n",
              "      <td>2.0</td>\n",
              "      <td>220.0</td>\n",
              "      <td>0</td>\n",
              "      <td>3</td>\n",
              "      <td>NaN</td>\n",
              "      <td>2.0</td>\n",
              "      <td>220.0</td>\n",
              "      <td>0</td>\n",
              "      <td>220</td>\n",
              "    </tr>\n",
              "    <tr>\n",
              "      <th>110</th>\n",
              "      <td>1</td>\n",
              "      <td>020</td>\n",
              "      <td>1</td>\n",
              "      <td>1</td>\n",
              "      <td>2</td>\n",
              "      <td>28</td>\n",
              "      <td>1982-11-01</td>\n",
              "      <td>3</td>\n",
              "      <td>NaN</td>\n",
              "      <td>12.0</td>\n",
              "      <td>320.0</td>\n",
              "      <td>0</td>\n",
              "      <td>0</td>\n",
              "      <td>0</td>\n",
              "      <td>2</td>\n",
              "      <td>3</td>\n",
              "      <td>2</td>\n",
              "      <td>NaN</td>\n",
              "      <td>12.0</td>\n",
              "      <td>320.0</td>\n",
              "      <td>0</td>\n",
              "      <td>3</td>\n",
              "      <td>NaN</td>\n",
              "      <td>12.0</td>\n",
              "      <td>320.0</td>\n",
              "      <td>0</td>\n",
              "      <td>320</td>\n",
              "    </tr>\n",
              "  </tbody>\n",
              "</table>\n",
              "</div>"
            ],
            "text/plain": [
              "     DPTO  LOC  SECC  SEGM  ...  PERMI07_2  PERMI07_3 PERMI07_4  resid_anterior\n",
              "5       1  020     1     1  ...        3.0      732.0         0             732\n",
              "40      1  020     1     1  ...       17.0      220.0         0             220\n",
              "50      1  020     1     1  ...       18.0      220.0         0             220\n",
              "64      1  020     1     1  ...        2.0      220.0         0             220\n",
              "110     1  020     1     1  ...       12.0      320.0         0             320\n",
              "\n",
              "[5 rows x 27 columns]"
            ]
          },
          "metadata": {
            "tags": []
          },
          "execution_count": 18
        }
      ]
    },
    {
      "cell_type": "code",
      "metadata": {
        "id": "niUJX2auPYqP",
        "colab_type": "code",
        "colab": {
          "base_uri": "https://localhost:8080/",
          "height": 208
        },
        "outputId": "5fb0a125-b6bd-40a2-ce66-f6ddbf4b4454"
      },
      "source": [
        "# generar variable con los códigos de localidad de todos aquellos que vivian en otro lado 5 años antes\n",
        "p_migr['resid_anterior'] = p_migr.loc[:,('PERMI07_1')]\n",
        "p_migr.resid_anterior.fillna(p_migr.PERMI07_3, inplace=True)"
      ],
      "execution_count": 9,
      "outputs": [
        {
          "output_type": "stream",
          "text": [
            "/usr/local/lib/python3.6/dist-packages/ipykernel_launcher.py:2: SettingWithCopyWarning: \n",
            "A value is trying to be set on a copy of a slice from a DataFrame.\n",
            "Try using .loc[row_indexer,col_indexer] = value instead\n",
            "\n",
            "See the caveats in the documentation: https://pandas.pydata.org/pandas-docs/stable/user_guide/indexing.html#returning-a-view-versus-a-copy\n",
            "  \n",
            "/usr/local/lib/python3.6/dist-packages/pandas/core/generic.py:6245: SettingWithCopyWarning: \n",
            "A value is trying to be set on a copy of a slice from a DataFrame\n",
            "\n",
            "See the caveats in the documentation: https://pandas.pydata.org/pandas-docs/stable/user_guide/indexing.html#returning-a-view-versus-a-copy\n",
            "  self._update_inplace(new_data)\n"
          ],
          "name": "stderr"
        }
      ]
    },
    {
      "cell_type": "code",
      "metadata": {
        "id": "wHZTNXqdNv9n",
        "colab_type": "code",
        "colab": {
          "base_uri": "https://localhost:8080/",
          "height": 34
        },
        "outputId": "d9a9de1c-abdf-4519-eb8b-aef645566ec0"
      },
      "source": [
        "# cuenta NaNs, debería dar cero\n",
        "sum(pd.isnull(p_migr['resid_anterior']))"
      ],
      "execution_count": 16,
      "outputs": [
        {
          "output_type": "execute_result",
          "data": {
            "text/plain": [
              "0"
            ]
          },
          "metadata": {
            "tags": []
          },
          "execution_count": 16
        }
      ]
    },
    {
      "cell_type": "code",
      "metadata": {
        "id": "T-a89UD4V7fO",
        "colab_type": "code",
        "outputId": "965d2327-b746-415c-f5c8-10ba58007209",
        "colab": {
          "base_uri": "https://localhost:8080/",
          "height": 121
        }
      },
      "source": [
        "# cambia cóódigos de localidad a string de 3 dígitos\n",
        "p_migr.loc[:,('LOC')] = p_migr.loc[:,('LOC')].astype(str).str.zfill(3)\n",
        "\n",
        "p_migr.loc[:,('resid_anterior')] = p_migr.loc[:,('resid_anterior')].astype(int).astype(str).str.zfill(3)\n",
        "\n",
        "# faltaria ver como agregar codigos de departamentos a esto"
      ],
      "execution_count": 17,
      "outputs": [
        {
          "output_type": "stream",
          "text": [
            "/usr/local/lib/python3.6/dist-packages/pandas/core/indexing.py:966: SettingWithCopyWarning: \n",
            "A value is trying to be set on a copy of a slice from a DataFrame.\n",
            "Try using .loc[row_indexer,col_indexer] = value instead\n",
            "\n",
            "See the caveats in the documentation: https://pandas.pydata.org/pandas-docs/stable/user_guide/indexing.html#returning-a-view-versus-a-copy\n",
            "  self.obj[item] = s\n"
          ],
          "name": "stderr"
        }
      ]
    },
    {
      "cell_type": "code",
      "metadata": {
        "id": "GAz3EAAxFBfJ",
        "colab_type": "code",
        "outputId": "bf11abb2-e9db-46ca-92f7-23b2db3d15d7",
        "colab": {
          "base_uri": "https://localhost:8080/",
          "height": 330
        }
      },
      "source": [
        "# genera codlos\n",
        "p_migr['CODLOC'] =  p_migr['DPTO'].astype(str) + p_migr['LOC']\n",
        "p_migr['PERMI07_1_CODLOC'] =  p_migr['DPTO'].astype(str) + p_migr['PERMI07_1']\n",
        "p_migr['PERMI07_3_CODLOC'] =  p_migr['PERMI07_2'].astype(str) + p_migr['PERMI07_3']"
      ],
      "execution_count": 0,
      "outputs": [
        {
          "output_type": "stream",
          "text": [
            "/usr/local/lib/python3.6/dist-packages/ipykernel_launcher.py:2: SettingWithCopyWarning: \n",
            "A value is trying to be set on a copy of a slice from a DataFrame.\n",
            "Try using .loc[row_indexer,col_indexer] = value instead\n",
            "\n",
            "See the caveats in the documentation: https://pandas.pydata.org/pandas-docs/stable/user_guide/indexing.html#returning-a-view-versus-a-copy\n",
            "  \n",
            "/usr/local/lib/python3.6/dist-packages/ipykernel_launcher.py:3: SettingWithCopyWarning: \n",
            "A value is trying to be set on a copy of a slice from a DataFrame.\n",
            "Try using .loc[row_indexer,col_indexer] = value instead\n",
            "\n",
            "See the caveats in the documentation: https://pandas.pydata.org/pandas-docs/stable/user_guide/indexing.html#returning-a-view-versus-a-copy\n",
            "  This is separate from the ipykernel package so we can avoid doing imports until\n",
            "/usr/local/lib/python3.6/dist-packages/ipykernel_launcher.py:4: SettingWithCopyWarning: \n",
            "A value is trying to be set on a copy of a slice from a DataFrame.\n",
            "Try using .loc[row_indexer,col_indexer] = value instead\n",
            "\n",
            "See the caveats in the documentation: https://pandas.pydata.org/pandas-docs/stable/user_guide/indexing.html#returning-a-view-versus-a-copy\n",
            "  after removing the cwd from sys.path.\n"
          ],
          "name": "stderr"
        }
      ]
    },
    {
      "cell_type": "code",
      "metadata": {
        "id": "SssmO_tQSyFQ",
        "colab_type": "code",
        "outputId": "84f6e652-ceb1-436d-827e-fd7b5b0de262",
        "colab": {
          "base_uri": "https://localhost:8080/",
          "height": 132
        }
      },
      "source": [
        "p_migr.head(2)"
      ],
      "execution_count": 0,
      "outputs": [
        {
          "output_type": "execute_result",
          "data": {
            "text/html": [
              "<div>\n",
              "<style scoped>\n",
              "    .dataframe tbody tr th:only-of-type {\n",
              "        vertical-align: middle;\n",
              "    }\n",
              "\n",
              "    .dataframe tbody tr th {\n",
              "        vertical-align: top;\n",
              "    }\n",
              "\n",
              "    .dataframe thead th {\n",
              "        text-align: right;\n",
              "    }\n",
              "</style>\n",
              "<table border=\"1\" class=\"dataframe\">\n",
              "  <thead>\n",
              "    <tr style=\"text-align: right;\">\n",
              "      <th></th>\n",
              "      <th>DPTO</th>\n",
              "      <th>LOC</th>\n",
              "      <th>SECC</th>\n",
              "      <th>SEGM</th>\n",
              "      <th>PERPH02</th>\n",
              "      <th>PERNA01</th>\n",
              "      <th>PERNA02</th>\n",
              "      <th>PERMI01</th>\n",
              "      <th>PERMI01_1</th>\n",
              "      <th>PERMI01_2</th>\n",
              "      <th>PERMI01_3</th>\n",
              "      <th>PERMI01_4</th>\n",
              "      <th>PERMI02</th>\n",
              "      <th>PERMI02_1</th>\n",
              "      <th>PERMI05</th>\n",
              "      <th>PERMI05_1</th>\n",
              "      <th>PERMI06</th>\n",
              "      <th>PERMI06_1</th>\n",
              "      <th>PERMI06_2</th>\n",
              "      <th>PERMI06_3</th>\n",
              "      <th>PERMI06_4</th>\n",
              "      <th>PERMI07</th>\n",
              "      <th>PERMI07_1</th>\n",
              "      <th>PERMI07_2</th>\n",
              "      <th>PERMI07_3</th>\n",
              "      <th>PERMI07_4</th>\n",
              "      <th>CODLOC</th>\n",
              "      <th>PERMI07_1_CODLOC</th>\n",
              "      <th>PERMI07_3_CODLOC</th>\n",
              "    </tr>\n",
              "  </thead>\n",
              "  <tbody>\n",
              "    <tr>\n",
              "      <th>5</th>\n",
              "      <td>1</td>\n",
              "      <td>020</td>\n",
              "      <td>1</td>\n",
              "      <td>1</td>\n",
              "      <td>1</td>\n",
              "      <td>24</td>\n",
              "      <td>1987-05-01</td>\n",
              "      <td>1</td>\n",
              "      <td>NaN</td>\n",
              "      <td>NaN</td>\n",
              "      <td>NaN</td>\n",
              "      <td>0</td>\n",
              "      <td>0</td>\n",
              "      <td>0</td>\n",
              "      <td>2</td>\n",
              "      <td>2</td>\n",
              "      <td>2</td>\n",
              "      <td>NaN</td>\n",
              "      <td>3.0</td>\n",
              "      <td>732.0</td>\n",
              "      <td>0</td>\n",
              "      <td>3</td>\n",
              "      <td>nan</td>\n",
              "      <td>3.0</td>\n",
              "      <td>732.0</td>\n",
              "      <td>0</td>\n",
              "      <td>1020</td>\n",
              "      <td>1nan</td>\n",
              "      <td>3.0732.0</td>\n",
              "    </tr>\n",
              "    <tr>\n",
              "      <th>40</th>\n",
              "      <td>1</td>\n",
              "      <td>020</td>\n",
              "      <td>1</td>\n",
              "      <td>1</td>\n",
              "      <td>2</td>\n",
              "      <td>22</td>\n",
              "      <td>1988-11-01</td>\n",
              "      <td>3</td>\n",
              "      <td>NaN</td>\n",
              "      <td>5.0</td>\n",
              "      <td>422.0</td>\n",
              "      <td>0</td>\n",
              "      <td>0</td>\n",
              "      <td>0</td>\n",
              "      <td>2</td>\n",
              "      <td>4</td>\n",
              "      <td>2</td>\n",
              "      <td>NaN</td>\n",
              "      <td>17.0</td>\n",
              "      <td>220.0</td>\n",
              "      <td>0</td>\n",
              "      <td>3</td>\n",
              "      <td>nan</td>\n",
              "      <td>17.0</td>\n",
              "      <td>220.0</td>\n",
              "      <td>0</td>\n",
              "      <td>1020</td>\n",
              "      <td>1nan</td>\n",
              "      <td>17.0220.0</td>\n",
              "    </tr>\n",
              "  </tbody>\n",
              "</table>\n",
              "</div>"
            ],
            "text/plain": [
              "    DPTO  LOC  SECC  SEGM  ...  PERMI07_4  CODLOC PERMI07_1_CODLOC  PERMI07_3_CODLOC\n",
              "5      1  020     1     1  ...          0    1020             1nan          3.0732.0\n",
              "40     1  020     1     1  ...          0    1020             1nan         17.0220.0\n",
              "\n",
              "[2 rows x 29 columns]"
            ]
          },
          "metadata": {
            "tags": []
          },
          "execution_count": 66
        }
      ]
    }
  ]
}