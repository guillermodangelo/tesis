{
  "nbformat": 4,
  "nbformat_minor": 0,
  "metadata": {
    "colab": {
      "name": "0.0_data_wrangling.ipynb",
      "provenance": [],
      "collapsed_sections": [],
      "authorship_tag": "ABX9TyOJAsejro77oJK3kewchRqg",
      "include_colab_link": true
    },
    "kernelspec": {
      "name": "python3",
      "display_name": "Python 3"
    }
  },
  "cells": [
    {
      "cell_type": "markdown",
      "metadata": {
        "id": "view-in-github",
        "colab_type": "text"
      },
      "source": [
        "<a href=\"https://colab.research.google.com/github/guillermodangelo/tesis/blob/master/0_0_data_wrangling.ipynb\" target=\"_parent\"><img src=\"https://colab.research.google.com/assets/colab-badge.svg\" alt=\"Open In Colab\"/></a>"
      ]
    },
    {
      "cell_type": "code",
      "metadata": {
        "id": "HvxTqzCH8EG5",
        "colab_type": "code",
        "colab": {}
      },
      "source": [
        "import pandas as pd\n",
        "import os\n",
        "from google.colab import drive"
      ],
      "execution_count": 0,
      "outputs": []
    },
    {
      "cell_type": "code",
      "metadata": {
        "id": "R2EwnVRz8Gao",
        "colab_type": "code",
        "colab": {
          "base_uri": "https://localhost:8080/",
          "height": 124
        },
        "outputId": "22d0e7d7-b34b-49ae-8650-11212008a229"
      },
      "source": [
        "drive.mount(\"/content/drive\")"
      ],
      "execution_count": 3,
      "outputs": [
        {
          "output_type": "stream",
          "text": [
            "Go to this URL in a browser: https://accounts.google.com/o/oauth2/auth?client_id=947318989803-6bn6qk8qdgf4n4g3pfee6491hc0brc4i.apps.googleusercontent.com&redirect_uri=urn%3aietf%3awg%3aoauth%3a2.0%3aoob&response_type=code&scope=email%20https%3a%2f%2fwww.googleapis.com%2fauth%2fdocs.test%20https%3a%2f%2fwww.googleapis.com%2fauth%2fdrive%20https%3a%2f%2fwww.googleapis.com%2fauth%2fdrive.photos.readonly%20https%3a%2f%2fwww.googleapis.com%2fauth%2fpeopleapi.readonly\n",
            "\n",
            "Enter your authorization code:\n",
            "··········\n",
            "Mounted at /content/drive\n"
          ],
          "name": "stdout"
        }
      ]
    },
    {
      "cell_type": "code",
      "metadata": {
        "id": "FOSQEFIyFeM5",
        "colab_type": "code",
        "colab": {
          "base_uri": "https://localhost:8080/",
          "height": 34
        },
        "outputId": "0ebe0e45-d7d8-4174-da98-60a0370ac884"
      },
      "source": [
        "!ls \"drive/My Drive/bases_tesis/\""
      ],
      "execution_count": 16,
      "outputs": [
        {
          "output_type": "stream",
          "text": [
            "personas_censo_2011.zip\n"
          ],
          "name": "stdout"
        }
      ]
    },
    {
      "cell_type": "code",
      "metadata": {
        "id": "AIF6MK-nHEEn",
        "colab_type": "code",
        "colab": {}
      },
      "source": [
        "os.chdir('drive/My Drive/bases_tesis/')"
      ],
      "execution_count": 0,
      "outputs": []
    },
    {
      "cell_type": "code",
      "metadata": {
        "id": "5y81cBoXGySq",
        "colab_type": "code",
        "colab": {}
      },
      "source": [
        "raw_data = pd.read_csv('personas_censo_2011.zip', compression='zip', header=0, sep=',', quotechar='\"')"
      ],
      "execution_count": 0,
      "outputs": []
    },
    {
      "cell_type": "code",
      "metadata": {
        "id": "3B7futUMLpDz",
        "colab_type": "code",
        "colab": {
          "base_uri": "https://localhost:8080/",
          "height": 34
        },
        "outputId": "2708ec44-db3d-4167-f564-b4acaf09ab6c"
      },
      "source": [
        "# toma muestra del 5%\n",
        "# p = raw_data.sample(frac=0.05, random_state=1)\n",
        "p = raw_data\n",
        "p.shape"
      ],
      "execution_count": 113,
      "outputs": [
        {
          "output_type": "execute_result",
          "data": {
            "text/plain": [
              "(3285877, 26)"
            ]
          },
          "metadata": {
            "tags": []
          },
          "execution_count": 113
        }
      ]
    },
    {
      "cell_type": "code",
      "metadata": {
        "id": "Xo2q8NTEWqMc",
        "colab_type": "code",
        "colab": {}
      },
      "source": [
        "# filtra por la variable PERMI06: lugar de residencia anterior\n",
        "# 1 = En otra localidad o paraje de este departamento\n",
        "# 2 = En otro departamento\n",
        "# 3 = En otro país\n",
        "\n",
        "p_migr = p[(p.PERMI06 > 0) & (p.PERMI06 <= 3)]"
      ],
      "execution_count": 0,
      "outputs": []
    },
    {
      "cell_type": "code",
      "metadata": {
        "id": "IntVnGpHXCfv",
        "colab_type": "code",
        "colab": {
          "base_uri": "https://localhost:8080/",
          "height": 104
        },
        "outputId": "7b6931b9-6721-449c-a533-50c2cec5253f"
      },
      "source": [
        "print(p_migr.shape)\n",
        "\n",
        "p_migr.PERMI06.value_counts()"
      ],
      "execution_count": 115,
      "outputs": [
        {
          "output_type": "stream",
          "text": [
            "(1203772, 26)\n"
          ],
          "name": "stdout"
        },
        {
          "output_type": "execute_result",
          "data": {
            "text/plain": [
              "2    756007\n",
              "1    328216\n",
              "3    119549\n",
              "Name: PERMI06, dtype: int64"
            ]
          },
          "metadata": {
            "tags": []
          },
          "execution_count": 115
        }
      ]
    },
    {
      "cell_type": "code",
      "metadata": {
        "id": "p04HSl9Aa0tb",
        "colab_type": "code",
        "colab": {}
      },
      "source": [
        "# filtra por la variable PERMI07: lugar de residencia 5 años antes\n",
        "# 2 = En otra localidad o paraje de este departamento\n",
        "# 3 = En otro departamento\n",
        "\n",
        "p_migr = p[(p.PERMI07 == 2) | (p.PERMI06 == 3)]"
      ],
      "execution_count": 0,
      "outputs": []
    },
    {
      "cell_type": "code",
      "metadata": {
        "id": "Bm3k6guUbFsG",
        "colab_type": "code",
        "colab": {
          "base_uri": "https://localhost:8080/",
          "height": 104
        },
        "outputId": "a38b34a4-33c4-4d04-99da-24a7acd2ca83"
      },
      "source": [
        "print(p_migr.shape)\n",
        "\n",
        "p_migr.PERMI06.value_counts()"
      ],
      "execution_count": 117,
      "outputs": [
        {
          "output_type": "stream",
          "text": [
            "(186504, 26)\n"
          ],
          "name": "stdout"
        },
        {
          "output_type": "execute_result",
          "data": {
            "text/plain": [
              "3    119549\n",
              "1     64687\n",
              "2      2268\n",
              "Name: PERMI06, dtype: int64"
            ]
          },
          "metadata": {
            "tags": []
          },
          "execution_count": 117
        }
      ]
    },
    {
      "cell_type": "code",
      "metadata": {
        "id": "lWUE_vOLHdtc",
        "colab_type": "code",
        "colab": {
          "base_uri": "https://localhost:8080/",
          "height": 132
        },
        "outputId": "f4a6197b-a4e1-4e9e-cfcf-22a48294c03c"
      },
      "source": [
        "p_migr.head(2)"
      ],
      "execution_count": 102,
      "outputs": [
        {
          "output_type": "execute_result",
          "data": {
            "text/html": [
              "<div>\n",
              "<style scoped>\n",
              "    .dataframe tbody tr th:only-of-type {\n",
              "        vertical-align: middle;\n",
              "    }\n",
              "\n",
              "    .dataframe tbody tr th {\n",
              "        vertical-align: top;\n",
              "    }\n",
              "\n",
              "    .dataframe thead th {\n",
              "        text-align: right;\n",
              "    }\n",
              "</style>\n",
              "<table border=\"1\" class=\"dataframe\">\n",
              "  <thead>\n",
              "    <tr style=\"text-align: right;\">\n",
              "      <th></th>\n",
              "      <th>DPTO</th>\n",
              "      <th>LOC</th>\n",
              "      <th>SECC</th>\n",
              "      <th>SEGM</th>\n",
              "      <th>PERPH02</th>\n",
              "      <th>PERNA01</th>\n",
              "      <th>PERNA02</th>\n",
              "      <th>PERMI01</th>\n",
              "      <th>PERMI01_1</th>\n",
              "      <th>PERMI01_2</th>\n",
              "      <th>PERMI01_3</th>\n",
              "      <th>PERMI01_4</th>\n",
              "      <th>PERMI02</th>\n",
              "      <th>PERMI02_1</th>\n",
              "      <th>PERMI05</th>\n",
              "      <th>PERMI05_1</th>\n",
              "      <th>PERMI06</th>\n",
              "      <th>PERMI06_1</th>\n",
              "      <th>PERMI06_2</th>\n",
              "      <th>PERMI06_3</th>\n",
              "      <th>PERMI06_4</th>\n",
              "      <th>PERMI07</th>\n",
              "      <th>PERMI07_1</th>\n",
              "      <th>PERMI07_2</th>\n",
              "      <th>PERMI07_3</th>\n",
              "      <th>PERMI07_4</th>\n",
              "    </tr>\n",
              "  </thead>\n",
              "  <tbody>\n",
              "    <tr>\n",
              "      <th>99059</th>\n",
              "      <td>1</td>\n",
              "      <td>20</td>\n",
              "      <td>9</td>\n",
              "      <td>33</td>\n",
              "      <td>1</td>\n",
              "      <td>18</td>\n",
              "      <td>1993-09-01</td>\n",
              "      <td>1</td>\n",
              "      <td>NaN</td>\n",
              "      <td>NaN</td>\n",
              "      <td>NaN</td>\n",
              "      <td>0</td>\n",
              "      <td>0</td>\n",
              "      <td>0</td>\n",
              "      <td>1</td>\n",
              "      <td>0</td>\n",
              "      <td>0</td>\n",
              "      <td>NaN</td>\n",
              "      <td>NaN</td>\n",
              "      <td>NaN</td>\n",
              "      <td>0</td>\n",
              "      <td>0</td>\n",
              "      <td>NaN</td>\n",
              "      <td>NaN</td>\n",
              "      <td>NaN</td>\n",
              "      <td>0</td>\n",
              "    </tr>\n",
              "    <tr>\n",
              "      <th>1611816</th>\n",
              "      <td>3</td>\n",
              "      <td>732</td>\n",
              "      <td>37</td>\n",
              "      <td>974</td>\n",
              "      <td>1</td>\n",
              "      <td>21</td>\n",
              "      <td>1990-08-01</td>\n",
              "      <td>3</td>\n",
              "      <td>NaN</td>\n",
              "      <td>1.0</td>\n",
              "      <td>20.0</td>\n",
              "      <td>0</td>\n",
              "      <td>0</td>\n",
              "      <td>0</td>\n",
              "      <td>2</td>\n",
              "      <td>3</td>\n",
              "      <td>2</td>\n",
              "      <td>NaN</td>\n",
              "      <td>5.0</td>\n",
              "      <td>320.0</td>\n",
              "      <td>0</td>\n",
              "      <td>2</td>\n",
              "      <td>525.0</td>\n",
              "      <td>NaN</td>\n",
              "      <td>NaN</td>\n",
              "      <td>0</td>\n",
              "    </tr>\n",
              "  </tbody>\n",
              "</table>\n",
              "</div>"
            ],
            "text/plain": [
              "         DPTO  LOC  SECC  SEGM  ...  PERMI07_1  PERMI07_2 PERMI07_3  PERMI07_4\n",
              "99059       1   20     9    33  ...        NaN        NaN       NaN          0\n",
              "1611816     3  732    37   974  ...      525.0        NaN       NaN          0\n",
              "\n",
              "[2 rows x 26 columns]"
            ]
          },
          "metadata": {
            "tags": []
          },
          "execution_count": 102
        }
      ]
    },
    {
      "cell_type": "code",
      "metadata": {
        "id": "gihZvpViXYod",
        "colab_type": "code",
        "colab": {}
      },
      "source": [
        ""
      ],
      "execution_count": 0,
      "outputs": []
    },
    {
      "cell_type": "code",
      "metadata": {
        "id": "T-a89UD4V7fO",
        "colab_type": "code",
        "colab": {}
      },
      "source": [
        "p['LOC'] = p['LOC'].astype(str)"
      ],
      "execution_count": 0,
      "outputs": []
    },
    {
      "cell_type": "code",
      "metadata": {
        "id": "SssmO_tQSyFQ",
        "colab_type": "code",
        "colab": {}
      },
      "source": [
        "p['CODLOC'] =  p['DPTO'].astype(str) + p['LOC'].str.zfill(3)"
      ],
      "execution_count": 0,
      "outputs": []
    },
    {
      "cell_type": "code",
      "metadata": {
        "id": "KAPUr-p4WWmd",
        "colab_type": "code",
        "colab": {}
      },
      "source": [
        ""
      ],
      "execution_count": 0,
      "outputs": []
    }
  ]
}