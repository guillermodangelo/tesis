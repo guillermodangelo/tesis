{
 "cells": [
  {
   "cell_type": "code",
   "execution_count": 4,
   "metadata": {},
   "outputs": [],
   "source": [
    "import pandas as pd\n",
    "import numpy as np\n",
    "import statsmodels.api as sm\n",
    "\n",
    "from functions.cargar_data import *\n"
   ]
  },
  {
   "cell_type": "code",
   "execution_count": 3,
   "metadata": {},
   "outputs": [
    {
     "data": {
      "text/plain": [
       "<statsmodels.genmod.generalized_linear_model.GLMResultsWrapper at 0x1fcccd39bb0>"
      ]
     },
     "execution_count": 3,
     "metadata": {},
     "output_type": "execute_result"
    }
   ],
   "source": [
    "prodSim = sm.load('modelos/restringido_origen_mvo.pickle')\n",
    "prodSim"
   ]
  },
  {
   "cell_type": "code",
   "execution_count": 5,
   "metadata": {},
   "outputs": [
    {
     "name": "stdout",
     "output_type": "stream",
     "text": [
      "(342, 40)\n"
     ]
    },
    {
     "data": {
      "text/html": [
       "<div>\n",
       "<style scoped>\n",
       "    .dataframe tbody tr th:only-of-type {\n",
       "        vertical-align: middle;\n",
       "    }\n",
       "\n",
       "    .dataframe tbody tr th {\n",
       "        vertical-align: top;\n",
       "    }\n",
       "\n",
       "    .dataframe thead th {\n",
       "        text-align: right;\n",
       "    }\n",
       "</style>\n",
       "<table border=\"1\" class=\"dataframe\">\n",
       "  <thead>\n",
       "    <tr style=\"text-align: right;\">\n",
       "      <th></th>\n",
       "      <th>cod</th>\n",
       "      <th>depto_origen</th>\n",
       "      <th>depto_destino</th>\n",
       "      <th>personas_mig</th>\n",
       "      <th>personas_mig_18_25</th>\n",
       "      <th>personas_mig_26_35</th>\n",
       "      <th>personas_mig_100k</th>\n",
       "      <th>pob_origen</th>\n",
       "      <th>pob_destino</th>\n",
       "      <th>dist</th>\n",
       "      <th>...</th>\n",
       "      <th>porc_ocupados_des</th>\n",
       "      <th>log_pbi_destino</th>\n",
       "      <th>log_dist_km</th>\n",
       "      <th>log_pbi_origen_millardos</th>\n",
       "      <th>log_pbi_destino_millardos</th>\n",
       "      <th>log_pob_destino_k</th>\n",
       "      <th>log_pob_origen_k</th>\n",
       "      <th>log_edad_prom_des</th>\n",
       "      <th>log_porc_ocupados_des</th>\n",
       "      <th>largo_limite_km</th>\n",
       "    </tr>\n",
       "  </thead>\n",
       "  <tbody>\n",
       "    <tr>\n",
       "      <th>0</th>\n",
       "      <td>102</td>\n",
       "      <td>1</td>\n",
       "      <td>2</td>\n",
       "      <td>914</td>\n",
       "      <td>114</td>\n",
       "      <td>247</td>\n",
       "      <td>891</td>\n",
       "      <td>1318755</td>\n",
       "      <td>73377</td>\n",
       "      <td>610726</td>\n",
       "      <td>...</td>\n",
       "      <td>63.540489</td>\n",
       "      <td>16.469807</td>\n",
       "      <td>6.415097</td>\n",
       "      <td>6.143859</td>\n",
       "      <td>2.654298</td>\n",
       "      <td>4.295611</td>\n",
       "      <td>7.184443</td>\n",
       "      <td>3.525387</td>\n",
       "      <td>4.151677</td>\n",
       "      <td>1.000000e-07</td>\n",
       "    </tr>\n",
       "    <tr>\n",
       "      <th>1</th>\n",
       "      <td>302</td>\n",
       "      <td>3</td>\n",
       "      <td>2</td>\n",
       "      <td>74</td>\n",
       "      <td>9</td>\n",
       "      <td>22</td>\n",
       "      <td>70</td>\n",
       "      <td>520173</td>\n",
       "      <td>73377</td>\n",
       "      <td>601915</td>\n",
       "      <td>...</td>\n",
       "      <td>63.540489</td>\n",
       "      <td>16.469807</td>\n",
       "      <td>6.400257</td>\n",
       "      <td>4.457899</td>\n",
       "      <td>2.654298</td>\n",
       "      <td>4.295611</td>\n",
       "      <td>6.254161</td>\n",
       "      <td>3.525387</td>\n",
       "      <td>4.151677</td>\n",
       "      <td>1.000000e-07</td>\n",
       "    </tr>\n",
       "  </tbody>\n",
       "</table>\n",
       "<p>2 rows × 40 columns</p>\n",
       "</div>"
      ],
      "text/plain": [
       "   cod  depto_origen  depto_destino  personas_mig  personas_mig_18_25  \\\n",
       "0  102             1              2           914                 114   \n",
       "1  302             3              2            74                   9   \n",
       "\n",
       "   personas_mig_26_35  personas_mig_100k  pob_origen  pob_destino    dist  \\\n",
       "0                 247                891     1318755        73377  610726   \n",
       "1                  22                 70      520173        73377  601915   \n",
       "\n",
       "   ...  porc_ocupados_des  log_pbi_destino  log_dist_km  \\\n",
       "0  ...          63.540489        16.469807     6.415097   \n",
       "1  ...          63.540489        16.469807     6.400257   \n",
       "\n",
       "   log_pbi_origen_millardos  log_pbi_destino_millardos  log_pob_destino_k  \\\n",
       "0                  6.143859                   2.654298           4.295611   \n",
       "1                  4.457899                   2.654298           4.295611   \n",
       "\n",
       "   log_pob_origen_k  log_edad_prom_des  log_porc_ocupados_des  largo_limite_km  \n",
       "0          7.184443           3.525387               4.151677     1.000000e-07  \n",
       "1          6.254161           3.525387               4.151677     1.000000e-07  \n",
       "\n",
       "[2 rows x 40 columns]"
      ]
     },
     "execution_count": 5,
     "metadata": {},
     "output_type": "execute_result"
    }
   ],
   "source": [
    "# carga datos diádicos\n",
    "dd_deptos = pd.read_csv('tablas/dd_deptos.csv', sep=';', decimal=',')\n",
    "print(dd_deptos.shape)\n",
    "dd_deptos.head(2)"
   ]
  },
  {
   "cell_type": "code",
   "execution_count": null,
   "metadata": {},
   "outputs": [],
   "source": []
  }
 ],
 "metadata": {
  "interpreter": {
   "hash": "1effbdfa06a81f3a4c0c54936ffce9cdf44db9b9a94a63d88b3edbca184f5b7f"
  },
  "kernelspec": {
   "display_name": "Python 3.9.9 64-bit ('tableros': conda)",
   "language": "python",
   "name": "python3"
  },
  "language_info": {
   "codemirror_mode": {
    "name": "ipython",
    "version": 3
   },
   "file_extension": ".py",
   "mimetype": "text/x-python",
   "name": "python",
   "nbconvert_exporter": "python",
   "pygments_lexer": "ipython3",
   "version": "3.9.9"
  },
  "orig_nbformat": 4
 },
 "nbformat": 4,
 "nbformat_minor": 2
}
