{
 "cells": [
  {
   "cell_type": "code",
   "execution_count": 1,
   "id": "dec27b8a",
   "metadata": {},
   "outputs": [
    {
     "ename": "KeyboardInterrupt",
     "evalue": "",
     "output_type": "error",
     "traceback": [
      "\u001b[1;31m---------------------------------------------------------------------------\u001b[0m",
      "\u001b[1;31mKeyboardInterrupt\u001b[0m                         Traceback (most recent call last)",
      "\u001b[1;32m<ipython-input-1-c30203f953b7>\u001b[0m in \u001b[0;36m<module>\u001b[1;34m\u001b[0m\n\u001b[1;32m----> 1\u001b[1;33m \u001b[1;32mimport\u001b[0m \u001b[0mpandas\u001b[0m \u001b[1;32mas\u001b[0m \u001b[0mpd\u001b[0m\u001b[1;33m\u001b[0m\u001b[1;33m\u001b[0m\u001b[0m\n\u001b[0m\u001b[0;32m      2\u001b[0m \u001b[1;33m\u001b[0m\u001b[0m\n\u001b[0;32m      3\u001b[0m \u001b[1;32mfrom\u001b[0m \u001b[0mfunctions\u001b[0m\u001b[1;33m.\u001b[0m\u001b[0mcargar_data\u001b[0m \u001b[1;32mimport\u001b[0m \u001b[1;33m*\u001b[0m\u001b[1;33m\u001b[0m\u001b[1;33m\u001b[0m\u001b[0m\n",
      "\u001b[1;32m~\\anaconda3\\envs\\tesis\\lib\\site-packages\\pandas\\__init__.py\u001b[0m in \u001b[0;36m<module>\u001b[1;34m\u001b[0m\n\u001b[0;32m     49\u001b[0m \u001b[1;32mimport\u001b[0m \u001b[0mpandas\u001b[0m\u001b[1;33m.\u001b[0m\u001b[0mcore\u001b[0m\u001b[1;33m.\u001b[0m\u001b[0mconfig_init\u001b[0m\u001b[1;33m\u001b[0m\u001b[1;33m\u001b[0m\u001b[0m\n\u001b[0;32m     50\u001b[0m \u001b[1;33m\u001b[0m\u001b[0m\n\u001b[1;32m---> 51\u001b[1;33m from pandas.core.api import (\n\u001b[0m\u001b[0;32m     52\u001b[0m     \u001b[1;31m# dtype\u001b[0m\u001b[1;33m\u001b[0m\u001b[1;33m\u001b[0m\u001b[1;33m\u001b[0m\u001b[0m\n\u001b[0;32m     53\u001b[0m     \u001b[0mInt8Dtype\u001b[0m\u001b[1;33m,\u001b[0m\u001b[1;33m\u001b[0m\u001b[1;33m\u001b[0m\u001b[0m\n",
      "\u001b[1;32m~\\anaconda3\\envs\\tesis\\lib\\site-packages\\pandas\\core\\api.py\u001b[0m in \u001b[0;36m<module>\u001b[1;34m\u001b[0m\n\u001b[0;32m     29\u001b[0m \u001b[1;32mfrom\u001b[0m \u001b[0mpandas\u001b[0m\u001b[1;33m.\u001b[0m\u001b[0mcore\u001b[0m\u001b[1;33m.\u001b[0m\u001b[0mconstruction\u001b[0m \u001b[1;32mimport\u001b[0m \u001b[0marray\u001b[0m\u001b[1;33m\u001b[0m\u001b[1;33m\u001b[0m\u001b[0m\n\u001b[0;32m     30\u001b[0m \u001b[1;32mfrom\u001b[0m \u001b[0mpandas\u001b[0m\u001b[1;33m.\u001b[0m\u001b[0mcore\u001b[0m\u001b[1;33m.\u001b[0m\u001b[0mflags\u001b[0m \u001b[1;32mimport\u001b[0m \u001b[0mFlags\u001b[0m\u001b[1;33m\u001b[0m\u001b[1;33m\u001b[0m\u001b[0m\n\u001b[1;32m---> 31\u001b[1;33m \u001b[1;32mfrom\u001b[0m \u001b[0mpandas\u001b[0m\u001b[1;33m.\u001b[0m\u001b[0mcore\u001b[0m\u001b[1;33m.\u001b[0m\u001b[0mgroupby\u001b[0m \u001b[1;32mimport\u001b[0m \u001b[0mGrouper\u001b[0m\u001b[1;33m,\u001b[0m \u001b[0mNamedAgg\u001b[0m\u001b[1;33m\u001b[0m\u001b[1;33m\u001b[0m\u001b[0m\n\u001b[0m\u001b[0;32m     32\u001b[0m from pandas.core.indexes.api import (\n\u001b[0;32m     33\u001b[0m     \u001b[0mCategoricalIndex\u001b[0m\u001b[1;33m,\u001b[0m\u001b[1;33m\u001b[0m\u001b[1;33m\u001b[0m\u001b[0m\n",
      "\u001b[1;32m~\\anaconda3\\envs\\tesis\\lib\\site-packages\\pandas\\core\\groupby\\__init__.py\u001b[0m in \u001b[0;36m<module>\u001b[1;34m\u001b[0m\n\u001b[1;32m----> 1\u001b[1;33m \u001b[1;32mfrom\u001b[0m \u001b[0mpandas\u001b[0m\u001b[1;33m.\u001b[0m\u001b[0mcore\u001b[0m\u001b[1;33m.\u001b[0m\u001b[0mgroupby\u001b[0m\u001b[1;33m.\u001b[0m\u001b[0mgeneric\u001b[0m \u001b[1;32mimport\u001b[0m \u001b[0mDataFrameGroupBy\u001b[0m\u001b[1;33m,\u001b[0m \u001b[0mNamedAgg\u001b[0m\u001b[1;33m,\u001b[0m \u001b[0mSeriesGroupBy\u001b[0m\u001b[1;33m\u001b[0m\u001b[1;33m\u001b[0m\u001b[0m\n\u001b[0m\u001b[0;32m      2\u001b[0m \u001b[1;32mfrom\u001b[0m \u001b[0mpandas\u001b[0m\u001b[1;33m.\u001b[0m\u001b[0mcore\u001b[0m\u001b[1;33m.\u001b[0m\u001b[0mgroupby\u001b[0m\u001b[1;33m.\u001b[0m\u001b[0mgroupby\u001b[0m \u001b[1;32mimport\u001b[0m \u001b[0mGroupBy\u001b[0m\u001b[1;33m\u001b[0m\u001b[1;33m\u001b[0m\u001b[0m\n\u001b[0;32m      3\u001b[0m \u001b[1;32mfrom\u001b[0m \u001b[0mpandas\u001b[0m\u001b[1;33m.\u001b[0m\u001b[0mcore\u001b[0m\u001b[1;33m.\u001b[0m\u001b[0mgroupby\u001b[0m\u001b[1;33m.\u001b[0m\u001b[0mgrouper\u001b[0m \u001b[1;32mimport\u001b[0m \u001b[0mGrouper\u001b[0m\u001b[1;33m\u001b[0m\u001b[1;33m\u001b[0m\u001b[0m\n\u001b[0;32m      4\u001b[0m \u001b[1;33m\u001b[0m\u001b[0m\n\u001b[0;32m      5\u001b[0m __all__ = [\n",
      "\u001b[1;32m~\\anaconda3\\envs\\tesis\\lib\\site-packages\\pandas\\core\\groupby\\generic.py\u001b[0m in \u001b[0;36m<module>\u001b[1;34m\u001b[0m\n\u001b[0;32m     30\u001b[0m \u001b[1;32mimport\u001b[0m \u001b[0mnumpy\u001b[0m \u001b[1;32mas\u001b[0m \u001b[0mnp\u001b[0m\u001b[1;33m\u001b[0m\u001b[1;33m\u001b[0m\u001b[0m\n\u001b[0;32m     31\u001b[0m \u001b[1;33m\u001b[0m\u001b[0m\n\u001b[1;32m---> 32\u001b[1;33m \u001b[1;32mfrom\u001b[0m \u001b[0mpandas\u001b[0m\u001b[1;33m.\u001b[0m\u001b[0m_libs\u001b[0m \u001b[1;32mimport\u001b[0m \u001b[0mlib\u001b[0m\u001b[1;33m,\u001b[0m \u001b[0mreduction\u001b[0m \u001b[1;32mas\u001b[0m \u001b[0mlibreduction\u001b[0m\u001b[1;33m\u001b[0m\u001b[1;33m\u001b[0m\u001b[0m\n\u001b[0m\u001b[0;32m     33\u001b[0m \u001b[1;32mfrom\u001b[0m \u001b[0mpandas\u001b[0m\u001b[1;33m.\u001b[0m\u001b[0m_typing\u001b[0m \u001b[1;32mimport\u001b[0m \u001b[0mArrayLike\u001b[0m\u001b[1;33m,\u001b[0m \u001b[0mFrameOrSeries\u001b[0m\u001b[1;33m,\u001b[0m \u001b[0mFrameOrSeriesUnion\u001b[0m\u001b[1;33m,\u001b[0m \u001b[0mLabel\u001b[0m\u001b[1;33m\u001b[0m\u001b[1;33m\u001b[0m\u001b[0m\n\u001b[0;32m     34\u001b[0m \u001b[1;32mfrom\u001b[0m \u001b[0mpandas\u001b[0m\u001b[1;33m.\u001b[0m\u001b[0mutil\u001b[0m\u001b[1;33m.\u001b[0m\u001b[0m_decorators\u001b[0m \u001b[1;32mimport\u001b[0m \u001b[0mAppender\u001b[0m\u001b[1;33m,\u001b[0m \u001b[0mSubstitution\u001b[0m\u001b[1;33m,\u001b[0m \u001b[0mdoc\u001b[0m\u001b[1;33m\u001b[0m\u001b[1;33m\u001b[0m\u001b[0m\n",
      "\u001b[1;32m~\\anaconda3\\envs\\tesis\\lib\\importlib\\_bootstrap.py\u001b[0m in \u001b[0;36mparent\u001b[1;34m(self)\u001b[0m\n",
      "\u001b[1;31mKeyboardInterrupt\u001b[0m: "
     ]
    }
   ],
   "source": [
    "import pandas as pd\n",
    "import numpy as np\n",
    "\n",
    "from functions.cargar_data import *"
   ]
  },
  {
   "cell_type": "code",
   "execution_count": null,
   "id": "e2d4f491",
   "metadata": {},
   "outputs": [],
   "source": [
    "atr1996 = pd.read_csv('tablas/atractividad_1996.csv',\n",
    "                      index_col='deptos')\n",
    "atr1996"
   ]
  },
  {
   "cell_type": "code",
   "execution_count": null,
   "id": "315bdd94",
   "metadata": {},
   "outputs": [],
   "source": [
    "# guarda como numpy array \n",
    "atr1996_ar = np.array(atr1996)"
   ]
  },
  {
   "cell_type": "code",
   "execution_count": null,
   "id": "aac9c120",
   "metadata": {},
   "outputs": [],
   "source": [
    "p_migr = cargar_migrantes_internos()\n",
    "p_migr"
   ]
  },
  {
   "cell_type": "code",
   "execution_count": null,
   "id": "94d30f18",
   "metadata": {},
   "outputs": [],
   "source": [
    "pobl = recuperar_poblacion_2011()\n",
    "pobl.head(3)"
   ]
  },
  {
   "cell_type": "code",
   "execution_count": null,
   "id": "1b30d7d4",
   "metadata": {},
   "outputs": [],
   "source": [
    "# genera un sólo dataframe solo para deptos\n",
    "flujos_deptos = p_migr.loc[p_migr.depto_origen != p_migr.depto_destino, ['depto_origen', 'depto_destino']]\n",
    "grupo = flujos_deptos.groupby(by=['depto_origen', 'depto_destino']).size()\n",
    "grupo = pd.DataFrame(grupo, columns=['Mij']).reset_index()\n",
    "grupo.head()"
   ]
  },
  {
   "cell_type": "code",
   "execution_count": null,
   "id": "bed1925c",
   "metadata": {},
   "outputs": [],
   "source": [
    "# genera un sólo dataframe solo para deptos\n",
    "flujos_deptos = p_migr.loc[p_migr.depto_origen != p_migr.depto_destino, ['depto_origen', 'depto_destino']]\n",
    "Mji = list(flujos_deptos.groupby(by=['depto_destino', 'depto_origen']).size())\n",
    "grupo['Mji'] = Mji\n",
    "grupo.head()"
   ]
  },
  {
   "cell_type": "code",
   "execution_count": null,
   "id": "d62ba970",
   "metadata": {},
   "outputs": [],
   "source": [
    "grupo_pob = grupo.merge(pobl, left_on='depto_origen', right_on='DPTO')\n",
    "grupo_pob = grupo_pob.merge(pobl, left_on='depto_destino', right_on='DPTO')\n",
    "grupo_pob.drop(['DPTO_x', 'DPTO_y'], axis=1, inplace=True)\n",
    "grupo_pob.rename({'poblacion_x': 'Pi', 'poblacion_y': 'Pj'}, inplace=True, axis=1)\n",
    "grupo_pob.head()"
   ]
  },
  {
   "cell_type": "code",
   "execution_count": null,
   "id": "cb7169d5",
   "metadata": {},
   "outputs": [],
   "source": [
    "# calcula cam\n",
    "grupo_pob['cam'] = (grupo_pob.Mij + grupo_pob.Mji) / (grupo_pob.Pi + grupo_pob.Pj) * 1000\n",
    "\n",
    "# redondea\n",
    "grupo_pob['cam_round'] = round(grupo_pob.cam).astype(int)"
   ]
  },
  {
   "cell_type": "code",
   "execution_count": null,
   "id": "843c58e1",
   "metadata": {},
   "outputs": [],
   "source": [
    "atr2011 = pd.pivot_table(grupo_pob,\n",
    "                        values='cam_round',\n",
    "                        index ='depto_origen',\n",
    "                        columns='depto_destino',\n",
    "                        fill_value=0).iloc[1:19, 0:18]\n",
    "\n",
    "atr2011"
   ]
  },
  {
   "cell_type": "code",
   "execution_count": null,
   "id": "10714443",
   "metadata": {},
   "outputs": [],
   "source": [
    "# convierte en array y reemplaza el triángulo superior por ceros\n",
    "atr2011_ar = np.tril(np.array(atr2011))\n",
    "print(atr2011_ar)"
   ]
  },
  {
   "cell_type": "code",
   "execution_count": null,
   "id": "5969a566",
   "metadata": {},
   "outputs": [],
   "source": [
    "np.nanmax((atr2011_ar - atr1996_ar))"
   ]
  },
  {
   "cell_type": "code",
   "execution_count": null,
   "id": "634eab74",
   "metadata": {},
   "outputs": [],
   "source": []
  }
 ],
 "metadata": {
  "kernelspec": {
   "display_name": "Python (tesis)",
   "language": "python",
   "name": "tesis"
  },
  "language_info": {
   "codemirror_mode": {
    "name": "ipython",
    "version": 3
   },
   "file_extension": ".py",
   "mimetype": "text/x-python",
   "name": "python",
   "nbconvert_exporter": "python",
   "pygments_lexer": "ipython3",
   "version": "3.8.8"
  }
 },
 "nbformat": 4,
 "nbformat_minor": 5
}
