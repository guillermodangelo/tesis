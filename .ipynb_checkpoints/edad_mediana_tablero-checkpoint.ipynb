{
 "cells": [
  {
   "cell_type": "code",
   "execution_count": 1,
   "id": "5ded76bd",
   "metadata": {},
   "outputs": [],
   "source": [
    "import pandas as pd\n",
    "import numpy as np\n",
    "from functions.cargar_data import *\n",
    "\n",
    "p_migr = cargar_migrantes_internos()"
   ]
  },
  {
   "cell_type": "code",
   "execution_count": 3,
   "id": "62fba1e4",
   "metadata": {},
   "outputs": [],
   "source": [
    "col = ['PERNA01']\n",
    "\n",
    "edad = cargar_censo_vars(col)"
   ]
  },
  {
   "cell_type": "code",
   "execution_count": 11,
   "id": "e8a5b4ae",
   "metadata": {},
   "outputs": [
    {
     "data": {
      "text/plain": [
       "34.0"
      ]
     },
     "execution_count": 11,
     "metadata": {},
     "output_type": "execute_result"
    }
   ],
   "source": [
    "np.median(edad)"
   ]
  },
  {
   "cell_type": "code",
   "execution_count": 12,
   "id": "ce630910",
   "metadata": {},
   "outputs": [
    {
     "data": {
      "text/plain": [
       "28.0"
      ]
     },
     "execution_count": 12,
     "metadata": {},
     "output_type": "execute_result"
    }
   ],
   "source": [
    "np.median(p_migr.PERNA01)"
   ]
  },
  {
   "cell_type": "code",
   "execution_count": null,
   "id": "df93ab4a",
   "metadata": {},
   "outputs": [],
   "source": []
  }
 ],
 "metadata": {
  "kernelspec": {
   "display_name": "Python 3",
   "language": "python",
   "name": "python3"
  },
  "language_info": {
   "codemirror_mode": {
    "name": "ipython",
    "version": 3
   },
   "file_extension": ".py",
   "mimetype": "text/x-python",
   "name": "python",
   "nbconvert_exporter": "python",
   "pygments_lexer": "ipython3",
   "version": "3.7.10"
  }
 },
 "nbformat": 4,
 "nbformat_minor": 5
}
