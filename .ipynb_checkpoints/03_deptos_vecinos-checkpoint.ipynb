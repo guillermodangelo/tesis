{
 "cells": [
  {
   "cell_type": "code",
   "execution_count": 9,
   "id": "7a6d196b",
   "metadata": {},
   "outputs": [],
   "source": [
    "import pandas as pd\n",
    "# import numpy as np\n",
    "import fiona\n",
    "from shapely.geometry import shape, mapping\n",
    "import itertools\n",
    "from collections import OrderedDict"
   ]
  },
  {
   "cell_type": "code",
   "execution_count": 18,
   "id": "cd20c4ec",
   "metadata": {},
   "outputs": [],
   "source": [
    "# load the shapefile as an iterable\n",
    "polys = fiona.open(\"capas/ine_deptos_generalizada.gpkg\")"
   ]
  },
  {
   "cell_type": "code",
   "execution_count": 97,
   "id": "b5211aa8",
   "metadata": {},
   "outputs": [],
   "source": [
    "def shared_boundary(file):\n",
    "    polys = fiona.open(file)\n",
    "    shared = []\n",
    "\n",
    "    for pol1, pol2 in  itertools.combinations(polys, 2):\n",
    "        geompol1 = shape(pol1['geometry'])\n",
    "        geompol2 = shape(pol2['geometry'])\n",
    "        if geompol1.touches(geompol2):\n",
    "            length = shape(mapping(geompol1.intersection(geompol2))).length\n",
    "            shared.append([tuple(pol1['properties'].items())[0], tuple(pol2['properties'].items())[0], int(length)])\n",
    "    \n",
    "    shared = list(zip([x[0][1] for x in shared],\n",
    "                  [x[1][1] for x in shared],\n",
    "                  [x[2] for x in shared]                  \n",
    "                 ))\n",
    "    \n",
    "    df = pd.DataFrame(shared, columns=['poly1', 'poly2', 'length']).sort_values(by=['poly1', 'poly2'])\n",
    "    df = df.loc[df.length > 0].reset_index(drop=True)\n",
    "\n",
    "    return df"
   ]
  },
  {
   "cell_type": "code",
   "execution_count": 98,
   "id": "04211b3f",
   "metadata": {},
   "outputs": [
    {
     "name": "stderr",
     "output_type": "stream",
     "text": [
      "<ipython-input-97-e1da82376c14>:5: RuntimeWarning: Sequential read of iterator was interrupted. Resetting iterator. This can negatively impact the performance.\n",
      "  for pol1, pol2 in  itertools.combinations(polys, 2):\n"
     ]
    }
   ],
   "source": [
    "file=\"capas/ine_deptos_generalizada.gpkg\"\n",
    "\n",
    "df = shared_boundary(file)\n"
   ]
  },
  {
   "cell_type": "code",
   "execution_count": 99,
   "id": "a29bac96",
   "metadata": {},
   "outputs": [
    {
     "data": {
      "text/html": [
       "<div>\n",
       "<style scoped>\n",
       "    .dataframe tbody tr th:only-of-type {\n",
       "        vertical-align: middle;\n",
       "    }\n",
       "\n",
       "    .dataframe tbody tr th {\n",
       "        vertical-align: top;\n",
       "    }\n",
       "\n",
       "    .dataframe thead th {\n",
       "        text-align: right;\n",
       "    }\n",
       "</style>\n",
       "<table border=\"1\" class=\"dataframe\">\n",
       "  <thead>\n",
       "    <tr style=\"text-align: right;\">\n",
       "      <th></th>\n",
       "      <th>dep1</th>\n",
       "      <th>dep2</th>\n",
       "      <th>largo_limite</th>\n",
       "    </tr>\n",
       "  </thead>\n",
       "  <tbody>\n",
       "    <tr>\n",
       "      <th>0</th>\n",
       "      <td>3</td>\n",
       "      <td>1</td>\n",
       "      <td>60107</td>\n",
       "    </tr>\n",
       "    <tr>\n",
       "      <th>1</th>\n",
       "      <td>3</td>\n",
       "      <td>8</td>\n",
       "      <td>94070</td>\n",
       "    </tr>\n",
       "    <tr>\n",
       "      <th>2</th>\n",
       "      <td>3</td>\n",
       "      <td>9</td>\n",
       "      <td>51167</td>\n",
       "    </tr>\n",
       "    <tr>\n",
       "      <th>3</th>\n",
       "      <td>3</td>\n",
       "      <td>10</td>\n",
       "      <td>24113</td>\n",
       "    </tr>\n",
       "    <tr>\n",
       "      <th>4</th>\n",
       "      <td>3</td>\n",
       "      <td>16</td>\n",
       "      <td>48749</td>\n",
       "    </tr>\n",
       "  </tbody>\n",
       "</table>\n",
       "</div>"
      ],
      "text/plain": [
       "   dep1  dep2  largo_limite\n",
       "0     3     1         60107\n",
       "1     3     8         94070\n",
       "2     3     9         51167\n",
       "3     3    10         24113\n",
       "4     3    16         48749"
      ]
     },
     "execution_count": 99,
     "metadata": {},
     "output_type": "execute_result"
    }
   ],
   "source": [
    "df.rename({'poly1': 'dep1', 'poly2': 'dep2', 'length': 'largo_limite'}, inplace=True, axis=1)\n",
    "df.head()\n",
    "\n"
   ]
  },
  {
   "cell_type": "code",
   "execution_count": 103,
   "id": "6d1f6238",
   "metadata": {},
   "outputs": [],
   "source": [
    "df.to_csv('tablas/deptos_vecinos.csv', index=False)"
   ]
  }
 ],
 "metadata": {
  "kernelspec": {
   "display_name": "Python 3",
   "language": "python",
   "name": "python3"
  },
  "language_info": {
   "codemirror_mode": {
    "name": "ipython",
    "version": 3
   },
   "file_extension": ".py",
   "mimetype": "text/x-python",
   "name": "python",
   "nbconvert_exporter": "python",
   "pygments_lexer": "ipython3",
   "version": "3.9.2"
  }
 },
 "nbformat": 4,
 "nbformat_minor": 5
}
