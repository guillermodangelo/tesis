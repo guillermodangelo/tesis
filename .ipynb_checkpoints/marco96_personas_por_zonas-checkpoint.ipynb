{
 "cells": [
  {
   "cell_type": "code",
   "execution_count": 5,
   "id": "148fe875",
   "metadata": {},
   "outputs": [],
   "source": [
    "import pandas as pd\n",
    "import numpy as np\n",
    "from functions.cargar_data import *"
   ]
  },
  {
   "cell_type": "code",
   "execution_count": 6,
   "id": "e7e8748d",
   "metadata": {},
   "outputs": [
    {
     "data": {
      "text/html": [
       "<div>\n",
       "<style scoped>\n",
       "    .dataframe tbody tr th:only-of-type {\n",
       "        vertical-align: middle;\n",
       "    }\n",
       "\n",
       "    .dataframe tbody tr th {\n",
       "        vertical-align: top;\n",
       "    }\n",
       "\n",
       "    .dataframe thead th {\n",
       "        text-align: right;\n",
       "    }\n",
       "</style>\n",
       "<table border=\"1\" class=\"dataframe\">\n",
       "  <thead>\n",
       "    <tr style=\"text-align: right;\">\n",
       "      <th></th>\n",
       "      <th>DPTO</th>\n",
       "      <th>SECC</th>\n",
       "      <th>SEGM</th>\n",
       "      <th>ZONA</th>\n",
       "      <th>AREA96</th>\n",
       "      <th>LOC</th>\n",
       "      <th>VIV_PARTOC</th>\n",
       "      <th>VIV_PARTDE</th>\n",
       "      <th>VIV_COLECT</th>\n",
       "      <th>HOMBRESPAR</th>\n",
       "      <th>MUJERESPAR</th>\n",
       "      <th>HOMBRESCOL</th>\n",
       "      <th>MUJERESCOL</th>\n",
       "    </tr>\n",
       "  </thead>\n",
       "  <tbody>\n",
       "    <tr>\n",
       "      <th>0</th>\n",
       "      <td>1</td>\n",
       "      <td>1</td>\n",
       "      <td>1</td>\n",
       "      <td>1</td>\n",
       "      <td>1</td>\n",
       "      <td>20</td>\n",
       "      <td>65</td>\n",
       "      <td>22</td>\n",
       "      <td>0</td>\n",
       "      <td>89</td>\n",
       "      <td>70</td>\n",
       "      <td>0</td>\n",
       "      <td>0</td>\n",
       "    </tr>\n",
       "    <tr>\n",
       "      <th>1</th>\n",
       "      <td>1</td>\n",
       "      <td>1</td>\n",
       "      <td>1</td>\n",
       "      <td>4</td>\n",
       "      <td>1</td>\n",
       "      <td>20</td>\n",
       "      <td>1</td>\n",
       "      <td>2</td>\n",
       "      <td>0</td>\n",
       "      <td>1</td>\n",
       "      <td>0</td>\n",
       "      <td>0</td>\n",
       "      <td>0</td>\n",
       "    </tr>\n",
       "  </tbody>\n",
       "</table>\n",
       "</div>"
      ],
      "text/plain": [
       "   DPTO  SECC  SEGM  ZONA  AREA96  LOC  VIV_PARTOC  VIV_PARTDE  VIV_COLECT  \\\n",
       "0     1     1     1     1       1   20          65          22           0   \n",
       "1     1     1     1     4       1   20           1           2           0   \n",
       "\n",
       "   HOMBRESPAR  MUJERESPAR  HOMBRESCOL  MUJERESCOL  \n",
       "0          89          70           0           0  \n",
       "1           1           0           0           0  "
      ]
     },
     "execution_count": 6,
     "metadata": {},
     "output_type": "execute_result"
    }
   ],
   "source": [
    "file = 'marcos_censales/MARCO96.xls'\n",
    "marco96 = pd.read_excel(file)\n",
    "marco96.head(2)"
   ]
  },
  {
   "cell_type": "code",
   "execution_count": 7,
   "id": "e154bfab",
   "metadata": {},
   "outputs": [
    {
     "data": {
      "text/plain": [
       "3163763"
      ]
     },
     "execution_count": 7,
     "metadata": {},
     "output_type": "execute_result"
    }
   ],
   "source": [
    "total_personas = marco96.HOMBRESPAR.sum() + marco96.HOMBRESCOL.sum() + marco96.MUJERESPAR.sum() + marco96.MUJERESCOL.sum()\n",
    "total_personas"
   ]
  },
  {
   "cell_type": "code",
   "execution_count": 8,
   "id": "c41f90b7",
   "metadata": {},
   "outputs": [],
   "source": [
    "def get_codseg(df):\n",
    "    codseg = df.DPTO.astype(str) + pad(df, 'SECC', 2) + pad(df, 'SEGM', 3)\n",
    "    return codseg"
   ]
  },
  {
   "cell_type": "code",
   "execution_count": 9,
   "id": "4e717d79",
   "metadata": {},
   "outputs": [],
   "source": [
    "def get_codcomp(df):\n",
    "    codcomp = df.DPTO.astype(str) + pad(df, 'SECC', 2) + pad(df, 'SEGM', 3) + pad(df, 'ZONA', 3)\n",
    "    return codcomp"
   ]
  },
  {
   "cell_type": "code",
   "execution_count": 10,
   "id": "0e2440ab",
   "metadata": {},
   "outputs": [],
   "source": [
    "marco96['codseg'] = get_codseg(marco96)\n",
    "marco96['codcomp'] = get_codcomp(marco96)"
   ]
  },
  {
   "cell_type": "code",
   "execution_count": 11,
   "id": "6127fd0a",
   "metadata": {},
   "outputs": [
    {
     "data": {
      "text/html": [
       "<div>\n",
       "<style scoped>\n",
       "    .dataframe tbody tr th:only-of-type {\n",
       "        vertical-align: middle;\n",
       "    }\n",
       "\n",
       "    .dataframe tbody tr th {\n",
       "        vertical-align: top;\n",
       "    }\n",
       "\n",
       "    .dataframe thead th {\n",
       "        text-align: right;\n",
       "    }\n",
       "</style>\n",
       "<table border=\"1\" class=\"dataframe\">\n",
       "  <thead>\n",
       "    <tr style=\"text-align: right;\">\n",
       "      <th></th>\n",
       "      <th>DPTO</th>\n",
       "      <th>SECC</th>\n",
       "      <th>SEGM</th>\n",
       "      <th>ZONA</th>\n",
       "      <th>AREA96</th>\n",
       "      <th>LOC</th>\n",
       "      <th>VIV_PARTOC</th>\n",
       "      <th>VIV_PARTDE</th>\n",
       "      <th>VIV_COLECT</th>\n",
       "      <th>HOMBRESPAR</th>\n",
       "      <th>MUJERESPAR</th>\n",
       "      <th>HOMBRESCOL</th>\n",
       "      <th>MUJERESCOL</th>\n",
       "      <th>codseg</th>\n",
       "      <th>codcomp</th>\n",
       "    </tr>\n",
       "  </thead>\n",
       "  <tbody>\n",
       "    <tr>\n",
       "      <th>0</th>\n",
       "      <td>1</td>\n",
       "      <td>1</td>\n",
       "      <td>1</td>\n",
       "      <td>1</td>\n",
       "      <td>1</td>\n",
       "      <td>20</td>\n",
       "      <td>65</td>\n",
       "      <td>22</td>\n",
       "      <td>0</td>\n",
       "      <td>89</td>\n",
       "      <td>70</td>\n",
       "      <td>0</td>\n",
       "      <td>0</td>\n",
       "      <td>101001</td>\n",
       "      <td>101001001</td>\n",
       "    </tr>\n",
       "    <tr>\n",
       "      <th>1</th>\n",
       "      <td>1</td>\n",
       "      <td>1</td>\n",
       "      <td>1</td>\n",
       "      <td>4</td>\n",
       "      <td>1</td>\n",
       "      <td>20</td>\n",
       "      <td>1</td>\n",
       "      <td>2</td>\n",
       "      <td>0</td>\n",
       "      <td>1</td>\n",
       "      <td>0</td>\n",
       "      <td>0</td>\n",
       "      <td>0</td>\n",
       "      <td>101001</td>\n",
       "      <td>101001004</td>\n",
       "    </tr>\n",
       "  </tbody>\n",
       "</table>\n",
       "</div>"
      ],
      "text/plain": [
       "   DPTO  SECC  SEGM  ZONA  AREA96  LOC  VIV_PARTOC  VIV_PARTDE  VIV_COLECT  \\\n",
       "0     1     1     1     1       1   20          65          22           0   \n",
       "1     1     1     1     4       1   20           1           2           0   \n",
       "\n",
       "   HOMBRESPAR  MUJERESPAR  HOMBRESCOL  MUJERESCOL  codseg    codcomp  \n",
       "0          89          70           0           0  101001  101001001  \n",
       "1           1           0           0           0  101001  101001004  "
      ]
     },
     "execution_count": 11,
     "metadata": {},
     "output_type": "execute_result"
    }
   ],
   "source": [
    "marco96.head(2)"
   ]
  },
  {
   "cell_type": "code",
   "execution_count": 17,
   "id": "4054b3b7",
   "metadata": {},
   "outputs": [
    {
     "data": {
      "text/html": [
       "<div>\n",
       "<style scoped>\n",
       "    .dataframe tbody tr th:only-of-type {\n",
       "        vertical-align: middle;\n",
       "    }\n",
       "\n",
       "    .dataframe tbody tr th {\n",
       "        vertical-align: top;\n",
       "    }\n",
       "\n",
       "    .dataframe thead th {\n",
       "        text-align: right;\n",
       "    }\n",
       "</style>\n",
       "<table border=\"1\" class=\"dataframe\">\n",
       "  <thead>\n",
       "    <tr style=\"text-align: right;\">\n",
       "      <th></th>\n",
       "      <th>HOMBRESPAR</th>\n",
       "      <th>MUJERESPAR</th>\n",
       "      <th>HOMBRESCOL</th>\n",
       "      <th>MUJERESCOL</th>\n",
       "      <th>personas</th>\n",
       "    </tr>\n",
       "    <tr>\n",
       "      <th>codcomp</th>\n",
       "      <th></th>\n",
       "      <th></th>\n",
       "      <th></th>\n",
       "      <th></th>\n",
       "      <th></th>\n",
       "    </tr>\n",
       "  </thead>\n",
       "  <tbody>\n",
       "    <tr>\n",
       "      <th>1001003001</th>\n",
       "      <td>6</td>\n",
       "      <td>4</td>\n",
       "      <td>0</td>\n",
       "      <td>0</td>\n",
       "      <td>10</td>\n",
       "    </tr>\n",
       "    <tr>\n",
       "      <th>1001003002</th>\n",
       "      <td>8</td>\n",
       "      <td>11</td>\n",
       "      <td>0</td>\n",
       "      <td>0</td>\n",
       "      <td>19</td>\n",
       "    </tr>\n",
       "  </tbody>\n",
       "</table>\n",
       "</div>"
      ],
      "text/plain": [
       "            HOMBRESPAR  MUJERESPAR  HOMBRESCOL  MUJERESCOL  personas\n",
       "codcomp                                                             \n",
       "1001003001           6           4           0           0        10\n",
       "1001003002           8          11           0           0        19"
      ]
     },
     "execution_count": 17,
     "metadata": {},
     "output_type": "execute_result"
    }
   ],
   "source": [
    "personas = ['HOMBRESPAR', 'MUJERESPAR', 'HOMBRESCOL', 'MUJERESCOL']\n",
    "zonas = marco96.groupby('codcomp').sum()[personas]\n",
    "zonas['personas'] = zonas['HOMBRESPAR'] + zonas['MUJERESPAR'] + zonas['HOMBRESCOL'] + zonas['MUJERESCOL']\n",
    "zonas.head(2)"
   ]
  },
  {
   "cell_type": "code",
   "execution_count": 18,
   "id": "2a3f9527",
   "metadata": {},
   "outputs": [
    {
     "data": {
      "text/plain": [
       "3163763"
      ]
     },
     "execution_count": 18,
     "metadata": {},
     "output_type": "execute_result"
    }
   ],
   "source": [
    "zonas.personas.values.sum()"
   ]
  },
  {
   "cell_type": "code",
   "execution_count": 19,
   "id": "d28c6f37",
   "metadata": {},
   "outputs": [
    {
     "data": {
      "text/plain": [
       "(46479, 5)"
      ]
     },
     "execution_count": 19,
     "metadata": {},
     "output_type": "execute_result"
    }
   ],
   "source": [
    "zonas.shape"
   ]
  },
  {
   "cell_type": "code",
   "execution_count": 20,
   "id": "430386b9",
   "metadata": {},
   "outputs": [
    {
     "data": {
      "text/plain": [
       "Index(['1001003001', '1001003002', '1001003003', '1001003004', '1001003005',\n",
       "       '1001003006', '1001003007', '1001003008', '1001003009', '1001003010',\n",
       "       ...\n",
       "       '913001001', '913001002', '913001003', '913001004', '913001005',\n",
       "       '913002005', '913002006', '913003004', '913003005', '913003006'],\n",
       "      dtype='object', name='codcomp', length=46479)"
      ]
     },
     "execution_count": 20,
     "metadata": {},
     "output_type": "execute_result"
    }
   ],
   "source": [
    "zonas.index.unique()"
   ]
  },
  {
   "cell_type": "code",
   "execution_count": 21,
   "id": "eaee9825",
   "metadata": {},
   "outputs": [],
   "source": [
    "zonas['personas'].to_csv('marcos_censales/peronas_zona_96.csv')"
   ]
  },
  {
   "cell_type": "code",
   "execution_count": 10,
   "id": "107243f2",
   "metadata": {},
   "outputs": [],
   "source": [
    "# exporta\n",
    "interior = pd.read_csv('datos_ine_96/correspondencia_interior.csv',\n",
    "                       usecols=['CCOMP96', 'CCOMP04', 'REG96A04', 'MODIF96A04'])\n",
    "mvdeo = pd.read_csv('datos_ine_96/correspondencia_mvdeo.csv')"
   ]
  },
  {
   "cell_type": "code",
   "execution_count": 14,
   "id": "9b90060c",
   "metadata": {},
   "outputs": [
    {
     "data": {
      "text/plain": [
       "(60736, 4)"
      ]
     },
     "execution_count": 14,
     "metadata": {},
     "output_type": "execute_result"
    }
   ],
   "source": [
    "corresp = pd.concat([mvdeo, interior])\n",
    "corresp.shape"
   ]
  },
  {
   "cell_type": "code",
   "execution_count": null,
   "id": "e3c25045",
   "metadata": {},
   "outputs": [],
   "source": []
  }
 ],
 "metadata": {
  "kernelspec": {
   "display_name": "Python 3",
   "language": "python",
   "name": "python3"
  },
  "language_info": {
   "codemirror_mode": {
    "name": "ipython",
    "version": 3
   },
   "file_extension": ".py",
   "mimetype": "text/x-python",
   "name": "python",
   "nbconvert_exporter": "python",
   "pygments_lexer": "ipython3",
   "version": "3.8.8"
  }
 },
 "nbformat": 4,
 "nbformat_minor": 5
}
