{
 "cells": [
  {
   "cell_type": "markdown",
   "id": "f4bc0bb8",
   "metadata": {},
   "source": [
    "\"Carga datos del Censo INE 1996\"\n",
    "Datos censales"
   ]
  },
  {
   "cell_type": "code",
   "execution_count": 40,
   "id": "a3bb0cee",
   "metadata": {},
   "outputs": [],
   "source": [
    "import pandas as pd\n",
    "import numpy as np\n",
    "import matplotlib.pyplot as plt\n",
    "\n",
    "from functions.cargar_data import *\n",
    "from functions.func_demograficas import *\n",
    "\n",
    "from scipy.optimize import curve_fit"
   ]
  },
  {
   "cell_type": "code",
   "execution_count": 41,
   "id": "e6e8cfda",
   "metadata": {},
   "outputs": [
    {
     "data": {
      "text/html": [
       "<div>\n",
       "<style scoped>\n",
       "    .dataframe tbody tr th:only-of-type {\n",
       "        vertical-align: middle;\n",
       "    }\n",
       "\n",
       "    .dataframe tbody tr th {\n",
       "        vertical-align: top;\n",
       "    }\n",
       "\n",
       "    .dataframe thead th {\n",
       "        text-align: right;\n",
       "    }\n",
       "</style>\n",
       "<table border=\"1\" class=\"dataframe\">\n",
       "  <thead>\n",
       "    <tr style=\"text-align: right;\">\n",
       "      <th></th>\n",
       "      <th>cod_ori</th>\n",
       "      <th>cod_des</th>\n",
       "      <th>cod</th>\n",
       "      <th>distancia</th>\n",
       "      <th>categoria_dist</th>\n",
       "    </tr>\n",
       "  </thead>\n",
       "  <tbody>\n",
       "    <tr>\n",
       "      <th>0</th>\n",
       "      <td>1</td>\n",
       "      <td>2</td>\n",
       "      <td>102</td>\n",
       "      <td>610726</td>\n",
       "      <td>6</td>\n",
       "    </tr>\n",
       "    <tr>\n",
       "      <th>1</th>\n",
       "      <td>1</td>\n",
       "      <td>3</td>\n",
       "      <td>103</td>\n",
       "      <td>22544</td>\n",
       "      <td>1</td>\n",
       "    </tr>\n",
       "  </tbody>\n",
       "</table>\n",
       "</div>"
      ],
      "text/plain": [
       "   cod_ori  cod_des  cod  distancia  categoria_dist\n",
       "0        1        2  102     610726               6\n",
       "1        1        3  103      22544               1"
      ]
     },
     "execution_count": 41,
     "metadata": {},
     "output_type": "execute_result"
    }
   ],
   "source": [
    "md = cargar_matriz_distancias()\n",
    "\n",
    "def categorizar_dist(df):\n",
    "    bins = [0, 100000, 200000, 300000, 400000, 500000, 700000]\n",
    "    bin_indices = np.digitize(df.distancia.values, bins)\n",
    "    return bin_indices\n",
    "\n",
    "md['categoria_dist'] = categorizar_dist(md)\n",
    "\n",
    "md.head(2)"
   ]
  },
  {
   "cell_type": "code",
   "execution_count": 42,
   "id": "f2568475",
   "metadata": {},
   "outputs": [
    {
     "data": {
      "text/plain": [
       "(3163763, 13)"
      ]
     },
     "execution_count": 42,
     "metadata": {},
     "output_type": "execute_result"
    }
   ],
   "source": [
    "censo = pd.read_csv('tablas/personas_censo_1996.gz', compression='gzip', header=0, sep=',', quotechar='\"')\n",
    "censo.shape"
   ]
  },
  {
   "cell_type": "code",
   "execution_count": 43,
   "id": "d6372f58",
   "metadata": {},
   "outputs": [
    {
     "data": {
      "text/html": [
       "<div>\n",
       "<style scoped>\n",
       "    .dataframe tbody tr th:only-of-type {\n",
       "        vertical-align: middle;\n",
       "    }\n",
       "\n",
       "    .dataframe tbody tr th {\n",
       "        vertical-align: top;\n",
       "    }\n",
       "\n",
       "    .dataframe thead th {\n",
       "        text-align: right;\n",
       "    }\n",
       "</style>\n",
       "<table border=\"1\" class=\"dataframe\">\n",
       "  <thead>\n",
       "    <tr style=\"text-align: right;\">\n",
       "      <th></th>\n",
       "      <th>DPTO</th>\n",
       "      <th>LOC</th>\n",
       "      <th>SECC</th>\n",
       "      <th>SEGM</th>\n",
       "      <th>VIVIENDA</th>\n",
       "      <th>TIPVIV</th>\n",
       "      <th>HOGARVIV</th>\n",
       "      <th>PARENTESCO</th>\n",
       "      <th>SEXO</th>\n",
       "      <th>EDAD</th>\n",
       "      <th>HACE5AQUI</th>\n",
       "      <th>HAC5DEPC</th>\n",
       "      <th>HAC5LOC</th>\n",
       "      <th>personas_mig</th>\n",
       "    </tr>\n",
       "  </thead>\n",
       "  <tbody>\n",
       "    <tr>\n",
       "      <th>5</th>\n",
       "      <td>1</td>\n",
       "      <td>20</td>\n",
       "      <td>1</td>\n",
       "      <td>1</td>\n",
       "      <td>36375</td>\n",
       "      <td>2</td>\n",
       "      <td>1</td>\n",
       "      <td>8</td>\n",
       "      <td>2</td>\n",
       "      <td>24</td>\n",
       "      <td>NaN</td>\n",
       "      <td>13.0</td>\n",
       "      <td>522.0</td>\n",
       "      <td>1</td>\n",
       "    </tr>\n",
       "    <tr>\n",
       "      <th>14</th>\n",
       "      <td>1</td>\n",
       "      <td>20</td>\n",
       "      <td>1</td>\n",
       "      <td>1</td>\n",
       "      <td>146352</td>\n",
       "      <td>2</td>\n",
       "      <td>1</td>\n",
       "      <td>10</td>\n",
       "      <td>1</td>\n",
       "      <td>51</td>\n",
       "      <td>NaN</td>\n",
       "      <td>6.0</td>\n",
       "      <td>220.0</td>\n",
       "      <td>1</td>\n",
       "    </tr>\n",
       "  </tbody>\n",
       "</table>\n",
       "</div>"
      ],
      "text/plain": [
       "    DPTO  LOC  SECC  SEGM  VIVIENDA  TIPVIV  HOGARVIV  PARENTESCO  SEXO  EDAD  \\\n",
       "5      1   20     1     1     36375       2         1           8     2    24   \n",
       "14     1   20     1     1    146352       2         1          10     1    51   \n",
       "\n",
       "    HACE5AQUI  HAC5DEPC  HAC5LOC  personas_mig  \n",
       "5         NaN      13.0    522.0             1  \n",
       "14        NaN       6.0    220.0             1  "
      ]
     },
     "execution_count": 43,
     "metadata": {},
     "output_type": "execute_result"
    }
   ],
   "source": [
    "flujos_deptos = censo.loc[(censo.HACE5AQUI.isnull()) & (censo.HAC5DEPC <= 19)]\n",
    "flujos_deptos = flujos_deptos.loc[flujos_deptos.DPTO != flujos_deptos.HAC5DEPC]\n",
    "flujos_deptos['personas_mig'] = 1\n",
    "\n",
    "flujos_deptos.head(2)"
   ]
  },
  {
   "cell_type": "code",
   "execution_count": 44,
   "id": "89fd6d6a",
   "metadata": {},
   "outputs": [
    {
     "data": {
      "text/html": [
       "<div>\n",
       "<style scoped>\n",
       "    .dataframe tbody tr th:only-of-type {\n",
       "        vertical-align: middle;\n",
       "    }\n",
       "\n",
       "    .dataframe tbody tr th {\n",
       "        vertical-align: top;\n",
       "    }\n",
       "\n",
       "    .dataframe thead th {\n",
       "        text-align: right;\n",
       "    }\n",
       "</style>\n",
       "<table border=\"1\" class=\"dataframe\">\n",
       "  <thead>\n",
       "    <tr style=\"text-align: right;\">\n",
       "      <th></th>\n",
       "      <th>cod</th>\n",
       "      <th>depto_origen</th>\n",
       "      <th>depto_destino</th>\n",
       "      <th>personas_mig</th>\n",
       "      <th>distancia</th>\n",
       "      <th>categoria_dist</th>\n",
       "    </tr>\n",
       "  </thead>\n",
       "  <tbody>\n",
       "    <tr>\n",
       "      <th>0</th>\n",
       "      <td>102</td>\n",
       "      <td>1</td>\n",
       "      <td>2</td>\n",
       "      <td>1277</td>\n",
       "      <td>610726</td>\n",
       "      <td>6</td>\n",
       "    </tr>\n",
       "    <tr>\n",
       "      <th>1</th>\n",
       "      <td>103</td>\n",
       "      <td>1</td>\n",
       "      <td>3</td>\n",
       "      <td>41077</td>\n",
       "      <td>22544</td>\n",
       "      <td>1</td>\n",
       "    </tr>\n",
       "  </tbody>\n",
       "</table>\n",
       "</div>"
      ],
      "text/plain": [
       "   cod  depto_origen  depto_destino  personas_mig  distancia  categoria_dist\n",
       "0  102             1              2          1277     610726               6\n",
       "1  103             1              3         41077      22544               1"
      ]
     },
     "execution_count": 44,
     "metadata": {},
     "output_type": "execute_result"
    }
   ],
   "source": [
    "# Censo 96\n",
    "flujos_deptos['HAC5DEPC'] = flujos_deptos['HAC5DEPC'].astype(int)\n",
    "\n",
    "flujos_deptos.rename({'HAC5DEPC': 'depto_origen', 'DPTO':'depto_destino'}, axis=1, inplace=True)\n",
    "\n",
    "df_agrupado_96 =  flujos_deptos.groupby(by=['depto_origen', 'depto_destino']).sum()['personas_mig'].to_frame().reset_index()\n",
    "\n",
    "df_agrupado_96.insert(0, 'cod', (df_agrupado_96['depto_origen'].astype(str)\n",
    "                   + df_agrupado_96['depto_destino'].astype(str).str.zfill(2)).astype(int))\n",
    "\n",
    "df_96_dist = df_agrupado_96.merge(md.loc[:,['cod','distancia','categoria_dist']])\n",
    "\n",
    "df_96_dist.head(2)"
   ]
  },
  {
   "cell_type": "code",
   "execution_count": 60,
   "id": "11fdb5f7",
   "metadata": {},
   "outputs": [
    {
     "data": {
      "text/html": [
       "<div>\n",
       "<style scoped>\n",
       "    .dataframe tbody tr th:only-of-type {\n",
       "        vertical-align: middle;\n",
       "    }\n",
       "\n",
       "    .dataframe tbody tr th {\n",
       "        vertical-align: top;\n",
       "    }\n",
       "\n",
       "    .dataframe thead th {\n",
       "        text-align: right;\n",
       "    }\n",
       "</style>\n",
       "<table border=\"1\" class=\"dataframe\">\n",
       "  <thead>\n",
       "    <tr style=\"text-align: right;\">\n",
       "      <th></th>\n",
       "      <th>cod</th>\n",
       "      <th>depto_origen</th>\n",
       "      <th>depto_destino</th>\n",
       "      <th>personas_mig</th>\n",
       "      <th>distancia</th>\n",
       "      <th>categoria_dist</th>\n",
       "    </tr>\n",
       "  </thead>\n",
       "  <tbody>\n",
       "    <tr>\n",
       "      <th>0</th>\n",
       "      <td>102</td>\n",
       "      <td>1</td>\n",
       "      <td>2</td>\n",
       "      <td>914</td>\n",
       "      <td>610726</td>\n",
       "      <td>6</td>\n",
       "    </tr>\n",
       "    <tr>\n",
       "      <th>1</th>\n",
       "      <td>103</td>\n",
       "      <td>1</td>\n",
       "      <td>3</td>\n",
       "      <td>33127</td>\n",
       "      <td>22544</td>\n",
       "      <td>1</td>\n",
       "    </tr>\n",
       "  </tbody>\n",
       "</table>\n",
       "</div>"
      ],
      "text/plain": [
       "   cod  depto_origen  depto_destino  personas_mig  distancia  categoria_dist\n",
       "0  102             1              2           914     610726               6\n",
       "1  103             1              3         33127      22544               1"
      ]
     },
     "execution_count": 60,
     "metadata": {},
     "output_type": "execute_result"
    }
   ],
   "source": [
    "# censo 2011\n",
    "p_migr = cargar_migrantes_internos()\n",
    "flujos_deptos = p_migr[['depto_origen', 'depto_destino']]\n",
    "\n",
    "flujos_deptos = flujos_deptos[flujos_deptos.depto_origen != flujos_deptos.depto_destino]\n",
    "\n",
    "flujos_deptos['personas_mig'] = 1\n",
    "\n",
    "df_agrupado_11 = flujos_deptos.groupby(by=['depto_origen', 'depto_destino']).sum().reset_index()\n",
    "\n",
    "# agrega codigo único\n",
    "df_agrupado_11.insert(0, 'cod', (df_agrupado_11['depto_origen'].astype(str)\n",
    "                      + df_agrupado_11['depto_destino'].astype(str).str.zfill(2)).astype(int))\n",
    "\n",
    "df_11_dist = df_agrupado_11.merge(md.loc[:,['cod','distancia', 'categoria_dist']])\n",
    "\n",
    "df_11_dist.head(2)"
   ]
  },
  {
   "cell_type": "code",
   "execution_count": 46,
   "id": "65f0f10e",
   "metadata": {},
   "outputs": [],
   "source": [
    "# Gráfico de flujos contra distancia\n",
    "def plot_mig_distance(df, max_x, interval_x):\n",
    "    f, ax = plt.subplots(1, figsize=(8,4))\n",
    "\n",
    "    # plot de los puntos\n",
    "    ax.scatter(df['distancia']/1000, df['personas_mig'], marker='.', color='k')\n",
    "\n",
    "    # linea roja\n",
    "    ax.plot([0, max_x], [0,0],  color='r')\n",
    "    ax.plot([0, 0], [0, max(df['personas_mig'])+1],  color='r')\n",
    "    \n",
    "    # hide spines\n",
    "    [ax.spines[i].set_visible(False) for i in ['right', 'top', 'left', 'bottom']]\n",
    "\n",
    "    # Etiquetas\n",
    "    ax.set_ylabel(\"Total de flujos\")\n",
    "    ax.set_xlabel(\"Distancia (km)\")\n",
    "\n",
    "    plt.show()"
   ]
  },
  {
   "cell_type": "markdown",
   "id": "f379f1ec",
   "metadata": {},
   "source": [
    "Flujos vs. distancia con Mvdeo. 1996"
   ]
  },
  {
   "cell_type": "code",
   "execution_count": 47,
   "id": "b1151232",
   "metadata": {},
   "outputs": [
    {
     "data": {
      "image/png": "[encoded data removed]",
      "text/plain": [
       "<Figure size 576x288 with 1 Axes>"
      ]
     },
     "metadata": {
      "needs_background": "light"
     },
     "output_type": "display_data"
    }
   ],
   "source": [
    "plot_mig_distance(df_96_dist, 700, 100)"
   ]
  },
  {
   "cell_type": "markdown",
   "id": "cef27424",
   "metadata": {},
   "source": [
    "Flujos vs. distancia sin Mvdeo. 1996"
   ]
  },
  {
   "cell_type": "code",
   "execution_count": 48,
   "id": "9f176d93",
   "metadata": {},
   "outputs": [
    {
     "data": {
      "image/png": "[encoded data removed]",
      "text/plain": [
       "<Figure size 576x288 with 1 Axes>"
      ]
     },
     "metadata": {
      "needs_background": "light"
     },
     "output_type": "display_data"
    }
   ],
   "source": [
    "df_96_dist_no_mvo = df_96_dist.loc[(df_96_dist.depto_origen!=1) & (df_96_dist.depto_destino!=1)]\n",
    "plot_mig_distance(df_96_dist_no_mvo, 700, 100)"
   ]
  },
  {
   "cell_type": "markdown",
   "id": "01d7aeb8",
   "metadata": {},
   "source": [
    "Flujos vs. distancia con Mvdeo. 2011"
   ]
  },
  {
   "cell_type": "code",
   "execution_count": 49,
   "id": "17d9a28c",
   "metadata": {},
   "outputs": [
    {
     "data": {
      "image/png": "[encoded data removed]",
      "text/plain": [
       "<Figure size 576x288 with 1 Axes>"
      ]
     },
     "metadata": {
      "needs_background": "light"
     },
     "output_type": "display_data"
    }
   ],
   "source": [
    "plot_mig_distance(df_11_dist, 700, 100)"
   ]
  },
  {
   "cell_type": "markdown",
   "id": "3d8341ff",
   "metadata": {},
   "source": [
    "Flujos vs. distancia sin Mvdeo. 2011"
   ]
  },
  {
   "cell_type": "code",
   "execution_count": 50,
   "id": "505be096",
   "metadata": {},
   "outputs": [
    {
     "data": {
      "image/png": "[encoded data removed]",
      "text/plain": [
       "<Figure size 576x288 with 1 Axes>"
      ]
     },
     "metadata": {
      "needs_background": "light"
     },
     "output_type": "display_data"
    }
   ],
   "source": [
    "df_11_dist_no_mvo = df_11_dist.loc[(df_11_dist.depto_origen!=1) & (df_11_dist.depto_destino!=1)]\n",
    "plot_mig_distance(df_11_dist_no_mvo, 700, 100)"
   ]
  },
  {
   "cell_type": "code",
   "execution_count": 51,
   "id": "d24827cb",
   "metadata": {},
   "outputs": [
    {
     "name": "stdout",
     "output_type": "stream",
     "text": [
      "Censo 1996:  2336582\n",
      "Censo 2011:  3145201\n"
     ]
    }
   ],
   "source": [
    "# sumatoria de distancias ponderadas\n",
    "print('Censo 1996: ', round(sum(df_96_dist.distancia/df_96_dist.personas_mig)))\n",
    "print('Censo 2011: ', round(sum(df_11_dist.distancia/df_11_dist.personas_mig)))"
   ]
  },
  {
   "cell_type": "code",
   "execution_count": 52,
   "id": "fcd2e3a8",
   "metadata": {},
   "outputs": [
    {
     "name": "stdout",
     "output_type": "stream",
     "text": [
      "Censo 1996:  2331553\n",
      "Censo 2011:  3138065\n"
     ]
    }
   ],
   "source": [
    "# sumatoria de distancias ponderadas sin Mvdeo.\n",
    "print('Censo 1996: ', round(sum(df_96_dist_no_mvo.distancia/df_96_dist_no_mvo.personas_mig)))\n",
    "print('Censo 2011: ', round(sum(df_11_dist_no_mvo.distancia/df_11_dist_no_mvo.personas_mig)))"
   ]
  },
  {
   "cell_type": "markdown",
   "id": "1bd35287",
   "metadata": {},
   "source": [
    "#### Distancia mediana"
   ]
  },
  {
   "cell_type": "code",
   "execution_count": 53,
   "id": "f72cbb38",
   "metadata": {},
   "outputs": [
    {
     "data": {
      "text/plain": [
       "23076.035499999998"
      ]
     },
     "execution_count": 53,
     "metadata": {},
     "output_type": "execute_result"
    }
   ],
   "source": [
    "np.median((df_96_dist_no_mvo['personas_mig'] * df_96_dist_no_mvo['distancia']/1000).values)"
   ]
  },
  {
   "cell_type": "code",
   "execution_count": 54,
   "id": "eb53a2f3",
   "metadata": {},
   "outputs": [
    {
     "data": {
      "text/plain": [
       "19670.040999999997"
      ]
     },
     "execution_count": 54,
     "metadata": {},
     "output_type": "execute_result"
    }
   ],
   "source": [
    "np.median((df_11_dist_no_mvo['personas_mig'] * df_11_dist_no_mvo['distancia']/1000).values)"
   ]
  },
  {
   "cell_type": "code",
   "execution_count": 55,
   "id": "86d9b12f",
   "metadata": {},
   "outputs": [
    {
     "data": {
      "image/png": "[encoded data removed]",
      "text/plain": [
       "<Figure size 576x288 with 1 Axes>"
      ]
     },
     "metadata": {
      "needs_background": "light"
     },
     "output_type": "display_data"
    }
   ],
   "source": [
    "f, ax = plt.subplots(1, figsize=(8,4))\n",
    "\n",
    "x96 = df_96_dist_no_mvo['distancia'].values/1000\n",
    "y96 = df_96_dist_no_mvo['personas_mig'].values\n",
    "\n",
    "x11 = df_11_dist_no_mvo['distancia'].values/1000\n",
    "y11 = df_11_dist_no_mvo['personas_mig'].values\n",
    "\n",
    "# linea roja\n",
    "xvals = np.geomspace(0.025, 700, 100)\n",
    "yvals = np.power(xvals, -2)\n",
    "ax.plot(xvals, yvals, color='silver', label='_nolegend_')\n",
    "\n",
    "def linear_reg_plot(x, y, label):\n",
    "    slope, intercept = np.polyfit(x, y, 1)\n",
    "    return plt.plot(x, slope*x + intercept, label=label)\n",
    "\n",
    "linear_reg_plot(x96, y96, '1996')\n",
    "linear_reg_plot(x11, y11, '2011')\n",
    "\n",
    "# hide spines\n",
    "[ax.spines[i].set_visible(False) for i in ['right', 'top', 'left', 'bottom']]\n",
    "\n",
    "plt.legend()\n",
    "\n",
    "# Etiquetas\n",
    "ax.set_ylabel(\"Total de flujos\")\n",
    "ax.set_xlabel(\"Distancia (km)\")\n",
    "\n",
    "plt.show()"
   ]
  },
  {
   "cell_type": "code",
   "execution_count": 65,
   "id": "4f279979",
   "metadata": {},
   "outputs": [],
   "source": [
    "def calc_cats(df):\n",
    "    cat = df.groupby('categoria_dist').sum()['personas_mig'].to_frame().reset_index()\n",
    "    cat['porc'] = (cat.personas_mig / cat.personas_mig.sum())*100\n",
    "    return cat"
   ]
  },
  {
   "cell_type": "code",
   "execution_count": 66,
   "id": "414fc552",
   "metadata": {},
   "outputs": [],
   "source": [
    "porc96 = calc_cats(df_96_dist)\n",
    "porc11 = calc_cats(df_11_dist)"
   ]
  },
  {
   "cell_type": "code",
   "execution_count": 68,
   "id": "c25d6d0d",
   "metadata": {},
   "outputs": [
    {
     "data": {
      "text/html": [
       "<div>\n",
       "<style scoped>\n",
       "    .dataframe tbody tr th:only-of-type {\n",
       "        vertical-align: middle;\n",
       "    }\n",
       "\n",
       "    .dataframe tbody tr th {\n",
       "        vertical-align: top;\n",
       "    }\n",
       "\n",
       "    .dataframe thead th {\n",
       "        text-align: right;\n",
       "    }\n",
       "</style>\n",
       "<table border=\"1\" class=\"dataframe\">\n",
       "  <thead>\n",
       "    <tr style=\"text-align: right;\">\n",
       "      <th></th>\n",
       "      <th>categoria_dist</th>\n",
       "      <th>personas_mig</th>\n",
       "      <th>porc</th>\n",
       "    </tr>\n",
       "  </thead>\n",
       "  <tbody>\n",
       "    <tr>\n",
       "      <th>0</th>\n",
       "      <td>1</td>\n",
       "      <td>57462</td>\n",
       "      <td>38.627579</td>\n",
       "    </tr>\n",
       "    <tr>\n",
       "      <th>1</th>\n",
       "      <td>2</td>\n",
       "      <td>37609</td>\n",
       "      <td>25.281832</td>\n",
       "    </tr>\n",
       "    <tr>\n",
       "      <th>2</th>\n",
       "      <td>3</td>\n",
       "      <td>16116</td>\n",
       "      <td>10.833630</td>\n",
       "    </tr>\n",
       "    <tr>\n",
       "      <th>3</th>\n",
       "      <td>4</td>\n",
       "      <td>18855</td>\n",
       "      <td>12.674863</td>\n",
       "    </tr>\n",
       "    <tr>\n",
       "      <th>4</th>\n",
       "      <td>5</td>\n",
       "      <td>12660</td>\n",
       "      <td>8.510409</td>\n",
       "    </tr>\n",
       "    <tr>\n",
       "      <th>5</th>\n",
       "      <td>6</td>\n",
       "      <td>6057</td>\n",
       "      <td>4.071686</td>\n",
       "    </tr>\n",
       "  </tbody>\n",
       "</table>\n",
       "</div>"
      ],
      "text/plain": [
       "   categoria_dist  personas_mig       porc\n",
       "0               1         57462  38.627579\n",
       "1               2         37609  25.281832\n",
       "2               3         16116  10.833630\n",
       "3               4         18855  12.674863\n",
       "4               5         12660   8.510409\n",
       "5               6          6057   4.071686"
      ]
     },
     "execution_count": 68,
     "metadata": {},
     "output_type": "execute_result"
    }
   ],
   "source": [
    "porc11"
   ]
  },
  {
   "cell_type": "code",
   "execution_count": 69,
   "id": "4d6e5405",
   "metadata": {},
   "outputs": [
    {
     "data": {
      "text/html": [
       "<div>\n",
       "<style scoped>\n",
       "    .dataframe tbody tr th:only-of-type {\n",
       "        vertical-align: middle;\n",
       "    }\n",
       "\n",
       "    .dataframe tbody tr th {\n",
       "        vertical-align: top;\n",
       "    }\n",
       "\n",
       "    .dataframe thead th {\n",
       "        text-align: right;\n",
       "    }\n",
       "</style>\n",
       "<table border=\"1\" class=\"dataframe\">\n",
       "  <thead>\n",
       "    <tr style=\"text-align: right;\">\n",
       "      <th></th>\n",
       "      <th>categoria_dist</th>\n",
       "      <th>personas_mig</th>\n",
       "      <th>porc</th>\n",
       "    </tr>\n",
       "  </thead>\n",
       "  <tbody>\n",
       "    <tr>\n",
       "      <th>0</th>\n",
       "      <td>1</td>\n",
       "      <td>57462</td>\n",
       "      <td>38.627579</td>\n",
       "    </tr>\n",
       "    <tr>\n",
       "      <th>1</th>\n",
       "      <td>2</td>\n",
       "      <td>37609</td>\n",
       "      <td>25.281832</td>\n",
       "    </tr>\n",
       "    <tr>\n",
       "      <th>2</th>\n",
       "      <td>3</td>\n",
       "      <td>16116</td>\n",
       "      <td>10.833630</td>\n",
       "    </tr>\n",
       "    <tr>\n",
       "      <th>3</th>\n",
       "      <td>4</td>\n",
       "      <td>18855</td>\n",
       "      <td>12.674863</td>\n",
       "    </tr>\n",
       "    <tr>\n",
       "      <th>4</th>\n",
       "      <td>5</td>\n",
       "      <td>12660</td>\n",
       "      <td>8.510409</td>\n",
       "    </tr>\n",
       "    <tr>\n",
       "      <th>5</th>\n",
       "      <td>6</td>\n",
       "      <td>6057</td>\n",
       "      <td>4.071686</td>\n",
       "    </tr>\n",
       "  </tbody>\n",
       "</table>\n",
       "</div>"
      ],
      "text/plain": [
       "   categoria_dist  personas_mig       porc\n",
       "0               1         57462  38.627579\n",
       "1               2         37609  25.281832\n",
       "2               3         16116  10.833630\n",
       "3               4         18855  12.674863\n",
       "4               5         12660   8.510409\n",
       "5               6          6057   4.071686"
      ]
     },
     "execution_count": 69,
     "metadata": {},
     "output_type": "execute_result"
    }
   ],
   "source": [
    "porc11"
   ]
  },
  {
   "cell_type": "code",
   "execution_count": 73,
   "id": "4c66554c",
   "metadata": {},
   "outputs": [
    {
     "data": {
      "image/png": "[encoded data removed]",
      "text/plain": [
       "<Figure size 432x288 with 1 Axes>"
      ]
     },
     "metadata": {
      "needs_background": "light"
     },
     "output_type": "display_data"
    }
   ],
   "source": [
    "labels = ['< 100 km', '100-200', '201-300', '301-400', '401-500', '>500']\n",
    "\n",
    "p96 = porc96.personas_mig.values\n",
    "p11 = porc11.personas_mig.values\n",
    "\n",
    "x = np.arange(len(labels))  # the label locations\n",
    "width = 0.35  # the width of the bars\n",
    "\n",
    "fig, ax = plt.subplots()\n",
    "rects1 = ax.bar(x - width/2, p96, width, label='Flujos Censo 1996')\n",
    "rects2 = ax.bar(x + width/2, p11, width, label='Flujos Censo 2011')\n",
    "\n",
    "ax.set_ylabel('Personas migrantes internas')\n",
    "ax.set_title('Categoría de distancia')\n",
    "ax.set_xticks(x)\n",
    "ax.set_xticklabels(labels)\n",
    "ax.legend()\n",
    "[ax.spines[i].set_visible(False) for i in ['right', 'top', 'left', 'bottom']]\n",
    "\n",
    "\n",
    "plt.show()"
   ]
  },
  {
   "cell_type": "code",
   "execution_count": 74,
   "id": "1b016c6a",
   "metadata": {},
   "outputs": [
    {
     "data": {
      "image/png": "[encoded data removed]",
      "text/plain": [
       "<Figure size 432x288 with 1 Axes>"
      ]
     },
     "metadata": {
      "needs_background": "light"
     },
     "output_type": "display_data"
    }
   ],
   "source": [
    "p96 = porc96.porc.values\n",
    "p11 = porc11.porc.values\n",
    "\n",
    "x = np.arange(len(labels))  # the label locations\n",
    "width = 0.35  # the width of the bars\n",
    "\n",
    "fig, ax = plt.subplots()\n",
    "rects1 = ax.bar(x - width/2, p96, width, label='Flujos Censo 1996')\n",
    "rects2 = ax.bar(x + width/2, p11, width, label='Flujos Censo 2011')\n",
    "\n",
    "# Add some text for labels, title and custom x-axis tick labels, etc.\n",
    "ax.set_ylabel('% de personas migrantes internas')\n",
    "ax.set_title('Categoría de distancia')\n",
    "ax.set_xticks(x)\n",
    "ax.set_xticklabels(labels)\n",
    "ax.legend()\n",
    "[ax.spines[i].set_visible(False) for i in ['right', 'top', 'left', 'bottom']]\n",
    "\n",
    "plt.show()"
   ]
  },
  {
   "cell_type": "code",
   "execution_count": 75,
   "id": "f354eec9",
   "metadata": {},
   "outputs": [],
   "source": [
    "def func(x, a, b) :\n",
    "    return a * np.power(x, b)\n",
    "\n",
    "def fit_plot(x, y):\n",
    "    popt, pcov = curve_fit(func, x, y, maxfev=5000)  \n",
    "    plt.plot(np.sort(x), func(np.sort(x), *popt), '-')\n",
    "    plt.plot(x, y, '.')\n",
    "    return plt.show()"
   ]
  },
  {
   "cell_type": "code",
   "execution_count": 76,
   "id": "85eaed8f",
   "metadata": {},
   "outputs": [
    {
     "data": {
      "image/png": "[encoded data removed]",
      "text/plain": [
       "<Figure size 432x288 with 1 Axes>"
      ]
     },
     "metadata": {
      "needs_background": "light"
     },
     "output_type": "display_data"
    }
   ],
   "source": [
    "fit_plot(x96, y96)"
   ]
  },
  {
   "cell_type": "code",
   "execution_count": 77,
   "id": "efb023bd",
   "metadata": {},
   "outputs": [
    {
     "data": {
      "image/png": "[encoded data removed]",
      "text/plain": [
       "<Figure size 432x288 with 1 Axes>"
      ]
     },
     "metadata": {
      "needs_background": "light"
     },
     "output_type": "display_data"
    }
   ],
   "source": [
    "fit_plot(x11, y11)"
   ]
  },
  {
   "cell_type": "code",
   "execution_count": 78,
   "id": "4cca70b7",
   "metadata": {},
   "outputs": [],
   "source": [
    "def fitted_curves_plot(x1, y1, x2, y2):\n",
    "    popt1, pcov1 = curve_fit(func, x1, y1, maxfev=5000)  \n",
    "    plt.plot(np.sort(x1), func(np.sort(x1), *popt1), '-')\n",
    "    \n",
    "    popt2, pcov2 = curve_fit(func, x2, y2, maxfev=5000)  \n",
    "    plt.plot(np.sort(x2), func(np.sort(x2), *popt2), '-')\n",
    "    \n",
    "    return plt.show()"
   ]
  },
  {
   "cell_type": "code",
   "execution_count": 79,
   "id": "4d7c3f6a",
   "metadata": {},
   "outputs": [
    {
     "data": {
      "image/png": "[encoded data removed]",
      "text/plain": [
       "<Figure size 432x288 with 1 Axes>"
      ]
     },
     "metadata": {
      "needs_background": "light"
     },
     "output_type": "display_data"
    }
   ],
   "source": [
    "fitted_curves_plot(x96, y96, x11, y11)"
   ]
  }
 ],
 "metadata": {
  "kernelspec": {
   "display_name": "Python 3",
   "language": "python",
   "name": "python3"
  },
  "language_info": {
   "codemirror_mode": {
    "name": "ipython",
    "version": 3
   },
   "file_extension": ".py",
   "mimetype": "text/x-python",
   "name": "python",
   "nbconvert_exporter": "python",
   "pygments_lexer": "ipython3",
   "version": "3.9.2"
  }
 },
 "nbformat": 4,
 "nbformat_minor": 5
}
