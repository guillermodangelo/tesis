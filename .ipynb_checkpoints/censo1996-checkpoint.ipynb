{
 "cells": [
  {
   "cell_type": "markdown",
   "id": "1fdf6183",
   "metadata": {},
   "source": [
    "\"Carga datos del Censo INE 1996\"\n",
    "Datos censales"
   ]
  },
  {
   "cell_type": "code",
   "execution_count": 1,
   "id": "3dd581a9",
   "metadata": {},
   "outputs": [],
   "source": [
    "import pandas as pd\n",
    "import numpy as np\n",
    "import matplotlib.pyplot as plt\n",
    "\n",
    "from functions.cargar_data import *\n",
    "from functions.func_demograficas import *\n",
    "\n",
    "from scipy.optimize import curve_fit"
   ]
  },
  {
   "cell_type": "code",
   "execution_count": 2,
   "id": "559a9cdb",
   "metadata": {},
   "outputs": [
    {
     "data": {
      "text/html": [
       "<div>\n",
       "<style scoped>\n",
       "    .dataframe tbody tr th:only-of-type {\n",
       "        vertical-align: middle;\n",
       "    }\n",
       "\n",
       "    .dataframe tbody tr th {\n",
       "        vertical-align: top;\n",
       "    }\n",
       "\n",
       "    .dataframe thead th {\n",
       "        text-align: right;\n",
       "    }\n",
       "</style>\n",
       "<table border=\"1\" class=\"dataframe\">\n",
       "  <thead>\n",
       "    <tr style=\"text-align: right;\">\n",
       "      <th></th>\n",
       "      <th>cod_ori</th>\n",
       "      <th>cod_des</th>\n",
       "      <th>cod</th>\n",
       "      <th>distancia</th>\n",
       "      <th>categoria_dist</th>\n",
       "    </tr>\n",
       "  </thead>\n",
       "  <tbody>\n",
       "    <tr>\n",
       "      <th>0</th>\n",
       "      <td>1</td>\n",
       "      <td>2</td>\n",
       "      <td>102</td>\n",
       "      <td>610726</td>\n",
       "      <td>7</td>\n",
       "    </tr>\n",
       "    <tr>\n",
       "      <th>1</th>\n",
       "      <td>1</td>\n",
       "      <td>3</td>\n",
       "      <td>103</td>\n",
       "      <td>22544</td>\n",
       "      <td>1</td>\n",
       "    </tr>\n",
       "  </tbody>\n",
       "</table>\n",
       "</div>"
      ],
      "text/plain": [
       "   cod_ori  cod_des  cod  distancia  categoria_dist\n",
       "0        1        2  102     610726               7\n",
       "1        1        3  103      22544               1"
      ]
     },
     "execution_count": 2,
     "metadata": {},
     "output_type": "execute_result"
    }
   ],
   "source": [
    "md = cargar_matriz_distancias()\n",
    "\n",
    "bins = [0, 100000, 200000, 300000, 400000, 500000, 600000, 700000]\n",
    "bin_indices = np.digitize(md.distancia.values, bins)\n",
    "md['categoria_dist'] = bin_indices\n",
    "\n",
    "md.head(2)"
   ]
  },
  {
   "cell_type": "code",
   "execution_count": 3,
   "id": "d12fea08",
   "metadata": {},
   "outputs": [
    {
     "data": {
      "text/plain": [
       "(3163763, 13)"
      ]
     },
     "execution_count": 3,
     "metadata": {},
     "output_type": "execute_result"
    }
   ],
   "source": [
    "censo = pd.read_csv('tablas/personas_censo_1996.gz', compression='gzip', header=0, sep=',', quotechar='\"')\n",
    "censo.shape"
   ]
  },
  {
   "cell_type": "code",
   "execution_count": 4,
   "id": "4ce526b0",
   "metadata": {},
   "outputs": [
    {
     "data": {
      "text/html": [
       "<div>\n",
       "<style scoped>\n",
       "    .dataframe tbody tr th:only-of-type {\n",
       "        vertical-align: middle;\n",
       "    }\n",
       "\n",
       "    .dataframe tbody tr th {\n",
       "        vertical-align: top;\n",
       "    }\n",
       "\n",
       "    .dataframe thead th {\n",
       "        text-align: right;\n",
       "    }\n",
       "</style>\n",
       "<table border=\"1\" class=\"dataframe\">\n",
       "  <thead>\n",
       "    <tr style=\"text-align: right;\">\n",
       "      <th></th>\n",
       "      <th>DPTO</th>\n",
       "      <th>LOC</th>\n",
       "      <th>SECC</th>\n",
       "      <th>SEGM</th>\n",
       "      <th>VIVIENDA</th>\n",
       "      <th>TIPVIV</th>\n",
       "      <th>HOGARVIV</th>\n",
       "      <th>PARENTESCO</th>\n",
       "      <th>SEXO</th>\n",
       "      <th>EDAD</th>\n",
       "      <th>HACE5AQUI</th>\n",
       "      <th>HAC5DEPC</th>\n",
       "      <th>HAC5LOC</th>\n",
       "      <th>personas_mig</th>\n",
       "    </tr>\n",
       "  </thead>\n",
       "  <tbody>\n",
       "    <tr>\n",
       "      <th>5</th>\n",
       "      <td>1</td>\n",
       "      <td>20</td>\n",
       "      <td>1</td>\n",
       "      <td>1</td>\n",
       "      <td>36375</td>\n",
       "      <td>2</td>\n",
       "      <td>1</td>\n",
       "      <td>8</td>\n",
       "      <td>2</td>\n",
       "      <td>24</td>\n",
       "      <td>NaN</td>\n",
       "      <td>13.0</td>\n",
       "      <td>522.0</td>\n",
       "      <td>1</td>\n",
       "    </tr>\n",
       "    <tr>\n",
       "      <th>14</th>\n",
       "      <td>1</td>\n",
       "      <td>20</td>\n",
       "      <td>1</td>\n",
       "      <td>1</td>\n",
       "      <td>146352</td>\n",
       "      <td>2</td>\n",
       "      <td>1</td>\n",
       "      <td>10</td>\n",
       "      <td>1</td>\n",
       "      <td>51</td>\n",
       "      <td>NaN</td>\n",
       "      <td>6.0</td>\n",
       "      <td>220.0</td>\n",
       "      <td>1</td>\n",
       "    </tr>\n",
       "  </tbody>\n",
       "</table>\n",
       "</div>"
      ],
      "text/plain": [
       "    DPTO  LOC  SECC  SEGM  VIVIENDA  TIPVIV  HOGARVIV  PARENTESCO  SEXO  EDAD  \\\n",
       "5      1   20     1     1     36375       2         1           8     2    24   \n",
       "14     1   20     1     1    146352       2         1          10     1    51   \n",
       "\n",
       "    HACE5AQUI  HAC5DEPC  HAC5LOC  personas_mig  \n",
       "5         NaN      13.0    522.0             1  \n",
       "14        NaN       6.0    220.0             1  "
      ]
     },
     "execution_count": 4,
     "metadata": {},
     "output_type": "execute_result"
    }
   ],
   "source": [
    "flujos_deptos = censo.loc[(censo.HACE5AQUI.isnull()) & (censo.HAC5DEPC <= 19)]\n",
    "flujos_deptos = flujos_deptos.loc[flujos_deptos.DPTO != flujos_deptos.HAC5DEPC]\n",
    "flujos_deptos['personas_mig'] = 1\n",
    "\n",
    "flujos_deptos.head(2)"
   ]
  },
  {
   "cell_type": "code",
   "execution_count": 5,
   "id": "4e54726c",
   "metadata": {},
   "outputs": [
    {
     "data": {
      "text/html": [
       "<div>\n",
       "<style scoped>\n",
       "    .dataframe tbody tr th:only-of-type {\n",
       "        vertical-align: middle;\n",
       "    }\n",
       "\n",
       "    .dataframe tbody tr th {\n",
       "        vertical-align: top;\n",
       "    }\n",
       "\n",
       "    .dataframe thead th {\n",
       "        text-align: right;\n",
       "    }\n",
       "</style>\n",
       "<table border=\"1\" class=\"dataframe\">\n",
       "  <thead>\n",
       "    <tr style=\"text-align: right;\">\n",
       "      <th></th>\n",
       "      <th>cod</th>\n",
       "      <th>depto_origen</th>\n",
       "      <th>depto_destino</th>\n",
       "      <th>personas_mig</th>\n",
       "      <th>distancia</th>\n",
       "      <th>categoria_dist</th>\n",
       "    </tr>\n",
       "  </thead>\n",
       "  <tbody>\n",
       "    <tr>\n",
       "      <th>0</th>\n",
       "      <td>102</td>\n",
       "      <td>1</td>\n",
       "      <td>2</td>\n",
       "      <td>1277</td>\n",
       "      <td>610726</td>\n",
       "      <td>7</td>\n",
       "    </tr>\n",
       "    <tr>\n",
       "      <th>1</th>\n",
       "      <td>103</td>\n",
       "      <td>1</td>\n",
       "      <td>3</td>\n",
       "      <td>41077</td>\n",
       "      <td>22544</td>\n",
       "      <td>1</td>\n",
       "    </tr>\n",
       "  </tbody>\n",
       "</table>\n",
       "</div>"
      ],
      "text/plain": [
       "   cod  depto_origen  depto_destino  personas_mig  distancia  categoria_dist\n",
       "0  102             1              2          1277     610726               7\n",
       "1  103             1              3         41077      22544               1"
      ]
     },
     "execution_count": 5,
     "metadata": {},
     "output_type": "execute_result"
    }
   ],
   "source": [
    "# Censo 96\n",
    "flujos_deptos['HAC5DEPC'] = flujos_deptos['HAC5DEPC'].astype(int)\n",
    "\n",
    "flujos_deptos.rename({'HAC5DEPC': 'depto_origen', 'DPTO':'depto_destino'}, axis=1, inplace=True)\n",
    "\n",
    "df_agrupado_96 =  flujos_deptos.groupby(by=['depto_origen', 'depto_destino']).sum()['personas_mig'].to_frame().reset_index()\n",
    "\n",
    "df_agrupado_96.insert(0, 'cod', (df_agrupado_96['depto_origen'].astype(str)\n",
    "                   + df_agrupado_96['depto_destino'].astype(str).str.zfill(2)).astype(int))\n",
    "\n",
    "df_96_dist = df_agrupado_96.merge(md.loc[:,['cod','distancia','categoria_dist']])\n",
    "\n",
    "df_96_dist.head(2)"
   ]
  },
  {
   "cell_type": "code",
   "execution_count": 6,
   "id": "986a4100",
   "metadata": {},
   "outputs": [
    {
     "data": {
      "text/html": [
       "<div>\n",
       "<style scoped>\n",
       "    .dataframe tbody tr th:only-of-type {\n",
       "        vertical-align: middle;\n",
       "    }\n",
       "\n",
       "    .dataframe tbody tr th {\n",
       "        vertical-align: top;\n",
       "    }\n",
       "\n",
       "    .dataframe thead th {\n",
       "        text-align: right;\n",
       "    }\n",
       "</style>\n",
       "<table border=\"1\" class=\"dataframe\">\n",
       "  <thead>\n",
       "    <tr style=\"text-align: right;\">\n",
       "      <th></th>\n",
       "      <th>cod</th>\n",
       "      <th>depto_origen</th>\n",
       "      <th>depto_destino</th>\n",
       "      <th>personas_mig</th>\n",
       "      <th>distancia</th>\n",
       "      <th>categoria_dist</th>\n",
       "    </tr>\n",
       "  </thead>\n",
       "  <tbody>\n",
       "    <tr>\n",
       "      <th>0</th>\n",
       "      <td>102</td>\n",
       "      <td>1</td>\n",
       "      <td>2</td>\n",
       "      <td>914</td>\n",
       "      <td>610726</td>\n",
       "      <td>7</td>\n",
       "    </tr>\n",
       "    <tr>\n",
       "      <th>1</th>\n",
       "      <td>103</td>\n",
       "      <td>1</td>\n",
       "      <td>3</td>\n",
       "      <td>33127</td>\n",
       "      <td>22544</td>\n",
       "      <td>1</td>\n",
       "    </tr>\n",
       "  </tbody>\n",
       "</table>\n",
       "</div>"
      ],
      "text/plain": [
       "   cod  depto_origen  depto_destino  personas_mig  distancia  categoria_dist\n",
       "0  102             1              2           914     610726               7\n",
       "1  103             1              3         33127      22544               1"
      ]
     },
     "execution_count": 6,
     "metadata": {},
     "output_type": "execute_result"
    }
   ],
   "source": [
    "# censo 2011\n",
    "p_migr = cargar_migrantes_internos()\n",
    "flujos_deptos = p_migr[['depto_origen', 'depto_destino']]\n",
    "\n",
    "flujos_deptos = flujos_deptos[flujos_deptos.depto_origen != flujos_deptos.depto_destino]\n",
    "\n",
    "flujos_deptos['personas_mig'] = 1\n",
    "\n",
    "df_agrupado_11 = flujos_deptos.groupby(by=['depto_origen', 'depto_destino']).sum().reset_index()\n",
    "\n",
    "# agrega codigo único\n",
    "df_agrupado_11.insert(0, 'cod', (df_agrupado_11['depto_origen'].astype(str)\n",
    "                      + df_agrupado_11['depto_destino'].astype(str).str.zfill(2)).astype(int))\n",
    "\n",
    "df_11_dist = df_agrupado_11.merge(md.loc[:,['cod','distancia', 'categoria_dist']])\n",
    "\n",
    "df_11_dist.head(2)"
   ]
  },
  {
   "cell_type": "code",
   "execution_count": 142,
   "id": "71c2f7cf",
   "metadata": {},
   "outputs": [],
   "source": [
    "# Gráfico de flujos contra distancia\n",
    "def plot_mig_distance(df, max_x, interval_x):\n",
    "    f, ax = plt.subplots(1, figsize=(8,4))\n",
    "\n",
    "    # plot de los puntos\n",
    "    ax.scatter(df['distancia']/1000, df['personas_mig'], marker='.', color='k')\n",
    "\n",
    "    # linea roja\n",
    "    ax.plot([0, max_x], [0,0],  color='r')\n",
    "    ax.plot([0, 0], [0, max(df['personas_mig'])+1],  color='r')\n",
    "    \n",
    "    # hide spines\n",
    "    [ax.spines[i].set_visible(False) for i in ['right', 'top', 'left', 'bottom']]\n",
    "\n",
    "    # Etiquetas\n",
    "    ax.set_ylabel(\"Total de flujos\")\n",
    "    ax.set_xlabel(\"Distancia (km)\")\n",
    "\n",
    "    plt.show()"
   ]
  },
  {
   "cell_type": "code",
   "execution_count": 143,
   "id": "053de074",
   "metadata": {},
   "outputs": [
    {
     "data": {
      "image/png": "[encoded data removed]",
      "text/plain": [
       "<Figure size 576x288 with 1 Axes>"
      ]
     },
     "metadata": {
      "needs_background": "light"
     },
     "output_type": "display_data"
    }
   ],
   "source": [
    "plot_mig_distance(df_96_dist, 700, 100)"
   ]
  },
  {
   "cell_type": "code",
   "execution_count": 144,
   "id": "c6e60eeb",
   "metadata": {},
   "outputs": [
    {
     "data": {
      "image/png": "[encoded data removed]",
      "text/plain": [
       "<Figure size 576x288 with 1 Axes>"
      ]
     },
     "metadata": {
      "needs_background": "light"
     },
     "output_type": "display_data"
    }
   ],
   "source": [
    "df_96_dist_no_mvo = df_96_dist.loc[(df_96_dist.depto_origen!=1) & (df_96_dist.depto_destino!=1)]\n",
    "plot_mig_distance(df_96_dist_no_mvo, 700, 100)"
   ]
  },
  {
   "cell_type": "code",
   "execution_count": 145,
   "id": "f194bc56",
   "metadata": {},
   "outputs": [
    {
     "data": {
      "image/png": "[encoded data removed]",
      "text/plain": [
       "<Figure size 576x288 with 1 Axes>"
      ]
     },
     "metadata": {
      "needs_background": "light"
     },
     "output_type": "display_data"
    }
   ],
   "source": [
    "plot_mig_distance(df_11_dist, 700, 100)"
   ]
  },
  {
   "cell_type": "code",
   "execution_count": 146,
   "id": "c5a89210",
   "metadata": {},
   "outputs": [
    {
     "data": {
      "image/png": "[encoded data removed]",
      "text/plain": [
       "<Figure size 576x288 with 1 Axes>"
      ]
     },
     "metadata": {
      "needs_background": "light"
     },
     "output_type": "display_data"
    }
   ],
   "source": [
    "df_11_dist_no_mvo = df_11_dist.loc[(df_11_dist.depto_origen!=1) & (df_11_dist.depto_destino!=1)]\n",
    "plot_mig_distance(df_11_dist_no_mvo, 700, 100)"
   ]
  },
  {
   "cell_type": "code",
   "execution_count": 147,
   "id": "d0fad77a",
   "metadata": {},
   "outputs": [
    {
     "name": "stdout",
     "output_type": "stream",
     "text": [
      "Censo 1996:  2336582\n",
      "Censo 2011:  3145201\n"
     ]
    }
   ],
   "source": [
    "# sumatoria de distancias ponderadas\n",
    "print('Censo 1996: ', round(sum(df_96_dist.distancia/df_96_dist.personas_mig)))\n",
    "print('Censo 2011: ', round(sum(df_11_dist.distancia/df_11_dist.personas_mig)))"
   ]
  },
  {
   "cell_type": "code",
   "execution_count": 148,
   "id": "35be4dbb",
   "metadata": {},
   "outputs": [
    {
     "name": "stdout",
     "output_type": "stream",
     "text": [
      "Censo 1996:  2331553\n",
      "Censo 2011:  3138065\n"
     ]
    }
   ],
   "source": [
    "# sumatoria de distancias ponderadas sin Mvdeo.\n",
    "print('Censo 1996: ', round(sum(df_96_dist_no_mvo.distancia/df_96_dist_no_mvo.personas_mig)))\n",
    "print('Censo 2011: ', round(sum(df_11_dist_no_mvo.distancia/df_11_dist_no_mvo.personas_mig)))"
   ]
  },
  {
   "cell_type": "code",
   "execution_count": 149,
   "id": "29aadeab",
   "metadata": {},
   "outputs": [
    {
     "data": {
      "image/png": "[encoded data removed]",
      "text/plain": [
       "<Figure size 576x288 with 1 Axes>"
      ]
     },
     "metadata": {
      "needs_background": "light"
     },
     "output_type": "display_data"
    }
   ],
   "source": [
    "f, ax = plt.subplots(1, figsize=(8,4))\n",
    "\n",
    "x96 = df_96_dist_no_mvo['distancia'].values/1000\n",
    "y96 = df_96_dist_no_mvo['personas_mig'].values\n",
    "\n",
    "x11 = df_11_dist_no_mvo['distancia'].values/1000\n",
    "y11 = df_11_dist_no_mvo['personas_mig'].values\n",
    "\n",
    "# linea roja\n",
    "xvals = np.geomspace(0.025, 700, 100)\n",
    "yvals = np.power(xvals, -2)\n",
    "ax.plot(xvals, yvals, color='silver', label='_nolegend_')\n",
    "\n",
    "def linear_reg_plot(x, y, label):\n",
    "    slope, intercept = np.polyfit(x, y, 1)\n",
    "    return plt.plot(x, slope*x + intercept, label=label)\n",
    "\n",
    "linear_reg_plot(x96, y96, '1996')\n",
    "linear_reg_plot(x11, y11, '2011')\n",
    "\n",
    "# hide spines\n",
    "[ax.spines[i].set_visible(False) for i in ['right', 'top', 'left', 'bottom']]\n",
    "\n",
    "plt.legend()\n",
    "\n",
    "# Etiquetas\n",
    "ax.set_ylabel(\"Total de flujos\")\n",
    "ax.set_xlabel(\"Distancia (km)\")\n",
    "\n",
    "plt.show()"
   ]
  },
  {
   "cell_type": "code",
   "execution_count": 150,
   "id": "235e5dc6",
   "metadata": {},
   "outputs": [],
   "source": [
    "bins = [0, 100, 200, 300, 400, 500, 600, 700]\n",
    "\n",
    "bin_indices = np.digitize(x96, bins)"
   ]
  },
  {
   "cell_type": "code",
   "execution_count": 151,
   "id": "04a7990d",
   "metadata": {},
   "outputs": [],
   "source": [
    "def calc_cats(df):\n",
    "    cat11 = df.groupby('categoria_dist').sum()['personas_mig'].to_frame().reset_index()\n",
    "    cat11['porc'] = (cat11.personas_mig / cat11.personas_mig.sum())*100\n",
    "    return cat11"
   ]
  },
  {
   "cell_type": "code",
   "execution_count": 152,
   "id": "59ec7459",
   "metadata": {},
   "outputs": [],
   "source": [
    "porc96 = calc_cats(df_96_dist)\n",
    "porc11 = calc_cats(df_11_dist)"
   ]
  },
  {
   "cell_type": "code",
   "execution_count": 153,
   "id": "827f0823",
   "metadata": {},
   "outputs": [
    {
     "data": {
      "text/plain": [
       "array([71451, 47301, 22815, 26081, 17720,  1575,  6624], dtype=int64)"
      ]
     },
     "execution_count": 153,
     "metadata": {},
     "output_type": "execute_result"
    }
   ],
   "source": [
    "porc96.personas_mig.values"
   ]
  },
  {
   "cell_type": "code",
   "execution_count": 154,
   "id": "8198b995",
   "metadata": {},
   "outputs": [
    {
     "data": {
      "text/html": [
       "<div>\n",
       "<style scoped>\n",
       "    .dataframe tbody tr th:only-of-type {\n",
       "        vertical-align: middle;\n",
       "    }\n",
       "\n",
       "    .dataframe tbody tr th {\n",
       "        vertical-align: top;\n",
       "    }\n",
       "\n",
       "    .dataframe thead th {\n",
       "        text-align: right;\n",
       "    }\n",
       "</style>\n",
       "<table border=\"1\" class=\"dataframe\">\n",
       "  <thead>\n",
       "    <tr style=\"text-align: right;\">\n",
       "      <th></th>\n",
       "      <th>categoria_dist</th>\n",
       "      <th>personas_mig</th>\n",
       "      <th>porc</th>\n",
       "    </tr>\n",
       "  </thead>\n",
       "  <tbody>\n",
       "    <tr>\n",
       "      <th>0</th>\n",
       "      <td>1</td>\n",
       "      <td>57462</td>\n",
       "      <td>38.627579</td>\n",
       "    </tr>\n",
       "    <tr>\n",
       "      <th>1</th>\n",
       "      <td>2</td>\n",
       "      <td>37609</td>\n",
       "      <td>25.281832</td>\n",
       "    </tr>\n",
       "    <tr>\n",
       "      <th>2</th>\n",
       "      <td>3</td>\n",
       "      <td>16116</td>\n",
       "      <td>10.833630</td>\n",
       "    </tr>\n",
       "    <tr>\n",
       "      <th>3</th>\n",
       "      <td>4</td>\n",
       "      <td>18855</td>\n",
       "      <td>12.674863</td>\n",
       "    </tr>\n",
       "    <tr>\n",
       "      <th>4</th>\n",
       "      <td>5</td>\n",
       "      <td>12660</td>\n",
       "      <td>8.510409</td>\n",
       "    </tr>\n",
       "    <tr>\n",
       "      <th>5</th>\n",
       "      <td>6</td>\n",
       "      <td>1498</td>\n",
       "      <td>1.006998</td>\n",
       "    </tr>\n",
       "    <tr>\n",
       "      <th>6</th>\n",
       "      <td>7</td>\n",
       "      <td>4559</td>\n",
       "      <td>3.064689</td>\n",
       "    </tr>\n",
       "  </tbody>\n",
       "</table>\n",
       "</div>"
      ],
      "text/plain": [
       "   categoria_dist  personas_mig       porc\n",
       "0               1         57462  38.627579\n",
       "1               2         37609  25.281832\n",
       "2               3         16116  10.833630\n",
       "3               4         18855  12.674863\n",
       "4               5         12660   8.510409\n",
       "5               6          1498   1.006998\n",
       "6               7          4559   3.064689"
      ]
     },
     "execution_count": 154,
     "metadata": {},
     "output_type": "execute_result"
    }
   ],
   "source": [
    "porc11"
   ]
  },
  {
   "cell_type": "code",
   "execution_count": 156,
   "id": "5c8ab8d5",
   "metadata": {},
   "outputs": [
    {
     "data": {
      "image/png": "[encoded data removed]",
      "text/plain": [
       "<Figure size 432x288 with 1 Axes>"
      ]
     },
     "metadata": {
      "needs_background": "light"
     },
     "output_type": "display_data"
    }
   ],
   "source": [
    "labels = ['< 100 km', '100-200', '200-300', '300-400', '400-500', '500-600', '>600']\n",
    "\n",
    "p96 = porc96.personas_mig.values\n",
    "p11 = porc11.personas_mig.values\n",
    "\n",
    "x = np.arange(len(labels))  # the label locations\n",
    "width = 0.35  # the width of the bars\n",
    "\n",
    "fig, ax = plt.subplots()\n",
    "rects1 = ax.bar(x - width/2, p96, width, label='Flujos Censo 1996')\n",
    "rects2 = ax.bar(x + width/2, p11, width, label='Flujos Censo 2011')\n",
    "\n",
    "# Add some text for labels, title and custom x-axis tick labels, etc.\n",
    "ax.set_ylabel('Personas migrantes internas')\n",
    "ax.set_title('Categoría de distancia')\n",
    "ax.set_xticks(x)\n",
    "ax.set_xticklabels(labels)\n",
    "ax.legend()\n",
    "[ax.spines[i].set_visible(False) for i in ['right', 'top', 'left', 'bottom']]\n",
    "\n",
    "# ax.bar_label(rects1, padding=3)\n",
    "# ax.bar_label(rects2, padding=3)\n",
    "\n",
    "plt.show()"
   ]
  },
  {
   "cell_type": "code",
   "execution_count": 157,
   "id": "1fee3ac8",
   "metadata": {},
   "outputs": [
    {
     "data": {
      "image/png": "[encoded data removed]",
      "text/plain": [
       "<Figure size 432x288 with 1 Axes>"
      ]
     },
     "metadata": {
      "needs_background": "light"
     },
     "output_type": "display_data"
    }
   ],
   "source": [
    "p96 = porc96.porc.values\n",
    "p11 = porc11.porc.values\n",
    "\n",
    "x = np.arange(len(labels))  # the label locations\n",
    "width = 0.35  # the width of the bars\n",
    "\n",
    "fig, ax = plt.subplots()\n",
    "rects1 = ax.bar(x - width/2, p96, width, label='Flujos Censo 1996')\n",
    "rects2 = ax.bar(x + width/2, p11, width, label='Flujos Censo 2011')\n",
    "\n",
    "# Add some text for labels, title and custom x-axis tick labels, etc.\n",
    "ax.set_ylabel('Personas migrantes internas')\n",
    "ax.set_title('Categoría de distancia')\n",
    "ax.set_xticks(x)\n",
    "ax.set_xticklabels(labels)\n",
    "ax.legend()\n",
    "[ax.spines[i].set_visible(False) for i in ['right', 'top', 'left', 'bottom']]\n",
    "\n",
    "plt.show()"
   ]
  },
  {
   "cell_type": "code",
   "execution_count": 174,
   "id": "4136ac8c",
   "metadata": {},
   "outputs": [],
   "source": [
    "def func(x, a, b) :\n",
    "    return a * np.power(x, b)\n",
    "\n",
    "def fit_plot(x, y):\n",
    "    popt, pcov = curve_fit(func, x, y, maxfev=5000)  \n",
    "    plt.plot(np.sort(x), func(np.sort(x), *popt), '-')\n",
    "    plt.plot(x, y, '.')\n",
    "    return plt.show()"
   ]
  },
  {
   "cell_type": "code",
   "execution_count": 175,
   "id": "6ff9f661",
   "metadata": {},
   "outputs": [
    {
     "data": {
      "image/png": "[encoded data removed]",
      "text/plain": [
       "<Figure size 432x288 with 1 Axes>"
      ]
     },
     "metadata": {
      "needs_background": "light"
     },
     "output_type": "display_data"
    }
   ],
   "source": [
    "fit_plot(x96, y96)"
   ]
  },
  {
   "cell_type": "code",
   "execution_count": 161,
   "id": "31fb9b1e",
   "metadata": {},
   "outputs": [
    {
     "data": {
      "image/png": "[encoded data removed]",
      "text/plain": [
       "<Figure size 432x288 with 1 Axes>"
      ]
     },
     "metadata": {
      "needs_background": "light"
     },
     "output_type": "display_data"
    }
   ],
   "source": [
    "fit_plot(x11, y11)"
   ]
  },
  {
   "cell_type": "code",
   "execution_count": 192,
   "id": "c42a07c2",
   "metadata": {},
   "outputs": [],
   "source": [
    "def fitted_curves_plot(x1, y1, x2, y2):\n",
    "    popt1, pcov1 = curve_fit(func, x1, y1, maxfev=5000)  \n",
    "    plt.plot(np.sort(x1), func(np.sort(x1), *popt1), '-')\n",
    "    \n",
    "    popt2, pcov2 = curve_fit(func, x2, y2, maxfev=5000)  \n",
    "    plt.plot(np.sort(x2), func(np.sort(x2), *popt2), '-')\n",
    "    \n",
    "    return plt.show()"
   ]
  },
  {
   "cell_type": "code",
   "execution_count": 193,
   "id": "52ba8a01",
   "metadata": {},
   "outputs": [
    {
     "data": {
      "image/png": "[encoded data removed]",
      "text/plain": [
       "<Figure size 432x288 with 1 Axes>"
      ]
     },
     "metadata": {
      "needs_background": "light"
     },
     "output_type": "display_data"
    }
   ],
   "source": [
    "fitted_curves_plot(x96, y96, x11, y11)"
   ]
  }
 ],
 "metadata": {
  "kernelspec": {
   "display_name": "Python 3",
   "language": "python",
   "name": "python3"
  },
  "language_info": {
   "codemirror_mode": {
    "name": "ipython",
    "version": 3
   },
   "file_extension": ".py",
   "mimetype": "text/x-python",
   "name": "python",
   "nbconvert_exporter": "python",
   "pygments_lexer": "ipython3",
   "version": "3.8.8"
  }
 },
 "nbformat": 4,
 "nbformat_minor": 5
}
