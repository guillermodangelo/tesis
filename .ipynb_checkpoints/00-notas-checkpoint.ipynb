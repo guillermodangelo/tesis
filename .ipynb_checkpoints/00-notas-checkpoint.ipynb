{
 "cells": [
  {
   "cell_type": "markdown",
   "metadata": {},
   "source": [
    "## Notas"
   ]
  },
  {
   "cell_type": "code",
   "execution_count": null,
   "metadata": {},
   "outputs": [],
   "source": [
    "# Este gráfico se prefirió sacarlo\n",
    "\n",
    "# # GRUPOS DE 0 a 3 años', '4 a 17 años', '18 a 64 años', '65 o más años'\n",
    "# grupos_dependencia = [grupos_de_dependencia(x, 'PERNA01')  for x in lista_dfs_censo]\n",
    "\n",
    "# # traspone las series enlistada y las devuelve en una lista \n",
    "# grupos_dependencia_t = [[h,i,j,k] for h,i,j,k in zip(*grupos_dependencia)]\n",
    "\n",
    "# fig, ax = plt.subplots(figsize = fig_size)\n",
    "\n",
    "# # n de barras\n",
    "# ind = np.arange(4)\n",
    "\n",
    "# # mínimo y máximo de ejes\n",
    "# plt.ylim(0, 100)\n",
    "\n",
    "# # enlista los fondos calculados con la función get_bottoms\n",
    "# _bottoms = get_bottoms(grupos_dependencia_t)\n",
    "\n",
    "# # grafica\n",
    "# p = [plt.bar(ind, grupos_dependencia_t[i], width=bars_width, color=colors[i], bottom=_bottoms[i]) for i in range(3)]\n",
    "\n",
    "# _labels = ['0 a 14 años',\n",
    "#            '15 a 64 años',\n",
    "#            '65 o más años']\n",
    "\n",
    "# # leyenda\n",
    "# format_legend(1.60, _labels)\n",
    "\n",
    "# format_spines(color_spines)\n",
    "# format_ticks(labels_extended, color_spines)\n",
    "\n",
    "# save_chart('eda_005_grupos_dependencia.pdf')\n",
    "\n",
    "# plt.show()"
   ]
  }
 ],
 "metadata": {
  "kernelspec": {
   "display_name": "Python 3",
   "language": "python",
   "name": "python3"
  },
  "language_info": {
   "codemirror_mode": {
    "name": "ipython",
    "version": 3
   },
   "file_extension": ".py",
   "mimetype": "text/x-python",
   "name": "python",
   "nbconvert_exporter": "python",
   "pygments_lexer": "ipython3",
   "version": "3.8.2"
  }
 },
 "nbformat": 4,
 "nbformat_minor": 4
}
