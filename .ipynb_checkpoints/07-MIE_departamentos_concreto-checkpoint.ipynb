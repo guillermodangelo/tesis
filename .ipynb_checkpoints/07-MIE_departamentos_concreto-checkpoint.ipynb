{
 "cells": [
  {
   "cell_type": "code",
   "execution_count": 1,
   "id": "17973515",
   "metadata": {},
   "outputs": [],
   "source": [
    "import pandas as pd\n",
    "import statsmodels.api as sm\n",
    "import statsmodels.formula.api as smf\n",
    "    \n",
    "# funciones desarrolladas\n",
    "from functions.cargar_data import *\n",
    "from functions.modelos import *"
   ]
  },
  {
   "cell_type": "code",
   "execution_count": 2,
   "id": "0e782f72",
   "metadata": {},
   "outputs": [
    {
     "data": {
      "text/html": [
       "<div>\n",
       "<style scoped>\n",
       "    .dataframe tbody tr th:only-of-type {\n",
       "        vertical-align: middle;\n",
       "    }\n",
       "\n",
       "    .dataframe tbody tr th {\n",
       "        vertical-align: top;\n",
       "    }\n",
       "\n",
       "    .dataframe thead th {\n",
       "        text-align: right;\n",
       "    }\n",
       "</style>\n",
       "<table border=\"1\" class=\"dataframe\">\n",
       "  <thead>\n",
       "    <tr style=\"text-align: right;\">\n",
       "      <th></th>\n",
       "      <th>cod</th>\n",
       "      <th>depto_origen</th>\n",
       "      <th>depto_destino</th>\n",
       "      <th>personas_mig</th>\n",
       "      <th>personas_mig_100k</th>\n",
       "      <th>pob_origen</th>\n",
       "      <th>pob_destino</th>\n",
       "      <th>dist</th>\n",
       "      <th>pbi_origen</th>\n",
       "      <th>pbi_porcen_ori</th>\n",
       "      <th>pbi_destino</th>\n",
       "      <th>pbi_porcen_des</th>\n",
       "      <th>largo_limite</th>\n",
       "      <th>dummy_limit</th>\n",
       "      <th>empresas_origen</th>\n",
       "      <th>empresas_destino</th>\n",
       "      <th>log_pbi_destino</th>\n",
       "      <th>log_dist</th>\n",
       "      <th>nom_depto_orig</th>\n",
       "      <th>nom_depto_des</th>\n",
       "    </tr>\n",
       "  </thead>\n",
       "  <tbody>\n",
       "    <tr>\n",
       "      <th>0</th>\n",
       "      <td>102</td>\n",
       "      <td>1</td>\n",
       "      <td>2</td>\n",
       "      <td>914</td>\n",
       "      <td>891</td>\n",
       "      <td>1318755</td>\n",
       "      <td>73377</td>\n",
       "      <td>610726</td>\n",
       "      <td>465848031</td>\n",
       "      <td>50.3</td>\n",
       "      <td>14214980</td>\n",
       "      <td>1.5</td>\n",
       "      <td>0.0001</td>\n",
       "      <td>False</td>\n",
       "      <td>3124</td>\n",
       "      <td>55</td>\n",
       "      <td>16.469807</td>\n",
       "      <td>13.322404</td>\n",
       "      <td>MONTEVIDEO</td>\n",
       "      <td>ARTIGAS</td>\n",
       "    </tr>\n",
       "    <tr>\n",
       "      <th>1</th>\n",
       "      <td>103</td>\n",
       "      <td>1</td>\n",
       "      <td>3</td>\n",
       "      <td>33127</td>\n",
       "      <td>0</td>\n",
       "      <td>1318755</td>\n",
       "      <td>520173</td>\n",
       "      <td>22544</td>\n",
       "      <td>465848031</td>\n",
       "      <td>50.3</td>\n",
       "      <td>86306492</td>\n",
       "      <td>9.3</td>\n",
       "      <td>60107.0000</td>\n",
       "      <td>True</td>\n",
       "      <td>3124</td>\n",
       "      <td>563</td>\n",
       "      <td>18.273415</td>\n",
       "      <td>10.023224</td>\n",
       "      <td>MONTEVIDEO</td>\n",
       "      <td>CANELONES</td>\n",
       "    </tr>\n",
       "  </tbody>\n",
       "</table>\n",
       "</div>"
      ],
      "text/plain": [
       "   cod  depto_origen  depto_destino  personas_mig  personas_mig_100k  \\\n",
       "0  102             1              2           914                891   \n",
       "1  103             1              3         33127                  0   \n",
       "\n",
       "   pob_origen  pob_destino    dist  pbi_origen  pbi_porcen_ori  pbi_destino  \\\n",
       "0     1318755        73377  610726   465848031            50.3     14214980   \n",
       "1     1318755       520173   22544   465848031            50.3     86306492   \n",
       "\n",
       "   pbi_porcen_des  largo_limite  dummy_limit  empresas_origen  \\\n",
       "0             1.5        0.0001        False             3124   \n",
       "1             9.3    60107.0000         True             3124   \n",
       "\n",
       "   empresas_destino  log_pbi_destino   log_dist nom_depto_orig nom_depto_des  \n",
       "0                55        16.469807  13.322404     MONTEVIDEO       ARTIGAS  \n",
       "1               563        18.273415  10.023224     MONTEVIDEO     CANELONES  "
      ]
     },
     "execution_count": 2,
     "metadata": {},
     "output_type": "execute_result"
    }
   ],
   "source": [
    "# carga datos diádicos\n",
    "dd_deptos = pd.read_csv('tablas/dd_deptos.csv')\n",
    "dd_deptos.loc[dd_deptos.largo_limite.isna(), 'largo_limite'] = 0.0001\n",
    "dd_deptos.head(2)"
   ]
  },
  {
   "cell_type": "markdown",
   "id": "c57673af",
   "metadata": {},
   "source": [
    "## Modelo con Montevideo"
   ]
  },
  {
   "cell_type": "code",
   "execution_count": 3,
   "id": "ddc3d106",
   "metadata": {},
   "outputs": [
    {
     "data": {
      "text/html": [
       "<table class=\"simpletable\">\n",
       "<caption>Generalized Linear Model Regression Results</caption>\n",
       "<tr>\n",
       "  <th>Dep. Variable:</th>     <td>personas_mig</td>   <th>  No. Observations:  </th>  <td>   342</td> \n",
       "</tr>\n",
       "<tr>\n",
       "  <th>Model:</th>                  <td>GLM</td>       <th>  Df Residuals:      </th>  <td>   318</td> \n",
       "</tr>\n",
       "<tr>\n",
       "  <th>Model Family:</th>         <td>Poisson</td>     <th>  Df Model:          </th>  <td>    23</td> \n",
       "</tr>\n",
       "<tr>\n",
       "  <th>Link Function:</th>          <td>log</td>       <th>  Scale:             </th> <td>  1.0000</td>\n",
       "</tr>\n",
       "<tr>\n",
       "  <th>Method:</th>                <td>IRLS</td>       <th>  Log-Likelihood:    </th> <td> -9050.1</td>\n",
       "</tr>\n",
       "<tr>\n",
       "  <th>Date:</th>            <td>Tue, 24 Aug 2021</td> <th>  Deviance:          </th> <td>  15872.</td>\n",
       "</tr>\n",
       "<tr>\n",
       "  <th>Time:</th>                <td>11:56:47</td>     <th>  Pearson chi2:      </th> <td>1.77e+04</td>\n",
       "</tr>\n",
       "<tr>\n",
       "  <th>No. Iterations:</th>          <td>6</td>        <th>                     </th>     <td> </td>   \n",
       "</tr>\n",
       "<tr>\n",
       "  <th>Covariance Type:</th>     <td>nonrobust</td>    <th>                     </th>     <td> </td>   \n",
       "</tr>\n",
       "</table>\n",
       "<table class=\"simpletable\">\n",
       "<tr>\n",
       "                 <td></td>                   <th>coef</th>     <th>std err</th>      <th>z</th>      <th>P>|z|</th>  <th>[0.025</th>    <th>0.975]</th>  \n",
       "</tr>\n",
       "<tr>\n",
       "  <th>nom_depto_orig[ARTIGAS]</th>        <td>  -10.7752</td> <td>    0.192</td> <td>  -56.217</td> <td> 0.000</td> <td>  -11.151</td> <td>  -10.400</td>\n",
       "</tr>\n",
       "<tr>\n",
       "  <th>nom_depto_orig[CANELONES]</th>      <td>  -10.6602</td> <td>    0.183</td> <td>  -58.143</td> <td> 0.000</td> <td>  -11.020</td> <td>  -10.301</td>\n",
       "</tr>\n",
       "<tr>\n",
       "  <th>nom_depto_orig[CERRO LARGO]</th>    <td>  -11.0359</td> <td>    0.190</td> <td>  -58.063</td> <td> 0.000</td> <td>  -11.408</td> <td>  -10.663</td>\n",
       "</tr>\n",
       "<tr>\n",
       "  <th>nom_depto_orig[COLONIA]</th>        <td>  -11.0233</td> <td>    0.187</td> <td>  -58.839</td> <td> 0.000</td> <td>  -11.390</td> <td>  -10.656</td>\n",
       "</tr>\n",
       "<tr>\n",
       "  <th>nom_depto_orig[DURAZNO]</th>        <td>  -11.3842</td> <td>    0.188</td> <td>  -60.592</td> <td> 0.000</td> <td>  -11.752</td> <td>  -11.016</td>\n",
       "</tr>\n",
       "<tr>\n",
       "  <th>nom_depto_orig[FLORES]</th>         <td>  -12.2325</td> <td>    0.189</td> <td>  -64.824</td> <td> 0.000</td> <td>  -12.602</td> <td>  -11.863</td>\n",
       "</tr>\n",
       "<tr>\n",
       "  <th>nom_depto_orig[FLORIDA]</th>        <td>  -11.5357</td> <td>    0.187</td> <td>  -61.554</td> <td> 0.000</td> <td>  -11.903</td> <td>  -11.168</td>\n",
       "</tr>\n",
       "<tr>\n",
       "  <th>nom_depto_orig[LAVALLEJA]</th>      <td>  -11.7013</td> <td>    0.189</td> <td>  -61.994</td> <td> 0.000</td> <td>  -12.071</td> <td>  -11.331</td>\n",
       "</tr>\n",
       "<tr>\n",
       "  <th>nom_depto_orig[MALDONADO]</th>      <td>  -10.9373</td> <td>    0.188</td> <td>  -58.313</td> <td> 0.000</td> <td>  -11.305</td> <td>  -10.570</td>\n",
       "</tr>\n",
       "<tr>\n",
       "  <th>nom_depto_orig[MONTEVIDEO]</th>     <td>   -8.3168</td> <td>    0.185</td> <td>  -44.891</td> <td> 0.000</td> <td>   -8.680</td> <td>   -7.954</td>\n",
       "</tr>\n",
       "<tr>\n",
       "  <th>nom_depto_orig[PAYSANDU]</th>       <td>  -10.9962</td> <td>    0.189</td> <td>  -58.161</td> <td> 0.000</td> <td>  -11.367</td> <td>  -10.626</td>\n",
       "</tr>\n",
       "<tr>\n",
       "  <th>nom_depto_orig[RIO NEGRO]</th>      <td>  -11.4450</td> <td>    0.189</td> <td>  -60.665</td> <td> 0.000</td> <td>  -11.815</td> <td>  -11.075</td>\n",
       "</tr>\n",
       "<tr>\n",
       "  <th>nom_depto_orig[RIVERA]</th>         <td>  -10.9134</td> <td>    0.191</td> <td>  -57.147</td> <td> 0.000</td> <td>  -11.288</td> <td>  -10.539</td>\n",
       "</tr>\n",
       "<tr>\n",
       "  <th>nom_depto_orig[ROCHA]</th>          <td>  -11.4046</td> <td>    0.190</td> <td>  -60.136</td> <td> 0.000</td> <td>  -11.776</td> <td>  -11.033</td>\n",
       "</tr>\n",
       "<tr>\n",
       "  <th>nom_depto_orig[SALTO]</th>          <td>  -10.8857</td> <td>    0.190</td> <td>  -57.143</td> <td> 0.000</td> <td>  -11.259</td> <td>  -10.512</td>\n",
       "</tr>\n",
       "<tr>\n",
       "  <th>nom_depto_orig[SAN JOSE]</th>       <td>  -11.6378</td> <td>    0.190</td> <td>  -61.406</td> <td> 0.000</td> <td>  -12.009</td> <td>  -11.266</td>\n",
       "</tr>\n",
       "<tr>\n",
       "  <th>nom_depto_orig[SORIANO]</th>        <td>  -11.1342</td> <td>    0.188</td> <td>  -59.129</td> <td> 0.000</td> <td>  -11.503</td> <td>  -10.765</td>\n",
       "</tr>\n",
       "<tr>\n",
       "  <th>nom_depto_orig[TACUAREMBO]</th>     <td>  -10.9736</td> <td>    0.190</td> <td>  -57.748</td> <td> 0.000</td> <td>  -11.346</td> <td>  -10.601</td>\n",
       "</tr>\n",
       "<tr>\n",
       "  <th>nom_depto_orig[TREINTA Y TRES]</th> <td>  -11.4521</td> <td>    0.189</td> <td>  -60.564</td> <td> 0.000</td> <td>  -11.823</td> <td>  -11.082</td>\n",
       "</tr>\n",
       "<tr>\n",
       "  <th>dummy_limit[T.True]</th>            <td>   -4.9019</td> <td>    0.105</td> <td>  -46.514</td> <td> 0.000</td> <td>   -5.108</td> <td>   -4.695</td>\n",
       "</tr>\n",
       "<tr>\n",
       "  <th>np.log(largo_limite)</th>           <td>    0.2969</td> <td>    0.005</td> <td>   56.210</td> <td> 0.000</td> <td>    0.287</td> <td>    0.307</td>\n",
       "</tr>\n",
       "<tr>\n",
       "  <th>log_pbi_destino</th>                <td>    1.2131</td> <td>    0.008</td> <td>  155.858</td> <td> 0.000</td> <td>    1.198</td> <td>    1.228</td>\n",
       "</tr>\n",
       "<tr>\n",
       "  <th>pbi_porcen_des</th>                 <td>   -0.0139</td> <td>    0.000</td> <td>  -28.883</td> <td> 0.000</td> <td>   -0.015</td> <td>   -0.013</td>\n",
       "</tr>\n",
       "<tr>\n",
       "  <th>log_dist</th>                       <td>   -0.1723</td> <td>    0.007</td> <td>  -25.119</td> <td> 0.000</td> <td>   -0.186</td> <td>   -0.159</td>\n",
       "</tr>\n",
       "</table>"
      ],
      "text/plain": [
       "<class 'statsmodels.iolib.summary.Summary'>\n",
       "\"\"\"\n",
       "                 Generalized Linear Model Regression Results                  \n",
       "==============================================================================\n",
       "Dep. Variable:           personas_mig   No. Observations:                  342\n",
       "Model:                            GLM   Df Residuals:                      318\n",
       "Model Family:                 Poisson   Df Model:                           23\n",
       "Link Function:                    log   Scale:                          1.0000\n",
       "Method:                          IRLS   Log-Likelihood:                -9050.1\n",
       "Date:                Tue, 24 Aug 2021   Deviance:                       15872.\n",
       "Time:                        11:56:47   Pearson chi2:                 1.77e+04\n",
       "No. Iterations:                     6                                         \n",
       "Covariance Type:            nonrobust                                         \n",
       "==================================================================================================\n",
       "                                     coef    std err          z      P>|z|      [0.025      0.975]\n",
       "--------------------------------------------------------------------------------------------------\n",
       "nom_depto_orig[ARTIGAS]          -10.7752      0.192    -56.217      0.000     -11.151     -10.400\n",
       "nom_depto_orig[CANELONES]        -10.6602      0.183    -58.143      0.000     -11.020     -10.301\n",
       "nom_depto_orig[CERRO LARGO]      -11.0359      0.190    -58.063      0.000     -11.408     -10.663\n",
       "nom_depto_orig[COLONIA]          -11.0233      0.187    -58.839      0.000     -11.390     -10.656\n",
       "nom_depto_orig[DURAZNO]          -11.3842      0.188    -60.592      0.000     -11.752     -11.016\n",
       "nom_depto_orig[FLORES]           -12.2325      0.189    -64.824      0.000     -12.602     -11.863\n",
       "nom_depto_orig[FLORIDA]          -11.5357      0.187    -61.554      0.000     -11.903     -11.168\n",
       "nom_depto_orig[LAVALLEJA]        -11.7013      0.189    -61.994      0.000     -12.071     -11.331\n",
       "nom_depto_orig[MALDONADO]        -10.9373      0.188    -58.313      0.000     -11.305     -10.570\n",
       "nom_depto_orig[MONTEVIDEO]        -8.3168      0.185    -44.891      0.000      -8.680      -7.954\n",
       "nom_depto_orig[PAYSANDU]         -10.9962      0.189    -58.161      0.000     -11.367     -10.626\n",
       "nom_depto_orig[RIO NEGRO]        -11.4450      0.189    -60.665      0.000     -11.815     -11.075\n",
       "nom_depto_orig[RIVERA]           -10.9134      0.191    -57.147      0.000     -11.288     -10.539\n",
       "nom_depto_orig[ROCHA]            -11.4046      0.190    -60.136      0.000     -11.776     -11.033\n",
       "nom_depto_orig[SALTO]            -10.8857      0.190    -57.143      0.000     -11.259     -10.512\n",
       "nom_depto_orig[SAN JOSE]         -11.6378      0.190    -61.406      0.000     -12.009     -11.266\n",
       "nom_depto_orig[SORIANO]          -11.1342      0.188    -59.129      0.000     -11.503     -10.765\n",
       "nom_depto_orig[TACUAREMBO]       -10.9736      0.190    -57.748      0.000     -11.346     -10.601\n",
       "nom_depto_orig[TREINTA Y TRES]   -11.4521      0.189    -60.564      0.000     -11.823     -11.082\n",
       "dummy_limit[T.True]               -4.9019      0.105    -46.514      0.000      -5.108      -4.695\n",
       "np.log(largo_limite)               0.2969      0.005     56.210      0.000       0.287       0.307\n",
       "log_pbi_destino                    1.2131      0.008    155.858      0.000       1.198       1.228\n",
       "pbi_porcen_des                    -0.0139      0.000    -28.883      0.000      -0.015      -0.013\n",
       "log_dist                          -0.1723      0.007    -25.119      0.000      -0.186      -0.159\n",
       "==================================================================================================\n",
       "\"\"\""
      ]
     },
     "execution_count": 3,
     "metadata": {},
     "output_type": "execute_result"
    }
   ],
   "source": [
    "# define el string tomado como fórmula\n",
    "formula = \"personas_mig ~ nom_depto_orig + dummy_limit + np.log(largo_limite) + log_pbi_destino + pbi_porcen_des + log_dist -1\"\n",
    "\n",
    "# entrena y ajusta el modelo\n",
    "prodSim = smf.glm(formula=formula, data=dd_deptos, family = sm.families.Poisson()).fit()\n",
    "\n",
    "# resultados\n",
    "prodSim.summary()"
   ]
  },
  {
   "cell_type": "code",
   "execution_count": 4,
   "id": "9b392d28",
   "metadata": {},
   "outputs": [
    {
     "data": {
      "text/markdown": [
       "$R²$ = 0.988"
      ],
      "text/plain": [
       "<IPython.core.display.Markdown object>"
      ]
     },
     "metadata": {},
     "output_type": "display_data"
    },
    {
     "data": {
      "text/markdown": [
       "RMSE = 213.5883"
      ],
      "text/plain": [
       "<IPython.core.display.Markdown object>"
      ]
     },
     "metadata": {},
     "output_type": "display_data"
    }
   ],
   "source": [
    "print_scores_simple(dd_deptos.personas_mig, prodSim.predict())"
   ]
  },
  {
   "cell_type": "code",
   "execution_count": 5,
   "id": "19b268b5",
   "metadata": {},
   "outputs": [],
   "source": [
    "prodSim.save(\"modelos/modelo_X.pickle\")"
   ]
  },
  {
   "cell_type": "markdown",
   "id": "dd9e907d",
   "metadata": {},
   "source": [
    "## Modelo sin Montevideo"
   ]
  },
  {
   "cell_type": "code",
   "execution_count": null,
   "id": "111403ad",
   "metadata": {},
   "outputs": [],
   "source": [
    "dd_deptos_no_mvo = dd_deptos.loc[(dd_deptos.depto_origen!=1) & (dd_deptos.depto_destino!=1)]"
   ]
  },
  {
   "cell_type": "code",
   "execution_count": null,
   "id": "a3054cdd",
   "metadata": {},
   "outputs": [],
   "source": [
    "# define el string tomado como fórmula\n",
    "formula = \"personas_mig ~ nom_depto_orig + dummy_limit + np.log(largo_limite) + log_pbi_destino + pbi_porcen_des + log_dist -1\"\n",
    "\n",
    "# entrena y ajusta el modelo\n",
    "prodSim = smf.glm(formula=formula, data=dd_deptos_no_mvo, family = sm.families.Poisson()).fit()\n",
    "\n",
    "# resultados\n",
    "prodSim.summary()"
   ]
  },
  {
   "cell_type": "code",
   "execution_count": null,
   "id": "1f76d7d9",
   "metadata": {},
   "outputs": [],
   "source": [
    "prodSim.save(\"modelos/modelo_Y_noMVO.pickle\")"
   ]
  }
 ],
 "metadata": {
  "kernelspec": {
   "display_name": "Python 3",
   "language": "python",
   "name": "python3"
  },
  "language_info": {
   "codemirror_mode": {
    "name": "ipython",
    "version": 3
   },
   "file_extension": ".py",
   "mimetype": "text/x-python",
   "name": "python",
   "nbconvert_exporter": "python",
   "pygments_lexer": "ipython3",
   "version": "3.7.10"
  }
 },
 "nbformat": 4,
 "nbformat_minor": 5
}
