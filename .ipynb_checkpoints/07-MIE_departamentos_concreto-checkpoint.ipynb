{
 "cells": [
  {
   "cell_type": "code",
   "execution_count": 1,
   "id": "ac4494bf",
   "metadata": {},
   "outputs": [],
   "source": [
    "import pandas as pd\n",
    "import statsmodels.api as sm\n",
    "import statsmodels.formula.api as smf\n",
    "\n",
    "# funciones desarrolladas\n",
    "from functions.cargar_data import *\n",
    "from functions.modelos import *\n",
    "from functions.graficas import plot_gt"
   ]
  },
  {
   "cell_type": "code",
   "execution_count": 2,
   "id": "00fce05a",
   "metadata": {},
   "outputs": [
    {
     "name": "stdout",
     "output_type": "stream",
     "text": [
      "Index(['cod', 'depto_origen', 'depto_destino', 'personas_mig',\n",
      "       'personas_mig_18_25', 'personas_mig_26_35', 'personas_mig_100k',\n",
      "       'pob_origen', 'pob_destino', 'dist', 'dist_km', 'pbi_origen',\n",
      "       'pbi_porcen_ori', 'pbi_destino', 'pbi_porcen_des',\n",
      "       'pbi_origen_millardos', 'pbi_destino_millardos', 'largo_limite',\n",
      "       'dummy_limit', 'empresas_origen', 'empresas_destino', 'log_pbi_destino',\n",
      "       'log_dist', 'nom_depto_orig', 'nom_depto_des', 'largo_limite_km'],\n",
      "      dtype='object')\n"
     ]
    },
    {
     "data": {
      "text/html": [
       "<div>\n",
       "<style scoped>\n",
       "    .dataframe tbody tr th:only-of-type {\n",
       "        vertical-align: middle;\n",
       "    }\n",
       "\n",
       "    .dataframe tbody tr th {\n",
       "        vertical-align: top;\n",
       "    }\n",
       "\n",
       "    .dataframe thead th {\n",
       "        text-align: right;\n",
       "    }\n",
       "</style>\n",
       "<table border=\"1\" class=\"dataframe\">\n",
       "  <thead>\n",
       "    <tr style=\"text-align: right;\">\n",
       "      <th></th>\n",
       "      <th>cod</th>\n",
       "      <th>depto_origen</th>\n",
       "      <th>depto_destino</th>\n",
       "      <th>personas_mig</th>\n",
       "      <th>personas_mig_18_25</th>\n",
       "      <th>personas_mig_26_35</th>\n",
       "      <th>personas_mig_100k</th>\n",
       "      <th>pob_origen</th>\n",
       "      <th>pob_destino</th>\n",
       "      <th>dist</th>\n",
       "      <th>...</th>\n",
       "      <th>pbi_destino_millardos</th>\n",
       "      <th>largo_limite</th>\n",
       "      <th>dummy_limit</th>\n",
       "      <th>empresas_origen</th>\n",
       "      <th>empresas_destino</th>\n",
       "      <th>log_pbi_destino</th>\n",
       "      <th>log_dist</th>\n",
       "      <th>nom_depto_orig</th>\n",
       "      <th>nom_depto_des</th>\n",
       "      <th>largo_limite_km</th>\n",
       "    </tr>\n",
       "  </thead>\n",
       "  <tbody>\n",
       "    <tr>\n",
       "      <th>0</th>\n",
       "      <td>102</td>\n",
       "      <td>1</td>\n",
       "      <td>2</td>\n",
       "      <td>914</td>\n",
       "      <td>114</td>\n",
       "      <td>247</td>\n",
       "      <td>891</td>\n",
       "      <td>1318755</td>\n",
       "      <td>73377</td>\n",
       "      <td>610726</td>\n",
       "      <td>...</td>\n",
       "      <td>14.215</td>\n",
       "      <td>0.0001</td>\n",
       "      <td>False</td>\n",
       "      <td>3124</td>\n",
       "      <td>55</td>\n",
       "      <td>16.469807</td>\n",
       "      <td>13.322404</td>\n",
       "      <td>MONTEVIDEO</td>\n",
       "      <td>ARTIGAS</td>\n",
       "      <td>1.000000e-07</td>\n",
       "    </tr>\n",
       "    <tr>\n",
       "      <th>1</th>\n",
       "      <td>103</td>\n",
       "      <td>1</td>\n",
       "      <td>3</td>\n",
       "      <td>33127</td>\n",
       "      <td>3757</td>\n",
       "      <td>7904</td>\n",
       "      <td>0</td>\n",
       "      <td>1318755</td>\n",
       "      <td>520173</td>\n",
       "      <td>22544</td>\n",
       "      <td>...</td>\n",
       "      <td>86.306</td>\n",
       "      <td>60107.0000</td>\n",
       "      <td>True</td>\n",
       "      <td>3124</td>\n",
       "      <td>563</td>\n",
       "      <td>18.273415</td>\n",
       "      <td>10.023224</td>\n",
       "      <td>MONTEVIDEO</td>\n",
       "      <td>CANELONES</td>\n",
       "      <td>6.010700e+01</td>\n",
       "    </tr>\n",
       "  </tbody>\n",
       "</table>\n",
       "<p>2 rows × 26 columns</p>\n",
       "</div>"
      ],
      "text/plain": [
       "   cod  depto_origen  depto_destino  personas_mig  personas_mig_18_25  \\\n",
       "0  102             1              2           914                 114   \n",
       "1  103             1              3         33127                3757   \n",
       "\n",
       "   personas_mig_26_35  personas_mig_100k  pob_origen  pob_destino    dist  \\\n",
       "0                 247                891     1318755        73377  610726   \n",
       "1                7904                  0     1318755       520173   22544   \n",
       "\n",
       "   ...  pbi_destino_millardos  largo_limite  dummy_limit  empresas_origen  \\\n",
       "0  ...                 14.215        0.0001        False             3124   \n",
       "1  ...                 86.306    60107.0000         True             3124   \n",
       "\n",
       "   empresas_destino  log_pbi_destino   log_dist  nom_depto_orig  \\\n",
       "0                55        16.469807  13.322404      MONTEVIDEO   \n",
       "1               563        18.273415  10.023224      MONTEVIDEO   \n",
       "\n",
       "   nom_depto_des  largo_limite_km  \n",
       "0        ARTIGAS     1.000000e-07  \n",
       "1      CANELONES     6.010700e+01  \n",
       "\n",
       "[2 rows x 26 columns]"
      ]
     },
     "execution_count": 2,
     "metadata": {},
     "output_type": "execute_result"
    }
   ],
   "source": [
    "# carga datos diádicos\n",
    "dd_deptos = cargar_dd_deptos()\n",
    "print(dd_deptos.columns)\n",
    "dd_deptos.head(2)"
   ]
  },
  {
   "cell_type": "markdown",
   "id": "f3d9f7e3",
   "metadata": {},
   "source": [
    "## Modelos con Montevideo\n",
    "\n",
    "### 1. Modelo 1: dummy limit, largo límite, PBI destino y distancia"
   ]
  },
  {
   "cell_type": "code",
   "execution_count": 34,
   "id": "743daea7",
   "metadata": {},
   "outputs": [
    {
     "data": {
      "text/html": [
       "<table class=\"simpletable\">\n",
       "<caption>Generalized Linear Model Regression Results</caption>\n",
       "<tr>\n",
       "  <th>Dep. Variable:</th>     <td>personas_mig</td>   <th>  No. Observations:  </th>  <td>   342</td> \n",
       "</tr>\n",
       "<tr>\n",
       "  <th>Model:</th>                  <td>GLM</td>       <th>  Df Residuals:      </th>  <td>   319</td> \n",
       "</tr>\n",
       "<tr>\n",
       "  <th>Model Family:</th>         <td>Poisson</td>     <th>  Df Model:          </th>  <td>    22</td> \n",
       "</tr>\n",
       "<tr>\n",
       "  <th>Link Function:</th>          <td>log</td>       <th>  Scale:             </th> <td>  1.0000</td>\n",
       "</tr>\n",
       "<tr>\n",
       "  <th>Method:</th>                <td>IRLS</td>       <th>  Log-Likelihood:    </th> <td> -29038.</td>\n",
       "</tr>\n",
       "<tr>\n",
       "  <th>Date:</th>            <td>Sat, 28 Aug 2021</td> <th>  Deviance:          </th> <td>  55848.</td>\n",
       "</tr>\n",
       "<tr>\n",
       "  <th>Time:</th>                <td>14:57:45</td>     <th>  Pearson chi2:      </th> <td>7.54e+04</td>\n",
       "</tr>\n",
       "<tr>\n",
       "  <th>No. Iterations:</th>          <td>6</td>        <th>                     </th>     <td> </td>   \n",
       "</tr>\n",
       "<tr>\n",
       "  <th>Covariance Type:</th>     <td>nonrobust</td>    <th>                     </th>     <td> </td>   \n",
       "</tr>\n",
       "</table>\n",
       "<table class=\"simpletable\">\n",
       "<tr>\n",
       "                  <td></td>                    <th>coef</th>     <th>std err</th>      <th>z</th>      <th>P>|z|</th>  <th>[0.025</th>    <th>0.975]</th>  \n",
       "</tr>\n",
       "<tr>\n",
       "  <th>Intercept</th>                        <td>    5.2793</td> <td>    0.023</td> <td>  231.227</td> <td> 0.000</td> <td>    5.235</td> <td>    5.324</td>\n",
       "</tr>\n",
       "<tr>\n",
       "  <th>nom_depto_orig[T.CANELONES]</th>      <td>   -0.5123</td> <td>    0.019</td> <td>  -27.131</td> <td> 0.000</td> <td>   -0.549</td> <td>   -0.475</td>\n",
       "</tr>\n",
       "<tr>\n",
       "  <th>nom_depto_orig[T.CERRO LARGO]</th>    <td>   -0.5881</td> <td>    0.021</td> <td>  -28.296</td> <td> 0.000</td> <td>   -0.629</td> <td>   -0.547</td>\n",
       "</tr>\n",
       "<tr>\n",
       "  <th>nom_depto_orig[T.COLONIA]</th>        <td>   -0.6376</td> <td>    0.022</td> <td>  -29.155</td> <td> 0.000</td> <td>   -0.680</td> <td>   -0.595</td>\n",
       "</tr>\n",
       "<tr>\n",
       "  <th>nom_depto_orig[T.DURAZNO]</th>        <td>   -1.0824</td> <td>    0.023</td> <td>  -47.979</td> <td> 0.000</td> <td>   -1.127</td> <td>   -1.038</td>\n",
       "</tr>\n",
       "<tr>\n",
       "  <th>nom_depto_orig[T.FLORES]</th>         <td>   -1.9232</td> <td>    0.030</td> <td>  -64.256</td> <td> 0.000</td> <td>   -1.982</td> <td>   -1.865</td>\n",
       "</tr>\n",
       "<tr>\n",
       "  <th>nom_depto_orig[T.FLORIDA]</th>        <td>   -1.1011</td> <td>    0.023</td> <td>  -48.112</td> <td> 0.000</td> <td>   -1.146</td> <td>   -1.056</td>\n",
       "</tr>\n",
       "<tr>\n",
       "  <th>nom_depto_orig[T.LAVALLEJA]</th>      <td>   -1.1843</td> <td>    0.023</td> <td>  -50.425</td> <td> 0.000</td> <td>   -1.230</td> <td>   -1.138</td>\n",
       "</tr>\n",
       "<tr>\n",
       "  <th>nom_depto_orig[T.MALDONADO]</th>      <td>   -0.5163</td> <td>    0.021</td> <td>  -24.374</td> <td> 0.000</td> <td>   -0.558</td> <td>   -0.475</td>\n",
       "</tr>\n",
       "<tr>\n",
       "  <th>nom_depto_orig[T.MONTEVIDEO]</th>     <td>    2.5481</td> <td>    0.018</td> <td>  141.483</td> <td> 0.000</td> <td>    2.513</td> <td>    2.583</td>\n",
       "</tr>\n",
       "<tr>\n",
       "  <th>nom_depto_orig[T.PAYSANDU]</th>       <td>   -0.5085</td> <td>    0.020</td> <td>  -24.943</td> <td> 0.000</td> <td>   -0.548</td> <td>   -0.469</td>\n",
       "</tr>\n",
       "<tr>\n",
       "  <th>nom_depto_orig[T.RIO NEGRO]</th>      <td>   -1.0458</td> <td>    0.023</td> <td>  -45.756</td> <td> 0.000</td> <td>   -1.091</td> <td>   -1.001</td>\n",
       "</tr>\n",
       "<tr>\n",
       "  <th>nom_depto_orig[T.RIVERA]</th>         <td>   -0.3480</td> <td>    0.020</td> <td>  -17.230</td> <td> 0.000</td> <td>   -0.388</td> <td>   -0.308</td>\n",
       "</tr>\n",
       "<tr>\n",
       "  <th>nom_depto_orig[T.ROCHA]</th>          <td>   -0.8793</td> <td>    0.023</td> <td>  -38.362</td> <td> 0.000</td> <td>   -0.924</td> <td>   -0.834</td>\n",
       "</tr>\n",
       "<tr>\n",
       "  <th>nom_depto_orig[T.SALTO]</th>          <td>   -0.3714</td> <td>    0.020</td> <td>  -18.842</td> <td> 0.000</td> <td>   -0.410</td> <td>   -0.333</td>\n",
       "</tr>\n",
       "<tr>\n",
       "  <th>nom_depto_orig[T.SAN JOSE]</th>       <td>   -1.7727</td> <td>    0.024</td> <td>  -75.341</td> <td> 0.000</td> <td>   -1.819</td> <td>   -1.727</td>\n",
       "</tr>\n",
       "<tr>\n",
       "  <th>nom_depto_orig[T.SORIANO]</th>        <td>   -0.6577</td> <td>    0.021</td> <td>  -30.929</td> <td> 0.000</td> <td>   -0.699</td> <td>   -0.616</td>\n",
       "</tr>\n",
       "<tr>\n",
       "  <th>nom_depto_orig[T.TACUAREMBO]</th>     <td>   -0.5603</td> <td>    0.020</td> <td>  -28.373</td> <td> 0.000</td> <td>   -0.599</td> <td>   -0.522</td>\n",
       "</tr>\n",
       "<tr>\n",
       "  <th>nom_depto_orig[T.TREINTA Y TRES]</th> <td>   -1.0858</td> <td>    0.023</td> <td>  -46.618</td> <td> 0.000</td> <td>   -1.131</td> <td>   -1.040</td>\n",
       "</tr>\n",
       "<tr>\n",
       "  <th>dummy_limit[T.True]</th>              <td>    1.2424</td> <td>    0.010</td> <td>  125.410</td> <td> 0.000</td> <td>    1.223</td> <td>    1.262</td>\n",
       "</tr>\n",
       "<tr>\n",
       "  <th>largo_limite_km</th>                  <td>    0.0028</td> <td> 7.75e-05</td> <td>   36.539</td> <td> 0.000</td> <td>    0.003</td> <td>    0.003</td>\n",
       "</tr>\n",
       "<tr>\n",
       "  <th>pbi_destino_millardos</th>            <td>    0.0073</td> <td> 1.84e-05</td> <td>  398.577</td> <td> 0.000</td> <td>    0.007</td> <td>    0.007</td>\n",
       "</tr>\n",
       "<tr>\n",
       "  <th>dist_km</th>                          <td>   -0.0016</td> <td> 3.14e-05</td> <td>  -50.900</td> <td> 0.000</td> <td>   -0.002</td> <td>   -0.002</td>\n",
       "</tr>\n",
       "</table>"
      ],
      "text/plain": [
       "<class 'statsmodels.iolib.summary.Summary'>\n",
       "\"\"\"\n",
       "                 Generalized Linear Model Regression Results                  \n",
       "==============================================================================\n",
       "Dep. Variable:           personas_mig   No. Observations:                  342\n",
       "Model:                            GLM   Df Residuals:                      319\n",
       "Model Family:                 Poisson   Df Model:                           22\n",
       "Link Function:                    log   Scale:                          1.0000\n",
       "Method:                          IRLS   Log-Likelihood:                -29038.\n",
       "Date:                Sat, 28 Aug 2021   Deviance:                       55848.\n",
       "Time:                        14:57:45   Pearson chi2:                 7.54e+04\n",
       "No. Iterations:                     6                                         \n",
       "Covariance Type:            nonrobust                                         \n",
       "====================================================================================================\n",
       "                                       coef    std err          z      P>|z|      [0.025      0.975]\n",
       "----------------------------------------------------------------------------------------------------\n",
       "Intercept                            5.2793      0.023    231.227      0.000       5.235       5.324\n",
       "nom_depto_orig[T.CANELONES]         -0.5123      0.019    -27.131      0.000      -0.549      -0.475\n",
       "nom_depto_orig[T.CERRO LARGO]       -0.5881      0.021    -28.296      0.000      -0.629      -0.547\n",
       "nom_depto_orig[T.COLONIA]           -0.6376      0.022    -29.155      0.000      -0.680      -0.595\n",
       "nom_depto_orig[T.DURAZNO]           -1.0824      0.023    -47.979      0.000      -1.127      -1.038\n",
       "nom_depto_orig[T.FLORES]            -1.9232      0.030    -64.256      0.000      -1.982      -1.865\n",
       "nom_depto_orig[T.FLORIDA]           -1.1011      0.023    -48.112      0.000      -1.146      -1.056\n",
       "nom_depto_orig[T.LAVALLEJA]         -1.1843      0.023    -50.425      0.000      -1.230      -1.138\n",
       "nom_depto_orig[T.MALDONADO]         -0.5163      0.021    -24.374      0.000      -0.558      -0.475\n",
       "nom_depto_orig[T.MONTEVIDEO]         2.5481      0.018    141.483      0.000       2.513       2.583\n",
       "nom_depto_orig[T.PAYSANDU]          -0.5085      0.020    -24.943      0.000      -0.548      -0.469\n",
       "nom_depto_orig[T.RIO NEGRO]         -1.0458      0.023    -45.756      0.000      -1.091      -1.001\n",
       "nom_depto_orig[T.RIVERA]            -0.3480      0.020    -17.230      0.000      -0.388      -0.308\n",
       "nom_depto_orig[T.ROCHA]             -0.8793      0.023    -38.362      0.000      -0.924      -0.834\n",
       "nom_depto_orig[T.SALTO]             -0.3714      0.020    -18.842      0.000      -0.410      -0.333\n",
       "nom_depto_orig[T.SAN JOSE]          -1.7727      0.024    -75.341      0.000      -1.819      -1.727\n",
       "nom_depto_orig[T.SORIANO]           -0.6577      0.021    -30.929      0.000      -0.699      -0.616\n",
       "nom_depto_orig[T.TACUAREMBO]        -0.5603      0.020    -28.373      0.000      -0.599      -0.522\n",
       "nom_depto_orig[T.TREINTA Y TRES]    -1.0858      0.023    -46.618      0.000      -1.131      -1.040\n",
       "dummy_limit[T.True]                  1.2424      0.010    125.410      0.000       1.223       1.262\n",
       "largo_limite_km                      0.0028   7.75e-05     36.539      0.000       0.003       0.003\n",
       "pbi_destino_millardos                0.0073   1.84e-05    398.577      0.000       0.007       0.007\n",
       "dist_km                             -0.0016   3.14e-05    -50.900      0.000      -0.002      -0.002\n",
       "====================================================================================================\n",
       "\"\"\""
      ]
     },
     "execution_count": 34,
     "metadata": {},
     "output_type": "execute_result"
    }
   ],
   "source": [
    "# define el string tomado como fórmula\n",
    "formula = \"\"\"\n",
    "personas_mig ~ nom_depto_orig + dummy_limit\n",
    "+ largo_limite_km + pbi_destino_millardos + dist_km + -1\n",
    "\"\"\"\n",
    "\n",
    "# entrena y ajusta el modelo\n",
    "f = sm.families.Poisson()\n",
    "prodSim = smf.glm(formula=formula, data=dd_deptos, family=f).fit()\n",
    "\n",
    "# resultados\n",
    "prodSim.summary()"
   ]
  },
  {
   "cell_type": "code",
   "execution_count": 30,
   "id": "65c40406",
   "metadata": {},
   "outputs": [
    {
     "data": {
      "text/markdown": [
       "$R²$ = 0.1593"
      ],
      "text/plain": [
       "<IPython.core.display.Markdown object>"
      ]
     },
     "metadata": {},
     "output_type": "display_data"
    },
    {
     "data": {
      "text/markdown": [
       "RMSE = 1785.2257"
      ],
      "text/plain": [
       "<IPython.core.display.Markdown object>"
      ]
     },
     "metadata": {},
     "output_type": "display_data"
    },
    {
     "data": {
      "image/png": "[encoded data removed]",
      "text/plain": [
       "<Figure size 432x288 with 1 Axes>"
      ]
     },
     "metadata": {
      "needs_background": "light"
     },
     "output_type": "display_data"
    }
   ],
   "source": [
    "actual_counts = dd_deptos.personas_mig\n",
    "predicted_counts = prodSim.predict()\n",
    "\n",
    "print_scores_simple(actual_counts, predicted_counts)\n",
    "\n",
    "title = 'Groud truth vs. estimaciones'\n",
    "subtitle = 'MIE restringido en origen con Mvdeo.'\n",
    "\n",
    "plot_gt(actual_counts, predicted_counts, title, subtitle)"
   ]
  },
  {
   "cell_type": "code",
   "execution_count": 6,
   "id": "0b226890",
   "metadata": {},
   "outputs": [],
   "source": [
    "prodSim.save(\"modelos/restringido_origen_mvo.pickle\")"
   ]
  },
  {
   "cell_type": "code",
   "execution_count": 29,
   "id": "c2db74d2",
   "metadata": {},
   "outputs": [
    {
     "data": {
      "text/markdown": [
       "$R²$ = 0.8987"
      ],
      "text/plain": [
       "<IPython.core.display.Markdown object>"
      ]
     },
     "metadata": {},
     "output_type": "display_data"
    },
    {
     "data": {
      "text/markdown": [
       "RMSE = 110.7891"
      ],
      "text/plain": [
       "<IPython.core.display.Markdown object>"
      ]
     },
     "metadata": {},
     "output_type": "display_data"
    },
    {
     "data": {
      "image/png": "[encoded data removed]",
      "text/plain": [
       "<Figure size 432x288 with 1 Axes>"
      ]
     },
     "metadata": {
      "needs_background": "light"
     },
     "output_type": "display_data"
    }
   ],
   "source": [
    "# define el string tomado como fórmula\n",
    "formula = \"\"\"\n",
    "personas_mig_18_25 ~ nom_depto_orig + dummy_limit\n",
    "+ largo_limite_km + pbi_destino_millardos + dist_km + -1\n",
    "\"\"\"\n",
    "\n",
    "# entrena y ajusta el modelo\n",
    "prodSim = smf.glm(formula=formula, data=dd_deptos, family=f).fit()\n",
    "\n",
    "# resultados\n",
    "actual_counts = dd_deptos.personas_mig_18_25\n",
    "predicted_counts = prodSim.predict()\n",
    "\n",
    "print_scores_simple(actual_counts, predicted_counts)\n",
    "\n",
    "title = 'Groud truth vs. estimaciones'\n",
    "subtitle = 'MIE restringido en origen con Mvdeo.'\n",
    "\n",
    "plot_gt(actual_counts, predicted_counts, title, subtitle)"
   ]
  },
  {
   "cell_type": "code",
   "execution_count": null,
   "id": "ed5affdb",
   "metadata": {},
   "outputs": [],
   "source": []
  },
  {
   "cell_type": "markdown",
   "id": "a481de56",
   "metadata": {},
   "source": [
    "## Modelo sin Montevideo"
   ]
  },
  {
   "cell_type": "code",
   "execution_count": 32,
   "id": "ccb71700",
   "metadata": {},
   "outputs": [],
   "source": [
    "dd_deptos_no_mvo = dd_deptos.loc[(dd_deptos.depto_origen!=1) & (dd_deptos.depto_destino!=1)]"
   ]
  },
  {
   "cell_type": "code",
   "execution_count": 35,
   "id": "0d685077",
   "metadata": {},
   "outputs": [
    {
     "data": {
      "text/html": [
       "<table class=\"simpletable\">\n",
       "<caption>Generalized Linear Model Regression Results</caption>\n",
       "<tr>\n",
       "  <th>Dep. Variable:</th>     <td>personas_mig</td>   <th>  No. Observations:  </th>  <td>   306</td> \n",
       "</tr>\n",
       "<tr>\n",
       "  <th>Model:</th>                  <td>GLM</td>       <th>  Df Residuals:      </th>  <td>   284</td> \n",
       "</tr>\n",
       "<tr>\n",
       "  <th>Model Family:</th>         <td>Poisson</td>     <th>  Df Model:          </th>  <td>    21</td> \n",
       "</tr>\n",
       "<tr>\n",
       "  <th>Link Function:</th>          <td>log</td>       <th>  Scale:             </th> <td>  1.0000</td>\n",
       "</tr>\n",
       "<tr>\n",
       "  <th>Method:</th>                <td>IRLS</td>       <th>  Log-Likelihood:    </th> <td> -6428.2</td>\n",
       "</tr>\n",
       "<tr>\n",
       "  <th>Date:</th>            <td>Sat, 28 Aug 2021</td> <th>  Deviance:          </th> <td>  10963.</td>\n",
       "</tr>\n",
       "<tr>\n",
       "  <th>Time:</th>                <td>14:57:48</td>     <th>  Pearson chi2:      </th> <td>1.33e+04</td>\n",
       "</tr>\n",
       "<tr>\n",
       "  <th>No. Iterations:</th>          <td>5</td>        <th>                     </th>     <td> </td>   \n",
       "</tr>\n",
       "<tr>\n",
       "  <th>Covariance Type:</th>     <td>nonrobust</td>    <th>                     </th>     <td> </td>   \n",
       "</tr>\n",
       "</table>\n",
       "<table class=\"simpletable\">\n",
       "<tr>\n",
       "                 <td></td>                   <th>coef</th>     <th>std err</th>      <th>z</th>      <th>P>|z|</th>  <th>[0.025</th>    <th>0.975]</th>  \n",
       "</tr>\n",
       "<tr>\n",
       "  <th>nom_depto_orig[ARTIGAS]</th>        <td>    4.6410</td> <td>    0.035</td> <td>  131.901</td> <td> 0.000</td> <td>    4.572</td> <td>    4.710</td>\n",
       "</tr>\n",
       "<tr>\n",
       "  <th>nom_depto_orig[CANELONES]</th>      <td>    5.3478</td> <td>    0.023</td> <td>  234.964</td> <td> 0.000</td> <td>    5.303</td> <td>    5.392</td>\n",
       "</tr>\n",
       "<tr>\n",
       "  <th>nom_depto_orig[CERRO LARGO]</th>    <td>    4.3362</td> <td>    0.032</td> <td>  136.803</td> <td> 0.000</td> <td>    4.274</td> <td>    4.398</td>\n",
       "</tr>\n",
       "<tr>\n",
       "  <th>nom_depto_orig[COLONIA]</th>        <td>    4.0849</td> <td>    0.029</td> <td>  139.446</td> <td> 0.000</td> <td>    4.027</td> <td>    4.142</td>\n",
       "</tr>\n",
       "<tr>\n",
       "  <th>nom_depto_orig[DURAZNO]</th>        <td>    3.8031</td> <td>    0.030</td> <td>  125.645</td> <td> 0.000</td> <td>    3.744</td> <td>    3.862</td>\n",
       "</tr>\n",
       "<tr>\n",
       "  <th>nom_depto_orig[FLORES]</th>         <td>    3.0402</td> <td>    0.039</td> <td>   78.332</td> <td> 0.000</td> <td>    2.964</td> <td>    3.116</td>\n",
       "</tr>\n",
       "<tr>\n",
       "  <th>nom_depto_orig[FLORIDA]</th>        <td>    3.8096</td> <td>    0.029</td> <td>  129.217</td> <td> 0.000</td> <td>    3.752</td> <td>    3.867</td>\n",
       "</tr>\n",
       "<tr>\n",
       "  <th>nom_depto_orig[LAVALLEJA]</th>      <td>    3.6892</td> <td>    0.031</td> <td>  118.105</td> <td> 0.000</td> <td>    3.628</td> <td>    3.750</td>\n",
       "</tr>\n",
       "<tr>\n",
       "  <th>nom_depto_orig[MALDONADO]</th>      <td>    4.4990</td> <td>    0.028</td> <td>  162.555</td> <td> 0.000</td> <td>    4.445</td> <td>    4.553</td>\n",
       "</tr>\n",
       "<tr>\n",
       "  <th>nom_depto_orig[PAYSANDU]</th>       <td>    4.2360</td> <td>    0.030</td> <td>  142.231</td> <td> 0.000</td> <td>    4.178</td> <td>    4.294</td>\n",
       "</tr>\n",
       "<tr>\n",
       "  <th>nom_depto_orig[RIO NEGRO]</th>      <td>    3.8846</td> <td>    0.031</td> <td>  125.257</td> <td> 0.000</td> <td>    3.824</td> <td>    3.945</td>\n",
       "</tr>\n",
       "<tr>\n",
       "  <th>nom_depto_orig[RIVERA]</th>         <td>    4.3583</td> <td>    0.034</td> <td>  129.038</td> <td> 0.000</td> <td>    4.292</td> <td>    4.424</td>\n",
       "</tr>\n",
       "<tr>\n",
       "  <th>nom_depto_orig[ROCHA]</th>          <td>    4.0236</td> <td>    0.032</td> <td>  126.265</td> <td> 0.000</td> <td>    3.961</td> <td>    4.086</td>\n",
       "</tr>\n",
       "<tr>\n",
       "  <th>nom_depto_orig[SALTO]</th>          <td>    4.3463</td> <td>    0.033</td> <td>  133.534</td> <td> 0.000</td> <td>    4.283</td> <td>    4.410</td>\n",
       "</tr>\n",
       "<tr>\n",
       "  <th>nom_depto_orig[SAN JOSE]</th>       <td>    3.9177</td> <td>    0.029</td> <td>  132.903</td> <td> 0.000</td> <td>    3.860</td> <td>    3.975</td>\n",
       "</tr>\n",
       "<tr>\n",
       "  <th>nom_depto_orig[SORIANO]</th>        <td>    4.1556</td> <td>    0.028</td> <td>  146.815</td> <td> 0.000</td> <td>    4.100</td> <td>    4.211</td>\n",
       "</tr>\n",
       "<tr>\n",
       "  <th>nom_depto_orig[TACUAREMBO]</th>     <td>    4.2071</td> <td>    0.031</td> <td>  134.475</td> <td> 0.000</td> <td>    4.146</td> <td>    4.268</td>\n",
       "</tr>\n",
       "<tr>\n",
       "  <th>nom_depto_orig[TREINTA Y TRES]</th> <td>    3.9987</td> <td>    0.031</td> <td>  128.422</td> <td> 0.000</td> <td>    3.938</td> <td>    4.060</td>\n",
       "</tr>\n",
       "<tr>\n",
       "  <th>dummy_limit[T.True]</th>            <td>    0.1643</td> <td>    0.019</td> <td>    8.846</td> <td> 0.000</td> <td>    0.128</td> <td>    0.201</td>\n",
       "</tr>\n",
       "<tr>\n",
       "  <th>largo_limite_km</th>                <td>    0.0072</td> <td>    0.000</td> <td>   59.921</td> <td> 0.000</td> <td>    0.007</td> <td>    0.007</td>\n",
       "</tr>\n",
       "<tr>\n",
       "  <th>pbi_destino_millardos</th>          <td>    0.0300</td> <td>    0.000</td> <td>  159.150</td> <td> 0.000</td> <td>    0.030</td> <td>    0.030</td>\n",
       "</tr>\n",
       "<tr>\n",
       "  <th>dist_km</th>                        <td>   -0.0017</td> <td> 5.84e-05</td> <td>  -29.148</td> <td> 0.000</td> <td>   -0.002</td> <td>   -0.002</td>\n",
       "</tr>\n",
       "</table>"
      ],
      "text/plain": [
       "<class 'statsmodels.iolib.summary.Summary'>\n",
       "\"\"\"\n",
       "                 Generalized Linear Model Regression Results                  \n",
       "==============================================================================\n",
       "Dep. Variable:           personas_mig   No. Observations:                  306\n",
       "Model:                            GLM   Df Residuals:                      284\n",
       "Model Family:                 Poisson   Df Model:                           21\n",
       "Link Function:                    log   Scale:                          1.0000\n",
       "Method:                          IRLS   Log-Likelihood:                -6428.2\n",
       "Date:                Sat, 28 Aug 2021   Deviance:                       10963.\n",
       "Time:                        14:57:48   Pearson chi2:                 1.33e+04\n",
       "No. Iterations:                     5                                         \n",
       "Covariance Type:            nonrobust                                         \n",
       "==================================================================================================\n",
       "                                     coef    std err          z      P>|z|      [0.025      0.975]\n",
       "--------------------------------------------------------------------------------------------------\n",
       "nom_depto_orig[ARTIGAS]            4.6410      0.035    131.901      0.000       4.572       4.710\n",
       "nom_depto_orig[CANELONES]          5.3478      0.023    234.964      0.000       5.303       5.392\n",
       "nom_depto_orig[CERRO LARGO]        4.3362      0.032    136.803      0.000       4.274       4.398\n",
       "nom_depto_orig[COLONIA]            4.0849      0.029    139.446      0.000       4.027       4.142\n",
       "nom_depto_orig[DURAZNO]            3.8031      0.030    125.645      0.000       3.744       3.862\n",
       "nom_depto_orig[FLORES]             3.0402      0.039     78.332      0.000       2.964       3.116\n",
       "nom_depto_orig[FLORIDA]            3.8096      0.029    129.217      0.000       3.752       3.867\n",
       "nom_depto_orig[LAVALLEJA]          3.6892      0.031    118.105      0.000       3.628       3.750\n",
       "nom_depto_orig[MALDONADO]          4.4990      0.028    162.555      0.000       4.445       4.553\n",
       "nom_depto_orig[PAYSANDU]           4.2360      0.030    142.231      0.000       4.178       4.294\n",
       "nom_depto_orig[RIO NEGRO]          3.8846      0.031    125.257      0.000       3.824       3.945\n",
       "nom_depto_orig[RIVERA]             4.3583      0.034    129.038      0.000       4.292       4.424\n",
       "nom_depto_orig[ROCHA]              4.0236      0.032    126.265      0.000       3.961       4.086\n",
       "nom_depto_orig[SALTO]              4.3463      0.033    133.534      0.000       4.283       4.410\n",
       "nom_depto_orig[SAN JOSE]           3.9177      0.029    132.903      0.000       3.860       3.975\n",
       "nom_depto_orig[SORIANO]            4.1556      0.028    146.815      0.000       4.100       4.211\n",
       "nom_depto_orig[TACUAREMBO]         4.2071      0.031    134.475      0.000       4.146       4.268\n",
       "nom_depto_orig[TREINTA Y TRES]     3.9987      0.031    128.422      0.000       3.938       4.060\n",
       "dummy_limit[T.True]                0.1643      0.019      8.846      0.000       0.128       0.201\n",
       "largo_limite_km                    0.0072      0.000     59.921      0.000       0.007       0.007\n",
       "pbi_destino_millardos              0.0300      0.000    159.150      0.000       0.030       0.030\n",
       "dist_km                           -0.0017   5.84e-05    -29.148      0.000      -0.002      -0.002\n",
       "==================================================================================================\n",
       "\"\"\""
      ]
     },
     "execution_count": 35,
     "metadata": {},
     "output_type": "execute_result"
    }
   ],
   "source": [
    "# define el string tomado como fórmula\n",
    "formula = \"\"\"\n",
    "personas_mig ~ nom_depto_orig + dummy_limit\n",
    "+ largo_limite_km + pbi_destino_millardos + dist_km -1\n",
    "\"\"\"\n",
    "\n",
    "# entrena y ajusta el modelo\n",
    "prodSim = smf.glm(formula=formula, data=dd_deptos_no_mvo, family=f).fit()\n",
    "\n",
    "# resultados\n",
    "prodSim.summary()"
   ]
  },
  {
   "cell_type": "code",
   "execution_count": 36,
   "id": "accdb729",
   "metadata": {},
   "outputs": [
    {
     "data": {
      "text/markdown": [
       "$R²$ = 0.7562"
      ],
      "text/plain": [
       "<IPython.core.display.Markdown object>"
      ]
     },
     "metadata": {},
     "output_type": "display_data"
    },
    {
     "data": {
      "text/markdown": [
       "RMSE = 101.3652"
      ],
      "text/plain": [
       "<IPython.core.display.Markdown object>"
      ]
     },
     "metadata": {},
     "output_type": "display_data"
    },
    {
     "data": {
      "image/png": "[encoded data removed]",
      "text/plain": [
       "<Figure size 432x288 with 1 Axes>"
      ]
     },
     "metadata": {
      "needs_background": "light"
     },
     "output_type": "display_data"
    }
   ],
   "source": [
    "actual_counts = dd_deptos_no_mvo.personas_mig\n",
    "predicted_counts = prodSim.predict()\n",
    "\n",
    "print_scores_simple(actual_counts, predicted_counts)\n",
    "\n",
    "\n",
    "subtitle = 'MIE restringido en origen sin Mvdeo.'\n",
    "plot_gt(actual_counts, predicted_counts, title, subtitle)"
   ]
  },
  {
   "cell_type": "code",
   "execution_count": 11,
   "id": "cc9fb834",
   "metadata": {},
   "outputs": [],
   "source": [
    "prodSim.save(\"modelos/restringido_origen_noMVO.pickle\")"
   ]
  }
 ],
 "metadata": {
  "kernelspec": {
   "display_name": "Python 3",
   "language": "python",
   "name": "python3"
  },
  "language_info": {
   "codemirror_mode": {
    "name": "ipython",
    "version": 3
   },
   "file_extension": ".py",
   "mimetype": "text/x-python",
   "name": "python",
   "nbconvert_exporter": "python",
   "pygments_lexer": "ipython3",
   "version": "3.7.10"
  }
 },
 "nbformat": 4,
 "nbformat_minor": 5
}
