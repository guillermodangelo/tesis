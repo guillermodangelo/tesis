{
 "cells": [
  {
   "cell_type": "markdown",
   "id": "e8b69de8",
   "metadata": {},
   "source": [
    "## Escenarios de migración interna"
   ]
  },
  {
   "cell_type": "code",
   "execution_count": 1,
   "id": "c5cfc0a3",
   "metadata": {},
   "outputs": [],
   "source": [
    "import pandas as pd\n",
    "import numpy as np\n",
    "    \n",
    "# funciones desarrolladas\n",
    "from functions.agrupar_dfs_censo import *\n",
    "from functions.cargar_data import *\n",
    "from functions.impresion import *"
   ]
  },
  {
   "cell_type": "code",
   "execution_count": 3,
   "id": "0f980024",
   "metadata": {},
   "outputs": [
    {
     "data": {
      "text/html": [
       "<div>\n",
       "<style scoped>\n",
       "    .dataframe tbody tr th:only-of-type {\n",
       "        vertical-align: middle;\n",
       "    }\n",
       "\n",
       "    .dataframe tbody tr th {\n",
       "        vertical-align: top;\n",
       "    }\n",
       "\n",
       "    .dataframe thead th {\n",
       "        text-align: right;\n",
       "    }\n",
       "</style>\n",
       "<table border=\"1\" class=\"dataframe\">\n",
       "  <thead>\n",
       "    <tr style=\"text-align: right;\">\n",
       "      <th></th>\n",
       "      <th>cod</th>\n",
       "      <th>depto_origen</th>\n",
       "      <th>depto_destino</th>\n",
       "      <th>personas_mig</th>\n",
       "      <th>personas_mig_100k</th>\n",
       "      <th>pob_origen</th>\n",
       "      <th>pob_destino</th>\n",
       "      <th>dist</th>\n",
       "      <th>pbi_origen</th>\n",
       "      <th>pbi_porcen_ori</th>\n",
       "      <th>pbi_destino</th>\n",
       "      <th>pbi_porcen_des</th>\n",
       "      <th>largo_limite</th>\n",
       "      <th>dummy_limit</th>\n",
       "      <th>empresas_origen</th>\n",
       "      <th>empresas_destino</th>\n",
       "      <th>log_pbi_destino</th>\n",
       "      <th>log_dist</th>\n",
       "      <th>nom_depto_orig</th>\n",
       "      <th>nom_depto_des</th>\n",
       "    </tr>\n",
       "  </thead>\n",
       "  <tbody>\n",
       "    <tr>\n",
       "      <th>0</th>\n",
       "      <td>102</td>\n",
       "      <td>1</td>\n",
       "      <td>2</td>\n",
       "      <td>914</td>\n",
       "      <td>891</td>\n",
       "      <td>1318755</td>\n",
       "      <td>73377</td>\n",
       "      <td>610726</td>\n",
       "      <td>465848031</td>\n",
       "      <td>50.3</td>\n",
       "      <td>14214980</td>\n",
       "      <td>1.5</td>\n",
       "      <td>NaN</td>\n",
       "      <td>False</td>\n",
       "      <td>3124</td>\n",
       "      <td>55</td>\n",
       "      <td>16.469807</td>\n",
       "      <td>13.322404</td>\n",
       "      <td>MONTEVIDEO</td>\n",
       "      <td>ARTIGAS</td>\n",
       "    </tr>\n",
       "    <tr>\n",
       "      <th>1</th>\n",
       "      <td>103</td>\n",
       "      <td>1</td>\n",
       "      <td>3</td>\n",
       "      <td>33127</td>\n",
       "      <td>0</td>\n",
       "      <td>1318755</td>\n",
       "      <td>520173</td>\n",
       "      <td>22544</td>\n",
       "      <td>465848031</td>\n",
       "      <td>50.3</td>\n",
       "      <td>86306492</td>\n",
       "      <td>9.3</td>\n",
       "      <td>60107.0</td>\n",
       "      <td>True</td>\n",
       "      <td>3124</td>\n",
       "      <td>563</td>\n",
       "      <td>18.273415</td>\n",
       "      <td>10.023224</td>\n",
       "      <td>MONTEVIDEO</td>\n",
       "      <td>CANELONES</td>\n",
       "    </tr>\n",
       "  </tbody>\n",
       "</table>\n",
       "</div>"
      ],
      "text/plain": [
       "   cod  depto_origen  depto_destino  personas_mig  personas_mig_100k  \\\n",
       "0  102             1              2           914                891   \n",
       "1  103             1              3         33127                  0   \n",
       "\n",
       "   pob_origen  pob_destino    dist  pbi_origen  pbi_porcen_ori  pbi_destino  \\\n",
       "0     1318755        73377  610726   465848031            50.3     14214980   \n",
       "1     1318755       520173   22544   465848031            50.3     86306492   \n",
       "\n",
       "   pbi_porcen_des  largo_limite  dummy_limit  empresas_origen  \\\n",
       "0             1.5           NaN        False             3124   \n",
       "1             9.3       60107.0         True             3124   \n",
       "\n",
       "   empresas_destino  log_pbi_destino   log_dist nom_depto_orig nom_depto_des  \n",
       "0                55        16.469807  13.322404     MONTEVIDEO       ARTIGAS  \n",
       "1               563        18.273415  10.023224     MONTEVIDEO     CANELONES  "
      ]
     },
     "execution_count": 3,
     "metadata": {},
     "output_type": "execute_result"
    }
   ],
   "source": [
    "# carga datos diádicos\n",
    "dd_deptos = pd.read_csv('tablas/dd_deptos.csv')\n",
    "dd_deptos.head(2)"
   ]
  },
  {
   "cell_type": "code",
   "execution_count": null,
   "id": "c162e7b6",
   "metadata": {},
   "outputs": [],
   "source": []
  },
  {
   "cell_type": "code",
   "execution_count": null,
   "id": "6d88a828",
   "metadata": {},
   "outputs": [],
   "source": [
    "dd_deptos['pob_origen'] = dd_deptos['pob_origen']*1.05"
   ]
  },
  {
   "cell_type": "code",
   "execution_count": null,
   "id": "1ef91a6c",
   "metadata": {},
   "outputs": [],
   "source": []
  }
 ],
 "metadata": {
  "kernelspec": {
   "display_name": "Python 3",
   "language": "python",
   "name": "python3"
  },
  "language_info": {
   "codemirror_mode": {
    "name": "ipython",
    "version": 3
   },
   "file_extension": ".py",
   "mimetype": "text/x-python",
   "name": "python",
   "nbconvert_exporter": "python",
   "pygments_lexer": "ipython3",
   "version": "3.9.2"
  }
 },
 "nbformat": 4,
 "nbformat_minor": 5
}
