{
 "cells": [
  {
   "cell_type": "markdown",
   "metadata": {
    "colab_type": "text",
    "id": "gskKSeycfnuO"
   },
   "source": [
    "## Análisis exploratorio de datos\n",
    "\n",
    "A continuación se presenta un primer análisis basado en los datos del Censo INE 2011, publicados en la página web del Instituto.\n",
    "\n",
    "Además se utilizan varios conjuntos de datos disponibilizados en la web. Se realizó un pre-procesamiento para seleccionar variables relevantes, reduciendo el volúmen de datos y por tanto los requerimientos informáticos para su acceso.\n",
    "\n",
    "La base de personas del Censo INE 2011 se filtra según el siguiente criterio:\n",
    "- Variable \"PERMI07\" (lugar de residencia 5 años antes) con valores:\n",
    "    - 3 = en otro departamento\n",
    "    \n",
    "Se excluyen habitantes de localidades rurales.\n",
    "\n",
    "La tabla resultante contiene un departamento de origen, uno de destino y una cantidad de personas que declaran haber vivido antes en el departamento de \"origen\", habiendo sido relevadas en el departamento de \"destino\" al momento de la aplicación del formulario censal.\n",
    "\n",
    "### El perfil de la migración interna\n",
    "\n",
    "En el apartado 2.4, referido a los antecedentes del estudio de la migración interna en Uruguay, ya se puntualizaban algunas características de la población migrante interna:\n",
    "\n",
    "- el perfil más joven y feminizado de quienes migran hacia Montevideo.\n",
    "\n",
    "- el perfil de familias completas, integradas por parejas de entre 30 y 40 años con niños, de quienes migran desde Montevideo."
   ]
  },
  {
   "cell_type": "code",
   "execution_count": 2,
   "metadata": {
    "colab": {
     "base_uri": "https://localhost:8080/",
     "height": 52
    },
    "colab_type": "code",
    "id": "eIjjW8B2nubF",
    "outputId": "75594d27-744f-40cd-b135-c9763a5d990e"
   },
   "outputs": [],
   "source": [
    "import pandas as pd\n",
    "import os\n",
    "import matplotlib.pyplot as plt\n",
    "import matplotlib.font_manager as font_manager\n",
    "import numpy as np\n",
    "\n",
    "from IPython.display import Markdown, display\n",
    "\n",
    "def printmd(string):\n",
    "    display(Markdown(string))\n",
    "    \n",
    "# funciones desarrolladas\n",
    "from functions.agrupar_dfs_censo import *\n",
    "from functions.graficas import *\n",
    "from functions.cargar_data import *\n",
    "from functions.func_demograficas import *\n",
    "\n",
    "metadatos_figs = {'Author': '''Guillermo D'Angelo'''}"
   ]
  },
  {
   "cell_type": "code",
   "execution_count": 3,
   "metadata": {},
   "outputs": [],
   "source": [
    "# carga datos\n",
    "censo, pbi, md = cargar_data_eda()"
   ]
  },
  {
   "cell_type": "markdown",
   "metadata": {},
   "source": [
    "#### Reclasificaciones de las variables de educación"
   ]
  },
  {
   "cell_type": "code",
   "execution_count": 4,
   "metadata": {},
   "outputs": [],
   "source": [
    "def reclas_edu_censo(df, old_var, new_var):\n",
    "    \"Reclasifica variables de educación en el Censo INE 2011\"\n",
    "    df.loc[df[old_var].between(1, 3),   new_var] = 1\n",
    "    df.loc[df[old_var].between(4, 5),   new_var] = 2\n",
    "    df.loc[df[old_var].between(6, 7),   new_var] = 3\n",
    "    df.loc[df[old_var].between(8, 10),  new_var] = 4\n",
    "    df.loc[df[old_var].between(11, 12), new_var] = 5\n",
    "    return df\n",
    "\n",
    "censo = reclas_edu_censo(censo, 'PERED03_R', 'PERED03_R_reclass')\n",
    "\n",
    "# cat 1: Preescolar, Primaria común. Primaria especial\n",
    "# cat 2: Ciclo Básico Liceo (1ero a 3ro), Ciclo Básico UTU (1ero a 3ro)\n",
    "# cat 3: Bachillerato Secundario (4to a 6to), Bachillerato UTU (4to a 6to)\n",
    "# cat 4: Enseñanza Técnica/Formación Profesional UTU, Magisterio o Profesorado, Terciario no universitario\n",
    "# cat 5: Universidad o Instituto Universitario (Carrera de grado o Licenciatura), Posgrado (Diploma/Maestría/Doctorado)\n",
    "\n",
    "# para verificar\n",
    "# pd.DataFrame(censo.groupby(['PERED03_R', 'PERED03_R_reclass']).size()).reset_index()\n",
    "\n",
    "# completa los valores faltantes (88) de la variable PERED03_1 con los \n",
    "# de la variable PERED03_2... Ésta última serían datos relevados en planillas (papel?)\n",
    "censo.loc[(censo.PERED03_1 == 88), 'PERED03_1'] = censo.PERED03_2\n",
    "\n",
    "# reclasifica\n",
    "censo = reclas_edu_censo(censo, 'PERED03_1', 'PERED03_1_reclass')\n",
    "\n",
    "# verifica\n",
    "# pd.DataFrame(censo.groupby(['PERED03_1', 'PERED03_1_reclass']).size()).reset_index()"
   ]
  },
  {
   "cell_type": "code",
   "execution_count": 5,
   "metadata": {},
   "outputs": [],
   "source": [
    "def filter_df_censo(df):\n",
    "    # un primer análisis abarcando sólo aquellas personas que han migrado entre departamentos\n",
    "    # (no toma en cuenta quienes han migrado otras localidades dentro del mismo departamento)\n",
    "    mgr = df.loc[df.PERMI07 == 3].reset_index(drop=True)\n",
    "    # identifica depto de residencia anterior, creando var \"depto_origen\"\n",
    "    mgr.insert(0, 'depto_origen', mgr.loc[:,('PERMI07_2')])\n",
    "    # convierte a integer\n",
    "    mgr.loc[:,('depto_origen')] = mgr.loc[:,('depto_origen')].astype(int)\n",
    "    # renombra DPTO\n",
    "    mgr.rename(columns={'DPTO': 'depto_destino'}, inplace=True)\n",
    "\n",
    "    return mgr"
   ]
  },
  {
   "cell_type": "code",
   "execution_count": 6,
   "metadata": {},
   "outputs": [
    {
     "data": {
      "text/plain": [
       "148759"
      ]
     },
     "execution_count": 6,
     "metadata": {},
     "output_type": "execute_result"
    }
   ],
   "source": [
    "mgr_interdep = filter_df_censo(censo)\n",
    "mgr_interdep.shape[0]"
   ]
  },
  {
   "cell_type": "markdown",
   "metadata": {},
   "source": [
    "#### Genera tres data frames con:\n",
    "- Migrantes de interior a Montevideo (A)\n",
    "- Migrantes de Montevideo a interior (B)\n",
    "- Migrantes entres deptos del interior (C)"
   ]
  },
  {
   "cell_type": "code",
   "execution_count": 7,
   "metadata": {},
   "outputs": [
    {
     "name": "stdout",
     "output_type": "stream",
     "text": [
      "(42444, 52) (58655, 52) (47660, 52)\n"
     ]
    }
   ],
   "source": [
    "# genera dataframes por tipología\n",
    "def filter_df_mig(df, ver_dep_ori, var_dep_des):\n",
    "    \"Corta DFs según origen y destino de la migración\"\n",
    "    # destino Mvdeo.\n",
    "    a = df[df[var_dep_des] == 1].reset_index()\n",
    "    # origen Mvdeo. y destino no Mvdeo.\n",
    "    b = df[(df[ver_dep_ori] == 1) & (df[var_dep_des] != 1)].reset_index()\n",
    "    # origen y destino no Mvdeo.\n",
    "    c = df[(df[ver_dep_ori] != 1) & (df[var_dep_des] != 1)].reset_index()\n",
    "    \n",
    "    return a, b, c\n",
    "\n",
    "# aplica función\n",
    "a, b, c = filter_df_mig(mgr_interdep, 'depto_origen', 'depto_destino')\n",
    "\n",
    "# enlista los tres DFs\n",
    "lista_dfs = [a, b, c]\n",
    "\n",
    "# enlista junto con el censo\n",
    "lista_dfs_censo = [censo, a, b, c]\n",
    "\n",
    "print(a.shape, b.shape, c.shape)"
   ]
  },
  {
   "cell_type": "code",
   "execution_count": 8,
   "metadata": {},
   "outputs": [
    {
     "name": "stdout",
     "output_type": "stream",
     "text": [
      "n de migrantes internos:  148759\n",
      "n de migrantes con origen interior y destino Montevideo:  42444\n",
      "n de migrantes con origen Montevideo y destino Interior:  58655\n",
      "n de migrantes con origen Interior y destino Interior:  47660\n"
     ]
    }
   ],
   "source": [
    "# cantidad de personas\n",
    "print('n de migrantes internos: ', mgr_interdep.shape[0])\n",
    "print('n de migrantes con origen interior y destino Montevideo: ', a.shape[0])\n",
    "print('n de migrantes con origen Montevideo y destino Interior: ', b.shape[0])\n",
    "print('n de migrantes con origen Interior y destino Interior: ', c.shape[0])"
   ]
  },
  {
   "cell_type": "markdown",
   "metadata": {},
   "source": [
    "#### Índice de masculinidad"
   ]
  },
  {
   "cell_type": "code",
   "execution_count": 9,
   "metadata": {},
   "outputs": [
    {
     "name": "stdout",
     "output_type": "stream",
     "text": [
      "Help on function indice_mascul in module functions.func_demograficas:\n",
      "\n",
      "indice_mascul(df, var_sexo, redondeo)\n",
      "    Calcula el índice de masculinidad sobre datos de personas del Censo INE 2011\n",
      "\n"
     ]
    }
   ],
   "source": [
    "# Índice de masculinidad\n",
    "help(indice_mascul)"
   ]
  },
  {
   "cell_type": "code",
   "execution_count": 10,
   "metadata": {},
   "outputs": [
    {
     "data": {
      "text/markdown": [
       "\n",
       "El índice de masculinidad para migrantes recientes\n",
       "**hacia Montevideo** es de **80.0**, para migrantes **desde Montevideo hacia el interior** es de **92.4**\n",
       "en tanto que para migrantes **entre departamentos del interior** es de **102.2** hombres por cada 100 mujeres.\n"
      ],
      "text/plain": [
       "<IPython.core.display.Markdown object>"
      ]
     },
     "metadata": {},
     "output_type": "display_data"
    },
    {
     "data": {
      "text/markdown": [
       "El índice de masculinidad para el total de la población es de **92.3** hombres por cada 100 mujeres."
      ],
      "text/plain": [
       "<IPython.core.display.Markdown object>"
      ]
     },
     "metadata": {},
     "output_type": "display_data"
    }
   ],
   "source": [
    "# índice de masculinidad para todo el país\n",
    "ind_m_pais = indice_mascul(censo, 'PERPH02', 1)\n",
    "\n",
    "# índice de masculinidad para migrantes recientes que migran hacia Mvdeo.\n",
    "ind_m_desagregado = [indice_mascul(x, 'PERPH02', 1) for x in lista_dfs]\n",
    "\n",
    "printmd(\"\"\"\n",
    "El índice de masculinidad para migrantes recientes\n",
    "**hacia Montevideo** es de **{}**, para migrantes **desde Montevideo hacia el interior** es de **{}**\n",
    "en tanto que para migrantes **entre departamentos del interior** es de **{}** hombres por cada 100 mujeres.\n",
    "\"\"\".format(ind_m_desagregado[0], ind_m_desagregado[1], ind_m_desagregado[2])\n",
    "       )\n",
    "\n",
    "printmd(\"El índice de masculinidad para el total de la población es de **{}** hombres por cada 100 mujeres.\".format(ind_m_pais))"
   ]
  },
  {
   "cell_type": "code",
   "execution_count": 11,
   "metadata": {},
   "outputs": [],
   "source": [
    "# setea tipo de fuente y tamaño\n",
    "size = 9\n",
    "font = {'fontname': 'Arial', 'fontsize': size}\n",
    "\n",
    "# fuente de leyendas\n",
    "font_legend = font_manager.FontProperties(family='Arial', style='normal', size=10)"
   ]
  },
  {
   "cell_type": "code",
   "execution_count": 12,
   "metadata": {},
   "outputs": [],
   "source": [
    "# tamaño de las gráficas (pulgadas)\n",
    "fig_size = [4, 2.4]"
   ]
  },
  {
   "cell_type": "code",
   "execution_count": 13,
   "metadata": {},
   "outputs": [],
   "source": [
    "# ancho de las barras\n",
    "bars_width=0.40\n",
    "\n",
    "# colores\n",
    "color = 'darkcyan'\n",
    "color_spines = 'grey'\n",
    "\n",
    "# etiquetas\n",
    "labels = ['Hacia \\n Montevideo',\n",
    "          'Desde Montevideo\\n al interior',\n",
    "          'Entre deptos.\\n del interior']\n",
    "\n",
    "def format_spines(color):\n",
    "    \"Formatea spines\"\n",
    "    # oculta ejes superior y derecho\n",
    "    [ax.spines[x].set_visible(False) for x in [\"top\", \"right\"]]\n",
    "    # color de ejes inferior e izquierdo\n",
    "    [ax.spines[x].set_color(color) for x in [\"bottom\", \"left\"]]\n",
    "\n",
    "def format_ticks(labels, color, ind):\n",
    "    \"Formatea ticks y etiquetas\"\n",
    "    plt.xticks(ind, labels=labels, **font, color=color)\n",
    "    plt.yticks(**font, color=color)\n",
    "    plt.tick_params(axis='y',color=color)\n",
    "    plt.tick_params(axis='x', bottom=False, labelbottom=True, color=color) \n",
    "\n",
    "def save_chart(name):\n",
    "    plt.savefig('mapas_graficas/' + name,\n",
    "                 bbox_inches= 'tight',\n",
    "                 metadata= metadatos_figs)"
   ]
  },
  {
   "cell_type": "code",
   "execution_count": 14,
   "metadata": {},
   "outputs": [],
   "source": [
    "def plot_tres_barras(datos_dfs, dato_censo, ylim, sep, filename):\n",
    "    \"Grafica tres barras y dato del censo, exporta a pdf\"\n",
    "    # grafica edades medianas\n",
    "    fig, ax = plt.subplots(figsize = fig_size)\n",
    "    # n de barras\n",
    "    ind=np.arange(3)\n",
    "    # ancho de las barras\n",
    "    bars_width=0.40\n",
    "    # límite en eje Y\n",
    "    plt.ylim(0, ylim)\n",
    "    # controla el intervalo de etiquetas en los ticks del eje Y\n",
    "    plt.yticks(np.arange(0, ylim + 0.1, sep))\n",
    "    # plotea\n",
    "    [plt.bar(i, datos_dfs[i],  width=bars_width, color=color, label=labels[i]) for i in range(3)]\n",
    "    # spines\n",
    "    [ax.spines[x].set_visible(False) for x in [\"top\", \"right\"]]\n",
    "    [ax.spines[x].set_color(color_spines) for x in [\"bottom\", \"left\"]]\n",
    "    # formato etiquetas\n",
    "    format_ticks(labels, color_spines, ind)\n",
    "    # línea de dato país\n",
    "    plt.axhline(dato_censo, color='k')\n",
    "    # agrega texto sobre el valor para todo el país\n",
    "    ax.text(-0.2, dato_censo * 1.05, 'Valor para el país', **font)\n",
    "    # exporta\n",
    "    save_chart(filename + '.pdf')\n",
    "    # muestra\n",
    "    plt.show()"
   ]
  },
  {
   "cell_type": "code",
   "execution_count": 15,
   "metadata": {},
   "outputs": [
    {
     "data": {
      "image/png": "[encoded data removed]",
      "text/plain": [
       "<Figure size 288x172.8 with 1 Axes>"
      ]
     },
     "metadata": {
      "needs_background": "dark"
     },
     "output_type": "display_data"
    }
   ],
   "source": [
    "plot_tres_barras(ind_m_desagregado, ind_m_pais, 120, 20, 'eda_001_barras_masculinidad')"
   ]
  },
  {
   "cell_type": "code",
   "execution_count": 16,
   "metadata": {},
   "outputs": [
    {
     "name": "stdout",
     "output_type": "stream",
     "text": [
      "Help on function porcentaje_sexo in module functions.func_demograficas:\n",
      "\n",
      "porcentaje_sexo(df, var_sexo)\n",
      "    Calcula el porcentaje por sexo de un dataframe\n",
      "\n"
     ]
    }
   ],
   "source": [
    "# proporción varones/mujeres\n",
    "help(porcentaje_sexo)\n",
    "\n",
    "# aplica función para lista extendida de DFs\n",
    "prop_sexo_dfs = [porcentaje_sexo(x, 'PERPH02') for x in lista_dfs_censo]\n",
    "\n",
    "# traspone las listas\n",
    "prop_sexo_tranposed = [[h,i,j,k] for h,i,j,k in zip(*prop_sexo_dfs)]"
   ]
  },
  {
   "cell_type": "code",
   "execution_count": 17,
   "metadata": {},
   "outputs": [],
   "source": [
    "# etiquetas a ser utilizadas\n",
    "labels_extended = ['Total país',\n",
    "                   'Hacia\\n Montevideo',\n",
    "                   'Desde Mvdeo.\\n al interior',\n",
    "                   'Entre dptos.\\n del interior']"
   ]
  },
  {
   "cell_type": "code",
   "execution_count": 18,
   "metadata": {},
   "outputs": [
    {
     "data": {
      "image/png": "[encoded data removed]",
      "text/plain": [
       "<Figure size 288x172.8 with 1 Axes>"
      ]
     },
     "metadata": {
      "needs_background": "dark"
     },
     "output_type": "display_data"
    }
   ],
   "source": [
    "fig, ax = plt.subplots(figsize=fig_size)\n",
    "\n",
    "# setea paleta de colores\n",
    "colors = 'skyblue', 'seagreen'\n",
    "\n",
    "# mínimo y máximo de ejes\n",
    "plt.ylim(0, 100)\n",
    "\n",
    "# controla el intervalo de etiquetas en los ticks del eje Y\n",
    "plt.yticks(np.arange(0, 101, 50))\n",
    "\n",
    "# n de barras\n",
    "ind=np.arange(4)\n",
    "\n",
    "# línea del 50%\n",
    "plt.axhline(50, color='k', linewidth=0.5, linestyle='--')\n",
    "\n",
    "_bottoms = [None, prop_sexo_tranposed[0]]\n",
    "\n",
    "# grafica\n",
    "p = [plt.bar(ind, prop_sexo_tranposed[i], width=bars_width, bottom=_bottoms[i], color=colors[i]) for i in range(2)]\n",
    "\n",
    "format_spines(color_spines)\n",
    "format_ticks(labels_extended, color_spines, ind)\n",
    "\n",
    "def etiquetar_sexos_barras(x_position, ax_name, colors, font_size):\n",
    "        # Varones\n",
    "        ax_name.text(x_position, 20, 'Varones',\n",
    "        horizontalalignment='left',\n",
    "        color=colors[0], fontsize=font_size)\n",
    "        # Mujeres\n",
    "        ax_name.text(x_position, 70, 'Mujeres',\n",
    "        horizontalalignment='left',\n",
    "        color=colors[1], fontsize=font_size)\n",
    "\n",
    "etiquetar_sexos_barras(3.5, plt, ['cadetblue', 'green'], 9)\n",
    "        \n",
    "save_chart('eda_002_porcentaje_sexo.pdf')\n",
    "\n",
    "plt.show()"
   ]
  },
  {
   "cell_type": "markdown",
   "metadata": {},
   "source": [
    "#### Edades medianas"
   ]
  },
  {
   "cell_type": "code",
   "execution_count": 19,
   "metadata": {},
   "outputs": [
    {
     "data": {
      "text/markdown": [
       "Las edades medianas son **23**, **32** y **28** años respectivamente. En tanto el valor para el país es de **34**.\n"
      ],
      "text/plain": [
       "<IPython.core.display.Markdown object>"
      ]
     },
     "metadata": {},
     "output_type": "display_data"
    }
   ],
   "source": [
    "# edades medianas\n",
    "emed = [x.PERNA01.median().astype(int) for x in lista_dfs]\n",
    "e_med_censo = censo.PERNA01.median().astype(int)\n",
    "\n",
    "printmd(\"\"\"Las edades medianas son **{}**, **{}** y **{}** años respectivamente. En tanto el valor para el país es de **{}**.\n",
    "\"\"\".format(emed[0], emed[1], emed[2], e_med_censo))"
   ]
  },
  {
   "cell_type": "code",
   "execution_count": 20,
   "metadata": {},
   "outputs": [
    {
     "data": {
      "image/png": "[encoded data removed]",
      "text/plain": [
       "<Figure size 288x172.8 with 1 Axes>"
      ]
     },
     "metadata": {
      "needs_background": "dark"
     },
     "output_type": "display_data"
    }
   ],
   "source": [
    "plot_tres_barras(emed, e_med_censo, 40, 10, 'eda_003_edades_medianas')"
   ]
  },
  {
   "cell_type": "markdown",
   "metadata": {},
   "source": [
    "## Distribución por edades"
   ]
  },
  {
   "cell_type": "markdown",
   "metadata": {},
   "source": [
    "#### Distribución por grupos de edad"
   ]
  },
  {
   "cell_type": "code",
   "execution_count": 21,
   "metadata": {},
   "outputs": [],
   "source": [
    "# define paleta de colores\n",
    "rosado  = (0.90, 0.40, 0.56)\n",
    "violeta = (0.31, 0.11, 0.45)\n",
    "salmon  = (0.98, 0.80, 0.67)\n",
    "fucsia  = (0.72, 0.20, 0.58)\n",
    "oscuro  = (0.08, 0.02, 0.13)\n",
    "lista_colores = rosado, violeta, salmon, fucsia, oscuro"
   ]
  },
  {
   "cell_type": "code",
   "execution_count": 22,
   "metadata": {},
   "outputs": [],
   "source": [
    "# GRUPOS DE 0 a 3 años', '4 a 17 años', '18 a 64 años', '65 o más años'\n",
    "grupos_edad = [grupos_de_edad_mig(x, 'PERNA01')  for x in lista_dfs_censo]\n",
    "\n",
    "# traspone las series enlistada y las devuelve en una lista \n",
    "grupos_edad_t = [[h,i,j,k] for h,i,j,k in zip(*grupos_edad)]"
   ]
  },
  {
   "cell_type": "code",
   "execution_count": 23,
   "metadata": {},
   "outputs": [
    {
     "data": {
      "text/plain": [
       "[[6.705806519156229, 0, 0, 0],\n",
       " [15.052875625718237,\n",
       "  8.420507021015927,\n",
       "  16.93973233313443,\n",
       "  19.116659672681493],\n",
       " [29.351389484038098, 68.4242766939968, 39.029920722871026, 44.67477968946706],\n",
       " [34.77733439161684,\n",
       "  18.801243992083684,\n",
       "  34.92114909214901,\n",
       "  30.054553084347464],\n",
       " [14.112593979470597, 4.353972292903591, 9.109197851845538, 6.154007553503987]]"
      ]
     },
     "execution_count": 23,
     "metadata": {},
     "output_type": "execute_result"
    }
   ],
   "source": [
    "grupos_edad_t"
   ]
  },
  {
   "cell_type": "code",
   "execution_count": 25,
   "metadata": {},
   "outputs": [
    {
     "data": {
      "image/png": "[encoded data removed]",
      "text/plain": [
       "<Figure size 288x172.8 with 1 Axes>"
      ]
     },
     "metadata": {
      "needs_background": "dark"
     },
     "output_type": "display_data"
    }
   ],
   "source": [
    "fig, ax = plt.subplots(figsize = fig_size)\n",
    "\n",
    "# n de barras\n",
    "ind = np.arange(4)\n",
    "\n",
    "# setea paleta de colores\n",
    "colors = lista_colores\n",
    "\n",
    "# mínimo y máximo de ejes\n",
    "plt.ylim(0, 100)\n",
    "\n",
    "# enlista los fondos calculados con la función get_bottoms\n",
    "_bottoms = get_bottoms(grupos_edad_t)\n",
    "\n",
    "# grafica\n",
    "p = [plt.bar(ind, grupos_edad_t[i], width=bars_width, color=colors[i], bottom=_bottoms[i]) for i in range(5)]\n",
    "\n",
    "format_spines(color_spines)\n",
    "format_ticks(labels_extended, color_spines, ind)\n",
    "\n",
    "_labels = ['0 a 4 años',\n",
    "           '5 a 14 años',\n",
    "           '15 a 34 años',\n",
    "           '35 a 64 años',\n",
    "           '65 o más años']\n",
    "\n",
    "# leyenda\n",
    "def format_legend(x_position, labels):\n",
    "    plt.legend(p,\n",
    "               labels,\n",
    "               bbox_to_anchor=(x_position, 1),\n",
    "               loc='upper right',\n",
    "               frameon=False,\n",
    "               labelspacing=1,\n",
    "               prop=font_legend)\n",
    "\n",
    "format_legend(1.60, _labels)\n",
    "\n",
    "save_chart('eda_004_dist_grupos_edad.pdf')\n",
    "\n",
    "plt.show()"
   ]
  },
  {
   "cell_type": "code",
   "execution_count": 27,
   "metadata": {},
   "outputs": [],
   "source": [
    "# agrupa datos\n",
    "edades_censo = agrupar_por_edades(censo, 'PERNA01')\n",
    "edades = [agrupar_por_edades(x, 'PERNA01') for x in lista_dfs]"
   ]
  },
  {
   "cell_type": "code",
   "execution_count": 28,
   "metadata": {},
   "outputs": [
    {
     "data": {
      "image/png": "[encoded data removed]",
      "text/plain": [
       "<Figure size 720x360 with 1 Axes>"
      ]
     },
     "metadata": {
      "needs_background": "dark"
     },
     "output_type": "display_data"
    }
   ],
   "source": [
    "# ploteo de edades\n",
    "fig, ax = plt.subplots(figsize=(10, 5))\n",
    "\n",
    "# plote líne con valores para todas las personas\n",
    "plt.plot(edades_censo.edad,\n",
    "         edades_censo.porc_pers,\n",
    "         label='Todas las personas',\n",
    "         linewidth=1,\n",
    "         color='grey',\n",
    "         alpha=0.6)\n",
    "\n",
    "# plotea las otras tres distribuciones\n",
    "colors = ['firebrick', 'darkcyan', 'darkmagenta']\n",
    "\n",
    "[plt.plot(edades[i].edad, edades[i].porc_pers, color=colors[i], label=labels[i], linewidth=2) for i in range(3)]\n",
    "\n",
    "\n",
    "plt.legend(loc='upper right',\n",
    "           frameon=False,\n",
    "           labelspacing=1,\n",
    "           prop=font_legend)\n",
    "\n",
    "# setea límites de ejex x e y\n",
    "plt.ylim(0, 10)\n",
    "plt.xlim(0, 80)\n",
    "\n",
    "plt.xticks(**font, color=color_spines)\n",
    "plt.yticks(**font, color=color_spines)\n",
    "plt.tick_params(axis='y', color=color_spines)\n",
    "plt.tick_params(axis='x', labelbottom=True, color=color_spines) \n",
    "\n",
    "format_spines(color_spines)\n",
    "\n",
    "save_chart('eda_006_distribucion_edades.pdf')\n",
    "\n",
    "plt.show()"
   ]
  },
  {
   "cell_type": "markdown",
   "metadata": {},
   "source": [
    "## **Hogares**"
   ]
  },
  {
   "cell_type": "code",
   "execution_count": null,
   "metadata": {},
   "outputs": [],
   "source": [
    "def promedio_integrantes(df_censo, viviendas_col):\n",
    "    \"Calcula promedio de integrantes del hogar\"\n",
    "    cols = ['HOGCOD', 'DPTO', 'PERMI07', 'PERMI07_2']\n",
    "    \n",
    "    if viviendas_col == True:\n",
    "        df = df_censo.loc[:,cols]\n",
    "    elif viviendas_col == False:\n",
    "        df = df_censo.loc[df_censo.TIPO_VIVIE==1,cols]\n",
    "    else:\n",
    "        raise Exception('viviendas_col acepta solo valores True o False')\n",
    "\n",
    "    lista_vars = ['total', 'ori_mvo', 'des_mvo', 'des_int']\n",
    "        \n",
    "    df[lista_vars[0]] = 1\n",
    "    [df.insert(len(df.columns), lista_vars[i], 0) for i in range(1,4)]\n",
    "\n",
    "    # destino Mvdeo.\n",
    "    df.loc[(df.PERMI07 == 3) & (df.DPTO==1), lista_vars[1]] = 1\n",
    "    # destino interior\n",
    "    df.loc[(df.PERMI07 == 3) & (df.PERMI07_2== 1), lista_vars[2]] = 1\n",
    "    # entre interior\n",
    "    df.loc[(df.PERMI07 == 3) & (df.PERMI07_2!=1) & (df.DPTO!=1) & (df.PERMI07_2.isnull()==False), lista_vars[3]] = 1\n",
    "\n",
    "    df_group = df.groupby('HOGCOD').agg(\n",
    "        {   lista_vars[0]: sum,\n",
    "            lista_vars[1]: sum,\n",
    "            lista_vars[2]: sum,\n",
    "            lista_vars[3]: sum\n",
    "        })\n",
    "\n",
    "    means = [df_group.loc[df_group[i]>0, lista_vars[0]].mean().round(2) for i in lista_vars]\n",
    "\n",
    "    return means"
   ]
  },
  {
   "cell_type": "code",
   "execution_count": null,
   "metadata": {},
   "outputs": [],
   "source": [
    "promedio_integrantes(censo, viviendas_col=False)"
   ]
  },
  {
   "cell_type": "code",
   "execution_count": null,
   "metadata": {},
   "outputs": [],
   "source": [
    "promedio_integrantes(censo, viviendas_col=True)"
   ]
  },
  {
   "cell_type": "code",
   "execution_count": null,
   "metadata": {},
   "outputs": [],
   "source": [
    "# edades medianas\n",
    "prom_hog = promedio_integrantes(censo, True)\n",
    "\n",
    "printmd(\"\"\"El promedio de integrantes por hogar es de **{}**, **{}** y **{}** personas respectivamente; en tanto el valor para el país es de **{}**.\n",
    "\"\"\".format(prom_hog[1], prom_hog[2], prom_hog[3], prom_hog[0]))"
   ]
  },
  {
   "cell_type": "code",
   "execution_count": null,
   "metadata": {},
   "outputs": [],
   "source": [
    "# plot_tres_barras(prom_hog[1:4], prom_hog[0], 4, 1, 'eda_014_promedio_personas_hogar.pdf')"
   ]
  },
  {
   "cell_type": "code",
   "execution_count": null,
   "metadata": {},
   "outputs": [],
   "source": [
    "# edades medianas\n",
    "prom_hog_nocol = promedio_integrantes(censo, False)\n",
    "\n",
    "printmd(\"\"\"El promedio de integrantes por hogar excluyendo hogares colectivos es de **{}**, **{}** y **{}** personas respectivamente; en tanto el valor para el país es de **{}**.\n",
    "\"\"\".format(prom_hog_nocol[1], prom_hog_nocol[2], prom_hog_nocol[3], prom_hog_nocol[0]))"
   ]
  },
  {
   "cell_type": "code",
   "execution_count": null,
   "metadata": {},
   "outputs": [],
   "source": [
    "plot_tres_barras(prom_hog_nocol[1:4], prom_hog_nocol[0], 4, 1, 'eda_015_promedio_personas_hogar_sin_hogcol')"
   ]
  },
  {
   "cell_type": "markdown",
   "metadata": {},
   "source": [
    "#### Viviendas colectivas"
   ]
  },
  {
   "cell_type": "code",
   "execution_count": null,
   "metadata": {},
   "outputs": [],
   "source": [
    "# calcula porcentaje de personas viviendo en viviendas colectivas sobre el total de personas\n",
    "viv_col = [(x.groupby('TIPO_VIVIE').size()[2]/x.shape[0]*100).round(2) for x in lista_dfs_censo]\n",
    "\n",
    "printmd(\"\"\"El porcentaje de personas que viven en viviendas colectivas es de **{} %**, **{} %** y **{} %**; en tanto el valor para el país es de **{} %**.\n",
    "\"\"\".format(viv_col[1], viv_col[2], viv_col[3], viv_col[0]))"
   ]
  },
  {
   "cell_type": "code",
   "execution_count": null,
   "metadata": {},
   "outputs": [],
   "source": [
    "def plot_tres_barras_custom(datos_dfs, dato_censo, ylim, sep, dato_censo_x, dato_censo_y, filename):\n",
    "    \"Grafica tres barras y dato del censo, exporta a pdf\"\n",
    "    # grafica edades medianas\n",
    "    fig, ax = plt.subplots(figsize = fig_size)\n",
    "    # n de barras\n",
    "    ind=np.arange(3)\n",
    "    # ancho de las barras\n",
    "    bars_width=0.40\n",
    "    # límite en eje Y\n",
    "    plt.ylim(0, ylim)\n",
    "    # controla el intervalo de etiquetas en los ticks del eje Y\n",
    "    plt.yticks(np.arange(0, ylim + 0.1, sep))\n",
    "    # plotea\n",
    "    [plt.bar(i, datos_dfs[i],  width=bars_width, color=color, label=labels[i]) for i in range(3)]\n",
    "    # spines\n",
    "    [ax.spines[x].set_visible(False) for x in [\"top\", \"right\"]]\n",
    "    [ax.spines[x].set_color(color_spines) for x in [\"bottom\", \"left\"]]\n",
    "    # formato etiquetas\n",
    "    format_ticks(labels, color_spines, ind)\n",
    "    # línea de dato país\n",
    "    plt.axhline(dato_censo, color='k')\n",
    "    # agrega texto sobre el valor para todo el país\n",
    "    ax.text(dato_censo_x, dato_censo * dato_censo_y, 'Valor para el país', **font)\n",
    "    # exporta\n",
    "    save_chart(filename + '.pdf')\n",
    "    # muestra\n",
    "    plt.show()"
   ]
  },
  {
   "cell_type": "code",
   "execution_count": null,
   "metadata": {},
   "outputs": [],
   "source": [
    "plot_tres_barras_custom(viv_col[1:4], viv_col[0], 8, 2, 0.25, 1.25,'eda_016_porcent_viviendas_colectivas')"
   ]
  },
  {
   "cell_type": "markdown",
   "metadata": {},
   "source": [
    "#### Presencia de niños en hogares"
   ]
  },
  {
   "cell_type": "code",
   "execution_count": null,
   "metadata": {},
   "outputs": [],
   "source": [
    "cols = ['HOGCOD', 'DPTO', 'PERMI07', 'PERMI07_2', 'PERNA01']    \n",
    "df = censo.loc[:,cols]\n",
    "\n",
    "lista_vars = ['total', 'a', 'b', 'c', '0a10', '11a17']\n",
    "\n",
    "df[lista_vars[0]] = 1\n",
    "[df.insert(len(df.columns), lista_vars[i], 0) for i in range(1,6)]\n",
    "\n",
    "# destino Mvdeo.\n",
    "df.loc[(df.PERMI07 == 3) & (df.DPTO==1), lista_vars[1]] = 1\n",
    "# destino interior\n",
    "df.loc[(df.PERMI07 == 3) & (df.PERMI07_2== 1), lista_vars[2]] = 1\n",
    "# entre interior\n",
    "df.loc[(df.PERMI07 == 3) & (df.PERMI07_2!=1) & (df.DPTO!=1) & (df.PERMI07_2.isnull()==False), lista_vars[3]] = 1\n",
    "\n",
    "# niños\n",
    "df.loc[(df.PERNA01.between(0,10)), lista_vars[4]] = 1\n",
    "df.loc[(df.PERNA01.between(11,17)), lista_vars[5]] = 1\n",
    "\n",
    "# agrupa\n",
    "df_group = df.groupby('HOGCOD').agg(\n",
    "            {   lista_vars[0]: sum,\n",
    "                lista_vars[1]: sum,\n",
    "                lista_vars[2]: sum,\n",
    "                lista_vars[3]: sum,\n",
    "                lista_vars[4]: sum,\n",
    "                lista_vars[5]: sum\n",
    "            })\n",
    "\n",
    "df_group.head()"
   ]
  },
  {
   "cell_type": "code",
   "execution_count": null,
   "metadata": {},
   "outputs": [],
   "source": [
    "cross = pd.crosstab(index=[df.total, df.a, df.b, df.c], columns=[df['0a10'], df['11a17']])\n",
    "cross"
   ]
  },
  {
   "cell_type": "code",
   "execution_count": null,
   "metadata": {},
   "outputs": [],
   "source": [
    "# crosstab\n",
    "cross = pd.crosstab(index=[df.a, df.b, df.c], columns=[df['0a10'], df['11a17']])\n",
    "\n",
    "cross.reset_index(inplace=True)\n",
    "\n",
    "df_cross = pd.DataFrame(cross.values[1:4,4:7])\n",
    "\n",
    "# pone nombres al índice 0\n",
    "df_cross.set_index(pd.Series(['grupo_c', 'grupo_b', 'grupo_a']), inplace=True)\n",
    "\n",
    "# # nombres a columnas\n",
    "df_cross.columns = ['11a17', '0a10']\n",
    "# ordena\n",
    "df_cross = df_cross[['0a10', '11a17']]\n",
    "df_cross.sort_values('11a17', inplace=True)\n",
    "\n",
    "df_cross"
   ]
  },
  {
   "cell_type": "code",
   "execution_count": null,
   "metadata": {},
   "outputs": [],
   "source": [
    "df_cross_per = df_cross\n",
    "df_cross_per['0a10'] = df_cross_per['0a10']/df_cross_per['0a10'].sum()*100\n",
    "df_cross_per['11a17'] = df_cross_per['11a17']/df_cross_per['11a17'].sum()*100\n",
    "\n",
    "df_cross_per"
   ]
  },
  {
   "cell_type": "code",
   "execution_count": null,
   "metadata": {},
   "outputs": [],
   "source": [
    "ninios = [list(df_cross.values[i]) for i in range(3)]\n",
    "\n",
    "ninios_t = [[h,i,j] for h,i,j in zip(*ninios)]\n",
    "ninios_t"
   ]
  },
  {
   "cell_type": "code",
   "execution_count": null,
   "metadata": {},
   "outputs": [],
   "source": [
    "fig, ax = plt.subplots(figsize = fig_size)\n",
    "\n",
    "# n de barras\n",
    "ind = np.arange(3)\n",
    "\n",
    "# setea paleta de colores\n",
    "colors = lista_colores\n",
    "\n",
    "# mínimo y máximo de ejes\n",
    "plt.ylim(0, 12500)\n",
    "\n",
    "# enlista los fondos calculados con la función get_bottoms\n",
    "_bottoms = get_bottoms(ninios_t)\n",
    "\n",
    "# grafica\n",
    "p = [plt.bar(ind, ninios_t[i], width=bars_width, color=colors[i], bottom=_bottoms[i]) for i in range(2)]\n",
    "\n",
    "format_spines(color_spines)\n",
    "\n",
    "format_ticks(labels, color_spines, ind)\n",
    "\n",
    "_labels = ['0 a 10 años', '11 a 17 años']\n",
    "\n",
    "# leyenda\n",
    "def format_legend(x_position, labels):\n",
    "    plt.legend(p,\n",
    "               labels,\n",
    "               bbox_to_anchor=(x_position, 1),\n",
    "               loc='upper right',\n",
    "               frameon=False,\n",
    "               labelspacing=1,\n",
    "               prop=font_legend)\n",
    "\n",
    "format_legend(1.60, _labels)\n",
    "\n",
    "save_chart('eda_017_niños_en_hogares.pdf')\n",
    "\n",
    "plt.show()"
   ]
  },
  {
   "cell_type": "markdown",
   "metadata": {},
   "source": [
    "## **Educación**"
   ]
  },
  {
   "cell_type": "code",
   "execution_count": null,
   "metadata": {},
   "outputs": [],
   "source": [
    "def get_edu_asist(df, var_edu):\n",
    "    \"Calcula los porcentajes de personas que asisten a centros educativos\"\n",
    "    df_filtered = df.loc[df[var_edu].between(1, 4), var_edu]\n",
    "    values = df_filtered.value_counts(normalize=True,sort=False).mul(100)\n",
    "    \n",
    "    return values"
   ]
  },
  {
   "cell_type": "code",
   "execution_count": null,
   "metadata": {},
   "outputs": [],
   "source": [
    "# aplica a la lista de 4 DFs\n",
    "edu_asist = [get_edu_asist(x, 'PERED01') for x in lista_dfs_censo]\n",
    "\n",
    "# traspone las series enlistada y las devuelve en una lista \n",
    "edu_asist_list = [[h,i,j,k] for h,i,j,k in zip(*edu_asist)]"
   ]
  },
  {
   "cell_type": "code",
   "execution_count": null,
   "metadata": {},
   "outputs": [],
   "source": [
    "fig, ax = plt.subplots()\n",
    "\n",
    "# n de barras\n",
    "ind = np.arange(4)\n",
    "\n",
    "# setea paleta de colores\n",
    "colors = rosado, violeta, salmon, 'silver'\n",
    "\n",
    "# mínimo y máximo de ejes\n",
    "plt.ylim(0, 100)\n",
    "\n",
    "# enlista los fondos calculados con la función get_bottoms\n",
    "_bottoms = get_bottoms(edu_asist_list)\n",
    "\n",
    "# grafica\n",
    "p = [plt.bar(ind, edu_asist_list[i], width=bars_width, color=colors[i], bottom=_bottoms[i]) for i in range(4)]\n",
    "\n",
    "# oculta spines\n",
    "format_spines(color_spines)\n",
    "\n",
    "# labels\n",
    "plt.xticks(ind, labels_extended)\n",
    "\n",
    "_labels = ['Sí, a un establecimiento público',\n",
    "           'Sí, a un establecimiento privado',\n",
    "           'No asiste pero asistió',\n",
    "           'Nunca asistió']\n",
    "\n",
    "# oculta ticks en eje x\n",
    "plt.tick_params(axis='x', bottom=False, labelbottom=True) \n",
    "\n",
    "# leyenda\n",
    "plt.legend((p[0], p[1], p[2], p[3]),\n",
    "           _labels,\n",
    "           bbox_to_anchor=(1.65, 1),\n",
    "           loc='upper right',\n",
    "           frameon=False,\n",
    "           labelspacing=1,\n",
    "           prop=font_legend)\n",
    "\n",
    "format_ticks(labels_extended, color_spines, ind)\n",
    "\n",
    "save_chart('eda_007_asistencia_educacion.pdf')\n",
    "\n",
    "plt.show()"
   ]
  },
  {
   "cell_type": "markdown",
   "metadata": {},
   "source": [
    "#### **Nivel educativo que cursa actualmente**"
   ]
  },
  {
   "cell_type": "code",
   "execution_count": null,
   "metadata": {},
   "outputs": [],
   "source": [
    "edunivel = [x.PERED03_R_reclass.value_counts(normalize=True,sort=False).mul(100).sort_index() for x in lista_dfs_censo]\n",
    "\n",
    "# enlista\n",
    "edunivel_list = [[h,i,j,k] for h,i,j,k in zip(*edunivel)]"
   ]
  },
  {
   "cell_type": "code",
   "execution_count": null,
   "metadata": {},
   "outputs": [],
   "source": [
    "fig, ax = plt.subplots()\n",
    "\n",
    "# ubicación de los grupos\n",
    "ind = np.arange(4)\n",
    "\n",
    "# mínimo y máximo de ejes\n",
    "plt.ylim(0, 100)\n",
    "\n",
    "# setea paleta de colores\n",
    "colors = lista_colores\n",
    "\n",
    "# pairwise sum para completar los \"bottom\"\n",
    "_bottoms = get_bottoms(edunivel_list)\n",
    "\n",
    "# grafica\n",
    "p = [plt.bar(ind, edunivel_list[i], width=bars_width, color=colors[i], bottom=_bottoms[i]) for i in range(5)]\n",
    "\n",
    "format_spines(color_spines)\n",
    "\n",
    "# labels\n",
    "plt.xticks(ind, labels_extended)\n",
    "\n",
    "_labels = ['Primaria o prescolar',\n",
    "           'Ciclo básico (liceo o UTU)',\n",
    "           'Bachillerato (liceo o UTU)',\n",
    "           'Terciario no universitario',\n",
    "           'Universitario (grado o posgrado)']\n",
    "\n",
    "# oculta ticks\n",
    "format_ticks(labels_extended, color_spines, ind)\n",
    "\n",
    "# leyenda\n",
    "plt.legend((p[0], p[1], p[2], p[3], p[4]),\n",
    "           _labels,\n",
    "           bbox_to_anchor=(1.65, 1),\n",
    "           loc='upper right',\n",
    "           frameon=False,\n",
    "           labelspacing=1,\n",
    "           prop=font_legend)\n",
    "\n",
    "save_chart('eda_008_nivel_educativo_actual.pdf')\n",
    "\n",
    "plt.show()"
   ]
  },
  {
   "cell_type": "markdown",
   "metadata": {},
   "source": [
    "#### **Nivel más alto cursado**"
   ]
  },
  {
   "cell_type": "code",
   "execution_count": null,
   "metadata": {},
   "outputs": [],
   "source": [
    "max_edunivel = [x.PERED03_1_reclass.value_counts(normalize=True,sort=False).mul(100).sort_index()  for x in lista_dfs_censo]\n",
    "\n",
    "# enlista\n",
    "max_edunivel_list = [[h,i,j,k] for h,i,j,k in zip(*max_edunivel)]"
   ]
  },
  {
   "cell_type": "code",
   "execution_count": null,
   "metadata": {},
   "outputs": [],
   "source": [
    "fig, ax = plt.subplots()\n",
    "\n",
    "ind = np.arange(4)\n",
    "\n",
    "# pairwise sum para completar los \"bottom\"\n",
    "_bottoms = get_bottoms(max_edunivel_list)\n",
    "\n",
    "# mínimo y máximo de ejes\n",
    "plt.ylim(0, 100)\n",
    "\n",
    "# grafica\n",
    "p = [plt.bar(ind, max_edunivel_list[i], width=bars_width, color=colors[i], bottom=_bottoms[i]) for i in range(5)]\n",
    "\n",
    "# oculta spines\n",
    "format_spines(color_spines)\n",
    "\n",
    "# oculta ticks en eje x\n",
    "format_ticks(labels_extended, color_spines, ind)\n",
    "\n",
    "# leyenda\n",
    "plt.legend((p),\n",
    "           _labels,\n",
    "           bbox_to_anchor=(1.65, 1),\n",
    "           loc='upper right',\n",
    "           frameon=False,\n",
    "           labelspacing=1,\n",
    "           prop=font_legend)\n",
    "\n",
    "save_chart('eda_009_nivel_mas_alto_alcanzado.pdf')\n",
    "\n",
    "\n",
    "plt.show()"
   ]
  },
  {
   "cell_type": "markdown",
   "metadata": {},
   "source": [
    "## más cosas para ver:\n",
    "- relación entre sexo y distancia de lamigración\n"
   ]
  }
 ],
 "metadata": {
  "colab": {
   "authorship_tag": "ABX9TyPPDYSSpI6HjvyquGBWo+hx",
   "collapsed_sections": [],
   "include_colab_link": true,
   "name": "0.0_data_wrangling.ipynb",
   "provenance": []
  },
  "kernelspec": {
   "display_name": "Python 3",
   "language": "python",
   "name": "python3"
  },
  "language_info": {
   "codemirror_mode": {
    "name": "ipython",
    "version": 3
   },
   "file_extension": ".py",
   "mimetype": "text/x-python",
   "name": "python",
   "nbconvert_exporter": "python",
   "pygments_lexer": "ipython3",
   "version": "3.8.2"
  }
 },
 "nbformat": 4,
 "nbformat_minor": 4
}
