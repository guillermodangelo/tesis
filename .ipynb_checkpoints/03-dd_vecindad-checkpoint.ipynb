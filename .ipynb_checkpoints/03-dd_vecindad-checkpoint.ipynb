{
 "cells": [
  {
   "cell_type": "markdown",
   "id": "0060c540",
   "metadata": {},
   "source": [
    "# Calcula vecindad entre departamentos\n",
    "\n",
    "Se calcula la vecindad y el largo de la frontera compartida entre departamentos"
   ]
  },
  {
   "cell_type": "code",
   "execution_count": 1,
   "id": "c008e8ee",
   "metadata": {},
   "outputs": [],
   "source": [
    "import pandas as pd\n",
    "import fiona\n",
    "from shapely.geometry import shape, mapping\n",
    "import itertools\n",
    "from collections import OrderedDict"
   ]
  },
  {
   "cell_type": "code",
   "execution_count": 2,
   "id": "03148e53",
   "metadata": {},
   "outputs": [],
   "source": [
    "# carga la capa como un iterable\n",
    "polys = fiona.open(\"capas/ine_deptos_generalizada.gpkg\")"
   ]
  },
  {
   "cell_type": "code",
   "execution_count": 3,
   "id": "f702ff8e",
   "metadata": {},
   "outputs": [],
   "source": [
    "def shared_boundary(file):\n",
    "    \"Calculo de vecindad y largo de fronteras\"\n",
    "    polys = fiona.open(file)\n",
    "    shared = []\n",
    "\n",
    "    for pol1, pol2 in itertools.combinations(polys, 2):\n",
    "        geompol1 = shape(pol1['geometry'])\n",
    "        geompol2 = shape(pol2['geometry'])\n",
    "        # Si se tocan, calcula largo\n",
    "        if geompol1.touches(geompol2):\n",
    "            length = shape(mapping(geompol1.intersection(geompol2))).length\n",
    "            shared.append([tuple(pol1['properties'].items())[0], tuple(pol2['properties'].items())[0], int(length)])\n",
    "    \n",
    "    # recupera valores mediante list comprehension\n",
    "    shared = list(zip([x[0][1] for x in shared],\n",
    "                  [x[1][1] for x in shared],\n",
    "                  [x[2] for x in shared]                  \n",
    "                 ))\n",
    "    # convierte a pandas dataframe\n",
    "    df = pd.DataFrame(shared, columns=['poly1', 'poly2', 'length']).sort_values(by=['poly1', 'poly2'])\n",
    "    # elimina los registros que se tocan en un sólo punto (largo=0)\n",
    "    df = df.loc[df.length > 0].reset_index(drop=True)\n",
    "\n",
    "    return df"
   ]
  },
  {
   "cell_type": "code",
   "execution_count": 4,
   "id": "594d3921",
   "metadata": {},
   "outputs": [
    {
     "name": "stdout",
     "output_type": "stream",
     "text": [
      "(39, 3)\n",
      "<ipython-input-3-1261af6b548e>:6: RuntimeWarning: Sequential read of iterator was interrupted. Resetting iterator. This can negatively impact the performance.\n",
      "  for pol1, pol2 in itertools.combinations(polys, 2):\n"
     ]
    },
    {
     "data": {
      "text/html": [
       "<div>\n",
       "<style scoped>\n",
       "    .dataframe tbody tr th:only-of-type {\n",
       "        vertical-align: middle;\n",
       "    }\n",
       "\n",
       "    .dataframe tbody tr th {\n",
       "        vertical-align: top;\n",
       "    }\n",
       "\n",
       "    .dataframe thead th {\n",
       "        text-align: right;\n",
       "    }\n",
       "</style>\n",
       "<table border=\"1\" class=\"dataframe\">\n",
       "  <thead>\n",
       "    <tr style=\"text-align: right;\">\n",
       "      <th></th>\n",
       "      <th>dep1</th>\n",
       "      <th>dep2</th>\n",
       "      <th>largo_limite</th>\n",
       "    </tr>\n",
       "  </thead>\n",
       "  <tbody>\n",
       "    <tr>\n",
       "      <th>0</th>\n",
       "      <td>3</td>\n",
       "      <td>1</td>\n",
       "      <td>60107</td>\n",
       "    </tr>\n",
       "    <tr>\n",
       "      <th>1</th>\n",
       "      <td>3</td>\n",
       "      <td>8</td>\n",
       "      <td>94070</td>\n",
       "    </tr>\n",
       "    <tr>\n",
       "      <th>2</th>\n",
       "      <td>3</td>\n",
       "      <td>9</td>\n",
       "      <td>51167</td>\n",
       "    </tr>\n",
       "    <tr>\n",
       "      <th>3</th>\n",
       "      <td>3</td>\n",
       "      <td>10</td>\n",
       "      <td>24113</td>\n",
       "    </tr>\n",
       "    <tr>\n",
       "      <th>4</th>\n",
       "      <td>3</td>\n",
       "      <td>16</td>\n",
       "      <td>48749</td>\n",
       "    </tr>\n",
       "  </tbody>\n",
       "</table>\n",
       "</div>"
      ],
      "text/plain": [
       "   dep1  dep2  largo_limite\n",
       "0     3     1         60107\n",
       "1     3     8         94070\n",
       "2     3     9         51167\n",
       "3     3    10         24113\n",
       "4     3    16         48749"
      ]
     },
     "execution_count": 4,
     "metadata": {},
     "output_type": "execute_result"
    }
   ],
   "source": [
    "# ruta a la capa de departamentos\n",
    "file=\"capas/ine_deptos_generalizada.gpkg\"\n",
    "\n",
    "# aplica función\n",
    "vecinos = shared_boundary(file)\n",
    "\n",
    "# renombra variables\n",
    "vecinos.rename({'poly1': 'dep1', 'poly2': 'dep2', 'length': 'largo_limite'}, inplace=True, axis=1)\n",
    "print(vecinos.shape)\n",
    "vecinos.head()"
   ]
  },
  {
   "cell_type": "code",
   "execution_count": 5,
   "id": "e96bc589",
   "metadata": {},
   "outputs": [],
   "source": [
    "def codificar(df, var1, var2):\n",
    "    \"Función para codificar\"\n",
    "    df_coded = df.copy()\n",
    "    df_coded['cod'] = (df_coded[var1].astype(str) + df_coded[var2].astype(str).str.zfill(2)).astype(int)\n",
    "    \n",
    "    return df_coded\n",
    "\n",
    "# codifica\n",
    "df1 = codificar(vecinos, 'dep1', 'dep2')\n",
    "df2 = codificar(vecinos, 'dep2', 'dep1')\n",
    "df2.columns = ['dep2', 'dep1', 'largo_limite', 'cod']"
   ]
  },
  {
   "cell_type": "code",
   "execution_count": 6,
   "id": "70f60aed",
   "metadata": {},
   "outputs": [],
   "source": [
    "# hace un append de ambos DF\n",
    "deptos_vecinos = df1.append(df2).sort_values(['dep1', 'dep2']).reset_index(drop=True)"
   ]
  },
  {
   "cell_type": "code",
   "execution_count": 7,
   "id": "350b6c84",
   "metadata": {},
   "outputs": [
    {
     "name": "stdout",
     "output_type": "stream",
     "text": [
      "(78, 4)\n"
     ]
    },
    {
     "data": {
      "text/html": [
       "<div>\n",
       "<style scoped>\n",
       "    .dataframe tbody tr th:only-of-type {\n",
       "        vertical-align: middle;\n",
       "    }\n",
       "\n",
       "    .dataframe tbody tr th {\n",
       "        vertical-align: top;\n",
       "    }\n",
       "\n",
       "    .dataframe thead th {\n",
       "        text-align: right;\n",
       "    }\n",
       "</style>\n",
       "<table border=\"1\" class=\"dataframe\">\n",
       "  <thead>\n",
       "    <tr style=\"text-align: right;\">\n",
       "      <th></th>\n",
       "      <th>dep1</th>\n",
       "      <th>dep2</th>\n",
       "      <th>largo_limite</th>\n",
       "      <th>cod</th>\n",
       "    </tr>\n",
       "  </thead>\n",
       "  <tbody>\n",
       "    <tr>\n",
       "      <th>0</th>\n",
       "      <td>1</td>\n",
       "      <td>3</td>\n",
       "      <td>60107</td>\n",
       "      <td>103</td>\n",
       "    </tr>\n",
       "    <tr>\n",
       "      <th>1</th>\n",
       "      <td>1</td>\n",
       "      <td>16</td>\n",
       "      <td>5400</td>\n",
       "      <td>116</td>\n",
       "    </tr>\n",
       "    <tr>\n",
       "      <th>2</th>\n",
       "      <td>2</td>\n",
       "      <td>15</td>\n",
       "      <td>197272</td>\n",
       "      <td>215</td>\n",
       "    </tr>\n",
       "    <tr>\n",
       "      <th>3</th>\n",
       "      <td>3</td>\n",
       "      <td>1</td>\n",
       "      <td>60107</td>\n",
       "      <td>301</td>\n",
       "    </tr>\n",
       "    <tr>\n",
       "      <th>4</th>\n",
       "      <td>3</td>\n",
       "      <td>8</td>\n",
       "      <td>94070</td>\n",
       "      <td>308</td>\n",
       "    </tr>\n",
       "  </tbody>\n",
       "</table>\n",
       "</div>"
      ],
      "text/plain": [
       "   dep1  dep2  largo_limite  cod\n",
       "0     1     3         60107  103\n",
       "1     1    16          5400  116\n",
       "2     2    15        197272  215\n",
       "3     3     1         60107  301\n",
       "4     3     8         94070  308"
      ]
     },
     "execution_count": 7,
     "metadata": {},
     "output_type": "execute_result"
    }
   ],
   "source": [
    "print(deptos_vecinos.shape)\n",
    "deptos_vecinos.head()"
   ]
  },
  {
   "cell_type": "code",
   "execution_count": 8,
   "id": "02fd72a9",
   "metadata": {},
   "outputs": [],
   "source": [
    "# exporta\n",
    "deptos_vecinos.to_csv('tablas/deptos_vecinos.csv', index=False)"
   ]
  }
 ],
 "metadata": {
  "kernelspec": {
   "display_name": "Python 3.9.2 64-bit ('tesis': conda)",
   "language": "python",
   "name": "python392jvsc74a57bd05ce838cc175eb9c7ee2cce823ae805de6106cb4564d9fc7b3476b35fac8c9293"
  },
  "language_info": {
   "codemirror_mode": {
    "name": "ipython",
    "version": 3
   },
   "file_extension": ".py",
   "mimetype": "text/x-python",
   "name": "python",
   "nbconvert_exporter": "python",
   "pygments_lexer": "ipython3",
   "version": "3.9.2"
  },
  "metadata": {
   "interpreter": {
    "hash": "5ce838cc175eb9c7ee2cce823ae805de6106cb4564d9fc7b3476b35fac8c9293"
   }
  }
 },
 "nbformat": 4,
 "nbformat_minor": 5
}
