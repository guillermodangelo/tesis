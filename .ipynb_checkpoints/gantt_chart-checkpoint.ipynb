{
 "cells": [
  {
   "cell_type": "code",
   "execution_count": 13,
   "metadata": {},
   "outputs": [],
   "source": [
    "import datetime\n",
    "import matplotlib\n",
    "import matplotlib.pyplot as plt\n",
    "matplotlib.style.use('ggplot')\n",
    "from dateutil.relativedelta import *"
   ]
  },
  {
   "cell_type": "code",
   "execution_count": 14,
   "metadata": {},
   "outputs": [],
   "source": [
    "# Periodo 27/03 - 31/05\n",
    "start = datetime.datetime.strptime(\"03-20\", \"%m-%y\")\n",
    "end = datetime.datetime.strptime(\"9-21\", \"%m-%y\")\n",
    "duracion = int((end-start).days/30)\n",
    "\n",
    "date_range = [start + relativedelta(months=x) for x in range(0, duracion)]\n",
    "\n",
    "x_axis = list(range(1, len(date_range)+1))"
   ]
  },
  {
   "cell_type": "code",
   "execution_count": 17,
   "metadata": {},
   "outputs": [],
   "source": [
    "# Associa cada data à um número\n",
    "mapDateTime = {}\n",
    "counter = 1\n",
    "for date in date_range:\n",
    "    mapDateTime[date] = counter\n",
    "    counter += 1\n",
    "\n",
    "\n",
    "# Formato dos dados: ('Nome da Série', [ ('dataBarra', duracao)], 'Texto inicial', 'Texto final')\n",
    "tuplas = [\n",
    "    ('Marco teórico', [\n",
    "        (\"05-20\", 5)\n",
    "    ], '',  'Lectura'),\n",
    "    ('Metodología', [\n",
    "        (\"04-20\", 3), (\"09-20\", 2)\n",
    "    ], 'Revisión', 'ESDA')\n",
    "]\n",
    "\n",
    "barsShows = {}\n",
    "\n",
    "# Inicia as listas de barras de cada show\n",
    "for i in range(len(tuplas)):\n",
    "    barsShows[i] = []\n",
    "\n",
    "# Cria uma barra de comprimento duration a partir do dia dayString\n",
    "def createBar(show, dayString, duration):\n",
    "    day = datetime.datetime.strptime(dayString, \"%m-%y\")\n",
    "    mapped = mapDateTime[day] # busca a posição em x da data\n",
    "    barsShows[show].append((mapped, duration))\n",
    "\n",
    "barsShows = {}\n",
    "\n",
    "# Inicia as listas de barras de cada show\n",
    "for i in range(len(tuplas)):\n",
    "    barsShows[i] = []\n",
    "    \n",
    "\n",
    "ylabels = []\n",
    "for i, v in enumerate(tuplas):\n",
    "    ylabels.append(v[0]) # Nome da série\n",
    "    for periodo in v[1]:\n",
    "        createBar(i, periodo[0], periodo[1]) # Cria a barra com data de inicio e duração\n",
    "        \n",
    "cmap = plt.cm.get_cmap('plasma_r')\n",
    "colors = [cmap(i/(len(tuplas)+1)) for i in range(len(tuplas))]"
   ]
  },
  {
   "cell_type": "code",
   "execution_count": 18,
   "metadata": {},
   "outputs": [
    {
     "data": {
      "image/png": "[encoded data removed]",
      "text/plain": [
       "<Figure size 432x288 with 1 Axes>"
      ]
     },
     "metadata": {},
     "output_type": "display_data"
    }
   ],
   "source": [
    "# Configuração da figura\n",
    "fig, gnt = plt.subplots()\n",
    "\n",
    "plt.title(\"Gantt Chart tesis\")\n",
    "gnt.grid(False)\n",
    "\n",
    "gnt.set_ylim(-1, len(tuplas))\n",
    "gnt.set_xlim(0, len(date_range)+1)\n",
    "\n",
    "gnt.set_xlabel('Meses')\n",
    "gnt.set_ylabel('Actividad')\n",
    "\n",
    "gnt.set_xticks(x_axis)\n",
    "ticks_y = list(range(len(ylabels)))\n",
    "gnt.set_yticks(ticks_y)\n",
    "gnt.set_yticklabels(ylabels)\n",
    "\n",
    "desloc_y = 0.2\n",
    "desloc_x_final = -2\n",
    "tam_fonte = 8\n",
    "\n",
    "for show in barsShows:\n",
    "    posInicial = barsShows[show][0][0] # posicao x da primeira barra\n",
    "    posFinal = barsShows[show][-1][0] + barsShows[show][-1][1] # posicao x da ultima barra + comprimento\n",
    "\n",
    "    textoInicial = tuplas[show][2]\n",
    "    textoFinal = tuplas[show][3]\n",
    "\n",
    "    if barsShows[show]:\n",
    "        for el in barsShows[show]:\n",
    "            gnt.barh(show, left=el[0], width=el[1], height=0.3, color=colors[show]) \n",
    "\n",
    "        gnt.text(posInicial, show + desloc_y, textoInicial, fontSize=tam_fonte)\n",
    "        gnt.text(posFinal + desloc_x_final, show + desloc_y, textoFinal, fontSize=tam_fonte)\n",
    "\n",
    "plt.show()"
   ]
  }
 ],
 "metadata": {
  "kernelspec": {
   "display_name": "Python 3",
   "language": "python",
   "name": "python3"
  },
  "language_info": {
   "codemirror_mode": {
    "name": "ipython",
    "version": 3
   },
   "file_extension": ".py",
   "mimetype": "text/x-python",
   "name": "python",
   "nbconvert_exporter": "python",
   "pygments_lexer": "ipython3",
   "version": "3.8.2"
  }
 },
 "nbformat": 4,
 "nbformat_minor": 4
}
