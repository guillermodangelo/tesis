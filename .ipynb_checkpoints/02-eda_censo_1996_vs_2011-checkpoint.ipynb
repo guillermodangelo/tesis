{
 "cells": [
  {
   "cell_type": "markdown",
   "id": "53c58fa9",
   "metadata": {},
   "source": [
    "\"Carga datos del Censo INE 1996\"\n",
    "Datos censales"
   ]
  },
  {
   "cell_type": "code",
   "execution_count": 1,
   "id": "4503d6d5",
   "metadata": {},
   "outputs": [
    {
     "name": "stderr",
     "output_type": "stream",
     "text": [
      "Matplotlib is building the font cache; this may take a moment.\n"
     ]
    }
   ],
   "source": [
    "import pandas as pd\n",
    "import numpy as np\n",
    "import matplotlib.pyplot as plt\n",
    "\n",
    "from functions.cargar_data import *\n",
    "from functions.func_demograficas import *\n",
    "from functions.graficas import *\n",
    "\n",
    "from scipy.optimize import curve_fit"
   ]
  },
  {
   "cell_type": "code",
   "execution_count": 2,
   "id": "6640003f",
   "metadata": {},
   "outputs": [],
   "source": [
    "# setea metadatos\n",
    "metadatos_figs = {'Author': '''Guillermo D'Angelo'''}\n",
    "\n",
    "# setea tipo de fuente y tamaño\n",
    "size = 9\n",
    "font = {'fontname': 'Arial', 'fontsize': size}\n",
    "\n",
    "# fuente de leyendas\n",
    "font_legend = font_manager.FontProperties(family='Arial', style='normal', size=10)\n",
    "\n",
    "# tamaño de las gráficas (pulgadas)\n",
    "fig_size = [4, 2.4]\n",
    "\n",
    "# ancho de las barras\n",
    "bars_width=0.40\n",
    "\n",
    "# colores\n",
    "rosado  = (0.90, 0.40, 0.56)\n",
    "oscuro  = (0.08, 0.02, 0.13)\n",
    "violeta = (0.31, 0.11, 0.45)\n",
    "salmon  = (0.98, 0.80, 0.67)\n",
    "fucsia  = (0.72, 0.20, 0.58)\n",
    "lista_colores = rosado, oscuro\n",
    "color = 'darkcyan'\n",
    "color_spines = 'grey'\n",
    "\n",
    "def format_legend(x_pos, y_pos, labels):\n",
    "    fig.legend( labels,\n",
    "               bbox_to_anchor=(x_pos, y_pos),\n",
    "               loc='upper right',\n",
    "               frameon=False,\n",
    "               labelspacing=1,\n",
    "               prop=font_legend)"
   ]
  },
  {
   "cell_type": "markdown",
   "id": "eadd98c5",
   "metadata": {},
   "source": [
    "### Carga datos"
   ]
  },
  {
   "cell_type": "code",
   "execution_count": 3,
   "id": "923a8d31",
   "metadata": {},
   "outputs": [
    {
     "data": {
      "text/html": [
       "<div>\n",
       "<style scoped>\n",
       "    .dataframe tbody tr th:only-of-type {\n",
       "        vertical-align: middle;\n",
       "    }\n",
       "\n",
       "    .dataframe tbody tr th {\n",
       "        vertical-align: top;\n",
       "    }\n",
       "\n",
       "    .dataframe thead th {\n",
       "        text-align: right;\n",
       "    }\n",
       "</style>\n",
       "<table border=\"1\" class=\"dataframe\">\n",
       "  <thead>\n",
       "    <tr style=\"text-align: right;\">\n",
       "      <th></th>\n",
       "      <th>cod_ori</th>\n",
       "      <th>cod_des</th>\n",
       "      <th>cod</th>\n",
       "      <th>distancia</th>\n",
       "      <th>categoria_dist</th>\n",
       "    </tr>\n",
       "  </thead>\n",
       "  <tbody>\n",
       "    <tr>\n",
       "      <th>0</th>\n",
       "      <td>1</td>\n",
       "      <td>2</td>\n",
       "      <td>102</td>\n",
       "      <td>610726</td>\n",
       "      <td>6</td>\n",
       "    </tr>\n",
       "    <tr>\n",
       "      <th>1</th>\n",
       "      <td>1</td>\n",
       "      <td>3</td>\n",
       "      <td>103</td>\n",
       "      <td>22544</td>\n",
       "      <td>1</td>\n",
       "    </tr>\n",
       "  </tbody>\n",
       "</table>\n",
       "</div>"
      ],
      "text/plain": [
       "   cod_ori  cod_des  cod  distancia  categoria_dist\n",
       "0        1        2  102     610726               6\n",
       "1        1        3  103      22544               1"
      ]
     },
     "execution_count": 3,
     "metadata": {},
     "output_type": "execute_result"
    }
   ],
   "source": [
    "# Matriz de distancias deptos\n",
    "md = cargar_matriz_distancias()\n",
    "\n",
    "def categorizar_dist(df):\n",
    "    bins = [0, 100000, 200000, 300000, 400000, 500000, 700000]\n",
    "    bin_indices = np.digitize(df.distancia.values, bins)\n",
    "    return bin_indices\n",
    "\n",
    "md['categoria_dist'] = categorizar_dist(md)\n",
    "\n",
    "md.head(2)"
   ]
  },
  {
   "cell_type": "code",
   "execution_count": 4,
   "id": "422f0829",
   "metadata": {},
   "outputs": [
    {
     "data": {
      "text/html": [
       "<div>\n",
       "<style scoped>\n",
       "    .dataframe tbody tr th:only-of-type {\n",
       "        vertical-align: middle;\n",
       "    }\n",
       "\n",
       "    .dataframe tbody tr th {\n",
       "        vertical-align: top;\n",
       "    }\n",
       "\n",
       "    .dataframe thead th {\n",
       "        text-align: right;\n",
       "    }\n",
       "</style>\n",
       "<table border=\"1\" class=\"dataframe\">\n",
       "  <thead>\n",
       "    <tr style=\"text-align: right;\">\n",
       "      <th></th>\n",
       "      <th>cod_ori</th>\n",
       "      <th>cod_des</th>\n",
       "      <th>cod</th>\n",
       "      <th>distancia_m</th>\n",
       "    </tr>\n",
       "  </thead>\n",
       "  <tbody>\n",
       "    <tr>\n",
       "      <th>0</th>\n",
       "      <td>2220</td>\n",
       "      <td>2521</td>\n",
       "      <td>22202521</td>\n",
       "      <td>137927</td>\n",
       "    </tr>\n",
       "    <tr>\n",
       "      <th>1</th>\n",
       "      <td>2220</td>\n",
       "      <td>2522</td>\n",
       "      <td>22202522</td>\n",
       "      <td>111408</td>\n",
       "    </tr>\n",
       "  </tbody>\n",
       "</table>\n",
       "</div>"
      ],
      "text/plain": [
       "   cod_ori  cod_des       cod  distancia_m\n",
       "0     2220     2521  22202521       137927\n",
       "1     2220     2522  22202522       111408"
      ]
     },
     "execution_count": 4,
     "metadata": {},
     "output_type": "execute_result"
    }
   ],
   "source": [
    "# Matriz de distancias localidades\n",
    "md_loc = cargar_matriz_dist_loc()\n",
    "md_loc.head(2)"
   ]
  },
  {
   "cell_type": "code",
   "execution_count": 5,
   "id": "23b777d6",
   "metadata": {},
   "outputs": [
    {
     "data": {
      "text/plain": [
       "(3163763, 13)"
      ]
     },
     "execution_count": 5,
     "metadata": {},
     "output_type": "execute_result"
    }
   ],
   "source": [
    "# censo 96\n",
    "censo = cargar_censo_96()\n",
    "censo.shape"
   ]
  },
  {
   "cell_type": "code",
   "execution_count": 6,
   "id": "eab5cf09",
   "metadata": {},
   "outputs": [],
   "source": [
    "# migrantes internos censo 2011\n",
    "p_migr = cargar_migrantes_internos()"
   ]
  },
  {
   "cell_type": "markdown",
   "id": "e68e2591",
   "metadata": {},
   "source": [
    "### Pre-proceso censo 96"
   ]
  },
  {
   "cell_type": "code",
   "execution_count": 45,
   "id": "42cb8be0",
   "metadata": {},
   "outputs": [
    {
     "name": "stdout",
     "output_type": "stream",
     "text": [
      "(193567, 17)\n"
     ]
    },
    {
     "data": {
      "text/html": [
       "<div>\n",
       "<style scoped>\n",
       "    .dataframe tbody tr th:only-of-type {\n",
       "        vertical-align: middle;\n",
       "    }\n",
       "\n",
       "    .dataframe tbody tr th {\n",
       "        vertical-align: top;\n",
       "    }\n",
       "\n",
       "    .dataframe thead th {\n",
       "        text-align: right;\n",
       "    }\n",
       "</style>\n",
       "<table border=\"1\" class=\"dataframe\">\n",
       "  <thead>\n",
       "    <tr style=\"text-align: right;\">\n",
       "      <th></th>\n",
       "      <th>depto_destino</th>\n",
       "      <th>loc_destino</th>\n",
       "      <th>SECC</th>\n",
       "      <th>SEGM</th>\n",
       "      <th>VIVIENDA</th>\n",
       "      <th>TIPVIV</th>\n",
       "      <th>HOGARVIV</th>\n",
       "      <th>PARENTESCO</th>\n",
       "      <th>sexo</th>\n",
       "      <th>edad</th>\n",
       "      <th>HACE5AQUI</th>\n",
       "      <th>depto_origen</th>\n",
       "      <th>loc_origen</th>\n",
       "      <th>personas_mig</th>\n",
       "      <th>cod_ori</th>\n",
       "      <th>cod_des</th>\n",
       "      <th>cod</th>\n",
       "    </tr>\n",
       "  </thead>\n",
       "  <tbody>\n",
       "    <tr>\n",
       "      <th>0</th>\n",
       "      <td>1</td>\n",
       "      <td>20</td>\n",
       "      <td>1</td>\n",
       "      <td>1</td>\n",
       "      <td>36375</td>\n",
       "      <td>2</td>\n",
       "      <td>1</td>\n",
       "      <td>8</td>\n",
       "      <td>2</td>\n",
       "      <td>24</td>\n",
       "      <td>NaN</td>\n",
       "      <td>13</td>\n",
       "      <td>522</td>\n",
       "      <td>1</td>\n",
       "      <td>13522</td>\n",
       "      <td>1020</td>\n",
       "      <td>135221020</td>\n",
       "    </tr>\n",
       "    <tr>\n",
       "      <th>1</th>\n",
       "      <td>1</td>\n",
       "      <td>20</td>\n",
       "      <td>1</td>\n",
       "      <td>1</td>\n",
       "      <td>146352</td>\n",
       "      <td>2</td>\n",
       "      <td>1</td>\n",
       "      <td>10</td>\n",
       "      <td>1</td>\n",
       "      <td>51</td>\n",
       "      <td>NaN</td>\n",
       "      <td>6</td>\n",
       "      <td>220</td>\n",
       "      <td>1</td>\n",
       "      <td>6220</td>\n",
       "      <td>1020</td>\n",
       "      <td>62201020</td>\n",
       "    </tr>\n",
       "  </tbody>\n",
       "</table>\n",
       "</div>"
      ],
      "text/plain": [
       "   depto_destino  loc_destino  SECC  SEGM  VIVIENDA  TIPVIV  HOGARVIV  \\\n",
       "0              1           20     1     1     36375       2         1   \n",
       "1              1           20     1     1    146352       2         1   \n",
       "\n",
       "   PARENTESCO  sexo  edad  HACE5AQUI  depto_origen  loc_origen  personas_mig  \\\n",
       "0           8     2    24        NaN            13         522             1   \n",
       "1          10     1    51        NaN             6         220             1   \n",
       "\n",
       "  cod_ori cod_des        cod  \n",
       "0   13522    1020  135221020  \n",
       "1    6220    1020   62201020  "
      ]
     },
     "execution_count": 45,
     "metadata": {},
     "output_type": "execute_result"
    }
   ],
   "source": [
    "# crea tabla de flujos\n",
    "flujos_deptos = censo.loc[(censo.HACE5AQUI.isnull()) & (censo.HAC5DEPC <= 19)]\n",
    "flujos_deptos = flujos_deptos.loc[flujos_deptos.DPTO != flujos_deptos.HAC5DEPC].reset_index(drop=True)\n",
    "flujos_deptos['personas_mig'] = 1\n",
    "\n",
    "flujos_deptos['HAC5DEPC'] = flujos_deptos['HAC5DEPC'].astype(int)\n",
    "\n",
    "dict_rename= {'HAC5DEPC': 'depto_origen',\n",
    "              'DPTO':'depto_destino',\n",
    "              'LOC': 'loc_destino',\n",
    "              'HAC5LOC': 'loc_origen',\n",
    "              'SEXO': 'sexo',\n",
    "              'EDAD': 'edad'}\n",
    "\n",
    "flujos_deptos.rename(dict_rename, axis=1, inplace=True)\n",
    "\n",
    "flujos_deptos['loc_origen'] = flujos_deptos['loc_origen'].astype(int)\n",
    "\n",
    "# codifica díadas por localidad\n",
    "flujos_deptos['cod_ori'] =  flujos_deptos['depto_origen'].astype(str) + pad(flujos_deptos, 'loc_origen', 3)\n",
    "flujos_deptos['cod_des'] =  flujos_deptos['depto_destino'].astype(str) + pad(flujos_deptos, 'loc_destino', 3)\n",
    "flujos_deptos['cod'] =  (flujos_deptos['cod_ori'] + flujos_deptos['cod_des']).astype(int)\n",
    "    \n",
    "print(flujos_deptos.shape)\n",
    "flujos_deptos96 = flujos_deptos\n",
    "flujos_deptos96.head(2)"
   ]
  },
  {
   "cell_type": "code",
   "execution_count": 49,
   "id": "ea70dd67",
   "metadata": {},
   "outputs": [
    {
     "data": {
      "text/plain": [
       "(162117, 17)"
      ]
     },
     "execution_count": 49,
     "metadata": {},
     "output_type": "execute_result"
    }
   ],
   "source": [
    "flujos_deptos96.loc[(flujos_deptos.loc_origen!=900) & (flujos_deptos.loc_destino!=900)].shape"
   ]
  },
  {
   "cell_type": "code",
   "execution_count": 8,
   "id": "e339e66d",
   "metadata": {},
   "outputs": [
    {
     "data": {
      "text/html": [
       "<div>\n",
       "<style scoped>\n",
       "    .dataframe tbody tr th:only-of-type {\n",
       "        vertical-align: middle;\n",
       "    }\n",
       "\n",
       "    .dataframe tbody tr th {\n",
       "        vertical-align: top;\n",
       "    }\n",
       "\n",
       "    .dataframe thead th {\n",
       "        text-align: right;\n",
       "    }\n",
       "</style>\n",
       "<table border=\"1\" class=\"dataframe\">\n",
       "  <thead>\n",
       "    <tr style=\"text-align: right;\">\n",
       "      <th></th>\n",
       "      <th>cod</th>\n",
       "      <th>depto_origen</th>\n",
       "      <th>depto_destino</th>\n",
       "      <th>personas_mig</th>\n",
       "      <th>distancia</th>\n",
       "      <th>categoria_dist</th>\n",
       "    </tr>\n",
       "  </thead>\n",
       "  <tbody>\n",
       "    <tr>\n",
       "      <th>0</th>\n",
       "      <td>102</td>\n",
       "      <td>1</td>\n",
       "      <td>2</td>\n",
       "      <td>1277</td>\n",
       "      <td>610726</td>\n",
       "      <td>6</td>\n",
       "    </tr>\n",
       "    <tr>\n",
       "      <th>1</th>\n",
       "      <td>103</td>\n",
       "      <td>1</td>\n",
       "      <td>3</td>\n",
       "      <td>41077</td>\n",
       "      <td>22544</td>\n",
       "      <td>1</td>\n",
       "    </tr>\n",
       "  </tbody>\n",
       "</table>\n",
       "</div>"
      ],
      "text/plain": [
       "   cod  depto_origen  depto_destino  personas_mig  distancia  categoria_dist\n",
       "0  102             1              2          1277     610726               6\n",
       "1  103             1              3         41077      22544               1"
      ]
     },
     "execution_count": 8,
     "metadata": {},
     "output_type": "execute_result"
    }
   ],
   "source": [
    "# Agrupa datos del Censo 96\n",
    "df_agrupado_96 =  flujos_deptos.groupby(by=['depto_origen', 'depto_destino']).sum()['personas_mig'].to_frame().reset_index()\n",
    "\n",
    "df_agrupado_96.insert(0, 'cod', (df_agrupado_96['depto_origen'].astype(str)\n",
    "                   + df_agrupado_96['depto_destino'].astype(str).str.zfill(2)).astype(int))\n",
    "\n",
    "df_96_dist = df_agrupado_96.merge(md.loc[:,['cod','distancia','categoria_dist']])\n",
    "\n",
    "df_96_dist.head(2)"
   ]
  },
  {
   "cell_type": "markdown",
   "id": "4472f448",
   "metadata": {},
   "source": [
    "### Pre-proceso censo 2011"
   ]
  },
  {
   "cell_type": "code",
   "execution_count": 50,
   "id": "9212e042",
   "metadata": {},
   "outputs": [
    {
     "name": "stdout",
     "output_type": "stream",
     "text": [
      "(148759, 3)\n"
     ]
    },
    {
     "data": {
      "text/html": [
       "<div>\n",
       "<style scoped>\n",
       "    .dataframe tbody tr th:only-of-type {\n",
       "        vertical-align: middle;\n",
       "    }\n",
       "\n",
       "    .dataframe tbody tr th {\n",
       "        vertical-align: top;\n",
       "    }\n",
       "\n",
       "    .dataframe thead th {\n",
       "        text-align: right;\n",
       "    }\n",
       "</style>\n",
       "<table border=\"1\" class=\"dataframe\">\n",
       "  <thead>\n",
       "    <tr style=\"text-align: right;\">\n",
       "      <th></th>\n",
       "      <th>cod</th>\n",
       "      <th>depto_origen</th>\n",
       "      <th>depto_destino</th>\n",
       "      <th>personas_mig</th>\n",
       "      <th>distancia</th>\n",
       "      <th>categoria_dist</th>\n",
       "    </tr>\n",
       "  </thead>\n",
       "  <tbody>\n",
       "    <tr>\n",
       "      <th>0</th>\n",
       "      <td>102</td>\n",
       "      <td>1</td>\n",
       "      <td>2</td>\n",
       "      <td>914</td>\n",
       "      <td>610726</td>\n",
       "      <td>6</td>\n",
       "    </tr>\n",
       "    <tr>\n",
       "      <th>1</th>\n",
       "      <td>103</td>\n",
       "      <td>1</td>\n",
       "      <td>3</td>\n",
       "      <td>33127</td>\n",
       "      <td>22544</td>\n",
       "      <td>1</td>\n",
       "    </tr>\n",
       "  </tbody>\n",
       "</table>\n",
       "</div>"
      ],
      "text/plain": [
       "   cod  depto_origen  depto_destino  personas_mig  distancia  categoria_dist\n",
       "0  102             1              2           914     610726               6\n",
       "1  103             1              3         33127      22544               1"
      ]
     },
     "execution_count": 50,
     "metadata": {},
     "output_type": "execute_result"
    }
   ],
   "source": [
    "# censo 2011\n",
    "flujos_deptos = p_migr[['depto_origen', 'depto_destino']]\n",
    "\n",
    "flujos_deptos = flujos_deptos[flujos_deptos.depto_origen != flujos_deptos.depto_destino]\n",
    "\n",
    "flujos_deptos['personas_mig'] = 1\n",
    "\n",
    "print(flujos_deptos.shape)\n",
    "\n",
    "df_agrupado_11 = flujos_deptos.groupby(by=['depto_origen', 'depto_destino']).sum().reset_index()\n",
    "\n",
    "# agrega codigo único\n",
    "df_agrupado_11.insert(0, 'cod', (df_agrupado_11['depto_origen'].astype(str)\n",
    "                      + df_agrupado_11['depto_destino'].astype(str).str.zfill(2)).astype(int))\n",
    "\n",
    "df_11_dist = df_agrupado_11.merge(md.loc[:,['cod','distancia', 'categoria_dist']])\n",
    "\n",
    "df_11_dist.head(2)"
   ]
  },
  {
   "cell_type": "markdown",
   "id": "92f89341",
   "metadata": {},
   "source": [
    "#### Gráficas"
   ]
  },
  {
   "cell_type": "code",
   "execution_count": 10,
   "id": "47c8074b",
   "metadata": {},
   "outputs": [],
   "source": [
    "# Gráfico de flujos contra distancia\n",
    "def plot_mig_distance(df, max_x, interval_x):\n",
    "    f, ax = plt.subplots(1, figsize=(8,4))\n",
    "\n",
    "    # plot de los puntos\n",
    "    ax.scatter(df['distancia']/1000, df['personas_mig'], marker='.', color='k')\n",
    "\n",
    "    # linea roja\n",
    "    ax.plot([0, max_x], [0,0],  color='r')\n",
    "    ax.plot([0, 0], [0, max(df['personas_mig'])+1],  color='r')\n",
    "    \n",
    "    # hide spines\n",
    "    [ax.spines[i].set_visible(False) for i in ['right', 'top', 'left', 'bottom']]\n",
    "\n",
    "    # Etiquetas\n",
    "    ax.set_ylabel(\"Total de flujos\")\n",
    "    ax.set_xlabel(\"Distancia (km)\")\n",
    "\n",
    "    plt.show()"
   ]
  },
  {
   "cell_type": "markdown",
   "id": "f49d2110",
   "metadata": {},
   "source": [
    "Flujos vs. distancia con Mvdeo. 1996"
   ]
  },
  {
   "cell_type": "code",
   "execution_count": 11,
   "id": "66c90397",
   "metadata": {},
   "outputs": [
    {
     "data": {
      "image/png": "[encoded data removed]",
      "text/plain": [
       "<Figure size 576x288 with 1 Axes>"
      ]
     },
     "metadata": {
      "needs_background": "light"
     },
     "output_type": "display_data"
    }
   ],
   "source": [
    "plot_mig_distance(df_96_dist, 700, 100)"
   ]
  },
  {
   "cell_type": "markdown",
   "id": "9e6a84b2",
   "metadata": {},
   "source": [
    "Flujos vs. distancia sin Mvdeo. 1996"
   ]
  },
  {
   "cell_type": "code",
   "execution_count": 12,
   "id": "cf51d396",
   "metadata": {},
   "outputs": [
    {
     "data": {
      "image/png": "[encoded data removed]",
      "text/plain": [
       "<Figure size 576x288 with 1 Axes>"
      ]
     },
     "metadata": {
      "needs_background": "light"
     },
     "output_type": "display_data"
    }
   ],
   "source": [
    "df_96_dist_no_mvo = df_96_dist.loc[(df_96_dist.depto_origen!=1) & (df_96_dist.depto_destino!=1)]\n",
    "plot_mig_distance(df_96_dist_no_mvo, 700, 100)"
   ]
  },
  {
   "cell_type": "markdown",
   "id": "5992fbf8",
   "metadata": {},
   "source": [
    "Flujos vs. distancia con Mvdeo. 2011"
   ]
  },
  {
   "cell_type": "code",
   "execution_count": 13,
   "id": "2a2f06e9",
   "metadata": {},
   "outputs": [
    {
     "data": {
      "image/png": "[encoded data removed]",
      "text/plain": [
       "<Figure size 576x288 with 1 Axes>"
      ]
     },
     "metadata": {
      "needs_background": "light"
     },
     "output_type": "display_data"
    }
   ],
   "source": [
    "plot_mig_distance(df_11_dist, 700, 100)"
   ]
  },
  {
   "cell_type": "markdown",
   "id": "3d6c2396",
   "metadata": {},
   "source": [
    "Flujos vs. distancia sin Mvdeo. 2011"
   ]
  },
  {
   "cell_type": "code",
   "execution_count": 14,
   "id": "f830ef94",
   "metadata": {},
   "outputs": [
    {
     "data": {
      "image/png": "[encoded data removed]",
      "text/plain": [
       "<Figure size 576x288 with 1 Axes>"
      ]
     },
     "metadata": {
      "needs_background": "light"
     },
     "output_type": "display_data"
    }
   ],
   "source": [
    "df_11_dist_no_mvo = df_11_dist.loc[(df_11_dist.depto_origen!=1) & (df_11_dist.depto_destino!=1)]\n",
    "plot_mig_distance(df_11_dist_no_mvo, 700, 100)"
   ]
  },
  {
   "cell_type": "code",
   "execution_count": 15,
   "id": "c19bade9",
   "metadata": {},
   "outputs": [
    {
     "name": "stdout",
     "output_type": "stream",
     "text": [
      "Censo 1996:  2336582\n",
      "Censo 2011:  3145201\n"
     ]
    }
   ],
   "source": [
    "# sumatoria de distancias ponderadas\n",
    "print('Censo 1996: ', round(sum(df_96_dist.distancia/df_96_dist.personas_mig)))\n",
    "print('Censo 2011: ', round(sum(df_11_dist.distancia/df_11_dist.personas_mig)))"
   ]
  },
  {
   "cell_type": "code",
   "execution_count": 16,
   "id": "a2f7f51e",
   "metadata": {},
   "outputs": [
    {
     "name": "stdout",
     "output_type": "stream",
     "text": [
      "Censo 1996:  2331553\n",
      "Censo 2011:  3138065\n"
     ]
    }
   ],
   "source": [
    "# sumatoria de distancias ponderadas sin Mvdeo.\n",
    "print('Censo 1996: ', round(sum(df_96_dist_no_mvo.distancia/df_96_dist_no_mvo.personas_mig)))\n",
    "print('Censo 2011: ', round(sum(df_11_dist_no_mvo.distancia/df_11_dist_no_mvo.personas_mig)))"
   ]
  },
  {
   "cell_type": "markdown",
   "id": "22683c0f",
   "metadata": {},
   "source": [
    "#### Distancia mediana"
   ]
  },
  {
   "cell_type": "code",
   "execution_count": 17,
   "id": "11f292c0",
   "metadata": {},
   "outputs": [
    {
     "data": {
      "text/plain": [
       "23076.035499999998"
      ]
     },
     "execution_count": 17,
     "metadata": {},
     "output_type": "execute_result"
    }
   ],
   "source": [
    "np.median((df_96_dist_no_mvo['personas_mig'] * df_96_dist_no_mvo['distancia']/1000).values)"
   ]
  },
  {
   "cell_type": "code",
   "execution_count": 18,
   "id": "99ac6dd4",
   "metadata": {},
   "outputs": [
    {
     "data": {
      "text/plain": [
       "19670.040999999997"
      ]
     },
     "execution_count": 18,
     "metadata": {},
     "output_type": "execute_result"
    }
   ],
   "source": [
    "np.median((df_11_dist_no_mvo['personas_mig'] * df_11_dist_no_mvo['distancia']/1000).values)"
   ]
  },
  {
   "cell_type": "code",
   "execution_count": 19,
   "id": "df9da2b5",
   "metadata": {},
   "outputs": [
    {
     "data": {
      "image/png": "[encoded data removed]",
      "text/plain": [
       "<Figure size 576x288 with 1 Axes>"
      ]
     },
     "metadata": {
      "needs_background": "light"
     },
     "output_type": "display_data"
    }
   ],
   "source": [
    "f, ax = plt.subplots(1, figsize=(8,4))\n",
    "\n",
    "x96 = df_96_dist_no_mvo['distancia'].values/1000\n",
    "y96 = df_96_dist_no_mvo['personas_mig'].values\n",
    "\n",
    "x11 = df_11_dist_no_mvo['distancia'].values/1000\n",
    "y11 = df_11_dist_no_mvo['personas_mig'].values\n",
    "\n",
    "# linea roja\n",
    "xvals = np.geomspace(0.025, 700, 100)\n",
    "yvals = np.power(xvals, -2)\n",
    "ax.plot(xvals, yvals, color='silver', label='_nolegend_')\n",
    "\n",
    "def linear_reg_plot(x, y, label):\n",
    "    slope, intercept = np.polyfit(x, y, 1)\n",
    "    return plt.plot(x, slope*x + intercept, label=label)\n",
    "\n",
    "linear_reg_plot(x96, y96, '1996')\n",
    "linear_reg_plot(x11, y11, '2011')\n",
    "\n",
    "# hide spines\n",
    "[ax.spines[i].set_visible(False) for i in ['right', 'top', 'left', 'bottom']]\n",
    "\n",
    "plt.legend()\n",
    "\n",
    "# Etiquetas\n",
    "ax.set_ylabel(\"Total de flujos\")\n",
    "ax.set_xlabel(\"Distancia (km)\")\n",
    "\n",
    "plt.show()"
   ]
  },
  {
   "cell_type": "code",
   "execution_count": 20,
   "id": "c80cd61b",
   "metadata": {},
   "outputs": [],
   "source": [
    "def calc_cats(df):\n",
    "    cat = df.groupby('categoria_dist').sum()['personas_mig'].to_frame().reset_index()\n",
    "    cat['porc'] = (cat.personas_mig / cat.personas_mig.sum())*100\n",
    "    return cat"
   ]
  },
  {
   "cell_type": "code",
   "execution_count": 21,
   "id": "c66462c1",
   "metadata": {},
   "outputs": [],
   "source": [
    "porc96 = calc_cats(df_96_dist)\n",
    "porc11 = calc_cats(df_11_dist)"
   ]
  },
  {
   "cell_type": "code",
   "execution_count": 22,
   "id": "d9e9d61e",
   "metadata": {},
   "outputs": [
    {
     "data": {
      "image/png": "[encoded data removed]",
      "text/plain": [
       "<Figure size 432x288 with 1 Axes>"
      ]
     },
     "metadata": {
      "needs_background": "dark"
     },
     "output_type": "display_data"
    }
   ],
   "source": [
    "p96 = porc96.personas_mig.values\n",
    "p11 = porc11.personas_mig.values\n",
    "    \n",
    "labels = ['< 100 km', '100-200', '201-300', '301-400', '401-500', '>500']\n",
    "x = np.arange(len(labels))  # the label locations\n",
    "    \n",
    "width = 0.40  # the width of the bars\n",
    "_labels = ['Flujos Censo 1996', 'Flujos Censo 2011']\n",
    "color_spines = 'grey'\n",
    "\n",
    "fig, ax = plt.subplots()\n",
    "rects1 = ax.bar(x - width/2, p96, width, label='Flujos Censo 1996', color=rosado)\n",
    "rects2 = ax.bar(x + width/2, p11, width, label='Flujos Censo 2011', color=oscuro)\n",
    "\n",
    "[ax.spines[x].set_visible(False) for x in [\"top\", \"right\"]]\n",
    "[ax.spines[x].set_color(color_spines) for x in [\"bottom\", \"left\"]]\n",
    "\n",
    "format_spines(color_spines, ax)\n",
    "\n",
    "plt.xticks(x, labels=labels, **font, color=color_spines)\n",
    "plt.yticks(**font, color=color_spines)\n",
    "plt.tick_params(axis='y',color=color_spines)\n",
    "plt.tick_params(axis='x', bottom=False, labelbottom=True, color=color_spines) \n",
    "\n",
    "format_legend(0.9, 0.9, _labels)\n",
    "\n",
    "plt.show()\n",
    "\n",
    "fig.savefig('mapas_graficas/' + 'flujos_censo96vs2011_absolutos.pdf',\n",
    "             bbox_inches= 'tight',\n",
    "             metadata= metadatos_figs)"
   ]
  },
  {
   "cell_type": "code",
   "execution_count": 23,
   "id": "d5faf58d",
   "metadata": {},
   "outputs": [
    {
     "data": {
      "image/png": "[encoded data removed]",
      "text/plain": [
       "<Figure size 432x288 with 1 Axes>"
      ]
     },
     "metadata": {
      "needs_background": "dark"
     },
     "output_type": "display_data"
    }
   ],
   "source": [
    "p96 = porc96.porc.values\n",
    "p11 = porc11.porc.values\n",
    "    \n",
    "labels = ['< 100 km', '100-200', '201-300', '301-400', '401-500', '>500']\n",
    "x = np.arange(len(labels))  # the label locations\n",
    "    \n",
    "width = 0.40  # the width of the bars\n",
    "_labels = ['Flujos Censo 1996', 'Flujos Censo 2011']\n",
    "color_spines = 'grey'\n",
    "\n",
    "fig, ax = plt.subplots()\n",
    "rects1 = ax.bar(x - width/2, p96, width, label='Flujos Censo 1996', color=rosado)\n",
    "rects2 = ax.bar(x + width/2, p11, width, label='Flujos Censo 2011', color=oscuro)\n",
    "\n",
    "[ax.spines[x].set_visible(False) for x in [\"top\", \"right\"]]\n",
    "[ax.spines[x].set_color(color_spines) for x in [\"bottom\", \"left\"]]\n",
    "\n",
    "format_spines(color_spines, ax)\n",
    "\n",
    "plt.xticks(x, labels=labels, **font, color=color_spines)\n",
    "plt.yticks(**font, color=color_spines)\n",
    "plt.tick_params(axis='y',color=color_spines)\n",
    "plt.tick_params(axis='x', bottom=False, labelbottom=True, color=color_spines) \n",
    "\n",
    "format_legend(0.9, 0.9, _labels)\n",
    "\n",
    "plt.show()\n",
    "\n",
    "fig.savefig('mapas_graficas/' + 'flujos_censo96vs2011_porcentajes.pdf',\n",
    "             bbox_inches= 'tight',\n",
    "             metadata= metadatos_figs)"
   ]
  },
  {
   "cell_type": "code",
   "execution_count": 24,
   "id": "aea35968",
   "metadata": {},
   "outputs": [],
   "source": [
    "def func(x, a, b) :\n",
    "    return a * np.power(x, b)\n",
    "\n",
    "def fit_plot(x, y, curve_color, point_color, name):\n",
    "    fig, ax = plt.subplots()\n",
    "    popt, pcov = curve_fit(func, x, y, maxfev=5000)  \n",
    "    plt.plot(np.sort(x), func(np.sort(x), *popt), '-', color=curve_color, linewidth=2)\n",
    "    plt.plot(x, y, '.', color=point_color, markersize=4)\n",
    "    format_spines(color_spines, ax)\n",
    "    plt.xticks(**font, color=color_spines)\n",
    "    plt.yticks(**font, color=color_spines)\n",
    "    plt.tick_params(axis='y',color=color_spines)\n",
    "    plt.tick_params(axis='x', bottom=False, labelbottom=True, color=color_spines)\n",
    "    [ax.spines[x].set_visible(False) for x in [\"top\", \"right\"]]\n",
    "    [ax.spines[x].set_color(color_spines) for x in [\"bottom\", \"left\"]]\n",
    "\n",
    "    plt.savefig('mapas_graficas/' + name,\n",
    "             bbox_inches= 'tight',\n",
    "             metadata= metadatos_figs)\n",
    "    \n",
    "    return plt.show()"
   ]
  },
  {
   "cell_type": "code",
   "execution_count": 25,
   "id": "e6525689",
   "metadata": {},
   "outputs": [
    {
     "data": {
      "image/png": "[encoded data removed]",
      "text/plain": [
       "<Figure size 432x288 with 1 Axes>"
      ]
     },
     "metadata": {
      "needs_background": "dark"
     },
     "output_type": "display_data"
    }
   ],
   "source": [
    "fit_plot(x96, y96, oscuro, rosado, 'curva_scatter_1996.pdf')"
   ]
  },
  {
   "cell_type": "code",
   "execution_count": 26,
   "id": "dd7ccd25",
   "metadata": {},
   "outputs": [
    {
     "data": {
      "image/png": "[encoded data removed]",
      "text/plain": [
       "<Figure size 432x288 with 1 Axes>"
      ]
     },
     "metadata": {
      "needs_background": "dark"
     },
     "output_type": "display_data"
    }
   ],
   "source": [
    "fit_plot(x96, y96, oscuro, rosado, 'curva_scatter_2011.pdf')"
   ]
  },
  {
   "cell_type": "code",
   "execution_count": 27,
   "id": "a2f0735a",
   "metadata": {},
   "outputs": [],
   "source": [
    "def fitted_curves_plot(x1, y1, x2, y2):\n",
    "    popt1, pcov1 = curve_fit(func, x1, y1, maxfev=5000)  \n",
    "    plt.plot(np.sort(x1), func(np.sort(x1), *popt1), '-')\n",
    "    \n",
    "    popt2, pcov2 = curve_fit(func, x2, y2, maxfev=5000)  \n",
    "    plt.plot(np.sort(x2), func(np.sort(x2), *popt2), '-')\n",
    "    \n",
    "    return plt.show()"
   ]
  },
  {
   "cell_type": "code",
   "execution_count": 28,
   "id": "fbba84c8",
   "metadata": {},
   "outputs": [],
   "source": [
    "def fitted_curves_plot(x1, y1, x2, y2, curve_colors, name):\n",
    "    fig, ax = plt.subplots()\n",
    "    \n",
    "    popt1, pcov1 = curve_fit(func, x1, y1, maxfev=5000)  \n",
    "    plt.plot(np.sort(x1), func(np.sort(x1), *popt1), '-', color=curve_colors[0], linewidth=2)\n",
    "    \n",
    "    popt2, pcov2 = curve_fit(func, x2, y2, maxfev=5000)  \n",
    "    plt.plot(np.sort(x2), func(np.sort(x2), *popt2), '-', color=curve_colors[1], linewidth=2)\n",
    "    \n",
    "    format_spines(color_spines, ax)\n",
    "    \n",
    "    plt.xticks(**font, color=color_spines)\n",
    "    plt.yticks(**font, color=color_spines)\n",
    "    plt.tick_params(axis='y',color=color_spines)\n",
    "    plt.tick_params(axis='x', bottom=False, labelbottom=True, color=color_spines)\n",
    "    [ax.spines[x].set_visible(False) for x in [\"top\", \"right\"]]\n",
    "    [ax.spines[x].set_color(color_spines) for x in [\"bottom\", \"left\"]]\n",
    "\n",
    "    plt.savefig('mapas_graficas/' + name,\n",
    "             bbox_inches= 'tight',\n",
    "             metadata= metadatos_figs)\n",
    "    \n",
    "    return plt.show()"
   ]
  },
  {
   "cell_type": "code",
   "execution_count": 29,
   "id": "56778d0e",
   "metadata": {},
   "outputs": [
    {
     "data": {
      "image/png": "[encoded data removed]",
      "text/plain": [
       "<Figure size 432x288 with 1 Axes>"
      ]
     },
     "metadata": {
      "needs_background": "dark"
     },
     "output_type": "display_data"
    }
   ],
   "source": [
    "fitted_curves_plot(x96, y96, x11, y11, [fucsia, violeta], 'comp_curvas.pdf')"
   ]
  },
  {
   "cell_type": "markdown",
   "id": "dcaca56d",
   "metadata": {},
   "source": [
    "### Distancias contra edades y sexos"
   ]
  },
  {
   "cell_type": "code",
   "execution_count": 38,
   "id": "8b42de05",
   "metadata": {},
   "outputs": [],
   "source": [
    "dist_loc_96 = flujos_deptos96.merge(md_loc, how='left', on='cod', indicator=True)"
   ]
  },
  {
   "cell_type": "code",
   "execution_count": 40,
   "id": "2d41efc2",
   "metadata": {},
   "outputs": [
    {
     "data": {
      "text/plain": [
       "_merge\n",
       "left_only      46207\n",
       "right_only         0\n",
       "both          147360\n",
       "dtype: int64"
      ]
     },
     "execution_count": 40,
     "metadata": {},
     "output_type": "execute_result"
    }
   ],
   "source": [
    "dist_loc_96.groupby('_merge').size()"
   ]
  },
  {
   "cell_type": "code",
   "execution_count": 44,
   "id": "30369747",
   "metadata": {},
   "outputs": [
    {
     "data": {
      "text/plain": [
       "55          39001020\n",
       "59         119991020\n",
       "60         119991020\n",
       "97         149991020\n",
       "100        189991020\n",
       "             ...    \n",
       "193529    1490019522\n",
       "193530    1490019522\n",
       "193531    1490019522\n",
       "193538    1490019522\n",
       "193539    1490019522\n",
       "Name: cod, Length: 46207, dtype: int64"
      ]
     },
     "execution_count": 44,
     "metadata": {},
     "output_type": "execute_result"
    }
   ],
   "source": [
    "dist_loc_96.loc[dist_loc_96._merge=='left_only', 'cod']"
   ]
  },
  {
   "cell_type": "code",
   "execution_count": null,
   "id": "65c3e76a",
   "metadata": {},
   "outputs": [],
   "source": []
  }
 ],
 "metadata": {
  "kernelspec": {
   "display_name": "Python 3",
   "language": "python",
   "name": "python3"
  },
  "language_info": {
   "codemirror_mode": {
    "name": "ipython",
    "version": 3
   },
   "file_extension": ".py",
   "mimetype": "text/x-python",
   "name": "python",
   "nbconvert_exporter": "python",
   "pygments_lexer": "ipython3",
   "version": "3.9.2"
  }
 },
 "nbformat": 4,
 "nbformat_minor": 5
}
