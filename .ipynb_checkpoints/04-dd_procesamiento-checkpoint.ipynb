{
 "metadata": {
  "language_info": {
   "codemirror_mode": {
    "name": "ipython",
    "version": 3
   },
   "file_extension": ".py",
   "mimetype": "text/x-python",
   "name": "python",
   "nbconvert_exporter": "python",
   "pygments_lexer": "ipython3",
   "version": "3.9.2"
  },
  "orig_nbformat": 2,
  "kernelspec": {
   "name": "python392jvsc74a57bd05ce838cc175eb9c7ee2cce823ae805de6106cb4564d9fc7b3476b35fac8c9293",
   "display_name": "Python 3.9.2 64-bit ('tesis': conda)"
  },
  "metadata": {
   "interpreter": {
    "hash": "5ce838cc175eb9c7ee2cce823ae805de6106cb4564d9fc7b3476b35fac8c9293"
   }
  }
 },
 "nbformat": 4,
 "nbformat_minor": 2,
 "cells": [
  {
   "cell_type": "code",
   "execution_count": 1,
   "metadata": {},
   "outputs": [],
   "source": [
    "import pandas as pd\n",
    "import geopandas as gpd\n",
    "import os\n",
    "import numpy as np\n",
    "from operator import add\n",
    "\n",
    "from shapely import wkt\n",
    "from shapely.geometry import shape, LineString, Point\n",
    "    \n",
    "# funciones desarrolladas\n",
    "from functions.agrupar_dfs_censo import *\n",
    "from functions.cargar_data import *\n",
    "from functions.impresion import *"
   ]
  },
  {
   "cell_type": "code",
   "execution_count": 2,
   "metadata": {},
   "outputs": [
    {
     "output_type": "stream",
     "name": "stderr",
     "text": [
      "/home/guillermo/anaconda3/envs/tesis/lib/python3.9/site-packages/geopandas/geodataframe.py:577: RuntimeWarning: Sequential read of iterator was interrupted. Resetting iterator. This can negatively impact the performance.\n  for feature in features_lst:\n"
     ]
    }
   ],
   "source": [
    "# carga datos diádicos\n",
    "pbi = cargar_pbi()\n",
    "md = cargar_matriz_distancias()\n",
    "vecindad = cargar_vecindad()\n",
    "dist_loc = pd.read_csv('tablas/df_distancias_localidades.csv', usecols=['cod','distancia_m'])\n",
    "\n",
    "# carga capas de fatos geográficos\n",
    "deptos, deptos_sim, localidad, centro_pobl, capital = cargar_datos_geo()\n",
    "\n",
    "# carga migrantes internos\n",
    "p_migr = cargar_migrantes_internos()\n",
    "\n",
    "# carga poblacion por depto\n",
    "pobl = recuperar_poblacion_2011()\n",
    "\n",
    "# carga cantidad de empresas industriales por depto (OTU, OPP, 2013)\n",
    "# Fuente: Núcleo Interdisciplinario de Estudios de Desarrollo Territorial (NIEDT)\n",
    "# en base a INE (Directorio de Empresas y Establecimientos) y relevamiento propio\n",
    "# Base: Total de empresas industriales de más de 5 empleados\n",
    "empresas = pd.read_csv('tablas/empresas_por_depto.csv', sep=';')"
   ]
  },
  {
   "cell_type": "code",
   "execution_count": 3,
   "metadata": {},
   "outputs": [
    {
     "output_type": "execute_result",
     "data": {
      "text/plain": [
       "   depto_origen  depto_destino  LOC  SECC  SEGM  VIVID  TIPO_VIVIE  \\\n",
       "0             3              1   20     1     1      5           1   \n",
       "1            17              1   20     1     1     30           1   \n",
       "2            18              1   20     1     1     36           1   \n",
       "3             2              1   20     1     1     46           1   \n",
       "4            12              1   20     1     1     93           1   \n",
       "\n",
       "            HOGCOD  HOGID  PERPH02  ...  PERED04_R  PERED05_R  PERED06_R  \\\n",
       "0  102001001000501      1        1  ...          2          3          4   \n",
       "1  102001001003001      1        2  ...          0          2          4   \n",
       "2  102001001003601      1        1  ...          2          2          0   \n",
       "3  102001001004601      1        1  ...          2          1          0   \n",
       "4  102001001009301      1        2  ...          2          1          0   \n",
       "\n",
       "  CODIGO_CAR  PERED08  NIVELEDU_R  loc_origen  loc_destino        cod  \\\n",
       "0      55131        1           9        3732         1020   37321020   \n",
       "1      55152        1           9       17220         1020  172201020   \n",
       "2      33101        1           5       18220         1020  182201020   \n",
       "3      33101        1           5        2220         1020   22201020   \n",
       "4      22101        1           4       12320         1020  123201020   \n",
       "\n",
       "   distancia_m  \n",
       "0      25034.0  \n",
       "1     265706.0  \n",
       "2     379469.0  \n",
       "3     583715.0  \n",
       "4     297600.0  \n",
       "\n",
       "[5 rows x 53 columns]"
      ],
      "text/html": "<div>\n<style scoped>\n    .dataframe tbody tr th:only-of-type {\n        vertical-align: middle;\n    }\n\n    .dataframe tbody tr th {\n        vertical-align: top;\n    }\n\n    .dataframe thead th {\n        text-align: right;\n    }\n</style>\n<table border=\"1\" class=\"dataframe\">\n  <thead>\n    <tr style=\"text-align: right;\">\n      <th></th>\n      <th>depto_origen</th>\n      <th>depto_destino</th>\n      <th>LOC</th>\n      <th>SECC</th>\n      <th>SEGM</th>\n      <th>VIVID</th>\n      <th>TIPO_VIVIE</th>\n      <th>HOGCOD</th>\n      <th>HOGID</th>\n      <th>PERPH02</th>\n      <th>...</th>\n      <th>PERED04_R</th>\n      <th>PERED05_R</th>\n      <th>PERED06_R</th>\n      <th>CODIGO_CAR</th>\n      <th>PERED08</th>\n      <th>NIVELEDU_R</th>\n      <th>loc_origen</th>\n      <th>loc_destino</th>\n      <th>cod</th>\n      <th>distancia_m</th>\n    </tr>\n  </thead>\n  <tbody>\n    <tr>\n      <th>0</th>\n      <td>3</td>\n      <td>1</td>\n      <td>20</td>\n      <td>1</td>\n      <td>1</td>\n      <td>5</td>\n      <td>1</td>\n      <td>102001001000501</td>\n      <td>1</td>\n      <td>1</td>\n      <td>...</td>\n      <td>2</td>\n      <td>3</td>\n      <td>4</td>\n      <td>55131</td>\n      <td>1</td>\n      <td>9</td>\n      <td>3732</td>\n      <td>1020</td>\n      <td>37321020</td>\n      <td>25034.0</td>\n    </tr>\n    <tr>\n      <th>1</th>\n      <td>17</td>\n      <td>1</td>\n      <td>20</td>\n      <td>1</td>\n      <td>1</td>\n      <td>30</td>\n      <td>1</td>\n      <td>102001001003001</td>\n      <td>1</td>\n      <td>2</td>\n      <td>...</td>\n      <td>0</td>\n      <td>2</td>\n      <td>4</td>\n      <td>55152</td>\n      <td>1</td>\n      <td>9</td>\n      <td>17220</td>\n      <td>1020</td>\n      <td>172201020</td>\n      <td>265706.0</td>\n    </tr>\n    <tr>\n      <th>2</th>\n      <td>18</td>\n      <td>1</td>\n      <td>20</td>\n      <td>1</td>\n      <td>1</td>\n      <td>36</td>\n      <td>1</td>\n      <td>102001001003601</td>\n      <td>1</td>\n      <td>1</td>\n      <td>...</td>\n      <td>2</td>\n      <td>2</td>\n      <td>0</td>\n      <td>33101</td>\n      <td>1</td>\n      <td>5</td>\n      <td>18220</td>\n      <td>1020</td>\n      <td>182201020</td>\n      <td>379469.0</td>\n    </tr>\n    <tr>\n      <th>3</th>\n      <td>2</td>\n      <td>1</td>\n      <td>20</td>\n      <td>1</td>\n      <td>1</td>\n      <td>46</td>\n      <td>1</td>\n      <td>102001001004601</td>\n      <td>1</td>\n      <td>1</td>\n      <td>...</td>\n      <td>2</td>\n      <td>1</td>\n      <td>0</td>\n      <td>33101</td>\n      <td>1</td>\n      <td>5</td>\n      <td>2220</td>\n      <td>1020</td>\n      <td>22201020</td>\n      <td>583715.0</td>\n    </tr>\n    <tr>\n      <th>4</th>\n      <td>12</td>\n      <td>1</td>\n      <td>20</td>\n      <td>1</td>\n      <td>1</td>\n      <td>93</td>\n      <td>1</td>\n      <td>102001001009301</td>\n      <td>1</td>\n      <td>2</td>\n      <td>...</td>\n      <td>2</td>\n      <td>1</td>\n      <td>0</td>\n      <td>22101</td>\n      <td>1</td>\n      <td>4</td>\n      <td>12320</td>\n      <td>1020</td>\n      <td>123201020</td>\n      <td>297600.0</td>\n    </tr>\n  </tbody>\n</table>\n<p>5 rows × 53 columns</p>\n</div>"
     },
     "metadata": {},
     "execution_count": 3
    }
   ],
   "source": [
    "# genera código de díada\n",
    "p_migr['cod'] = (p_migr['loc_origen'].astype(str) + p_migr['loc_destino'].astype(str)).astype(int)\n",
    "\n",
    "# pega distancias entre localidades\n",
    "p_migr = p_migr.merge(dist_loc, how='left', on='cod')\n",
    "p_migr.head()"
   ]
  },
  {
   "cell_type": "code",
   "execution_count": 4,
   "metadata": {},
   "outputs": [
    {
     "output_type": "execute_result",
     "data": {
      "text/plain": [
       "85762.0"
      ]
     },
     "metadata": {},
     "execution_count": 4
    }
   ],
   "source": [
    "p_migr.loc[(p_migr.depto_origen==1) & (p_migr.depto_destino==3), 'distancia_m'].max()"
   ]
  },
  {
   "cell_type": "code",
   "execution_count": 5,
   "metadata": {},
   "outputs": [
    {
     "output_type": "execute_result",
     "data": {
      "text/plain": [
       "85762.0"
      ]
     },
     "metadata": {},
     "execution_count": 5
    }
   ],
   "source": [
    "p_migr.loc[(p_migr.depto_origen==3) & (p_migr.depto_destino==1), 'distancia_m'].max()"
   ]
  },
  {
   "cell_type": "code",
   "execution_count": 6,
   "metadata": {},
   "outputs": [
    {
     "output_type": "stream",
     "name": "stdout",
     "text": [
      "Cantidad de díadas  342\n"
     ]
    },
    {
     "output_type": "execute_result",
     "data": {
      "text/plain": [
       "                            personas_mig\n",
       "depto_origen depto_destino              \n",
       "1            2                       914\n",
       "             3                     33127\n",
       "             4                      1387"
      ],
      "text/html": "<div>\n<style scoped>\n    .dataframe tbody tr th:only-of-type {\n        vertical-align: middle;\n    }\n\n    .dataframe tbody tr th {\n        vertical-align: top;\n    }\n\n    .dataframe thead th {\n        text-align: right;\n    }\n</style>\n<table border=\"1\" class=\"dataframe\">\n  <thead>\n    <tr style=\"text-align: right;\">\n      <th></th>\n      <th></th>\n      <th>personas_mig</th>\n    </tr>\n    <tr>\n      <th>depto_origen</th>\n      <th>depto_destino</th>\n      <th></th>\n    </tr>\n  </thead>\n  <tbody>\n    <tr>\n      <th rowspan=\"3\" valign=\"top\">1</th>\n      <th>2</th>\n      <td>914</td>\n    </tr>\n    <tr>\n      <th>3</th>\n      <td>33127</td>\n    </tr>\n    <tr>\n      <th>4</th>\n      <td>1387</td>\n    </tr>\n  </tbody>\n</table>\n</div>"
     },
     "metadata": {},
     "execution_count": 6
    }
   ],
   "source": [
    "# genera un sólo dataframe solo para deptos\n",
    "flujos_deptos = p_migr[['depto_origen', 'depto_destino']]\n",
    "\n",
    "flujos_deptos = flujos_deptos[flujos_deptos.depto_origen != flujos_deptos.depto_destino]\n",
    "\n",
    "flujos_deptos['personas_mig'] = 1\n",
    "\n",
    "# agrupa y cuenta\n",
    "grupo = flujos_deptos.groupby(by=['depto_origen', 'depto_destino']).sum()\n",
    "\n",
    "print('Cantidad de díadas ', grupo.shape[0])\n",
    "\n",
    "grupo.head(3)"
   ]
  },
  {
   "cell_type": "code",
   "execution_count": 7,
   "metadata": {},
   "outputs": [
    {
     "output_type": "stream",
     "name": "stdout",
     "text": [
      "Cantidad de díadas  340\n"
     ]
    },
    {
     "output_type": "execute_result",
     "data": {
      "text/plain": [
       "                            distancia_m  personas_mig\n",
       "depto_origen depto_destino                           \n",
       "1            2              524698229.0           891\n",
       "             4              519691641.0          1349\n",
       "             5              342413595.0          1991"
      ],
      "text/html": "<div>\n<style scoped>\n    .dataframe tbody tr th:only-of-type {\n        vertical-align: middle;\n    }\n\n    .dataframe tbody tr th {\n        vertical-align: top;\n    }\n\n    .dataframe thead th {\n        text-align: right;\n    }\n</style>\n<table border=\"1\" class=\"dataframe\">\n  <thead>\n    <tr style=\"text-align: right;\">\n      <th></th>\n      <th></th>\n      <th>distancia_m</th>\n      <th>personas_mig</th>\n    </tr>\n    <tr>\n      <th>depto_origen</th>\n      <th>depto_destino</th>\n      <th></th>\n      <th></th>\n    </tr>\n  </thead>\n  <tbody>\n    <tr>\n      <th rowspan=\"3\" valign=\"top\">1</th>\n      <th>2</th>\n      <td>524698229.0</td>\n      <td>891</td>\n    </tr>\n    <tr>\n      <th>4</th>\n      <td>519691641.0</td>\n      <td>1349</td>\n    </tr>\n    <tr>\n      <th>5</th>\n      <td>342413595.0</td>\n      <td>1991</td>\n    </tr>\n  </tbody>\n</table>\n</div>"
     },
     "metadata": {},
     "execution_count": 7
    }
   ],
   "source": [
    "# flujos en movimientos mayores a 100km\n",
    "flujos_deptos_100 = p_migr[['depto_origen', 'depto_destino', 'distancia_m']]\n",
    "\n",
    "flujos_deptos_100 = flujos_deptos_100[flujos_deptos_100.depto_origen != flujos_deptos_100.depto_destino]\n",
    "\n",
    "flujos_deptos_100['personas_mig'] = 1\n",
    "\n",
    "# agrupa y cuenta\n",
    "grupo_100 = pd.DataFrame(flujos_deptos_100.loc[flujos_deptos_100.distancia_m > 100000].groupby(by=['depto_origen', 'depto_destino']).sum())\n",
    "\n",
    "print('Cantidad de díadas ', grupo_100.shape[0])\n",
    "\n",
    "grupo_100.head(3)"
   ]
  },
  {
   "cell_type": "code",
   "execution_count": 8,
   "metadata": {},
   "outputs": [],
   "source": [
    "# genera tabla pivot con los flujos de departamento a departamento\n",
    "matrix = pd.pivot_table(flujos_deptos,\n",
    "                        index ='depto_origen',\n",
    "                        columns='depto_destino',\n",
    "                        fill_value=0,\n",
    "                        aggfunc=sum,\n",
    "                        margins=True,\n",
    "                        margins_name='Total')"
   ]
  },
  {
   "cell_type": "code",
   "execution_count": 9,
   "metadata": {},
   "outputs": [],
   "source": [
    "# # guarda en csv\n",
    "# matrix = pd.pivot_table(flujos_deptos,\n",
    "#                         index ='depto_origen',\n",
    "#                         columns='depto_destino',\n",
    "#                         fill_value=0,\n",
    "#                         aggfunc=sum,\n",
    "#                         margins=False)\n",
    "\n",
    "# matrix.to_csv('tablas/matriz_deptos.csv', header=True)\n",
    "\n",
    "# # guarda en latex\n",
    "# # lista de nombres deptos para generar tabla en latex\n",
    "# nomdep = ['Mvdeo.', 'Artigas', 'Can.', 'C. Largo', 'Colonia', 'Durazno',\n",
    "#           'Flores', 'Florida', 'Lavalleja','Maldonado', 'Paysandú', 'R. Negro', 'Rivera',\n",
    "#           'Rocha', 'Salto', 'San José', 'Soriano', 'Tacuarembó', 'T. y Tres']\n",
    "\n",
    "# coddep = np.arange(1, 20, 1).tolist()\n",
    "\n",
    "# # guarda tabla en latex\n",
    "# # cabecera = datos_dpto.sort_values('DPTO')['NOMBRE'].to_list()\n",
    "# # cabecera.append('Total')\n",
    "\n",
    "# matrix_tex = matrix\n",
    "# matrix_tex.rename(index=dict(zip(coddep, nomdep)), inplace=True)\n",
    "\n",
    "# # setea ancho de columnas\n",
    "# ancho = 'p{0.7cm}'\n",
    "# colformato='l' + ancho * 20\n",
    "\n",
    "# matrix_tex.to_latex(buf= \"tablas/matriz_orig_dest.tex\", bold_rows=False,\n",
    "#                     column_format = colformato,\n",
    "#                     caption= 'Matriz de movimientos entre departamentos (Censo INE 2011).')"
   ]
  },
  {
   "cell_type": "code",
   "execution_count": 10,
   "metadata": {},
   "outputs": [
    {
     "output_type": "execute_result",
     "data": {
      "text/plain": [
       "   cod  depto_origen  depto_destino  personas_mig\n",
       "0  102             1              2           914\n",
       "1  103             1              3         33127\n",
       "2  104             1              4          1387\n",
       "3  105             1              5          2100\n",
       "4  106             1              6           982"
      ],
      "text/html": "<div>\n<style scoped>\n    .dataframe tbody tr th:only-of-type {\n        vertical-align: middle;\n    }\n\n    .dataframe tbody tr th {\n        vertical-align: top;\n    }\n\n    .dataframe thead th {\n        text-align: right;\n    }\n</style>\n<table border=\"1\" class=\"dataframe\">\n  <thead>\n    <tr style=\"text-align: right;\">\n      <th></th>\n      <th>cod</th>\n      <th>depto_origen</th>\n      <th>depto_destino</th>\n      <th>personas_mig</th>\n    </tr>\n  </thead>\n  <tbody>\n    <tr>\n      <th>0</th>\n      <td>102</td>\n      <td>1</td>\n      <td>2</td>\n      <td>914</td>\n    </tr>\n    <tr>\n      <th>1</th>\n      <td>103</td>\n      <td>1</td>\n      <td>3</td>\n      <td>33127</td>\n    </tr>\n    <tr>\n      <th>2</th>\n      <td>104</td>\n      <td>1</td>\n      <td>4</td>\n      <td>1387</td>\n    </tr>\n    <tr>\n      <th>3</th>\n      <td>105</td>\n      <td>1</td>\n      <td>5</td>\n      <td>2100</td>\n    </tr>\n    <tr>\n      <th>4</th>\n      <td>106</td>\n      <td>1</td>\n      <td>6</td>\n      <td>982</td>\n    </tr>\n  </tbody>\n</table>\n</div>"
     },
     "metadata": {},
     "execution_count": 10
    }
   ],
   "source": [
    "# unimos todo en un dataframe de díadas\n",
    "\n",
    "# migrantes\n",
    "df_agrupado = grupo.reset_index()\n",
    "\n",
    "# agrega codigo único\n",
    "df_agrupado.insert(0, 'cod', (df_agrupado['depto_origen'].astype(str)\n",
    "                   + df_agrupado['depto_destino'].astype(str).str.zfill(2)).astype(int))\n",
    "\n",
    "df_agrupado.head()"
   ]
  },
  {
   "cell_type": "code",
   "execution_count": 11,
   "metadata": {},
   "outputs": [
    {
     "output_type": "execute_result",
     "data": {
      "text/plain": [
       "   cod  personas_mig_100k\n",
       "0  102                891\n",
       "1  104               1349\n",
       "2  105               1991\n",
       "3  106                924\n",
       "4  107                333"
      ],
      "text/html": "<div>\n<style scoped>\n    .dataframe tbody tr th:only-of-type {\n        vertical-align: middle;\n    }\n\n    .dataframe tbody tr th {\n        vertical-align: top;\n    }\n\n    .dataframe thead th {\n        text-align: right;\n    }\n</style>\n<table border=\"1\" class=\"dataframe\">\n  <thead>\n    <tr style=\"text-align: right;\">\n      <th></th>\n      <th>cod</th>\n      <th>personas_mig_100k</th>\n    </tr>\n  </thead>\n  <tbody>\n    <tr>\n      <th>0</th>\n      <td>102</td>\n      <td>891</td>\n    </tr>\n    <tr>\n      <th>1</th>\n      <td>104</td>\n      <td>1349</td>\n    </tr>\n    <tr>\n      <th>2</th>\n      <td>105</td>\n      <td>1991</td>\n    </tr>\n    <tr>\n      <th>3</th>\n      <td>106</td>\n      <td>924</td>\n    </tr>\n    <tr>\n      <th>4</th>\n      <td>107</td>\n      <td>333</td>\n    </tr>\n  </tbody>\n</table>\n</div>"
     },
     "metadata": {},
     "execution_count": 11
    }
   ],
   "source": [
    "df_agrupado_100k = grupo_100.reset_index()\n",
    "# agrega codigo único\n",
    "df_agrupado_100k.insert(0, 'cod', (df_agrupado_100k['depto_origen'].astype(str)\n",
    "                   + df_agrupado_100k['depto_destino'].astype(str).str.zfill(2)).astype(int))\n",
    "\n",
    "df_agrupado_100k.drop(['depto_origen', 'depto_destino', 'distancia_m'], axis=1, inplace=True)\n",
    "df_agrupado_100k.rename({'personas_mig': 'personas_mig_100k'}, axis=1, inplace=True)\n",
    "df_agrupado_100k.head()"
   ]
  },
  {
   "cell_type": "code",
   "execution_count": 12,
   "metadata": {},
   "outputs": [
    {
     "output_type": "execute_result",
     "data": {
      "text/plain": [
       "   cod  depto_origen  depto_destino  personas_mig  personas_mig_100k\n",
       "0  102             1              2           914                891\n",
       "1  103             1              3         33127                  0\n",
       "2  104             1              4          1387               1349\n",
       "3  105             1              5          2100               1991\n",
       "4  106             1              6           982                924"
      ],
      "text/html": "<div>\n<style scoped>\n    .dataframe tbody tr th:only-of-type {\n        vertical-align: middle;\n    }\n\n    .dataframe tbody tr th {\n        vertical-align: top;\n    }\n\n    .dataframe thead th {\n        text-align: right;\n    }\n</style>\n<table border=\"1\" class=\"dataframe\">\n  <thead>\n    <tr style=\"text-align: right;\">\n      <th></th>\n      <th>cod</th>\n      <th>depto_origen</th>\n      <th>depto_destino</th>\n      <th>personas_mig</th>\n      <th>personas_mig_100k</th>\n    </tr>\n  </thead>\n  <tbody>\n    <tr>\n      <th>0</th>\n      <td>102</td>\n      <td>1</td>\n      <td>2</td>\n      <td>914</td>\n      <td>891</td>\n    </tr>\n    <tr>\n      <th>1</th>\n      <td>103</td>\n      <td>1</td>\n      <td>3</td>\n      <td>33127</td>\n      <td>0</td>\n    </tr>\n    <tr>\n      <th>2</th>\n      <td>104</td>\n      <td>1</td>\n      <td>4</td>\n      <td>1387</td>\n      <td>1349</td>\n    </tr>\n    <tr>\n      <th>3</th>\n      <td>105</td>\n      <td>1</td>\n      <td>5</td>\n      <td>2100</td>\n      <td>1991</td>\n    </tr>\n    <tr>\n      <th>4</th>\n      <td>106</td>\n      <td>1</td>\n      <td>6</td>\n      <td>982</td>\n      <td>924</td>\n    </tr>\n  </tbody>\n</table>\n</div>"
     },
     "metadata": {},
     "execution_count": 12
    }
   ],
   "source": [
    "# pega\n",
    "df_agrupado = df_agrupado.merge(df_agrupado_100k, how='left', on='cod')\n",
    "\n",
    "df_agrupado['personas_mig_100k'] = df_agrupado['personas_mig_100k'].fillna(0).astype(int)\n",
    "\n",
    "df_agrupado.head()\n"
   ]
  },
  {
   "cell_type": "code",
   "execution_count": 13,
   "metadata": {},
   "outputs": [
    {
     "output_type": "execute_result",
     "data": {
      "text/plain": [
       "   cod  depto_origen  depto_destino  personas_mig  personas_mig_100k  \\\n",
       "0  102             1              2           914                891   \n",
       "1  103             1              3         33127                  0   \n",
       "2  104             1              4          1387               1349   \n",
       "3  105             1              5          2100               1991   \n",
       "4  106             1              6           982                924   \n",
       "\n",
       "   pob_origen  pob_destino  \n",
       "0     1318755        73377  \n",
       "1     1318755       520173  \n",
       "2     1318755        84698  \n",
       "3     1318755       123203  \n",
       "4     1318755        57084  "
      ],
      "text/html": "<div>\n<style scoped>\n    .dataframe tbody tr th:only-of-type {\n        vertical-align: middle;\n    }\n\n    .dataframe tbody tr th {\n        vertical-align: top;\n    }\n\n    .dataframe thead th {\n        text-align: right;\n    }\n</style>\n<table border=\"1\" class=\"dataframe\">\n  <thead>\n    <tr style=\"text-align: right;\">\n      <th></th>\n      <th>cod</th>\n      <th>depto_origen</th>\n      <th>depto_destino</th>\n      <th>personas_mig</th>\n      <th>personas_mig_100k</th>\n      <th>pob_origen</th>\n      <th>pob_destino</th>\n    </tr>\n  </thead>\n  <tbody>\n    <tr>\n      <th>0</th>\n      <td>102</td>\n      <td>1</td>\n      <td>2</td>\n      <td>914</td>\n      <td>891</td>\n      <td>1318755</td>\n      <td>73377</td>\n    </tr>\n    <tr>\n      <th>1</th>\n      <td>103</td>\n      <td>1</td>\n      <td>3</td>\n      <td>33127</td>\n      <td>0</td>\n      <td>1318755</td>\n      <td>520173</td>\n    </tr>\n    <tr>\n      <th>2</th>\n      <td>104</td>\n      <td>1</td>\n      <td>4</td>\n      <td>1387</td>\n      <td>1349</td>\n      <td>1318755</td>\n      <td>84698</td>\n    </tr>\n    <tr>\n      <th>3</th>\n      <td>105</td>\n      <td>1</td>\n      <td>5</td>\n      <td>2100</td>\n      <td>1991</td>\n      <td>1318755</td>\n      <td>123203</td>\n    </tr>\n    <tr>\n      <th>4</th>\n      <td>106</td>\n      <td>1</td>\n      <td>6</td>\n      <td>982</td>\n      <td>924</td>\n      <td>1318755</td>\n      <td>57084</td>\n    </tr>\n  </tbody>\n</table>\n</div>"
     },
     "metadata": {},
     "execution_count": 13
    }
   ],
   "source": [
    "# pega masas (población!)\n",
    "df_agrupado = df_agrupado.merge(pobl, how='left', left_on='depto_origen', right_on='DPTO').drop('DPTO', axis=1).rename(columns={'poblacion':'pob_origen'})\n",
    "\n",
    "df_agrupado = df_agrupado.merge(pobl, how='left', left_on='depto_destino', right_on='DPTO').drop('DPTO', axis=1).rename(columns={'poblacion':'pob_destino'})\n",
    "\n",
    "df_agrupado.head()"
   ]
  },
  {
   "cell_type": "code",
   "execution_count": 14,
   "metadata": {},
   "outputs": [
    {
     "output_type": "execute_result",
     "data": {
      "text/plain": [
       "   cod  depto_origen  depto_destino  personas_mig  personas_mig_100k  \\\n",
       "0  102             1              2           914                891   \n",
       "1  103             1              3         33127                  0   \n",
       "2  104             1              4          1387               1349   \n",
       "3  105             1              5          2100               1991   \n",
       "4  106             1              6           982                924   \n",
       "\n",
       "   pob_origen  pob_destino    dist  \n",
       "0     1318755        73377  610726  \n",
       "1     1318755       520173   22544  \n",
       "2     1318755        84698  393703  \n",
       "3     1318755       123203  172773  \n",
       "4     1318755        57084  198970  "
      ],
      "text/html": "<div>\n<style scoped>\n    .dataframe tbody tr th:only-of-type {\n        vertical-align: middle;\n    }\n\n    .dataframe tbody tr th {\n        vertical-align: top;\n    }\n\n    .dataframe thead th {\n        text-align: right;\n    }\n</style>\n<table border=\"1\" class=\"dataframe\">\n  <thead>\n    <tr style=\"text-align: right;\">\n      <th></th>\n      <th>cod</th>\n      <th>depto_origen</th>\n      <th>depto_destino</th>\n      <th>personas_mig</th>\n      <th>personas_mig_100k</th>\n      <th>pob_origen</th>\n      <th>pob_destino</th>\n      <th>dist</th>\n    </tr>\n  </thead>\n  <tbody>\n    <tr>\n      <th>0</th>\n      <td>102</td>\n      <td>1</td>\n      <td>2</td>\n      <td>914</td>\n      <td>891</td>\n      <td>1318755</td>\n      <td>73377</td>\n      <td>610726</td>\n    </tr>\n    <tr>\n      <th>1</th>\n      <td>103</td>\n      <td>1</td>\n      <td>3</td>\n      <td>33127</td>\n      <td>0</td>\n      <td>1318755</td>\n      <td>520173</td>\n      <td>22544</td>\n    </tr>\n    <tr>\n      <th>2</th>\n      <td>104</td>\n      <td>1</td>\n      <td>4</td>\n      <td>1387</td>\n      <td>1349</td>\n      <td>1318755</td>\n      <td>84698</td>\n      <td>393703</td>\n    </tr>\n    <tr>\n      <th>3</th>\n      <td>105</td>\n      <td>1</td>\n      <td>5</td>\n      <td>2100</td>\n      <td>1991</td>\n      <td>1318755</td>\n      <td>123203</td>\n      <td>172773</td>\n    </tr>\n    <tr>\n      <th>4</th>\n      <td>106</td>\n      <td>1</td>\n      <td>6</td>\n      <td>982</td>\n      <td>924</td>\n      <td>1318755</td>\n      <td>57084</td>\n      <td>198970</td>\n    </tr>\n  </tbody>\n</table>\n</div>"
     },
     "metadata": {},
     "execution_count": 14
    }
   ],
   "source": [
    "# pega matriz de distancias\n",
    "df_agrupado = df_agrupado.merge(md, how='left', on='cod').drop(['cod_ori', 'cod_des'], axis=1).rename(columns={'distancia':'dist'})\n",
    "df_agrupado.head()"
   ]
  },
  {
   "cell_type": "code",
   "execution_count": 15,
   "metadata": {},
   "outputs": [
    {
     "output_type": "execute_result",
     "data": {
      "text/plain": [
       "   cod  depto_origen  depto_destino  personas_mig  personas_mig_100k  \\\n",
       "0  102             1              2           914                891   \n",
       "1  103             1              3         33127                  0   \n",
       "2  104             1              4          1387               1349   \n",
       "3  105             1              5          2100               1991   \n",
       "4  106             1              6           982                924   \n",
       "\n",
       "   pob_origen  pob_destino    dist  pbi_origen  pbi_porcen_ori  pbi_destino  \\\n",
       "0     1318755        73377  610726   465848031            50.3     14214980   \n",
       "1     1318755       520173   22544   465848031            50.3     86306492   \n",
       "2     1318755        84698  393703   465848031            50.3     17048887   \n",
       "3     1318755       123203  172773   465848031            50.3     43788749   \n",
       "4     1318755        57084  198970   465848031            50.3     13023942   \n",
       "\n",
       "   pbi_porcen_des  \n",
       "0             1.5  \n",
       "1             9.3  \n",
       "2             1.8  \n",
       "3             4.7  \n",
       "4             1.4  "
      ],
      "text/html": "<div>\n<style scoped>\n    .dataframe tbody tr th:only-of-type {\n        vertical-align: middle;\n    }\n\n    .dataframe tbody tr th {\n        vertical-align: top;\n    }\n\n    .dataframe thead th {\n        text-align: right;\n    }\n</style>\n<table border=\"1\" class=\"dataframe\">\n  <thead>\n    <tr style=\"text-align: right;\">\n      <th></th>\n      <th>cod</th>\n      <th>depto_origen</th>\n      <th>depto_destino</th>\n      <th>personas_mig</th>\n      <th>personas_mig_100k</th>\n      <th>pob_origen</th>\n      <th>pob_destino</th>\n      <th>dist</th>\n      <th>pbi_origen</th>\n      <th>pbi_porcen_ori</th>\n      <th>pbi_destino</th>\n      <th>pbi_porcen_des</th>\n    </tr>\n  </thead>\n  <tbody>\n    <tr>\n      <th>0</th>\n      <td>102</td>\n      <td>1</td>\n      <td>2</td>\n      <td>914</td>\n      <td>891</td>\n      <td>1318755</td>\n      <td>73377</td>\n      <td>610726</td>\n      <td>465848031</td>\n      <td>50.3</td>\n      <td>14214980</td>\n      <td>1.5</td>\n    </tr>\n    <tr>\n      <th>1</th>\n      <td>103</td>\n      <td>1</td>\n      <td>3</td>\n      <td>33127</td>\n      <td>0</td>\n      <td>1318755</td>\n      <td>520173</td>\n      <td>22544</td>\n      <td>465848031</td>\n      <td>50.3</td>\n      <td>86306492</td>\n      <td>9.3</td>\n    </tr>\n    <tr>\n      <th>2</th>\n      <td>104</td>\n      <td>1</td>\n      <td>4</td>\n      <td>1387</td>\n      <td>1349</td>\n      <td>1318755</td>\n      <td>84698</td>\n      <td>393703</td>\n      <td>465848031</td>\n      <td>50.3</td>\n      <td>17048887</td>\n      <td>1.8</td>\n    </tr>\n    <tr>\n      <th>3</th>\n      <td>105</td>\n      <td>1</td>\n      <td>5</td>\n      <td>2100</td>\n      <td>1991</td>\n      <td>1318755</td>\n      <td>123203</td>\n      <td>172773</td>\n      <td>465848031</td>\n      <td>50.3</td>\n      <td>43788749</td>\n      <td>4.7</td>\n    </tr>\n    <tr>\n      <th>4</th>\n      <td>106</td>\n      <td>1</td>\n      <td>6</td>\n      <td>982</td>\n      <td>924</td>\n      <td>1318755</td>\n      <td>57084</td>\n      <td>198970</td>\n      <td>465848031</td>\n      <td>50.3</td>\n      <td>13023942</td>\n      <td>1.4</td>\n    </tr>\n  </tbody>\n</table>\n</div>"
     },
     "metadata": {},
     "execution_count": 15
    }
   ],
   "source": [
    "# pega datos del PBI\n",
    "df_agrupado = df_agrupado.merge(pbi, how='left', left_on='depto_origen', right_on='DPTO').drop(['DPTO'], axis=1).rename(columns={'miles_de_pesos':'pbi_origen', 'porcentaje_pbi': 'pbi_porcen_ori'})\n",
    "\n",
    "df_agrupado = df_agrupado.merge(pbi, how='left', left_on='depto_destino', right_on='DPTO').drop(['DPTO'], axis=1).rename(columns={'miles_de_pesos':'pbi_destino', 'porcentaje_pbi': 'pbi_porcen_des'})\n",
    "\n",
    "df_agrupado.head()"
   ]
  },
  {
   "cell_type": "code",
   "execution_count": 16,
   "metadata": {},
   "outputs": [],
   "source": [
    "# pega vecindad\n",
    "df_agrupado = df_agrupado.merge(vecindad, how='left', on='cod').drop(['dep1', 'dep2'], axis=1)\n",
    "df_agrupado['dummy_limit'] = True\n",
    "df_agrupado.loc[df_agrupado.largo_limite.isnull(), 'dummy_limit'] = False"
   ]
  },
  {
   "cell_type": "code",
   "execution_count": 17,
   "metadata": {},
   "outputs": [
    {
     "output_type": "execute_result",
     "data": {
      "text/plain": [
       "   cod  depto_origen  depto_destino  personas_mig  personas_mig_100k  \\\n",
       "0  102             1              2           914                891   \n",
       "1  103             1              3         33127                  0   \n",
       "2  104             1              4          1387               1349   \n",
       "3  105             1              5          2100               1991   \n",
       "4  106             1              6           982                924   \n",
       "\n",
       "   pob_origen  pob_destino    dist  pbi_origen  pbi_porcen_ori  pbi_destino  \\\n",
       "0     1318755        73377  610726   465848031            50.3     14214980   \n",
       "1     1318755       520173   22544   465848031            50.3     86306492   \n",
       "2     1318755        84698  393703   465848031            50.3     17048887   \n",
       "3     1318755       123203  172773   465848031            50.3     43788749   \n",
       "4     1318755        57084  198970   465848031            50.3     13023942   \n",
       "\n",
       "   pbi_porcen_des  largo_limite  dummy_limit  empresas_origen  \\\n",
       "0             1.5           NaN        False             3124   \n",
       "1             9.3       60107.0         True             3124   \n",
       "2             1.8           NaN        False             3124   \n",
       "3             4.7           NaN        False             3124   \n",
       "4             1.4           NaN        False             3124   \n",
       "\n",
       "   empresas_destino  \n",
       "0                55  \n",
       "1               563  \n",
       "2                88  \n",
       "3                60  \n",
       "4                40  "
      ],
      "text/html": "<div>\n<style scoped>\n    .dataframe tbody tr th:only-of-type {\n        vertical-align: middle;\n    }\n\n    .dataframe tbody tr th {\n        vertical-align: top;\n    }\n\n    .dataframe thead th {\n        text-align: right;\n    }\n</style>\n<table border=\"1\" class=\"dataframe\">\n  <thead>\n    <tr style=\"text-align: right;\">\n      <th></th>\n      <th>cod</th>\n      <th>depto_origen</th>\n      <th>depto_destino</th>\n      <th>personas_mig</th>\n      <th>personas_mig_100k</th>\n      <th>pob_origen</th>\n      <th>pob_destino</th>\n      <th>dist</th>\n      <th>pbi_origen</th>\n      <th>pbi_porcen_ori</th>\n      <th>pbi_destino</th>\n      <th>pbi_porcen_des</th>\n      <th>largo_limite</th>\n      <th>dummy_limit</th>\n      <th>empresas_origen</th>\n      <th>empresas_destino</th>\n    </tr>\n  </thead>\n  <tbody>\n    <tr>\n      <th>0</th>\n      <td>102</td>\n      <td>1</td>\n      <td>2</td>\n      <td>914</td>\n      <td>891</td>\n      <td>1318755</td>\n      <td>73377</td>\n      <td>610726</td>\n      <td>465848031</td>\n      <td>50.3</td>\n      <td>14214980</td>\n      <td>1.5</td>\n      <td>NaN</td>\n      <td>False</td>\n      <td>3124</td>\n      <td>55</td>\n    </tr>\n    <tr>\n      <th>1</th>\n      <td>103</td>\n      <td>1</td>\n      <td>3</td>\n      <td>33127</td>\n      <td>0</td>\n      <td>1318755</td>\n      <td>520173</td>\n      <td>22544</td>\n      <td>465848031</td>\n      <td>50.3</td>\n      <td>86306492</td>\n      <td>9.3</td>\n      <td>60107.0</td>\n      <td>True</td>\n      <td>3124</td>\n      <td>563</td>\n    </tr>\n    <tr>\n      <th>2</th>\n      <td>104</td>\n      <td>1</td>\n      <td>4</td>\n      <td>1387</td>\n      <td>1349</td>\n      <td>1318755</td>\n      <td>84698</td>\n      <td>393703</td>\n      <td>465848031</td>\n      <td>50.3</td>\n      <td>17048887</td>\n      <td>1.8</td>\n      <td>NaN</td>\n      <td>False</td>\n      <td>3124</td>\n      <td>88</td>\n    </tr>\n    <tr>\n      <th>3</th>\n      <td>105</td>\n      <td>1</td>\n      <td>5</td>\n      <td>2100</td>\n      <td>1991</td>\n      <td>1318755</td>\n      <td>123203</td>\n      <td>172773</td>\n      <td>465848031</td>\n      <td>50.3</td>\n      <td>43788749</td>\n      <td>4.7</td>\n      <td>NaN</td>\n      <td>False</td>\n      <td>3124</td>\n      <td>60</td>\n    </tr>\n    <tr>\n      <th>4</th>\n      <td>106</td>\n      <td>1</td>\n      <td>6</td>\n      <td>982</td>\n      <td>924</td>\n      <td>1318755</td>\n      <td>57084</td>\n      <td>198970</td>\n      <td>465848031</td>\n      <td>50.3</td>\n      <td>13023942</td>\n      <td>1.4</td>\n      <td>NaN</td>\n      <td>False</td>\n      <td>3124</td>\n      <td>40</td>\n    </tr>\n  </tbody>\n</table>\n</div>"
     },
     "metadata": {},
     "execution_count": 17
    }
   ],
   "source": [
    "# pega empresas\n",
    "empresas.drop('NOMBRE', axis=1, inplace=True)\n",
    "\n",
    "df_agrupado = df_agrupado.merge(empresas, how='left', left_on='depto_origen', right_on='DPTO')\n",
    "df_agrupado = df_agrupado.merge(empresas, how='left', left_on='depto_destino', right_on='DPTO').drop(['DPTO_x', 'DPTO_y'], axis=1).rename(columns={'empresas_x':'empresas_origen', 'empresas_y': 'empresas_destino'})\n",
    "\n",
    "df_agrupado.head()"
   ]
  },
  {
   "cell_type": "code",
   "execution_count": 18,
   "metadata": {},
   "outputs": [
    {
     "output_type": "stream",
     "name": "stdout",
     "text": [
      "(342, 16)\n"
     ]
    }
   ],
   "source": [
    "# genera otro DF igual a df_agrupado, pero llamado dd_deptos\n",
    "dd_deptos = df_agrupado\n",
    "\n",
    "print(dd_deptos.shape)"
   ]
  },
  {
   "cell_type": "code",
   "execution_count": 19,
   "metadata": {},
   "outputs": [
    {
     "output_type": "execute_result",
     "data": {
      "text/plain": [
       "   cod  depto_origen  depto_destino  personas_mig  personas_mig_100k  \\\n",
       "0  102             1              2           914                891   \n",
       "1  103             1              3         33127                  0   \n",
       "2  104             1              4          1387               1349   \n",
       "3  105             1              5          2100               1991   \n",
       "4  106             1              6           982                924   \n",
       "\n",
       "   pob_origen  pob_destino    dist  pbi_origen  pbi_porcen_ori  pbi_destino  \\\n",
       "0     1318755        73377  610726   465848031            50.3     14214980   \n",
       "1     1318755       520173   22544   465848031            50.3     86306492   \n",
       "2     1318755        84698  393703   465848031            50.3     17048887   \n",
       "3     1318755       123203  172773   465848031            50.3     43788749   \n",
       "4     1318755        57084  198970   465848031            50.3     13023942   \n",
       "\n",
       "   pbi_porcen_des  largo_limite  dummy_limit  empresas_origen  \\\n",
       "0             1.5           NaN        False             3124   \n",
       "1             9.3       60107.0         True             3124   \n",
       "2             1.8           NaN        False             3124   \n",
       "3             4.7           NaN        False             3124   \n",
       "4             1.4           NaN        False             3124   \n",
       "\n",
       "   empresas_destino  log_pbi_destino   log_dist  \n",
       "0                55        16.469807  13.322404  \n",
       "1               563        18.273415  10.023224  \n",
       "2                88        16.651595  12.883352  \n",
       "3                60        17.594887  12.059734  \n",
       "4                40        16.382300  12.200909  "
      ],
      "text/html": "<div>\n<style scoped>\n    .dataframe tbody tr th:only-of-type {\n        vertical-align: middle;\n    }\n\n    .dataframe tbody tr th {\n        vertical-align: top;\n    }\n\n    .dataframe thead th {\n        text-align: right;\n    }\n</style>\n<table border=\"1\" class=\"dataframe\">\n  <thead>\n    <tr style=\"text-align: right;\">\n      <th></th>\n      <th>cod</th>\n      <th>depto_origen</th>\n      <th>depto_destino</th>\n      <th>personas_mig</th>\n      <th>personas_mig_100k</th>\n      <th>pob_origen</th>\n      <th>pob_destino</th>\n      <th>dist</th>\n      <th>pbi_origen</th>\n      <th>pbi_porcen_ori</th>\n      <th>pbi_destino</th>\n      <th>pbi_porcen_des</th>\n      <th>largo_limite</th>\n      <th>dummy_limit</th>\n      <th>empresas_origen</th>\n      <th>empresas_destino</th>\n      <th>log_pbi_destino</th>\n      <th>log_dist</th>\n    </tr>\n  </thead>\n  <tbody>\n    <tr>\n      <th>0</th>\n      <td>102</td>\n      <td>1</td>\n      <td>2</td>\n      <td>914</td>\n      <td>891</td>\n      <td>1318755</td>\n      <td>73377</td>\n      <td>610726</td>\n      <td>465848031</td>\n      <td>50.3</td>\n      <td>14214980</td>\n      <td>1.5</td>\n      <td>NaN</td>\n      <td>False</td>\n      <td>3124</td>\n      <td>55</td>\n      <td>16.469807</td>\n      <td>13.322404</td>\n    </tr>\n    <tr>\n      <th>1</th>\n      <td>103</td>\n      <td>1</td>\n      <td>3</td>\n      <td>33127</td>\n      <td>0</td>\n      <td>1318755</td>\n      <td>520173</td>\n      <td>22544</td>\n      <td>465848031</td>\n      <td>50.3</td>\n      <td>86306492</td>\n      <td>9.3</td>\n      <td>60107.0</td>\n      <td>True</td>\n      <td>3124</td>\n      <td>563</td>\n      <td>18.273415</td>\n      <td>10.023224</td>\n    </tr>\n    <tr>\n      <th>2</th>\n      <td>104</td>\n      <td>1</td>\n      <td>4</td>\n      <td>1387</td>\n      <td>1349</td>\n      <td>1318755</td>\n      <td>84698</td>\n      <td>393703</td>\n      <td>465848031</td>\n      <td>50.3</td>\n      <td>17048887</td>\n      <td>1.8</td>\n      <td>NaN</td>\n      <td>False</td>\n      <td>3124</td>\n      <td>88</td>\n      <td>16.651595</td>\n      <td>12.883352</td>\n    </tr>\n    <tr>\n      <th>3</th>\n      <td>105</td>\n      <td>1</td>\n      <td>5</td>\n      <td>2100</td>\n      <td>1991</td>\n      <td>1318755</td>\n      <td>123203</td>\n      <td>172773</td>\n      <td>465848031</td>\n      <td>50.3</td>\n      <td>43788749</td>\n      <td>4.7</td>\n      <td>NaN</td>\n      <td>False</td>\n      <td>3124</td>\n      <td>60</td>\n      <td>17.594887</td>\n      <td>12.059734</td>\n    </tr>\n    <tr>\n      <th>4</th>\n      <td>106</td>\n      <td>1</td>\n      <td>6</td>\n      <td>982</td>\n      <td>924</td>\n      <td>1318755</td>\n      <td>57084</td>\n      <td>198970</td>\n      <td>465848031</td>\n      <td>50.3</td>\n      <td>13023942</td>\n      <td>1.4</td>\n      <td>NaN</td>\n      <td>False</td>\n      <td>3124</td>\n      <td>40</td>\n      <td>16.382300</td>\n      <td>12.200909</td>\n    </tr>\n  </tbody>\n</table>\n</div>"
     },
     "metadata": {},
     "execution_count": 19
    }
   ],
   "source": [
    "# calcula logaritmos\n",
    "def logaritmos(df, variables):\n",
    "    new_vars = ['log_' + sub for sub in variables]\n",
    "    nvars = len(variables)\n",
    "    for i in range(nvars):\n",
    "        df[new_vars[i]] = np.log(df[variables[i]])\n",
    "    return df\n",
    "\n",
    "# definir lista de variables sobre las cuales se quiere el logaritmo\n",
    "variables = ['pbi_destino', 'dist']\n",
    "\n",
    "dd_deptos = logaritmos(dd_deptos, variables)\n",
    "\n",
    "dd_deptos.head()"
   ]
  },
  {
   "cell_type": "code",
   "execution_count": 20,
   "metadata": {},
   "outputs": [
    {
     "output_type": "execute_result",
     "data": {
      "text/plain": [
       "   cod  depto_origen  depto_destino  personas_mig  personas_mig_100k  \\\n",
       "0  102             1              2           914                891   \n",
       "1  103             1              3         33127                  0   \n",
       "2  104             1              4          1387               1349   \n",
       "3  105             1              5          2100               1991   \n",
       "4  106             1              6           982                924   \n",
       "\n",
       "   pob_origen  pob_destino    dist  pbi_origen  pbi_porcen_ori  pbi_destino  \\\n",
       "0     1318755        73377  610726   465848031            50.3     14214980   \n",
       "1     1318755       520173   22544   465848031            50.3     86306492   \n",
       "2     1318755        84698  393703   465848031            50.3     17048887   \n",
       "3     1318755       123203  172773   465848031            50.3     43788749   \n",
       "4     1318755        57084  198970   465848031            50.3     13023942   \n",
       "\n",
       "   pbi_porcen_des  largo_limite  dummy_limit  empresas_origen  \\\n",
       "0             1.5           NaN        False             3124   \n",
       "1             9.3       60107.0         True             3124   \n",
       "2             1.8           NaN        False             3124   \n",
       "3             4.7           NaN        False             3124   \n",
       "4             1.4           NaN        False             3124   \n",
       "\n",
       "   empresas_destino  log_pbi_destino   log_dist nom_depto_orig nom_depto_des  \n",
       "0                55        16.469807  13.322404     MONTEVIDEO       ARTIGAS  \n",
       "1               563        18.273415  10.023224     MONTEVIDEO     CANELONES  \n",
       "2                88        16.651595  12.883352     MONTEVIDEO   CERRO LARGO  \n",
       "3                60        17.594887  12.059734     MONTEVIDEO       COLONIA  \n",
       "4                40        16.382300  12.200909     MONTEVIDEO       DURAZNO  "
      ],
      "text/html": "<div>\n<style scoped>\n    .dataframe tbody tr th:only-of-type {\n        vertical-align: middle;\n    }\n\n    .dataframe tbody tr th {\n        vertical-align: top;\n    }\n\n    .dataframe thead th {\n        text-align: right;\n    }\n</style>\n<table border=\"1\" class=\"dataframe\">\n  <thead>\n    <tr style=\"text-align: right;\">\n      <th></th>\n      <th>cod</th>\n      <th>depto_origen</th>\n      <th>depto_destino</th>\n      <th>personas_mig</th>\n      <th>personas_mig_100k</th>\n      <th>pob_origen</th>\n      <th>pob_destino</th>\n      <th>dist</th>\n      <th>pbi_origen</th>\n      <th>pbi_porcen_ori</th>\n      <th>pbi_destino</th>\n      <th>pbi_porcen_des</th>\n      <th>largo_limite</th>\n      <th>dummy_limit</th>\n      <th>empresas_origen</th>\n      <th>empresas_destino</th>\n      <th>log_pbi_destino</th>\n      <th>log_dist</th>\n      <th>nom_depto_orig</th>\n      <th>nom_depto_des</th>\n    </tr>\n  </thead>\n  <tbody>\n    <tr>\n      <th>0</th>\n      <td>102</td>\n      <td>1</td>\n      <td>2</td>\n      <td>914</td>\n      <td>891</td>\n      <td>1318755</td>\n      <td>73377</td>\n      <td>610726</td>\n      <td>465848031</td>\n      <td>50.3</td>\n      <td>14214980</td>\n      <td>1.5</td>\n      <td>NaN</td>\n      <td>False</td>\n      <td>3124</td>\n      <td>55</td>\n      <td>16.469807</td>\n      <td>13.322404</td>\n      <td>MONTEVIDEO</td>\n      <td>ARTIGAS</td>\n    </tr>\n    <tr>\n      <th>1</th>\n      <td>103</td>\n      <td>1</td>\n      <td>3</td>\n      <td>33127</td>\n      <td>0</td>\n      <td>1318755</td>\n      <td>520173</td>\n      <td>22544</td>\n      <td>465848031</td>\n      <td>50.3</td>\n      <td>86306492</td>\n      <td>9.3</td>\n      <td>60107.0</td>\n      <td>True</td>\n      <td>3124</td>\n      <td>563</td>\n      <td>18.273415</td>\n      <td>10.023224</td>\n      <td>MONTEVIDEO</td>\n      <td>CANELONES</td>\n    </tr>\n    <tr>\n      <th>2</th>\n      <td>104</td>\n      <td>1</td>\n      <td>4</td>\n      <td>1387</td>\n      <td>1349</td>\n      <td>1318755</td>\n      <td>84698</td>\n      <td>393703</td>\n      <td>465848031</td>\n      <td>50.3</td>\n      <td>17048887</td>\n      <td>1.8</td>\n      <td>NaN</td>\n      <td>False</td>\n      <td>3124</td>\n      <td>88</td>\n      <td>16.651595</td>\n      <td>12.883352</td>\n      <td>MONTEVIDEO</td>\n      <td>CERRO LARGO</td>\n    </tr>\n    <tr>\n      <th>3</th>\n      <td>105</td>\n      <td>1</td>\n      <td>5</td>\n      <td>2100</td>\n      <td>1991</td>\n      <td>1318755</td>\n      <td>123203</td>\n      <td>172773</td>\n      <td>465848031</td>\n      <td>50.3</td>\n      <td>43788749</td>\n      <td>4.7</td>\n      <td>NaN</td>\n      <td>False</td>\n      <td>3124</td>\n      <td>60</td>\n      <td>17.594887</td>\n      <td>12.059734</td>\n      <td>MONTEVIDEO</td>\n      <td>COLONIA</td>\n    </tr>\n    <tr>\n      <th>4</th>\n      <td>106</td>\n      <td>1</td>\n      <td>6</td>\n      <td>982</td>\n      <td>924</td>\n      <td>1318755</td>\n      <td>57084</td>\n      <td>198970</td>\n      <td>465848031</td>\n      <td>50.3</td>\n      <td>13023942</td>\n      <td>1.4</td>\n      <td>NaN</td>\n      <td>False</td>\n      <td>3124</td>\n      <td>40</td>\n      <td>16.382300</td>\n      <td>12.200909</td>\n      <td>MONTEVIDEO</td>\n      <td>DURAZNO</td>\n    </tr>\n  </tbody>\n</table>\n</div>"
     },
     "metadata": {},
     "execution_count": 20
    }
   ],
   "source": [
    "# decodifica el departamento (códigos INE)\n",
    "dd_deptos['nom_depto_orig'] = decode_depto(dd_deptos, 'depto_origen')\n",
    "dd_deptos['nom_depto_des'] = decode_depto(dd_deptos, 'depto_destino')\n",
    "\n",
    "dd_deptos.head()"
   ]
  },
  {
   "cell_type": "code",
   "execution_count": 21,
   "metadata": {},
   "outputs": [],
   "source": [
    "# guarda\n",
    "dd_deptos.to_csv('tablas/dd_deptos.csv', index=False)"
   ]
  }
 ]
}