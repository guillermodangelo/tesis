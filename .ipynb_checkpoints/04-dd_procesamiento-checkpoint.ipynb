{
 "cells": [
  {
   "cell_type": "code",
   "execution_count": null,
   "metadata": {},
   "outputs": [],
   "source": [
    "import pandas as pd\n",
    "import geopandas as gpd\n",
    "import os\n",
    "import numpy as np\n",
    "from operator import add\n",
    "\n",
    "from shapely import wkt\n",
    "from shapely.geometry import shape, LineString, Point\n",
    "    \n",
    "# funciones desarrolladas\n",
    "from functions.agrupar_dfs_censo import *\n",
    "from functions.cargar_data import *\n",
    "from functions.impresion import *"
   ]
  },
  {
   "cell_type": "code",
   "execution_count": null,
   "metadata": {},
   "outputs": [],
   "source": [
    "# carga datos diádicos\n",
    "pbi = cargar_pbi()\n",
    "md = cargar_matriz_distancias()\n",
    "vecindad = cargar_vecindad()\n",
    "dist_loc = pd.read_csv('tablas/df_distancias_localidades.csv', usecols=['cod','distancia_m'])\n",
    "\n",
    "# carga capas de datos geográficos\n",
    "deptos, deptos_sim, localidad, centro_pobl, capital = cargar_datos_geo()\n",
    "\n",
    "# carga migrantes internos\n",
    "p_migr = cargar_migrantes_internos()\n",
    "\n",
    "# carga poblacion por depto\n",
    "pobl = recuperar_poblacion_2011()\n",
    "\n",
    "# carga cantidad de empresas industriales por depto (OTU, OPP, 2013)\n",
    "# Fuente: Núcleo Interdisciplinario de Estudios de Desarrollo Territorial (NIEDT)\n",
    "# en base a INE (Directorio de Empresas y Establecimientos) y relevamiento propio\n",
    "# Base: Total de empresas industriales de más de 5 empleados\n",
    "empresas = pd.read_csv('tablas/empresas_por_depto.csv', sep=';', usecols=['DPTO', 'empresas'])"
   ]
  },
  {
   "cell_type": "code",
   "execution_count": null,
   "metadata": {},
   "outputs": [],
   "source": [
    "print(p_migr.shape)\n",
    "print(p_migr.columns)\n",
    "p_migr.head()"
   ]
  },
  {
   "cell_type": "code",
   "execution_count": null,
   "metadata": {},
   "outputs": [],
   "source": [
    "# genera código de díada\n",
    "p_migr['cod'] = (p_migr['loc_origen'].astype(str) + p_migr['loc_destino'].astype(str)).astype(int)\n",
    "\n",
    "# pega distancias entre localidades\n",
    "p_migr = p_migr.merge(dist_loc, how='left', on='cod')\n",
    "p_migr.head(2)"
   ]
  },
  {
   "cell_type": "code",
   "execution_count": null,
   "metadata": {},
   "outputs": [],
   "source": [
    "p_migr.loc[(p_migr.depto_origen==1) & (p_migr.depto_destino==3), 'distancia_m'].max()"
   ]
  },
  {
   "cell_type": "code",
   "execution_count": null,
   "metadata": {},
   "outputs": [],
   "source": [
    "p_migr.loc[(p_migr.depto_origen==3) & (p_migr.depto_destino==1), 'distancia_m'].max()"
   ]
  },
  {
   "cell_type": "code",
   "execution_count": null,
   "metadata": {},
   "outputs": [],
   "source": [
    "# genera un sólo dataframe solo para deptos\n",
    "flujos_deptos = p_migr[['depto_origen', 'depto_destino', 'PERNA01']].copy()\n",
    "\n",
    "flujos_deptos = flujos_deptos[flujos_deptos.depto_origen != flujos_deptos.depto_destino]\n",
    "\n",
    "flujos_deptos['personas_mig'] = 1\n",
    "flujos_deptos['personas_mig_18_25'] = 0\n",
    "flujos_deptos['personas_mig_26_35'] = 0\n",
    "\n",
    "flujos_deptos.loc[flujos_deptos.PERNA01.between(18, 25), 'personas_mig_18_25'] = 1\n",
    "flujos_deptos.loc[flujos_deptos.PERNA01.between(26, 35), 'personas_mig_26_35'] = 1\n",
    "\n",
    "flujos_deptos.drop('PERNA01', axis=1, inplace=True)\n",
    "\n",
    "\n",
    "# agrupa y cuenta\n",
    "grupo = flujos_deptos.groupby(by=['depto_origen', 'depto_destino']).sum()\n",
    "\n",
    "print('Cantidad de díadas ', grupo.shape[0])\n",
    "\n",
    "grupo.head(3)"
   ]
  },
  {
   "cell_type": "code",
   "execution_count": null,
   "metadata": {},
   "outputs": [],
   "source": [
    "# flujos en movimientos mayores a 100km\n",
    "flujos_deptos_100 = p_migr[['depto_origen', 'depto_destino', 'distancia_m']].copy()\n",
    "\n",
    "flujos_deptos_100 = flujos_deptos_100[flujos_deptos_100.depto_origen != flujos_deptos_100.depto_destino]\n",
    "\n",
    "flujos_deptos_100['personas_mig'] = 1\n",
    "\n",
    "# agrupa y cuenta\n",
    "grupo_100 = pd.DataFrame(flujos_deptos_100.loc[flujos_deptos_100.distancia_m > 100000].groupby(by=['depto_origen', 'depto_destino']).sum())\n",
    "\n",
    "print('Cantidad de díadas ', grupo_100.shape[0])\n",
    "\n",
    "grupo_100.head(3)"
   ]
  },
  {
   "cell_type": "code",
   "execution_count": null,
   "metadata": {},
   "outputs": [],
   "source": [
    "# genera tabla pivot con los flujos de departamento a departamento\n",
    "matrix = pd.pivot_table(flujos_deptos,\n",
    "                        index ='depto_origen',\n",
    "                        columns='depto_destino',\n",
    "                        fill_value=0,\n",
    "                        aggfunc=sum,\n",
    "                        margins=True,\n",
    "                        margins_name='Total')"
   ]
  },
  {
   "cell_type": "code",
   "execution_count": null,
   "metadata": {},
   "outputs": [],
   "source": [
    "# # guarda en csv\n",
    "# matrix = pd.pivot_table(flujos_deptos,\n",
    "#                         index ='depto_origen',\n",
    "#                         columns='depto_destino',\n",
    "#                         fill_value=0,\n",
    "#                         aggfunc=sum,\n",
    "#                         margins=False)\n",
    "\n",
    "# matrix.to_csv('tablas/matriz_deptos.csv', header=True)\n",
    "\n",
    "# # guarda en latex\n",
    "# # lista de nombres deptos para generar tabla en latex\n",
    "# nomdep = ['Mvdeo.', 'Artigas', 'Can.', 'C. Largo', 'Colonia', 'Durazno',\n",
    "#           'Flores', 'Florida', 'Lavalleja','Maldonado', 'Paysandú', 'R. Negro', 'Rivera',\n",
    "#           'Rocha', 'Salto', 'San José', 'Soriano', 'Tacuarembó', 'T. y Tres']\n",
    "\n",
    "# coddep = np.arange(1, 20, 1).tolist()\n",
    "\n",
    "# # guarda tabla en latex\n",
    "# # cabecera = datos_dpto.sort_values('DPTO')['NOMBRE'].to_list()\n",
    "# # cabecera.append('Total')\n",
    "\n",
    "# matrix_tex = matrix\n",
    "# matrix_tex.rename(index=dict(zip(coddep, nomdep)), inplace=True)\n",
    "\n",
    "# # setea ancho de columnas\n",
    "# ancho = 'p{0.7cm}'\n",
    "# colformato='l' + ancho * 20\n",
    "\n",
    "# matrix_tex.to_latex(buf= \"tablas/matriz_orig_dest.tex\", bold_rows=False,\n",
    "#                     column_format = colformato,\n",
    "#                     caption= 'Matriz de movimientos entre departamentos (Censo INE 2011).')"
   ]
  },
  {
   "cell_type": "code",
   "execution_count": null,
   "metadata": {},
   "outputs": [],
   "source": [
    "# unimos todo en un dataframe de díadas\n",
    "\n",
    "# migrantes\n",
    "df_agrupado = grupo.reset_index()\n",
    "\n",
    "# agrega codigo único\n",
    "df_agrupado.insert(0, 'cod', (df_agrupado['depto_origen'].astype(str)\n",
    "                   + df_agrupado['depto_destino'].astype(str).str.zfill(2)).astype(int))\n",
    "\n",
    "df_agrupado.head(2)"
   ]
  },
  {
   "cell_type": "code",
   "execution_count": null,
   "metadata": {},
   "outputs": [],
   "source": [
    "df_agrupado_100k = grupo_100.reset_index()\n",
    "# agrega codigo único\n",
    "df_agrupado_100k.insert(0, 'cod', (df_agrupado_100k['depto_origen'].astype(str)\n",
    "                   + df_agrupado_100k['depto_destino'].astype(str).str.zfill(2)).astype(int))\n",
    "\n",
    "df_agrupado_100k.drop(['depto_origen', 'depto_destino', 'distancia_m'], axis=1, inplace=True)\n",
    "df_agrupado_100k.rename({'personas_mig': 'personas_mig_100k'}, axis=1, inplace=True)\n",
    "df_agrupado_100k.head(2)"
   ]
  },
  {
   "cell_type": "code",
   "execution_count": null,
   "metadata": {},
   "outputs": [],
   "source": [
    "# pega\n",
    "df_agrupado = df_agrupado.merge(df_agrupado_100k, how='left', on='cod')\n",
    "\n",
    "df_agrupado['personas_mig_100k'] = df_agrupado['personas_mig_100k'].fillna(0).astype(int)\n",
    "\n",
    "df_agrupado.head(2)"
   ]
  },
  {
   "cell_type": "code",
   "execution_count": null,
   "metadata": {},
   "outputs": [],
   "source": [
    "# pega masas (población!)\n",
    "df_agrupado = df_agrupado.merge(pobl, how='left', left_on='depto_origen', right_on='DPTO')\n",
    "\n",
    "df_agrupado = df_agrupado.merge(pobl, how='left', left_on='depto_destino', right_on='DPTO')\n",
    "\n",
    "def drop_deptos(df):\n",
    "    df = df.drop(['DPTO_x', 'DPTO_y'], axis=1, inplace=True)\n",
    "\n",
    "drop_deptos(df_agrupado)\n",
    "\n",
    "df_agrupado.head(2)"
   ]
  },
  {
   "cell_type": "code",
   "execution_count": null,
   "metadata": {},
   "outputs": [],
   "source": [
    "# pega matriz de distancias\n",
    "df_agrupado = df_agrupado.merge(md, how='left', on='cod')\n",
    "df_agrupado = df_agrupado.drop(['cod_ori', 'cod_des'], axis=1)\n",
    "\n",
    "# convierte distancia a KM\n",
    "df_agrupado['dist_km'] = round(df_agrupado.distancia / 1000).astype(int)\n",
    "\n",
    "df_agrupado.head(2)"
   ]
  },
  {
   "cell_type": "code",
   "execution_count": null,
   "metadata": {},
   "outputs": [],
   "source": [
    "# pega datos del PBI\n",
    "df_agrupado = df_agrupado.merge(pbi, how='left', left_on='depto_origen', right_on='DPTO')\n",
    "\n",
    "df_agrupado = df_agrupado.merge(pbi, how='left', left_on='depto_destino', right_on='DPTO')\n",
    "\n",
    "drop_deptos(df_agrupado)\n",
    "\n",
    "df_agrupado.head(2)"
   ]
  },
  {
   "cell_type": "code",
   "execution_count": null,
   "metadata": {},
   "outputs": [],
   "source": [
    "# pega vecindad\n",
    "df_agrupado = df_agrupado.merge(vecindad, how='left', on='cod').drop(['dep1', 'dep2'], axis=1)\n",
    "df_agrupado['dummy_limit'] = True\n",
    "df_agrupado.loc[df_agrupado.largo_limite.isnull(), 'dummy_limit'] = False\n",
    "\n",
    "df_agrupado.head(2)"
   ]
  },
  {
   "cell_type": "code",
   "execution_count": null,
   "metadata": {},
   "outputs": [],
   "source": [
    "# pega empresas\n",
    "df_agrupado = df_agrupado.merge(empresas, how='left', left_on='depto_origen', right_on='DPTO')\n",
    "df_agrupado = df_agrupado.merge(empresas, how='left', left_on='depto_destino', right_on='DPTO')\n",
    "\n",
    "drop_deptos(df_agrupado)\n",
    "\n",
    "df_agrupado.head(2)"
   ]
  },
  {
   "cell_type": "code",
   "execution_count": null,
   "metadata": {},
   "outputs": [],
   "source": [
    "dict_rename = {\n",
    "    'miles_de_pesos_x':'pbi_origen',\n",
    "    'porcentaje_pbi_x': 'pbi_porcen_ori',\n",
    "    'miles_de_pesos_y':'pbi_destino',\n",
    "    'porcentaje_pbi_y': 'pbi_porcen_des',\n",
    "    'empresas_x':'empresas_origen',\n",
    "    'empresas_y': 'empresas_destino',\n",
    "    'miles_de_pesos':'pbi_destino',\n",
    "    'porcentaje_pbi': 'pbi_porcen_des',\n",
    "    'distancia':'dist',\n",
    "    'poblacion_y':'pob_destino',\n",
    "    'poblacion_x':'pob_origen'\n",
    "}\n",
    "\n",
    "df_agrupado.rename(dict_rename, inplace=True, axis=1)\n",
    "\n",
    "df_agrupado.head(2)"
   ]
  },
  {
   "cell_type": "code",
   "execution_count": null,
   "metadata": {},
   "outputs": [],
   "source": [
    "# genera otro DF igual a df_agrupado, pero llamado dd_deptos\n",
    "dd_deptos = df_agrupado\n",
    "\n",
    "print(dd_deptos.shape)"
   ]
  },
  {
   "cell_type": "code",
   "execution_count": null,
   "metadata": {},
   "outputs": [],
   "source": [
    "# calcula logaritmos\n",
    "def logaritmos(df, variables):\n",
    "    new_vars = ['log_' + sub for sub in variables]\n",
    "    nvars = len(variables)\n",
    "    for i in range(nvars):\n",
    "        df[new_vars[i]] = np.log(df[variables[i]])\n",
    "    return df\n",
    "\n",
    "# definir lista de variables sobre las cuales se quiere el logaritmo\n",
    "variables = ['pbi_destino', 'dist']\n",
    "\n",
    "dd_deptos = logaritmos(dd_deptos, variables)\n",
    "\n",
    "dd_deptos.head(2)"
   ]
  },
  {
   "cell_type": "code",
   "execution_count": null,
   "metadata": {},
   "outputs": [],
   "source": [
    "# decodifica el departamento (códigos INE)\n",
    "dd_deptos['nom_depto_orig'] = decode_depto(dd_deptos, 'depto_origen')\n",
    "dd_deptos['nom_depto_des'] = decode_depto(dd_deptos, 'depto_destino')\n",
    "\n",
    "dd_deptos.head(2)"
   ]
  },
  {
   "cell_type": "code",
   "execution_count": null,
   "metadata": {},
   "outputs": [],
   "source": [
    "# guarda\n",
    "dd_deptos.to_csv('tablas/dd_deptos.csv', index=False)"
   ]
  }
 ],
 "metadata": {
  "kernelspec": {
   "display_name": "Python 3.9.2 64-bit ('tesis': conda)",
   "language": "python",
   "name": "python392jvsc74a57bd05ce838cc175eb9c7ee2cce823ae805de6106cb4564d9fc7b3476b35fac8c9293"
  },
  "language_info": {
   "codemirror_mode": {
    "name": "ipython",
    "version": 3
   },
   "file_extension": ".py",
   "mimetype": "text/x-python",
   "name": "python",
   "nbconvert_exporter": "python",
   "pygments_lexer": "ipython3",
   "version": "3.7.10"
  },
  "metadata": {
   "interpreter": {
    "hash": "5ce838cc175eb9c7ee2cce823ae805de6106cb4564d9fc7b3476b35fac8c9293"
   }
  }
 },
 "nbformat": 4,
 "nbformat_minor": 4
}
