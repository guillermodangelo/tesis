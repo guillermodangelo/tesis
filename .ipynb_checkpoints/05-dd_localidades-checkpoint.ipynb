{
 "metadata": {
  "language_info": {
   "codemirror_mode": {
    "name": "ipython",
    "version": 3
   },
   "file_extension": ".py",
   "mimetype": "text/x-python",
   "name": "python",
   "nbconvert_exporter": "python",
   "pygments_lexer": "ipython3",
   "version": "3.9.2"
  },
  "orig_nbformat": 2,
  "kernelspec": {
   "name": "python392jvsc74a57bd05ce838cc175eb9c7ee2cce823ae805de6106cb4564d9fc7b3476b35fac8c9293",
   "display_name": "Python 3.9.2 64-bit ('tesis': conda)"
  },
  "metadata": {
   "interpreter": {
    "hash": "5ce838cc175eb9c7ee2cce823ae805de6106cb4564d9fc7b3476b35fac8c9293"
   }
  }
 },
 "nbformat": 4,
 "nbformat_minor": 2,
 "cells": [
  {
   "cell_type": "code",
   "execution_count": 1,
   "metadata": {},
   "outputs": [],
   "source": [
    "import pandas as pd\n",
    "import numpy as np\n",
    "import itertools\n",
    "\n",
    "# funciones desarrolladas\n",
    "from functions.cargar_data import *"
   ]
  },
  {
   "cell_type": "code",
   "execution_count": 2,
   "metadata": {},
   "outputs": [
    {
     "output_type": "stream",
     "name": "stdout",
     "text": [
      "(12323, 4)\n"
     ]
    },
    {
     "output_type": "execute_result",
     "data": {
      "text/plain": [
       "   loc_origen  loc_destino  personas_mig       cod\n",
       "0        1020         2220           635  10202220\n",
       "1        1020         2521            90  10202521"
      ],
      "text/html": "<div>\n<style scoped>\n    .dataframe tbody tr th:only-of-type {\n        vertical-align: middle;\n    }\n\n    .dataframe tbody tr th {\n        vertical-align: top;\n    }\n\n    .dataframe thead th {\n        text-align: right;\n    }\n</style>\n<table border=\"1\" class=\"dataframe\">\n  <thead>\n    <tr style=\"text-align: right;\">\n      <th></th>\n      <th>loc_origen</th>\n      <th>loc_destino</th>\n      <th>personas_mig</th>\n      <th>cod</th>\n    </tr>\n  </thead>\n  <tbody>\n    <tr>\n      <th>0</th>\n      <td>1020</td>\n      <td>2220</td>\n      <td>635</td>\n      <td>10202220</td>\n    </tr>\n    <tr>\n      <th>1</th>\n      <td>1020</td>\n      <td>2521</td>\n      <td>90</td>\n      <td>10202521</td>\n    </tr>\n  </tbody>\n</table>\n</div>"
     },
     "metadata": {},
     "execution_count": 2
    }
   ],
   "source": [
    "# calcula migrantes internos entre localidades\n",
    "pmigr = cargar_migrantes_internos()\n",
    "\n",
    "mig_loc  = pmigr.groupby(['loc_origen','loc_destino']).size().to_frame('personas_mig').reset_index()\n",
    "mig_loc['cod'] = (mig_loc.loc_origen.astype(str) + mig_loc.loc_destino.astype(str)).astype(int)\n",
    "\n",
    "print(mig_loc.shape)\n",
    "mig_loc.head(2)"
   ]
  },
  {
   "cell_type": "code",
   "execution_count": 3,
   "metadata": {},
   "outputs": [
    {
     "output_type": "stream",
     "name": "stdout",
     "text": [
      "(615, 2)\n"
     ]
    },
    {
     "output_type": "execute_result",
     "data": {
      "text/plain": [
       "   codloc  poblacion\n",
       "0    1020    1304729\n",
       "1    2220      40657"
      ],
      "text/html": "<div>\n<style scoped>\n    .dataframe tbody tr th:only-of-type {\n        vertical-align: middle;\n    }\n\n    .dataframe tbody tr th {\n        vertical-align: top;\n    }\n\n    .dataframe thead th {\n        text-align: right;\n    }\n</style>\n<table border=\"1\" class=\"dataframe\">\n  <thead>\n    <tr style=\"text-align: right;\">\n      <th></th>\n      <th>codloc</th>\n      <th>poblacion</th>\n    </tr>\n  </thead>\n  <tbody>\n    <tr>\n      <th>0</th>\n      <td>1020</td>\n      <td>1304729</td>\n    </tr>\n    <tr>\n      <th>1</th>\n      <td>2220</td>\n      <td>40657</td>\n    </tr>\n  </tbody>\n</table>\n</div>"
     },
     "metadata": {},
     "execution_count": 3
    }
   ],
   "source": [
    "# levanta población por localidad\n",
    "poblacion = pd.read_csv('tablas/localidades_censales_2011.csv', usecols=['codloc','poblacion'])\n",
    "\n",
    "print(poblacion.shape)\n",
    "poblacion.head(2)"
   ]
  },
  {
   "cell_type": "code",
   "execution_count": 4,
   "metadata": {},
   "outputs": [
    {
     "output_type": "stream",
     "name": "stdout",
     "text": [
      "(377610, 2)\n"
     ]
    },
    {
     "output_type": "execute_result",
     "data": {
      "text/plain": [
       "        cod  distancia_m\n",
       "0  22202521       137927\n",
       "1  22202522       111408"
      ],
      "text/html": "<div>\n<style scoped>\n    .dataframe tbody tr th:only-of-type {\n        vertical-align: middle;\n    }\n\n    .dataframe tbody tr th {\n        vertical-align: top;\n    }\n\n    .dataframe thead th {\n        text-align: right;\n    }\n</style>\n<table border=\"1\" class=\"dataframe\">\n  <thead>\n    <tr style=\"text-align: right;\">\n      <th></th>\n      <th>cod</th>\n      <th>distancia_m</th>\n    </tr>\n  </thead>\n  <tbody>\n    <tr>\n      <th>0</th>\n      <td>22202521</td>\n      <td>137927</td>\n    </tr>\n    <tr>\n      <th>1</th>\n      <td>22202522</td>\n      <td>111408</td>\n    </tr>\n  </tbody>\n</table>\n</div>"
     },
     "metadata": {},
     "execution_count": 4
    }
   ],
   "source": [
    "# levanta distancias\n",
    "dist = pd.read_csv('tablas/df_distancias_localidades.csv', usecols=['cod','distancia_m'])\n",
    "print(dist.shape)\n",
    "dist.head(2)"
   ]
  },
  {
   "cell_type": "code",
   "execution_count": 5,
   "metadata": {},
   "outputs": [],
   "source": [
    "def permutations(array):\n",
    "    \"Genera las combinaciones de pares de códigos posibles devolviendo un DF\"\n",
    "    _combi = list(itertools.permutations(array, 2))\n",
    "    _cod_ori = [x[0] for x in _combi]\n",
    "    _cod_des = [x[1] for x in _combi]\n",
    "    _combi_codes = [int(str(x[0]) + str(x[1])) for x in _combi]\n",
    "    data_tuples = list(zip(_combi_codes, _cod_ori, _cod_des, ))\n",
    "    cod = pd.DataFrame(data_tuples, columns=['cod', 'cod_ori', 'cod_des'])\n",
    "    return cod"
   ]
  },
  {
   "cell_type": "code",
   "execution_count": 6,
   "metadata": {},
   "outputs": [
    {
     "output_type": "execute_result",
     "data": {
      "text/plain": [
       "        cod  cod_ori  cod_des\n",
       "0  10202220     1020     2220\n",
       "1  10202521     1020     2521"
      ],
      "text/html": "<div>\n<style scoped>\n    .dataframe tbody tr th:only-of-type {\n        vertical-align: middle;\n    }\n\n    .dataframe tbody tr th {\n        vertical-align: top;\n    }\n\n    .dataframe thead th {\n        text-align: right;\n    }\n</style>\n<table border=\"1\" class=\"dataframe\">\n  <thead>\n    <tr style=\"text-align: right;\">\n      <th></th>\n      <th>cod</th>\n      <th>cod_ori</th>\n      <th>cod_des</th>\n    </tr>\n  </thead>\n  <tbody>\n    <tr>\n      <th>0</th>\n      <td>10202220</td>\n      <td>1020</td>\n      <td>2220</td>\n    </tr>\n    <tr>\n      <th>1</th>\n      <td>10202521</td>\n      <td>1020</td>\n      <td>2521</td>\n    </tr>\n  </tbody>\n</table>\n</div>"
     },
     "metadata": {},
     "execution_count": 6
    }
   ],
   "source": [
    "cod = permutations(poblacion.codloc.values)\n",
    "cod.head(2)"
   ]
  },
  {
   "cell_type": "code",
   "execution_count": 7,
   "metadata": {},
   "outputs": [
    {
     "output_type": "stream",
     "name": "stdout",
     "text": [
      "(377610, 5)\n"
     ]
    },
    {
     "output_type": "execute_result",
     "data": {
      "text/plain": [
       "        cod  cod_ori  cod_des  poblacion_ori  poblacion_des\n",
       "0  10202220     1020     2220        1304729          40657\n",
       "1  10202521     1020     2521        1304729          12200\n",
       "2  10202522     1020     2522        1304729           2659\n",
       "3  10202621     1020     2621        1304729           2531\n",
       "4  10202721     1020     2721        1304729            380"
      ],
      "text/html": "<div>\n<style scoped>\n    .dataframe tbody tr th:only-of-type {\n        vertical-align: middle;\n    }\n\n    .dataframe tbody tr th {\n        vertical-align: top;\n    }\n\n    .dataframe thead th {\n        text-align: right;\n    }\n</style>\n<table border=\"1\" class=\"dataframe\">\n  <thead>\n    <tr style=\"text-align: right;\">\n      <th></th>\n      <th>cod</th>\n      <th>cod_ori</th>\n      <th>cod_des</th>\n      <th>poblacion_ori</th>\n      <th>poblacion_des</th>\n    </tr>\n  </thead>\n  <tbody>\n    <tr>\n      <th>0</th>\n      <td>10202220</td>\n      <td>1020</td>\n      <td>2220</td>\n      <td>1304729</td>\n      <td>40657</td>\n    </tr>\n    <tr>\n      <th>1</th>\n      <td>10202521</td>\n      <td>1020</td>\n      <td>2521</td>\n      <td>1304729</td>\n      <td>12200</td>\n    </tr>\n    <tr>\n      <th>2</th>\n      <td>10202522</td>\n      <td>1020</td>\n      <td>2522</td>\n      <td>1304729</td>\n      <td>2659</td>\n    </tr>\n    <tr>\n      <th>3</th>\n      <td>10202621</td>\n      <td>1020</td>\n      <td>2621</td>\n      <td>1304729</td>\n      <td>2531</td>\n    </tr>\n    <tr>\n      <th>4</th>\n      <td>10202721</td>\n      <td>1020</td>\n      <td>2721</td>\n      <td>1304729</td>\n      <td>380</td>\n    </tr>\n  </tbody>\n</table>\n</div>"
     },
     "metadata": {},
     "execution_count": 7
    }
   ],
   "source": [
    "# pega población en origen y destino\n",
    "dd = cod.merge(poblacion, left_on='cod_ori', right_on='codloc', how='left')\n",
    "dd = dd.merge(poblacion, left_on='cod_des', right_on='codloc', how='left')\n",
    "dd.drop(['codloc_x', 'codloc_y'], axis=1, inplace=True)\n",
    "dd.rename({'poblacion_x': 'poblacion_ori', 'poblacion_y': 'poblacion_des'}, inplace=True, axis=1)\n",
    "print(dd.shape)\n",
    "dd.head()"
   ]
  },
  {
   "cell_type": "code",
   "execution_count": 8,
   "metadata": {},
   "outputs": [
    {
     "output_type": "execute_result",
     "data": {
      "text/plain": [
       "        cod  cod_ori  cod_des  poblacion_ori  poblacion_des  personas_mig\n",
       "0  10202220     1020     2220        1304729          40657         635.0\n",
       "1  10202521     1020     2521        1304729          12200          90.0\n",
       "2  10202522     1020     2522        1304729           2659          17.0\n",
       "3  10202621     1020     2621        1304729           2531           9.0\n",
       "4  10202721     1020     2721        1304729            380           NaN"
      ],
      "text/html": "<div>\n<style scoped>\n    .dataframe tbody tr th:only-of-type {\n        vertical-align: middle;\n    }\n\n    .dataframe tbody tr th {\n        vertical-align: top;\n    }\n\n    .dataframe thead th {\n        text-align: right;\n    }\n</style>\n<table border=\"1\" class=\"dataframe\">\n  <thead>\n    <tr style=\"text-align: right;\">\n      <th></th>\n      <th>cod</th>\n      <th>cod_ori</th>\n      <th>cod_des</th>\n      <th>poblacion_ori</th>\n      <th>poblacion_des</th>\n      <th>personas_mig</th>\n    </tr>\n  </thead>\n  <tbody>\n    <tr>\n      <th>0</th>\n      <td>10202220</td>\n      <td>1020</td>\n      <td>2220</td>\n      <td>1304729</td>\n      <td>40657</td>\n      <td>635.0</td>\n    </tr>\n    <tr>\n      <th>1</th>\n      <td>10202521</td>\n      <td>1020</td>\n      <td>2521</td>\n      <td>1304729</td>\n      <td>12200</td>\n      <td>90.0</td>\n    </tr>\n    <tr>\n      <th>2</th>\n      <td>10202522</td>\n      <td>1020</td>\n      <td>2522</td>\n      <td>1304729</td>\n      <td>2659</td>\n      <td>17.0</td>\n    </tr>\n    <tr>\n      <th>3</th>\n      <td>10202621</td>\n      <td>1020</td>\n      <td>2621</td>\n      <td>1304729</td>\n      <td>2531</td>\n      <td>9.0</td>\n    </tr>\n    <tr>\n      <th>4</th>\n      <td>10202721</td>\n      <td>1020</td>\n      <td>2721</td>\n      <td>1304729</td>\n      <td>380</td>\n      <td>NaN</td>\n    </tr>\n  </tbody>\n</table>\n</div>"
     },
     "metadata": {},
     "execution_count": 8
    }
   ],
   "source": [
    "# pega población migrante por díada\n",
    "dd = dd.merge(mig_loc, on='cod', how='left').drop(['loc_origen', 'loc_destino'], axis=1)\n",
    "dd.head()"
   ]
  },
  {
   "cell_type": "code",
   "execution_count": 9,
   "metadata": {},
   "outputs": [],
   "source": [
    "# pega distancias\n",
    "dd = dd.merge(dist, on='cod')"
   ]
  },
  {
   "cell_type": "code",
   "execution_count": 10,
   "metadata": {},
   "outputs": [
    {
     "output_type": "execute_result",
     "data": {
      "text/plain": [
       "        cod  cod_ori  cod_des  poblacion_ori  poblacion_des  personas_mig  \\\n",
       "0  10202220     1020     2220        1304729          40657         635.0   \n",
       "1  10202521     1020     2521        1304729          12200          90.0   \n",
       "2  10202522     1020     2522        1304729           2659          17.0   \n",
       "3  10202621     1020     2621        1304729           2531           9.0   \n",
       "4  10202721     1020     2721        1304729            380           NaN   \n",
       "\n",
       "   distancia_m  \n",
       "0       583715  \n",
       "1       612802  \n",
       "2       617076  \n",
       "3       595785  \n",
       "4       628213  "
      ],
      "text/html": "<div>\n<style scoped>\n    .dataframe tbody tr th:only-of-type {\n        vertical-align: middle;\n    }\n\n    .dataframe tbody tr th {\n        vertical-align: top;\n    }\n\n    .dataframe thead th {\n        text-align: right;\n    }\n</style>\n<table border=\"1\" class=\"dataframe\">\n  <thead>\n    <tr style=\"text-align: right;\">\n      <th></th>\n      <th>cod</th>\n      <th>cod_ori</th>\n      <th>cod_des</th>\n      <th>poblacion_ori</th>\n      <th>poblacion_des</th>\n      <th>personas_mig</th>\n      <th>distancia_m</th>\n    </tr>\n  </thead>\n  <tbody>\n    <tr>\n      <th>0</th>\n      <td>10202220</td>\n      <td>1020</td>\n      <td>2220</td>\n      <td>1304729</td>\n      <td>40657</td>\n      <td>635.0</td>\n      <td>583715</td>\n    </tr>\n    <tr>\n      <th>1</th>\n      <td>10202521</td>\n      <td>1020</td>\n      <td>2521</td>\n      <td>1304729</td>\n      <td>12200</td>\n      <td>90.0</td>\n      <td>612802</td>\n    </tr>\n    <tr>\n      <th>2</th>\n      <td>10202522</td>\n      <td>1020</td>\n      <td>2522</td>\n      <td>1304729</td>\n      <td>2659</td>\n      <td>17.0</td>\n      <td>617076</td>\n    </tr>\n    <tr>\n      <th>3</th>\n      <td>10202621</td>\n      <td>1020</td>\n      <td>2621</td>\n      <td>1304729</td>\n      <td>2531</td>\n      <td>9.0</td>\n      <td>595785</td>\n    </tr>\n    <tr>\n      <th>4</th>\n      <td>10202721</td>\n      <td>1020</td>\n      <td>2721</td>\n      <td>1304729</td>\n      <td>380</td>\n      <td>NaN</td>\n      <td>628213</td>\n    </tr>\n  </tbody>\n</table>\n</div>"
     },
     "metadata": {},
     "execution_count": 10
    }
   ],
   "source": [
    "dd.head()"
   ]
  },
  {
   "cell_type": "code",
   "execution_count": 11,
   "metadata": {},
   "outputs": [],
   "source": [
    "# exporta a CSV\n",
    "dd.to_csv('tablas/dd_localidades.csv', index=False)"
   ]
  }
 ]
}