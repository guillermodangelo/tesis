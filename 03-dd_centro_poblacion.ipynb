{
 "cells": [
  {
   "cell_type": "code",
   "execution_count": 1,
   "metadata": {},
   "outputs": [],
   "source": [
    "# from osgeo import ogr\n",
    "from shapely.geometry import MultiLineString, Polygon, MultiPolygon\n",
    "from shapely import wkt\n",
    "import numpy as np\n",
    "import pandas as pd\n",
    "import geopandas as gpd\n",
    "import matplotlib.pyplot as plt\n",
    "import pylab as pl\n",
    "from functions.geograficas import *\n",
    "from functions.cargar_data import *"
   ]
  },
  {
   "cell_type": "code",
   "execution_count": 2,
   "metadata": {},
   "outputs": [
    {
     "data": {
      "text/plain": [
       "(4302, 12)"
      ]
     },
     "execution_count": 2,
     "metadata": {},
     "output_type": "execute_result"
    }
   ],
   "source": [
    "# capa de deptos\n",
    "deptos = gpd.read_file('capas/ine_deptos.gpkg')\n",
    "\n",
    "# zonas 2011\n",
    "zonas = gpd.read_file('capas/ine_zonas_11.gpkg')\n",
    "\n",
    "# personas censo 96\n",
    "personas96 = cargar_censo_96()\n",
    "\n",
    "# personas censo 2011\n",
    "# censo = pd.read_csv('tablas/personas_censo_2011.gz', compression='gzip',\n",
    "#                     header=0, sep=',', quotechar='\"')\n",
    "\n",
    "cols = ['DPTO', 'LOC', 'SECC', 'SEGM','PERPH02']\n",
    "censo = cargar_censo_vars(cols)\n",
    "\n",
    "# carga capa de segmentos censales\n",
    "seg = gpd.read_file('capas/ine_segm_11.gpkg')\n",
    "seg['CODSEG'] = seg['CODSEG'].astype(str)\n",
    "seg.drop_duplicates('CODSEG', inplace=True)\n",
    "seg.shape"
   ]
  },
  {
   "cell_type": "code",
   "execution_count": 3,
   "metadata": {},
   "outputs": [
    {
     "name": "stdout",
     "output_type": "stream",
     "text": [
      "(4283, 6)\n"
     ]
    },
    {
     "data": {
      "text/html": [
       "<div>\n",
       "<style scoped>\n",
       "    .dataframe tbody tr th:only-of-type {\n",
       "        vertical-align: middle;\n",
       "    }\n",
       "\n",
       "    .dataframe tbody tr th {\n",
       "        vertical-align: top;\n",
       "    }\n",
       "\n",
       "    .dataframe thead th {\n",
       "        text-align: right;\n",
       "    }\n",
       "</style>\n",
       "<table border=\"1\" class=\"dataframe\">\n",
       "  <thead>\n",
       "    <tr style=\"text-align: right;\">\n",
       "      <th></th>\n",
       "      <th>DPTO</th>\n",
       "      <th>LOC</th>\n",
       "      <th>SECC</th>\n",
       "      <th>SEGM</th>\n",
       "      <th>poblacion</th>\n",
       "      <th>CODSEG</th>\n",
       "    </tr>\n",
       "  </thead>\n",
       "  <tbody>\n",
       "    <tr>\n",
       "      <th>0</th>\n",
       "      <td>1</td>\n",
       "      <td>20</td>\n",
       "      <td>1</td>\n",
       "      <td>1</td>\n",
       "      <td>696</td>\n",
       "      <td>101001</td>\n",
       "    </tr>\n",
       "    <tr>\n",
       "      <th>1</th>\n",
       "      <td>1</td>\n",
       "      <td>20</td>\n",
       "      <td>1</td>\n",
       "      <td>2</td>\n",
       "      <td>660</td>\n",
       "      <td>101002</td>\n",
       "    </tr>\n",
       "    <tr>\n",
       "      <th>2</th>\n",
       "      <td>1</td>\n",
       "      <td>20</td>\n",
       "      <td>1</td>\n",
       "      <td>3</td>\n",
       "      <td>786</td>\n",
       "      <td>101003</td>\n",
       "    </tr>\n",
       "    <tr>\n",
       "      <th>3</th>\n",
       "      <td>1</td>\n",
       "      <td>20</td>\n",
       "      <td>1</td>\n",
       "      <td>104</td>\n",
       "      <td>882</td>\n",
       "      <td>101104</td>\n",
       "    </tr>\n",
       "    <tr>\n",
       "      <th>4</th>\n",
       "      <td>1</td>\n",
       "      <td>20</td>\n",
       "      <td>1</td>\n",
       "      <td>105</td>\n",
       "      <td>818</td>\n",
       "      <td>101105</td>\n",
       "    </tr>\n",
       "  </tbody>\n",
       "</table>\n",
       "</div>"
      ],
      "text/plain": [
       "   DPTO  LOC  SECC  SEGM  poblacion  CODSEG\n",
       "0     1   20     1     1        696  101001\n",
       "1     1   20     1     2        660  101002\n",
       "2     1   20     1     3        786  101003\n",
       "3     1   20     1   104        882  101104\n",
       "4     1   20     1   105        818  101105"
      ]
     },
     "execution_count": 3,
     "metadata": {},
     "output_type": "execute_result"
    }
   ],
   "source": [
    "# calcula la población de cada segmento censal\n",
    "poblacion = censo[cols].groupby(by=['DPTO','LOC', 'SECC', 'SEGM']).count()\n",
    "poblacion.rename(columns={'PERPH02': 'poblacion'}, inplace=True)\n",
    "\n",
    "poblacion.reset_index(inplace=True)\n",
    "\n",
    "# genera cod seg\n",
    "poblacion['CODSEG'] = get_codseg(poblacion)\n",
    "\n",
    "print(poblacion.shape)\n",
    "poblacion.head()"
   ]
  },
  {
   "cell_type": "code",
   "execution_count": 4,
   "metadata": {},
   "outputs": [],
   "source": [
    "poblacion.drop_duplicates('CODSEG', inplace=True)"
   ]
  },
  {
   "cell_type": "code",
   "execution_count": 5,
   "metadata": {},
   "outputs": [],
   "source": [
    "pobl_seg = pd.merge(seg, poblacion, on='CODSEG')"
   ]
  },
  {
   "cell_type": "markdown",
   "metadata": {},
   "source": [
    "### Ecuación del centro medio de población\n",
    "\n",
    "$$\n",
    "\\overline{X}_w=\\frac{\\sum_{i=1}^{n}w_{i}X_{i}}{\\sum_{i=1}^{n} w_{i}}\n",
    "$$\n",
    "\n",
    "\n",
    "$$\n",
    "\\overline{Y}_w=\\frac{\\sum_{i=1}^{n}w_{i}Y_{i}}{\\sum_{i=1}^{n} w_{i}}\n",
    "$$"
   ]
  },
  {
   "cell_type": "markdown",
   "metadata": {},
   "source": [
    "## Centro medio de población 2011"
   ]
  },
  {
   "cell_type": "code",
   "execution_count": 6,
   "metadata": {},
   "outputs": [],
   "source": [
    "xmean, ymean = centro_medio(pobl_seg, 'DPTO', 'poblacion')"
   ]
  },
  {
   "cell_type": "code",
   "execution_count": 7,
   "metadata": {},
   "outputs": [
    {
     "data": {
      "text/html": [
       "<div>\n",
       "<style scoped>\n",
       "    .dataframe tbody tr th:only-of-type {\n",
       "        vertical-align: middle;\n",
       "    }\n",
       "\n",
       "    .dataframe tbody tr th {\n",
       "        vertical-align: top;\n",
       "    }\n",
       "\n",
       "    .dataframe thead th {\n",
       "        text-align: right;\n",
       "    }\n",
       "</style>\n",
       "<table border=\"1\" class=\"dataframe\">\n",
       "  <thead>\n",
       "    <tr style=\"text-align: right;\">\n",
       "      <th></th>\n",
       "      <th>DEPTO</th>\n",
       "      <th>geometry</th>\n",
       "    </tr>\n",
       "  </thead>\n",
       "  <tbody>\n",
       "    <tr>\n",
       "      <th>0</th>\n",
       "      <td>1</td>\n",
       "      <td>POINT (575497.000 6141786.000)</td>\n",
       "    </tr>\n",
       "    <tr>\n",
       "      <th>1</th>\n",
       "      <td>2</td>\n",
       "      <td>POINT (517717.000 6636093.000)</td>\n",
       "    </tr>\n",
       "    <tr>\n",
       "      <th>2</th>\n",
       "      <td>3</td>\n",
       "      <td>POINT (587353.000 6159278.000)</td>\n",
       "    </tr>\n",
       "    <tr>\n",
       "      <th>3</th>\n",
       "      <td>4</td>\n",
       "      <td>POINT (777711.000 6409999.000)</td>\n",
       "    </tr>\n",
       "    <tr>\n",
       "      <th>4</th>\n",
       "      <td>5</td>\n",
       "      <td>POINT (431654.000 6211872.000)</td>\n",
       "    </tr>\n",
       "  </tbody>\n",
       "</table>\n",
       "</div>"
      ],
      "text/plain": [
       "   DEPTO                        geometry\n",
       "0      1  POINT (575497.000 6141786.000)\n",
       "1      2  POINT (517717.000 6636093.000)\n",
       "2      3  POINT (587353.000 6159278.000)\n",
       "3      4  POINT (777711.000 6409999.000)\n",
       "4      5  POINT (431654.000 6211872.000)"
      ]
     },
     "execution_count": 7,
     "metadata": {},
     "output_type": "execute_result"
    }
   ],
   "source": [
    "mean_center_gdf = gpd.GeoDataFrame({'DEPTO': np.arange(1,20)},\n",
    "                                   geometry=gpd.points_from_xy(xmean, ymean),\n",
    "                                   crs= 'epsg:32721')\n",
    "\n",
    "mean_center_gdf.head()"
   ]
  },
  {
   "cell_type": "code",
   "execution_count": 8,
   "metadata": {},
   "outputs": [
    {
     "data": {
      "text/plain": [
       "<matplotlib.legend.Legend at 0x7f45c384b190>"
      ]
     },
     "execution_count": 8,
     "metadata": {},
     "output_type": "execute_result"
    },
    {
     "data": {
      "image/png": "[encoded data removed]",
      "text/plain": [
       "<Figure size 800x600 with 1 Axes>"
      ]
     },
     "metadata": {},
     "output_type": "display_data"
    }
   ],
   "source": [
    "# plot de las capas de departamentos y localidades\n",
    "plt.style.use('default')\n",
    "\n",
    "f, ax = pl.subplots(figsize=(8,6))\n",
    "\n",
    "# deptos\n",
    "deptos.plot(linewidth = 0.7, edgecolor='black', color = 'grey', alpha=0.1, ax = ax)\n",
    "\n",
    "# localidades\n",
    "mean_center_gdf.plot(markersize=14, color = 'red', ax = ax, label='Centro medio de población')\n",
    "deptos.geometry.centroid.plot(markersize=5, color = 'grey', ax = ax, label='Centroide')\n",
    "\n",
    "# oculta ejes\n",
    "ax.get_xaxis().set_visible(False)\n",
    "ax.get_yaxis().set_visible(False)\n",
    "\n",
    "# hide spines\n",
    "[ax.spines[i].set_visible(False) for i in ['right', 'top', 'left', 'bottom']]\n",
    "\n",
    "# título\n",
    "pl.title(\"Centroide vs. Centro de Población (datos Censo 2011)\", size=12)\n",
    "\n",
    "# referencias\n",
    "plt.legend(frameon=False)"
   ]
  },
  {
   "cell_type": "code",
   "execution_count": 9,
   "metadata": {},
   "outputs": [],
   "source": [
    "# # exporta geopaquete\n",
    "# mean_center_gdf.to_file(\"capas/centro_poblacion.gpkg\",\n",
    "#                         layer='centro_de_poblacion', driver=\"GPKG\")"
   ]
  },
  {
   "cell_type": "code",
   "execution_count": 13,
   "metadata": {},
   "outputs": [],
   "source": [
    "# data para webmap\n",
    "mean_center_webmap = mean_center_gdf.to_crs(4326).rename({'DEPTO': 'id'}, axis = 1)\n",
    "mean_center_webmap['name'] = decode_depto_pretty(mean_center_webmap.id)\n",
    "mean_center_webmap['lat'] = round(mean_center_webmap.geometry.y, 5)\n",
    "mean_center_webmap['lon'] = round(mean_center_webmap.geometry.x, 5)\n",
    "mean_center_webmap = mean_center_webmap.drop('geometry', axis=1)\n",
    "mean_center_webmap.to_csv(\"webmap_flows/nodes.csv\", index=False)"
   ]
  },
  {
   "cell_type": "markdown",
   "metadata": {},
   "source": [
    "## Centro medio de población 1996"
   ]
  },
  {
   "cell_type": "code",
   "execution_count": null,
   "metadata": {},
   "outputs": [],
   "source": [
    "capa_96 = zonas.merge(personas96, left_on='CODCOMP', right_on='CCOMP04', how='inner')\n",
    "capa_96 = capa_96.loc[:, ['DEPTO', 'CODCOMP','CCOMP04','personas','geometry']]\n",
    "capa_96.head()"
   ]
  },
  {
   "cell_type": "code",
   "execution_count": null,
   "metadata": {},
   "outputs": [],
   "source": [
    "xmean, ymean = centro_medio(capa_96, 'DEPTO', 'personas')"
   ]
  },
  {
   "cell_type": "code",
   "execution_count": null,
   "metadata": {},
   "outputs": [],
   "source": [
    "mean_center_gdf_96 = gpd.GeoDataFrame({'DEPTO': np.arange(1,20)},\n",
    "                                   geometry=gpd.points_from_xy(xmean, ymean),\n",
    "                                   crs= 'epsg:32721')\n",
    "\n",
    "mean_center_gdf_96.head()"
   ]
  },
  {
   "cell_type": "code",
   "execution_count": null,
   "metadata": {},
   "outputs": [],
   "source": [
    "# plot de las capas de departamentos y localidades\n",
    "plt.style.use('default')\n",
    "\n",
    "f, ax = pl.subplots(figsize=(8,6))\n",
    "\n",
    "# deptos\n",
    "deptos.plot(linewidth = 0.7, edgecolor='black', color = 'grey', alpha=0.1, ax = ax)\n",
    "\n",
    "# localidades\n",
    "mean_center_gdf.plot(markersize=14, color = 'red', ax = ax, label='Centro medio de población 2011')\n",
    "mean_center_gdf_96.plot(markersize=14, color = 'blue', ax = ax, label='Centro medio de población 1996')\n",
    "deptos.geometry.centroid.plot(markersize=5, color = 'grey', ax = ax, label='Centroide')\n",
    "\n",
    "# oculta ejes\n",
    "ax.get_xaxis().set_visible(False)\n",
    "ax.get_yaxis().set_visible(False)\n",
    "\n",
    "# hide spines\n",
    "[ax.spines[i].set_visible(False) for i in ['right', 'top', 'left', 'bottom']]\n",
    "\n",
    "# título\n",
    "pl.title(\"Centroide vs. Centros de Población (Censos 1996 y 2011)\", size=12)\n",
    "\n",
    "# referencias\n",
    "# plt.legend(frameon=False)"
   ]
  }
 ],
 "metadata": {
  "kernelspec": {
   "display_name": "Python 3",
   "language": "python",
   "name": "python3"
  },
  "language_info": {
   "codemirror_mode": {
    "name": "ipython",
    "version": 3
   },
   "file_extension": ".py",
   "mimetype": "text/x-python",
   "name": "python",
   "nbconvert_exporter": "python",
   "pygments_lexer": "ipython3",
   "version": "3.7.10"
  }
 },
 "nbformat": 4,
 "nbformat_minor": 4
}
