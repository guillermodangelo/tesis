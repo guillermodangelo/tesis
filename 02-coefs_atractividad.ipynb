{
 "cells": [
  {
   "cell_type": "code",
   "execution_count": 2,
   "id": "cf39e1dd",
   "metadata": {},
   "outputs": [
    {
     "ename": "AttributeError",
     "evalue": "partially initialized module 'pandas' has no attribute 'core' (most likely due to a circular import)",
     "output_type": "error",
     "traceback": [
      "\u001b[1;31m---------------------------------------------------------------------------\u001b[0m",
      "\u001b[1;31mAttributeError\u001b[0m                            Traceback (most recent call last)",
      "\u001b[1;32m<ipython-input-2-01664b06c4d6>\u001b[0m in \u001b[0;36m<module>\u001b[1;34m\u001b[0m\n\u001b[1;32m----> 1\u001b[1;33m \u001b[1;32mimport\u001b[0m \u001b[0mpandas\u001b[0m \u001b[1;32mas\u001b[0m \u001b[0mpd\u001b[0m\u001b[1;33m\u001b[0m\u001b[1;33m\u001b[0m\u001b[0m\n\u001b[0m\u001b[0;32m      2\u001b[0m \u001b[1;32mimport\u001b[0m \u001b[0mnumpy\u001b[0m \u001b[1;32mas\u001b[0m \u001b[0mnp\u001b[0m\u001b[1;33m\u001b[0m\u001b[1;33m\u001b[0m\u001b[0m\n\u001b[0;32m      3\u001b[0m \u001b[1;33m\u001b[0m\u001b[0m\n\u001b[0;32m      4\u001b[0m \u001b[1;32mfrom\u001b[0m \u001b[0mfunctions\u001b[0m\u001b[1;33m.\u001b[0m\u001b[0mcargar_data\u001b[0m \u001b[1;32mimport\u001b[0m \u001b[1;33m*\u001b[0m\u001b[1;33m\u001b[0m\u001b[1;33m\u001b[0m\u001b[0m\n",
      "\u001b[1;32m~\\anaconda3\\envs\\tesis\\lib\\site-packages\\pandas\\__init__.py\u001b[0m in \u001b[0;36m<module>\u001b[1;34m\u001b[0m\n\u001b[0;32m    177\u001b[0m \u001b[1;33m\u001b[0m\u001b[0m\n\u001b[0;32m    178\u001b[0m \u001b[1;32mfrom\u001b[0m \u001b[0mpandas\u001b[0m\u001b[1;33m.\u001b[0m\u001b[0mutil\u001b[0m\u001b[1;33m.\u001b[0m\u001b[0m_tester\u001b[0m \u001b[1;32mimport\u001b[0m \u001b[0mtest\u001b[0m\u001b[1;33m\u001b[0m\u001b[1;33m\u001b[0m\u001b[0m\n\u001b[1;32m--> 179\u001b[1;33m \u001b[1;32mimport\u001b[0m \u001b[0mpandas\u001b[0m\u001b[1;33m.\u001b[0m\u001b[0mtesting\u001b[0m\u001b[1;33m\u001b[0m\u001b[1;33m\u001b[0m\u001b[0m\n\u001b[0m\u001b[0;32m    180\u001b[0m \u001b[1;32mimport\u001b[0m \u001b[0mpandas\u001b[0m\u001b[1;33m.\u001b[0m\u001b[0marrays\u001b[0m\u001b[1;33m\u001b[0m\u001b[1;33m\u001b[0m\u001b[0m\n\u001b[0;32m    181\u001b[0m \u001b[1;33m\u001b[0m\u001b[0m\n",
      "\u001b[1;32m~\\anaconda3\\envs\\tesis\\lib\\site-packages\\pandas\\testing.py\u001b[0m in \u001b[0;36m<module>\u001b[1;34m\u001b[0m\n\u001b[0;32m      3\u001b[0m \"\"\"\n\u001b[0;32m      4\u001b[0m \u001b[1;33m\u001b[0m\u001b[0m\n\u001b[1;32m----> 5\u001b[1;33m from pandas._testing import (\n\u001b[0m\u001b[0;32m      6\u001b[0m     \u001b[0massert_extension_array_equal\u001b[0m\u001b[1;33m,\u001b[0m\u001b[1;33m\u001b[0m\u001b[1;33m\u001b[0m\u001b[0m\n\u001b[0;32m      7\u001b[0m     \u001b[0massert_frame_equal\u001b[0m\u001b[1;33m,\u001b[0m\u001b[1;33m\u001b[0m\u001b[1;33m\u001b[0m\u001b[0m\n",
      "\u001b[1;32m~\\anaconda3\\envs\\tesis\\lib\\site-packages\\pandas\\_testing.py\u001b[0m in \u001b[0;36m<module>\u001b[1;34m\u001b[0m\n\u001b[0;32m   3052\u001b[0m \u001b[1;33m\u001b[0m\u001b[0m\n\u001b[0;32m   3053\u001b[0m \u001b[1;33m\u001b[0m\u001b[0m\n\u001b[1;32m-> 3054\u001b[1;33m \u001b[0mcython_table\u001b[0m \u001b[1;33m=\u001b[0m \u001b[0mpd\u001b[0m\u001b[1;33m.\u001b[0m\u001b[0mcore\u001b[0m\u001b[1;33m.\u001b[0m\u001b[0mbase\u001b[0m\u001b[1;33m.\u001b[0m\u001b[0mSelectionMixin\u001b[0m\u001b[1;33m.\u001b[0m\u001b[0m_cython_table\u001b[0m\u001b[1;33m.\u001b[0m\u001b[0mitems\u001b[0m\u001b[1;33m(\u001b[0m\u001b[1;33m)\u001b[0m\u001b[1;33m\u001b[0m\u001b[1;33m\u001b[0m\u001b[0m\n\u001b[0m\u001b[0;32m   3055\u001b[0m \u001b[1;33m\u001b[0m\u001b[0m\n\u001b[0;32m   3056\u001b[0m \u001b[1;33m\u001b[0m\u001b[0m\n",
      "\u001b[1;31mAttributeError\u001b[0m: partially initialized module 'pandas' has no attribute 'core' (most likely due to a circular import)"
     ]
    }
   ],
   "source": [
    "import pandas as pd\n",
    "import numpy as np\n",
    "\n",
    "from functions.cargar_data import *"
   ]
  },
  {
   "cell_type": "code",
   "execution_count": null,
   "id": "f3befe6e",
   "metadata": {},
   "outputs": [],
   "source": [
    "atr1996 = pd.read_csv('tablas/atractividad_1996.csv',\n",
    "                      index_col='deptos')\n",
    "atr1996"
   ]
  },
  {
   "cell_type": "code",
   "execution_count": null,
   "id": "02f041b4",
   "metadata": {},
   "outputs": [],
   "source": [
    "# guarda como numpy array \n",
    "atr1996_ar = np.array(atr1996)"
   ]
  },
  {
   "cell_type": "code",
   "execution_count": null,
   "id": "e0b31534",
   "metadata": {},
   "outputs": [],
   "source": [
    "p_migr = cargar_migrantes_internos()\n",
    "p_migr"
   ]
  },
  {
   "cell_type": "code",
   "execution_count": null,
   "id": "1832f04d",
   "metadata": {},
   "outputs": [],
   "source": [
    "pobl = recuperar_poblacion_2011()\n",
    "pobl.head(3)"
   ]
  },
  {
   "cell_type": "code",
   "execution_count": null,
   "id": "dac6cec6",
   "metadata": {},
   "outputs": [],
   "source": [
    "# genera un sólo dataframe solo para deptos\n",
    "flujos_deptos = p_migr.loc[p_migr.depto_origen != p_migr.depto_destino, ['depto_origen', 'depto_destino']]\n",
    "grupo = flujos_deptos.groupby(by=['depto_origen', 'depto_destino']).size()\n",
    "grupo = pd.DataFrame(grupo, columns=['Mij']).reset_index()\n",
    "grupo.head()"
   ]
  },
  {
   "cell_type": "code",
   "execution_count": null,
   "id": "3bd4a0a0",
   "metadata": {},
   "outputs": [],
   "source": [
    "# genera un sólo dataframe solo para deptos\n",
    "flujos_deptos = p_migr.loc[p_migr.depto_origen != p_migr.depto_destino, ['depto_origen', 'depto_destino']]\n",
    "Mji = list(flujos_deptos.groupby(by=['depto_destino', 'depto_origen']).size())\n",
    "grupo['Mji'] = Mji\n",
    "grupo.head()"
   ]
  },
  {
   "cell_type": "code",
   "execution_count": null,
   "id": "2de84a56",
   "metadata": {},
   "outputs": [],
   "source": [
    "grupo_pob = grupo.merge(pobl, left_on='depto_origen', right_on='DPTO')\n",
    "grupo_pob = grupo_pob.merge(pobl, left_on='depto_destino', right_on='DPTO')\n",
    "grupo_pob.drop(['DPTO_x', 'DPTO_y'], axis=1, inplace=True)\n",
    "grupo_pob.rename({'poblacion_x': 'Pi', 'poblacion_y': 'Pj'}, inplace=True, axis=1)\n",
    "grupo_pob.head()"
   ]
  },
  {
   "cell_type": "code",
   "execution_count": null,
   "id": "e4e59941",
   "metadata": {},
   "outputs": [],
   "source": [
    "# calcula cam\n",
    "grupo_pob['cam'] = (grupo_pob.Mij + grupo_pob.Mji) / (grupo_pob.Pi + grupo_pob.Pj) * 1000\n",
    "\n",
    "# redondea\n",
    "grupo_pob['cam_round'] = round(grupo_pob.cam).astype(int)"
   ]
  },
  {
   "cell_type": "code",
   "execution_count": null,
   "id": "570cfa10",
   "metadata": {},
   "outputs": [],
   "source": [
    "atr2011 = pd.pivot_table(grupo_pob,\n",
    "                        values='cam_round',\n",
    "                        index ='depto_origen',\n",
    "                        columns='depto_destino',\n",
    "                        fill_value=0).iloc[1:19, 0:18]\n",
    "\n",
    "atr2011"
   ]
  },
  {
   "cell_type": "code",
   "execution_count": null,
   "id": "bb579194",
   "metadata": {},
   "outputs": [],
   "source": [
    "# convierte en array y reemplaza el triángulo superior por ceros\n",
    "atr2011_ar = np.tril(np.array(atr2011))\n",
    "print(atr2011_ar)"
   ]
  },
  {
   "cell_type": "code",
   "execution_count": null,
   "id": "c47414a6",
   "metadata": {},
   "outputs": [],
   "source": [
    "np.nanmax((atr2011_ar - atr1996_ar))"
   ]
  },
  {
   "cell_type": "code",
   "execution_count": null,
   "id": "523abb4c",
   "metadata": {},
   "outputs": [],
   "source": []
  }
 ],
 "metadata": {
  "kernelspec": {
   "display_name": "Python (tesis)",
   "language": "python",
   "name": "tesis"
  },
  "language_info": {
   "codemirror_mode": {
    "name": "ipython",
    "version": 3
   },
   "file_extension": ".py",
   "mimetype": "text/x-python",
   "name": "python",
   "nbconvert_exporter": "python",
   "pygments_lexer": "ipython3",
   "version": "3.8.8"
  }
 },
 "nbformat": 4,
 "nbformat_minor": 5
}
